{
 "cells": [
  {
   "cell_type": "code",
   "execution_count": 1,
   "metadata": {},
   "outputs": [],
   "source": [
    "import re\n",
    "import sys\n",
    "import subprocess\n",
    "from pathlib import Path\n",
    "\n",
    "sys.path.append('../src')\n",
    "\n",
    "from utils import run_cmd"
   ]
  },
  {
   "cell_type": "code",
   "execution_count": 2,
   "metadata": {},
   "outputs": [],
   "source": [
    "def assembly_graphs_visualization(graph_file, outfile):\n",
    "    program_name = '/media/GenomicResearch/Tools/Bandage-0.8.1/Bandage'\n",
    "    run_cmd(f'{program_name} image {graph_file} {outfile} --lengths --fontsize 4 --names --height 1500')\n",
    "\n",
    "def genome_is_complete(graph_file):\n",
    "    program_name = '/media/GenomicResearch/Tools/Bandage-0.8.1/Bandage'\n",
    "    p = run_cmd(f'{program_name} info {graph_file}')\n",
    "    info = p.stdout.decode().strip().split('\\n')\n",
    "    \n",
    "    values = []\n",
    "    for i in info:\n",
    "        separate_site = re.search(':\\s+', i).group()\n",
    "        value = i.split(separate_site)\n",
    "        values.append(value)\n",
    "    values = dict(values)\n",
    "    return values['Node count'] == values['Edge count'] == values['Connected components']"
   ]
  },
  {
   "cell_type": "code",
   "execution_count": 17,
   "metadata": {},
   "outputs": [],
   "source": [
    "assembly_graphs_visualization(\n",
    "    '/media/Central_Lab_Storage/MinION/20211026_TUH_Sal05_07/denovo/barcode26/flye-unpolished.gfa',\n",
    "    '/media/Central_Lab_Storage/MinION/20211026_TUH_Sal05_07/denovo/barcode26/flye-unpolished.png',\n",
    ")"
   ]
  },
  {
   "cell_type": "code",
   "execution_count": null,
   "metadata": {},
   "outputs": [],
   "source": [
    "dirpath = Path('/media/Central_Lab_Storage/MinION_2022/20220106_Sal/unicycler/R18.0246')\n",
    "for i in dirpath.glob('*.gfa'):\n",
    "    assembly_graphs_visualization(i, dirpath/(i.stem + '.png'))"
   ]
  },
  {
   "cell_type": "code",
   "execution_count": 51,
   "metadata": {},
   "outputs": [
    {
     "data": {
      "text/plain": [
       "True"
      ]
     },
     "execution_count": 51,
     "metadata": {},
     "output_type": "execute_result"
    }
   ],
   "source": [
    "genome_is_complete('/media/NGS/Nanopore_1/mNGS/20210204_Time/denovo/barcode08/flye/assembly_graph.gfa')"
   ]
  },
  {
   "cell_type": "code",
   "execution_count": 3,
   "metadata": {},
   "outputs": [],
   "source": [
    "dirpath = Path('/media/Central_Lab_Storage/MinION_2022/20220106_Sal/unicycler')\n",
    "outpath = Path('/media/Central_Lab_Storage/MinION_2022/20220106_Sal/Bandage')\n",
    "\n",
    "for i in dirpath.iterdir():\n",
    "    assembly_graphs_visualization(i/'assembly.gfa', outpath/(i.name + '.png'))"
   ]
  },
  {
   "cell_type": "code",
   "execution_count": 8,
   "metadata": {},
   "outputs": [],
   "source": [
    "dirpath = Path('/media/Central_Lab_Storage/MinION/20211109_BCC5_ICU007/denovo/')\n",
    "outpath = Path('/media/Central_Lab_Storage/MinION/20211109_BCC5_ICU007/Bandage')\n",
    "\n",
    "for i in dirpath.iterdir():\n",
    "    assembly_graphs_visualization(i/'flye-unpolished.gfa', outpath/(i.name + '.png'))"
   ]
  },
  {
   "cell_type": "code",
   "execution_count": null,
   "metadata": {},
   "outputs": [],
   "source": []
  }
 ],
 "metadata": {
  "kernelspec": {
   "display_name": "Python 3",
   "language": "python",
   "name": "python3"
  },
  "language_info": {
   "codemirror_mode": {
    "name": "ipython",
    "version": 3
   },
   "file_extension": ".py",
   "mimetype": "text/x-python",
   "name": "python",
   "nbconvert_exporter": "python",
   "pygments_lexer": "ipython3",
   "version": "3.6.13"
  }
 },
 "nbformat": 4,
 "nbformat_minor": 4
}
