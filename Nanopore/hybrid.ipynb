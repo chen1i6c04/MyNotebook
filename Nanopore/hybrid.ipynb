{
 "cells": [
  {
   "cell_type": "code",
   "execution_count": 1,
   "id": "cee05823",
   "metadata": {},
   "outputs": [],
   "source": [
    "import os"
   ]
  },
  {
   "cell_type": "code",
   "execution_count": 4,
   "id": "c9991bba",
   "metadata": {},
   "outputs": [],
   "source": [
    "nano_raw = '/media/NGS/Nanopore_1/20210520_campy/fastq/nanopore/barcode06.fastq'\n",
    "outdir = '/media/NGS/Nanopore_1/20210520_campy/hybrid/R19-1007'\n",
    "os.makedirs(outdir, exist_ok=True)"
   ]
  },
  {
   "cell_type": "markdown",
   "id": "91a51d8c",
   "metadata": {},
   "source": [
    "# Clear reads"
   ]
  },
  {
   "cell_type": "code",
   "execution_count": 5,
   "id": "b57d868a",
   "metadata": {},
   "outputs": [
    {
     "name": "stdout",
     "output_type": "stream",
     "text": [
      "56846 356709202 13715 73902 50 6275 3052 11.0 11.1\n"
     ]
    }
   ],
   "source": [
    "clean_nano_raw = os.path.join(outdir, 'clean.fastq')\n",
    "!nanoq -f {nano_raw} -o {clean_nano_raw} -q 7 -l 50"
   ]
  },
  {
   "cell_type": "markdown",
   "id": "e0e0a650",
   "metadata": {},
   "source": [
    "# Flye assemblies"
   ]
  },
  {
   "cell_type": "code",
   "execution_count": 6,
   "id": "b3088e17",
   "metadata": {},
   "outputs": [
    {
     "name": "stdout",
     "output_type": "stream",
     "text": [
      "[2021-06-25 16:53:10] INFO: Starting Flye 2.8.3-b1695\n",
      "[2021-06-25 16:53:10] INFO: >>>STAGE: configure\n",
      "[2021-06-25 16:53:10] INFO: Configuring run\n",
      "[2021-06-25 16:53:12] INFO: Total read length: 356709202\n",
      "[2021-06-25 16:53:12] INFO: Reads N50/N90: 13715 / 3222\n",
      "[2021-06-25 16:53:12] INFO: Minimum overlap set to 3000\n",
      "[2021-06-25 16:53:12] INFO: >>>STAGE: assembly\n",
      "[2021-06-25 16:53:12] INFO: Assembling disjointigs\n",
      "[2021-06-25 16:53:12] INFO: Reading sequences\n",
      "[2021-06-25 16:53:20] INFO: Counting k-mers:\n",
      "0% 10% 20% 30% 40% 50% 60% 70% 80% 90% 100% \n",
      "[2021-06-25 16:54:41] INFO: Filling index table (1/2)\n",
      "0% 10% 20% 30% 40% 50% 60% 70% 80% 90% 100% \n",
      "[2021-06-25 16:54:52] INFO: Filling index table (2/2)\n",
      "0% 10% 20% 30% 40% 50% 60% 70% 80% 90% 100% \n",
      "[2021-06-25 16:55:08] INFO: Extending reads\n",
      "[2021-06-25 16:58:03] INFO: Overlap-based coverage: 159\n",
      "[2021-06-25 16:58:03] INFO: Median overlap divergence: 0.0993884\n",
      "0% 90% 100% \n",
      "[2021-06-25 16:58:44] INFO: Assembled 3 disjointigs\n",
      "[2021-06-25 16:58:44] INFO: Generating sequence\n",
      "0% 10% 20% 30% 40% 50% 60% 70% 80% 90% 100% \n",
      "[2021-06-25 16:58:47] INFO: >>>STAGE: consensus\n",
      "[2021-06-25 16:58:47] INFO: Running Minimap2\n",
      "[2021-06-25 16:59:14] INFO: Computing consensus\n",
      "[2021-06-25 17:05:23] INFO: Alignment error rate: 0.160228\n",
      "[2021-06-25 17:05:23] INFO: >>>STAGE: repeat\n",
      "[2021-06-25 17:05:23] INFO: Building and resolving repeat graph\n",
      "[2021-06-25 17:05:23] INFO: Parsing disjointigs\n",
      "[2021-06-25 17:05:23] INFO: Building repeat graph\n",
      "0% 30% 60% 100% \n",
      "[2021-06-25 17:05:26] INFO: Median overlap divergence: 0.0255166\n",
      "[2021-06-25 17:05:26] INFO: Parsing reads\n",
      "[2021-06-25 17:05:28] INFO: Aligning reads to the graph\n",
      "0% 10% 20% 30% 40% 50% 60% 70% 80% 90% 100% \n",
      "[2021-06-25 17:05:35] INFO: Aligned read sequence: 320897769 / 323900324 (0.99073)\n",
      "[2021-06-25 17:05:35] INFO: Median overlap divergence: 0.0533935\n",
      "[2021-06-25 17:05:35] INFO: Mean edge coverage: 174\n",
      "[2021-06-25 17:05:35] INFO: Simplifying the graph\n",
      "[2021-06-25 17:05:35] INFO: >>>STAGE: plasmids\n",
      "[2021-06-25 17:05:35] INFO: Recovering short unassembled sequences\n",
      "[2021-06-25 17:05:43] INFO: Added 0 extra contigs\n",
      "[2021-06-25 17:05:43] INFO: >>>STAGE: contigger\n",
      "[2021-06-25 17:05:43] INFO: Generating contigs\n",
      "[2021-06-25 17:05:43] INFO: Reading sequences\n",
      "[2021-06-25 17:05:45] INFO: Generated 3 contigs\n",
      "[2021-06-25 17:05:45] INFO: Added 0 scaffold connections\n",
      "[2021-06-25 17:05:45] INFO: >>>STAGE: polishing\n",
      "[2021-06-25 17:05:45] INFO: Polishing genome (1/1)\n",
      "[2021-06-25 17:05:45] INFO: Running minimap2\n",
      "[2021-06-25 17:06:06] INFO: Separating alignment into bubbles\n",
      "[2021-06-25 17:12:35] INFO: Alignment error rate: 0.104322\n",
      "[2021-06-25 17:12:35] INFO: Correcting bubbles\n",
      "0% 10% 20% 30% 40% 50% 60% 70% 80% 90% 100% \n",
      "[2021-06-25 17:12:54] INFO: >>>STAGE: finalize\n",
      "[2021-06-25 17:12:54] INFO: Assembly statistics:\n",
      "\n",
      "\tTotal length:\t1935994\n",
      "\tFragments:\t3\n",
      "\tFragments N50:\t1805845\n",
      "\tLargest frg:\t1805845\n",
      "\tScaffolds:\t0\n",
      "\tMean coverage:\t193\n",
      "\n",
      "[2021-06-25 17:12:54] INFO: Final assembly: /media/NGS/Nanopore_1/20210520_campy/hybrid/R19-1007/flye/assembly.fasta\n",
      "\n"
     ]
    }
   ],
   "source": [
    "flye_dir = os.path.join(outdir, 'flye')\n",
    "!conda run -n flye flye --nano-raw {clean_nano_raw} -o {flye_dir} -t 64 --plasmids"
   ]
  },
  {
   "cell_type": "raw",
   "id": "213ef81f",
   "metadata": {},
   "source": []
  },
  {
   "cell_type": "markdown",
   "id": "6152072c",
   "metadata": {},
   "source": [
    "#### Medaka polish"
   ]
  },
  {
   "cell_type": "code",
   "execution_count": 7,
   "id": "f6e0bc5e",
   "metadata": {},
   "outputs": [
    {
     "name": "stdout",
     "output_type": "stream",
     "text": [
      "Checking program versions\n",
      "This is medaka 1.3.4\n",
      "Program    Version    Required   Pass     \n",
      "bcftools   1.12       1.11       True     \n",
      "bgzip      1.12       1.11       True     \n",
      "minimap2   2.17       2.11       True     \n",
      "samtools   1.12       1.11       True     \n",
      "tabix      1.12       1.11       True     \n",
      "Aligning basecalls to draft\n",
      "Removing previous index file /media/NGS/Nanopore_1/20210520_campy/hybrid/R19-1007/flye/assembly.fasta.mmi\n",
      "Removing previous index file /media/NGS/Nanopore_1/20210520_campy/hybrid/R19-1007/flye/assembly.fasta.fai\n",
      "Running medaka consensus\n",
      "Polished assembly written to /media/NGS/Nanopore_1/20210520_campy/hybrid/R19-1007/medaka/consensus.fasta, have a nice day.\n",
      "\n",
      "Constructing minimap index.\n",
      "[M::mm_idx_gen::0.088*0.96] collected minimizers\n",
      "[M::mm_idx_gen::0.125*1.28] sorted minimizers\n",
      "[M::main::0.158*1.22] loaded/built the index for 3 target sequence(s)\n",
      "[M::mm_idx_stat] kmer size: 15; skip: 10; is_hpc: 0; #seq: 3\n",
      "[M::mm_idx_stat::0.164*1.22] distinct minimizers: 329154 (91.39% are singletons); average occurrences: 1.103; average spacing: 5.332\n",
      "[M::main] Version: 2.17-r941\n",
      "[M::main] CMD: minimap2 -I 16G -x map-ont --MD -d /media/NGS/Nanopore_1/20210520_campy/hybrid/R19-1007/flye/assembly.fasta.mmi /media/NGS/Nanopore_1/20210520_campy/hybrid/R19-1007/flye/assembly.fasta\n",
      "[M::main] Real time: 0.169 sec; CPU: 0.204 sec; Peak RSS: 0.022 GB\n",
      "[M::main::0.026*0.91] loaded/built the index for 3 target sequence(s)\n",
      "[M::mm_mapopt_update::0.032*1.00] mid_occ = 7\n",
      "[M::mm_idx_stat] kmer size: 15; skip: 10; is_hpc: 0; #seq: 3\n",
      "[M::mm_idx_stat::0.036*1.01] distinct minimizers: 329154 (91.39% are singletons); average occurrences: 1.103; average spacing: 5.332\n",
      "[M::worker_pipeline::18.171*10.40] mapped 56846 sequences\n",
      "[M::main] Version: 2.17-r941\n",
      "[M::main] CMD: minimap2 -x map-ont --MD -t 64 -a -A 2 -B 4 -O 4,24 -E 2,1 /media/NGS/Nanopore_1/20210520_campy/hybrid/R19-1007/flye/assembly.fasta.mmi /media/NGS/Nanopore_1/20210520_campy/hybrid/R19-1007/clean.fastq\n",
      "[M::main] Real time: 18.183 sec; CPU: 189.040 sec; Peak RSS: 2.239 GB\n",
      "[bam_sort_core] merging from 0 files and 64 in-memory blocks...\n",
      "[17:13:25 - Predict] Reducing threads to 2, anymore is a waste.\n",
      "2021-06-25 17:13:25.800487: E tensorflow/stream_executor/cuda/cuda_driver.cc:313] failed call to cuInit: UNKNOWN ERROR (303)\n",
      "[17:13:25 - Predict] It looks like you are running medaka without a GPU and attempted to set a high number of threads. We have scaled this down to an optimal number. If you wish to improve performance please see https://nanoporetech.github.io/medaka/installation.html#improving-parallelism.\n",
      "[17:13:25 - Predict] Setting tensorflow inter/intra-op threads to 2/1.\n",
      "[17:13:25 - Predict] Processing region(s): contig_1:0-53800 contig_2:0-1805845 contig_3:0-76349\n",
      "[17:13:25 - Predict] Using model: /home/chen1i6c04/miniconda3/envs/medaka/lib/python3.8/site-packages/medaka/data/r941_min_high_g360_model.hdf5.\n",
      "[17:13:25 - Predict] Processing 4 long region(s) with batching.\n",
      "[17:13:25 - MdlStore] filepath /home/chen1i6c04/miniconda3/envs/medaka/lib/python3.8/site-packages/medaka/data/r941_min_high_g360_model.hdf5\n",
      "[17:13:26 - Sampler] Initializing sampler for consensus of region contig_1:0-53800.\n",
      "[17:13:26 - Sampler] Initializing sampler for consensus of region contig_2:0-1000000.\n",
      "[17:13:26 - PWorker] Running inference for 1.9M draft bases.\n",
      "[17:13:27 - Feature] Processed contig_1:0.0-53799.0 (median depth 115.0)\n",
      "[17:13:27 - Sampler] Took 0.66s to make features.\n",
      "[17:13:27 - Sampler] Initializing sampler for consensus of region contig_2:999000-1805845.\n",
      "[17:13:30 - Feature] Processed contig_2:999000.0-1805844.0 (median depth 167.0)\n",
      "[17:13:30 - Sampler] Took 3.08s to make features.\n",
      "[17:13:30 - Sampler] Initializing sampler for consensus of region contig_3:0-76349.\n",
      "[17:13:31 - Feature] Processed contig_2:0.0-999999.1 (median depth 185.0)\n",
      "[17:13:31 - Sampler] Took 4.72s to make features.\n",
      "[17:13:34 - Feature] Pileup counts do not span requested region, requested contig_3:0-76349, received 4-76331.\n",
      "[17:13:34 - Feature] Processed contig_3:4.0-76331.0 (median depth 532.0)\n",
      "[17:13:34 - Sampler] Took 4.05s to make features.\n",
      "[17:13:56 - PWorker] Batches in cache: 6.\n",
      "[17:13:56 - PWorker] 20.4% Done (0.4/1.9 Mbases) in 29.8s\n",
      "[17:14:17 - PWorker] Batches in cache: 5.\n",
      "[17:14:17 - PWorker] 40.3% Done (0.8/1.9 Mbases) in 51.0s\n",
      "[17:14:38 - PWorker] Batches in cache: 4.\n",
      "[17:14:38 - PWorker] 59.7% Done (1.2/1.9 Mbases) in 71.9s\n",
      "[17:14:58 - PWorker] Batches in cache: 3.\n",
      "[17:14:58 - PWorker] 78.7% Done (1.5/1.9 Mbases) in 92.2s\n",
      "[17:15:19 - PWorker] Batches in cache: 2.\n",
      "[17:15:19 - PWorker] 97.9% Done (1.9/1.9 Mbases) in 112.6s\n",
      "[17:15:26 - PWorker] Batches in cache: 1.\n",
      "[17:15:26 - PWorker] Processed 6 batches\n",
      "[17:15:26 - PWorker] All done, 0 remainder regions.\n",
      "[17:15:26 - Predict] Finished processing all regions.\n",
      "[17:15:28 - DataIndx] Loaded 1/1 (100.00%) sample files.\n",
      "[17:15:28 - DataIndx] Loaded 1/1 (100.00%) sample files.\n",
      "[17:15:28 - DataIndx] Loaded 1/1 (100.00%) sample files.\n",
      "[17:15:28 - DataIndx] Loaded 1/1 (100.00%) sample files.\n",
      "[17:15:28 - DataIndx] Loaded 1/1 (100.00%) sample files.\n",
      "\n"
     ]
    }
   ],
   "source": [
    "flye_asm = os.path.join(flye_dir, 'assembly.fasta')\n",
    "medaka_dir = os.path.join(outdir, 'medaka')\n",
    "\n",
    "!conda run -n medaka medaka_consensus -i {clean_nano_raw} -d {flye_asm} -o {medaka_dir} -t 64 "
   ]
  },
  {
   "cell_type": "code",
   "execution_count": 2,
   "id": "f67b8f75",
   "metadata": {},
   "outputs": [],
   "source": [
    "import sys\n",
    "import shutil\n",
    "from Bio import SeqIO\n",
    "\n",
    "sys.path.append('../src')\n",
    "from utils import run_cmd\n",
    "\n",
    "def pilon_polish(fq_1, fq_2, asm, outdir, prefix, round_num, threads=4):\n",
    "    os.makedirs(outdir, exist_ok=True)\n",
    "    paired_bam_file = os.path.join(outdir, 'alignments.sort.bam')\n",
    "    pilon_changes_file = os.path.join(outdir, prefix + '.changes')\n",
    "    run_cmd(f\"bwa index {asm} && samtools faidx {asm}\")\n",
    "    cmd = f\"bwa mem -v 3 -x intractg -t {threads} {asm} {fq_1} {fq_2} | \"\\\n",
    "          f\"samclip --ref {asm}.fai | \"\\\n",
    "          f\"samtools sort --threads {threads} -m 500m --reference {asm} -T /tmp/ -o {paired_bam_file}\"\n",
    "    run_cmd(cmd)\n",
    "    run_cmd(f\"samtools index {paired_bam_file}\")\n",
    "    cmd = f\"pilon --genome {asm} --frags {paired_bam_file} --minmq 60 --minqual 3 --fix bases --output {prefix} \"\\\n",
    "          f\"--outdir {outdir} --threads {threads} --changes --mindepth 0.25\"\n",
    "    run_cmd(cmd)\n",
    "    \n",
    "    change_count = 0\n",
    "    with open(pilon_changes_file) as pilon_change:\n",
    "        for line in pilon_change:\n",
    "            change_count += 1\n",
    "    print(f'Pilon polish round {round_num}\\nTotal number of changes: {change_count}', sep='\\n')\n",
    "    return change_count\n",
    "\n",
    "def rename_contig_id(fasta):\n",
    "    rename_records = []\n",
    "    for idx, record in enumerate(SeqIO.parse(fasta, 'fasta'), 1):\n",
    "        record.id = record.name = f\"{idx}\" \n",
    "        record.description = ''\n",
    "        rename_records.append(record)\n",
    "    return rename_records\n",
    "\n",
    "\n",
    "def clear_dir(dirpath):\n",
    "    shutil.rmtree(dirpath)\n",
    "    os.makedirs(dirpath)"
   ]
  },
  {
   "cell_type": "markdown",
   "id": "58418a66",
   "metadata": {},
   "source": [
    "# Short-read polishing"
   ]
  },
  {
   "cell_type": "code",
   "execution_count": 14,
   "id": "864ea5a0",
   "metadata": {},
   "outputs": [],
   "source": [
    "sample_name = 'R20-0160'\n",
    "fq_1 = f'/media/NGS/Nanopore_1/20200925/fastq/illumina/{sample_name}_R1.fastq.gz'\n",
    "fq_2 = f'/media/NGS/Nanopore_1/20200925/fastq/illumina/{sample_name}_R2.fastq.gz'\n",
    "asm = f'/media/NGS/Nanopore_1/20200925/hybrid/{sample_name}/medaka/consensus.fasta'\n",
    "# asm = os.path.join(medaka_dir, 'consensus.fasta')"
   ]
  },
  {
   "cell_type": "code",
   "execution_count": 15,
   "id": "91e8c7b3",
   "metadata": {},
   "outputs": [
    {
     "name": "stdout",
     "output_type": "stream",
     "text": [
      "Pilon polish round 1\n",
      "Total number of changes: 110\n",
      "Pilon polish round 2\n",
      "Total number of changes: 0\n"
     ]
    }
   ],
   "source": [
    "outdir = f'/media/NGS/Nanopore_1/20200925/hybrid/{sample_name}'\n",
    "pilon_dir = os.path.join(outdir, 'pilon')\n",
    "\n",
    "for i in range(10):\n",
    "    round_num = i+1\n",
    "    prefix = f'{round_num}_pilon'\n",
    "    change_count = pilon_polish(fq_1, fq_2, asm, pilon_dir, prefix, round_num, threads=64)\n",
    "    pilon_fasta_file = os.path.join(pilon_dir, prefix + '.fasta')\n",
    "    pilon_fasta_records = rename_contig_id(pilon_fasta_file)\n",
    "    if not change_count:\n",
    "        assembly = os.path.join(outdir, 'assembly.fasta')\n",
    "        SeqIO.write(pilon_fasta_records, assembly, 'fasta')\n",
    "        break\n",
    "    clear_dir(pilon_dir)\n",
    "    asm = os.path.join(pilon_dir, prefix + '.fa')\n",
    "    SeqIO.write(pilon_fasta_records, asm, 'fasta')"
   ]
  },
  {
   "cell_type": "code",
   "execution_count": null,
   "id": "fbc97449",
   "metadata": {},
   "outputs": [],
   "source": []
  },
  {
   "cell_type": "code",
   "execution_count": null,
   "id": "c401196a",
   "metadata": {},
   "outputs": [],
   "source": []
  }
 ],
 "metadata": {
  "kernelspec": {
   "display_name": "Python 3",
   "language": "python",
   "name": "python3"
  },
  "language_info": {
   "codemirror_mode": {
    "name": "ipython",
    "version": 3
   },
   "file_extension": ".py",
   "mimetype": "text/x-python",
   "name": "python",
   "nbconvert_exporter": "python",
   "pygments_lexer": "ipython3",
   "version": "3.6.12"
  }
 },
 "nbformat": 4,
 "nbformat_minor": 5
}
