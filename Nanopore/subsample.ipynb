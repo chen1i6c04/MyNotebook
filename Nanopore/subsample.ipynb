{
 "cells": [
  {
   "cell_type": "code",
   "execution_count": 1,
   "metadata": {},
   "outputs": [],
   "source": [
    "import os\n",
    "import sys\n",
    "from pathlib import Path\n",
    "from itertools import product, chain\n",
    "from multiprocessing import Pool\n",
    "from Bio import SeqIO\n",
    "\n",
    "sys.path.append('../src')\n",
    "from utils import run_cmd"
   ]
  },
  {
   "cell_type": "markdown",
   "metadata": {},
   "source": [
    "# by genome depth"
   ]
  },
  {
   "cell_type": "code",
   "execution_count": 2,
   "metadata": {},
   "outputs": [],
   "source": [
    "asm = '/media/GenomicResearch/Issue/20210909_estimate_nanopore_depth/amplification/20211028_R18-1656H/reference.fa'\n",
    "raw = '/media/GenomicResearch/Issue/20210909_estimate_nanopore_depth/amplification/20211028_R18-1656H/reads.fastq.gz'\n",
    "save_dir = Path('/media/GenomicResearch/Issue/20210909_estimate_nanopore_depth/amplification/_20211028_R18-1656H_/fastq')\n",
    "save_dir.mkdir(exist_ok=True, parents=True)"
   ]
  },
  {
   "cell_type": "code",
   "execution_count": 3,
   "metadata": {},
   "outputs": [
    {
     "data": {
      "text/plain": [
       "4916241"
      ]
     },
     "execution_count": 3,
     "metadata": {},
     "output_type": "execute_result"
    }
   ],
   "source": [
    "# gsize = sum(len(record) for record in SeqIO.parse(asm, 'fasta'))\n",
    "gsize"
   ]
  },
  {
   "cell_type": "code",
   "execution_count": null,
   "metadata": {},
   "outputs": [],
   "source": [
    "1405679724/gsize"
   ]
  },
  {
   "cell_type": "code",
   "execution_count": 4,
   "metadata": {},
   "outputs": [],
   "source": [
    "depths = (50, 60, 70, 80, 90, 100)\n",
    "repeats = (1, 2, 3, 4, 5)"
   ]
  },
  {
   "cell_type": "code",
   "execution_count": 5,
   "metadata": {},
   "outputs": [
    {
     "data": {
      "text/plain": [
       "['rasusa -i /media/GenomicResearch/Issue/20210909_estimate_nanopore_depth/amplification/20211028_R18-1656H/reads.fastq.gz -g 4916241 -c 50 | pigz -9 -p 4 > /media/GenomicResearch/Issue/20210909_estimate_nanopore_depth/amplification/_20211028_R18-1656H_/fastq/50x-1.fastq.gz',\n",
       " 'rasusa -i /media/GenomicResearch/Issue/20210909_estimate_nanopore_depth/amplification/20211028_R18-1656H/reads.fastq.gz -g 4916241 -c 50 | pigz -9 -p 4 > /media/GenomicResearch/Issue/20210909_estimate_nanopore_depth/amplification/_20211028_R18-1656H_/fastq/50x-2.fastq.gz',\n",
       " 'rasusa -i /media/GenomicResearch/Issue/20210909_estimate_nanopore_depth/amplification/20211028_R18-1656H/reads.fastq.gz -g 4916241 -c 50 | pigz -9 -p 4 > /media/GenomicResearch/Issue/20210909_estimate_nanopore_depth/amplification/_20211028_R18-1656H_/fastq/50x-3.fastq.gz',\n",
       " 'rasusa -i /media/GenomicResearch/Issue/20210909_estimate_nanopore_depth/amplification/20211028_R18-1656H/reads.fastq.gz -g 4916241 -c 50 | pigz -9 -p 4 > /media/GenomicResearch/Issue/20210909_estimate_nanopore_depth/amplification/_20211028_R18-1656H_/fastq/50x-4.fastq.gz',\n",
       " 'rasusa -i /media/GenomicResearch/Issue/20210909_estimate_nanopore_depth/amplification/20211028_R18-1656H/reads.fastq.gz -g 4916241 -c 50 | pigz -9 -p 4 > /media/GenomicResearch/Issue/20210909_estimate_nanopore_depth/amplification/_20211028_R18-1656H_/fastq/50x-5.fastq.gz']"
      ]
     },
     "execution_count": 5,
     "metadata": {},
     "output_type": "execute_result"
    }
   ],
   "source": [
    "cmds = []\n",
    "for depth, repeat in product(depths, repeats):\n",
    "    outfile = save_dir/f\"{depth}x-{repeat}.fastq.gz\"\n",
    "    cmd = f\"rasusa -i {raw} -g {gsize} -c {depth} | pigz -9 -p 4 > {outfile}\"\n",
    "    cmds.append(cmd)\n",
    "cmds[:5]"
   ]
  },
  {
   "cell_type": "code",
   "execution_count": 6,
   "metadata": {},
   "outputs": [
    {
     "data": {
      "text/plain": [
       "['rasusa -i /media/Central_Lab_Storage/MinION/20210414_Bacteria/fastq/nanopore/barcode06.fastq.gz -g 5MB -c 50 | pigz -9 -p 8 > /media/Central_Lab_Storage/MinION/20210414_Bacteria/fastq/nanopore/barcode06_50x.fastq.gz',\n",
       " 'rasusa -i /media/Central_Lab_Storage/MinION/20210414_Bacteria/fastq/nanopore/barcode07.fastq.gz -g 5MB -c 50 | pigz -9 -p 8 > /media/Central_Lab_Storage/MinION/20210414_Bacteria/fastq/nanopore/barcode07_50x.fastq.gz']"
      ]
     },
     "execution_count": 6,
     "metadata": {},
     "output_type": "execute_result"
    }
   ],
   "source": [
    "gsize = '5MB'\n",
    "\n",
    "cmds = []\n",
    "dirpath = Path('/media/Central_Lab_Storage/MinION/20210414_Bacteria/fastq/nanopore')\n",
    "for i in (6, 7):\n",
    "    infile = dirpath/f\"barcode{i:02}.fastq.gz\"\n",
    "    outfile = dirpath/f\"barcode{i:02}_50x.fastq.gz\"\n",
    "    cmd = f\"rasusa -i {infile} -g {gsize} -c 50 | pigz -9 -p 8 > {outfile}\"\n",
    "    cmds.append(cmd)\n",
    "cmds"
   ]
  },
  {
   "cell_type": "code",
   "execution_count": 7,
   "metadata": {},
   "outputs": [],
   "source": [
    "with Pool(8) as p:\n",
    "    try:\n",
    "        p.map(run_cmd, cmds)\n",
    "        p.close()\n",
    "        p.join()\n",
    "    except KeyboardInterrupt:\n",
    "        p.terminate()"
   ]
  },
  {
   "cell_type": "code",
   "execution_count": null,
   "metadata": {},
   "outputs": [],
   "source": []
  },
  {
   "cell_type": "markdown",
   "metadata": {},
   "source": [
    "# by data size"
   ]
  },
  {
   "cell_type": "code",
   "execution_count": null,
   "metadata": {},
   "outputs": [],
   "source": [
    "raw = '/media/GenomicResearch/Issue/20210909_estimate_nanopore_depth/amplification/20211007_R18-1656/reads.fastq.gz'\n",
    "outdir = Path('/media/GenomicResearch/Issue/20210909_estimate_nanopore_depth/amplification/20211007_R18-1656/classify/subsample_by_bases')\n",
    "for i in range(1, 11):\n",
    "    keep_bases = f\"{i**2}MB\"\n",
    "    outfile = outdir/f'{keep_bases}.fastq'\n",
    "    run_cmd(f\"rasusa -i {raw} -b {keep_bases} -o {outfile}\")"
   ]
  },
  {
   "cell_type": "code",
   "execution_count": null,
   "metadata": {},
   "outputs": [],
   "source": [
    "keep_bases = 165000000\n",
    "dirpath = Path('/media/Central_Lab_Storage/MinION/20210901_clBC38_CRE0019/fastq/nanopore')\n",
    "outpath = Path('/media/Central_Lab_Storage/MinION/20210901_clBC38_CRE0019/fastq/subsamplies/')\n",
    "\n",
    "for i in dirpath.iterdir():\n",
    "    outfile = outpath/i.name\n",
    "    cmd = f\"rasusa -i {i} -b {keep_bases} | pigz -9 -p 16 > {outfile}\"\n",
    "    run_cmd(cmd)"
   ]
  },
  {
   "cell_type": "code",
   "execution_count": null,
   "metadata": {},
   "outputs": [],
   "source": []
  }
 ],
 "metadata": {
  "kernelspec": {
   "display_name": "Python 3",
   "language": "python",
   "name": "python3"
  },
  "language_info": {
   "codemirror_mode": {
    "name": "ipython",
    "version": 3
   },
   "file_extension": ".py",
   "mimetype": "text/x-python",
   "name": "python",
   "nbconvert_exporter": "python",
   "pygments_lexer": "ipython3",
   "version": "3.6.13"
  }
 },
 "nbformat": 4,
 "nbformat_minor": 4
}
