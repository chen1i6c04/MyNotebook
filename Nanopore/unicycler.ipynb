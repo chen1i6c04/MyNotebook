{
 "cells": [
  {
   "cell_type": "code",
   "execution_count": 4,
   "metadata": {},
   "outputs": [],
   "source": [
    "import os\n",
    "import shutil\n",
    "import subprocess\n",
    "from pathlib import Path\n",
    "from multiprocessing import Pool"
   ]
  },
  {
   "cell_type": "code",
   "execution_count": 8,
   "metadata": {},
   "outputs": [
    {
     "data": {
      "text/plain": [
       "CompletedProcess(args=['conda', 'run', '-n', 'unicycler', 'unicycler', '-1', '/media/Central_Lab_Storage/MinION_2022/20220126_Sal/fastq/R20.0464_R1.fastq.gz', '-2', '/media/Central_Lab_Storage/MinION_2022/20220126_Sal/fastq/R20.0464_R2.fastq.gz', '-l', '/media/Central_Lab_Storage/MinION_2022/20220126_Sal/fastq/barcode03_100x.fastq.gz', '-o', '/media/Central_Lab_Storage/MinION_2022/20220126_Sal/unicycler/R20.0464', '-t', '48', '--spades_tmp_dir', '/tmp/', '--no_correct'], returncode=0)"
      ]
     },
     "execution_count": 8,
     "metadata": {},
     "output_type": "execute_result"
    }
   ],
   "source": [
    "sr_1 = '/media/Central_Lab_Storage/MinION_2022/20220126_Sal/fastq/R20.0464_R1.fastq.gz'\n",
    "sr_2 = '/media/Central_Lab_Storage/MinION_2022/20220126_Sal/fastq/R20.0464_R2.fastq.gz'\n",
    "lr = '/media/Central_Lab_Storage/MinION_2022/20220126_Sal/fastq/barcode03_100x.fastq.gz'\n",
    "outdir = '/media/Central_Lab_Storage/MinION_2022/20220126_Sal/unicycler/R20.0464'\n",
    "\n",
    "subprocess.run([\n",
    "    'conda', 'run', '-n', 'unicycler', 'unicycler',\n",
    "    '-1', sr_1, '-2', sr_2, '-l', lr,\n",
    "    '-o', outdir, '-t', '48', '--spades_tmp_dir', '/tmp/', '--no_correct'\n",
    "])"
   ]
  },
  {
   "cell_type": "code",
   "execution_count": 6,
   "metadata": {},
   "outputs": [],
   "source": [
    "outpath = Path('/media/Central_Lab_Storage/MinION_2022/20220113_Sal/unicycler')"
   ]
  },
  {
   "cell_type": "code",
   "execution_count": 8,
   "metadata": {},
   "outputs": [
    {
     "data": {
      "text/plain": [
       "['conda run -n unicycler unicycler -1 /media/Central_Lab_Storage/MinION_2022/20220106_Sal/fastq/R18.0246_R1.fastq.gz -2 /media/Central_Lab_Storage/MinION_2022/20220106_Sal/fastq/R18.0246_R2.fastq.gz -s /media/Central_Lab_Storage/MinION_2022/20220106_Sal/fastq/R18.0246_unpaired.fastq.gz -l /media/Central_Lab_Storage/MinION_2022/20220113_Sal/fastq/barcode09.fastq.gz -o /media/Central_Lab_Storage/MinION_2022/20220113_Sal/unicycler/R18.0246 -t 44 --no_correct --spades_tmp_dir /tmp',\n",
       " 'conda run -n unicycler unicycler -1 /media/Central_Lab_Storage/MinION_2022/20220106_Sal/fastq/R19.0144_R1.fastq.gz -2 /media/Central_Lab_Storage/MinION_2022/20220106_Sal/fastq/R19.0144_R2.fastq.gz -s /media/Central_Lab_Storage/MinION_2022/20220106_Sal/fastq/R19.0144_unpaired.fastq.gz -l /media/Central_Lab_Storage/MinION_2022/20220113_Sal/fastq/barcode10.fastq.gz -o /media/Central_Lab_Storage/MinION_2022/20220113_Sal/unicycler/R19.0144 -t 44 --no_correct --spades_tmp_dir /tmp',\n",
       " 'conda run -n unicycler unicycler -1 /media/Central_Lab_Storage/MinION_2022/20220106_Sal/fastq/R21.1368_R1.fastq.gz -2 /media/Central_Lab_Storage/MinION_2022/20220106_Sal/fastq/R21.1368_R2.fastq.gz -s /media/Central_Lab_Storage/MinION_2022/20220106_Sal/fastq/R21.1368_unpaired.fastq.gz -l /media/Central_Lab_Storage/MinION_2022/20220113_Sal/fastq/barcode11.fastq.gz -o /media/Central_Lab_Storage/MinION_2022/20220113_Sal/unicycler/R21.1368 -t 44 --no_correct --spades_tmp_dir /tmp']"
      ]
     },
     "execution_count": 8,
     "metadata": {},
     "output_type": "execute_result"
    }
   ],
   "source": [
    "cmds = []\n",
    "with open('/media/Central_Lab_Storage/MinION_2022/20220113_Sal/unicycler_option.csv') as f:\n",
    "    for line in f:\n",
    "        name, sr_1, sr_2, sr_u, l = line.strip().split()\n",
    "        outdir = outpath/name\n",
    "        cmd = f\"conda run -n unicycler unicycler -1 {sr_1} -2 {sr_2} -s {sr_u} -l {l} -o {outdir} -t 44 --no_correct --spades_tmp_dir /tmp\"\n",
    "        cmds.append(cmd)\n",
    "        \n",
    "cmds"
   ]
  },
  {
   "cell_type": "code",
   "execution_count": null,
   "metadata": {},
   "outputs": [],
   "source": [
    "for cmd in cmds:\n",
    "    run_cmd(cmd)"
   ]
  },
  {
   "cell_type": "code",
   "execution_count": null,
   "metadata": {},
   "outputs": [],
   "source": []
  },
  {
   "cell_type": "code",
   "execution_count": 5,
   "metadata": {},
   "outputs": [],
   "source": [
    "basepath = Path('/media/Central_Lab_Storage/MinION_2022/20220106_Sal')\n",
    "dirpath = basepath/'unicycler'\n",
    "outpath = basepath/'contigs'\n",
    "\n",
    "\n",
    "for i in dirpath.iterdir():\n",
    "    shutil.copyfile(i/'assembly.fasta', outpath/(i.name + '.fa'))"
   ]
  },
  {
   "cell_type": "code",
   "execution_count": null,
   "metadata": {},
   "outputs": [],
   "source": []
  },
  {
   "cell_type": "code",
   "execution_count": 7,
   "metadata": {},
   "outputs": [
    {
     "name": "stdout",
     "output_type": "stream",
     "text": [
      "[2022-01-11][09:53:00][rasusa][\u001b[37mINFO\u001b[0m] Target number of bases to subsample to is: 300000000\n",
      "[2022-01-11][09:53:00][rasusa][\u001b[37mINFO\u001b[0m] Gathering read lengths...\n",
      "[2022-01-11][09:53:08][rasusa][\u001b[37mINFO\u001b[0m] 150000 reads detected\n",
      "[2022-01-11][09:53:08][rasusa][\u001b[37mINFO\u001b[0m] Keeping 83437 reads\n",
      "[2022-01-11][09:53:26][rasusa][\u001b[37mINFO\u001b[0m] Actual coverage of kept reads is 100.00x\n",
      "[2022-01-11][09:53:26][rasusa][\u001b[37mINFO\u001b[0m] Done 🎉\n",
      "[2022-01-11][09:53:27][rasusa][\u001b[37mINFO\u001b[0m] Target number of bases to subsample to is: 300000000\n",
      "[2022-01-11][09:53:27][rasusa][\u001b[37mINFO\u001b[0m] Gathering read lengths...\n",
      "[2022-01-11][09:53:38][rasusa][\u001b[37mINFO\u001b[0m] 208220 reads detected\n",
      "[2022-01-11][09:53:38][rasusa][\u001b[37mINFO\u001b[0m] Keeping 73755 reads\n",
      "[2022-01-11][09:53:57][rasusa][\u001b[37mINFO\u001b[0m] Actual coverage of kept reads is 100.00x\n",
      "[2022-01-11][09:53:57][rasusa][\u001b[37mINFO\u001b[0m] Done 🎉\n",
      "[2022-01-11][09:53:57][rasusa][\u001b[37mINFO\u001b[0m] Target number of bases to subsample to is: 300000000\n",
      "[2022-01-11][09:53:57][rasusa][\u001b[37mINFO\u001b[0m] Gathering read lengths...\n",
      "[2022-01-11][09:54:08][rasusa][\u001b[37mINFO\u001b[0m] 170550 reads detected\n",
      "[2022-01-11][09:54:08][rasusa][\u001b[37mINFO\u001b[0m] Keeping 66859 reads\n",
      "[2022-01-11][09:54:26][rasusa][\u001b[37mINFO\u001b[0m] Actual coverage of kept reads is 100.00x\n",
      "[2022-01-11][09:54:26][rasusa][\u001b[37mINFO\u001b[0m] Done 🎉\n",
      "[2022-01-11][09:54:27][rasusa][\u001b[37mINFO\u001b[0m] Target number of bases to subsample to is: 300000000\n",
      "[2022-01-11][09:54:27][rasusa][\u001b[37mINFO\u001b[0m] Gathering read lengths...\n",
      "[2022-01-11][09:54:34][rasusa][\u001b[37mINFO\u001b[0m] 136305 reads detected\n",
      "[2022-01-11][09:54:34][rasusa][\u001b[37mINFO\u001b[0m] Keeping 83616 reads\n",
      "[2022-01-11][09:54:52][rasusa][\u001b[37mINFO\u001b[0m] Actual coverage of kept reads is 100.00x\n",
      "[2022-01-11][09:54:52][rasusa][\u001b[37mINFO\u001b[0m] Done 🎉\n"
     ]
    }
   ],
   "source": [
    "!rasusa -c 100 -g 3MB -i '/media/Central_Lab_Storage/MinION/20211209_Lis/fastq/barcode07.fastq.gz' | pigz -9 -p 8 > '/media/Central_Lab_Storage/MinION/20211209_Lis/fastq/barcode07-100x.fastq.gz'\n",
    "!rasusa -c 100 -g 3MB -i '/media/Central_Lab_Storage/MinION/20211209_Lis/fastq/barcode08.fastq.gz' | pigz -9 -p 8 > '/media/Central_Lab_Storage/MinION/20211209_Lis/fastq/barcode08-100x.fastq.gz'\n",
    "!rasusa -c 100 -g 3MB -i '/media/Central_Lab_Storage/MinION/20211209_Lis/fastq/barcode09.fastq.gz' | pigz -9 -p 8 > '/media/Central_Lab_Storage/MinION/20211209_Lis/fastq/barcode09-100x.fastq.gz'\n",
    "!rasusa -c 100 -g 3MB -i '/media/Central_Lab_Storage/MinION/20211209_Lis/fastq/barcode10.fastq.gz' | pigz -9 -p 8 > '/media/Central_Lab_Storage/MinION/20211209_Lis/fastq/barcode10-100x.fastq.gz'"
   ]
  },
  {
   "cell_type": "code",
   "execution_count": null,
   "metadata": {},
   "outputs": [],
   "source": []
  }
 ],
 "metadata": {
  "kernelspec": {
   "display_name": "Python 3",
   "language": "python",
   "name": "python3"
  },
  "language_info": {
   "codemirror_mode": {
    "name": "ipython",
    "version": 3
   },
   "file_extension": ".py",
   "mimetype": "text/x-python",
   "name": "python",
   "nbconvert_exporter": "python",
   "pygments_lexer": "ipython3",
   "version": "3.6.13"
  }
 },
 "nbformat": 4,
 "nbformat_minor": 4
}
