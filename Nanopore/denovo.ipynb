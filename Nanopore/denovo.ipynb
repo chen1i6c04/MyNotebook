{
 "cells": [
  {
   "cell_type": "code",
   "execution_count": 1,
   "metadata": {},
   "outputs": [],
   "source": [
    "import os\n",
    "import sys\n",
    "import shutil\n",
    "from pathlib import Path\n",
    "from multiprocessing import Pool\n",
    "from concurrent.futures import ProcessPoolExecutor"
   ]
  },
  {
   "cell_type": "code",
   "execution_count": 2,
   "metadata": {},
   "outputs": [],
   "source": [
    "sys.path.append('../src')\n",
    "from utils import run_cmd"
   ]
  },
  {
   "cell_type": "code",
   "execution_count": 3,
   "metadata": {},
   "outputs": [],
   "source": [
    "program = '/media/GenomicResearch/Tools/homopolish/homopolish.py'\n",
    "polish_model = '/media/GenomicResearch/Tools/homopolish/R9.4.pkl'\n",
    "mash_sketch = '/media/GenomicResearch/Tools/homopolish/bacteria.msh'\n",
    "medaka_model = 'r941_min_hac_g507'"
   ]
  },
  {
   "cell_type": "code",
   "execution_count": 4,
   "metadata": {},
   "outputs": [],
   "source": [
    "def fn(reads, outdir, medaka_model, polish_model, mash_sketch, threads=8, nofilter=False, minreadlen=500, minquality=7, opts=''):\n",
    "    raw = os.path.join(outdir, 'READS.fastq.gz')\n",
    "    flye_dirname = os.path.join(outdir, 'flye')\n",
    "    flye_asm = os.path.join(flye_dirname, 'assembly.fasta')\n",
    "    racon_dirname = os.path.join(flye_dirname, 'polish', 'racon')\n",
    "    racon_asm = os.path.join(racon_dirname, 'consensus.fasta')\n",
    "    paf_filename = os.path.join(racon_dirname, 'aligments.paf')\n",
    "    medaka_dirname = os.path.join(flye_dirname, 'polish', 'medaka')\n",
    "    medaka_asm = os.path.join(medaka_dirname, 'consensus.fasta')\n",
    "    for dirname in (racon_dirname, medaka_dirname):\n",
    "        os.makedirs(dirname, exist_ok=True)\n",
    "    ###\n",
    "    filter_command = []\n",
    "    if nofilter is False:\n",
    "        if filter_command:\n",
    "            filter_command += [f\"nanoq -l {minreadlen} -q {minquality}\",]\n",
    "        else:\n",
    "            filter_command += [f\"nanoq -i {reads} -l {minreadlen} -q {minquality}\",]\n",
    "    if filter_command:\n",
    "        filter_command += [f\"pigz -1 -p {threads} > {raw}\"]\n",
    "        run_cmd(' | '.join(filter_command))\n",
    "    else:\n",
    "        os.symlink(reads, raw)\n",
    "    ###\n",
    "    run_cmd(f\"conda run -n dragonflye flye --nano-raw {raw} -o {flye_dirname} -t {threads} {opts}\")\n",
    "    if os.path.exists(flye_asm) is False:\n",
    "        os.remove(raw)\n",
    "        return\n",
    "    shutil.copyfile(\n",
    "        os.path.join(flye_dirname, 'assembly_info.txt'),\n",
    "        os.path.join(outdir, 'flye_info.txt')\n",
    "    )\n",
    "    shutil.copyfile(\n",
    "        os.path.join(flye_dirname, 'assembly_graph.gfa'),\n",
    "        os.path.join(outdir, 'flye-unpolished.gfa')\n",
    "    )\n",
    "    run_cmd(f\"minimap2 -t {threads} -x map-ont {flye_asm} {raw} > {paf_filename}\")\n",
    "    run_cmd(f\"racon -t {threads} {raw} {paf_filename} {flye_asm} > {racon_asm}\")\n",
    "    run_cmd(f\"conda run -n dragonflye medaka_consensus -i {raw} -d {racon_asm} -o {medaka_dirname} -m {medaka_model} -t {threads}\")\n",
    "    os.remove(raw)\n",
    "    homopolish_dirname = os.path.join(outdir, 'homopolish')\n",
    "    homopolish_asm = os.path.join(homopolish_dirname, 'consensus_homopolished.fasta')\n",
    "    run_cmd(f\"conda run -n homopolish python {program} polish -a {medaka_asm} -s {mash_sketch} -m {polish_model} \"\\\n",
    "            f\"-o {homopolish_dirname} -t {threads}\")\n",
    "    shutil.copyfile(\n",
    "            homopolish_asm,\n",
    "            os.path.join(outdir, 'contigs.fasta')\n",
    "        )\n",
    "    for dirname in (flye_dirname, homopolish_dirname):\n",
    "        shutil.rmtree(dirname)"
   ]
  },
  {
   "cell_type": "code",
   "execution_count": null,
   "metadata": {},
   "outputs": [],
   "source": [
    "raw = '/media/Central_Lab_Storage/MinION/mNGS/20220105_ICU20_23/fastq/Barcode19.fastq.gz'\n",
    "out = '/media/Central_Lab_Storage/MinION/mNGS/20220105_ICU20_23/denovo/Barcode19'\n",
    "fn(raw, out, medaka_model, polish_model, mash_sketch, 32, nofilter=True, opts='--meta')"
   ]
  },
  {
   "cell_type": "code",
   "execution_count": 5,
   "metadata": {},
   "outputs": [],
   "source": [
    "dirpath = Path('/media/Central_Lab_Storage/MinION/mNGS/20220216_ICU31_34_strain/fastq')\n",
    "outpath = Path('/media/Central_Lab_Storage/MinION/mNGS/20220216_ICU31_34_strain/denovo')\n",
    "\n",
    "with ProcessPoolExecutor(4) as executor:\n",
    "    for i in dirpath.iterdir():\n",
    "        outdir = outpath/(i.name.replace('.fastq.gz', ''))\n",
    "        executor.submit(fn, i, outdir, medaka_model, polish_model, mash_sketch, 16, nofilter=True, opts='--meta')"
   ]
  },
  {
   "cell_type": "code",
   "execution_count": null,
   "metadata": {},
   "outputs": [],
   "source": []
  }
 ],
 "metadata": {
  "kernelspec": {
   "display_name": "Python 3",
   "language": "python",
   "name": "python3"
  },
  "language_info": {
   "codemirror_mode": {
    "name": "ipython",
    "version": 3
   },
   "file_extension": ".py",
   "mimetype": "text/x-python",
   "name": "python",
   "nbconvert_exporter": "python",
   "pygments_lexer": "ipython3",
   "version": "3.6.13"
  }
 },
 "nbformat": 4,
 "nbformat_minor": 4
}
