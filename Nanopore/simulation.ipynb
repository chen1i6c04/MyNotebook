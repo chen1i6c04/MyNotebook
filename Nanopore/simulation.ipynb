{
 "cells": [
  {
   "cell_type": "code",
   "execution_count": 1,
   "id": "d7713d04-59f2-4bc9-8a0a-4bf46141ff7c",
   "metadata": {},
   "outputs": [],
   "source": [
    "import sys\n",
    "from pathlib import Path\n",
    "\n",
    "sys.path.append('../src')\n",
    "from utils import run_cmd"
   ]
  },
  {
   "cell_type": "code",
   "execution_count": 2,
   "id": "32300475-49d6-4152-83bb-12b70b5584ad",
   "metadata": {},
   "outputs": [],
   "source": [
    "def simulate_nanopore_read(reference, quantity, output, qscore_model, error_model, length='5000,7000', threads=8):\n",
    "    cmd = f\"rustyread --threads {threads} simulate --reference {reference} --quantity {quantity} --qscore_model {qscore_model} --length {length} \"\\\n",
    "          f\"--error_model {error_model} --output {output} --number_base_store 500x\"\n",
    "    run_cmd(cmd)"
   ]
  },
  {
   "cell_type": "code",
   "execution_count": 3,
   "id": "b0c6948b-a7d1-4468-b094-f0c2cf55f29e",
   "metadata": {},
   "outputs": [],
   "source": [
    "qscore_model = '/media/GenomicResearch/Tools/rustyread_model/qscore_models/nanopore_2020'\n",
    "error_model = '/media/GenomicResearch/Tools/rustyread_model/error_models/nanopore2020'"
   ]
  },
  {
   "cell_type": "code",
   "execution_count": 12,
   "id": "443bebb0-df6e-40f7-9c64-84b5fa0e59e7",
   "metadata": {},
   "outputs": [],
   "source": [
    "reference = \"/media/GenomicResearch/Issue/20210909_estimate_ont_depth_for_cgmlst/simulated/N16961/reference.fa\"\n",
    "outfile = Path('/media/GenomicResearch/Issue/20210909_estimate_ont_depth_for_cgmlst/simulated/N16961/reads.fastq')"
   ]
  },
  {
   "cell_type": "code",
   "execution_count": 13,
   "id": "cd534ac5-ffb5-4e8f-9223-52bddcf8d586",
   "metadata": {},
   "outputs": [],
   "source": [
    "simulate_nanopore_read(reference, '1000x', outfile, qscore_model, error_model, threads=32)"
   ]
  },
  {
   "cell_type": "code",
   "execution_count": null,
   "id": "a855a780-a75c-4281-bdc4-7ee2487a7478",
   "metadata": {},
   "outputs": [],
   "source": []
  }
 ],
 "metadata": {
  "kernelspec": {
   "display_name": "Python 3",
   "language": "python",
   "name": "python3"
  },
  "language_info": {
   "codemirror_mode": {
    "name": "ipython",
    "version": 3
   },
   "file_extension": ".py",
   "mimetype": "text/x-python",
   "name": "python",
   "nbconvert_exporter": "python",
   "pygments_lexer": "ipython3",
   "version": "3.6.13"
  }
 },
 "nbformat": 4,
 "nbformat_minor": 5
}
