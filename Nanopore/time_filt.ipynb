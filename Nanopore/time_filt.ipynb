{
 "cells": [
  {
   "cell_type": "code",
   "execution_count": 1,
   "metadata": {},
   "outputs": [],
   "source": [
    "import subprocess\n",
    "from pathlib import Path\n",
    "from concurrent.futures import ProcessPoolExecutor"
   ]
  },
  {
   "cell_type": "code",
   "execution_count": 2,
   "metadata": {},
   "outputs": [],
   "source": [
    "import sys\n",
    "sys.path.append('../src')\n",
    "from utils import run_cmd"
   ]
  },
  {
   "cell_type": "code",
   "execution_count": 3,
   "metadata": {},
   "outputs": [],
   "source": [
    "program = '/home/chen1i6c04/time_filt.py'"
   ]
  },
  {
   "cell_type": "code",
   "execution_count": 4,
   "metadata": {},
   "outputs": [],
   "source": [
    "dirpath = Path('/media/NAS/NanoporeOutput/20210721_clBC_Test50/1_Guppy')\n",
    "sequencing_summary = dirpath/'sequencing_summary.txt'\n",
    "outpath = Path('/media/NAS/Central_Lab_Storage/MinION/mNGS/20210721clBC_Beads/time_filt/fastq')\n",
    "hours = (2, 4, 16)"
   ]
  },
  {
   "cell_type": "code",
   "execution_count": 5,
   "metadata": {},
   "outputs": [],
   "source": [
    "cmds = []\n",
    "for idx in (16, 17, 19, 20):\n",
    "    barcode = f\"barcode{idx:02}\"\n",
    "    barcode_dir = dirpath/barcode\n",
    "    for hour in hours:\n",
    "        outfile = outpath/(barcode + f'_{hour:02}h.fastq.gz')\n",
    "        cmd = f\"python {program} -s {sequencing_summary} -t {60*60*hour} {barcode_dir/'*.fastq'} | nanoq -l 1000 -q 10 | pigz -9 -p 2 > {outfile}\"\n",
    "        cmds.append(cmd)"
   ]
  },
  {
   "cell_type": "code",
   "execution_count": 6,
   "metadata": {},
   "outputs": [],
   "source": [
    "with ProcessPoolExecutor(10) as executor:\n",
    "    executor.map(run_cmd, cmds)"
   ]
  },
  {
   "cell_type": "code",
   "execution_count": null,
   "metadata": {},
   "outputs": [],
   "source": []
  }
 ],
 "metadata": {
  "kernelspec": {
   "display_name": "Python 3",
   "language": "python",
   "name": "python3"
  },
  "language_info": {
   "codemirror_mode": {
    "name": "ipython",
    "version": 3
   },
   "file_extension": ".py",
   "mimetype": "text/x-python",
   "name": "python",
   "nbconvert_exporter": "python",
   "pygments_lexer": "ipython3",
   "version": "3.6.12"
  }
 },
 "nbformat": 4,
 "nbformat_minor": 4
}
