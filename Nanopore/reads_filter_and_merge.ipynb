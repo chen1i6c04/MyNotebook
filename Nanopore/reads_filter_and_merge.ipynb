{
 "cells": [
  {
   "cell_type": "code",
   "execution_count": 1,
   "id": "6652cfd1",
   "metadata": {},
   "outputs": [],
   "source": [
    "import os\n",
    "import sys\n",
    "from pathlib import Path\n",
    "from concurrent.futures import ProcessPoolExecutor"
   ]
  },
  {
   "cell_type": "code",
   "execution_count": 2,
   "id": "40554c0c",
   "metadata": {},
   "outputs": [],
   "source": [
    "sys.path.append('../src')\n",
    "\n",
    "from utils import run_cmd"
   ]
  },
  {
   "cell_type": "code",
   "execution_count": 3,
   "id": "c10d44b4-34df-4f97-8d6d-d9aeba597a28",
   "metadata": {},
   "outputs": [],
   "source": [
    "def build_index(file):\n",
    "    run_cmd(f'minimap2 -d {file}')"
   ]
  },
  {
   "cell_type": "code",
   "execution_count": 4,
   "id": "a76849f3-640a-48d8-969a-82fd2d7ca34e",
   "metadata": {},
   "outputs": [],
   "source": [
    "def long_reads_filter(input_files, output_file, min_length=500, min_qual=7, exclude_genome='', threads=8):\n",
    "    cmd = []\n",
    "    cmd += [f\"cat {input_files}\"]\n",
    "    cmd += [f\"nanoq -q {min_qual} -l {min_length}\"]\n",
    "    if exclude_genome:\n",
    "        if os.path.exists(exclude_genome + '.fai') is False:\n",
    "            build_index(file)\n",
    "        cmd += [\n",
    "            f'minimap2 -t {threads} -ax map-ont {exclude_genome + \".fai\"} - ',\n",
    "            f'samtools sort -@ {threads} --reference {exclude_genome} -O BAM -',\n",
    "            f\"samtools view -@ {threads} --reference {exclude_genome} -f 4 -O BAM -\",\n",
    "            f\"samtools fastq -@ {threads} --reference {exclude_genome} -\",\n",
    "        ]\n",
    "    if output_file.endswith('gz'):\n",
    "        cmd += [f\"pigz -9 -p {threads} > {output_file}\"]\n",
    "    else:\n",
    "        cmd[-1] += f\" > {output_file}\"\n",
    "    run_cmd(' | '.join(cmd))"
   ]
  },
  {
   "cell_type": "code",
   "execution_count": 5,
   "id": "c4fbe329",
   "metadata": {},
   "outputs": [],
   "source": [
    "dirpath = Path('/media/Central_Lab_Storage/MinION/mNGS/20220216_ICU31_34_strain/Guppy')\n",
    "outpath = Path('/media/Central_Lab_Storage/MinION/mNGS/20220216_ICU31_34_strain/fastq')"
   ]
  },
  {
   "cell_type": "code",
   "execution_count": 6,
   "id": "17c66264-3267-4a4e-9644-7eac9f31d1fc",
   "metadata": {},
   "outputs": [],
   "source": [
    "exclude_genome = '/media/Central_Lab_Storage/NcbiASM/GRCh38_latest_genomic.fna'\n",
    "\n",
    "for idx in (64, 65, 66, 67, 72, 73, 74):\n",
    "    barcode = f\"barcode{idx:02}\"\n",
    "    barcode_dir = os.path.join(dirpath, barcode, '*')\n",
    "    fastq_file = os.path.join(outpath, (barcode + '.fastq.gz'))\n",
    "    long_reads_filter(\n",
    "        barcode_dir,\n",
    "        fastq_file,\n",
    "        exclude_genome=exclude_genome,\n",
    "        threads=32,\n",
    "    )"
   ]
  },
  {
   "cell_type": "code",
   "execution_count": null,
   "id": "fa235ed5",
   "metadata": {},
   "outputs": [],
   "source": []
  },
  {
   "cell_type": "code",
   "execution_count": 20,
   "id": "31cdaf36-dccb-40fc-b932-12572d6869ab",
   "metadata": {},
   "outputs": [],
   "source": [
    "dirpath = Path('/media/ONT/20211220_Lis_WGA_2/guppy_hac')\n",
    "outpath = Path('/media/Central_Lab_Storage/MinION/20211220_Lis_WGA_2/fastq')"
   ]
  },
  {
   "cell_type": "code",
   "execution_count": 21,
   "id": "08b0feeb-3752-457d-9e5e-7d3ad005a037",
   "metadata": {},
   "outputs": [],
   "source": [
    "for idx in (5, 7):\n",
    "    barcode = f\"barcode{idx:02}\"\n",
    "    barcode_dir = os.path.join(dirpath, barcode, '*')\n",
    "    fastq_file = os.path.join(outpath, (barcode + '.fastq.gz'))\n",
    "    run_cmd(f\"cat {barcode_dir} | pigz -9 -p 64 > {fastq_file}\")"
   ]
  },
  {
   "cell_type": "code",
   "execution_count": 15,
   "id": "c1328aeb-2571-4a8f-8529-acafec644af1",
   "metadata": {},
   "outputs": [],
   "source": [
    "with ProcessPoolExecutor(4) as executor:\n",
    "    for idx in (9, 10, 11):\n",
    "        barcode = f\"barcode{idx:02}\"\n",
    "        barcode_dir = os.path.join(dirpath, barcode, '*')\n",
    "        fastq_file = os.path.join(outpath, (barcode + '.fastq.gz'))\n",
    "        executor.submit(long_reads_filter, barcode_dir, fastq_file, threads=16, min_length=1000)"
   ]
  },
  {
   "cell_type": "code",
   "execution_count": 38,
   "id": "a5ee66cc-8464-4949-881e-4162185b8bc7",
   "metadata": {},
   "outputs": [],
   "source": [
    "dirpath = Path('/media/Central_Lab_Storage/MinION_2022/20220106_Sal/fastq')\n",
    "\n",
    "cmds = []\n",
    "for idx in (5, 6, 7, 8):\n",
    "    barcode = f\"barcode{idx:02}\"\n",
    "    fastq_file = os.path.join(dirpath, (barcode + '.fastq.gz'))\n",
    "    subsample_file = os.path.join(dirpath, (barcode + '_100x.fastq.gz'))\n",
    "    cmds.append(f\"rasusa -c 100 -g 5MB -i {fastq_file} | pigz -9 -p 8 > {subsample_file}\")"
   ]
  },
  {
   "cell_type": "code",
   "execution_count": 39,
   "id": "1a6dc256-4c82-45f7-921b-d03a63f5735f",
   "metadata": {},
   "outputs": [],
   "source": [
    "with ProcessPoolExecutor(4) as executor:\n",
    "    executor.map(run_cmd, cmds)"
   ]
  },
  {
   "cell_type": "code",
   "execution_count": null,
   "id": "0bb51297-4bb8-46de-a83e-902a957e474f",
   "metadata": {},
   "outputs": [],
   "source": []
  }
 ],
 "metadata": {
  "kernelspec": {
   "display_name": "Python 3",
   "language": "python",
   "name": "python3"
  },
  "language_info": {
   "codemirror_mode": {
    "name": "ipython",
    "version": 3
   },
   "file_extension": ".py",
   "mimetype": "text/x-python",
   "name": "python",
   "nbconvert_exporter": "python",
   "pygments_lexer": "ipython3",
   "version": "3.6.13"
  }
 },
 "nbformat": 4,
 "nbformat_minor": 5
}
