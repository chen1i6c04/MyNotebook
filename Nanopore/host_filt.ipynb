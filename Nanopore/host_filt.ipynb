{
 "cells": [
  {
   "cell_type": "code",
   "execution_count": 1,
   "id": "educational-norfolk",
   "metadata": {},
   "outputs": [],
   "source": [
    "from pathlib import Path\n",
    "from multiprocessing import Pool"
   ]
  },
  {
   "cell_type": "code",
   "execution_count": 2,
   "id": "latter-intersection",
   "metadata": {},
   "outputs": [],
   "source": [
    "import sys\n",
    "sys.path.append('../src')\n",
    "\n",
    "from utils import run_cmd"
   ]
  },
  {
   "cell_type": "code",
   "execution_count": 32,
   "id": "elegant-brook",
   "metadata": {},
   "outputs": [],
   "source": [
    "exclude_genome_index = '/media/Central_Lab_Storage/NcbiASM/GRCh38_latest_genomic.mmi'\n",
    "exclude_genome = '/media/Central_Lab_Storage/NcbiASM/GRCh38_latest_genomic.fna.gz'\n",
    "raws = '/media/GenomicResearch/Issue/UNSGM/raw/Sample05_R1.fastq.gz'\n",
    "threads = 16\n",
    "output = '/media/GenomicResearch/Issue/UNSGM/raw/Sample05_R1_clean.fastq'"
   ]
  },
  {
   "cell_type": "code",
   "execution_count": null,
   "id": "focal-rally",
   "metadata": {},
   "outputs": [],
   "source": []
  },
  {
   "cell_type": "code",
   "execution_count": 33,
   "id": "06292879-6129-4141-9afe-9b7a82fc1cb0",
   "metadata": {},
   "outputs": [],
   "source": [
    "cmd = f\"zcat -f {raws} | \"\\\n",
    "      f\"minimap2 -t {threads} -K 10G -ax map-ont {exclude_genome_index} - | \"\\\n",
    "      f\"samtools sort -@ {threads} --reference {exclude_genome} -O BAM - | \"\\\n",
    "      f\"samtools view -@ {threads} --reference {exclude_genome} -b -f 4 -O BAM - | \"\\\n",
    "      f\"samtools fastq -@ {threads} --reference {exclude_genome} > {output}\""
   ]
  },
  {
   "cell_type": "code",
   "execution_count": 34,
   "id": "76d13f72-386b-4057-8a37-0587a1604baa",
   "metadata": {},
   "outputs": [
    {
     "name": "stdout",
     "output_type": "stream",
     "text": [
      "[M::main::17.134*1.00] loaded/built the index for 639 target sequence(s)\n",
      "[M::mm_mapopt_update::20.091*1.00] mid_occ = 742\n",
      "[M::mm_idx_stat] kmer size: 15; skip: 10; is_hpc: 0; #seq: 639\n",
      "[M::mm_idx_stat::21.507*1.00] distinct minimizers: 100222534 (37.40% are singletons); average occurrences: 5.847; average spacing: 5.584; total length: 3272089205\n",
      "[M::worker_pipeline::60.278*5.57] mapped 4080406 sequences\n",
      "[M::main] Version: 2.22-r1101\n",
      "[M::main] CMD: minimap2 -t 16 -K 10G -ax map-ont /media/Central_Lab_Storage/NcbiASM/GRCh38_latest_genomic.mmi -\n",
      "[M::main] Real time: 61.100 sec; CPU: 336.577 sec; Peak RSS: 9.414 GB\n",
      "[bam_sort_core] merging from 0 files and 16 in-memory blocks...\n",
      "[M::bam2fq_mainloop] discarded 0 singletons\n",
      "[M::bam2fq_mainloop] processed 4045993 reads\n"
     ]
    }
   ],
   "source": [
    "!{cmd}"
   ]
  },
  {
   "cell_type": "code",
   "execution_count": null,
   "id": "4106516d-0ae0-42b1-bc44-2ec66a5b024a",
   "metadata": {},
   "outputs": [],
   "source": []
  }
 ],
 "metadata": {
  "kernelspec": {
   "display_name": "Python 3",
   "language": "python",
   "name": "python3"
  },
  "language_info": {
   "codemirror_mode": {
    "name": "ipython",
    "version": 3
   },
   "file_extension": ".py",
   "mimetype": "text/x-python",
   "name": "python",
   "nbconvert_exporter": "python",
   "pygments_lexer": "ipython3",
   "version": "3.6.13"
  }
 },
 "nbformat": 4,
 "nbformat_minor": 5
}
