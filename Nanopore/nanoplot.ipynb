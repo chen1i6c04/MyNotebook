{
 "cells": [
  {
   "cell_type": "code",
   "execution_count": 1,
   "metadata": {},
   "outputs": [],
   "source": [
    "import sys\n",
    "from pathlib import Path\n",
    "from multiprocessing import Pool\n",
    "\n",
    "import pandas as pd"
   ]
  },
  {
   "cell_type": "code",
   "execution_count": 2,
   "metadata": {},
   "outputs": [],
   "source": [
    "sys.path.append('../src')\n",
    "\n",
    "from utils import run_cmd"
   ]
  },
  {
   "cell_type": "markdown",
   "metadata": {},
   "source": [
    "## Plot from sequencing summary"
   ]
  },
  {
   "cell_type": "code",
   "execution_count": null,
   "metadata": {},
   "outputs": [],
   "source": []
  },
  {
   "cell_type": "code",
   "execution_count": 5,
   "metadata": {},
   "outputs": [],
   "source": [
    "summary_file = '/media/ONT/20211028_WGA/guppy_hac/sequencing_summary.txt'\n",
    "outdir = '/media/Central_Lab_Storage/MinION/20211028_WGA/summary'\n",
    "!conda run -n nanoplot NanoPlot --tsv_stats --loglength --dpi 200 --N50 --summary {summary_file} -o {outdir} -cm Blues -t 16 --drop_outliers"
   ]
  },
  {
   "cell_type": "code",
   "execution_count": 20,
   "metadata": {},
   "outputs": [],
   "source": [
    "fastq = '/media/GenomicResearch/Issue/UNSGM/raw/Sample02.fastq.gz'\n",
    "outdir = '/media/GenomicResearch/Issue/UNSGM/nanoplot/Sample02'\n",
    "!conda run -n nanoplot NanoPlot --color lightsteelblue  --tsv_stats --dpi 200 --N50 -t 16 --fastq {fastq} -o {outdir}"
   ]
  },
  {
   "cell_type": "markdown",
   "metadata": {},
   "source": [
    "## Plot from fastq"
   ]
  },
  {
   "cell_type": "code",
   "execution_count": 5,
   "metadata": {},
   "outputs": [],
   "source": [
    "dirpath = Path('/media/ONT/\"20220119_Sal (unfinish)\"/20220119_Sal/20220119_0047_MN28886_FAR41236_95a07a63/fastq_pass')\n",
    "outpath = Path('/media/Central_Lab_Storage/MinION_2022/20220119_Sal/NanoPlot')\n",
    "\n",
    "cmds = []\n",
    "for idx in (11, 12):\n",
    "    barcode = f\"barcode{idx:02}\"\n",
    "    outdir = outpath/barcode\n",
    "    cmd = f\"conda run -n nanoplot NanoPlot --color lightsteelblue  --tsv_stats --dpi 200 --N50 -t 8 --fastq {dirpath/barcode/'*.fastq'} -o {outdir}\"\n",
    "    cmds.append(cmd)"
   ]
  },
  {
   "cell_type": "code",
   "execution_count": 6,
   "metadata": {},
   "outputs": [],
   "source": [
    "with Pool(4) as p:\n",
    "    p.map(run_cmd, cmds)"
   ]
  },
  {
   "cell_type": "code",
   "execution_count": 38,
   "metadata": {},
   "outputs": [],
   "source": [
    "dirpath = Path('/media/Central_Lab_Storage/MinION_2022/20220106_Sal/NanoPlot')\n",
    "\n",
    "stats = []\n",
    "for i in dirpath.iterdir():\n",
    "    filepath = i/'NanoStats.txt'\n",
    "    stat = pd.read_csv(filepath, sep='\\t', index_col=0, names=[i.name], header=0)\n",
    "    stats.append(stat)\n",
    "stats = pd.concat(stats, axis=1)\n",
    "stats = stats.T.sort_index()"
   ]
  },
  {
   "cell_type": "code",
   "execution_count": 39,
   "metadata": {},
   "outputs": [],
   "source": [
    "stats.to_csv('/media/Central_Lab_Storage/MinION_2022/20220106_Sal/nano-stats.tsv', sep='\\t')"
   ]
  },
  {
   "cell_type": "code",
   "execution_count": null,
   "metadata": {},
   "outputs": [],
   "source": []
  },
  {
   "cell_type": "code",
   "execution_count": null,
   "metadata": {},
   "outputs": [],
   "source": []
  }
 ],
 "metadata": {
  "kernelspec": {
   "display_name": "Python 3",
   "language": "python",
   "name": "python3"
  },
  "language_info": {
   "codemirror_mode": {
    "name": "ipython",
    "version": 3
   },
   "file_extension": ".py",
   "mimetype": "text/x-python",
   "name": "python",
   "nbconvert_exporter": "python",
   "pygments_lexer": "ipython3",
   "version": "3.6.13"
  }
 },
 "nbformat": 4,
 "nbformat_minor": 4
}
