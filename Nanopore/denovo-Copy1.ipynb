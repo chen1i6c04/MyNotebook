{
 "cells": [
  {
   "cell_type": "code",
   "execution_count": 1,
   "metadata": {},
   "outputs": [],
   "source": [
    "import os\n",
    "import sys\n",
    "import shutil\n",
    "import subprocess\n",
    "from pathlib import Path\n",
    "from multiprocessing import Pool\n",
    "from concurrent.futures import ProcessPoolExecutor"
   ]
  },
  {
   "cell_type": "code",
   "execution_count": 2,
   "metadata": {},
   "outputs": [],
   "source": [
    "sys.path.append('../src')\n",
    "from utils import run_cmd"
   ]
  },
  {
   "cell_type": "code",
   "execution_count": 3,
   "metadata": {},
   "outputs": [],
   "source": [
    "program = '/media/GenomicResearch/Tools/homopolish/homopolish.py'\n",
    "polish_model = '/media/GenomicResearch/Tools/homopolish/R9.4.pkl'\n",
    "mash_sketch = '/media/GenomicResearch/Tools/homopolish/bacteria.msh'\n",
    "medaka_model = 'r941_min_hac_g507'"
   ]
  },
  {
   "cell_type": "code",
   "execution_count": null,
   "metadata": {},
   "outputs": [],
   "source": []
  },
  {
   "cell_type": "code",
   "execution_count": 4,
   "metadata": {},
   "outputs": [],
   "source": [
    "def fn(reads, outdir, medaka_model, polish_model, mash_sketch, threads=8, nofilter=False, minreadlen=500, minquality=7, opts=''):\n",
    "    flye_dirname = os.path.join(outdir, 'flye')\n",
    "    flye_asm = os.path.join(flye_dirname, 'assembly.fasta')\n",
    "    racon_dirname = os.path.join(flye_dirname, 'polish', 'racon')\n",
    "    racon_asm = os.path.join(racon_dirname, 'consensus.fasta')\n",
    "    paf_filename = os.path.join(racon_dirname, 'aligments.paf')\n",
    "    medaka_dirname = os.path.join(flye_dirname, 'polish', 'medaka')\n",
    "    medaka_asm = os.path.join(medaka_dirname, 'consensus.fasta')\n",
    "    for dirname in (racon_dirname, medaka_dirname):\n",
    "        os.makedirs(dirname, exist_ok=True)\n",
    "    ###\n",
    "    \n",
    "    if nofilter is False:\n",
    "        raw = os.path.join(outdir, 'READS.fastq.gz')\n",
    "        cmd = f\"nanoq -i {reads} -l {minreadlen} -q {minquality} | pigz -1 -p {threads} > {raw}\"\n",
    "        run_cmd(cmd)\n",
    "    else:\n",
    "        if os.path.splitext(reads)[-1] == '.gz':\n",
    "            raw = os.path.join(outdir, 'READS.fastq.gz')\n",
    "        elif os.path.splitext(reads)[-1] == '.fastq':\n",
    "            raw = os.path.join(outdir, 'READS.fastq')\n",
    "        else:\n",
    "            return\n",
    "        os.symlink(reads, raw)\n",
    "    ###\n",
    "    run_cmd(f\"conda run -n dragonflye flye --nano-raw {raw} -o {flye_dirname} -t {threads} {opts}\")\n",
    "    if os.path.exists(flye_asm) is False:\n",
    "        os.remove(raw)\n",
    "        return\n",
    "    shutil.copyfile(\n",
    "        os.path.join(flye_dirname, 'assembly_info.txt'),\n",
    "        os.path.join(outdir, 'flye_info.txt')\n",
    "    )\n",
    "    shutil.copyfile(\n",
    "        os.path.join(flye_dirname, 'assembly_graph.gfa'),\n",
    "        os.path.join(outdir, 'flye-unpolished.gfa')\n",
    "    )\n",
    "    run_cmd(f\"minimap2 -t {threads} -x map-ont {flye_asm} {raw} > {paf_filename}\")\n",
    "    run_cmd(f\"racon -t {threads} {raw} {paf_filename} {flye_asm} > {racon_asm}\")\n",
    "    run_cmd(f\"conda run -n dragonflye medaka_consensus -i {raw} -d {racon_asm} -o {medaka_dirname} -m {medaka_model} -t {threads}\")\n",
    "    os.remove(raw)\n",
    "    homopolish_dirname = os.path.join(outdir, 'homopolish')\n",
    "    homopolish_asm = os.path.join(homopolish_dirname, 'consensus_homopolished.fasta')\n",
    "    run_cmd(f\"conda run -n homopolish python {program} polish -a {medaka_asm} -s {mash_sketch} -m {polish_model} \"\\\n",
    "            f\"-o {homopolish_dirname} -t {threads}\")\n",
    "    shutil.copyfile(\n",
    "            homopolish_asm,\n",
    "            os.path.join(outdir, 'contigs.fasta')\n",
    "        )\n",
    "    for dirname in (flye_dirname, homopolish_dirname):\n",
    "        shutil.rmtree(dirname)"
   ]
  },
  {
   "cell_type": "code",
   "execution_count": 30,
   "metadata": {},
   "outputs": [],
   "source": [
    "dirpath = Path('/media/GenomicResearch/Issue/20210909_estimate_nanopore_depth/wgs-2/20211209_Lis_barcode10_R20-0148/fastq')\n",
    "outpath = Path('/media/GenomicResearch/Issue/20210909_estimate_nanopore_depth/wgs-2/20211209_Lis_barcode10_R20-0148/denovo/')\n",
    "\n",
    "with Pool(20) as p:\n",
    "    for i in dirpath.iterdir():\n",
    "        outdir = outpath/(i.stem.replace('.fastq', ''))\n",
    "        p.apply_async(fn, (i, outdir, medaka_model, polish_model, mash_sketch), {'nofilter': False, 'threads': 12})\n",
    "    p.close()\n",
    "    p.join()"
   ]
  },
  {
   "cell_type": "code",
   "execution_count": null,
   "metadata": {},
   "outputs": [],
   "source": [
    "fn(i, outdir, medaka_model, polish_model, mash_sketch, nofilter=False)"
   ]
  },
  {
   "cell_type": "code",
   "execution_count": null,
   "metadata": {},
   "outputs": [],
   "source": [
    "fq = '/media/Central_Lab_Storage/MinION_2022/20220113_Sal/fastq/barcode10-100x.fastq.gz'\n",
    "out = '/media/Central_Lab_Storage/MinION_2022/20220113_Sal/denovo/barcode10-100x'\n",
    "fn(\n",
    "    fq, out, medaka_model, polish_model, mash_sketch, 32, nofilter=True,\n",
    "  )"
   ]
  },
  {
   "cell_type": "code",
   "execution_count": 12,
   "metadata": {},
   "outputs": [],
   "source": [
    "dirpath = Path('/media/GenomicResearch/Issue/20210909_estimate_nanopore_depth/wgs/20211209_Lis_barcode08/fastq')\n",
    "outpath = Path('/media/GenomicResearch/Issue/20210909_estimate_nanopore_depth/wgs/20211209_Lis_barcode08/denovo')\n",
    "\n",
    "kwds = {''}\n",
    "\n",
    "with Pool(5) as p:\n",
    "    try:\n",
    "        for file in dirpath.iterdir():\n",
    "            outdir = outpath/file.stem.replace('.fastq', '')\n",
    "            p.apply_async(\n",
    "                fn,\n",
    "                args=(file, outdir, medaka_model, polish_model, mash_sketch, 8),\n",
    "            )\n",
    "        p.close()\n",
    "        p.join()\n",
    "    except KeyboardInterrupt:\n",
    "        p.terminate()"
   ]
  },
  {
   "cell_type": "code",
   "execution_count": null,
   "metadata": {},
   "outputs": [],
   "source": []
  },
  {
   "cell_type": "code",
   "execution_count": 9,
   "metadata": {},
   "outputs": [],
   "source": [
    "namamap = {\n",
    "    'barcode01': 'R19-2905',\n",
    "    'barcode02': 'R20-0026',\n",
    "    'barcode03': 'R20-0030',\n",
    "    'barcode04': 'R20-0088',\n",
    "    'barcode05': 'R20-0127',\n",
    "    'barcode06': 'R20-0131',\n",
    "    'barcode07': 'R20-0140',\n",
    "    'barcode08': 'R20-0145',\n",
    "    'barcode09': 'R20-0148',\n",
    "    'barcode10': 'R20-0150',\n",
    "    'barcode11': 'R20-0158',\n",
    "    'barcode12': 'R20-0160',\n",
    "}"
   ]
  },
  {
   "cell_type": "code",
   "execution_count": 10,
   "metadata": {},
   "outputs": [],
   "source": [
    "dirpath = Path('/media/Central_Lab_Storage/MinION/20200925/denovo')\n",
    "outpath = Path('/media/GenomicResearch/Issue/20201221_hybrid_and_denovo/NanoporeWGS/Contigs')\n",
    "\n",
    "for i, j in namamap.items():\n",
    "    src = dirpath/i/'contigs.fasta'\n",
    "    dst = outpath/(j + '.fa')\n",
    "    shutil.copyfile(src, dst)"
   ]
  },
  {
   "cell_type": "code",
   "execution_count": null,
   "metadata": {},
   "outputs": [],
   "source": []
  }
 ],
 "metadata": {
  "kernelspec": {
   "display_name": "Python 3",
   "language": "python",
   "name": "python3"
  },
  "language_info": {
   "codemirror_mode": {
    "name": "ipython",
    "version": 3
   },
   "file_extension": ".py",
   "mimetype": "text/x-python",
   "name": "python",
   "nbconvert_exporter": "python",
   "pygments_lexer": "ipython3",
   "version": "3.6.13"
  }
 },
 "nbformat": 4,
 "nbformat_minor": 4
}
