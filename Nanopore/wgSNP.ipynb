{
 "cells": [
  {
   "cell_type": "code",
   "execution_count": 6,
   "metadata": {},
   "outputs": [],
   "source": [
    "import os\n",
    "import shutil\n",
    "import subprocess\n",
    "from pathlib import Path\n",
    "from multiprocessing import Pool\n",
    "\n",
    "import pandas as pd"
   ]
  },
  {
   "cell_type": "code",
   "execution_count": 10,
   "metadata": {},
   "outputs": [],
   "source": [
    "def single_nucleotide_position(reference, query, outdir, threads=4):\n",
    "    os.makedirs(outdir, exist_ok=True)\n",
    "    \n",
    "    symlink_reference = os.path.join(outdir, 'reference.fa')\n",
    "    os.symlink(reference, symlink_reference)\n",
    "    \n",
    "    symlink_query = os.path.join(outdir, 'query.fa')\n",
    "    os.symlink(query, symlink_query)\n",
    "    \n",
    "    cmd = f\"parsnp -r {symlink_reference} -d {symlink_reference} {symlink_query} -p {threads} -o {outdir} --use-fasttree\"\n",
    "    subprocess.run(cmd, shell=True, check=True)\n",
    "    \n",
    "    ggr_file = Path(outdir, 'parsnp.ggr')\n",
    "    snp_file = Path(outdir, 'parsnp.snp')\n",
    "    vcf_file = Path(outdir, 'parsnp.vcf')\n",
    "    \n",
    "    cmd = f\"harvesttools -i {ggr_file} -S {snp_file}\"\n",
    "    subprocess.run(cmd, shell=True, check=True)\n",
    "    \n",
    "    cmd = f\"harvesttools -i {ggr_file} -V {vcf_file}\"\n",
    "    subprocess.run(cmd, shell=True, check=True)\n",
    "    \n",
    "    cmd = f\"snp-dists {snp_file} > {Path(outdir, 'matrix.tsv')}\"\n",
    "    subprocess.run(cmd, shell=True, check=True)\n",
    "    \n",
    "    shutil.rmtree(Path(outdir, 'tmp'))"
   ]
  },
  {
   "cell_type": "code",
   "execution_count": 8,
   "metadata": {},
   "outputs": [],
   "source": [
    "samples_name = ['R20-0140', 'R20-0158', 'R20-0148', 'R20-0145', 'R20-0150', 'R20-0088',\n",
    "                'R20-0026', 'R20-0160', 'R20-0030', 'R19-2905', 'R20-0127', 'R20-0131',]"
   ]
  },
  {
   "cell_type": "code",
   "execution_count": 9,
   "metadata": {},
   "outputs": [],
   "source": [
    "reference_path = Path('/media/NGS/Nanopore_1/20200925/contigs/hybrid')\n",
    "query_path = Path('/media/NGS/Nanopore_1/20200925/contigs/denovo')\n",
    "outpath = Path('/media/NGS/Nanopore_1/20200925/wgSNP')"
   ]
  },
  {
   "cell_type": "code",
   "execution_count": 12,
   "metadata": {},
   "outputs": [],
   "source": [
    "with Pool(8) as p:\n",
    "    try:\n",
    "        for sample_name in samples_name:\n",
    "            outdir = outpath/sample_name\n",
    "            reference_genome = reference_path/(sample_name + '.fa')\n",
    "            query_genome = query_path/(sample_name + '.fa')\n",
    "            p.apply_async(single_nucleotide_position, args=(reference_genome, query_genome, outdir))\n",
    "        p.close()\n",
    "        p.join()\n",
    "    except:\n",
    "        p.terminate()"
   ]
  },
  {
   "cell_type": "code",
   "execution_count": null,
   "metadata": {},
   "outputs": [],
   "source": []
  },
  {
   "cell_type": "code",
   "execution_count": null,
   "metadata": {},
   "outputs": [],
   "source": [
    "dirpath = Path('/media/NGS/Nanopore_1/20200925/wgSNP')\n",
    "\n",
    "whole_genome_snp = dict()\n",
    "for subdir in dirpath.iterdir():\n",
    "    filepath = subdir/'matrix.tsv'\n",
    "    df = pd.read_csv(filepath, sep='\\t', index_col=0)\n",
    "    whole_genome_snp[subdir.name] = df.at['hybrid.fa', 'denovo.fa']"
   ]
  },
  {
   "cell_type": "code",
   "execution_count": null,
   "metadata": {},
   "outputs": [],
   "source": [
    "s = pd.Series(whole_genome_snp)"
   ]
  },
  {
   "cell_type": "code",
   "execution_count": null,
   "metadata": {},
   "outputs": [],
   "source": [
    "s.name = 'wgSNP'\n",
    "s.index.name = 'Key'"
   ]
  },
  {
   "cell_type": "code",
   "execution_count": null,
   "metadata": {},
   "outputs": [],
   "source": [
    "s.to_csv('/media/NGS/Nanopore_1/20200925/wgSNP.tsv', sep='\\t')"
   ]
  },
  {
   "cell_type": "code",
   "execution_count": null,
   "metadata": {},
   "outputs": [],
   "source": []
  }
 ],
 "metadata": {
  "kernelspec": {
   "display_name": "Python 3",
   "language": "python",
   "name": "python3"
  },
  "language_info": {
   "codemirror_mode": {
    "name": "ipython",
    "version": 3
   },
   "file_extension": ".py",
   "mimetype": "text/x-python",
   "name": "python",
   "nbconvert_exporter": "python",
   "pygments_lexer": "ipython3",
   "version": "3.6.12"
  }
 },
 "nbformat": 4,
 "nbformat_minor": 4
}
