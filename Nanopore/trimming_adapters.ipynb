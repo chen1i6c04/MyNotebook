{
 "cells": [
  {
   "cell_type": "code",
   "execution_count": 1,
   "metadata": {},
   "outputs": [],
   "source": [
    "import os\n",
    "import sys\n",
    "import shutil\n",
    "import subprocess\n",
    "from pathlib import Path\n",
    "from multiprocessing import Pool\n",
    "\n",
    "import pandas as pd"
   ]
  },
  {
   "cell_type": "code",
   "execution_count": 2,
   "metadata": {},
   "outputs": [],
   "source": [
    "sys.path.append('../src')\n",
    "\n",
    "from utils import run_cmd"
   ]
  },
  {
   "cell_type": "code",
   "execution_count": 3,
   "metadata": {},
   "outputs": [],
   "source": [
    "def run_porechop(inpath, outfile, threads=2):\n",
    "    run_cmd(f'porechop -i {inpath} -t {threads} -o {outfile}', False, False)"
   ]
  },
  {
   "cell_type": "code",
   "execution_count": null,
   "metadata": {},
   "outputs": [],
   "source": []
  },
  {
   "cell_type": "code",
   "execution_count": 4,
   "metadata": {},
   "outputs": [],
   "source": [
    "dirpath = Path('/media/NAS/NanoporeOutput/20210617_Sal/guppy_barcode')\n",
    "outpath = Path('/media/NGS/Nanopore_1/20210617_Sal/fastq')"
   ]
  },
  {
   "cell_type": "code",
   "execution_count": 5,
   "metadata": {},
   "outputs": [],
   "source": [
    "with Pool(8) as p:\n",
    "    try:\n",
    "        for fp in dirpath.iterdir():\n",
    "            if fp.is_dir() and fp.name != 'unclassified':\n",
    "                outfile = outpath/(fp.name + '.fastq')\n",
    "                p.apply_async(func=run_porechop, args=(fp, outfile, 8))\n",
    "            elif fp.suffix == '.fastq':\n",
    "                outfile = outpath/(fp.stem + '.fastq')\n",
    "                p.apply_async(func=run_porechop, args=(fp, outfile, 8))\n",
    "        p.close()\n",
    "        p.join()\n",
    "    except KeyboardInterrupt:\n",
    "        p.terminate()"
   ]
  },
  {
   "cell_type": "code",
   "execution_count": 22,
   "metadata": {},
   "outputs": [],
   "source": [
    "run_porechop(\n",
    "    '/media/NGS/Data_Analysis/20201130_rapid_diagnostic_with_nanopore/mixed_samples/experiment-1/fastq/0_to_100.fastq',\n",
    "    '/media/NGS/Data_Analysis/20201130_rapid_diagnostic_with_nanopore/mixed_samples/experiment-1/porechop_output/0_to_100.fastq',\n",
    "    8)"
   ]
  },
  {
   "cell_type": "code",
   "execution_count": null,
   "metadata": {},
   "outputs": [],
   "source": []
  },
  {
   "cell_type": "code",
   "execution_count": 3,
   "metadata": {},
   "outputs": [],
   "source": [
    "dirpath = Path('/media/NGS/Nanopore_1/20200925/fastq/nanopore')\n",
    "outpath = Path('/media/NGS/Nanopore_1/20200925/fastq/nanopore_trim/')\n",
    "\n",
    "cmds = []\n",
    "for filepath in dirpath.iterdir():\n",
    "    outfile = outpath/filepath.name\n",
    "    cmd = f'nanoq -f {filepath} -o {outfile} -q 10'\n",
    "    cmds.append(cmd)"
   ]
  },
  {
   "cell_type": "code",
   "execution_count": 4,
   "metadata": {},
   "outputs": [],
   "source": [
    "with Pool(12) as p:\n",
    "    p.map(run_cmd, cmds)\n",
    "    p.close()\n",
    "    p.join()"
   ]
  },
  {
   "cell_type": "code",
   "execution_count": null,
   "metadata": {},
   "outputs": [],
   "source": []
  }
 ],
 "metadata": {
  "kernelspec": {
   "display_name": "Python 3",
   "language": "python",
   "name": "python3"
  },
  "language_info": {
   "codemirror_mode": {
    "name": "ipython",
    "version": 3
   },
   "file_extension": ".py",
   "mimetype": "text/x-python",
   "name": "python",
   "nbconvert_exporter": "python",
   "pygments_lexer": "ipython3",
   "version": "3.6.12"
  }
 },
 "nbformat": 4,
 "nbformat_minor": 4
}
