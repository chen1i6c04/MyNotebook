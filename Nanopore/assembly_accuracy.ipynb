{
 "cells": [
  {
   "cell_type": "code",
   "execution_count": 1,
   "metadata": {},
   "outputs": [],
   "source": [
    "import os\n",
    "from io import BytesIO\n",
    "from pathlib import Path\n",
    "from tempfile import TemporaryDirectory\n",
    "from multiprocessing import Pool\n",
    "import numpy as np\n",
    "import pandas as pd"
   ]
  },
  {
   "cell_type": "code",
   "execution_count": 3,
   "metadata": {},
   "outputs": [],
   "source": [
    "import sys\n",
    "sys.path.append('../src')\n",
    "\n",
    "from command import run_cmd\n",
    "from tree import calculate_distance, Dendrogram"
   ]
  },
  {
   "cell_type": "code",
   "execution_count": null,
   "metadata": {},
   "outputs": [],
   "source": [
    "def accuracy(reference, assembly):\n",
    "    with TemporaryDirectory(dir='/tmp/') as tmpdir:\n",
    "        os.symlink(reference, os.path.join(tmpdir, 'reference.fa'))\n",
    "        reference = os.path.join(tmpdir, 'reference.fa')\n",
    "        \n",
    "        os.symlink(assembly, os.path.join(tmpdir, 'assembly.fa'))\n",
    "        assembly = os.path.join(tmpdir, 'assembly.fa')\n",
    "        \n",
    "        cmd = f'/home/chen1i6c04/Tools/assembly_accuracy/fastmer.py --reference {reference} --assembly {assembly}'\n",
    "        stdout, stderr = run_cmd(cmd)\n",
    "    return pd.read_csv(BytesIO(stdout), sep='\\t')"
   ]
  },
  {
   "cell_type": "code",
   "execution_count": null,
   "metadata": {
    "scrolled": true
   },
   "outputs": [],
   "source": [
    "def accuracy_in_diff_steps(reference, dirpath):\n",
    "    if isinstance(dirpath, Path) is False:\n",
    "        dirpath = Path(dirpath)\n",
    "    \n",
    "    targets = {'flye': 'flye/assembly.fasta',\n",
    "               'racon': 'racon.fasta',\n",
    "               'medaka': 'medaka/consensus.fasta',\n",
    "               'homopolish': 'homopolish/consensus_homopolished.fasta',}\n",
    "    \n",
    "    with Pool(4) as p:\n",
    "        try:\n",
    "            multi_results = [p.apply_async(accuracy, (reference, dirpath/j)) for i, j in targets.items()]\n",
    "            multi_results = [result.get() for result in multi_results]\n",
    "            multi_results = pd.concat(multi_results)\n",
    "            multi_results['assembly_name'] = list(targets)\n",
    "        except:\n",
    "            p.terminate()\n",
    "            \n",
    "    return multi_results"
   ]
  },
  {
   "cell_type": "code",
   "execution_count": 29,
   "metadata": {},
   "outputs": [],
   "source": [
    "denovo_path = Path('/media/NGS/Nanopore_1/20200925/denovo')\n",
    "contig_path = Path('/media/NGS/Nanopore_1/20200925/contigs')\n",
    "\n",
    "multiple_results = []\n",
    "for i in contig_path.iterdir():\n",
    "    result = accuracy_in_diff_steps(i, denovo_path/i.stem)\n",
    "    result = result.pivot_table(values='segment_median_qscore', columns='assembly_name')\n",
    "    result.index = [i.stem]\n",
    "    multiple_results.append(result)\n",
    "\n",
    "qscore = pd.concat(multiple_results)\n",
    "qscore = qscore[['flye', 'racon', 'medaka', 'homopolish']].sort_index()\n",
    "qscore.index.name = 'Key'"
   ]
  },
  {
   "cell_type": "code",
   "execution_count": 30,
   "metadata": {},
   "outputs": [
    {
     "data": {
      "text/html": [
       "<div>\n",
       "<style scoped>\n",
       "    .dataframe tbody tr th:only-of-type {\n",
       "        vertical-align: middle;\n",
       "    }\n",
       "\n",
       "    .dataframe tbody tr th {\n",
       "        vertical-align: top;\n",
       "    }\n",
       "\n",
       "    .dataframe thead th {\n",
       "        text-align: right;\n",
       "    }\n",
       "</style>\n",
       "<table border=\"1\" class=\"dataframe\">\n",
       "  <thead>\n",
       "    <tr style=\"text-align: right;\">\n",
       "      <th>assembly_name</th>\n",
       "      <th>flye</th>\n",
       "      <th>racon</th>\n",
       "      <th>medaka</th>\n",
       "      <th>homopolish</th>\n",
       "    </tr>\n",
       "    <tr>\n",
       "      <th>Key</th>\n",
       "      <th></th>\n",
       "      <th></th>\n",
       "      <th></th>\n",
       "      <th></th>\n",
       "    </tr>\n",
       "  </thead>\n",
       "  <tbody>\n",
       "    <tr>\n",
       "      <th>R19-2905</th>\n",
       "      <td>32.56</td>\n",
       "      <td>33.52</td>\n",
       "      <td>39.39</td>\n",
       "      <td>46.99</td>\n",
       "    </tr>\n",
       "    <tr>\n",
       "      <th>R20-0026</th>\n",
       "      <td>25.33</td>\n",
       "      <td>24.47</td>\n",
       "      <td>25.36</td>\n",
       "      <td>26.81</td>\n",
       "    </tr>\n",
       "    <tr>\n",
       "      <th>R20-0030</th>\n",
       "      <td>25.75</td>\n",
       "      <td>25.59</td>\n",
       "      <td>26.52</td>\n",
       "      <td>28.77</td>\n",
       "    </tr>\n",
       "    <tr>\n",
       "      <th>R20-0088</th>\n",
       "      <td>34.56</td>\n",
       "      <td>35.23</td>\n",
       "      <td>45.23</td>\n",
       "      <td>50.00</td>\n",
       "    </tr>\n",
       "    <tr>\n",
       "      <th>R20-0127</th>\n",
       "      <td>26.40</td>\n",
       "      <td>26.22</td>\n",
       "      <td>27.41</td>\n",
       "      <td>29.17</td>\n",
       "    </tr>\n",
       "    <tr>\n",
       "      <th>R20-0131</th>\n",
       "      <td>34.69</td>\n",
       "      <td>35.23</td>\n",
       "      <td>45.23</td>\n",
       "      <td>50.00</td>\n",
       "    </tr>\n",
       "    <tr>\n",
       "      <th>R20-0140</th>\n",
       "      <td>33.82</td>\n",
       "      <td>34.42</td>\n",
       "      <td>40.00</td>\n",
       "      <td>90.00</td>\n",
       "    </tr>\n",
       "    <tr>\n",
       "      <th>R20-0145</th>\n",
       "      <td>33.98</td>\n",
       "      <td>34.56</td>\n",
       "      <td>42.22</td>\n",
       "      <td>50.00</td>\n",
       "    </tr>\n",
       "    <tr>\n",
       "      <th>R20-0148</th>\n",
       "      <td>26.92</td>\n",
       "      <td>26.94</td>\n",
       "      <td>28.17</td>\n",
       "      <td>30.11</td>\n",
       "    </tr>\n",
       "    <tr>\n",
       "      <th>R20-0150</th>\n",
       "      <td>26.70</td>\n",
       "      <td>26.56</td>\n",
       "      <td>27.65</td>\n",
       "      <td>29.32</td>\n",
       "    </tr>\n",
       "    <tr>\n",
       "      <th>R20-0158</th>\n",
       "      <td>34.44</td>\n",
       "      <td>34.75</td>\n",
       "      <td>45.84</td>\n",
       "      <td>50.00</td>\n",
       "    </tr>\n",
       "    <tr>\n",
       "      <th>R20-0160</th>\n",
       "      <td>33.93</td>\n",
       "      <td>33.87</td>\n",
       "      <td>45.23</td>\n",
       "      <td>90.00</td>\n",
       "    </tr>\n",
       "  </tbody>\n",
       "</table>\n",
       "</div>"
      ],
      "text/plain": [
       "assembly_name   flye  racon  medaka  homopolish\n",
       "Key                                            \n",
       "R19-2905       32.56  33.52   39.39       46.99\n",
       "R20-0026       25.33  24.47   25.36       26.81\n",
       "R20-0030       25.75  25.59   26.52       28.77\n",
       "R20-0088       34.56  35.23   45.23       50.00\n",
       "R20-0127       26.40  26.22   27.41       29.17\n",
       "R20-0131       34.69  35.23   45.23       50.00\n",
       "R20-0140       33.82  34.42   40.00       90.00\n",
       "R20-0145       33.98  34.56   42.22       50.00\n",
       "R20-0148       26.92  26.94   28.17       30.11\n",
       "R20-0150       26.70  26.56   27.65       29.32\n",
       "R20-0158       34.44  34.75   45.84       50.00\n",
       "R20-0160       33.93  33.87   45.23       90.00"
      ]
     },
     "execution_count": 30,
     "metadata": {},
     "output_type": "execute_result"
    }
   ],
   "source": [
    "qscore"
   ]
  },
  {
   "cell_type": "code",
   "execution_count": null,
   "metadata": {},
   "outputs": [],
   "source": []
  },
  {
   "cell_type": "code",
   "execution_count": 15,
   "metadata": {},
   "outputs": [
    {
     "data": {
      "text/html": [
       "<div>\n",
       "<style scoped>\n",
       "    .dataframe tbody tr th:only-of-type {\n",
       "        vertical-align: middle;\n",
       "    }\n",
       "\n",
       "    .dataframe tbody tr th {\n",
       "        vertical-align: top;\n",
       "    }\n",
       "\n",
       "    .dataframe thead th {\n",
       "        text-align: right;\n",
       "    }\n",
       "</style>\n",
       "<table border=\"1\" class=\"dataframe\">\n",
       "  <thead>\n",
       "    <tr style=\"text-align: right;\">\n",
       "      <th></th>\n",
       "      <th>flye</th>\n",
       "      <th>racon</th>\n",
       "      <th>medaka</th>\n",
       "      <th>homopolish</th>\n",
       "    </tr>\n",
       "    <tr>\n",
       "      <th>Key</th>\n",
       "      <th></th>\n",
       "      <th></th>\n",
       "      <th></th>\n",
       "      <th></th>\n",
       "    </tr>\n",
       "  </thead>\n",
       "  <tbody>\n",
       "    <tr>\n",
       "      <th>R19-2905</th>\n",
       "      <td>630.0</td>\n",
       "      <td>473.0</td>\n",
       "      <td>123.0</td>\n",
       "      <td>21.0</td>\n",
       "    </tr>\n",
       "    <tr>\n",
       "      <th>R20-0026</th>\n",
       "      <td>1595.0</td>\n",
       "      <td>1566.0</td>\n",
       "      <td>1476.0</td>\n",
       "      <td>1336.0</td>\n",
       "    </tr>\n",
       "    <tr>\n",
       "      <th>R20-0030</th>\n",
       "      <td>1590.0</td>\n",
       "      <td>1489.0</td>\n",
       "      <td>1385.0</td>\n",
       "      <td>1080.0</td>\n",
       "    </tr>\n",
       "    <tr>\n",
       "      <th>R20-0088</th>\n",
       "      <td>425.0</td>\n",
       "      <td>355.0</td>\n",
       "      <td>44.0</td>\n",
       "      <td>5.0</td>\n",
       "    </tr>\n",
       "    <tr>\n",
       "      <th>R20-0127</th>\n",
       "      <td>1503.0</td>\n",
       "      <td>1375.0</td>\n",
       "      <td>1269.0</td>\n",
       "      <td>1070.0</td>\n",
       "    </tr>\n",
       "    <tr>\n",
       "      <th>R20-0131</th>\n",
       "      <td>400.0</td>\n",
       "      <td>347.0</td>\n",
       "      <td>36.0</td>\n",
       "      <td>2.0</td>\n",
       "    </tr>\n",
       "    <tr>\n",
       "      <th>R20-0140</th>\n",
       "      <td>512.0</td>\n",
       "      <td>429.0</td>\n",
       "      <td>122.0</td>\n",
       "      <td>3.0</td>\n",
       "    </tr>\n",
       "    <tr>\n",
       "      <th>R20-0145</th>\n",
       "      <td>506.0</td>\n",
       "      <td>448.0</td>\n",
       "      <td>68.0</td>\n",
       "      <td>4.0</td>\n",
       "    </tr>\n",
       "    <tr>\n",
       "      <th>R20-0148</th>\n",
       "      <td>1431.0</td>\n",
       "      <td>1258.0</td>\n",
       "      <td>1147.0</td>\n",
       "      <td>1073.0</td>\n",
       "    </tr>\n",
       "    <tr>\n",
       "      <th>R20-0150</th>\n",
       "      <td>1472.0</td>\n",
       "      <td>1318.0</td>\n",
       "      <td>1208.0</td>\n",
       "      <td>988.0</td>\n",
       "    </tr>\n",
       "    <tr>\n",
       "      <th>R20-0158</th>\n",
       "      <td>435.0</td>\n",
       "      <td>346.0</td>\n",
       "      <td>32.0</td>\n",
       "      <td>6.0</td>\n",
       "    </tr>\n",
       "    <tr>\n",
       "      <th>R20-0160</th>\n",
       "      <td>434.0</td>\n",
       "      <td>387.0</td>\n",
       "      <td>40.0</td>\n",
       "      <td>3.0</td>\n",
       "    </tr>\n",
       "  </tbody>\n",
       "</table>\n",
       "</div>"
      ],
      "text/plain": [
       "            flye   racon  medaka  homopolish\n",
       "Key                                         \n",
       "R19-2905   630.0   473.0   123.0        21.0\n",
       "R20-0026  1595.0  1566.0  1476.0      1336.0\n",
       "R20-0030  1590.0  1489.0  1385.0      1080.0\n",
       "R20-0088   425.0   355.0    44.0         5.0\n",
       "R20-0127  1503.0  1375.0  1269.0      1070.0\n",
       "R20-0131   400.0   347.0    36.0         2.0\n",
       "R20-0140   512.0   429.0   122.0         3.0\n",
       "R20-0145   506.0   448.0    68.0         4.0\n",
       "R20-0148  1431.0  1258.0  1147.0      1073.0\n",
       "R20-0150  1472.0  1318.0  1208.0       988.0\n",
       "R20-0158   435.0   346.0    32.0         6.0\n",
       "R20-0160   434.0   387.0    40.0         3.0"
      ]
     },
     "execution_count": 15,
     "metadata": {},
     "output_type": "execute_result"
    }
   ],
   "source": [
    "samples = ('R20-0148', 'R20-0127', 'R20-0131', 'R20-0026', 'R20-0158', 'R19-2905', 'R20-0145', 'R20-0140',\n",
    "           'R20-0160', 'R20-0088', 'R20-0030', 'R20-0150')\n",
    "\n",
    "dirpath = Path('/media/NGS/Data_Analysis/20201221_nanopore_assembly_in_hybrid_and_denovo/Profile/1_chip_n_strains')\n",
    "df = []\n",
    "for sample in samples:\n",
    "    profiles = pd.concat([pd.read_csv(i, header=0, index_col=0, names=[i.stem], sep='\\t')\n",
    "                          for i in dirpath.iterdir() if i.stem.startswith(sample)], axis=1)\n",
    "    pdist = calculate_distance(profiles)\n",
    "    pdist.index = pdist.index.str.split('_').str[-1]\n",
    "    pdist.columns = pdist.columns.str.split('_').str[-1]\n",
    "    s = pdist.loc['unicycler']\n",
    "    s.name = sample\n",
    "    df.append(s)\n",
    "\n",
    "distance = pd.concat(df, axis=1).T\n",
    "distance = distance[['flye', 'racon', 'medaka', 'homopolish',]].sort_index()\n",
    "distance.index.name = 'Key'\n",
    "distance"
   ]
  },
  {
   "cell_type": "code",
   "execution_count": null,
   "metadata": {},
   "outputs": [],
   "source": []
  },
  {
   "cell_type": "code",
   "execution_count": null,
   "metadata": {},
   "outputs": [],
   "source": [
    "dirpath = Path('/media/NGS/Nanopore_1/20200925/fastq')"
   ]
  },
  {
   "cell_type": "code",
   "execution_count": null,
   "metadata": {},
   "outputs": [],
   "source": [
    "depth = []\n",
    "for i in dirpath.iterdir():\n",
    "    stdout, stderr = run_cmd(f\"seqtk fqchk {i} | grep ALL | awk '{{print $2}}'\")\n",
    "    total_bases = int(stdout.decode().strip())\n",
    "    depth.append((i.stem, round(total_bases/3000000)))"
   ]
  },
  {
   "cell_type": "code",
   "execution_count": null,
   "metadata": {},
   "outputs": [],
   "source": [
    "depth = pd.DataFrame(depth, columns=['Key', 'depth'])"
   ]
  },
  {
   "cell_type": "code",
   "execution_count": null,
   "metadata": {},
   "outputs": [],
   "source": [
    "depth = depth.sort_values('Key')"
   ]
  },
  {
   "cell_type": "code",
   "execution_count": null,
   "metadata": {},
   "outputs": [],
   "source": []
  },
  {
   "cell_type": "code",
   "execution_count": null,
   "metadata": {},
   "outputs": [],
   "source": [
    "with pd.ExcelWriter('assembly_accuracy.xlsx') as writer:\n",
    "    qscore.to_excel(writer, sheet_name='Q-Score')\n",
    "    distance.to_excel(writer, sheet_name='cgMLST distance')\n",
    "    depth.to_excel(writer, sheet_name='depth', index=False)"
   ]
  },
  {
   "cell_type": "code",
   "execution_count": null,
   "metadata": {},
   "outputs": [],
   "source": []
  },
  {
   "cell_type": "code",
   "execution_count": 17,
   "metadata": {},
   "outputs": [],
   "source": [
    "strain_names = ('R20-0148', 'R20-0127', 'R20-0131', 'R20-0026', 'R20-0158', 'R19-2905',\n",
    "                'R20-0145', 'R20-0140', 'R20-0160', 'R20-0088', 'R20-0030', 'R20-0150')"
   ]
  },
  {
   "cell_type": "code",
   "execution_count": 19,
   "metadata": {},
   "outputs": [],
   "source": [
    "hybrid_path = Path('/media/NGS/Nanopore_1/20200925/contigs/hybrid')\n",
    "denovo_path = Path('/media/NGS/Nanopore_1/20200925/contigs/denovo/')\n",
    "outpath = Path('/media/NGS/Nanopore_1/20200925/quast')"
   ]
  },
  {
   "cell_type": "code",
   "execution_count": 20,
   "metadata": {},
   "outputs": [],
   "source": [
    "for strain_name in strain_names:\n",
    "    ref_file = hybrid_path/(strain_name + '.fa')\n",
    "    in_file = denovo_path/(strain_name + '.fa')\n",
    "    outdir = outpath/strain_name\n",
    "    cmd = f'conda run -n quast quast.py -r {ref_file} -o {outdir} --circos -u {in_file}'\n",
    "    run_cmd(cmd)"
   ]
  },
  {
   "cell_type": "code",
   "execution_count": 16,
   "metadata": {},
   "outputs": [],
   "source": [
    "dirpath = Path('/media/NGS/Nanopore_1/20200925/denovo')\n",
    "# reports = []\n",
    "# for i in dirpath.iterdir():\n",
    "#     filepath = i/'quast'/'report.tsv'\n",
    "#     report = pd.read_csv(filepath, sep='\\t', index_col=0, header=0, names=[i.name])\n",
    "#     reports.append(report)\n",
    "# reports = pd.concat(reports, axis=1)\n",
    "\n",
    "is_circ = dict()\n",
    "for i in dirpath.iterdir():\n",
    "    filepath = i/'flye'/'assembly_info.txt'\n",
    "    assembly_info = pd.read_csv(filepath, sep='\\t')\n",
    "    if all(assembly_info['circ.'] == 'Y'):\n",
    "        is_circ[i.name] = 'Y'\n",
    "    else:\n",
    "        is_circ[i.name] = 'N'"
   ]
  },
  {
   "cell_type": "code",
   "execution_count": 17,
   "metadata": {},
   "outputs": [
    {
     "data": {
      "text/plain": [
       "{'R20-0148': 'Y',\n",
       " 'R20-0127': 'Y',\n",
       " 'R20-0131': 'Y',\n",
       " 'R20-0026': 'Y',\n",
       " 'R20-0158': 'Y',\n",
       " 'R19-2905': 'Y',\n",
       " 'R20-0145': 'Y',\n",
       " 'R20-0140': 'N',\n",
       " 'R20-0160': 'Y',\n",
       " 'R20-0088': 'Y',\n",
       " 'R20-0030': 'Y',\n",
       " 'R20-0150': 'Y'}"
      ]
     },
     "execution_count": 17,
     "metadata": {},
     "output_type": "execute_result"
    }
   ],
   "source": [
    "is_circ"
   ]
  },
  {
   "cell_type": "code",
   "execution_count": 58,
   "metadata": {},
   "outputs": [],
   "source": [
    "dirpath_ls = {'R18-0877': Path('/media/NGS/Nanopore_1/20181127_R18-0877/denovo'),\n",
    "              'R19-2839': Path('/media/NGS/Nanopore_1/20190917_R19_2839/denovo'),\n",
    "              'R18-0926': Path('/media/NGS/Nanopore_1/20181205_R18-0926/denovo')}\n",
    "\n",
    "reports = []\n",
    "for i, j in dirpath_ls.items():\n",
    "    filepath = j/'quast'/'report.tsv'\n",
    "    report = pd.read_csv(filepath, sep='\\t', index_col=0, header=0, names=[i])\n",
    "    reports.append(report)\n",
    "reports = pd.concat(reports, axis=1)\n",
    "\n",
    "is_circ = dict()\n",
    "for i, j in dirpath_ls.items():\n",
    "    filepath = j/'flye'/'assembly_info.txt'\n",
    "    assembly_info = pd.read_csv(filepath, sep='\\t')\n",
    "    if all(assembly_info['circ.'] == 'Y'):\n",
    "        is_circ[i] = 'Y'\n",
    "    else:\n",
    "        is_circ[i] = 'N'\n",
    "\n",
    "reports.loc['circ'] = reports.columns.map(is_circ)"
   ]
  },
  {
   "cell_type": "code",
   "execution_count": 60,
   "metadata": {},
   "outputs": [],
   "source": [
    "with pd.ExcelWriter('chip_single_strain_assembly_accuracy.xlsx') as writer:\n",
    "    distance.to_excel(writer, sheet_name='cgmlst distance')\n",
    "    reports.to_excel(writer, sheet_name='quast report')"
   ]
  },
  {
   "cell_type": "markdown",
   "metadata": {},
   "source": [
    "# use different flowcell"
   ]
  },
  {
   "cell_type": "code",
   "execution_count": 43,
   "metadata": {},
   "outputs": [],
   "source": [
    "dna_r10 = accuracy_in_diff_steps('/media/NGS/Nanopore_1/20191021_with_R10/2_unicycler_R10_R19-2839/assembly.fasta',\n",
    "                                 '/media/NGS/Nanopore_1/20191021_with_R10/denovo/R19-2839')\n",
    "dna_r10 = dna_r10.pivot_table(values='segment_median_qscore', columns='assembly_name')\n",
    "dna_r10.index = ['r10']"
   ]
  },
  {
   "cell_type": "code",
   "execution_count": 45,
   "metadata": {},
   "outputs": [],
   "source": [
    "dna_r9 = accuracy_in_diff_steps('/media/NGS/Nanopore_1/20190917_R19_2839/2_unicycler/assembly.fasta',\n",
    "                                '/media/NGS/Nanopore_1/20190917_R19_2839/denovo/R19-2839')\n",
    "dna_r9 = dna_r9.pivot_table(values='segment_median_qscore', columns='assembly_name')\n",
    "dna_r9.index = ['r9']"
   ]
  },
  {
   "cell_type": "code",
   "execution_count": 47,
   "metadata": {},
   "outputs": [],
   "source": [
    "qscore = pd.concat([dna_r9, dna_r10])"
   ]
  },
  {
   "cell_type": "code",
   "execution_count": 72,
   "metadata": {},
   "outputs": [],
   "source": [
    "qscore = qscore[['flye', 'racon', 'medaka', 'homopolish']]"
   ]
  },
  {
   "cell_type": "code",
   "execution_count": null,
   "metadata": {},
   "outputs": [],
   "source": []
  },
  {
   "cell_type": "code",
   "execution_count": 75,
   "metadata": {},
   "outputs": [],
   "source": [
    "dirpath = Path('/media/NGS/Data_Analysis/20201221_nanopore_denovo/Profile/1_chip_1_strain')\n",
    "profiles = pd.concat([pd.read_csv(i, header=0, index_col=0, names=[i.stem], sep='\\t')\n",
    "                      for i in dirpath.iterdir() if i.stem.startswith(\"R19-2839-R9\")], axis=1)\n",
    "pdist = calculate_distance(profiles)\n",
    "pdist.index = pdist.index.str.split('_').str[-1]\n",
    "pdist.columns = pdist.columns.str.split('_').str[-1]\n",
    "s_r9 = pdist.loc[['unicycler']]"
   ]
  },
  {
   "cell_type": "code",
   "execution_count": 76,
   "metadata": {},
   "outputs": [],
   "source": [
    "dirpath = Path('/media/NGS/Data_Analysis/20201221_nanopore_denovo/Profile/1_chip_1_strain')\n",
    "profiles = pd.concat([pd.read_csv(i, header=0, index_col=0, names=[i.stem], sep='\\t')\n",
    "                      for i in dirpath.iterdir() if i.stem.startswith(\"R19-2839-R10\")], axis=1)\n",
    "pdist = calculate_distance(profiles)\n",
    "pdist.index = pdist.index.str.split('_').str[-1]\n",
    "pdist.columns = pdist.columns.str.split('_').str[-1]\n",
    "s_r10 = pdist.loc[['unicycler']]"
   ]
  },
  {
   "cell_type": "code",
   "execution_count": 77,
   "metadata": {},
   "outputs": [],
   "source": [
    "s_r9.index = ['r9']\n",
    "s_r10.index = ['r10']"
   ]
  },
  {
   "cell_type": "code",
   "execution_count": 78,
   "metadata": {},
   "outputs": [],
   "source": [
    "distance = pd.concat([s_r9, s_r10])"
   ]
  },
  {
   "cell_type": "code",
   "execution_count": 79,
   "metadata": {},
   "outputs": [],
   "source": [
    "distance = distance[['flye', 'racon', 'medaka', 'homopolish']]"
   ]
  },
  {
   "cell_type": "code",
   "execution_count": 81,
   "metadata": {},
   "outputs": [],
   "source": [
    "with pd.ExcelWriter('R19-2839_assembly_accuracy.xlsx') as writer:\n",
    "    qscore.to_excel(writer, sheet_name='Q-Score')\n",
    "    distance.to_excel(writer, sheet_name='cgMLST distance')"
   ]
  },
  {
   "cell_type": "code",
   "execution_count": null,
   "metadata": {},
   "outputs": [],
   "source": []
  },
  {
   "cell_type": "code",
   "execution_count": 14,
   "metadata": {},
   "outputs": [],
   "source": [
    "labels_color = {'R20-0026': 'red', 'R20-0030': 'red', 'R20-0127': 'red', 'R20-0148': 'red', 'R20-0150': 'red'}"
   ]
  },
  {
   "cell_type": "code",
   "execution_count": 15,
   "metadata": {},
   "outputs": [
    {
     "data": {
      "image/png": "[encoded data removed]",
      "text/plain": [
       "<Figure size 720x259.2 with 1 Axes>"
      ]
     },
     "execution_count": 15,
     "metadata": {},
     "output_type": "execute_result"
    }
   ],
   "source": [
    "dirpath = Path('/media/NGS/Nanopore_1/20200925/cgMLST_profile/denovo')\n",
    "\n",
    "profiles = pd.concat([pd.read_csv(i, sep='\\t', index_col=0, header=0, names=[i.stem.split('_')[0]]) for i in dirpath.iterdir()], axis=1)\n",
    "\n",
    "pdist = calculate_distance(profiles)\n",
    "\n",
    "dendrogram = Dendrogram(pdist)\n",
    "dendrogram.cluster(show_node_info=True, labels_color=labels_color)\n",
    "dendrogram.figure"
   ]
  },
  {
   "cell_type": "code",
   "execution_count": 16,
   "metadata": {},
   "outputs": [
    {
     "data": {
      "image/png": "[encoded data removed]",
      "text/plain": [
       "<Figure size 720x259.2 with 1 Axes>"
      ]
     },
     "execution_count": 16,
     "metadata": {},
     "output_type": "execute_result"
    }
   ],
   "source": [
    "dirpath = Path('/media/NGS/Nanopore_1/20200925/cgMLST_profile/hybrid/')\n",
    "\n",
    "profiles = pd.concat([pd.read_csv(i, sep='\\t', index_col=0, header=0, names=[i.stem.split('_')[0]]) for i in dirpath.iterdir()], axis=1)\n",
    "\n",
    "pdist = calculate_distance(profiles)\n",
    "\n",
    "dendrogram = Dendrogram(pdist)\n",
    "dendrogram.cluster(show_node_info=True, labels_color=labels_color)\n",
    "dendrogram.figure"
   ]
  },
  {
   "cell_type": "code",
   "execution_count": null,
   "metadata": {},
   "outputs": [],
   "source": []
  }
 ],
 "metadata": {
  "kernelspec": {
   "display_name": "Python 3",
   "language": "python",
   "name": "python3"
  },
  "language_info": {
   "codemirror_mode": {
    "name": "ipython",
    "version": 3
   },
   "file_extension": ".py",
   "mimetype": "text/x-python",
   "name": "python",
   "nbconvert_exporter": "python",
   "pygments_lexer": "ipython3",
   "version": "3.6.12"
  }
 },
 "nbformat": 4,
 "nbformat_minor": 4
}
