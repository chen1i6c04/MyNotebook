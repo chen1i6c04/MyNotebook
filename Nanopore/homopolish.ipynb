{
 "cells": [
  {
   "cell_type": "code",
   "execution_count": 1,
   "id": "1eb02f32",
   "metadata": {},
   "outputs": [],
   "source": [
    "import os\n",
    "import shutil\n",
    "from pathlib import Path\n",
    "from concurrent.futures import ProcessPoolExecutor"
   ]
  },
  {
   "cell_type": "code",
   "execution_count": 2,
   "id": "a84ce1e0",
   "metadata": {},
   "outputs": [],
   "source": [
    "import sys\n",
    "sys.path.append('../src')\n",
    "from utils import run_cmd"
   ]
  },
  {
   "cell_type": "code",
   "execution_count": 3,
   "id": "c4658a7b",
   "metadata": {},
   "outputs": [],
   "source": [
    "bin_path = '/home/chen1i6c04/Tools/homopolish/homopolish.py'\n",
    "mash_sketch = '/home/chen1i6c04/Tools/homopolish/bacteria.msh'\n",
    "model = '/home/chen1i6c04/Tools/homopolish/R9.4.pkl'"
   ]
  },
  {
   "cell_type": "code",
   "execution_count": 7,
   "id": "41c596c1",
   "metadata": {},
   "outputs": [],
   "source": [
    "def fn(infile, outdir, threads=4):\n",
    "    os.makedirs(outdir, exist_ok=True)\n",
    "    asm = os.path.join(outdir, 'contigs.fa')\n",
    "    os.symlink(infile, asm)\n",
    "    run_cmd(f\"conda run -n homopolish python {bin_path} polish -a {asm} -s {mash_sketch} -m {model} -o {outdir} -t {threads}\")"
   ]
  },
  {
   "cell_type": "code",
   "execution_count": 8,
   "id": "55a6e02d",
   "metadata": {},
   "outputs": [],
   "source": [
    "fn('/media/NAS/Central_Lab_Storage/MinION/mNGS/20210826/time_filt/denovo/barcode10_02h/contigs.fa',\n",
    "   '/media/NAS/Central_Lab_Storage/MinION/mNGS/20210826/time_filt/denovo/barcode10_02h/homopolish')"
   ]
  },
  {
   "cell_type": "code",
   "execution_count": 5,
   "id": "bf133023",
   "metadata": {},
   "outputs": [],
   "source": [
    "dirpath = Path('/media/NAS/Central_Lab_Storage/MinION/mNGS/20210826/time_filt/denovo')"
   ]
  },
  {
   "cell_type": "code",
   "execution_count": null,
   "id": "f570b06b",
   "metadata": {},
   "outputs": [],
   "source": [
    "with ProcessPoolExecutor(16) as executor:\n",
    "    for i in dirpath.iterdir():\n",
    "        infile = i/'contigs.fa'\n",
    "        outdir = i/'homopolish'\n",
    "        if infile.exists():\n",
    "            executor.submit(fn, infile, outdir, 4)"
   ]
  },
  {
   "cell_type": "code",
   "execution_count": 6,
   "id": "9407de82",
   "metadata": {},
   "outputs": [
    {
     "name": "stdout",
     "output_type": "stream",
     "text": [
      "/media/NAS/Central_Lab_Storage/MinION/mNGS/20210826/time_filt/denovo/barcode10_02h\n"
     ]
    }
   ],
   "source": [
    "for i in dirpath.iterdir():\n",
    "    src = i/'homopolish'/'contigs_homopolished.fasta'\n",
    "    dst = i/'contigs.fasta'\n",
    "    if src.exists():\n",
    "        shutil.copyfile(src, dst)\n",
    "        shutil.rmtree(i/'homopolish')\n",
    "    else:\n",
    "        print(i)"
   ]
  },
  {
   "cell_type": "code",
   "execution_count": null,
   "id": "9596e459",
   "metadata": {},
   "outputs": [],
   "source": []
  }
 ],
 "metadata": {
  "kernelspec": {
   "display_name": "Python 3",
   "language": "python",
   "name": "python3"
  },
  "language_info": {
   "codemirror_mode": {
    "name": "ipython",
    "version": 3
   },
   "file_extension": ".py",
   "mimetype": "text/x-python",
   "name": "python",
   "nbconvert_exporter": "python",
   "pygments_lexer": "ipython3",
   "version": "3.6.12"
  }
 },
 "nbformat": 4,
 "nbformat_minor": 5
}
