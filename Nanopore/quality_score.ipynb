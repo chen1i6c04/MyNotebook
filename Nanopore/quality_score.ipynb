{
 "cells": [
  {
   "cell_type": "code",
   "execution_count": 1,
   "metadata": {},
   "outputs": [],
   "source": [
    "from io import BytesIO\n",
    "import subprocess\n",
    "import pandas as pd\n",
    "\n",
    "from sklearn import preprocessing"
   ]
  },
  {
   "cell_type": "code",
   "execution_count": null,
   "metadata": {},
   "outputs": [],
   "source": [
    "def final_score(sl, sm, sw, wl=1, wm=1, ww=1):\n",
    "    weighted_geometric_mean = ((sl**wl)*(sm**wm))**(1/(wl + wm))\n",
    "    scaling_factor = ww*(sw-sm)/(sm*(wl+wm+ww)) + 1\n",
    "    return weighted_geometric_mean*scaling_factor"
   ]
  },
  {
   "cell_type": "code",
   "execution_count": null,
   "metadata": {},
   "outputs": [],
   "source": [
    "def fn(seqfile):\n",
    "    cmd = f\"filtlong --min_mean_q 1 --verbose {seqfile} 2>&1 >/dev/null | grep -P 'length = \\d+' | sed 's/\\s\\+length = //' | sed 's/\\s\\+\\w\\+ quality = /\\t/g'\"\n",
    "    p = subprocess.run(cmd, stdout=subprocess.PIPE, shell=True, check=True)\n",
    "    \n",
    "    df = pd.read_csv(BytesIO(p.stdout), sep='\\t', names=['length', 'mean_quality', 'window_quality'])\n",
    "    df['length_score'] = df['length'].apply(lambda x: (1 + (-5000/(x + 5000)))*100)\n",
    "    \n",
    "    z_score = preprocessing.scale(df['mean_quality'])\n",
    "    min_max_scaler = preprocessing.MinMaxScaler(feature_range=(0, 100))\n",
    "    min_max_data = min_max_scaler.fit_transform(z_score.reshape(-1, 1))\n",
    "    \n",
    "    df['mean_quality_score'] = min_max_data.flatten()\n",
    "    df['window_quality_score'] = df['window_quality']/df['mean_quality']*df['mean_quality_score']\n",
    "    df['reads_score'] = df.apply(lambda x: final_score(\n",
    "        x['length_score'], x['mean_quality_score'], x['window_quality_score']\n",
    "    ), axis=1)\n",
    "    return df"
   ]
  },
  {
   "cell_type": "code",
   "execution_count": 2,
   "metadata": {},
   "outputs": [
    {
     "data": {
      "text/plain": [
       "150356.17008818165"
      ]
     },
     "execution_count": 2,
     "metadata": {},
     "output_type": "execute_result"
    }
   ],
   "source": [
    "n = 128\n",
    "[10**(q / -10) for q in range(n+1)][13]*3000000"
   ]
  },
  {
   "cell_type": "code",
   "execution_count": null,
   "metadata": {},
   "outputs": [],
   "source": []
  },
  {
   "cell_type": "code",
   "execution_count": 247,
   "metadata": {},
   "outputs": [],
   "source": [
    "import numpy as np\n",
    "from scipy.stats import ttest_ind_from_stats"
   ]
  },
  {
   "cell_type": "code",
   "execution_count": 252,
   "metadata": {},
   "outputs": [],
   "source": [
    "def t_test(group1, group2):\n",
    "    mean1 = np.mean(group1)\n",
    "    mean2 = np.mean(group2)\n",
    "    std1 = np.std(group1)\n",
    "    std2 = np.std(group2)\n",
    "    nobs1 = len(group1)\n",
    "    nobs2 = len(group2)\n",
    "    \n",
    "    modified_std1 = np.sqrt(np.float32(nobs1)/\n",
    "                    np.float32(nobs1-1)) * std1\n",
    "    modified_std2 = np.sqrt(np.float32(nobs2)/\n",
    "                    np.float32(nobs2-1)) * std2\n",
    "    result = ttest_ind_from_stats(\n",
    "        mean1=mean1, std1=modified_std1, nobs1=nobs1,\n",
    "        mean2=mean2, std2=modified_std2, nobs2=nobs2)\n",
    "    return result"
   ]
  },
  {
   "cell_type": "code",
   "execution_count": 256,
   "metadata": {},
   "outputs": [],
   "source": [
    "data_1 = nanoget.extraction_functions.process_fastq_minimal('/media/NGS/Nanopore_1/20181127_R18-0877/fastq/R18-0877.fastq')\n",
    "data_2 = nanoget.extraction_functions.process_fastq_minimal('/media/NGS/Nanopore_1/20210129_Listera/fastq/R20.0160.fastq')"
   ]
  },
  {
   "cell_type": "code",
   "execution_count": 257,
   "metadata": {},
   "outputs": [
    {
     "data": {
      "text/plain": [
       "Ttest_indResult(statistic=-36.8614591448439, pvalue=3.183280742105188e-297)"
      ]
     },
     "execution_count": 257,
     "metadata": {},
     "output_type": "execute_result"
    }
   ],
   "source": [
    "t_test(data_1['lengths'].values, data_2['lengths'].values)"
   ]
  },
  {
   "cell_type": "code",
   "execution_count": null,
   "metadata": {},
   "outputs": [],
   "source": []
  }
 ],
 "metadata": {
  "kernelspec": {
   "display_name": "Python 3",
   "language": "python",
   "name": "python3"
  },
  "language_info": {
   "codemirror_mode": {
    "name": "ipython",
    "version": 3
   },
   "file_extension": ".py",
   "mimetype": "text/x-python",
   "name": "python",
   "nbconvert_exporter": "python",
   "pygments_lexer": "ipython3",
   "version": "3.6.12"
  }
 },
 "nbformat": 4,
 "nbformat_minor": 4
}
