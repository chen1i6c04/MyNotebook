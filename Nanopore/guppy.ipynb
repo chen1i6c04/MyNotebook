{
 "cells": [
  {
   "cell_type": "code",
   "execution_count": 1,
   "id": "ed568026-3391-469c-9545-0cb9697c7cd0",
   "metadata": {},
   "outputs": [],
   "source": [
    "file = '/media/ONT/20211007_WGA/20211007_WGA/no_sample/20211007_0349_MN33309_FAQ89821_af1e64c1/final_summary_FAQ89821_cd1464d7.txt'"
   ]
  },
  {
   "cell_type": "code",
   "execution_count": 2,
   "id": "7b916fae-e7dc-48af-9e8d-2793666b9b61",
   "metadata": {},
   "outputs": [],
   "source": [
    "with open(file) as f:\n",
    "    for line in f:\n",
    "        if line.startswith('protocol=sequencing/sequencing_MIN106_DNA'):\n",
    "            break"
   ]
  },
  {
   "cell_type": "code",
   "execution_count": 7,
   "id": "12aaa49f-6a82-4dba-8197-231ede213bc1",
   "metadata": {},
   "outputs": [
    {
     "data": {
      "text/plain": [
       "'SQK-RBK004'"
      ]
     },
     "execution_count": 7,
     "metadata": {},
     "output_type": "execute_result"
    }
   ],
   "source": [
    "line.strip().split(':')[-1]"
   ]
  },
  {
   "cell_type": "code",
   "execution_count": null,
   "id": "92bc16bd-d3e7-4960-9dce-17061478fcc6",
   "metadata": {},
   "outputs": [],
   "source": []
  }
 ],
 "metadata": {
  "kernelspec": {
   "display_name": "Python 3",
   "language": "python",
   "name": "python3"
  },
  "language_info": {
   "codemirror_mode": {
    "name": "ipython",
    "version": 3
   },
   "file_extension": ".py",
   "mimetype": "text/x-python",
   "name": "python",
   "nbconvert_exporter": "python",
   "pygments_lexer": "ipython3",
   "version": "3.6.13"
  }
 },
 "nbformat": 4,
 "nbformat_minor": 5
}
