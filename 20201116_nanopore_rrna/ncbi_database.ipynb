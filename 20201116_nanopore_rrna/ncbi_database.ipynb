{
 "cells": [
  {
   "cell_type": "code",
   "execution_count": 1,
   "id": "6d3c93f3-9bc1-4b27-b42a-07ddcb530108",
   "metadata": {},
   "outputs": [],
   "source": [
    "import os\n",
    "import re\n",
    "import subprocess\n",
    "from pathlib import Path\n",
    "from io import BytesIO\n",
    "\n",
    "import pandas as pd\n",
    "from Bio import SeqIO"
   ]
  },
  {
   "cell_type": "code",
   "execution_count": 2,
   "id": "2ebe1837-b35c-4da1-b9a9-16b8ad939339",
   "metadata": {},
   "outputs": [],
   "source": [
    "database = '/media/GenomicResearch/Issue/NCBI/Blast_Database/16S_ribosomal_RNA/16S_ribosomal_RNA.fasta'"
   ]
  },
  {
   "cell_type": "code",
   "execution_count": 3,
   "id": "0965f522-2bf9-4dde-95f4-758d184468cb",
   "metadata": {},
   "outputs": [],
   "source": [
    "taxmap = {record.id: re.search('\\w+ \\w+', record.description.split(None, 1)[-1]).group() for record in SeqIO.parse(database, 'fasta')}"
   ]
  },
  {
   "cell_type": "code",
   "execution_count": 4,
   "id": "619a4f13-3b1c-48ea-bbe4-ba32d8a53ec0",
   "metadata": {},
   "outputs": [],
   "source": [
    "def count_reads_number(query):\n",
    "    process = subprocess.run(['nanoq', '-s', '-i', query, '-l', '1200', '-m', '1800'], stderr=subprocess.PIPE)\n",
    "    num_reads = int(process.stderr.decode().split()[0])\n",
    "    return num_reads\n",
    "\n",
    "\n",
    "def sequence_mapping(query, database, threads):\n",
    "    nanoq_process = subprocess.Popen(\n",
    "        ['nanoq', '-i', query, '-l', '1200', '-m', '1800'],\n",
    "        stdout=subprocess.PIPE\n",
    "    )\n",
    "    output = subprocess.check_output(\n",
    "        ['minimap2', '-cx', 'map-ont', '-z', '70', '-K', '8G', '-t', str(threads), database, '-'],\n",
    "        stdin=nanoq_process.stdout\n",
    "    )\n",
    "    return output\n",
    "\n",
    "\n",
    "def load_paf(stream):\n",
    "    names = [\n",
    "        \"Query\", \"Q_length\", \"Q_start\", \"Q_end\", \"Strand\", \"op\", \"T_length\", \"T_start\",\n",
    "        \"T_end\", \"N_res_matches\", \"Align_block\", \"MapQ\", \"NM\", \"ms\", \"AS\", \"nn\", \"P_S\",\n",
    "    ]\n",
    "    return pd.read_csv(BytesIO(stream), sep='\\t', usecols=range(0, 17), names=names)\n",
    "\n",
    "\n",
    "def workflow(query, database, taxmap, output, threads=16):\n",
    "    num_reads = count_reads_number(query)\n",
    "    mapping_output = sequence_mapping(query, database, threads)\n",
    "    df = load_paf(mapping_output)\n",
    "    df = df.sort_values('AS', key=lambda x: x.str.split(':').str[-1].astype(int), ascending=False).drop_duplicates('Query')\n",
    "    df = df[df['Align_block']>1000]\n",
    "    df['organism_name'] = df['op'].map(taxmap)\n",
    "    abundance = df.groupby('organism_name').size().sort_values(ascending=False).div(num_reads).mul(100).round(2)\n",
    "    abundance.name = 'abundance'\n",
    "    abundance.to_csv(output, sep='\\t')"
   ]
  },
  {
   "cell_type": "code",
   "execution_count": 6,
   "id": "4df45a5b-5f1f-4b6b-848f-ba49a36aa224",
   "metadata": {},
   "outputs": [],
   "source": [
    "dirpath = Path('/media/Central_Lab_Storage/MinION/mNGS/20220111_16SA/fastq')\n",
    "outpath = Path('/media/Central_Lab_Storage/MinION/mNGS/20220111_16SA/mapping')\n",
    "\n",
    "for i in dirpath.iterdir():\n",
    "    output = outpath/i.name.replace('.fastq.gz', '.txt')\n",
    "    workflow(i, database, taxmap, output, 64)"
   ]
  },
  {
   "cell_type": "code",
   "execution_count": null,
   "id": "914fbaad-0e9e-402f-a160-cd7b91869626",
   "metadata": {},
   "outputs": [],
   "source": []
  },
  {
   "cell_type": "code",
   "execution_count": null,
   "id": "99b5f607-d880-49a7-b9ef-d09c7d0218e8",
   "metadata": {},
   "outputs": [],
   "source": []
  },
  {
   "cell_type": "code",
   "execution_count": null,
   "id": "9e8942c5-44b6-4876-bc0c-77faf66068e9",
   "metadata": {},
   "outputs": [],
   "source": []
  }
 ],
 "metadata": {
  "kernelspec": {
   "display_name": "Python 3",
   "language": "python",
   "name": "python3"
  },
  "language_info": {
   "codemirror_mode": {
    "name": "ipython",
    "version": 3
   },
   "file_extension": ".py",
   "mimetype": "text/x-python",
   "name": "python",
   "nbconvert_exporter": "python",
   "pygments_lexer": "ipython3",
   "version": "3.6.13"
  }
 },
 "nbformat": 4,
 "nbformat_minor": 5
}
