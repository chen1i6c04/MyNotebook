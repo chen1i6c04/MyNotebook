{
 "cells": [
  {
   "cell_type": "code",
   "execution_count": 1,
   "metadata": {},
   "outputs": [],
   "source": [
    "import re\n",
    "import subprocess\n",
    "from pathlib import Path\n",
    "from io import BytesIO\n",
    "from multiprocessing import Pool\n",
    "import pandas as pd\n",
    "from Bio import SeqIO"
   ]
  },
  {
   "cell_type": "code",
   "execution_count": 2,
   "metadata": {},
   "outputs": [],
   "source": [
    "database = '/media/GenomicResearch/Issue/20201116_nanopore_rrna/SILVA_138.1_SSURef_NR99_tax_silva.fasta'"
   ]
  },
  {
   "cell_type": "code",
   "execution_count": 3,
   "metadata": {},
   "outputs": [],
   "source": [
    "seqid2species = dict()\n",
    "\n",
    "records = SeqIO.parse(database, 'fasta')\n",
    "for record in records:\n",
    "    seqid = record.id\n",
    "    try:\n",
    "        species = re.search(';([A-Z]\\w+ \\w+)', record.description).group(1)\n",
    "    except AttributeError:\n",
    "        species = record.description.split(None, 1)[-1].split(';')[-2]\n",
    "    seqid2species[seqid] = species"
   ]
  },
  {
   "cell_type": "code",
   "execution_count": 4,
   "metadata": {},
   "outputs": [],
   "source": [
    "def count_reads_number(query):\n",
    "    process = subprocess.run(['nanoq', '-s', '-i', query, '-l', '1200', '-m', '1800'], stderr=subprocess.PIPE)\n",
    "    num_reads = int(process.stderr.decode().split()[0])\n",
    "    return num_reads\n",
    "\n",
    "\n",
    "def sequence_mapping(query, database, threads):\n",
    "    nanoq_process = subprocess.Popen(\n",
    "        ['nanoq', '-i', query, '-l', '1200', '-m', '1800'],\n",
    "        stdout=subprocess.PIPE\n",
    "    )\n",
    "    output = subprocess.check_output(\n",
    "        ['minimap2', '-cx', 'map-ont', '-z', '70', '-K', '8G', '-t', str(threads), database, '-'],\n",
    "        stdin=nanoq_process.stdout\n",
    "    )\n",
    "    return output\n",
    "\n",
    "\n",
    "def load_paf(stream):\n",
    "    names = [\n",
    "        \"Query\", \"Q_length\", \"Q_start\", \"Q_end\", \"Strand\", \"op\", \"T_length\", \"T_start\",\n",
    "        \"T_end\", \"N_res_matches\", \"Align_block\", \"MapQ\", \"NM\", \"ms\", \"AS\", \"nn\", \"P_S\",\n",
    "    ]\n",
    "    return pd.read_csv(BytesIO(stream), sep='\\t', usecols=range(0, 17), names=names)\n",
    "\n",
    "\n",
    "def workflow(query, database, taxmap, output, threads=16):\n",
    "    num_reads = count_reads_number(query)\n",
    "    mapping_output = sequence_mapping(query, database, threads)\n",
    "    df = load_paf(mapping_output)\n",
    "    df = df.sort_values('AS', key=lambda x: x.str.split(':').str[-1].astype(int), ascending=False).drop_duplicates('Query')\n",
    "    df = df[df['Align_block']>1000]\n",
    "    df['organism_name'] = df['op'].map(taxmap)\n",
    "    abundance = df.groupby('organism_name').size().sort_values(ascending=False).div(num_reads).mul(100).round(2)\n",
    "    abundance.name = 'abundance'\n",
    "    abundance.to_csv(output, sep='\\t')"
   ]
  },
  {
   "cell_type": "code",
   "execution_count": 6,
   "metadata": {},
   "outputs": [],
   "source": [
    "dirpath = Path('/media/Central_Lab_Storage/MinION/mNGS/20220111_16SB/fastq')\n",
    "outpath = Path('/media/Central_Lab_Storage/MinION/mNGS/20220111_16SB/silva_mapping')\n",
    "\n",
    "with Pool(8) as p:\n",
    "    for i in dirpath.iterdir():\n",
    "        outfile = outpath/i.name.replace('.fastq.gz' ,'.txt')\n",
    "        p.apply_async(workflow, (i, database, seqid2species, outfile, 8))\n",
    "    p.close()\n",
    "    p.join()"
   ]
  },
  {
   "cell_type": "code",
   "execution_count": null,
   "metadata": {},
   "outputs": [],
   "source": []
  }
 ],
 "metadata": {
  "kernelspec": {
   "display_name": "Python 3",
   "language": "python",
   "name": "python3"
  },
  "language_info": {
   "codemirror_mode": {
    "name": "ipython",
    "version": 3
   },
   "file_extension": ".py",
   "mimetype": "text/x-python",
   "name": "python",
   "nbconvert_exporter": "python",
   "pygments_lexer": "ipython3",
   "version": "3.6.13"
  }
 },
 "nbformat": 4,
 "nbformat_minor": 4
}
