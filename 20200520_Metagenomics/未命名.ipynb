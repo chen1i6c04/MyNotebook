{
 "cells": [
  {
   "cell_type": "code",
   "execution_count": 1,
   "id": "0009ffb7",
   "metadata": {},
   "outputs": [],
   "source": [
    "import os\n",
    "from pathlib import Path\n",
    "from multiprocessing import Pool\n",
    "from Bio import SeqIO\n",
    "\n",
    "import sys\n",
    "sys.path.append('../src')\n",
    "from utils import run_cmd"
   ]
  },
  {
   "cell_type": "code",
   "execution_count": 12,
   "id": "5f95c82f-7fd1-470d-a86b-55ca4d7d1bc0",
   "metadata": {},
   "outputs": [],
   "source": [
    "asm = '/media/GenomicResearch/Issue/20210909_estimate_nanopore_depth/amplification/20211028_R20-0088H/reference.fa'\n",
    "raw = '/media/GenomicResearch/Issue/20210909_estimate_nanopore_depth/amplification/20211028_R20-0088H/reads.fastq.gz'\n",
    "depths = (0.5, 1, 2, 4, 6, 8, 10, 20, 30, 40, 50, 60, 70, 80, 90, 100, 200, 300, 400)"
   ]
  },
  {
   "cell_type": "code",
   "execution_count": 13,
   "id": "ba11499b-67e6-4fb6-bf48-653959090cbe",
   "metadata": {},
   "outputs": [],
   "source": [
    "krk_db = '/media/GenomicResearch/Issue/kraken2_db'\n",
    "cf_db = '/media/GenomicResearch/Issue/centrifuge/12-Sept-2020-centrifuge-ref-db/centrifuge-ref-db'\n",
    "outdir = Path('/media/GenomicResearch/Issue/20210909_estimate_nanopore_depth/amplification/20211028_R20-0088H/classify')\n",
    "\n",
    "krk_outdir = outdir/'kraken2'\n",
    "krk_outdir.mkdir(parents=True, exist_ok=True)\n",
    "cf_outdir = outdir/'centrifuge'\n",
    "cf_outdir.mkdir(parents=True, exist_ok=True)"
   ]
  },
  {
   "cell_type": "code",
   "execution_count": 14,
   "id": "8d013770-cef2-46cb-9656-a36f1ab697c1",
   "metadata": {},
   "outputs": [
    {
     "data": {
      "text/plain": [
       "3009037"
      ]
     },
     "execution_count": 14,
     "metadata": {},
     "output_type": "execute_result"
    }
   ],
   "source": [
    "gsize = sum(len(record) for record in SeqIO.parse(asm, 'fasta'))\n",
    "gsize"
   ]
  },
  {
   "cell_type": "code",
   "execution_count": 15,
   "id": "438c9dbc-8510-4198-bca7-bbdaa06e331c",
   "metadata": {},
   "outputs": [],
   "source": [
    "cmds = []\n",
    "for depth in depths:\n",
    "    krk_output = krk_outdir/f\"{depth}x.txt\"\n",
    "    krk_report = krk_outdir/f\"{depth}x_report.txt\"\n",
    "    cmd = f\"rasusa -i {raw} -g {gsize} -c {depth} | kraken2 --db {krk_db} --threads 8 --report {krk_report} --output {krk_output} --memory-mapping /dev/fd/0\"\n",
    "    cmds.append(cmd)\n",
    "    cf_output = cf_outdir/f\"{depth}x.txt\"\n",
    "    cf_report = cf_outdir/f\"{depth}x_kreport.txt\"\n",
    "    cmd = f\"rasusa -i {raw} -g {gsize} -c {depth} | centrifuge --mm -p 8 -x {cf_db} -U - | tee {cf_output} | centrifuge-kreport -x {cf_db} > {cf_report}\"\n",
    "    cmds.append(cmd)"
   ]
  },
  {
   "cell_type": "code",
   "execution_count": 16,
   "id": "cbeb298c-efdc-44eb-b795-994762984488",
   "metadata": {},
   "outputs": [],
   "source": [
    "with Pool(8) as p:\n",
    "    try:\n",
    "        p.map(run_cmd, cmds)\n",
    "        p.close()\n",
    "        p.join()\n",
    "    except KeyboardInterrupt:\n",
    "        p.terminate()"
   ]
  },
  {
   "cell_type": "code",
   "execution_count": null,
   "id": "fe8f3aac-182f-4eed-a51a-e89f4c222495",
   "metadata": {},
   "outputs": [],
   "source": []
  }
 ],
 "metadata": {
  "kernelspec": {
   "display_name": "Python 3",
   "language": "python",
   "name": "python3"
  },
  "language_info": {
   "codemirror_mode": {
    "name": "ipython",
    "version": 3
   },
   "file_extension": ".py",
   "mimetype": "text/x-python",
   "name": "python",
   "nbconvert_exporter": "python",
   "pygments_lexer": "ipython3",
   "version": "3.6.13"
  }
 },
 "nbformat": 4,
 "nbformat_minor": 5
}
