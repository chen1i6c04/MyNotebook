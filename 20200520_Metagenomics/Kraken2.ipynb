{
 "cells": [
  {
   "cell_type": "code",
   "execution_count": 1,
   "metadata": {},
   "outputs": [],
   "source": [
    "import os\n",
    "from pathlib import Path\n",
    "from multiprocessing import Pool"
   ]
  },
  {
   "cell_type": "code",
   "execution_count": 2,
   "metadata": {},
   "outputs": [],
   "source": [
    "import sys\n",
    "sys.path.append('../src')\n",
    "from utils import run_cmd"
   ]
  },
  {
   "cell_type": "code",
   "execution_count": 3,
   "metadata": {},
   "outputs": [],
   "source": [
    "database = '/media/GenomicResearch/Issue/kraken2_db/kraken2-custom-db-02-Feb-2022'\n",
    "# database = '/media/GenomicResearch/Issue/kraken2_db/16S_SILVA138_k2db'"
   ]
  },
  {
   "cell_type": "code",
   "execution_count": 17,
   "metadata": {},
   "outputs": [],
   "source": [
    "dirpath = Path('/media/Central_Lab_Storage/MinION/mNGS/20220125_ICU27_30/Guppy')\n",
    "outpath = Path('/media/Central_Lab_Storage/MinION/mNGS/20220125_ICU27_30/kraken2')\n",
    "outpath.mkdir(exist_ok=True)"
   ]
  },
  {
   "cell_type": "code",
   "execution_count": 19,
   "metadata": {},
   "outputs": [],
   "source": [
    "cmds = []\n",
    "for i in (27, 28, 29, 30):\n",
    "    barcode = f\"barcode{i:02}\"\n",
    "#     output = outpath/(barcode + '.txt')\n",
    "    output = '/dev/null'\n",
    "    report = outpath/(barcode + '_report.txt')\n",
    "#     cmd = f\"nanoq -l 1200 -m 1800 -i {dirpath/(barcode+'.fastq.gz')} | kraken2 --db {database} --threads 16 --memory-mapping --output {output} --report {report} /dev/fd/0\"\n",
    "    cmd = f\"cat {dirpath/barcode/'*'} | kraken2 --db {database} --threads 16 --memory-mapping --output {output} --report {report} /dev/fd/0\"\n",
    "    run_cmd(cmd)"
   ]
  },
  {
   "cell_type": "code",
   "execution_count": 13,
   "metadata": {},
   "outputs": [],
   "source": [
    "for cmd in cmds:\n",
    "    run_cmd(cmd)"
   ]
  },
  {
   "cell_type": "code",
   "execution_count": 11,
   "metadata": {},
   "outputs": [
    {
     "name": "stdout",
     "output_type": "stream",
     "text": [
      "Loading database information... done.\n",
      "61 sequences (6.89 Mbp) processed in 4.635s (0.8 Kseq/m, 89.16 Mbp/m).\n",
      "  61 sequences classified (100.00%)\n",
      "  0 sequences unclassified (0.00%)\n",
      "CPU times: user 157 ms, sys: 39.8 ms, total: 196 ms\n",
      "Wall time: 7.52 s\n"
     ]
    }
   ],
   "source": [
    "%%time\n",
    "query = '/media/Central_Lab_Storage/MinION/mNGS/20220216_ICU31_34_strain/denovo/barcode65/contigs.fasta'\n",
    "output = '/dev/null'\n",
    "report = '/home/chen1i6c04/test.txt'\n",
    "!zcat -f {query} | kraken2 --db {database} --threads 64 --output {output} --report {report} /dev/fd/0 --memory-mapping"
   ]
  },
  {
   "cell_type": "code",
   "execution_count": 15,
   "metadata": {},
   "outputs": [
    {
     "name": "stdout",
     "output_type": "stream",
     "text": [
      "Loading database information... done.\n",
      "351228 sequences (193.90 Mbp) processed in 6.430s (3277.6 Kseq/m, 1809.39 Mbp/m).\n",
      "  350898 sequences classified (99.91%)\n",
      "  330 sequences unclassified (0.09%)\n"
     ]
    }
   ],
   "source": [
    "!kraken2 --db {database} --threads 24 --output /dev/null --report /home/chen1i6c04/test.txt --paired --memory-mapping /media/MiSeqOutput/220121_M04855_0094_000000000-K424V/Alignment_1/20220123_211538/Fastq/R21-0464_S57_L001_R1_001.fastq.gz /media/MiSeqOutput/220121_M04855_0094_000000000-K424V/Alignment_1/20220123_211538/Fastq/R21-0464_S57_L001_R2_001.fastq.gz"
   ]
  },
  {
   "cell_type": "code",
   "execution_count": null,
   "metadata": {},
   "outputs": [],
   "source": []
  }
 ],
 "metadata": {
  "kernelspec": {
   "display_name": "Python 3",
   "language": "python",
   "name": "python3"
  },
  "language_info": {
   "codemirror_mode": {
    "name": "ipython",
    "version": 3
   },
   "file_extension": ".py",
   "mimetype": "text/x-python",
   "name": "python",
   "nbconvert_exporter": "python",
   "pygments_lexer": "ipython3",
   "version": "3.6.13"
  }
 },
 "nbformat": 4,
 "nbformat_minor": 4
}
