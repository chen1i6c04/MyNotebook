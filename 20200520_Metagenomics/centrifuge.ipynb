{
 "cells": [
  {
   "cell_type": "code",
   "execution_count": 2,
   "metadata": {},
   "outputs": [],
   "source": [
    "import os\n",
    "import sys\n",
    "from pathlib import Path\n",
    "from collections import defaultdict\n",
    "from multiprocessing import Pool\n",
    "import pandas as pd"
   ]
  },
  {
   "cell_type": "code",
   "execution_count": 3,
   "metadata": {},
   "outputs": [],
   "source": [
    "sys.path.append('../src')\n",
    "from utils import run_cmd"
   ]
  },
  {
   "cell_type": "code",
   "execution_count": 8,
   "metadata": {},
   "outputs": [],
   "source": [
    "database = '/dev/shm/12-Sept-2020-centrifuge-ref-db/centrifuge-ref-db'"
   ]
  },
  {
   "cell_type": "code",
   "execution_count": null,
   "metadata": {},
   "outputs": [],
   "source": [
    "dirpath = Path('/media/GenomicResearch/Issue/20210909_estimate_nanopore_depth/native/20201105_C600RifR/classify/fastq')\n",
    "outpath = Path('/media/GenomicResearch/Issue/20210909_estimate_nanopore_depth/native/20201105_C600RifR/classify/centrifuge')\n",
    "outpath.mkdir(exist_ok=True)\n",
    "\n",
    "cmds = []\n",
    "for i in dirpath.iterdir():\n",
    "    output = outpath/(i.stem + '.out')\n",
    "    report = outpath/(i.stem + '_kreport.txt')\n",
    "    cmd = f\"zcat -f {i} | centrifuge --mm -p 8 -x {database} -U - | tee {output} | centrifuge-kreport -x {database} > {report}\"\n",
    "    cmds.append(cmd)"
   ]
  },
  {
   "cell_type": "code",
   "execution_count": null,
   "metadata": {},
   "outputs": [],
   "source": [
    "with Pool(8) as p:\n",
    "    p.map(run_cmd, cmds)"
   ]
  },
  {
   "cell_type": "code",
   "execution_count": null,
   "metadata": {},
   "outputs": [],
   "source": [
    "%%time\n",
    "raw = '/media/ONT/20211102_ICU002_6/Guppy/barcode33/*'\n",
    "output = '/dev/null'\n",
    "report = '/home/chen1i6c04/barcode33.txt'\n",
    "!zcat -f {raw} | centrifuge --mm -p 64 -x {database} -U - --min-hitlen 31 | tee {output} | centrifuge-kreport -x {database} > {report}"
   ]
  },
  {
   "cell_type": "code",
   "execution_count": null,
   "metadata": {},
   "outputs": [],
   "source": []
  },
  {
   "cell_type": "code",
   "execution_count": 9,
   "metadata": {},
   "outputs": [
    {
     "name": "stdout",
     "output_type": "stream",
     "text": [
      "Reading centrifuge out file from STDIN ... \n",
      "Loading taxonomy ...\n",
      "Loading names file ...\n",
      "Loading nodes file ...\n",
      "Read 3717083 spots for /media/SraStorage/Klebsiella_pneumoniae_SRA/SRR8650757/SRR8650757.sra\n",
      "Written 3717083 spots for /media/SraStorage/Klebsiella_pneumoniae_SRA/SRR8650757/SRR8650757.sra\n",
      "report file centrifuge_report.tsv\n",
      "Number of iterations in EM algorithm: 232\n",
      "Probability diff. (P - P_prev) in the last iteration: 9.77121e-11\n",
      "Calculating abundance: 00:00:03\n"
     ]
    }
   ],
   "source": [
    "sra_file = '/media/SraStorage/Klebsiella_pneumoniae_SRA/SRR8650757/SRR8650757.sra'\n",
    "report = '/home/chen1i6c04/cf_report.txt'\n",
    "!fastq-dump --split-3 -W -Z {sra_file} | centrifuge --mm -p 64 -x {database} -U - | centrifuge-kreport -x {database} > {report}"
   ]
  },
  {
   "cell_type": "code",
   "execution_count": null,
   "metadata": {},
   "outputs": [],
   "source": []
  }
 ],
 "metadata": {
  "kernelspec": {
   "display_name": "Python 3",
   "language": "python",
   "name": "python3"
  },
  "language_info": {
   "codemirror_mode": {
    "name": "ipython",
    "version": 3
   },
   "file_extension": ".py",
   "mimetype": "text/x-python",
   "name": "python",
   "nbconvert_exporter": "python",
   "pygments_lexer": "ipython3",
   "version": "3.6.13"
  }
 },
 "nbformat": 4,
 "nbformat_minor": 4
}
