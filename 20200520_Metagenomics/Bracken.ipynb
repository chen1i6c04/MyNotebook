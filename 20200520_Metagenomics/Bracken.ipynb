{
 "cells": [
  {
   "cell_type": "code",
   "execution_count": 1,
   "id": "bd8b7342-986c-4246-9646-3c6ae2c33114",
   "metadata": {},
   "outputs": [],
   "source": [
    "import subprocess"
   ]
  },
  {
   "cell_type": "code",
   "execution_count": 2,
   "id": "fba7ca86-7ca0-4fa1-83c9-efd017224573",
   "metadata": {},
   "outputs": [],
   "source": [
    "bracken_path = '/media/GenomicResearch/Tools/Bracken-2.6.2/bracken'"
   ]
  },
  {
   "cell_type": "code",
   "execution_count": 10,
   "id": "2f9bbb4b-274d-4c41-ae25-41ba07111577",
   "metadata": {},
   "outputs": [],
   "source": [
    "kraken2_report = '/media/Central_Lab_Storage/MinION/mNGS/20220112_ICU10&24_26/kraken2/barcode21_report.txt'\n",
    "kraken2_db = '/media/GenomicResearch/Issue/kraken2_db/k2_pluspf_20210517/'"
   ]
  },
  {
   "cell_type": "code",
   "execution_count": 11,
   "id": "84e6c1d3-d97f-43b0-9202-f49e6e15f292",
   "metadata": {},
   "outputs": [],
   "source": [
    "cmd = [bracken_path, '-i', kraken2_report, '-d', kraken2_db , '-o', '/media/Central_Lab_Storage/MinION/mNGS/20220112_ICU10&24_26/kraken2/barcode21_report.bracken']"
   ]
  },
  {
   "cell_type": "code",
   "execution_count": 12,
   "id": "1419ae44-e8f7-4134-a821-b53e081564cf",
   "metadata": {},
   "outputs": [
    {
     "data": {
      "text/plain": [
       "CompletedProcess(args=['/media/GenomicResearch/Tools/Bracken-2.6.2/bracken', '-i', '/media/Central_Lab_Storage/MinION/mNGS/20220112_ICU10&24_26/kraken2/barcode21_report.txt', '-d', '/media/GenomicResearch/Issue/kraken2_db/k2_pluspf_20210517/', '-o', '/media/Central_Lab_Storage/MinION/mNGS/20220112_ICU10&24_26/kraken2/barcode21_report.bracken'], returncode=0)"
      ]
     },
     "execution_count": 12,
     "metadata": {},
     "output_type": "execute_result"
    }
   ],
   "source": [
    "subprocess.run(cmd)"
   ]
  },
  {
   "cell_type": "code",
   "execution_count": null,
   "id": "e825aba1-1720-4ecb-936e-b82c021cc33c",
   "metadata": {},
   "outputs": [],
   "source": []
  }
 ],
 "metadata": {
  "kernelspec": {
   "display_name": "Python 3",
   "language": "python",
   "name": "python3"
  },
  "language_info": {
   "codemirror_mode": {
    "name": "ipython",
    "version": 3
   },
   "file_extension": ".py",
   "mimetype": "text/x-python",
   "name": "python",
   "nbconvert_exporter": "python",
   "pygments_lexer": "ipython3",
   "version": "3.6.13"
  }
 },
 "nbformat": 4,
 "nbformat_minor": 5
}
