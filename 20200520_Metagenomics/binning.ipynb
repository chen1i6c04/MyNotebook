{
 "cells": [
  {
   "cell_type": "code",
   "execution_count": 1,
   "id": "4cae0d6c-087e-4b51-9925-b7fea7174c6d",
   "metadata": {},
   "outputs": [],
   "source": [
    "import os"
   ]
  },
  {
   "cell_type": "code",
   "execution_count": 2,
   "id": "f2b3bd68-f0d9-4071-bc86-7192c9ab6aa7",
   "metadata": {},
   "outputs": [],
   "source": [
    "asm = '/media/Central_Lab_Storage/MinION/mNGS/20220125_ICU27_30/denovo/barcode28/contigs.fasta'\n",
    "raw = '/media/Central_Lab_Storage/MinION/mNGS/20220125_ICU27_30/fastq/barcode28.fastq.gz'"
   ]
  },
  {
   "cell_type": "code",
   "execution_count": 3,
   "id": "120a7b9f-22ac-409f-9493-1d1a6397745f",
   "metadata": {},
   "outputs": [],
   "source": [
    "outdir = '/media/Central_Lab_Storage/MinION/mNGS/20220125_ICU27_30/binning/barcode28'"
   ]
  },
  {
   "cell_type": "code",
   "execution_count": 4,
   "id": "d6cf9db3-5fac-4aa2-981c-db9199e34679",
   "metadata": {},
   "outputs": [
    {
     "name": "stdout",
     "output_type": "stream",
     "text": [
      "[M::mm_idx_gen::0.273*1.01] collected minimizers\n",
      "[M::mm_idx_gen::0.394*1.64] sorted minimizers\n",
      "[M::main::0.394*1.64] loaded/built the index for 13 target sequence(s)\n",
      "[M::mm_mapopt_update::0.422*1.60] mid_occ = 10\n",
      "[M::mm_idx_stat] kmer size: 15; skip: 10; is_hpc: 0; #seq: 13\n",
      "[M::mm_idx_stat::0.446*1.57] distinct minimizers: 999593 (96.64% are singletons); average occurrences: 1.047; average spacing: 5.351; total length: 5599337\n",
      "[M::worker_pipeline::5.771*19.89] mapped 10209 sequences\n",
      "[M::main] Version: 2.23-r1111\n",
      "[M::main] CMD: minimap2 -t 32 -ax map-ont /media/Central_Lab_Storage/MinION/mNGS/20220125_ICU27_30/denovo/barcode28/contigs.fasta /media/Central_Lab_Storage/MinION/mNGS/20220125_ICU27_30/fastq/barcode28.fastq.gz\n",
      "[M::main] Real time: 5.803 sec; CPU: 114.824 sec; Peak RSS: 0.691 GB\n",
      "[bam_sort_core] merging from 0 files and 32 in-memory blocks...\n"
     ]
    }
   ],
   "source": [
    "alignments = os.path.join(outdir, 'alignments.bam')\n",
    "\n",
    "!minimap2 -t 32 -ax map-ont {asm} {raw} | samtools sort -@ 32 --reference {asm} -O BAM > {alignments}"
   ]
  },
  {
   "cell_type": "code",
   "execution_count": 5,
   "id": "d0e6b3f0-2e35-4f2a-bc82-755b65fd14e4",
   "metadata": {},
   "outputs": [
    {
     "name": "stdout",
     "output_type": "stream",
     "text": [
      "Output depth matrix to /media/Central_Lab_Storage/MinION/mNGS/20220125_ICU27_30/binning/barcode28/depth.txt\n",
      "jgi_summarize_bam_contig_depths v2.15-6-g8b5702b 2022-01-27T14:30:04\n",
      "Output matrix to /media/Central_Lab_Storage/MinION/mNGS/20220125_ICU27_30/binning/barcode28/depth.txt\n",
      "0: Opening bam: /media/Central_Lab_Storage/MinION/mNGS/20220125_ICU27_30/binning/barcode28/alignments.bam\n",
      "Processing bam files\n",
      "Thread 0 finished: alignments.bam with 59114 reads and 5347 readsWellMapped\n",
      "Creating depth matrix file: /media/Central_Lab_Storage/MinION/mNGS/20220125_ICU27_30/binning/barcode28/depth.txt\n",
      "Closing most bam files\n",
      "Closing last bam file\n",
      "Finished\n"
     ]
    }
   ],
   "source": [
    "program = '/media/GenomicResearch/Tools/metabat/build/src/jgi_summarize_bam_contig_depths'\n",
    "\n",
    "!{program} --outputDepth {os.path.join(outdir, 'depth.txt')} {alignments}"
   ]
  },
  {
   "cell_type": "code",
   "execution_count": 6,
   "id": "aa89d31b-cfdb-446d-b81b-f97bd371fc88",
   "metadata": {},
   "outputs": [
    {
     "name": "stdout",
     "output_type": "stream",
     "text": [
      "MetaBAT 2 (v2.15-6-g8b5702b) using minContig 2000, minCV 1.0, minCVSum 1.0, maxP 95%, minS 60, maxEdges 200 and minClsSize 200000. with random seed=1643267481\n",
      "2 bins (5349136 bases in total) formed.\n"
     ]
    }
   ],
   "source": [
    "program = '/media/GenomicResearch/Tools/metabat/build/src/metabat2'\n",
    "\n",
    "!{program} -i {asm} -a {os.path.join(outdir, 'depth.txt')} -o {os.path.join(outdir, 'bin')} -m 2000"
   ]
  },
  {
   "cell_type": "code",
   "execution_count": null,
   "id": "9d9289db-872e-4972-b185-c8598b2499be",
   "metadata": {},
   "outputs": [],
   "source": []
  }
 ],
 "metadata": {
  "kernelspec": {
   "display_name": "Python 3",
   "language": "python",
   "name": "python3"
  },
  "language_info": {
   "codemirror_mode": {
    "name": "ipython",
    "version": 3
   },
   "file_extension": ".py",
   "mimetype": "text/x-python",
   "name": "python",
   "nbconvert_exporter": "python",
   "pygments_lexer": "ipython3",
   "version": "3.6.13"
  }
 },
 "nbformat": 4,
 "nbformat_minor": 5
}
