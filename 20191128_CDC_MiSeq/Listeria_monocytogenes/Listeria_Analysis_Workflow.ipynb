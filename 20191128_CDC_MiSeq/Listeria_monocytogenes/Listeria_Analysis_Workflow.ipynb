{
 "cells": [
  {
   "cell_type": "code",
   "execution_count": 1,
   "metadata": {},
   "outputs": [],
   "source": [
    "import os\n",
    "import sys\n",
    "import json\n",
    "import shutil\n",
    "from pathlib import Path\n",
    "from tempfile import TemporaryDirectory\n",
    "from multiprocessing import Pool\n",
    "import pandas as pd"
   ]
  },
  {
   "cell_type": "code",
   "execution_count": 2,
   "metadata": {},
   "outputs": [],
   "source": [
    "sys.path.append('../../src')\n",
    "\n",
    "from run import run_mlst, run_amrfinder, run_plasmidfinder, run_virulencefinder\n",
    "from application import ribosomal_mlst\n",
    "from utils import run_cmd"
   ]
  },
  {
   "cell_type": "code",
   "execution_count": 3,
   "metadata": {},
   "outputs": [],
   "source": [
    "def run_lissero(infile, outfile):\n",
    "    run_cmd(f'conda run -n lissero lissero {infile} > {outfile}')"
   ]
  },
  {
   "cell_type": "code",
   "execution_count": 4,
   "metadata": {},
   "outputs": [],
   "source": [
    "def pipeline(infile, outdir, threads=4):\n",
    "    os.makedirs(outdir, exist_ok=True)\n",
    "    mlst_dirname = os.path.join(outdir, 'mlst')\n",
    "    plasmidfinder_dirname = os.path.join(outdir, 'plasmidfinder')\n",
    "#     virulencefinder_dirname = os.path.join(outdir, 'virulencefinder')\n",
    "    amrfinder_filename = os.path.join(outdir, 'amrfinder.txt')\n",
    "#     amrfinder_nucl_filename = os.path.join(outdir, 'amrfinder.fna')\n",
    "    lissero_filename = os.path.join(outdir, 'lissero.txt')\n",
    "#     rmlst_filename = os.path.join(outdir, 'rmlst.json')\n",
    "    run_amrfinder(\n",
    "        infile,\n",
    "        amrfinder_filename,\n",
    "        database='/media/GenomicResearch/Tools/amrfinder_database/latest/',\n",
    "        threads=threads,\n",
    "#         nucleotide_output=amrfinder_nucl_filename,\n",
    "    )\n",
    "    run_mlst(\n",
    "        infile, mlst_dirname, '/media/GenomicResearch/Tools/CGE/mlst_db', 'lmonocytogenes'\n",
    "    )\n",
    "    run_plasmidfinder(\n",
    "        infile, plasmidfinder_dirname, '/media/GenomicResearch/Tools/CGE/plasmidfinder_db'\n",
    "    )\n",
    "    run_lissero(\n",
    "        infile, lissero_filename\n",
    "    )\n",
    "#     run_virulencefinder(\n",
    "#         infile, virulencefinder_dirname, '/media/NAS/Central_Lab_Storage/bo-han/Data_Analysis/CGE/virulencefinder_db/', 'listeria'\n",
    "#     )\n",
    "#     ribosomal_mlst(\n",
    "#         infile, rmlst_filename\n",
    "#     )"
   ]
  },
  {
   "cell_type": "code",
   "execution_count": 5,
   "metadata": {},
   "outputs": [],
   "source": [
    "dirpath = Path('/media/GenomicResearch/MiSeq/Listeria_monocytogenes/New')\n",
    "outpath = Path('/media/GenomicResearch/MiSeq/Listeria_monocytogenes/Analysis')"
   ]
  },
  {
   "cell_type": "code",
   "execution_count": 6,
   "metadata": {},
   "outputs": [],
   "source": [
    "with Pool(8) as p:\n",
    "    try:\n",
    "        for filepath in dirpath.iterdir():\n",
    "            outdir = outpath/filepath.stem\n",
    "            p.apply_async(pipeline, (filepath, outdir, 8))\n",
    "        p.close()\n",
    "        p.join()\n",
    "    except:\n",
    "        p.terminate()"
   ]
  },
  {
   "cell_type": "code",
   "execution_count": 5,
   "metadata": {},
   "outputs": [],
   "source": [
    "pipeline('/media/GenomicResearch/MiSeq/Listeria_monocytogenes/New/R14.0396.fa',\n",
    "         '/media/GenomicResearch/MiSeq/Listeria_monocytogenes/R14.0396', 32)"
   ]
  },
  {
   "cell_type": "code",
   "execution_count": null,
   "metadata": {},
   "outputs": [],
   "source": []
  }
 ],
 "metadata": {
  "kernelspec": {
   "display_name": "Python 3",
   "language": "python",
   "name": "python3"
  },
  "language_info": {
   "codemirror_mode": {
    "name": "ipython",
    "version": 3
   },
   "file_extension": ".py",
   "mimetype": "text/x-python",
   "name": "python",
   "nbconvert_exporter": "python",
   "pygments_lexer": "ipython3",
   "version": "3.6.13"
  }
 },
 "nbformat": 4,
 "nbformat_minor": 4
}
