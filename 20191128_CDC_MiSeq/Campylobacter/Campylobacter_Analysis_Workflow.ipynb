{
 "cells": [
  {
   "cell_type": "code",
   "execution_count": 1,
   "metadata": {},
   "outputs": [],
   "source": [
    "import os\n",
    "import sys\n",
    "import json\n",
    "import shutil\n",
    "from pathlib import Path\n",
    "from tempfile import TemporaryDirectory\n",
    "from multiprocessing import Pool\n",
    "import pandas as pd"
   ]
  },
  {
   "cell_type": "code",
   "execution_count": 2,
   "metadata": {},
   "outputs": [],
   "source": [
    "sys.path.append('../../src')\n",
    "from application import MlstCommandline, \\\n",
    "                        PlasmidFinderCommandline, \\\n",
    "                        ResfinderCommandline, \\\n",
    "                        AmrfinderCommandline, \\\n",
    "                        VirulencefinderCommandline, \\\n",
    "                        SerotypefinderCommandline, \\\n",
    "                        ribosomal_mlst"
   ]
  },
  {
   "cell_type": "code",
   "execution_count": 3,
   "metadata": {},
   "outputs": [],
   "source": [
    "def run_mlst(infile, outdir, database, species):\n",
    "    os.makedirs(outdir, exist_ok=True)\n",
    "    with TemporaryDirectory(dir='/tmp/') as tmp:\n",
    "        cline = MlstCommandline(\n",
    "            infile=infile, outdir=outdir, database=database, species=species, tmp=tmp, extented_output=True\n",
    "        )\n",
    "        cline()\n",
    "\n",
    "def run_plasmidfinder(infile, outdir, database):\n",
    "    os.makedirs(outdir, exist_ok=True)\n",
    "    with TemporaryDirectory(dir='/dev/shm/') as tmp:\n",
    "        cline = PlasmidFinderCommandline(\n",
    "            infile=infile, outdir=outdir, database=database, tmp=tmp, extented_output=True\n",
    "        )\n",
    "        cline()\n",
    "\n",
    "def run_resfinder(infile, outdir, db_res, db_point, species):\n",
    "    os.makedirs(outdir, exist_ok=True)\n",
    "    cline = ResfinderCommandline(\n",
    "        infasta=infile, outdir=outdir, db_res=db_res, db_point=db_point, species=species, point=True, acquired=True,\n",
    "    )\n",
    "    cline()\n",
    "    shutil.rmtree(os.path.join(outdir, 'pointfinder_blast'))\n",
    "\n",
    "def run_amrfinder(infile, outfile, database, **kwargs):\n",
    "    cline = AmrfinderCommandline(\n",
    "        cmd='/home/chen1i6c04/miniconda3/envs/amrfinder/bin/amrfinder',\n",
    "        nuc_fasta=infile, output_file=outfile, database=database, **kwargs\n",
    "    )\n",
    "    cline()"
   ]
  },
  {
   "cell_type": "code",
   "execution_count": 6,
   "metadata": {},
   "outputs": [],
   "source": [
    "def pipeline(infile, outdir, threads=4):\n",
    "    os.makedirs(outdir, exist_ok=True)\n",
    "    mlst_dirname = os.path.join(outdir, 'mlst')\n",
    "    plasmidfinder_dirname = os.path.join(outdir, 'plasmidfinder')\n",
    "    amrfinder_filename = os.path.join(outdir, 'amrfinder.txt')\n",
    "#     amrfinder_nucl_filename = os.path.join(outdir, 'amrfinder.fna')\n",
    "    resfinder_dirname = os.path.join(outdir, 'resfinder')\n",
    "    rmlst_filename = os.path.join(outdir, 'rmlst.json')\n",
    "    run_amrfinder(\n",
    "        infile,\n",
    "        amrfinder_filename,\n",
    "        database='/media/GenomicResearch/Tools/amrfinder_database/latest',\n",
    "        threads=threads,\n",
    "        organism='Campylobacter',\n",
    "#         nucleotide_output=amrfinder_nucl_filename,\n",
    "    )\n",
    "    run_mlst(infile, mlst_dirname, '/media/GenomicResearch/Tools/CGE/mlst_db', 'cjejuni')\n",
    "    run_plasmidfinder(infile, plasmidfinder_dirname, '/media/GenomicResearch/Tools/CGE/plasmidfinder_db')\n",
    "    run_resfinder(\n",
    "        infile, resfinder_dirname,\n",
    "        '/media/GenomicResearch/Tools/CGE/resfinder_db',\n",
    "        '/media/GenomicResearch/Tools/CGE/pointfinder_db',\n",
    "        'campylobacter',\n",
    "    )\n",
    "    ribosomal_mlst(infile, rmlst_filename)"
   ]
  },
  {
   "cell_type": "code",
   "execution_count": null,
   "metadata": {},
   "outputs": [],
   "source": [
    "dirpath = Path('/media/NAS/Central_Lab_Storage/MiSeq/Campylobacter/New')\n",
    "outpath = Path('/home/chen1i6c04/test')"
   ]
  },
  {
   "cell_type": "code",
   "execution_count": null,
   "metadata": {},
   "outputs": [],
   "source": [
    "with Pool(16) as p:\n",
    "    try:\n",
    "        for filepath in dirpath.iterdir():\n",
    "            outdir = outpath/filepath.stem\n",
    "            p.apply_async(pipeline, (filepath, outdir, 4))\n",
    "        p.close()\n",
    "        p.join()\n",
    "    except:\n",
    "        p.terminate()"
   ]
  },
  {
   "cell_type": "code",
   "execution_count": 9,
   "metadata": {},
   "outputs": [],
   "source": [
    "pipeline('/home/chen1i6c04/test/assembly.fasta',\n",
    "         '/home/chen1i6c04/test', 32)"
   ]
  },
  {
   "cell_type": "code",
   "execution_count": null,
   "metadata": {},
   "outputs": [],
   "source": []
  }
 ],
 "metadata": {
  "kernelspec": {
   "display_name": "Python 3",
   "language": "python",
   "name": "python3"
  },
  "language_info": {
   "codemirror_mode": {
    "name": "ipython",
    "version": 3
   },
   "file_extension": ".py",
   "mimetype": "text/x-python",
   "name": "python",
   "nbconvert_exporter": "python",
   "pygments_lexer": "ipython3",
   "version": "3.6.13"
  }
 },
 "nbformat": 4,
 "nbformat_minor": 4
}
