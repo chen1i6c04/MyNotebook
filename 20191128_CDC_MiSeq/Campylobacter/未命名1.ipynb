{
 "cells": [
  {
   "cell_type": "code",
   "execution_count": 1,
   "id": "d41b5358",
   "metadata": {},
   "outputs": [],
   "source": [
    "import os\n",
    "import json\n",
    "from pathlib import Path\n",
    "import pandas as pd"
   ]
  },
  {
   "cell_type": "code",
   "execution_count": 2,
   "id": "467858db-20d5-4835-b62d-b08e01bcdf81",
   "metadata": {},
   "outputs": [],
   "source": [
    "import sys\n",
    "sys.path.append('../../src')"
   ]
  },
  {
   "cell_type": "code",
   "execution_count": 22,
   "id": "7367c088-9a92-4bc8-8f34-1d5db46432ae",
   "metadata": {},
   "outputs": [],
   "source": [
    "from parse import parse_amrfinder_result, parse_mlst_result, parse_plasmidfinder_result\n",
    "from tree import to_numeric"
   ]
  },
  {
   "cell_type": "code",
   "execution_count": 10,
   "id": "667d88f6-1fd0-42de-8a71-4526ccd822a6",
   "metadata": {},
   "outputs": [],
   "source": [
    "def parse_text_result(path):\n",
    "    amrfinder_filename = os.path.join(path, 'amrfinder.txt')\n",
    "    mlst_filename = os.path.join(path, 'mlst', 'data.json')\n",
    "    plasmidfinder_filename = os.path.join(path, 'plasmidfinder', 'results_tab.tsv')\n",
    "    \n",
    "    summary = dict()\n",
    "    records = parse_amrfinder_result(amrfinder_filename)\n",
    "    summary['AMR'] = ', '.join(sorted(record['gene_symbol'] for record in records if record['element_subtype'] == 'AMR'))\n",
    "    summary['Point'] = ', '.join(sorted(rec['gene_symbol'] for rec in records if rec['element_subtype'] == 'POINT'))\n",
    "    records = parse_plasmidfinder_result(plasmidfinder_filename)\n",
    "    summary['Inc type'] = ', '.join(sorted(records))\n",
    "    summary.update(parse_mlst_result(mlst_filename))\n",
    "    return summary"
   ]
  },
  {
   "cell_type": "code",
   "execution_count": 11,
   "id": "d0b388c3-8485-4d2c-9f2a-f892f72f2536",
   "metadata": {},
   "outputs": [],
   "source": [
    "dirpath = Path('/media/GenomicResearch/MiSeq/Campylobacter/Analysis')\n",
    "summeries = {i.name: parse_text_result(i) for i in dirpath.iterdir()}"
   ]
  },
  {
   "cell_type": "code",
   "execution_count": 12,
   "id": "2988b414-6d7b-4122-aab2-ba442b4fa7db",
   "metadata": {},
   "outputs": [
    {
     "data": {
      "text/html": [
       "<div>\n",
       "<style scoped>\n",
       "    .dataframe tbody tr th:only-of-type {\n",
       "        vertical-align: middle;\n",
       "    }\n",
       "\n",
       "    .dataframe tbody tr th {\n",
       "        vertical-align: top;\n",
       "    }\n",
       "\n",
       "    .dataframe thead th {\n",
       "        text-align: right;\n",
       "    }\n",
       "</style>\n",
       "<table border=\"1\" class=\"dataframe\">\n",
       "  <thead>\n",
       "    <tr style=\"text-align: right;\">\n",
       "      <th></th>\n",
       "      <th>AMR</th>\n",
       "      <th>Point</th>\n",
       "      <th>Inc type</th>\n",
       "      <th>ST</th>\n",
       "      <th>tkt</th>\n",
       "      <th>gltA</th>\n",
       "      <th>glyA</th>\n",
       "      <th>pgm</th>\n",
       "      <th>glnA</th>\n",
       "      <th>uncA</th>\n",
       "      <th>aspA</th>\n",
       "    </tr>\n",
       "    <tr>\n",
       "      <th>Key</th>\n",
       "      <th></th>\n",
       "      <th></th>\n",
       "      <th></th>\n",
       "      <th></th>\n",
       "      <th></th>\n",
       "      <th></th>\n",
       "      <th></th>\n",
       "      <th></th>\n",
       "      <th></th>\n",
       "      <th></th>\n",
       "      <th></th>\n",
       "    </tr>\n",
       "  </thead>\n",
       "  <tbody>\n",
       "    <tr>\n",
       "      <th>R16.0120</th>\n",
       "      <td>blaOXA, lnu(P), tet(O)</td>\n",
       "      <td></td>\n",
       "      <td></td>\n",
       "      <td>609</td>\n",
       "      <td>5</td>\n",
       "      <td>5</td>\n",
       "      <td>72</td>\n",
       "      <td>2</td>\n",
       "      <td>2</td>\n",
       "      <td>39</td>\n",
       "      <td>24</td>\n",
       "    </tr>\n",
       "    <tr>\n",
       "      <th>R16.0139</th>\n",
       "      <td>blaOXA-193, tet(O)</td>\n",
       "      <td>50S_L22_A103V, gyrA_T86I</td>\n",
       "      <td></td>\n",
       "      <td>9243</td>\n",
       "      <td>3</td>\n",
       "      <td>2</td>\n",
       "      <td>2</td>\n",
       "      <td>86</td>\n",
       "      <td>2</td>\n",
       "      <td>1</td>\n",
       "      <td>24</td>\n",
       "    </tr>\n",
       "    <tr>\n",
       "      <th>R16.0174</th>\n",
       "      <td>blaOXA, tet(O/M/O)</td>\n",
       "      <td>gyrA_T86I</td>\n",
       "      <td></td>\n",
       "      <td>760</td>\n",
       "      <td>100</td>\n",
       "      <td>52</td>\n",
       "      <td>3</td>\n",
       "      <td>2</td>\n",
       "      <td>1</td>\n",
       "      <td>5</td>\n",
       "      <td>2</td>\n",
       "    </tr>\n",
       "    <tr>\n",
       "      <th>R16.0745</th>\n",
       "      <td>blaOXA</td>\n",
       "      <td>gyrA_T86I</td>\n",
       "      <td></td>\n",
       "      <td>257</td>\n",
       "      <td>5</td>\n",
       "      <td>4</td>\n",
       "      <td>62</td>\n",
       "      <td>4</td>\n",
       "      <td>2</td>\n",
       "      <td>6</td>\n",
       "      <td>9</td>\n",
       "    </tr>\n",
       "    <tr>\n",
       "      <th>R16.0746</th>\n",
       "      <td>blaOXA-193, tet(O)</td>\n",
       "      <td>50S_L22_A103V</td>\n",
       "      <td></td>\n",
       "      <td>5</td>\n",
       "      <td>3</td>\n",
       "      <td>5</td>\n",
       "      <td>2</td>\n",
       "      <td>10</td>\n",
       "      <td>2</td>\n",
       "      <td>6</td>\n",
       "      <td>7</td>\n",
       "    </tr>\n",
       "  </tbody>\n",
       "</table>\n",
       "</div>"
      ],
      "text/plain": [
       "                             AMR                     Point Inc type    ST  \\\n",
       "Key                                                                         \n",
       "R16.0120  blaOXA, lnu(P), tet(O)                                      609   \n",
       "R16.0139      blaOXA-193, tet(O)  50S_L22_A103V, gyrA_T86I           9243   \n",
       "R16.0174      blaOXA, tet(O/M/O)                 gyrA_T86I            760   \n",
       "R16.0745                  blaOXA                 gyrA_T86I            257   \n",
       "R16.0746      blaOXA-193, tet(O)             50S_L22_A103V              5   \n",
       "\n",
       "          tkt gltA glyA pgm glnA uncA aspA  \n",
       "Key                                         \n",
       "R16.0120    5    5   72   2    2   39   24  \n",
       "R16.0139    3    2    2  86    2    1   24  \n",
       "R16.0174  100   52    3   2    1    5    2  \n",
       "R16.0745    5    4   62   4    2    6    9  \n",
       "R16.0746    3    5    2  10    2    6    7  "
      ]
     },
     "execution_count": 12,
     "metadata": {},
     "output_type": "execute_result"
    }
   ],
   "source": [
    "df = pd.DataFrame(summeries).T.sort_index()\n",
    "df.index.name = 'Key'\n",
    "df.head()"
   ]
  },
  {
   "cell_type": "code",
   "execution_count": 13,
   "id": "bf404323-2a43-43af-91a0-d936668e8fb9",
   "metadata": {},
   "outputs": [],
   "source": [
    "df.to_csv('/media/GenomicResearch/MiSeq/Campylobacter/summaries.txt', sep='\\t')"
   ]
  },
  {
   "cell_type": "code",
   "execution_count": 32,
   "id": "c1a1633f-cb55-4886-9414-2f839a56fa4a",
   "metadata": {},
   "outputs": [],
   "source": [
    "dirpath = Path('/media/MiSeqOutput/210826_M04855_0083_000000000-JYGBK/Assembly')\n",
    "accs = set(x.stem.replace('-', '.', 1) for x in dirpath.iterdir())\n",
    "df.filter(accs, axis=0).sort_index().to_csv('/media/GenomicResearch/MiSeq/Campylobacter/202108026_summaries.txt', sep='\\t')"
   ]
  },
  {
   "cell_type": "code",
   "execution_count": null,
   "id": "97c5ca8b-d661-45b8-a35e-f2fd1d79bd92",
   "metadata": {},
   "outputs": [],
   "source": []
  },
  {
   "cell_type": "code",
   "execution_count": 15,
   "id": "1bb7d7b9-837e-42da-866e-cc1231360818",
   "metadata": {},
   "outputs": [],
   "source": [
    "dirpath = Path('/media/GenomicResearch/MiSeq/Campylobacter/Analysis')\n",
    "summaries = dict()\n",
    "for i in dirpath.iterdir():\n",
    "    summary = dict()\n",
    "    records = parse_amrfinder_result(i/'amrfinder.txt')\n",
    "    for rec in records:\n",
    "        if rec['element_subtype'] == 'AMR':\n",
    "            if rec['coverage_of_reference_sequence'] >= 90:\n",
    "                summary[rec['gene_symbol']] = 1\n",
    "            else:\n",
    "                summary[rec['gene_symbol']] = 0.5\n",
    "    summaries[i.name] = summary\n",
    "summaries_tab = pd.DataFrame(summaries).T.sort_index().sort_index(axis=1)\n",
    "summaries_tab.index.name = 'Key'\n",
    "\n",
    "summaries_tab.to_csv('/media/GenomicResearch/MiSeq/Campylobacter/amr2bns.txt', sep='\\t')"
   ]
  },
  {
   "cell_type": "code",
   "execution_count": 16,
   "id": "4d6c5816-6d35-4d17-883a-d2ad31acef5f",
   "metadata": {},
   "outputs": [],
   "source": [
    "dirpath = Path('/media/GenomicResearch/MiSeq/Campylobacter/Analysis')\n",
    "summaries = dict()\n",
    "for i in dirpath.iterdir():\n",
    "    summary = {x: 1 for x in parse_plasmidfinder_result(i/'plasmidfinder'/'results_tab.tsv')}\n",
    "    summaries[i.name] = summary\n",
    "summaries_tab = pd.DataFrame(summaries).T.sort_index().sort_index(axis=1)\n",
    "summaries_tab.index.name = 'Key'\n",
    "\n",
    "summaries_tab.to_csv('/media/GenomicResearch/MiSeq/Campylobacter/plasmid2bns.txt', sep='\\t')"
   ]
  },
  {
   "cell_type": "code",
   "execution_count": 20,
   "id": "e4bdd752-df25-47c5-87b8-c76e5cc55d71",
   "metadata": {},
   "outputs": [],
   "source": [
    "dirpath = Path('/media/GenomicResearch/MiSeq/Campylobacter/Analysis')\n",
    "summaries = dict()\n",
    "for i in dirpath.iterdir():\n",
    "    records = [rec['gene_symbol'] for rec in parse_amrfinder_result(i/'amrfinder.txt') if rec['element_subtype'] == 'POINT']\n",
    "    summaries[i.name] = {x: 1 for x in records}\n",
    "summaries_tab = pd.DataFrame(summaries).T.sort_index().sort_index(axis=1)\n",
    "summaries_tab.index.name = 'Key'\n",
    "\n",
    "summaries_tab.to_csv('/media/GenomicResearch/MiSeq/Campylobacter/point2bns.txt', sep='\\t')"
   ]
  },
  {
   "cell_type": "code",
   "execution_count": 25,
   "id": "3fe72a1f-9686-4756-9d22-1db09a73042f",
   "metadata": {},
   "outputs": [],
   "source": [
    "dirpath = Path('/media/GenomicResearch/MiSeq/Campylobacter/Profile/')\n",
    "profile = pd.concat((pd.read_csv(i, sep='\\t', header=0, index_col=0, names=[i.stem]) for i in dirpath.iterdir()), axis=1)"
   ]
  },
  {
   "cell_type": "code",
   "execution_count": 26,
   "id": "c15f8d38-eaae-425d-9a77-735819f59931",
   "metadata": {},
   "outputs": [],
   "source": [
    "to_numeric(profile).to_csv('/media/GenomicResearch/MiSeq/Campylobacter/cgmlst2bns.txt', sep='\\t', index=False)"
   ]
  },
  {
   "cell_type": "code",
   "execution_count": null,
   "id": "e2611075-4a91-42f0-9ef2-eb7b8b42bc09",
   "metadata": {},
   "outputs": [],
   "source": []
  }
 ],
 "metadata": {
  "kernelspec": {
   "display_name": "Python 3",
   "language": "python",
   "name": "python3"
  },
  "language_info": {
   "codemirror_mode": {
    "name": "ipython",
    "version": 3
   },
   "file_extension": ".py",
   "mimetype": "text/x-python",
   "name": "python",
   "nbconvert_exporter": "python",
   "pygments_lexer": "ipython3",
   "version": "3.6.13"
  }
 },
 "nbformat": 4,
 "nbformat_minor": 5
}
