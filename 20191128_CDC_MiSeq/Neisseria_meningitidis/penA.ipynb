{
 "cells": [
  {
   "cell_type": "code",
   "execution_count": 9,
   "id": "8594d1af",
   "metadata": {},
   "outputs": [
    {
     "name": "stdout",
     "output_type": "stream",
     "text": [
      "\n",
      "\n",
      "Building a new DB, current time: 05/06/2021 15:33:50\n",
      "New DB name:   /media/NGS/Data_Analysis/20210506_Neisseria_penA/db\n",
      "New DB title:  /home/chen1i6c04/Neisseria_penA.faa\n",
      "Sequence type: Protein\n",
      "Keep MBits: T\n",
      "Maximum file size: 1000000000B\n",
      "Adding sequences from FASTA; added 8 sequences in 0.000825882 seconds.\n"
     ]
    }
   ],
   "source": [
    "!makeblastdb -in /home/chen1i6c04/Neisseria_penA.faa -dbtype prot -out /media/NGS/Data_Analysis/20210506_Neisseria_penA/db"
   ]
  },
  {
   "cell_type": "code",
   "execution_count": 2,
   "id": "2b71ec46",
   "metadata": {},
   "outputs": [],
   "source": [
    "from pathlib import Path"
   ]
  },
  {
   "cell_type": "code",
   "execution_count": 10,
   "id": "ffdbe715",
   "metadata": {},
   "outputs": [],
   "source": [
    "!blastp -query /media/NGS/MiSeqAnalysis/Neisseria_meningitidis/Annotation/C04.0272/C04.0272.faa -db /media/NGS/Data_Analysis/20210506_Neisseria_penA/db -outfmt '6 qseqid sseqid pident length qlen slen' -out /media/NGS/Data_Analysis/20210506_Neisseria_penA/C04.0272.txt -num_threads 4"
   ]
  },
  {
   "cell_type": "code",
   "execution_count": null,
   "id": "6c192f0c",
   "metadata": {},
   "outputs": [],
   "source": []
  }
 ],
 "metadata": {
  "kernelspec": {
   "display_name": "Python 3",
   "language": "python",
   "name": "python3"
  },
  "language_info": {
   "codemirror_mode": {
    "name": "ipython",
    "version": 3
   },
   "file_extension": ".py",
   "mimetype": "text/x-python",
   "name": "python",
   "nbconvert_exporter": "python",
   "pygments_lexer": "ipython3",
   "version": "3.6.12"
  }
 },
 "nbformat": 4,
 "nbformat_minor": 5
}
