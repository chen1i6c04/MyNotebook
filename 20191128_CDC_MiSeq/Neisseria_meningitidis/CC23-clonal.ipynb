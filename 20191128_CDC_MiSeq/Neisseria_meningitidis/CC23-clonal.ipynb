{
 "cells": [
  {
   "cell_type": "code",
   "execution_count": 1,
   "metadata": {},
   "outputs": [],
   "source": [
    "from pathlib import Path\n",
    "import pandas as pd"
   ]
  },
  {
   "cell_type": "code",
   "execution_count": 2,
   "metadata": {},
   "outputs": [],
   "source": [
    "metadata = pd.read_excel('CC23_Y.xlsx', usecols=['Key', 'Country'])"
   ]
  },
  {
   "cell_type": "code",
   "execution_count": 4,
   "metadata": {},
   "outputs": [],
   "source": [
    "countries = {'China', 'United Kingdom', 'USA', 'Taiwan'}"
   ]
  },
  {
   "cell_type": "code",
   "execution_count": 7,
   "metadata": {},
   "outputs": [],
   "source": [
    "metadata['Country'] = [i if i in countries else '' for i in metadata['Country']]"
   ]
  },
  {
   "cell_type": "code",
   "execution_count": 18,
   "metadata": {},
   "outputs": [],
   "source": [
    "grapetree_metadata = metadata.rename(columns={'Key': 'ID'})\n",
    "grapetree_metadata.to_csv('CC23_grapetree_metadata.txt', sep='\\t', index=False)"
   ]
  },
  {
   "cell_type": "code",
   "execution_count": null,
   "metadata": {},
   "outputs": [],
   "source": []
  },
  {
   "cell_type": "code",
   "execution_count": 3,
   "metadata": {},
   "outputs": [
    {
     "data": {
      "text/plain": [
       "(1241, 1080)"
      ]
     },
     "execution_count": 3,
     "metadata": {},
     "output_type": "execute_result"
    }
   ],
   "source": [
    "dirpaths = (\n",
    "    '/media/NGS/Data_Analysis/20191114_NCBI_Neisseria_meningitidis/SRA/Profile/core-genome',\n",
    "    '/media/NGS/Data_Analysis/20191114_NCBI_Neisseria_meningitidis/Assembly/Profile/core-genome',\n",
    "    '/media/NGS/Data_Analysis/20191128_CDC_MiSeq/Neisseria_meningitidis/Profile'\n",
    ")\n",
    "\n",
    "accs = set(metadata['Key'])\n",
    "\n",
    "pfs = []\n",
    "for dirpath in dirpaths:\n",
    "    dirPath = Path(dirpath)\n",
    "    for i in dirPath.iterdir():\n",
    "        if i.stem in accs:\n",
    "            pf = pd.read_csv(i, sep='\\t', index_col=0)\n",
    "            pfs.append(pf)\n",
    "profile = pd.concat(pfs, axis=1)\n",
    "profile.shape"
   ]
  },
  {
   "cell_type": "code",
   "execution_count": 4,
   "metadata": {},
   "outputs": [],
   "source": [
    "import sys\n",
    "sys.path.append('../../src')\n",
    "\n",
    "from tree import calculate_distance, Dendrogram, integer_encoding, to_bns"
   ]
  },
  {
   "cell_type": "code",
   "execution_count": 13,
   "metadata": {},
   "outputs": [],
   "source": [
    "integer_profile = to_bns(profile)"
   ]
  },
  {
   "cell_type": "code",
   "execution_count": 14,
   "metadata": {},
   "outputs": [],
   "source": [
    "integer_profile = integer_profile.rename(columns={'Key': '#Strain'})"
   ]
  },
  {
   "cell_type": "code",
   "execution_count": 15,
   "metadata": {},
   "outputs": [],
   "source": [
    "integer_profile.to_csv('CC23_grapetree_profile.txt', sep='\\t', index=False)"
   ]
  },
  {
   "cell_type": "code",
   "execution_count": null,
   "metadata": {},
   "outputs": [],
   "source": []
  },
  {
   "cell_type": "code",
   "execution_count": 6,
   "metadata": {},
   "outputs": [],
   "source": [
    "pdist = calculate_distance(profile)"
   ]
  },
  {
   "cell_type": "code",
   "execution_count": 7,
   "metadata": {},
   "outputs": [],
   "source": [
    "dendrogram = Dendrogram(pdist, 'average')"
   ]
  },
  {
   "cell_type": "code",
   "execution_count": 8,
   "metadata": {},
   "outputs": [],
   "source": [
    "dendrogram.cluster()"
   ]
  },
  {
   "cell_type": "code",
   "execution_count": 9,
   "metadata": {},
   "outputs": [],
   "source": [
    "dendrogram.to_newick('CC23_clonal.newick')"
   ]
  },
  {
   "cell_type": "code",
   "execution_count": null,
   "metadata": {},
   "outputs": [],
   "source": []
  }
 ],
 "metadata": {
  "kernelspec": {
   "display_name": "Python 3",
   "language": "python",
   "name": "python3"
  },
  "language_info": {
   "codemirror_mode": {
    "name": "ipython",
    "version": 3
   },
   "file_extension": ".py",
   "mimetype": "text/x-python",
   "name": "python",
   "nbconvert_exporter": "python",
   "pygments_lexer": "ipython3",
   "version": "3.8.2"
  }
 },
 "nbformat": 4,
 "nbformat_minor": 4
}
