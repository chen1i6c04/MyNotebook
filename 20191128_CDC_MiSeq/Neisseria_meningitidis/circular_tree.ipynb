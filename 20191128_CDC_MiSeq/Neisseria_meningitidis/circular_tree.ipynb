{
 "cells": [
  {
   "cell_type": "code",
   "execution_count": 1,
   "metadata": {},
   "outputs": [],
   "source": [
    "from pathlib import Path\n",
    "import pandas as pd"
   ]
  },
  {
   "cell_type": "code",
   "execution_count": 13,
   "metadata": {},
   "outputs": [],
   "source": [
    "ncbi_metadata = pd.read_csv('/media/NGS/Data_Analysis/20191114_NCBI_Neisseria_meningitidis/Neisseria_meningitidis_tracking_data.csv',\n",
    "                            usecols=['SourceSeq', 'SourceCountry', 'Clonal_complex', 'gyrA'])\n",
    "\n",
    "ncbi_metadata = ncbi_metadata[ncbi_metadata['Clonal_complex'].str.contains('44', na=False)]"
   ]
  },
  {
   "cell_type": "code",
   "execution_count": 14,
   "metadata": {},
   "outputs": [],
   "source": [
    "cdc_metadata = pd.read_excel('/home/chen1i6c04/notebook/20191128_CDC_MiSeq/Neisseria_meningitidis/Nm_153_metadata.xlsx',\n",
    "                             usecols=['Key', 'Clonal_complex', 'gyrA'])\n",
    "\n",
    "cdc_metadata = cdc_metadata[cdc_metadata['Clonal_complex'].str.contains('44', na=False)]\n",
    "cdc_metadata = cdc_metadata.rename(columns={'Key': 'SourceSeq'})\n",
    "cdc_metadata['SourceCountry'] = 'Taiwan'"
   ]
  },
  {
   "cell_type": "code",
   "execution_count": 15,
   "metadata": {},
   "outputs": [],
   "source": [
    "metadata = pd.concat([ncbi_metadata, cdc_metadata])"
   ]
  },
  {
   "cell_type": "code",
   "execution_count": 16,
   "metadata": {},
   "outputs": [],
   "source": [
    "dirpaths = (\n",
    "    '/media/NGS/Data_Analysis/20191114_NCBI_Neisseria_meningitidis/SRA/Profile/core-genome',\n",
    "    '/media/NGS/Data_Analysis/20191114_NCBI_Neisseria_meningitidis/Assembly/Profile/core-genome',\n",
    "    '/media/NGS/Data_Analysis/20191128_CDC_MiSeq/Neisseria_meningitidis/Profile'\n",
    ")"
   ]
  },
  {
   "cell_type": "code",
   "execution_count": 17,
   "metadata": {},
   "outputs": [],
   "source": [
    "accs = set(metadata['SourceSeq'])\n",
    "\n",
    "pfs = []\n",
    "for dirpath in dirpaths:\n",
    "    dirPath = Path(dirpath)\n",
    "    for i in dirPath.iterdir():\n",
    "        if i.stem in accs:\n",
    "            pf = pd.read_csv(i, sep='\\t', index_col=0)\n",
    "            pfs.append(pf)"
   ]
  },
  {
   "cell_type": "code",
   "execution_count": 18,
   "metadata": {},
   "outputs": [
    {
     "data": {
      "text/plain": [
       "(1241, 968)"
      ]
     },
     "execution_count": 18,
     "metadata": {},
     "output_type": "execute_result"
    }
   ],
   "source": [
    "profile = pd.concat(pfs, axis=1)\n",
    "profile.shape"
   ]
  },
  {
   "cell_type": "code",
   "execution_count": 33,
   "metadata": {},
   "outputs": [],
   "source": [
    "# profile.T.to_csv('CC44_clonal_profile.txt', sep='\\t')"
   ]
  },
  {
   "cell_type": "code",
   "execution_count": 8,
   "metadata": {},
   "outputs": [],
   "source": [
    "import sys\n",
    "sys.path.append('../../src')\n",
    "\n",
    "from tree import calculate_distance, Dendrogram, to_bns"
   ]
  },
  {
   "cell_type": "markdown",
   "metadata": {},
   "source": [
    "## Generate GrapeTree profile"
   ]
  },
  {
   "cell_type": "code",
   "execution_count": 25,
   "metadata": {},
   "outputs": [],
   "source": [
    "integer_profile = to_bns(profile)"
   ]
  },
  {
   "cell_type": "code",
   "execution_count": 26,
   "metadata": {},
   "outputs": [],
   "source": [
    "integer_profile = integer_profile.rename(columns={'Key': '#Strain'})"
   ]
  },
  {
   "cell_type": "code",
   "execution_count": 27,
   "metadata": {},
   "outputs": [],
   "source": [
    "integer_profile.to_csv('CC44_grapetree_profile.txt', sep='\\t', index=False)"
   ]
  },
  {
   "cell_type": "code",
   "execution_count": null,
   "metadata": {},
   "outputs": [],
   "source": []
  },
  {
   "cell_type": "code",
   "execution_count": 28,
   "metadata": {},
   "outputs": [],
   "source": [
    "grapetree_metadata = metadata.rename(columns={'SourceSeq': 'ID'})"
   ]
  },
  {
   "cell_type": "code",
   "execution_count": 29,
   "metadata": {},
   "outputs": [],
   "source": [
    "grapetree_metadata.to_csv('CC44_grapetree_metadata.txt', sep='\\t', index=False)"
   ]
  },
  {
   "cell_type": "markdown",
   "metadata": {},
   "source": [
    "## Generate Newick file"
   ]
  },
  {
   "cell_type": "code",
   "execution_count": 19,
   "metadata": {},
   "outputs": [],
   "source": [
    "pdist = calculate_distance(profile)"
   ]
  },
  {
   "cell_type": "code",
   "execution_count": 20,
   "metadata": {},
   "outputs": [],
   "source": [
    "dendrogram = Dendrogram(pdist, 'average')"
   ]
  },
  {
   "cell_type": "code",
   "execution_count": 21,
   "metadata": {},
   "outputs": [],
   "source": [
    "dendrogram.cluster()"
   ]
  },
  {
   "cell_type": "code",
   "execution_count": 22,
   "metadata": {},
   "outputs": [],
   "source": [
    "dendrogram.to_newick('CC44_clonal.newick')"
   ]
  },
  {
   "cell_type": "code",
   "execution_count": null,
   "metadata": {},
   "outputs": [],
   "source": []
  },
  {
   "cell_type": "code",
   "execution_count": null,
   "metadata": {},
   "outputs": [],
   "source": [
    "import random"
   ]
  },
  {
   "cell_type": "code",
   "execution_count": null,
   "metadata": {},
   "outputs": [],
   "source": [
    "rng = lambda : random.randint(0, 255)"
   ]
  },
  {
   "cell_type": "code",
   "execution_count": null,
   "metadata": {},
   "outputs": [],
   "source": [
    "colors = {country: '#%02X%02X%02X'%(rng(), rng(), rng()) for country in set(metadata['SourceCountry'].dropna())}"
   ]
  },
  {
   "cell_type": "code",
   "execution_count": null,
   "metadata": {},
   "outputs": [],
   "source": [
    "data = [('TREE_COLORS', '', ''), ('SEPARATOR TAB', '', ''), ('DATA', '', '')]"
   ]
  },
  {
   "cell_type": "code",
   "execution_count": null,
   "metadata": {},
   "outputs": [],
   "source": [
    "countries_color = metadata[metadata['SourceCountry'].notna()]\n",
    "\n",
    "data = []\n",
    "for i, j in zip(metadata['SourceSeq'], metadata['SourceCountry']):\n",
    "    if j in colors:\n",
    "        data.append((i, 'range', colors[j], j))\n",
    "\n",
    "colors_styles = pd.DataFrame(data)"
   ]
  },
  {
   "cell_type": "code",
   "execution_count": null,
   "metadata": {},
   "outputs": [],
   "source": [
    "colors_styles.to_csv('CC4821_colors_styles.txt', sep='\\t', index=False, header=False)"
   ]
  },
  {
   "cell_type": "code",
   "execution_count": null,
   "metadata": {},
   "outputs": [],
   "source": [
    "metadata[metadata['gyrA'].notna()]['SourceSeq'].to_csv('gyrA_T91I.csv', index=False, header=False)"
   ]
  },
  {
   "cell_type": "code",
   "execution_count": null,
   "metadata": {},
   "outputs": [],
   "source": [
    "metadata[metadata['gyrA'] == 'T91I']['SourceSeq'].to_csv('gyrA_T91I.csv', index=False, header=False)"
   ]
  },
  {
   "cell_type": "code",
   "execution_count": null,
   "metadata": {},
   "outputs": [],
   "source": []
  },
  {
   "cell_type": "code",
   "execution_count": null,
   "metadata": {},
   "outputs": [],
   "source": []
  },
  {
   "cell_type": "code",
   "execution_count": null,
   "metadata": {},
   "outputs": [],
   "source": []
  }
 ],
 "metadata": {
  "kernelspec": {
   "display_name": "Python 3",
   "language": "python",
   "name": "python3"
  },
  "language_info": {
   "codemirror_mode": {
    "name": "ipython",
    "version": 3
   },
   "file_extension": ".py",
   "mimetype": "text/x-python",
   "name": "python",
   "nbconvert_exporter": "python",
   "pygments_lexer": "ipython3",
   "version": "3.8.2"
  }
 },
 "nbformat": 4,
 "nbformat_minor": 4
}
