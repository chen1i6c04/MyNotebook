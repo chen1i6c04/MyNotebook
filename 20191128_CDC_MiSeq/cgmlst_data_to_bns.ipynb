{
 "cells": [
  {
   "cell_type": "code",
   "execution_count": 1,
   "id": "ee81b421",
   "metadata": {},
   "outputs": [],
   "source": [
    "from pathlib import Path\n",
    "import pandas as pd\n",
    "\n",
    "import sys\n",
    "sys.path.append('../src')\n",
    "\n",
    "from tree import to_numeric"
   ]
  },
  {
   "cell_type": "code",
   "execution_count": 2,
   "id": "ca0132bf-b741-4490-821d-a060d9618af0",
   "metadata": {},
   "outputs": [],
   "source": [
    "def find_all_profile(dirpath):\n",
    "    profiles = []\n",
    "    for f in Path(dirpath).iterdir():\n",
    "        if f.suffix == '.tsv':\n",
    "            profiles.append(f)\n",
    "    return profiles"
   ]
  },
  {
   "cell_type": "code",
   "execution_count": 3,
   "id": "3cd4dd79",
   "metadata": {},
   "outputs": [],
   "source": [
    "dirpaths = (\n",
    "    '/media/GenomicResearch/MiSeq/Streptococcus_agalactiae/Profile',\n",
    "    '/media/GenomicResearch/Issue/20220127_GBS_outbreaks_cgmlst_test/profile'\n",
    ")"
   ]
  },
  {
   "cell_type": "code",
   "execution_count": 4,
   "id": "f97277f2-944c-4644-b81d-eb48d08a126d",
   "metadata": {},
   "outputs": [],
   "source": [
    "all_profile = []\n",
    "for dirpath in dirpaths:\n",
    "    all_profile += find_all_profile(dirpath)"
   ]
  },
  {
   "cell_type": "code",
   "execution_count": 5,
   "id": "4ceb41c4-7642-4af7-a36f-3e3977d6ce14",
   "metadata": {},
   "outputs": [],
   "source": [
    "profile = pd.concat((pd.read_csv(f, sep='\\t', header=0, names=[f.stem], index_col=0) for f in all_profile), axis=1)"
   ]
  },
  {
   "cell_type": "code",
   "execution_count": 6,
   "id": "4dc97967",
   "metadata": {},
   "outputs": [],
   "source": [
    "profile = to_numeric(profile)"
   ]
  },
  {
   "cell_type": "code",
   "execution_count": 7,
   "id": "6ab87143",
   "metadata": {},
   "outputs": [],
   "source": [
    "profile.to_csv('/media/Access/3_個人儲存區/陳柏翰/to_bns/cgmlst2bns.txt', sep='\\t', index=False)"
   ]
  },
  {
   "cell_type": "code",
   "execution_count": null,
   "id": "e2b2b4d0-e163-4546-9466-7072321d7be4",
   "metadata": {},
   "outputs": [],
   "source": []
  }
 ],
 "metadata": {
  "kernelspec": {
   "display_name": "Python 3",
   "language": "python",
   "name": "python3"
  },
  "language_info": {
   "codemirror_mode": {
    "name": "ipython",
    "version": 3
   },
   "file_extension": ".py",
   "mimetype": "text/x-python",
   "name": "python",
   "nbconvert_exporter": "python",
   "pygments_lexer": "ipython3",
   "version": "3.6.13"
  }
 },
 "nbformat": 4,
 "nbformat_minor": 5
}
