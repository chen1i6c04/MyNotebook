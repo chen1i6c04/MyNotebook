{
 "cells": [
  {
   "cell_type": "code",
   "execution_count": 17,
   "metadata": {},
   "outputs": [],
   "source": [
    "from pathlib import Path\n",
    "from multiprocessing import Pool"
   ]
  },
  {
   "cell_type": "code",
   "execution_count": 2,
   "metadata": {},
   "outputs": [],
   "source": [
    "import sys\n",
    "sys.path.append('../src')\n",
    "\n",
    "from utils import run_cmd"
   ]
  },
  {
   "cell_type": "code",
   "execution_count": 3,
   "metadata": {},
   "outputs": [],
   "source": [
    "def gene_annotation(seqfile, prefix, outdir, training_file=None, cpus=2):\n",
    "    if training_file:\n",
    "        cmd = f'prokka --prefix {prefix} --prodigaltf {training_file} --cpus {cpus} --outdir {outdir} {seqfile}'\n",
    "    else:\n",
    "        cmd = f'prokka --prefix {prefix} --cpus {cpus} --outdir {outdir} {seqfile}'\n",
    "    run_cmd(cmd)"
   ]
  },
  {
   "cell_type": "code",
   "execution_count": 4,
   "metadata": {},
   "outputs": [],
   "source": [
    "dirpath = Path('/media/NGS/MiSeqAnalysis/Neisseria_meningitidis/Contigs')\n",
    "outpath = Path('/media/NGS/MiSeqAnalysis/Neisseria_meningitidis/Annotation')"
   ]
  },
  {
   "cell_type": "code",
   "execution_count": 5,
   "metadata": {},
   "outputs": [],
   "source": [
    "with Pool(16) as p:\n",
    "    try:\n",
    "        for filepath in dirpath.iterdir():\n",
    "            prefix = filepath.stem\n",
    "            outdir = outpath/prefix\n",
    "            p.apply_async(gene_annotation, args=(filepath, prefix, outdir), kwds={'cpus': 4})\n",
    "        p.close()\n",
    "        p.join()\n",
    "    except KeyboardInterrupt:\n",
    "        p.terminate()"
   ]
  },
  {
   "cell_type": "code",
   "execution_count": null,
   "metadata": {},
   "outputs": [],
   "source": []
  },
  {
   "cell_type": "code",
   "execution_count": 12,
   "metadata": {},
   "outputs": [],
   "source": [
    "import pandas as pd\n",
    "from Bio import SeqIO"
   ]
  },
  {
   "cell_type": "code",
   "execution_count": 19,
   "metadata": {},
   "outputs": [],
   "source": [
    "dirpath = Path('/media/NGS/MiSeqAnalysis/Neisseria_meningitidis/Annotation')\n",
    "outpath = Path('/media/NGS/MiSeqAnalysis/Neisseria_meningitidis/penA')"
   ]
  },
  {
   "cell_type": "code",
   "execution_count": 21,
   "metadata": {},
   "outputs": [],
   "source": [
    "for fp in dirpath.iterdir():\n",
    "    features = pd.read_csv(fp/(fp.name + '.tsv'), sep='\\t')\n",
    "    features = features[features['product'].notna()]\n",
    "    features = features[features['product'].str.contains('Penicillin-binding protein')]\n",
    "    locus_tags = set(features['locus_tag'])\n",
    "    \n",
    "    records = SeqIO.parse(fp/(fp.name + '.ffn'), 'fasta')\n",
    "    specific_records = []\n",
    "    for record in records:\n",
    "        if record.id in locus_tags:\n",
    "            record.id = fp.name\n",
    "            specific_records.append(record)\n",
    "    SeqIO.write(specific_records, outpath/(fp.name + '.fna'), 'fasta')"
   ]
  },
  {
   "cell_type": "code",
   "execution_count": null,
   "metadata": {},
   "outputs": [],
   "source": []
  }
 ],
 "metadata": {
  "kernelspec": {
   "display_name": "Python 3",
   "language": "python",
   "name": "python3"
  },
  "language_info": {
   "codemirror_mode": {
    "name": "ipython",
    "version": 3
   },
   "file_extension": ".py",
   "mimetype": "text/x-python",
   "name": "python",
   "nbconvert_exporter": "python",
   "pygments_lexer": "ipython3",
   "version": "3.6.12"
  }
 },
 "nbformat": 4,
 "nbformat_minor": 4
}
