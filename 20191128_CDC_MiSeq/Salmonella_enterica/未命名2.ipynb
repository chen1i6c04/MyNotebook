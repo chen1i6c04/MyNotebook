{
 "cells": [
  {
   "cell_type": "code",
   "execution_count": 63,
   "id": "b50e7880-768a-459d-ae40-cdf2d96a6d92",
   "metadata": {},
   "outputs": [],
   "source": [
    "import os\n",
    "from io import StringIO\n",
    "from tempfile import TemporaryDirectory\n",
    "\n",
    "import pandas as pd\n",
    "from Bio import SeqIO\n",
    "from Bio.Seq import Seq\n",
    "from Bio.SeqRecord import SeqRecord\n",
    "from Bio.Blast.Applications import NcbiblastnCommandline, NcbiblastxCommandline, NcbimakeblastdbCommandline"
   ]
  },
  {
   "cell_type": "code",
   "execution_count": 2,
   "id": "7f7ab418-a47b-46d7-b97e-5721b9e5f5c1",
   "metadata": {},
   "outputs": [],
   "source": [
    "querys = (\n",
    "    '/media/GenomicResearch/MiSeq/Salmonella_enterica/Contigs/R17.4270.fa',\n",
    "    '/media/GenomicResearch/MiSeq/Salmonella_enterica/Contigs/EB13.001.fa',\n",
    ")"
   ]
  },
  {
   "cell_type": "code",
   "execution_count": 3,
   "id": "934377b0-8b8f-452b-9f02-148cca6bcfa2",
   "metadata": {},
   "outputs": [],
   "source": [
    "subjects = (\n",
    "    '/media/GenomicResearch/Issue/20211026_沙鹿童綜合Sal/specific_gene/OmpC.fna',\n",
    "    '/media/GenomicResearch/Issue/20211026_沙鹿童綜合Sal/specific_gene/OmpD.fna',\n",
    ")"
   ]
  },
  {
   "cell_type": "code",
   "execution_count": 5,
   "id": "1a983d01-cd65-4396-93c5-a672495e5c1d",
   "metadata": {},
   "outputs": [],
   "source": [
    "def make_blast_db(infile, outfile, dbtype):\n",
    "    cline = NcbimakeblastdbCommandline(input_file=infile, out=outfile, dbtype=dbtype)\n",
    "    cline()"
   ]
  },
  {
   "cell_type": "code",
   "execution_count": 20,
   "id": "2f2676d3-7a6f-4a70-9f89-0ffca57a738d",
   "metadata": {},
   "outputs": [],
   "source": [
    "make_blast_db(\n",
    "    '/media/GenomicResearch/Issue/20211026_沙鹿童綜合Sal/specific_gene/Salmonella_enterica_porin_OmpD.faa',\n",
    "    '/media/GenomicResearch/Issue/20211026_沙鹿童綜合Sal/specific_gene/Salmonella_enterica_porin_OmpD.faa',\n",
    "    'prot'\n",
    ")"
   ]
  },
  {
   "cell_type": "code",
   "execution_count": 45,
   "id": "f3cc6325-4c9e-471d-9a96-80ecf19ea59a",
   "metadata": {},
   "outputs": [],
   "source": [
    "query = '/media/GenomicResearch/MiSeq/Salmonella_enterica/Contigs/EB13.001.fa'\n",
    "db = '/media/GenomicResearch/Issue/20211026_沙鹿童綜合Sal/specific_gene/Salmonella_enterica_porin_OmpC.faa'\n",
    "\n",
    "cline = NcbiblastxCommandline(\n",
    "    query=query,\n",
    "    db=db,\n",
    "    outfmt='6 qseqid sseqid pident length sstrand qstart qend qlen slen qseq bitscore',\n",
    "    num_threads=8\n",
    "    \n",
    ")\n",
    "stdout, stderr = cline()\n",
    "result = pd.read_csv(StringIO(stdout), sep='\\t', names=['qseqid', 'sseqid', 'pident', 'length', 'sstrand', 'qstart', 'qend', 'qlen', 'slen', 'qseq', 'bitscore'])\n",
    "result['cov'] = (result['length']/result['slen']*100).round(2)"
   ]
  },
  {
   "cell_type": "code",
   "execution_count": 46,
   "id": "383069d7-55b6-4007-8abb-5c02009597e7",
   "metadata": {},
   "outputs": [
    {
     "data": {
      "text/html": [
       "<div>\n",
       "<style scoped>\n",
       "    .dataframe tbody tr th:only-of-type {\n",
       "        vertical-align: middle;\n",
       "    }\n",
       "\n",
       "    .dataframe tbody tr th {\n",
       "        vertical-align: top;\n",
       "    }\n",
       "\n",
       "    .dataframe thead th {\n",
       "        text-align: right;\n",
       "    }\n",
       "</style>\n",
       "<table border=\"1\" class=\"dataframe\">\n",
       "  <thead>\n",
       "    <tr style=\"text-align: right;\">\n",
       "      <th></th>\n",
       "      <th>qseqid</th>\n",
       "      <th>sseqid</th>\n",
       "      <th>pident</th>\n",
       "      <th>length</th>\n",
       "      <th>sstrand</th>\n",
       "      <th>qstart</th>\n",
       "      <th>qend</th>\n",
       "      <th>qlen</th>\n",
       "      <th>slen</th>\n",
       "      <th>qseq</th>\n",
       "      <th>bitscore</th>\n",
       "      <th>cov</th>\n",
       "    </tr>\n",
       "  </thead>\n",
       "  <tbody>\n",
       "    <tr>\n",
       "      <th>0</th>\n",
       "      <td>contig1|Assembly_SPAdes|EB13.001</td>\n",
       "      <td>QDF10915.1</td>\n",
       "      <td>100.000</td>\n",
       "      <td>383</td>\n",
       "      <td>NaN</td>\n",
       "      <td>779102</td>\n",
       "      <td>780250</td>\n",
       "      <td>1193379</td>\n",
       "      <td>383</td>\n",
       "      <td>MKRKVLALVIPALLAAGAAHAAEIYNKDGNKLDLYGKVDGLHYFSD...</td>\n",
       "      <td>736.0</td>\n",
       "      <td>100.00</td>\n",
       "    </tr>\n",
       "    <tr>\n",
       "      <th>128</th>\n",
       "      <td>contig1|Assembly_SPAdes|EB13.001</td>\n",
       "      <td>QBY22790.1</td>\n",
       "      <td>100.000</td>\n",
       "      <td>361</td>\n",
       "      <td>NaN</td>\n",
       "      <td>779168</td>\n",
       "      <td>780250</td>\n",
       "      <td>1193379</td>\n",
       "      <td>378</td>\n",
       "      <td>EIYNKDGNKLDLYGKVDGLHYFSDDSSKDGDQTYMRVGFKGETQIN...</td>\n",
       "      <td>734.0</td>\n",
       "      <td>95.50</td>\n",
       "    </tr>\n",
       "    <tr>\n",
       "      <th>200</th>\n",
       "      <td>contig1|Assembly_SPAdes|EB13.001</td>\n",
       "      <td>WP_223353790.1</td>\n",
       "      <td>98.995</td>\n",
       "      <td>398</td>\n",
       "      <td>NaN</td>\n",
       "      <td>250766</td>\n",
       "      <td>249573</td>\n",
       "      <td>1193379</td>\n",
       "      <td>398</td>\n",
       "      <td>MNRKVLALLVPALLVAGAANAAEIYNKNGNKLDLYGKVDGLRYFSD...</td>\n",
       "      <td>726.0</td>\n",
       "      <td>100.00</td>\n",
       "    </tr>\n",
       "    <tr>\n",
       "      <th>219</th>\n",
       "      <td>contig1|Assembly_SPAdes|EB13.001</td>\n",
       "      <td>ELP11773.1</td>\n",
       "      <td>100.000</td>\n",
       "      <td>349</td>\n",
       "      <td>NaN</td>\n",
       "      <td>723425</td>\n",
       "      <td>722379</td>\n",
       "      <td>1193379</td>\n",
       "      <td>372</td>\n",
       "      <td>EIYNKDGNKLDLYGKVDGLHYFSSNHSTDGDQSYIRMGIKGETQIT...</td>\n",
       "      <td>708.0</td>\n",
       "      <td>93.82</td>\n",
       "    </tr>\n",
       "    <tr>\n",
       "      <th>1445</th>\n",
       "      <td>contig26|Assembly_SPAdes|EB13.001</td>\n",
       "      <td>WP_058818783.1</td>\n",
       "      <td>100.000</td>\n",
       "      <td>356</td>\n",
       "      <td>NaN</td>\n",
       "      <td>204</td>\n",
       "      <td>1271</td>\n",
       "      <td>13555</td>\n",
       "      <td>378</td>\n",
       "      <td>EIYNKDGNKLDLFGKVDGLHYFSDDKGSDGDQTYMRIGFKGETQVN...</td>\n",
       "      <td>707.0</td>\n",
       "      <td>94.18</td>\n",
       "    </tr>\n",
       "  </tbody>\n",
       "</table>\n",
       "</div>"
      ],
      "text/plain": [
       "                                 qseqid          sseqid   pident  length  \\\n",
       "0      contig1|Assembly_SPAdes|EB13.001      QDF10915.1  100.000     383   \n",
       "128    contig1|Assembly_SPAdes|EB13.001      QBY22790.1  100.000     361   \n",
       "200    contig1|Assembly_SPAdes|EB13.001  WP_223353790.1   98.995     398   \n",
       "219    contig1|Assembly_SPAdes|EB13.001      ELP11773.1  100.000     349   \n",
       "1445  contig26|Assembly_SPAdes|EB13.001  WP_058818783.1  100.000     356   \n",
       "\n",
       "      sstrand  qstart    qend     qlen  slen  \\\n",
       "0         NaN  779102  780250  1193379   383   \n",
       "128       NaN  779168  780250  1193379   378   \n",
       "200       NaN  250766  249573  1193379   398   \n",
       "219       NaN  723425  722379  1193379   372   \n",
       "1445      NaN     204    1271    13555   378   \n",
       "\n",
       "                                                   qseq  bitscore     cov  \n",
       "0     MKRKVLALVIPALLAAGAAHAAEIYNKDGNKLDLYGKVDGLHYFSD...     736.0  100.00  \n",
       "128   EIYNKDGNKLDLYGKVDGLHYFSDDSSKDGDQTYMRVGFKGETQIN...     734.0   95.50  \n",
       "200   MNRKVLALLVPALLVAGAANAAEIYNKNGNKLDLYGKVDGLRYFSD...     726.0  100.00  \n",
       "219   EIYNKDGNKLDLYGKVDGLHYFSSNHSTDGDQSYIRMGIKGETQIT...     708.0   93.82  \n",
       "1445  EIYNKDGNKLDLFGKVDGLHYFSDDKGSDGDQTYMRIGFKGETQVN...     707.0   94.18  "
      ]
     },
     "execution_count": 46,
     "metadata": {},
     "output_type": "execute_result"
    }
   ],
   "source": [
    "result[(result['pident']>=90)&(result['cov']>=60)].drop_duplicates(['qseqid', 'qstart', 'qend'])"
   ]
  },
  {
   "cell_type": "code",
   "execution_count": 85,
   "id": "1299310d-7584-45f4-a4cf-2a4b5b981799",
   "metadata": {},
   "outputs": [],
   "source": [
    "query = '/media/GenomicResearch/MiSeq/Salmonella_enterica/Contigs/R17.4270.fa'\n",
    "subject = '/media/GenomicResearch/Issue/20211026_沙鹿童綜合Sal/specific_gene/Salmonella_enterica_porin_OmpC.fna'\n",
    "\n",
    "cline = NcbiblastnCommandline(\n",
    "    query=query,\n",
    "    subject=subject,\n",
    "    outfmt='6 qseqid sseqid pident length sstrand qstart qend qlen slen qseq bitscore',\n",
    "    perc_identity=80,\n",
    ")\n",
    "stdout, stderr = cline()\n",
    "result = pd.read_csv(StringIO(stdout), sep='\\t', names=['qseqid', 'sseqid', 'pident', 'length', 'sstrand', 'qstart', 'qend', 'qlen', 'slen', 'qseq', 'bitscore'])\n",
    "result['cov'] = (result['length']/result['slen']*100).round(2)"
   ]
  },
  {
   "cell_type": "code",
   "execution_count": 86,
   "id": "96c2c11f-5fc4-4e5b-a202-a91b0419d289",
   "metadata": {},
   "outputs": [
    {
     "data": {
      "text/html": [
       "<div>\n",
       "<style scoped>\n",
       "    .dataframe tbody tr th:only-of-type {\n",
       "        vertical-align: middle;\n",
       "    }\n",
       "\n",
       "    .dataframe tbody tr th {\n",
       "        vertical-align: top;\n",
       "    }\n",
       "\n",
       "    .dataframe thead th {\n",
       "        text-align: right;\n",
       "    }\n",
       "</style>\n",
       "<table border=\"1\" class=\"dataframe\">\n",
       "  <thead>\n",
       "    <tr style=\"text-align: right;\">\n",
       "      <th></th>\n",
       "      <th>qseqid</th>\n",
       "      <th>sseqid</th>\n",
       "      <th>pident</th>\n",
       "      <th>length</th>\n",
       "      <th>sstrand</th>\n",
       "      <th>qstart</th>\n",
       "      <th>qend</th>\n",
       "      <th>qlen</th>\n",
       "      <th>slen</th>\n",
       "      <th>qseq</th>\n",
       "      <th>bitscore</th>\n",
       "      <th>cov</th>\n",
       "    </tr>\n",
       "  </thead>\n",
       "  <tbody>\n",
       "    <tr>\n",
       "      <th>0</th>\n",
       "      <td>contig1|Assembly_SPAdes|R17.4270</td>\n",
       "      <td>lcl|CP022963.1_cds_AYE23517.1_1</td>\n",
       "      <td>99.479</td>\n",
       "      <td>1152</td>\n",
       "      <td>plus</td>\n",
       "      <td>806188</td>\n",
       "      <td>807339</td>\n",
       "      <td>2023341</td>\n",
       "      <td>1152</td>\n",
       "      <td>ATGAAAAGAAAAGTATTGGCACTTGTCATCCCGGCTCTGCTGGCTG...</td>\n",
       "      <td>2095</td>\n",
       "      <td>100.0</td>\n",
       "    </tr>\n",
       "    <tr>\n",
       "      <th>1</th>\n",
       "      <td>contig1|Assembly_SPAdes|R17.4270</td>\n",
       "      <td>lcl|CP045458.1_cds_QIM82162.1_1</td>\n",
       "      <td>100.000</td>\n",
       "      <td>1119</td>\n",
       "      <td>minus</td>\n",
       "      <td>749474</td>\n",
       "      <td>750592</td>\n",
       "      <td>2023341</td>\n",
       "      <td>1119</td>\n",
       "      <td>TCAAAACTCGTAGACTAAGCCGAGCGCCACGGTGTTGTCTGTATTA...</td>\n",
       "      <td>2067</td>\n",
       "      <td>100.0</td>\n",
       "    </tr>\n",
       "    <tr>\n",
       "      <th>500</th>\n",
       "      <td>contig5|Assembly_SPAdes|R17.4270</td>\n",
       "      <td>lcl|CP017719.1_cds_ATW39275.1_1</td>\n",
       "      <td>100.000</td>\n",
       "      <td>1137</td>\n",
       "      <td>minus</td>\n",
       "      <td>12508</td>\n",
       "      <td>13644</td>\n",
       "      <td>387149</td>\n",
       "      <td>1137</td>\n",
       "      <td>TTAGAACTGGTAAACCAGACCCAGCGCTACGATGTCGTCGGTGTTG...</td>\n",
       "      <td>2100</td>\n",
       "      <td>100.0</td>\n",
       "    </tr>\n",
       "  </tbody>\n",
       "</table>\n",
       "</div>"
      ],
      "text/plain": [
       "                               qseqid                           sseqid  \\\n",
       "0    contig1|Assembly_SPAdes|R17.4270  lcl|CP022963.1_cds_AYE23517.1_1   \n",
       "1    contig1|Assembly_SPAdes|R17.4270  lcl|CP045458.1_cds_QIM82162.1_1   \n",
       "500  contig5|Assembly_SPAdes|R17.4270  lcl|CP017719.1_cds_ATW39275.1_1   \n",
       "\n",
       "      pident  length sstrand  qstart    qend     qlen  slen  \\\n",
       "0     99.479    1152    plus  806188  807339  2023341  1152   \n",
       "1    100.000    1119   minus  749474  750592  2023341  1119   \n",
       "500  100.000    1137   minus   12508   13644   387149  1137   \n",
       "\n",
       "                                                  qseq  bitscore    cov  \n",
       "0    ATGAAAAGAAAAGTATTGGCACTTGTCATCCCGGCTCTGCTGGCTG...      2095  100.0  \n",
       "1    TCAAAACTCGTAGACTAAGCCGAGCGCCACGGTGTTGTCTGTATTA...      2067  100.0  \n",
       "500  TTAGAACTGGTAAACCAGACCCAGCGCTACGATGTCGTCGGTGTTG...      2100  100.0  "
      ]
     },
     "execution_count": 86,
     "metadata": {},
     "output_type": "execute_result"
    }
   ],
   "source": [
    "result = result[(result['cov']>=60)].drop_duplicates(['qseqid', 'qstart', 'qend'])\n",
    "result"
   ]
  },
  {
   "cell_type": "code",
   "execution_count": 82,
   "id": "84de6536-f9ed-4f89-8474-dbb9e3a1d51f",
   "metadata": {},
   "outputs": [
    {
     "data": {
      "text/html": [
       "<div>\n",
       "<style scoped>\n",
       "    .dataframe tbody tr th:only-of-type {\n",
       "        vertical-align: middle;\n",
       "    }\n",
       "\n",
       "    .dataframe tbody tr th {\n",
       "        vertical-align: top;\n",
       "    }\n",
       "\n",
       "    .dataframe thead th {\n",
       "        text-align: right;\n",
       "    }\n",
       "</style>\n",
       "<table border=\"1\" class=\"dataframe\">\n",
       "  <thead>\n",
       "    <tr style=\"text-align: right;\">\n",
       "      <th></th>\n",
       "      <th>qseqid</th>\n",
       "      <th>sseqid</th>\n",
       "      <th>pident</th>\n",
       "      <th>length</th>\n",
       "      <th>sstrand</th>\n",
       "      <th>qstart</th>\n",
       "      <th>qend</th>\n",
       "      <th>qlen</th>\n",
       "      <th>slen</th>\n",
       "      <th>qseq</th>\n",
       "      <th>bitscore</th>\n",
       "      <th>cov</th>\n",
       "    </tr>\n",
       "  </thead>\n",
       "  <tbody>\n",
       "    <tr>\n",
       "      <th>0</th>\n",
       "      <td>contig1|Assembly_SPAdes|R17.4270</td>\n",
       "      <td>lcl|CP045831.1_cds_QGG69448.1_1</td>\n",
       "      <td>100.0</td>\n",
       "      <td>1089</td>\n",
       "      <td>minus</td>\n",
       "      <td>701665</td>\n",
       "      <td>702753</td>\n",
       "      <td>2023341</td>\n",
       "      <td>1089</td>\n",
       "      <td>TTAGAACTGGTAGTTCAGACCAACAGCAACGATGTTGTCGGTAGAC...</td>\n",
       "      <td>2012</td>\n",
       "      <td>100.0</td>\n",
       "    </tr>\n",
       "  </tbody>\n",
       "</table>\n",
       "</div>"
      ],
      "text/plain": [
       "                             qseqid                           sseqid  pident  \\\n",
       "0  contig1|Assembly_SPAdes|R17.4270  lcl|CP045831.1_cds_QGG69448.1_1   100.0   \n",
       "\n",
       "   length sstrand  qstart    qend     qlen  slen  \\\n",
       "0    1089   minus  701665  702753  2023341  1089   \n",
       "\n",
       "                                                qseq  bitscore    cov  \n",
       "0  TTAGAACTGGTAGTTCAGACCAACAGCAACGATGTTGTCGGTAGAC...      2012  100.0  "
      ]
     },
     "execution_count": 82,
     "metadata": {},
     "output_type": "execute_result"
    }
   ],
   "source": [
    "result = result.drop(, axis=0)\n",
    "result"
   ]
  },
  {
   "cell_type": "code",
   "execution_count": 87,
   "id": "df39d484-94a5-4bc6-877f-7aacaf5f5ab3",
   "metadata": {},
   "outputs": [],
   "source": [
    "for idx, (_, row) in enumerate(result.iterrows(), 1):\n",
    "    record_id = row.qseqid.split('|')[-1] + f'_OmpC-{idx}'\n",
    "    start, end = row.qstart, row.qend\n",
    "    seq = Seq(row.qseq)\n",
    "    if row.sstrand == 'minus':\n",
    "        seq = seq.reverse_complement()\n",
    "    record = SeqRecord(seq, id=record_id, description=f'qseqid={row.qseqid};seqid={row.sseqid};start={start};end={end}')\n",
    "    SeqIO.write(record, os.path.join('/media/GenomicResearch/Issue/20211201', record_id + '.fa'), 'fasta')"
   ]
  },
  {
   "cell_type": "code",
   "execution_count": 88,
   "id": "dd0e3cbb-f224-4d8d-a4cd-0c10f362fcc5",
   "metadata": {},
   "outputs": [],
   "source": [
    "result.drop(['qseq', 'bitscore', 'sstrand'], axis=1).to_csv('/media/GenomicResearch/Issue/20211201/R17.4270_OmpC.out', sep='\\t', index=False)"
   ]
  },
  {
   "cell_type": "code",
   "execution_count": null,
   "id": "4a30c16b-29ee-4fdb-9d13-0717d39c69ed",
   "metadata": {},
   "outputs": [],
   "source": []
  },
  {
   "cell_type": "code",
   "execution_count": null,
   "id": "da35f518-ffad-4c04-82e8-e597e3c22634",
   "metadata": {},
   "outputs": [],
   "source": []
  },
  {
   "cell_type": "code",
   "execution_count": 103,
   "id": "deaa0836-dfb0-437d-9951-e2676c920fa4",
   "metadata": {},
   "outputs": [],
   "source": [
    "import subprocess\n",
    "from io import BytesIO"
   ]
  },
  {
   "cell_type": "code",
   "execution_count": 109,
   "id": "a25f7d2b-3a6f-4aea-967c-89b83c0f8792",
   "metadata": {},
   "outputs": [],
   "source": [
    "import sys\n",
    "sys.path.append('../../src')\n",
    "\n",
    "from tree import PairwiseDistanceMatrix, Dendrogram"
   ]
  },
  {
   "cell_type": "code",
   "execution_count": 128,
   "id": "817afc27-0d1f-44bd-a8ef-3fdef7a1d9ca",
   "metadata": {},
   "outputs": [],
   "source": [
    "output = subprocess.check_output(['snp-dists', '-c', '/media/GenomicResearch/Issue/20211201/R17.4270_OmpC.prot.aln'])"
   ]
  },
  {
   "cell_type": "code",
   "execution_count": 129,
   "id": "562eb5ff-07cc-482d-839b-633965a4a850",
   "metadata": {},
   "outputs": [],
   "source": [
    "dendrogram = Dendrogram(pd.read_csv(BytesIO(output), index_col=0))"
   ]
  },
  {
   "cell_type": "code",
   "execution_count": 130,
   "id": "d118dd46-ae7f-43d0-a092-143bf08e3afd",
   "metadata": {},
   "outputs": [],
   "source": [
    "dendrogram(show_node_info=True)"
   ]
  },
  {
   "cell_type": "code",
   "execution_count": 131,
   "id": "15f88a28-4704-4866-ab26-f6890d92e0bf",
   "metadata": {},
   "outputs": [
    {
     "data": {
      "image/png": "[encoded data removed]",
      "text/plain": [
       "<Figure size 720x64.8 with 1 Axes>"
      ]
     },
     "execution_count": 131,
     "metadata": {},
     "output_type": "execute_result"
    }
   ],
   "source": [
    "dendrogram.show_figure()"
   ]
  },
  {
   "cell_type": "code",
   "execution_count": null,
   "id": "bc93be07-96f1-4ac0-8ec4-2c613f33a5de",
   "metadata": {},
   "outputs": [],
   "source": []
  }
 ],
 "metadata": {
  "kernelspec": {
   "display_name": "Python 3",
   "language": "python",
   "name": "python3"
  },
  "language_info": {
   "codemirror_mode": {
    "name": "ipython",
    "version": 3
   },
   "file_extension": ".py",
   "mimetype": "text/x-python",
   "name": "python",
   "nbconvert_exporter": "python",
   "pygments_lexer": "ipython3",
   "version": "3.6.13"
  }
 },
 "nbformat": 4,
 "nbformat_minor": 5
}
