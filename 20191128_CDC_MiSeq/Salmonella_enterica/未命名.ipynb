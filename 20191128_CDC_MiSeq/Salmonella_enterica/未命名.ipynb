{
 "cells": [
  {
   "cell_type": "code",
   "execution_count": 1,
   "metadata": {},
   "outputs": [],
   "source": [
    "import os\n",
    "import sys\n",
    "import json\n",
    "import shutil\n",
    "from pathlib import Path\n",
    "from tempfile import TemporaryDirectory\n",
    "from multiprocessing import Pool\n",
    "import pandas as pd"
   ]
  },
  {
   "cell_type": "code",
   "execution_count": 2,
   "metadata": {},
   "outputs": [],
   "source": [
    "sys.path.append('../../src')\n",
    "\n",
    "from run import run_amrfinder, run_mlst, run_plasmidfinder, run_resfinder\n",
    "from utils import run_cmd"
   ]
  },
  {
   "cell_type": "code",
   "execution_count": 3,
   "metadata": {},
   "outputs": [],
   "source": [
    "def run_sistr(infile, output, sample_name, threads=2):\n",
    "    run_cmd(f'conda run -n sistr sistr -i {infile} {sample_name} -f json -o {output} -T /tmp -t {threads}')"
   ]
  },
  {
   "cell_type": "code",
   "execution_count": 4,
   "metadata": {},
   "outputs": [],
   "source": [
    "def pipeline(infile, outdir, prefix, threads=4):\n",
    "    os.makedirs(outdir, exist_ok=True)\n",
    "    \n",
    "    amrfinder_filename = os.path.join(outdir, 'amrfinder.txt')\n",
    "    sistr_filename = os.path.join(outdir, 'sistr')\n",
    "    mlst_dirname = os.path.join(outdir, 'mlst')\n",
    "    plasmidfinder_dirname = os.path.join(outdir, 'plasmidfinder')\n",
    "    resfinder_dirname = os.path.join(outdir, 'resfinder')\n",
    "    \n",
    "    run_amrfinder(\n",
    "        infile,\n",
    "        amrfinder_filename,\n",
    "        database='/media/GenomicResearch/Tools/amrfinder_database/latest/',\n",
    "        threads=threads,\n",
    "        organism='Salmonella',\n",
    "        plus=True,\n",
    "    )\n",
    "    run_mlst(\n",
    "        infile, mlst_dirname, '/media/GenomicResearch/Tools/CGE/mlst_db', 'senterica'\n",
    "    )\n",
    "    run_plasmidfinder(\n",
    "        infile, plasmidfinder_dirname, '/media/GenomicResearch/Tools/CGE/plasmidfinder_db'\n",
    "    )\n",
    "    run_resfinder(\n",
    "        infile, resfinder_dirname,\n",
    "        db_res='/media/GenomicResearch/Tools/CGE/resfinder_db',\n",
    "        db_point='/media/GenomicResearch/Tools/CGE/pointfinder_db',\n",
    "        point=True,\n",
    "        acquired=False,\n",
    "        species='salmonella',\n",
    "    )\n",
    "    run_sistr(infile, sistr_filename, prefix, threads)"
   ]
  },
  {
   "cell_type": "code",
   "execution_count": 5,
   "metadata": {},
   "outputs": [],
   "source": [
    "dirpath = Path('/media/GenomicResearch/MiSeq/Salmonella_enterica/New')\n",
    "outpath = Path('/media/GenomicResearch/MiSeq/Salmonella_enterica/Analysis')"
   ]
  },
  {
   "cell_type": "code",
   "execution_count": 6,
   "metadata": {},
   "outputs": [],
   "source": [
    "with Pool(8) as p:\n",
    "    try:\n",
    "        for filepath in dirpath.iterdir():\n",
    "            outdir = outpath/filepath.stem\n",
    "            sample_name = filepath.stem\n",
    "            p.apply_async(pipeline, (filepath, outdir, sample_name), {'threads':4})\n",
    "        p.close()\n",
    "        p.join()\n",
    "    except:\n",
    "        p.terminate()"
   ]
  },
  {
   "cell_type": "code",
   "execution_count": 7,
   "metadata": {},
   "outputs": [],
   "source": [
    "pipeline('/media/GenomicResearch/Issue/20211026_沙鹿童綜合Sal/Complete_genome/5A-sal-05.fasta',\n",
    "         '/media/GenomicResearch/Issue/20211026_沙鹿童綜合Sal/Analysis/5A-sal-05_complete', 16)"
   ]
  },
  {
   "cell_type": "code",
   "execution_count": null,
   "metadata": {},
   "outputs": [],
   "source": []
  }
 ],
 "metadata": {
  "kernelspec": {
   "display_name": "Python 3",
   "language": "python",
   "name": "python3"
  },
  "language_info": {
   "codemirror_mode": {
    "name": "ipython",
    "version": 3
   },
   "file_extension": ".py",
   "mimetype": "text/x-python",
   "name": "python",
   "nbconvert_exporter": "python",
   "pygments_lexer": "ipython3",
   "version": "3.6.13"
  }
 },
 "nbformat": 4,
 "nbformat_minor": 4
}
