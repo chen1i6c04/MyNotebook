{
 "cells": [
  {
   "cell_type": "code",
   "execution_count": 1,
   "id": "b0e6bf82-1327-4a02-9737-4c18cf37a2b0",
   "metadata": {},
   "outputs": [],
   "source": [
    "import shutil\n",
    "from pathlib import Path"
   ]
  },
  {
   "cell_type": "code",
   "execution_count": 2,
   "id": "db1bbf17-ba1c-4310-833b-7aee6c34b08b",
   "metadata": {},
   "outputs": [],
   "source": [
    "srcpath = Path('/media/GenomicResearch/MiSeq/Salmonella_enterica/Contigs')\n",
    "dstpath = Path('/media/GenomicResearch/MiSeq/Salmonella_enterica/Analysis')"
   ]
  },
  {
   "cell_type": "code",
   "execution_count": 4,
   "id": "f206a75c-60b9-419e-a881-02a1e924875a",
   "metadata": {},
   "outputs": [],
   "source": [
    "for seqfile in srcpath.iterdir():\n",
    "    dst_dirname = dstpath/seqfile.stem\n",
    "#     if dst_dirname.exists() is False:\n",
    "#         dst_dirname.mkdir(exist_ok=True)\n",
    "    shutil.copyfile(seqfile, dst_dirname/'contigs.fasta')"
   ]
  },
  {
   "cell_type": "code",
   "execution_count": 5,
   "id": "d7dc8760-054b-4c0f-b0db-39380ee6a78c",
   "metadata": {},
   "outputs": [],
   "source": [
    "for i in dstpath.iterdir():\n",
    "    target = i/'contigs.fasta'\n",
    "    if target.exists() is False:\n",
    "        print(i)"
   ]
  },
  {
   "cell_type": "code",
   "execution_count": 6,
   "id": "67e3bb37-cee5-4dd8-98e1-5bdfc842f462",
   "metadata": {},
   "outputs": [],
   "source": [
    "srcpath = Path('/media/GenomicResearch/MiSeq/Salmonella_enterica/Profile')\n",
    "dstpath = Path('/media/GenomicResearch/MiSeq/Salmonella_enterica/Analysis')"
   ]
  },
  {
   "cell_type": "code",
   "execution_count": 8,
   "id": "e5efe834-1296-4641-a2f7-ce4717d7d417",
   "metadata": {},
   "outputs": [],
   "source": [
    "for profile in srcpath.iterdir():\n",
    "    dst_dirname = dstpath/profile.stem\n",
    "#     if dst_dirname.exists() is False:\n",
    "#         dst_dirname.mkdir(exist_ok=True)\n",
    "    shutil.copyfile(profile, dst_dirname/'cgmlst.tsv')"
   ]
  },
  {
   "cell_type": "code",
   "execution_count": null,
   "id": "8576813e-bda3-47ab-90ae-ab9860ec2b57",
   "metadata": {},
   "outputs": [],
   "source": []
  }
 ],
 "metadata": {
  "kernelspec": {
   "display_name": "Python 3",
   "language": "python",
   "name": "python3"
  },
  "language_info": {
   "codemirror_mode": {
    "name": "ipython",
    "version": 3
   },
   "file_extension": ".py",
   "mimetype": "text/x-python",
   "name": "python",
   "nbconvert_exporter": "python",
   "pygments_lexer": "ipython3",
   "version": "3.6.13"
  }
 },
 "nbformat": 4,
 "nbformat_minor": 5
}
