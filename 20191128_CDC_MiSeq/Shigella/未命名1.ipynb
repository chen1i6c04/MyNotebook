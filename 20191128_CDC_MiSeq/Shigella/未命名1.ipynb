{
 "cells": [
  {
   "cell_type": "code",
   "execution_count": 1,
   "id": "8fe77d8d",
   "metadata": {},
   "outputs": [],
   "source": [
    "import os\n",
    "import sys\n",
    "import json\n",
    "import shutil\n",
    "from pathlib import Path\n",
    "from tempfile import TemporaryDirectory\n",
    "from multiprocessing import Pool\n",
    "import pandas as pd"
   ]
  },
  {
   "cell_type": "code",
   "execution_count": 2,
   "id": "0679ecec",
   "metadata": {},
   "outputs": [],
   "source": [
    "sys.path.append('../../src')\n",
    "from utils import run_cmd\n",
    "from application import MlstCommandline, \\\n",
    "                        PlasmidFinderCommandline, \\\n",
    "                        ResfinderCommandline, \\\n",
    "                        AmrfinderCommandline, \\\n",
    "                        VirulencefinderCommandline, \\\n",
    "                        SerotypefinderCommandline"
   ]
  },
  {
   "cell_type": "code",
   "execution_count": 11,
   "id": "c0ef9f3b",
   "metadata": {},
   "outputs": [],
   "source": [
    "def run_mlst(infile, outdir, database, species):\n",
    "    os.makedirs(outdir, exist_ok=True)\n",
    "    with TemporaryDirectory(dir='/tmp/') as tmp:\n",
    "        cline = MlstCommandline(\n",
    "            infile=infile, outdir=outdir, database=database, species=species, tmp=tmp, extented_output=True\n",
    "        )\n",
    "        cline()\n",
    "\n",
    "def run_plasmidfinder(infile, outdir, database):\n",
    "    os.makedirs(outdir, exist_ok=True)\n",
    "    with TemporaryDirectory(dir='/dev/shm/') as tmp:\n",
    "        cline = PlasmidFinderCommandline(\n",
    "            infile=infile, outdir=outdir, database=database, tmp=tmp, extented_output=True\n",
    "        )\n",
    "        cline()\n",
    "\n",
    "def run_virulencefinder(infile, outdir, db_path, database):\n",
    "    os.makedirs(outdir, exist_ok=True)\n",
    "    with TemporaryDirectory(dir='/tmp/') as tmpdir:\n",
    "        cline = VirulencefinderCommandline(\n",
    "            infile=infile, outdir=outdir, db_path=db_path, database=database, tmp=tmpdir, extented_output=True\n",
    "        )\n",
    "        cline()\n",
    "\n",
    "def run_serotypefinder(infile, outdir, db_path):\n",
    "    os.makedirs(outdir, exist_ok=True)\n",
    "    with TemporaryDirectory(dir='/tmp/') as tmpdir:\n",
    "        cline = SerotypefinderCommandline(\n",
    "            infile=infile, outdir=outdir, db_path=db_path, tmp=tmpdir, extented_output=True\n",
    "        )\n",
    "        cline()\n",
    "\n",
    "def run_resfinder(infile, outdir, db_res, db_point, species):\n",
    "    os.makedirs(outdir, exist_ok=True)\n",
    "    cline = ResfinderCommandline(\n",
    "        infasta=infile, outdir=outdir, db_res=db_res, db_point=db_point, species=species, point=True\n",
    "    )\n",
    "    cline()\n",
    "    shutil.rmtree(os.path.join(outdir, 'pointfinder_blast'))\n",
    "\n",
    "def run_amrfinder(infile, outfile, database, **kwargs):\n",
    "    cline = AmrfinderCommandline(cmd='/home/chen1i6c04/miniconda3/envs/amrfinder/bin/amrfinder',\n",
    "        nuc_fasta=infile, output_file=outfile, database=database, **kwargs\n",
    "    )\n",
    "    cline()"
   ]
  },
  {
   "cell_type": "code",
   "execution_count": 4,
   "id": "e41fcf03",
   "metadata": {},
   "outputs": [],
   "source": [
    "mlst_db = '/media/NGS/Data_Analysis/CGE/mlst_db'\n",
    "plasmidfinder_db = '/media/NGS/Data_Analysis/CGE/plasmidfinder_db/'\n",
    "virulencefinder_db = '/media/NGS/Data_Analysis/CGE/virulencefinder_db/'\n",
    "serotypefinder_db = '/media/NGS/Data_Analysis/CGE/serotypefinder_db/'\n",
    "amrfinder_db = '/home/chen1i6c04/Tools/amr_db/latest/'"
   ]
  },
  {
   "cell_type": "code",
   "execution_count": 12,
   "id": "b9c6eb5a",
   "metadata": {},
   "outputs": [],
   "source": [
    "def pipeline(infile, outdir, threads=4):\n",
    "    mlst_dirname = os.path.join(outdir, 'mlst')\n",
    "    plasmidfinder_dirname = os.path.join(outdir, 'plasmidfinder')\n",
    "    virulencefinder_dirname = os.path.join(outdir, 'virulencefinder')\n",
    "    serotypefinder_dirname = os.path.join(outdir, 'serotypefinder')\n",
    "    resfinder_dirname = os.path.join(outdir, 'resfinder')\n",
    "    amrfinder_filename = os.path.join(outdir, 'amrfinder.txt')\n",
    "    amrfinder_nucl_filename = os.path.join(outdir, 'amrfinder.fna')\n",
    "    \n",
    "    run_mlst(infile, mlst_dirname, mlst_db, 'ecoli')\n",
    "    run_amrfinder(\n",
    "        infile,\n",
    "        amrfinder_filename,\n",
    "        amrfinder_db,\n",
    "        threads=threads,\n",
    "        organism='Escherichia',\n",
    "        nucleotide_output=amrfinder_nucl_filename,\n",
    "    )\n",
    "    run_plasmidfinder(infile, plasmidfinder_dirname, plasmidfinder_db)\n",
    "    run_virulencefinder(infile, virulencefinder_dirname, virulencefinder_db, 'virulence_ecoli')\n",
    "    run_serotypefinder(infile, serotypefinder_dirname, serotypefinder_db)\n",
    "    run_resfinder(\n",
    "        infile,\n",
    "        resfinder_dirname,\n",
    "        '/media/NGS/Data_Analysis/CGE/resfinder_db/',\n",
    "        '/media/NGS/Data_Analysis/CGE/pointfinder_db/',\n",
    "        'escherichia_coli',\n",
    "    )"
   ]
  },
  {
   "cell_type": "code",
   "execution_count": 7,
   "id": "4d045b43",
   "metadata": {},
   "outputs": [],
   "source": [
    "dirpath = Path('/media/NGS/MiSeqAnalysis/Shigella/Contigs')\n",
    "outpath = Path('/media/NGS/MiSeqAnalysis/Shigella/Analysis')"
   ]
  },
  {
   "cell_type": "code",
   "execution_count": 14,
   "id": "6eb036cf",
   "metadata": {},
   "outputs": [],
   "source": [
    "with Pool(4) as p:\n",
    "    for i in dirpath.iterdir():\n",
    "        outdir = outpath/i.stem\n",
    "        p.apply_async(pipeline, (i, outdir, 12))\n",
    "    p.close()\n",
    "    p.join()"
   ]
  },
  {
   "cell_type": "code",
   "execution_count": null,
   "id": "e392bce2",
   "metadata": {},
   "outputs": [],
   "source": [
    "pipeline(i, outdir, 16)"
   ]
  },
  {
   "cell_type": "code",
   "execution_count": 13,
   "id": "63fc9cd6",
   "metadata": {},
   "outputs": [],
   "source": [
    "pipeline(\n",
    "    '/media/NGS/MiSeqAnalysis/Shigella/Contigs/R16.0013.fa',\n",
    "    '/media/NGS/MiSeqAnalysis/Shigella/Analysis/R16.0013', 32)"
   ]
  },
  {
   "cell_type": "code",
   "execution_count": null,
   "id": "b3af721c",
   "metadata": {},
   "outputs": [],
   "source": []
  }
 ],
 "metadata": {
  "kernelspec": {
   "display_name": "Python 3",
   "language": "python",
   "name": "python3"
  },
  "language_info": {
   "codemirror_mode": {
    "name": "ipython",
    "version": 3
   },
   "file_extension": ".py",
   "mimetype": "text/x-python",
   "name": "python",
   "nbconvert_exporter": "python",
   "pygments_lexer": "ipython3",
   "version": "3.6.12"
  }
 },
 "nbformat": 4,
 "nbformat_minor": 5
}
