{
 "cells": [
  {
   "cell_type": "code",
   "execution_count": 2,
   "id": "79aa5317",
   "metadata": {},
   "outputs": [],
   "source": [
    "from pathlib import Path\n",
    "import numpy as np\n",
    "import pandas as pd\n",
    "import seaborn as sns\n",
    "import matplotlib.pyplot as plt"
   ]
  },
  {
   "cell_type": "code",
   "execution_count": 3,
   "id": "dd00ba5c-90e3-4c5a-8cdc-840822695051",
   "metadata": {},
   "outputs": [],
   "source": [
    "basedir = Path('/media/GenomicResearch/Issue/20210909_estimate_nanopore_depth/amplification/20211028_R18-1656H')\n",
    "\n",
    "ref_res = pd.read_csv(basedir/'resfinder-ref'/'ResFinder_results_tab.txt', sep='\\t')\n",
    "ref_point = pd.read_csv(basedir/'resfinder-ref'/'PointFinder_results.txt', sep='\\t')"
   ]
  },
  {
   "cell_type": "code",
   "execution_count": 4,
   "id": "46a743b4-dffe-4b12-8c48-447f31210d8e",
   "metadata": {},
   "outputs": [
    {
     "name": "stdout",
     "output_type": "stream",
     "text": [
      "17\n"
     ]
    }
   ],
   "source": [
    "ref_genes = set(ref_res['Resistance gene'].drop_duplicates()) | set(ref_point['Mutation'])\n",
    "print(len(ref_genes))"
   ]
  },
  {
   "cell_type": "code",
   "execution_count": 16,
   "id": "4084da65-3a24-450e-8ed6-01b906a6b1ff",
   "metadata": {},
   "outputs": [
    {
     "name": "stderr",
     "output_type": "stream",
     "text": [
      "/home/chen1i6c04/miniconda3/envs/notebook/lib/python3.6/site-packages/ipykernel_launcher.py:10: FutureWarning: Columnar iteration over characters will be deprecated in future releases.\n",
      "  # Remove the CWD from sys.path while we load stuff.\n"
     ]
    }
   ],
   "source": [
    "data = []\n",
    "for dirpath in (basedir/'resfinder').iterdir():\n",
    "    res = pd.read_csv(dirpath/'ResFinder_results_tab.txt', sep='\\t')\n",
    "    point = pd.read_csv(dirpath/'PointFinder_results.txt', sep='\\t')\n",
    "    genes = set(res['Resistance gene'].drop_duplicates()) | set(point['Mutation'])\n",
    "    recalled = len(ref_genes & genes)\n",
    "    data.append((dirpath.name, recalled))\n",
    "\n",
    "df = pd.DataFrame(data, columns=['sample', 'recalled'])\n",
    "df['depth'], df['repeat'] = df['sample'].str.split('-').str"
   ]
  },
  {
   "cell_type": "code",
   "execution_count": 17,
   "id": "9ea566f8-0a41-4750-99a0-aa1bf05d7435",
   "metadata": {},
   "outputs": [
    {
     "data": {
      "text/html": [
       "<div>\n",
       "<style scoped>\n",
       "    .dataframe tbody tr th:only-of-type {\n",
       "        vertical-align: middle;\n",
       "    }\n",
       "\n",
       "    .dataframe tbody tr th {\n",
       "        vertical-align: top;\n",
       "    }\n",
       "\n",
       "    .dataframe thead th {\n",
       "        text-align: right;\n",
       "    }\n",
       "</style>\n",
       "<table border=\"1\" class=\"dataframe\">\n",
       "  <thead>\n",
       "    <tr style=\"text-align: right;\">\n",
       "      <th>repeat</th>\n",
       "      <th>1</th>\n",
       "      <th>2</th>\n",
       "      <th>3</th>\n",
       "      <th>4</th>\n",
       "      <th>5</th>\n",
       "    </tr>\n",
       "    <tr>\n",
       "      <th>depth</th>\n",
       "      <th></th>\n",
       "      <th></th>\n",
       "      <th></th>\n",
       "      <th></th>\n",
       "      <th></th>\n",
       "    </tr>\n",
       "  </thead>\n",
       "  <tbody>\n",
       "    <tr>\n",
       "      <th>10x</th>\n",
       "      <td>11</td>\n",
       "      <td>12</td>\n",
       "      <td>9</td>\n",
       "      <td>12</td>\n",
       "      <td>13</td>\n",
       "    </tr>\n",
       "    <tr>\n",
       "      <th>20x</th>\n",
       "      <td>15</td>\n",
       "      <td>17</td>\n",
       "      <td>15</td>\n",
       "      <td>13</td>\n",
       "      <td>15</td>\n",
       "    </tr>\n",
       "    <tr>\n",
       "      <th>30x</th>\n",
       "      <td>17</td>\n",
       "      <td>17</td>\n",
       "      <td>17</td>\n",
       "      <td>16</td>\n",
       "      <td>17</td>\n",
       "    </tr>\n",
       "    <tr>\n",
       "      <th>40x</th>\n",
       "      <td>17</td>\n",
       "      <td>17</td>\n",
       "      <td>17</td>\n",
       "      <td>17</td>\n",
       "      <td>17</td>\n",
       "    </tr>\n",
       "    <tr>\n",
       "      <th>50x</th>\n",
       "      <td>14</td>\n",
       "      <td>17</td>\n",
       "      <td>17</td>\n",
       "      <td>17</td>\n",
       "      <td>16</td>\n",
       "    </tr>\n",
       "    <tr>\n",
       "      <th>60x</th>\n",
       "      <td>17</td>\n",
       "      <td>13</td>\n",
       "      <td>17</td>\n",
       "      <td>16</td>\n",
       "      <td>17</td>\n",
       "    </tr>\n",
       "    <tr>\n",
       "      <th>70x</th>\n",
       "      <td>17</td>\n",
       "      <td>17</td>\n",
       "      <td>17</td>\n",
       "      <td>17</td>\n",
       "      <td>17</td>\n",
       "    </tr>\n",
       "    <tr>\n",
       "      <th>80x</th>\n",
       "      <td>17</td>\n",
       "      <td>17</td>\n",
       "      <td>17</td>\n",
       "      <td>17</td>\n",
       "      <td>17</td>\n",
       "    </tr>\n",
       "    <tr>\n",
       "      <th>90x</th>\n",
       "      <td>17</td>\n",
       "      <td>17</td>\n",
       "      <td>17</td>\n",
       "      <td>17</td>\n",
       "      <td>17</td>\n",
       "    </tr>\n",
       "    <tr>\n",
       "      <th>100x</th>\n",
       "      <td>17</td>\n",
       "      <td>17</td>\n",
       "      <td>17</td>\n",
       "      <td>17</td>\n",
       "      <td>13</td>\n",
       "    </tr>\n",
       "  </tbody>\n",
       "</table>\n",
       "</div>"
      ],
      "text/plain": [
       "repeat   1   2   3   4   5\n",
       "depth                     \n",
       "10x     11  12   9  12  13\n",
       "20x     15  17  15  13  15\n",
       "30x     17  17  17  16  17\n",
       "40x     17  17  17  17  17\n",
       "50x     14  17  17  17  16\n",
       "60x     17  13  17  16  17\n",
       "70x     17  17  17  17  17\n",
       "80x     17  17  17  17  17\n",
       "90x     17  17  17  17  17\n",
       "100x    17  17  17  17  13"
      ]
     },
     "execution_count": 17,
     "metadata": {},
     "output_type": "execute_result"
    }
   ],
   "source": [
    "df = df.pivot('depth', 'repeat', 'recalled')\n",
    "df.index = df.index.str.strip('0')\n",
    "df['Depth'] = df.index.str.replace('x', '').astype(int)\n",
    "df = df.sort_values('Depth').drop('Depth', axis=1)\n",
    "df"
   ]
  },
  {
   "cell_type": "code",
   "execution_count": 18,
   "id": "0f6969a2-c731-4a1f-84e2-d6d4d8d55fe3",
   "metadata": {},
   "outputs": [],
   "source": [
    "df.to_csv(basedir/'ResFinder_Recalled.tsv', sep='\\t')"
   ]
  },
  {
   "cell_type": "code",
   "execution_count": null,
   "id": "11c940db-71d9-48fa-8052-213f7915320a",
   "metadata": {},
   "outputs": [],
   "source": []
  },
  {
   "cell_type": "code",
   "execution_count": 19,
   "id": "b993e27c-e4ae-4ee8-9a64-b24073687a1d",
   "metadata": {},
   "outputs": [],
   "source": [
    "basedir = Path('/media/GenomicResearch/Issue/20210909_estimate_nanopore_depth/amplification/20211028_R18-1656H')"
   ]
  },
  {
   "cell_type": "code",
   "execution_count": 20,
   "id": "d987641c-ddbf-4dce-bc41-244106325522",
   "metadata": {},
   "outputs": [
    {
     "name": "stdout",
     "output_type": "stream",
     "text": [
      "15\n"
     ]
    }
   ],
   "source": [
    "ref_res = pd.read_csv(basedir/'reference.txt', sep='\\t')\n",
    "ref_genes = set(ref_res['Gene symbol'].drop_duplicates())\n",
    "print(len(ref_genes))"
   ]
  },
  {
   "cell_type": "code",
   "execution_count": 23,
   "id": "b8bfc767-60c4-4fb4-80b4-3316144147cb",
   "metadata": {},
   "outputs": [
    {
     "name": "stderr",
     "output_type": "stream",
     "text": [
      "/home/chen1i6c04/miniconda3/envs/notebook/lib/python3.6/site-packages/ipykernel_launcher.py:9: FutureWarning: Columnar iteration over characters will be deprecated in future releases.\n",
      "  if __name__ == '__main__':\n"
     ]
    }
   ],
   "source": [
    "data = []\n",
    "for file in (basedir/'amrfinder').iterdir():\n",
    "    result = pd.read_csv(file, sep='\\t')\n",
    "    genes = set(result[result['Element type'] == 'AMR']['Gene symbol'].drop_duplicates())\n",
    "    recalled = len(ref_genes & genes)\n",
    "    data.append((file.stem, recalled))\n",
    "\n",
    "df = pd.DataFrame(data, columns=['sample', 'recalled'])\n",
    "df['depth'], df['repeat'] = df['sample'].str.split('-').str"
   ]
  },
  {
   "cell_type": "code",
   "execution_count": 24,
   "id": "2a211649-7a74-4bc3-9571-46fd7a0c3e80",
   "metadata": {},
   "outputs": [
    {
     "data": {
      "text/html": [
       "<div>\n",
       "<style scoped>\n",
       "    .dataframe tbody tr th:only-of-type {\n",
       "        vertical-align: middle;\n",
       "    }\n",
       "\n",
       "    .dataframe tbody tr th {\n",
       "        vertical-align: top;\n",
       "    }\n",
       "\n",
       "    .dataframe thead th {\n",
       "        text-align: right;\n",
       "    }\n",
       "</style>\n",
       "<table border=\"1\" class=\"dataframe\">\n",
       "  <thead>\n",
       "    <tr style=\"text-align: right;\">\n",
       "      <th>repeat</th>\n",
       "      <th>1</th>\n",
       "      <th>2</th>\n",
       "      <th>3</th>\n",
       "      <th>4</th>\n",
       "      <th>5</th>\n",
       "    </tr>\n",
       "    <tr>\n",
       "      <th>depth</th>\n",
       "      <th></th>\n",
       "      <th></th>\n",
       "      <th></th>\n",
       "      <th></th>\n",
       "      <th></th>\n",
       "    </tr>\n",
       "  </thead>\n",
       "  <tbody>\n",
       "    <tr>\n",
       "      <th>10x</th>\n",
       "      <td>7</td>\n",
       "      <td>4</td>\n",
       "      <td>4</td>\n",
       "      <td>5</td>\n",
       "      <td>5</td>\n",
       "    </tr>\n",
       "    <tr>\n",
       "      <th>20x</th>\n",
       "      <td>10</td>\n",
       "      <td>15</td>\n",
       "      <td>10</td>\n",
       "      <td>10</td>\n",
       "      <td>10</td>\n",
       "    </tr>\n",
       "    <tr>\n",
       "      <th>30x</th>\n",
       "      <td>14</td>\n",
       "      <td>15</td>\n",
       "      <td>14</td>\n",
       "      <td>14</td>\n",
       "      <td>14</td>\n",
       "    </tr>\n",
       "    <tr>\n",
       "      <th>40x</th>\n",
       "      <td>14</td>\n",
       "      <td>15</td>\n",
       "      <td>15</td>\n",
       "      <td>15</td>\n",
       "      <td>14</td>\n",
       "    </tr>\n",
       "    <tr>\n",
       "      <th>50x</th>\n",
       "      <td>12</td>\n",
       "      <td>15</td>\n",
       "      <td>15</td>\n",
       "      <td>15</td>\n",
       "      <td>13</td>\n",
       "    </tr>\n",
       "    <tr>\n",
       "      <th>60x</th>\n",
       "      <td>15</td>\n",
       "      <td>10</td>\n",
       "      <td>15</td>\n",
       "      <td>14</td>\n",
       "      <td>15</td>\n",
       "    </tr>\n",
       "    <tr>\n",
       "      <th>70x</th>\n",
       "      <td>15</td>\n",
       "      <td>15</td>\n",
       "      <td>14</td>\n",
       "      <td>15</td>\n",
       "      <td>15</td>\n",
       "    </tr>\n",
       "    <tr>\n",
       "      <th>80x</th>\n",
       "      <td>14</td>\n",
       "      <td>15</td>\n",
       "      <td>15</td>\n",
       "      <td>15</td>\n",
       "      <td>15</td>\n",
       "    </tr>\n",
       "    <tr>\n",
       "      <th>90x</th>\n",
       "      <td>15</td>\n",
       "      <td>15</td>\n",
       "      <td>15</td>\n",
       "      <td>15</td>\n",
       "      <td>15</td>\n",
       "    </tr>\n",
       "    <tr>\n",
       "      <th>100x</th>\n",
       "      <td>15</td>\n",
       "      <td>15</td>\n",
       "      <td>15</td>\n",
       "      <td>15</td>\n",
       "      <td>10</td>\n",
       "    </tr>\n",
       "  </tbody>\n",
       "</table>\n",
       "</div>"
      ],
      "text/plain": [
       "repeat   1   2   3   4   5\n",
       "depth                     \n",
       "10x      7   4   4   5   5\n",
       "20x     10  15  10  10  10\n",
       "30x     14  15  14  14  14\n",
       "40x     14  15  15  15  14\n",
       "50x     12  15  15  15  13\n",
       "60x     15  10  15  14  15\n",
       "70x     15  15  14  15  15\n",
       "80x     14  15  15  15  15\n",
       "90x     15  15  15  15  15\n",
       "100x    15  15  15  15  10"
      ]
     },
     "execution_count": 24,
     "metadata": {},
     "output_type": "execute_result"
    }
   ],
   "source": [
    "df = df.pivot('depth', 'repeat', 'recalled')\n",
    "df.index = df.index.str.strip('0')\n",
    "df['Depth'] = df.index.str.replace('x', '').astype(int)\n",
    "df = df.sort_values('Depth').drop('Depth', axis=1)\n",
    "df"
   ]
  },
  {
   "cell_type": "code",
   "execution_count": 25,
   "id": "144418c7-8eee-49f2-a2df-abc3672bd6e7",
   "metadata": {},
   "outputs": [],
   "source": [
    "df.to_csv(basedir/'AmrFinder_Recalled.tsv', sep='\\t')"
   ]
  },
  {
   "cell_type": "code",
   "execution_count": null,
   "id": "006343e3-8b64-446e-bd35-76bdbfa30db8",
   "metadata": {},
   "outputs": [],
   "source": []
  }
 ],
 "metadata": {
  "kernelspec": {
   "display_name": "Python 3",
   "language": "python",
   "name": "python3"
  },
  "language_info": {
   "codemirror_mode": {
    "name": "ipython",
    "version": 3
   },
   "file_extension": ".py",
   "mimetype": "text/x-python",
   "name": "python",
   "nbconvert_exporter": "python",
   "pygments_lexer": "ipython3",
   "version": "3.6.13"
  }
 },
 "nbformat": 4,
 "nbformat_minor": 5
}
