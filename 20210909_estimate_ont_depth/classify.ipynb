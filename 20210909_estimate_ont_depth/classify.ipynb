{
 "cells": [
  {
   "cell_type": "code",
   "execution_count": 1,
   "id": "11a0ac0a-baa0-4da8-9df2-19b51cddbc8a",
   "metadata": {},
   "outputs": [],
   "source": [
    "import subprocess\n",
    "from pathlib import Path\n",
    "from multiprocessing import Pool\n",
    "from itertools import product\n",
    "from concurrent.futures import ProcessPoolExecutor\n",
    "import pandas as pd\n",
    "import seaborn as sns\n",
    "import matplotlib.pyplot as plt"
   ]
  },
  {
   "cell_type": "code",
   "execution_count": 2,
   "id": "3c506cdd-af49-4acb-9b16-a59ca0d8fb94",
   "metadata": {},
   "outputs": [],
   "source": [
    "def simulate_process(reference, quantity, qscore_model, error_model, mean_length, stdev_length, threads=8):\n",
    "    cmd = [\n",
    "        'rustyread', '--threads', str(threads), 'simulate',\n",
    "        '--reference', reference, '--quantity', quantity,\n",
    "        '--qscore_model', qscore_model, '--length', f\"{mean_length},{stdev_length}\",\n",
    "        '--error_model', error_model, '--number_base_store', '500x',\n",
    "    ]\n",
    "    return subprocess.Popen(cmd, stdout=subprocess.PIPE)"
   ]
  },
  {
   "cell_type": "code",
   "execution_count": 9,
   "id": "6c425514-087a-4e3e-a4e9-617e8c5e9bd5",
   "metadata": {},
   "outputs": [],
   "source": [
    "def classify(classifier, database, output, report_output, threads, stdin):\n",
    "    if classifier == 'kraken2':\n",
    "        cmd = [classifier, '--db', database, '--memory-mapping', '--threads', str(threads), '--output', output, '--report', report_output, '/dev/fd/0']\n",
    "    elif classifier == 'centrifuge':\n",
    "        cmd = [classifier, '--mm', '-p', str(threads), '-x', database, '-U', '-']\n",
    "    else:\n",
    "        raise ValueError(f\"{classifier} is invalidate.\")\n",
    "    subprocess.run(cmd, stdin=stdin)"
   ]
  },
  {
   "cell_type": "code",
   "execution_count": 4,
   "id": "0de16f01-eec5-4399-9f18-661b3c71b794",
   "metadata": {},
   "outputs": [],
   "source": [
    "database = '/media/GenomicResearch/Issue/kraken2_db/k2_pluspf_20210517'\n",
    "qscore_model = '/media/GenomicResearch/Tools/rustyread_model/qscore_models/nanopore_2020'\n",
    "error_model = '/media/GenomicResearch/Tools/rustyread_model/error_models/nanopore2020'"
   ]
  },
  {
   "cell_type": "code",
   "execution_count": 5,
   "id": "47e2e486-c823-4c11-954e-1a7e9f7a8dc9",
   "metadata": {},
   "outputs": [],
   "source": [
    "reference = '/media/GenomicResearch/Issue/20210909_estimate_nanopore_depth/sim/LT2/reference.fa'"
   ]
  },
  {
   "cell_type": "code",
   "execution_count": 6,
   "id": "ccef199f-0bcc-4689-a0f1-2a5b9d88649e",
   "metadata": {},
   "outputs": [],
   "source": [
    "depths = list(map(lambda x: x*x, range(1, 5)))"
   ]
  },
  {
   "cell_type": "code",
   "execution_count": 7,
   "id": "6655a6e6-4c99-40b0-8afa-a39a2e616241",
   "metadata": {},
   "outputs": [],
   "source": [
    "lengths = list(map(lambda x: x*1000, range(1, 6)))"
   ]
  },
  {
   "cell_type": "code",
   "execution_count": 8,
   "id": "de8f69ab-7865-4e74-a9f7-c3d1f939848c",
   "metadata": {},
   "outputs": [],
   "source": [
    "outpath = Path('/media/GenomicResearch/Issue/classification_benchmark/test')"
   ]
  },
  {
   "cell_type": "code",
   "execution_count": 12,
   "id": "5f24a09d-96d1-4683-86da-5d7c160dba1f",
   "metadata": {},
   "outputs": [],
   "source": [
    "def fn(depth, length, output, report, threads=6):\n",
    "    stdev = int(length * 1.4)\n",
    "    p = simulate_process(reference, f\"{depth}x\", qscore_model, error_model, length, stdev, threads)\n",
    "    classify('kraken2', database, output, report, threads, p.stdout)\n",
    "    \n",
    "\n",
    "with ProcessPoolExecutor(4) as executor:\n",
    "    for depth, length in product(depths, lengths):\n",
    "        output = outpath/f\"{depth}x_{length}bp.out\"\n",
    "        report = outpath/f\"{depth}x_{length}bp.txt\"\n",
    "        executor.submit(fn, depth, length, output, report, 16)"
   ]
  },
  {
   "cell_type": "code",
   "execution_count": null,
   "id": "488bbae6-a108-42ad-9c33-2962fdf66f52",
   "metadata": {},
   "outputs": [],
   "source": []
  },
  {
   "cell_type": "code",
   "execution_count": null,
   "id": "947cd32c-118a-4ba7-abe3-da122a7e34ad",
   "metadata": {},
   "outputs": [],
   "source": [
    "organism = 'Salmonella enterica'"
   ]
  },
  {
   "cell_type": "code",
   "execution_count": null,
   "id": "5983b4a4-f81a-4551-b737-352ba2245f00",
   "metadata": {},
   "outputs": [],
   "source": [
    "dirpath = Path('/media/GenomicResearch/Issue/classification_benchmark/kraken2')\n",
    "\n",
    "data = []\n",
    "for i in dirpath.iterdir():\n",
    "    df = pd.read_csv(i, sep='\\t', header=None)\n",
    "    abundance = df[df[5].str.strip()==organism].iloc[0][0]\n",
    "    depth, length = i.stem.split('_')\n",
    "    data.append((depth, length, abundance))"
   ]
  },
  {
   "cell_type": "code",
   "execution_count": null,
   "id": "0cad9e19-ce4d-43b5-9d1c-32f8b96d3136",
   "metadata": {},
   "outputs": [],
   "source": [
    "result = pd.DataFrame(data, columns=['depth', 'read_length', 'abundance'])"
   ]
  },
  {
   "cell_type": "code",
   "execution_count": null,
   "id": "c339ecc0-edf6-43bd-98f9-46c62247b025",
   "metadata": {},
   "outputs": [],
   "source": [
    "result['depth'] = result['depth'].str.replace('x', '').str.zfill(3)\n",
    "\n",
    "result = result.sort_values('depth')\n",
    "\n",
    "result['depth'] = result['depth'].str.lstrip('0')\n",
    "result['read_length'] = result['read_length'].str.replace('bp', '').astype(int)"
   ]
  },
  {
   "cell_type": "code",
   "execution_count": null,
   "id": "25654eb2-cb1b-4fdb-9f34-963253201864",
   "metadata": {},
   "outputs": [],
   "source": [
    "with plt.style.context('seaborn-whitegrid'):\n",
    "    fig, ax = plt.subplots(figsize=(12, 4), dpi=87)\n",
    "    g = sns.lineplot(x='depth', y='abundance', data=result, hue='read_length', palette='Set1', ax=ax)\n",
    "    ax.set_xlabel('Depth')\n",
    "    ax.set_ylabel('Abundance(%)')\n",
    "    ax.set_ylim(0, 100)\n",
    "    ax.legend(bbox_to_anchor=(1.1, 0.5), title='read length', loc=10)"
   ]
  },
  {
   "cell_type": "code",
   "execution_count": null,
   "id": "d608f3ea-aa1c-40eb-8473-aaf53e9d6014",
   "metadata": {},
   "outputs": [],
   "source": [
    "fig.savefig('/media/GenomicResearch/Issue/classification_benchmark/results.png', facecolor='w', bbox_inches='tight', dpi=150)"
   ]
  },
  {
   "cell_type": "code",
   "execution_count": null,
   "id": "68096e73-3fec-4909-b182-d09b86282d5d",
   "metadata": {},
   "outputs": [],
   "source": []
  },
  {
   "cell_type": "code",
   "execution_count": null,
   "id": "25eff98f-5d9d-4393-ac05-de5da46e93f4",
   "metadata": {},
   "outputs": [],
   "source": []
  },
  {
   "cell_type": "code",
   "execution_count": null,
   "id": "1871f832-f190-4b92-98eb-698d80f5d2a9",
   "metadata": {},
   "outputs": [],
   "source": []
  },
  {
   "cell_type": "code",
   "execution_count": null,
   "id": "6ec59ade-64e3-443f-8a20-040830942ed8",
   "metadata": {},
   "outputs": [],
   "source": []
  }
 ],
 "metadata": {
  "kernelspec": {
   "display_name": "Python 3",
   "language": "python",
   "name": "python3"
  },
  "language_info": {
   "codemirror_mode": {
    "name": "ipython",
    "version": 3
   },
   "file_extension": ".py",
   "mimetype": "text/x-python",
   "name": "python",
   "nbconvert_exporter": "python",
   "pygments_lexer": "ipython3",
   "version": "3.6.13"
  }
 },
 "nbformat": 4,
 "nbformat_minor": 5
}
