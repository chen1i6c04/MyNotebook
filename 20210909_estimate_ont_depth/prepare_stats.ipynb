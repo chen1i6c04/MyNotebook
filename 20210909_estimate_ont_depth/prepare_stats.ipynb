{
 "cells": [
  {
   "cell_type": "code",
   "execution_count": 1,
   "id": "eea660f6-31e3-43c1-a127-e0a6e2708ab8",
   "metadata": {},
   "outputs": [],
   "source": [
    "import os\n",
    "import subprocess\n",
    "from pathlib import Path\n",
    "import pandas as pd"
   ]
  },
  {
   "cell_type": "code",
   "execution_count": 2,
   "id": "9cfb069b-dee9-4881-a59b-9685234b9624",
   "metadata": {},
   "outputs": [],
   "source": [
    "def load_profile(file):\n",
    "    return pd.read_csv(file, sep='\\t', header=0, names=['locus_id', 'allele_id'], index_col=0).fillna('')\n",
    "\n",
    "def seq_stats(seqfile):\n",
    "    output = subprocess.check_output(f'seqkit stats -abT {seqfile} | tail -n 1', shell=True)\n",
    "    output = output.decode().split()\n",
    "    num_seqs, sum_len, n50 = output[3], output[4], output[12]\n",
    "    return num_seqs, sum_len, n50\n",
    "\n",
    "def workflow(dirpath):\n",
    "    base_dirname = Path(dirpath)\n",
    "    profile_dirname = base_dirname/'profile'\n",
    "    reference_dirname = base_dirname/'reference'\n",
    "    accuracy_dirname = base_dirname/'assembly_accuracy'\n",
    "    denovo_dirname = base_dirname/'denovo'\n",
    "    \n",
    "    reference_profile = load_profile(reference_dirname/'profile.tsv')\n",
    "\n",
    "    data = []\n",
    "    for query_filename in profile_dirname.iterdir():\n",
    "        query = load_profile(query_filename)\n",
    "        distance = (query['allele_id'].values != reference_profile['allele_id'].values).sum()\n",
    "        data.append((query_filename.stem, distance))\n",
    "    distance_df = pd.DataFrame(data, columns=['sample_name', 'cgmlst_distance']).sort_values('sample_name')\n",
    "        \n",
    "    dfs = []\n",
    "    for i in accuracy_dirname.glob('*.txt'):\n",
    "        df = pd.read_csv(i, sep='\\t', usecols=['qscore', 'segment_median_qscore', 'num_mismatches', 'num_insertions', 'num_deletions'])\n",
    "        df.index = [i.stem]\n",
    "        dfs.append(df)\n",
    "    accuracy_df = pd.concat(dfs)\n",
    "    \n",
    "    assembly_df = pd.DataFrame(\n",
    "        data={\n",
    "            i.name: seq_stats(i/'contigs.fasta')\n",
    "            for i in denovo_dirname.iterdir()\n",
    "        },\n",
    "        index=['contig_num', 'genome_size', 'N50']\n",
    "    ).T\n",
    "\n",
    "    df = distance_df.merge(accuracy_df, right_index=True, left_on='sample_name').merge(assembly_df, right_index=True, left_on='sample_name')\n",
    "    df.loc[:, 'depth'], df.loc[:, 'repeat'] = df['sample_name'].str.split('-').str\n",
    "    df['depth'] = df['depth'].str.strip('0').str.replace('x', '')\n",
    "    return df"
   ]
  },
  {
   "cell_type": "code",
   "execution_count": 8,
   "id": "274bd486-5901-4e42-ad7d-979d8bcb4483",
   "metadata": {},
   "outputs": [],
   "source": [
    "dirpaths = \"\"\"/media/GenomicResearch/Issue/20210909_estimate_nanopore_depth/wgs-2/20211209_Lis_barcode10_R20-0148\n",
    "\"\"\""
   ]
  },
  {
   "cell_type": "code",
   "execution_count": 9,
   "id": "0f70fd47-2f66-421e-bbad-ca5fa5f61aca",
   "metadata": {},
   "outputs": [
    {
     "name": "stderr",
     "output_type": "stream",
     "text": [
      "/home/chen1i6c04/miniconda3/envs/notebook/lib/python3.6/site-packages/ipykernel_launcher.py:39: FutureWarning: Columnar iteration over characters will be deprecated in future releases.\n"
     ]
    }
   ],
   "source": [
    "for dirpath in dirpaths.split():\n",
    "    df = workflow(Path(dirpath))\n",
    "    df.to_csv(Path(dirpath, 'stats.txt'), sep='\\t', index=False)"
   ]
  },
  {
   "cell_type": "code",
   "execution_count": null,
   "id": "2a9dd945-d5e5-4ac5-bad5-e64f75f793bc",
   "metadata": {},
   "outputs": [],
   "source": []
  },
  {
   "cell_type": "code",
   "execution_count": 21,
   "id": "8b3dbabf-f2d3-4722-9c13-f25c3a68cef5",
   "metadata": {},
   "outputs": [],
   "source": [
    "import shutil"
   ]
  },
  {
   "cell_type": "code",
   "execution_count": 29,
   "id": "9bf4a23b-78ba-4459-b47b-863e6b454e30",
   "metadata": {},
   "outputs": [],
   "source": [
    "dirpaths = \"\"\"/media/GenomicResearch/Issue/20210909_estimate_nanopore_depth/wgs-2/20200925_barcode01_R19-2905\n",
    "/media/GenomicResearch/Issue/20210909_estimate_nanopore_depth/wgs-2/20200925_barcode02_R20-0026\n",
    "/media/GenomicResearch/Issue/20210909_estimate_nanopore_depth/wgs-2/20200925_barcode04_R20-0088\n",
    "/media/GenomicResearch/Issue/20210909_estimate_nanopore_depth/wgs-2/20200925_barcode05_R20-0127\n",
    "/media/GenomicResearch/Issue/20210909_estimate_nanopore_depth/wgs-2/20200925_barcode06_R20-0131\n",
    "/media/GenomicResearch/Issue/20210909_estimate_nanopore_depth/wgs-2/20200925_barcode10_R20-0150\n",
    "/media/GenomicResearch/Issue/20210909_estimate_nanopore_depth/wgs-2/20200925_barcode11_R20-0158\n",
    "/media/GenomicResearch/Issue/20210909_estimate_nanopore_depth/wgs-2/20200925_barcode12_R20-0160\n",
    "/media/GenomicResearch/Issue/20210909_estimate_nanopore_depth/wgs-2/20211209_Lis_barcode07_R20-0030\n",
    "/media/GenomicResearch/Issue/20210909_estimate_nanopore_depth/wgs-2/20211209_Lis_barcode08_R20-0140\n",
    "/media/GenomicResearch/Issue/20210909_estimate_nanopore_depth/wgs-2/20211209_Lis_barcode09_R20-0145\n",
    "/media/GenomicResearch/Issue/20210909_estimate_nanopore_depth/wgs-2/20211209_Lis_barcode10_R20-0148\"\"\""
   ]
  },
  {
   "cell_type": "code",
   "execution_count": 30,
   "id": "1aa1021c-b460-45df-9dd8-3d031f589f40",
   "metadata": {},
   "outputs": [],
   "source": [
    "dirpaths = [Path(dirpath) for dirpath in dirpaths.splitlines()]"
   ]
  },
  {
   "cell_type": "code",
   "execution_count": 31,
   "id": "2e661166-6431-4759-8792-f3c6fa201e31",
   "metadata": {},
   "outputs": [],
   "source": [
    "outpath = Path('/media/GenomicResearch/Issue/20220215_modification_paper_data/ONT_WGS/Fastq/')\n",
    "\n",
    "for dirpath in dirpaths:\n",
    "    src = dirpath/'reads.fastq.gz'\n",
    "    dst = outpath/(dirpath.name.rsplit('_', 2)[-1] + '.fastq.gz')\n",
    "    shutil.copyfile(src, dst)"
   ]
  },
  {
   "cell_type": "code",
   "execution_count": 14,
   "id": "a775030f-0cdd-4298-86d2-0d9ca0e2be5f",
   "metadata": {},
   "outputs": [],
   "source": [
    "df = pd.read_csv('/media/GenomicResearch/Issue/20210909_estimate_nanopore_depth/wgs-2/20200925_barcode12_R20-0160/stats.txt', sep='\\t')"
   ]
  },
  {
   "cell_type": "code",
   "execution_count": 20,
   "id": "fdf122d0-5d97-43bc-8809-a0b38e18c179",
   "metadata": {},
   "outputs": [
    {
     "data": {
      "text/plain": [
       "'025x-1'"
      ]
     },
     "execution_count": 20,
     "metadata": {},
     "output_type": "execute_result"
    }
   ],
   "source": []
  },
  {
   "cell_type": "code",
   "execution_count": null,
   "id": "aa95a0b7-7975-4504-8613-7e4dc8d91639",
   "metadata": {},
   "outputs": [],
   "source": []
  }
 ],
 "metadata": {
  "kernelspec": {
   "display_name": "Python 3",
   "language": "python",
   "name": "python3"
  },
  "language_info": {
   "codemirror_mode": {
    "name": "ipython",
    "version": 3
   },
   "file_extension": ".py",
   "mimetype": "text/x-python",
   "name": "python",
   "nbconvert_exporter": "python",
   "pygments_lexer": "ipython3",
   "version": "3.6.13"
  }
 },
 "nbformat": 4,
 "nbformat_minor": 5
}
