{
 "cells": [
  {
   "cell_type": "code",
   "execution_count": 1,
   "metadata": {},
   "outputs": [],
   "source": [
    "import os\n",
    "import sys\n",
    "from pathlib import Path\n",
    "from itertools import product, chain\n",
    "from multiprocessing import Pool\n",
    "from Bio import SeqIO\n",
    "\n",
    "sys.path.append('../src')\n",
    "from utils import run_cmd"
   ]
  },
  {
   "cell_type": "code",
   "execution_count": 81,
   "metadata": {},
   "outputs": [],
   "source": [
    "basepath = Path('/media/GenomicResearch/Issue/20210909_estimate_nanopore_depth/wgs-2/20211209_Lis_barcode10_R20-0148')\n",
    "\n",
    "asm = basepath/'reference.fa'\n",
    "raw = basepath/'reads.fastq.gz'\n",
    "\n",
    "samples_dir = basepath/'fastq'\n",
    "samples_dir.mkdir(exist_ok=True, parents=True)"
   ]
  },
  {
   "cell_type": "code",
   "execution_count": 82,
   "metadata": {},
   "outputs": [],
   "source": [
    "gsize = sum(len(record) for record in SeqIO.parse(asm, 'fasta'))\n",
    "\n",
    "stdout, stderr = run_cmd(f\"nanoq -s -i {raw} 2>&1 | awk '{{print $2}}'\")\n",
    "total_bases = int(stdout.strip())\n",
    "\n",
    "origin_depth = total_bases/gsize"
   ]
  },
  {
   "cell_type": "code",
   "execution_count": 83,
   "metadata": {},
   "outputs": [
    {
     "name": "stdout",
     "output_type": "stream",
     "text": [
      "Genome Size: 2.9MB\n",
      "Total Bases: 589.2MB\n",
      "Origin Depth: 202.3x\n"
     ]
    }
   ],
   "source": [
    "print(f'Genome Size: {gsize/10e5:.1f}MB', f\"Total Bases: {total_bases/10e5:.1f}MB\", f\"Origin Depth: {origin_depth:.1f}x\", sep='\\n')"
   ]
  },
  {
   "cell_type": "code",
   "execution_count": 84,
   "metadata": {},
   "outputs": [],
   "source": [
    "depths = list(map(lambda x: x**2, range(3, 21)))\n",
    "# depths = (50, 100, 200, 300)\n",
    "repeats = (1, 2, 3, 4, 5)"
   ]
  },
  {
   "cell_type": "code",
   "execution_count": 85,
   "metadata": {},
   "outputs": [
    {
     "data": {
      "text/plain": [
       "60"
      ]
     },
     "execution_count": 85,
     "metadata": {},
     "output_type": "execute_result"
    }
   ],
   "source": [
    "cmds = []\n",
    "for depth, repeat in product(depths, repeats):\n",
    "    if depth < origin_depth:\n",
    "        outfile = samples_dir/f\"{depth:03}x-{repeat}.fastq.gz\"\n",
    "        cmd = f\"rasusa -i {raw} -g {gsize} -c {depth} | pigz -9 -p 4 > {outfile}\"\n",
    "        cmds.append(cmd)\n",
    "len(cmds)"
   ]
  },
  {
   "cell_type": "code",
   "execution_count": 86,
   "metadata": {},
   "outputs": [],
   "source": [
    "with Pool(16) as p:\n",
    "    try:\n",
    "        p.map(run_cmd, cmds)\n",
    "        p.close()\n",
    "        p.join()\n",
    "    except KeyboardInterrupt:\n",
    "        p.terminate()"
   ]
  },
  {
   "cell_type": "code",
   "execution_count": null,
   "metadata": {},
   "outputs": [],
   "source": []
  },
  {
   "cell_type": "code",
   "execution_count": null,
   "metadata": {},
   "outputs": [],
   "source": []
  }
 ],
 "metadata": {
  "kernelspec": {
   "display_name": "Python 3",
   "language": "python",
   "name": "python3"
  },
  "language_info": {
   "codemirror_mode": {
    "name": "ipython",
    "version": 3
   },
   "file_extension": ".py",
   "mimetype": "text/x-python",
   "name": "python",
   "nbconvert_exporter": "python",
   "pygments_lexer": "ipython3",
   "version": "3.6.13"
  }
 },
 "nbformat": 4,
 "nbformat_minor": 4
}
