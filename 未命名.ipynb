{
 "cells": [
  {
   "cell_type": "code",
   "execution_count": 2,
   "id": "d0e0757b",
   "metadata": {},
   "outputs": [],
   "source": [
    "import os\n",
    "import re\n",
    "import shutil\n",
    "from pathlib import Path\n",
    "from concurrent.futures import ProcessPoolExecutor\n",
    "import pandas as pd"
   ]
  },
  {
   "cell_type": "code",
   "execution_count": 2,
   "id": "41663aed-0b67-4724-81bb-e56b151eb4a3",
   "metadata": {},
   "outputs": [],
   "source": [
    "filenames = \"\"\"/media/GenomicResearch/MiSeq/Clostridium_perfringens/Profile/R21.2453.tsv\n",
    "/media/GenomicResearch/MiSeq/Clostridium_perfringens/Profile/R21.2456.tsv\n",
    "/media/GenomicResearch/MiSeq/Clostridium_perfringens/Profile/R21.2514.tsv\n",
    "/media/GenomicResearch/MiSeq/Clostridium_perfringens/Profile/R21.2515.tsv\n",
    "/media/Central_Lab_Storage/NcbiSRA/NCBI_Clostridium_perfringens_SRA/Profile/SRR7601230.tsv\"\"\""
   ]
  },
  {
   "cell_type": "code",
   "execution_count": 3,
   "id": "4c605c17-0cc9-4aec-bbda-88c2321a6e96",
   "metadata": {},
   "outputs": [],
   "source": [
    "profile = pd.concat((pd.read_csv(filename, sep='\\t', header=0, names=[Path(filename).stem], index_col=0) for filename in filenames.split()), axis=1)"
   ]
  },
  {
   "cell_type": "code",
   "execution_count": 4,
   "id": "54c73914-eeb0-487b-9b30-e5af8ddb546e",
   "metadata": {},
   "outputs": [],
   "source": [
    "from src.tree import PairwiseDistanceMatrix, Dendrogram"
   ]
  },
  {
   "cell_type": "code",
   "execution_count": 5,
   "id": "a6a2565d-e9f1-4a1a-be1e-b6cf93c1c8fe",
   "metadata": {},
   "outputs": [],
   "source": [
    "distmatrix = PairwiseDistanceMatrix(profile)()"
   ]
  },
  {
   "cell_type": "code",
   "execution_count": 6,
   "id": "f6555fa8-2b75-419b-baca-aad6534daab0",
   "metadata": {},
   "outputs": [],
   "source": [
    "dendrogram = Dendrogram(distmatrix)\n",
    "dendrogram(show_node_info=True)"
   ]
  },
  {
   "cell_type": "code",
   "execution_count": 7,
   "id": "63d614e5-52f2-42b8-bfd5-c80740f1b8aa",
   "metadata": {},
   "outputs": [
    {
     "data": {
      "image/png": "[encoded data removed]",
      "text/plain": [
       "<Figure size 720x108 with 1 Axes>"
      ]
     },
     "execution_count": 7,
     "metadata": {},
     "output_type": "execute_result"
    }
   ],
   "source": [
    "dendrogram.show_figure()"
   ]
  },
  {
   "cell_type": "code",
   "execution_count": 8,
   "id": "9a49015e-0bb2-4c4b-80f4-996cd66f1fdb",
   "metadata": {},
   "outputs": [],
   "source": [
    "dendrogram.savefig('/media/GenomicResearch/MiSeq/Clostridium_perfringens/closest_strain.pdf')"
   ]
  },
  {
   "cell_type": "code",
   "execution_count": null,
   "id": "2c0e5cfa-7762-4901-bdd3-6df9228dad3a",
   "metadata": {},
   "outputs": [],
   "source": []
  },
  {
   "cell_type": "code",
   "execution_count": null,
   "id": "0eb69a08-9b01-436f-a8fc-5c678e092226",
   "metadata": {},
   "outputs": [],
   "source": [
    "program = '/media/GenomicResearch/Tools/Easyfig/Easyfig.py'\n",
    "identity = 90\n",
    "min_length = 100\n",
    "legend = 'top'\n",
    "feature_type = 'CDS 255 204 135 arrow'\n",
    "figure_width = 5000\n",
    "output = '/home/chen1i6c04/easyfig.svg'\n",
    "seq_1 = '/media/GenomicResearch/Issue/20211026_沙鹿童綜合Sal/Complete_genome/5A-sal-07_contig002.gbk'\n",
    "seq_2 = '/home/chen1i6c04/5A-Sal-05_plasmid_cts.fasta'\n",
    "# seq_3 = '/media/GenomicResearch/Issue/20211026_沙鹿童綜合Sal/Complete_genome/5A-sal-07_contig_002_294k.fa'\n",
    "\n",
    "!python2 {program} \\\n",
    "-i {identity} -min_length {min_length} -blast_col_inv 255 0 0 0 0 255 -f1 T -f2 10000 -legend {legend} \\\n",
    "-f {feature_type} arrow -ann_height 50 -aln best -svg -uncomp T -width {figure_width} -blast_height 300 -o {output} \\\n",
    "{seq_1} {seq_2}"
   ]
  },
  {
   "cell_type": "code",
   "execution_count": null,
   "id": "60a8255e-8bc3-4f4f-bf9c-5317bbe34884",
   "metadata": {},
   "outputs": [],
   "source": []
  },
  {
   "cell_type": "code",
   "execution_count": 2,
   "id": "7d828fbb-56ea-45c4-92f4-1c83de87a445",
   "metadata": {},
   "outputs": [],
   "source": [
    "from Bio import SeqIO"
   ]
  },
  {
   "cell_type": "code",
   "execution_count": 8,
   "id": "977e81ac-088b-4b89-bd59-68935f53f12a",
   "metadata": {},
   "outputs": [],
   "source": [
    "filename = '/media/GenomicResearch/Issue/Benga/Listeria_monocytogenes.faa'"
   ]
  },
  {
   "cell_type": "code",
   "execution_count": 9,
   "id": "6b924f90-42f3-4b9e-876c-a942378dfe67",
   "metadata": {},
   "outputs": [],
   "source": [
    "id_and_gene = [(record.description.split(None)) for record in SeqIO.parse(filename, 'fasta')]"
   ]
  },
  {
   "cell_type": "code",
   "execution_count": 10,
   "id": "79a25146-02c3-4197-bf74-72fe1c30bfae",
   "metadata": {},
   "outputs": [],
   "source": [
    "namemap = {j: i for i, j in id_and_gene}"
   ]
  },
  {
   "cell_type": "code",
   "execution_count": 12,
   "id": "1b2f4d17-8709-4075-a627-db31163b4878",
   "metadata": {},
   "outputs": [],
   "source": [
    "dirpath = Path('/home/chen1i6c04/data')\n",
    "outpath = Path('/home/chen1i6c04/data_2')\n",
    "\n",
    "for filename in dirpath.iterdir():\n",
    "    df = pd.read_csv(filename, sep='\\t', index_col=0)\n",
    "    df.index = df.index.map(namemap)\n",
    "    df = df.reindex(namemap.values())\n",
    "    df.to_csv(outpath/filename.name, sep='\\t')"
   ]
  },
  {
   "cell_type": "code",
   "execution_count": 7,
   "id": "f3f7218b-dd10-45bc-a850-5f2862591cbe",
   "metadata": {},
   "outputs": [
    {
     "data": {
      "text/plain": [
       "PosixPath('/home/chen1i6c04/data/SRR1269933.tsv')"
      ]
     },
     "execution_count": 7,
     "metadata": {},
     "output_type": "execute_result"
    }
   ],
   "source": [
    "filename"
   ]
  },
  {
   "cell_type": "code",
   "execution_count": 13,
   "id": "9de50a9f-b12f-4ce7-b687-f3be3c28fcad",
   "metadata": {},
   "outputs": [],
   "source": [
    "dirpath = Path('/home/chen1i6c04/data2')\n",
    "outpath = Path('/home/chen1i6c04/data3')"
   ]
  },
  {
   "cell_type": "code",
   "execution_count": 15,
   "id": "85d17c3a-4a66-4d86-a503-4da8a539ff29",
   "metadata": {},
   "outputs": [],
   "source": [
    "files = [i for i in dirpath.iterdir()]"
   ]
  },
  {
   "cell_type": "code",
   "execution_count": 45,
   "id": "bb503d76-b962-4d1f-93e2-ddf5b117ff27",
   "metadata": {},
   "outputs": [],
   "source": [
    "for idx, i in enumerate(range(0, len(files), 500)):\n",
    "    for j in files[i:i+500]:\n",
    "        outdir = outpath/f\"{idx}\"\n",
    "        outdir.mkdir(exist_ok=True)\n",
    "        shutil.copy(j, outdir)"
   ]
  },
  {
   "cell_type": "code",
   "execution_count": 43,
   "id": "ffda69a2-ad42-4110-a03c-d039b8a19564",
   "metadata": {},
   "outputs": [
    {
     "data": {
      "text/plain": [
       "PosixPath('/home/chen1i6c04/data2/SRR3571296.tsv')"
      ]
     },
     "execution_count": 43,
     "metadata": {},
     "output_type": "execute_result"
    }
   ],
   "source": [
    "j"
   ]
  },
  {
   "cell_type": "code",
   "execution_count": 53,
   "id": "c101ccf4-1b38-49a7-92dc-636a7460a531",
   "metadata": {},
   "outputs": [],
   "source": [
    "sample_names = ('R21.0464', 'R21.0535', 'R21.0754')"
   ]
  },
  {
   "cell_type": "code",
   "execution_count": 55,
   "id": "263d0cc5-5b7c-4858-9bc0-db070d8cb0a8",
   "metadata": {},
   "outputs": [],
   "source": [
    "df = pd.read_csv(\n",
    "    '/media/GenomicResearch/MiSeq/Salmonella_enterica/summaries.txt',\n",
    "    sep='\\t', usecols=['Key', 'amrfinder_result', 'resfinder_result', 'Point', 'ST', 'serovar', 'Inc type'],\n",
    "    dtype=object\n",
    ")"
   ]
  },
  {
   "cell_type": "code",
   "execution_count": 56,
   "id": "8e45006d-496f-4b2c-8162-79fd55232c37",
   "metadata": {},
   "outputs": [],
   "source": [
    "df = df[df['Key'].isin(sample_names)]"
   ]
  },
  {
   "cell_type": "code",
   "execution_count": 57,
   "id": "3a6be86d-e99a-466c-9f9d-9bce65aae997",
   "metadata": {},
   "outputs": [],
   "source": [
    "df.to_csv('/home/chen1i6c04/salmonella_enterica_summaries.tsv', sep='\\t', index=False)"
   ]
  },
  {
   "cell_type": "code",
   "execution_count": null,
   "id": "3b8339b4-fde6-40c9-8490-6d4ee328d04e",
   "metadata": {},
   "outputs": [],
   "source": []
  },
  {
   "cell_type": "code",
   "execution_count": null,
   "id": "701974db-898e-4668-b2b0-7a4edc6b9e9f",
   "metadata": {},
   "outputs": [],
   "source": [
    "from io import StringIO"
   ]
  },
  {
   "cell_type": "code",
   "execution_count": null,
   "id": "63bfb863-20eb-46fe-abac-d1bf5c3c6439",
   "metadata": {},
   "outputs": [],
   "source": [
    "from Bio.Blast.Applications import NcbiblastxCommandline"
   ]
  },
  {
   "cell_type": "code",
   "execution_count": null,
   "id": "3ecb40e5-7569-4b4e-b0e4-77b48766f1f9",
   "metadata": {},
   "outputs": [],
   "source": [
    "subject = '/home/chen1i6c04/ramAp.faa'"
   ]
  },
  {
   "cell_type": "code",
   "execution_count": null,
   "id": "55dd136a-ace5-4e11-a9bb-2a032017f453",
   "metadata": {},
   "outputs": [],
   "source": [
    "query = '/media/MiSeqOutput/220121_M04855_0094_000000000-K424V/Assembly/R21-0754.fa'"
   ]
  },
  {
   "cell_type": "code",
   "execution_count": null,
   "id": "0d0b9cb0-b551-4b88-aee1-2fcae3c8ff84",
   "metadata": {},
   "outputs": [],
   "source": [
    "cline = NcbiblastxCommandline(query=query, subject=subject, outfmt='6 qseqid sseqid pident length slen')\n",
    "stdout, stderr = cline()"
   ]
  },
  {
   "cell_type": "code",
   "execution_count": null,
   "id": "9d8cc041-2864-409a-a42d-b5fd8b6d6fc1",
   "metadata": {},
   "outputs": [],
   "source": [
    "df = pd.read_csv(StringIO(stdout), sep='\\t', names=['qseqid', 'sseqid', 'pident', 'length', 'slen'])"
   ]
  },
  {
   "cell_type": "code",
   "execution_count": null,
   "id": "4b53c8ae-81c6-4b5e-8bec-055a526432e5",
   "metadata": {},
   "outputs": [],
   "source": [
    "df['cov'] = (df['length']/df['slen']*100).round(2)"
   ]
  },
  {
   "cell_type": "code",
   "execution_count": null,
   "id": "1641f39a-5f1f-4fdf-9f70-afa2d92a0072",
   "metadata": {},
   "outputs": [
    {
     "data": {
      "text/html": [
       "<div>\n",
       "<style scoped>\n",
       "    .dataframe tbody tr th:only-of-type {\n",
       "        vertical-align: middle;\n",
       "    }\n",
       "\n",
       "    .dataframe tbody tr th {\n",
       "        vertical-align: top;\n",
       "    }\n",
       "\n",
       "    .dataframe thead th {\n",
       "        text-align: right;\n",
       "    }\n",
       "</style>\n",
       "<table border=\"1\" class=\"dataframe\">\n",
       "  <thead>\n",
       "    <tr style=\"text-align: right;\">\n",
       "      <th></th>\n",
       "      <th>qseqid</th>\n",
       "      <th>sseqid</th>\n",
       "      <th>pident</th>\n",
       "      <th>length</th>\n",
       "      <th>slen</th>\n",
       "      <th>cov</th>\n",
       "    </tr>\n",
       "  </thead>\n",
       "  <tbody>\n",
       "    <tr>\n",
       "      <th>165</th>\n",
       "      <td>NODE_15_length_100589_cov_14.209751_pilon</td>\n",
       "      <td>ramAp</td>\n",
       "      <td>92.105</td>\n",
       "      <td>114</td>\n",
       "      <td>114</td>\n",
       "      <td>100.0</td>\n",
       "    </tr>\n",
       "    <tr>\n",
       "      <th>409</th>\n",
       "      <td>NODE_47_length_6026_cov_15.867266_pilon</td>\n",
       "      <td>ramAp</td>\n",
       "      <td>100.000</td>\n",
       "      <td>114</td>\n",
       "      <td>114</td>\n",
       "      <td>100.0</td>\n",
       "    </tr>\n",
       "  </tbody>\n",
       "</table>\n",
       "</div>"
      ],
      "text/plain": [
       "                                        qseqid sseqid   pident  length  slen  \\\n",
       "165  NODE_15_length_100589_cov_14.209751_pilon  ramAp   92.105     114   114   \n",
       "409    NODE_47_length_6026_cov_15.867266_pilon  ramAp  100.000     114   114   \n",
       "\n",
       "       cov  \n",
       "165  100.0  \n",
       "409  100.0  "
      ]
     },
     "execution_count": 52,
     "metadata": {},
     "output_type": "execute_result"
    }
   ],
   "source": [
    "df[(df['pident']>=90)&(df['cov']>=60)]"
   ]
  },
  {
   "cell_type": "code",
   "execution_count": 58,
   "id": "2b00da4d-a513-44b8-b98a-f5121a83fc34",
   "metadata": {},
   "outputs": [],
   "source": [
    "import subprocess"
   ]
  },
  {
   "cell_type": "code",
   "execution_count": 59,
   "id": "4ec075e8-ae48-4e6d-be44-a62ed18e20c0",
   "metadata": {},
   "outputs": [],
   "source": [
    "dirpath = Path('/media/GenomicResearch/Issue/20201221_hybrid_and_denovo/Unicycler/Contigs')\n",
    "outpath = Path('/media/GenomicResearch/Issue/20201221_hybrid_and_denovo/Unicycler/padloc')"
   ]
  },
  {
   "cell_type": "code",
   "execution_count": 60,
   "id": "40d2747c-2128-4390-ac71-9e43619857df",
   "metadata": {},
   "outputs": [],
   "source": [
    "for i in dirpath.iterdir():\n",
    "    cmd = ['conda', 'run', '-n', 'padloc', 'padloc', '--fna', i, '--outdir', outpath, '--cpu', '4']\n",
    "    subprocess.run(cmd)"
   ]
  },
  {
   "cell_type": "code",
   "execution_count": 102,
   "id": "ae7722cc-00ff-494b-894d-a9746097705e",
   "metadata": {},
   "outputs": [],
   "source": [
    "results = []\n",
    "for i in outpath.glob('*.csv'):\n",
    "    sample_name = i.stem.split('.')[0]\n",
    "    df = pd.read_csv(i, usecols=['seqid', 'start', 'end', 'system', 'protein.name'])\n",
    "    df = df.groupby('system')['protein.name'].agg(lambda x: x.str.cat(sep=', '))\n",
    "    df = pd.concat([df], keys=[sample_name], names=['sample_name',])\n",
    "    results.append(df)"
   ]
  },
  {
   "cell_type": "code",
   "execution_count": 105,
   "id": "9c17dfb3-0dac-4e0e-bc58-8e22604c46e2",
   "metadata": {},
   "outputs": [],
   "source": [
    "results = pd.concat(results).sort_index()"
   ]
  },
  {
   "cell_type": "code",
   "execution_count": 107,
   "id": "2aa8a1a5-ae21-4bcc-9796-083c16ed9168",
   "metadata": {},
   "outputs": [],
   "source": [
    "with pd.ExcelWriter('/media/GenomicResearch/Issue/20201221_hybrid_and_denovo/Unicycler/padloc.xlsx') as writer:\n",
    "    results.to_excel(writer)"
   ]
  },
  {
   "cell_type": "code",
   "execution_count": null,
   "id": "0cc5fa3b-d116-46bc-a7dd-e838c673d8a9",
   "metadata": {},
   "outputs": [],
   "source": []
  },
  {
   "cell_type": "code",
   "execution_count": 24,
   "id": "b06e4d82-4a8b-46f4-83c6-6951746966fd",
   "metadata": {},
   "outputs": [],
   "source": [
    "dirpaths = \"\"\"/media/GenomicResearch/Issue/20210909_estimate_nanopore_depth/wga/20211007_WGA_barcode11_R18-1656\n",
    "/media/GenomicResearch/Issue/20210909_estimate_nanopore_depth/wga/20211007_WGA_barcode12_R20-0088\n",
    "/media/GenomicResearch/Issue/20210909_estimate_nanopore_depth/wga/20211018_WGA_barcode01_R18-1656\n",
    "/media/GenomicResearch/Issue/20210909_estimate_nanopore_depth/wga/20211018_WGA_barcode02_R18-1656\n",
    "/media/GenomicResearch/Issue/20210909_estimate_nanopore_depth/wga/20211028_WGA_barcode05_R18-1656\n",
    "/media/GenomicResearch/Issue/20210909_estimate_nanopore_depth/wga/20211028_WGA_barcode06_R20-0088\"\"\""
   ]
  },
  {
   "cell_type": "code",
   "execution_count": 22,
   "id": "14818e46-d293-4a1f-a4b9-f8c7dddec053",
   "metadata": {},
   "outputs": [],
   "source": [
    "for dirpath in dirpaths.splitlines():\n",
    "    dirpath = Path(dirpath)\n",
    "    outpath = dirpath/'reference'\n",
    "    outpath.mkdir(exist_ok=True)\n",
    "    shutil.copyfile(dirpath/'reference.fa', outpath/'contigs.fa')\n",
    "    shutil.copyfile(dirpath/'reference.tsv', outpath/'profile.tsv')\n",
    "    try:\n",
    "        shutil.copyfile(dirpath/'reference.txt', outpath/'amrfinder.txt')\n",
    "    except FileNotFoundError:\n",
    "        pass\n",
    "    try:\n",
    "        shutil.copytree(dirpath/'resfinder-ref', outpath/'resfinder')\n",
    "    except FileNotFoundError:\n",
    "        pass"
   ]
  },
  {
   "cell_type": "code",
   "execution_count": 25,
   "id": "eed8cea8-8a44-4d75-bfb9-39805691436f",
   "metadata": {},
   "outputs": [],
   "source": [
    "for dirpath in dirpaths.splitlines():\n",
    "    dirpath = Path(dirpath)\n",
    "    outpath = dirpath/'reference'\n",
    "    classify_dirname = dirpath/'classify'\n",
    "    if classify_dirname.exists():\n",
    "        shutil.move(classify_dirname/'reference_kreport.txt', outpath/'centrifuge_kreport.txt')\n",
    "        shutil.move(classify_dirname/'reference_report.txt', outpath/'kraken2_report.txt')"
   ]
  },
  {
   "cell_type": "code",
   "execution_count": null,
   "id": "d869e17e-f669-41ff-82f0-0fcdf49fb2c3",
   "metadata": {},
   "outputs": [],
   "source": []
  }
 ],
 "metadata": {
  "kernelspec": {
   "display_name": "Python 3",
   "language": "python",
   "name": "python3"
  },
  "language_info": {
   "codemirror_mode": {
    "name": "ipython",
    "version": 3
   },
   "file_extension": ".py",
   "mimetype": "text/x-python",
   "name": "python",
   "nbconvert_exporter": "python",
   "pygments_lexer": "ipython3",
   "version": "3.6.13"
  }
 },
 "nbformat": 4,
 "nbformat_minor": 5
}
