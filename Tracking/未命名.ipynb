{
 "cells": [
  {
   "cell_type": "code",
   "execution_count": 1,
   "id": "27320646",
   "metadata": {},
   "outputs": [],
   "source": [
    "from pathlib import Path\n",
    "import pandas as pd\n",
    "from pymongo import MongoClient"
   ]
  },
  {
   "cell_type": "code",
   "execution_count": 2,
   "id": "85acddee",
   "metadata": {},
   "outputs": [],
   "source": [
    "host = '203.65.72.120'\n",
    "client = MongoClient(host=host)"
   ]
  },
  {
   "cell_type": "code",
   "execution_count": 3,
   "id": "01037ca4",
   "metadata": {},
   "outputs": [
    {
     "data": {
      "text/plain": [
       "['Listeria_monocytogenes',\n",
       " 'Mycobacterium_tuberculosis_variant_bovis',\n",
       " 'Neisseria_meningitidis',\n",
       " 'Salmonella_enterica',\n",
       " 'Vibrio_cholerae',\n",
       " 'admin',\n",
       " 'config',\n",
       " 'local']"
      ]
     },
     "execution_count": 3,
     "metadata": {},
     "output_type": "execute_result"
    }
   ],
   "source": [
    "client.list_database_names()"
   ]
  },
  {
   "cell_type": "code",
   "execution_count": 4,
   "id": "4d5139e1",
   "metadata": {},
   "outputs": [],
   "source": [
    "database = client['Listeria_monocytogenes']"
   ]
  },
  {
   "cell_type": "code",
   "execution_count": 5,
   "id": "7bc49391",
   "metadata": {},
   "outputs": [
    {
     "data": {
      "text/plain": [
       "['Description', 'Sample_attribute']"
      ]
     },
     "execution_count": 5,
     "metadata": {},
     "output_type": "execute_result"
    }
   ],
   "source": [
    "database.list_collection_names()"
   ]
  },
  {
   "cell_type": "code",
   "execution_count": 6,
   "id": "fc714cfd",
   "metadata": {},
   "outputs": [],
   "source": [
    "collettion = database['Sample_attribute']"
   ]
  },
  {
   "cell_type": "code",
   "execution_count": 12,
   "id": "1a4ced62-ac0f-4727-9550-89b7c14fd58f",
   "metadata": {},
   "outputs": [],
   "source": [
    "document_filter = {}"
   ]
  },
  {
   "cell_type": "code",
   "execution_count": 13,
   "id": "10703164-9bab-46a4-8bf8-56bddc552963",
   "metadata": {},
   "outputs": [],
   "source": [
    "cursor = collettion.find(document_filter, {'profile': 0, '_id': 0})"
   ]
  },
  {
   "cell_type": "code",
   "execution_count": 14,
   "id": "5d8d6e22-e7e8-4613-9d49-b10edeffa0bf",
   "metadata": {},
   "outputs": [
    {
     "data": {
      "text/html": [
       "<div>\n",
       "<style scoped>\n",
       "    .dataframe tbody tr th:only-of-type {\n",
       "        vertical-align: middle;\n",
       "    }\n",
       "\n",
       "    .dataframe tbody tr th {\n",
       "        vertical-align: top;\n",
       "    }\n",
       "\n",
       "    .dataframe thead th {\n",
       "        text-align: right;\n",
       "    }\n",
       "</style>\n",
       "<table border=\"1\" class=\"dataframe\">\n",
       "  <thead>\n",
       "    <tr style=\"text-align: right;\">\n",
       "      <th></th>\n",
       "      <th>NCBIAccession</th>\n",
       "      <th>BioSample</th>\n",
       "      <th>Country</th>\n",
       "      <th>Year</th>\n",
       "      <th>Serovar</th>\n",
       "      <th>cgMLST</th>\n",
       "      <th>ST</th>\n",
       "      <th>ResistanceGene</th>\n",
       "      <th>Identifier</th>\n",
       "      <th>Host</th>\n",
       "    </tr>\n",
       "  </thead>\n",
       "  <tbody>\n",
       "    <tr>\n",
       "      <th>0</th>\n",
       "      <td>SRR1553882</td>\n",
       "      <td>SAMN02991377</td>\n",
       "      <td>USA</td>\n",
       "      <td>2014</td>\n",
       "      <td>4</td>\n",
       "      <td>133</td>\n",
       "      <td>382</td>\n",
       "      <td>fosX, lin</td>\n",
       "      <td>MOD1_LS985</td>\n",
       "      <td>NaN</td>\n",
       "    </tr>\n",
       "    <tr>\n",
       "      <th>1</th>\n",
       "      <td>SRR1553851</td>\n",
       "      <td>SAMN02991392</td>\n",
       "      <td>USA</td>\n",
       "      <td>2014</td>\n",
       "      <td>4</td>\n",
       "      <td>219</td>\n",
       "      <td>382</td>\n",
       "      <td>fosX, lin</td>\n",
       "      <td>MOD1_LS1008</td>\n",
       "      <td>NaN</td>\n",
       "    </tr>\n",
       "    <tr>\n",
       "      <th>2</th>\n",
       "      <td>SRR1553739</td>\n",
       "      <td>SAMN02991375</td>\n",
       "      <td>USA</td>\n",
       "      <td>2014</td>\n",
       "      <td>4</td>\n",
       "      <td>219</td>\n",
       "      <td>382</td>\n",
       "      <td>fosX, lin</td>\n",
       "      <td>MOD1_LS982</td>\n",
       "      <td>NaN</td>\n",
       "    </tr>\n",
       "    <tr>\n",
       "      <th>3</th>\n",
       "      <td>SRR1553866</td>\n",
       "      <td>SAMN02990447</td>\n",
       "      <td>USA</td>\n",
       "      <td>2014</td>\n",
       "      <td>4</td>\n",
       "      <td>219</td>\n",
       "      <td>382</td>\n",
       "      <td>fosX, lin</td>\n",
       "      <td>MOD1_LS984</td>\n",
       "      <td>NaN</td>\n",
       "    </tr>\n",
       "    <tr>\n",
       "      <th>4</th>\n",
       "      <td>SRR1553750</td>\n",
       "      <td>SAMN02990450</td>\n",
       "      <td>USA</td>\n",
       "      <td>2014</td>\n",
       "      <td>4</td>\n",
       "      <td>219</td>\n",
       "      <td>382</td>\n",
       "      <td>fosX, lin</td>\n",
       "      <td>MOD1_LS988</td>\n",
       "      <td>NaN</td>\n",
       "    </tr>\n",
       "    <tr>\n",
       "      <th>...</th>\n",
       "      <td>...</td>\n",
       "      <td>...</td>\n",
       "      <td>...</td>\n",
       "      <td>...</td>\n",
       "      <td>...</td>\n",
       "      <td>...</td>\n",
       "      <td>...</td>\n",
       "      <td>...</td>\n",
       "      <td>...</td>\n",
       "      <td>...</td>\n",
       "    </tr>\n",
       "    <tr>\n",
       "      <th>14932</th>\n",
       "      <td>SRR7912066</td>\n",
       "      <td>SAMN10141040</td>\n",
       "      <td>Taiwan</td>\n",
       "      <td>2014</td>\n",
       "      <td>1/2b</td>\n",
       "      <td>81</td>\n",
       "      <td>87</td>\n",
       "      <td>blaCTX-M, blaTEM, fosX, lin</td>\n",
       "      <td>R14.0396</td>\n",
       "      <td>Homo sapiens</td>\n",
       "    </tr>\n",
       "    <tr>\n",
       "      <th>14933</th>\n",
       "      <td>SRR7912065</td>\n",
       "      <td>SAMN10141039</td>\n",
       "      <td>Taiwan</td>\n",
       "      <td>2014</td>\n",
       "      <td>1/2b</td>\n",
       "      <td>1482</td>\n",
       "      <td>87</td>\n",
       "      <td>fosX, lin</td>\n",
       "      <td>R14.0372</td>\n",
       "      <td>Homo sapiens</td>\n",
       "    </tr>\n",
       "    <tr>\n",
       "      <th>14934</th>\n",
       "      <td>SRR7912236</td>\n",
       "      <td>SAMN10141037</td>\n",
       "      <td>Taiwan</td>\n",
       "      <td>2014</td>\n",
       "      <td>1/2a</td>\n",
       "      <td>677</td>\n",
       "      <td>155</td>\n",
       "      <td>fosX, lin</td>\n",
       "      <td>R14.0254</td>\n",
       "      <td>Homo sapiens</td>\n",
       "    </tr>\n",
       "    <tr>\n",
       "      <th>14935</th>\n",
       "      <td>SRR7912193</td>\n",
       "      <td>SAMN10141036</td>\n",
       "      <td>Taiwan</td>\n",
       "      <td>2014</td>\n",
       "      <td>1/2b</td>\n",
       "      <td>1567</td>\n",
       "      <td>5</td>\n",
       "      <td>fosX, lin</td>\n",
       "      <td>R14.0214</td>\n",
       "      <td>Homo sapiens</td>\n",
       "    </tr>\n",
       "    <tr>\n",
       "      <th>14936</th>\n",
       "      <td>SRR7912192</td>\n",
       "      <td>SAMN10141035</td>\n",
       "      <td>Taiwan</td>\n",
       "      <td>2014</td>\n",
       "      <td>1/2b</td>\n",
       "      <td>9</td>\n",
       "      <td>5</td>\n",
       "      <td>fosX, lin</td>\n",
       "      <td>R14.0043</td>\n",
       "      <td>Homo sapiens</td>\n",
       "    </tr>\n",
       "  </tbody>\n",
       "</table>\n",
       "<p>14937 rows × 10 columns</p>\n",
       "</div>"
      ],
      "text/plain": [
       "      NCBIAccession     BioSample Country  Year Serovar cgMLST   ST  \\\n",
       "0        SRR1553882  SAMN02991377     USA  2014       4    133  382   \n",
       "1        SRR1553851  SAMN02991392     USA  2014       4    219  382   \n",
       "2        SRR1553739  SAMN02991375     USA  2014       4    219  382   \n",
       "3        SRR1553866  SAMN02990447     USA  2014       4    219  382   \n",
       "4        SRR1553750  SAMN02990450     USA  2014       4    219  382   \n",
       "...             ...           ...     ...   ...     ...    ...  ...   \n",
       "14932    SRR7912066  SAMN10141040  Taiwan  2014    1/2b     81   87   \n",
       "14933    SRR7912065  SAMN10141039  Taiwan  2014    1/2b   1482   87   \n",
       "14934    SRR7912236  SAMN10141037  Taiwan  2014    1/2a    677  155   \n",
       "14935    SRR7912193  SAMN10141036  Taiwan  2014    1/2b   1567    5   \n",
       "14936    SRR7912192  SAMN10141035  Taiwan  2014    1/2b      9    5   \n",
       "\n",
       "                    ResistanceGene   Identifier          Host  \n",
       "0                        fosX, lin   MOD1_LS985           NaN  \n",
       "1                        fosX, lin  MOD1_LS1008           NaN  \n",
       "2                        fosX, lin   MOD1_LS982           NaN  \n",
       "3                        fosX, lin   MOD1_LS984           NaN  \n",
       "4                        fosX, lin   MOD1_LS988           NaN  \n",
       "...                            ...          ...           ...  \n",
       "14932  blaCTX-M, blaTEM, fosX, lin     R14.0396  Homo sapiens  \n",
       "14933                    fosX, lin     R14.0372  Homo sapiens  \n",
       "14934                    fosX, lin     R14.0254  Homo sapiens  \n",
       "14935                    fosX, lin     R14.0214  Homo sapiens  \n",
       "14936                    fosX, lin     R14.0043  Homo sapiens  \n",
       "\n",
       "[14937 rows x 10 columns]"
      ]
     },
     "execution_count": 14,
     "metadata": {},
     "output_type": "execute_result"
    }
   ],
   "source": [
    "metadata = pd.DataFrame(cursor)\n",
    "metadata"
   ]
  },
  {
   "cell_type": "code",
   "execution_count": 15,
   "id": "efa336b7-b644-408d-9087-c53277b1e560",
   "metadata": {},
   "outputs": [],
   "source": [
    "metadata = metadata[metadata['Year'].apply(lambda x: pd.isna(x) or x.isdigit())]"
   ]
  },
  {
   "cell_type": "code",
   "execution_count": 16,
   "id": "e1a61d0b-5e5c-4b43-89ca-3352dea16e93",
   "metadata": {},
   "outputs": [],
   "source": [
    "metadata.to_csv('/home/chen1i6c04/data/Lm_metadata.csv', index=False)"
   ]
  },
  {
   "cell_type": "code",
   "execution_count": null,
   "id": "3c5a5a35-cc16-4df5-82b8-c9d056e9109d",
   "metadata": {},
   "outputs": [],
   "source": []
  },
  {
   "cell_type": "code",
   "execution_count": 19,
   "id": "6dfba650-479e-48c6-a708-76695dc35010",
   "metadata": {},
   "outputs": [],
   "source": [
    "cursor = collettion.find({'NCBIAccession': {'$in': metadata['NCBIAccession'].to_list()}}, {'profile': 1, '_id': 0, 'NCBIAccession': 1})"
   ]
  },
  {
   "cell_type": "code",
   "execution_count": 20,
   "id": "3d304393-a8ef-43de-8d4c-8f665d8d67f3",
   "metadata": {},
   "outputs": [],
   "source": [
    "outpath = Path('/home/chen1i6c04/data')\n",
    "for document in cursor:\n",
    "    s = pd.Series(document['profile'])\n",
    "    s.index.name, s.name = 'locus_id', 'allele_id'\n",
    "    outfile = outpath/(document['NCBIAccession'] + '.tsv')\n",
    "    s.to_csv(outfile, sep='\\t')"
   ]
  },
  {
   "cell_type": "code",
   "execution_count": null,
   "id": "a1fc4842-0353-4c90-88e0-6fd4a0556de3",
   "metadata": {},
   "outputs": [],
   "source": []
  },
  {
   "cell_type": "code",
   "execution_count": 10,
   "id": "2efb6860-3466-44de-8f72-5c917dbfc0fc",
   "metadata": {},
   "outputs": [],
   "source": [
    "import json"
   ]
  },
  {
   "cell_type": "code",
   "execution_count": 22,
   "id": "a5fdd44e-b57a-40e4-8e12-3a05fd85bc74",
   "metadata": {},
   "outputs": [],
   "source": [
    "locus_tags = []\n",
    "with open('/media/GenomicResearch/Issue/Benga/Listeria_monocytogenes.faa') as handle:\n",
    "    for line in handle:\n",
    "        if line.startswith('>'):\n",
    "            locus_tags.append(line.strip().split()[0].replace('>', ''))"
   ]
  },
  {
   "cell_type": "code",
   "execution_count": 23,
   "id": "9a06314d-8fa8-4600-997e-44dfff74ec38",
   "metadata": {},
   "outputs": [],
   "source": [
    "description = dict()\n",
    "description['fields'] = metadata.columns.to_list()\n",
    "description['core_genome'] = locus_tags"
   ]
  },
  {
   "cell_type": "code",
   "execution_count": 26,
   "id": "c41c8e26-0f94-46cb-8ae2-8922b5351caa",
   "metadata": {},
   "outputs": [],
   "source": [
    "with open('/home/chen1i6c04/data/db.json', 'w') as f:\n",
    "    json.dump(description, f)"
   ]
  },
  {
   "cell_type": "code",
   "execution_count": null,
   "id": "90a5e37d-b349-4cfd-9225-01f5b0154454",
   "metadata": {},
   "outputs": [],
   "source": []
  }
 ],
 "metadata": {
  "kernelspec": {
   "display_name": "Python 3",
   "language": "python",
   "name": "python3"
  },
  "language_info": {
   "codemirror_mode": {
    "name": "ipython",
    "version": 3
   },
   "file_extension": ".py",
   "mimetype": "text/x-python",
   "name": "python",
   "nbconvert_exporter": "python",
   "pygments_lexer": "ipython3",
   "version": "3.6.13"
  }
 },
 "nbformat": 4,
 "nbformat_minor": 5
}
