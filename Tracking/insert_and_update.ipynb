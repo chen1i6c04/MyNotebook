{
 "cells": [
  {
   "cell_type": "code",
   "execution_count": 1,
   "metadata": {},
   "outputs": [],
   "source": [
    "from pathlib import Path\n",
    "import pandas as pd"
   ]
  },
  {
   "cell_type": "code",
   "execution_count": 2,
   "metadata": {},
   "outputs": [],
   "source": [
    "from pymongo import MongoClient"
   ]
  },
  {
   "cell_type": "code",
   "execution_count": 3,
   "metadata": {},
   "outputs": [],
   "source": [
    "client = MongoClient(host='203.65.72.120')"
   ]
  },
  {
   "cell_type": "code",
   "execution_count": 4,
   "metadata": {},
   "outputs": [
    {
     "data": {
      "text/plain": [
       "['Listeria_monocytogenes',\n",
       " 'Mycobacterium_tuberculosis_variant_bovis',\n",
       " 'Neisseria_meningitidis',\n",
       " 'Salmonella_enterica',\n",
       " 'Vibrio_cholerae',\n",
       " 'admin',\n",
       " 'config',\n",
       " 'local']"
      ]
     },
     "execution_count": 4,
     "metadata": {},
     "output_type": "execute_result"
    }
   ],
   "source": [
    "client.list_database_names()"
   ]
  },
  {
   "cell_type": "code",
   "execution_count": 5,
   "metadata": {},
   "outputs": [],
   "source": [
    "database = client['Neisseria_meningitidis']"
   ]
  },
  {
   "cell_type": "code",
   "execution_count": 6,
   "metadata": {},
   "outputs": [
    {
     "data": {
      "text/plain": [
       "['Sample_attribute', 'Description']"
      ]
     },
     "execution_count": 6,
     "metadata": {},
     "output_type": "execute_result"
    }
   ],
   "source": [
    "database.list_collection_names()"
   ]
  },
  {
   "cell_type": "code",
   "execution_count": 7,
   "metadata": {},
   "outputs": [],
   "source": [
    "collection = database['Sample_attribute']"
   ]
  },
  {
   "cell_type": "code",
   "execution_count": 9,
   "metadata": {},
   "outputs": [],
   "source": [
    "cursor = collection.find({})"
   ]
  },
  {
   "cell_type": "code",
   "execution_count": 25,
   "metadata": {},
   "outputs": [],
   "source": [
    "outpath = Path('/media/NGS/SRA_1/NCBI_Neisseria_meningitidis_SRA/Profile')\n",
    "for document in cursor:\n",
    "    s = pd.Series(document['profile'], name='allele_id')\n",
    "    s.index.name = 'locus_id'\n",
    "    s.to_csv(outpath/(document['NCBIAccession']+'.tsv'), sep='\\t')"
   ]
  },
  {
   "cell_type": "code",
   "execution_count": 72,
   "metadata": {},
   "outputs": [],
   "source": [
    "cursor = collection.find({}, {'profile': False, '_id': False})"
   ]
  },
  {
   "cell_type": "code",
   "execution_count": 73,
   "metadata": {},
   "outputs": [],
   "source": [
    "df = pd.DataFrame(list(cursor))"
   ]
  },
  {
   "cell_type": "code",
   "execution_count": 74,
   "metadata": {},
   "outputs": [
    {
     "data": {
      "text/html": [
       "<div>\n",
       "<style scoped>\n",
       "    .dataframe tbody tr th:only-of-type {\n",
       "        vertical-align: middle;\n",
       "    }\n",
       "\n",
       "    .dataframe tbody tr th {\n",
       "        vertical-align: top;\n",
       "    }\n",
       "\n",
       "    .dataframe thead th {\n",
       "        text-align: right;\n",
       "    }\n",
       "</style>\n",
       "<table border=\"1\" class=\"dataframe\">\n",
       "  <thead>\n",
       "    <tr style=\"text-align: right;\">\n",
       "      <th></th>\n",
       "      <th>Identifier</th>\n",
       "      <th>Resistance gene</th>\n",
       "      <th>ST</th>\n",
       "      <th>gyrA</th>\n",
       "      <th>parC</th>\n",
       "      <th>BioSample</th>\n",
       "      <th>Date</th>\n",
       "      <th>Country</th>\n",
       "      <th>Serovar_ori</th>\n",
       "      <th>Serovar_seq</th>\n",
       "      <th>Void_loci</th>\n",
       "      <th>Host</th>\n",
       "      <th>SourceSeq</th>\n",
       "      <th>Inc_type</th>\n",
       "    </tr>\n",
       "  </thead>\n",
       "  <tbody>\n",
       "    <tr>\n",
       "      <th>0</th>\n",
       "      <td>R15.2199</td>\n",
       "      <td>blaPSE, dfrA1, erm(42), floR, sul1, sul2, tet(G)</td>\n",
       "      <td>292</td>\n",
       "      <td>p.S83F</td>\n",
       "      <td>p.T57S</td>\n",
       "      <td>SAMN10425279</td>\n",
       "      <td>2015</td>\n",
       "      <td>Taiwan</td>\n",
       "      <td>Albany</td>\n",
       "      <td>Albany</td>\n",
       "      <td>8</td>\n",
       "      <td>Homo sapiens</td>\n",
       "      <td>SRR8189353</td>\n",
       "      <td>NaN</td>\n",
       "    </tr>\n",
       "    <tr>\n",
       "      <th>1</th>\n",
       "      <td>R15.2267</td>\n",
       "      <td>blaPSE, dfrA1, floR, sul1, tet(G)</td>\n",
       "      <td>292</td>\n",
       "      <td>p.S83F</td>\n",
       "      <td>p.T57S</td>\n",
       "      <td>SAMN10425280</td>\n",
       "      <td>2015</td>\n",
       "      <td>Taiwan</td>\n",
       "      <td>Albany</td>\n",
       "      <td>Albany</td>\n",
       "      <td>6</td>\n",
       "      <td>Homo sapiens</td>\n",
       "      <td>SRR8189354</td>\n",
       "      <td>ColpVC</td>\n",
       "    </tr>\n",
       "    <tr>\n",
       "      <th>2</th>\n",
       "      <td>R15.2725</td>\n",
       "      <td>blaPSE, dfrA1, erm(42), floR, mcr-1, sul1, sul...</td>\n",
       "      <td>292</td>\n",
       "      <td>p.S83F</td>\n",
       "      <td>p.T57S</td>\n",
       "      <td>SAMN10425282</td>\n",
       "      <td>2015</td>\n",
       "      <td>Taiwan</td>\n",
       "      <td>Albany</td>\n",
       "      <td>Albany</td>\n",
       "      <td>10</td>\n",
       "      <td>Homo sapiens</td>\n",
       "      <td>SRR8189364</td>\n",
       "      <td>Col440I, IncI2(Delta)</td>\n",
       "    </tr>\n",
       "    <tr>\n",
       "      <th>3</th>\n",
       "      <td>R16.0431</td>\n",
       "      <td>blaPSE, dfrA1, erm(42), floR, sul1, sul2, tet(G)</td>\n",
       "      <td>292</td>\n",
       "      <td>p.S83F</td>\n",
       "      <td>p.T57S</td>\n",
       "      <td>SAMN15944976</td>\n",
       "      <td>2015</td>\n",
       "      <td>Taiwan</td>\n",
       "      <td>Albany</td>\n",
       "      <td>Albany</td>\n",
       "      <td>8</td>\n",
       "      <td>Pig</td>\n",
       "      <td>SRR12549528</td>\n",
       "      <td>NaN</td>\n",
       "    </tr>\n",
       "    <tr>\n",
       "      <th>4</th>\n",
       "      <td>R16.0556</td>\n",
       "      <td>blaPSE, dfrA1, erm(42), floR, sul1, sul2, tet(G)</td>\n",
       "      <td>292</td>\n",
       "      <td>p.S83F</td>\n",
       "      <td>p.T57S</td>\n",
       "      <td>SAMN15944967</td>\n",
       "      <td>2015</td>\n",
       "      <td>Taiwan</td>\n",
       "      <td>Albany</td>\n",
       "      <td>Albany</td>\n",
       "      <td>8</td>\n",
       "      <td>Chicken</td>\n",
       "      <td>SRR12549527</td>\n",
       "      <td>NaN</td>\n",
       "    </tr>\n",
       "  </tbody>\n",
       "</table>\n",
       "</div>"
      ],
      "text/plain": [
       "  Identifier                                    Resistance gene   ST    gyrA  \\\n",
       "0   R15.2199   blaPSE, dfrA1, erm(42), floR, sul1, sul2, tet(G)  292  p.S83F   \n",
       "1   R15.2267                  blaPSE, dfrA1, floR, sul1, tet(G)  292  p.S83F   \n",
       "2   R15.2725  blaPSE, dfrA1, erm(42), floR, mcr-1, sul1, sul...  292  p.S83F   \n",
       "3   R16.0431   blaPSE, dfrA1, erm(42), floR, sul1, sul2, tet(G)  292  p.S83F   \n",
       "4   R16.0556   blaPSE, dfrA1, erm(42), floR, sul1, sul2, tet(G)  292  p.S83F   \n",
       "\n",
       "     parC     BioSample  Date Country Serovar_ori Serovar_seq Void_loci  \\\n",
       "0  p.T57S  SAMN10425279  2015  Taiwan      Albany      Albany         8   \n",
       "1  p.T57S  SAMN10425280  2015  Taiwan      Albany      Albany         6   \n",
       "2  p.T57S  SAMN10425282  2015  Taiwan      Albany      Albany        10   \n",
       "3  p.T57S  SAMN15944976  2015  Taiwan      Albany      Albany         8   \n",
       "4  p.T57S  SAMN15944967  2015  Taiwan      Albany      Albany         8   \n",
       "\n",
       "           Host    SourceSeq               Inc_type  \n",
       "0  Homo sapiens   SRR8189353                    NaN  \n",
       "1  Homo sapiens   SRR8189354                 ColpVC  \n",
       "2  Homo sapiens   SRR8189364  Col440I, IncI2(Delta)  \n",
       "3           Pig  SRR12549528                    NaN  \n",
       "4       Chicken  SRR12549527                    NaN  "
      ]
     },
     "execution_count": 74,
     "metadata": {},
     "output_type": "execute_result"
    }
   ],
   "source": [
    "df.head()"
   ]
  },
  {
   "cell_type": "code",
   "execution_count": 75,
   "metadata": {},
   "outputs": [],
   "source": [
    "df.to_csv('Salmonella_enterica_track_metadata.csv', index=False)"
   ]
  },
  {
   "cell_type": "code",
   "execution_count": null,
   "metadata": {},
   "outputs": [],
   "source": []
  },
  {
   "cell_type": "code",
   "execution_count": 30,
   "metadata": {},
   "outputs": [],
   "source": [
    "metadata = pd.read_csv('/home/chen1i6c04/notebook/20200922_S.Goldcoast_track/Metadata.csv', dtype=object)"
   ]
  },
  {
   "cell_type": "code",
   "execution_count": 24,
   "metadata": {},
   "outputs": [
    {
     "data": {
      "text/plain": [
       "{'gyrA'}"
      ]
     },
     "execution_count": 24,
     "metadata": {},
     "output_type": "execute_result"
    }
   ],
   "source": [
    "set(df.columns) - set(metadata.columns)"
   ]
  },
  {
   "cell_type": "code",
   "execution_count": 32,
   "metadata": {},
   "outputs": [],
   "source": [
    "dirpath = Path('/media/NGS/SRA_1/NCBI_Salmonella_enterica_serovar_Goldcoast_SRA/Profile')"
   ]
  },
  {
   "cell_type": "code",
   "execution_count": 35,
   "metadata": {},
   "outputs": [],
   "source": [
    "documents = []\n",
    "for _, row in metadata.iterrows():\n",
    "    uid = row['Source']\n",
    "    document = row.dropna().to_dict()\n",
    "    for i in dirpath.iterdir():\n",
    "        if i.stem == uid:\n",
    "            pf = pd.read_csv(i, sep='\\t', index_col=0)\n",
    "            pf = pf.iloc[:, 0].to_dict()\n",
    "            document['profile'] = pf\n",
    "            documents.append(document)"
   ]
  },
  {
   "cell_type": "code",
   "execution_count": 38,
   "metadata": {},
   "outputs": [
    {
     "data": {
      "text/plain": [
       "<pymongo.results.InsertManyResult at 0x7fbea68354c8>"
      ]
     },
     "execution_count": 38,
     "metadata": {},
     "output_type": "execute_result"
    }
   ],
   "source": [
    "collection.insert_many(documents=documents)"
   ]
  },
  {
   "cell_type": "code",
   "execution_count": 36,
   "metadata": {},
   "outputs": [],
   "source": [
    "from bson import objectid"
   ]
  },
  {
   "cell_type": "code",
   "execution_count": 32,
   "metadata": {},
   "outputs": [],
   "source": [
    "collection = database['metadata_cols']"
   ]
  },
  {
   "cell_type": "code",
   "execution_count": 38,
   "metadata": {},
   "outputs": [
    {
     "data": {
      "text/plain": [
       "{'_id': ObjectId('5f640ff05827d7fa536a8a0e'),\n",
       " 'template': ['Distance (loci)',\n",
       "  'SourceSeq',\n",
       "  'BioSample',\n",
       "  'Identifier',\n",
       "  'Serovar_ori',\n",
       "  'Serovar_seq',\n",
       "  'Date',\n",
       "  'Country',\n",
       "  'ST',\n",
       "  'Host',\n",
       "  'Inc_type',\n",
       "  'gyrA',\n",
       "  'parC',\n",
       "  'Resistance gene',\n",
       "  'Void_loci']}"
      ]
     },
     "execution_count": 38,
     "metadata": {},
     "output_type": "execute_result"
    }
   ],
   "source": [
    "collection.find_one()"
   ]
  },
  {
   "cell_type": "code",
   "execution_count": 29,
   "metadata": {},
   "outputs": [],
   "source": [
    "document = {'template': [\n",
    "    'Distance (loci)', 'SourceSeq', 'BioSample', 'Identifier', 'Serovar_ori', 'Serovar_seq', 'Date',\n",
    "    'Country', 'ST', 'Host', 'Inc_type', 'gyrA', 'parC', 'Resistance gene', 'Void_loci']}"
   ]
  },
  {
   "cell_type": "code",
   "execution_count": 34,
   "metadata": {},
   "outputs": [
    {
     "data": {
      "text/plain": [
       "{'template': ['Distance (loci)',\n",
       "  'SourceSeq',\n",
       "  'BioSample',\n",
       "  'Identifier',\n",
       "  'Serovar_ori',\n",
       "  'Serovar_seq',\n",
       "  'Date',\n",
       "  'Country',\n",
       "  'ST',\n",
       "  'Host',\n",
       "  'Inc_type',\n",
       "  'gyrA',\n",
       "  'parC',\n",
       "  'Resistance gene',\n",
       "  'Void_loci']}"
      ]
     },
     "execution_count": 34,
     "metadata": {},
     "output_type": "execute_result"
    }
   ],
   "source": [
    "document"
   ]
  },
  {
   "cell_type": "code",
   "execution_count": 37,
   "metadata": {},
   "outputs": [
    {
     "data": {
      "text/plain": [
       "<pymongo.results.UpdateResult at 0x7ff4f4c8fe88>"
      ]
     },
     "execution_count": 37,
     "metadata": {},
     "output_type": "execute_result"
    }
   ],
   "source": [
    "collection.update_one(\n",
    "    {'_id': objectid.ObjectId('5f640ff05827d7fa536a8a0e')},\n",
    "    {'$set': document}\n",
    ")"
   ]
  },
  {
   "cell_type": "code",
   "execution_count": 39,
   "metadata": {},
   "outputs": [],
   "source": [
    "client.close()"
   ]
  },
  {
   "cell_type": "code",
   "execution_count": null,
   "metadata": {},
   "outputs": [],
   "source": []
  }
 ],
 "metadata": {
  "kernelspec": {
   "display_name": "Python 3",
   "language": "python",
   "name": "python3"
  },
  "language_info": {
   "codemirror_mode": {
    "name": "ipython",
    "version": 3
   },
   "file_extension": ".py",
   "mimetype": "text/x-python",
   "name": "python",
   "nbconvert_exporter": "python",
   "pygments_lexer": "ipython3",
   "version": "3.6.12"
  }
 },
 "nbformat": 4,
 "nbformat_minor": 4
}
