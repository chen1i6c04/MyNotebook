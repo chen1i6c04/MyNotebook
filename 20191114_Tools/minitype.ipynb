{
 "cells": [
  {
   "cell_type": "code",
   "execution_count": 2,
   "id": "6b39cc13",
   "metadata": {},
   "outputs": [],
   "source": [
    "import os\n",
    "import sys\n",
    "from pathlib import Path\n",
    "from collections import defaultdict\n",
    "from multiprocessing import Pool\n",
    "from Bio import SeqIO\n",
    "\n",
    "sys.path.append('../src')\n",
    "from utils import run_cmd"
   ]
  },
  {
   "cell_type": "code",
   "execution_count": 37,
   "id": "a34a1c91",
   "metadata": {},
   "outputs": [
    {
     "data": {
      "text/plain": [
       "'python MINTyper.py -i_path_assemblies /media/NGS/Data_Analysis/20201221_hybrid_and_denovo/Unicycler/Contigs -ref /media/NGS/Sequence/Listeria_monocytogenes/NC_003210.1_chr.fasta -thread 8 -o /media/NGS/Data_Analysis/20201221_hybrid_and_denovo/Unicycler/Mintype -masking_scheme /media/NGS/Data_Analysis/CGE/mintyper/dcmMethylations'"
      ]
     },
     "execution_count": 37,
     "metadata": {},
     "output_type": "execute_result"
    }
   ],
   "source": [
    "in_path = \"/media/NGS/Data_Analysis/20201221_hybrid_and_denovo/Unicycler/Contigs\"\n",
    "out_path = \"/media/NGS/Data_Analysis/20201221_hybrid_and_denovo/Unicycler/Mintype\"\n",
    "masking_scheme = \"/media/NGS/Data_Analysis/CGE/mintyper/dcmMethylations\"\n",
    "reference = \"/media/NGS/Sequence/Listeria_monocytogenes/NC_003210.1_chr.fasta\"\n",
    "f\"python MINTyper.py -i_path_assemblies {in_path} -ref {reference} -thread 8 -o {out_path} -masking_scheme {masking_scheme}\""
   ]
  },
  {
   "cell_type": "code",
   "execution_count": null,
   "id": "cbfe09a4",
   "metadata": {},
   "outputs": [],
   "source": []
  },
  {
   "cell_type": "code",
   "execution_count": null,
   "id": "2a2937e8",
   "metadata": {},
   "outputs": [],
   "source": []
  },
  {
   "cell_type": "code",
   "execution_count": 11,
   "id": "487a1a98",
   "metadata": {},
   "outputs": [],
   "source": [
    "masking_scheme = '/media/NGS/Data_Analysis/CGE/mintyper/dcmMethylations'\n",
    "target_dir = '/media/NGS/Data_Analysis/20210803_wgSNP_in_nanopore/MinType/Nanopore_vs_Illumina'\n",
    "mapping_dir = os.path.join(target_dir, 'DataFiles', '*.fsa')\n",
    "distmatrix = os.path.join(target_dir, 'distmatrix.txt')\n",
    "newick_tree = os.path.join(target_dir, 'outtree.newick')"
   ]
  },
  {
   "cell_type": "code",
   "execution_count": 12,
   "id": "76f8d36f",
   "metadata": {},
   "outputs": [
    {
     "name": "stdout",
     "output_type": "stream",
     "text": [
      "# 3699013 / 4685848 bases included in distance matrix.\n"
     ]
    }
   ],
   "source": [
    "!ccphylo dist -i {mapping_dir} -o {distmatrix} -m {masking_scheme} -mc 1 -nm 0 -r contatnateUserChosenDraftGenome"
   ]
  },
  {
   "cell_type": "code",
   "execution_count": 17,
   "id": "33cc4b23",
   "metadata": {},
   "outputs": [
    {
     "name": "stdout",
     "output_type": "stream",
     "text": [
      "# 2500146 / 2944528 bases included in distance matrix.\n"
     ]
    }
   ],
   "source": [
    "file_1 = '/media/NGS/Nanopore_1/20200925/mintyper/nanopore/DataFiles/R20-0026.fastq.gz_mapping_results.fsa'\n",
    "file_2 = '/media/NGS/Nanopore_1/20200925/mintyper/nanopore/DataFiles/R20-0127.fastq.gz_mapping_results.fsa'\n",
    "file_3 = '/media/NGS/Nanopore_1/20200925/mintyper/nanopore/DataFiles/R20-0148.fastq.gz_mapping_results.fsa'\n",
    "file_4 = '/media/NGS/Nanopore_1/20200925/mintyper/nanopore/DataFiles/R20-0150.fastq.gz_mapping_results.fsa'\n",
    "distmatrix = '/media/NGS/Data_Analysis/20201221_hybrid_and_denovo/Denovo/Mintype/distmatrix.phy'\n",
    "!ccphylo dist -i {file_1} {file_2} {file_3} {file_4} -o {distmatrix} -m {masking_scheme} -mc 1 -nm 0 -r contatnateUserChosenDraftGenome"
   ]
  },
  {
   "cell_type": "code",
   "execution_count": 107,
   "id": "c4f2ad9c",
   "metadata": {},
   "outputs": [],
   "source": [
    "!ccphylo tree -i {distmatrix} -o {newick_tree}"
   ]
  },
  {
   "cell_type": "code",
   "execution_count": null,
   "id": "8397a13d",
   "metadata": {},
   "outputs": [],
   "source": []
  },
  {
   "cell_type": "code",
   "execution_count": 5,
   "id": "11d6b592",
   "metadata": {},
   "outputs": [],
   "source": [
    "import re\n",
    "from io import StringIO\n",
    "import pandas as pd"
   ]
  },
  {
   "cell_type": "code",
   "execution_count": 54,
   "id": "39b1ed78",
   "metadata": {},
   "outputs": [],
   "source": [
    "matrix_file = '/media/NGS/Data_Analysis/20201221_hybrid_and_denovo/Raw/Mintype/distmatrix.phy'"
   ]
  },
  {
   "cell_type": "code",
   "execution_count": 55,
   "id": "6fb024ba",
   "metadata": {},
   "outputs": [],
   "source": [
    "data = []\n",
    "sample_names = []\n",
    "with open(matrix_file) as f:\n",
    "    next(f)\n",
    "    for line in f:\n",
    "        values = line.strip().split()\n",
    "        currect_sample, dists = values[0], values[1:]\n",
    "        for sample_name, dist in zip(sample_names, dists):\n",
    "            data.append((currect_sample, sample_name, dist))\n",
    "            data.append((sample_name, currect_sample, dist))\n",
    "        data.append((currect_sample, currect_sample, 0))\n",
    "        sample_names.append(currect_sample)"
   ]
  },
  {
   "cell_type": "code",
   "execution_count": 56,
   "id": "029666f8",
   "metadata": {},
   "outputs": [],
   "source": [
    "# prog = re.compile('^R[0-9]+-[0-9]+|^(\\w+)')\n",
    "prog = re.compile('^R[0-9]+-[0-9]+#[a-z]+')"
   ]
  },
  {
   "cell_type": "code",
   "execution_count": 57,
   "id": "c3ace343",
   "metadata": {},
   "outputs": [],
   "source": [
    "df = pd.DataFrame(data)\n",
    "df = df.pivot(index=0, columns=1, values=2).astype(int)"
   ]
  },
  {
   "cell_type": "code",
   "execution_count": 58,
   "id": "cbbe6bd5",
   "metadata": {},
   "outputs": [
    {
     "data": {
      "text/html": [
       "<div>\n",
       "<style scoped>\n",
       "    .dataframe tbody tr th:only-of-type {\n",
       "        vertical-align: middle;\n",
       "    }\n",
       "\n",
       "    .dataframe tbody tr th {\n",
       "        vertical-align: top;\n",
       "    }\n",
       "\n",
       "    .dataframe thead th {\n",
       "        text-align: right;\n",
       "    }\n",
       "</style>\n",
       "<table border=\"1\" class=\"dataframe\">\n",
       "  <thead>\n",
       "    <tr style=\"text-align: right;\">\n",
       "      <th></th>\n",
       "      <th>R20-0026#illumina</th>\n",
       "      <th>R20-0026#nanopore</th>\n",
       "      <th>R20-0127#illumina</th>\n",
       "      <th>R20-0127#nanopore</th>\n",
       "      <th>R20-0148#illumina</th>\n",
       "      <th>R20-0148#nanopore</th>\n",
       "      <th>R20-0150#illumina</th>\n",
       "      <th>R20-0150#nanopore</th>\n",
       "    </tr>\n",
       "  </thead>\n",
       "  <tbody>\n",
       "    <tr>\n",
       "      <th>R20-0026#illumina</th>\n",
       "      <td>0</td>\n",
       "      <td>79</td>\n",
       "      <td>84774</td>\n",
       "      <td>84544</td>\n",
       "      <td>84775</td>\n",
       "      <td>84545</td>\n",
       "      <td>84774</td>\n",
       "      <td>84544</td>\n",
       "    </tr>\n",
       "    <tr>\n",
       "      <th>R20-0026#nanopore</th>\n",
       "      <td>79</td>\n",
       "      <td>0</td>\n",
       "      <td>84751</td>\n",
       "      <td>84489</td>\n",
       "      <td>84752</td>\n",
       "      <td>84490</td>\n",
       "      <td>84751</td>\n",
       "      <td>84489</td>\n",
       "    </tr>\n",
       "    <tr>\n",
       "      <th>R20-0127#illumina</th>\n",
       "      <td>84774</td>\n",
       "      <td>84751</td>\n",
       "      <td>0</td>\n",
       "      <td>385</td>\n",
       "      <td>11</td>\n",
       "      <td>396</td>\n",
       "      <td>18</td>\n",
       "      <td>400</td>\n",
       "    </tr>\n",
       "    <tr>\n",
       "      <th>R20-0127#nanopore</th>\n",
       "      <td>84544</td>\n",
       "      <td>84489</td>\n",
       "      <td>385</td>\n",
       "      <td>0</td>\n",
       "      <td>396</td>\n",
       "      <td>11</td>\n",
       "      <td>400</td>\n",
       "      <td>16</td>\n",
       "    </tr>\n",
       "    <tr>\n",
       "      <th>R20-0148#illumina</th>\n",
       "      <td>84775</td>\n",
       "      <td>84752</td>\n",
       "      <td>11</td>\n",
       "      <td>396</td>\n",
       "      <td>0</td>\n",
       "      <td>385</td>\n",
       "      <td>19</td>\n",
       "      <td>401</td>\n",
       "    </tr>\n",
       "    <tr>\n",
       "      <th>R20-0148#nanopore</th>\n",
       "      <td>84545</td>\n",
       "      <td>84490</td>\n",
       "      <td>396</td>\n",
       "      <td>11</td>\n",
       "      <td>385</td>\n",
       "      <td>0</td>\n",
       "      <td>401</td>\n",
       "      <td>17</td>\n",
       "    </tr>\n",
       "    <tr>\n",
       "      <th>R20-0150#illumina</th>\n",
       "      <td>84774</td>\n",
       "      <td>84751</td>\n",
       "      <td>18</td>\n",
       "      <td>400</td>\n",
       "      <td>19</td>\n",
       "      <td>401</td>\n",
       "      <td>0</td>\n",
       "      <td>384</td>\n",
       "    </tr>\n",
       "    <tr>\n",
       "      <th>R20-0150#nanopore</th>\n",
       "      <td>84544</td>\n",
       "      <td>84489</td>\n",
       "      <td>400</td>\n",
       "      <td>16</td>\n",
       "      <td>401</td>\n",
       "      <td>17</td>\n",
       "      <td>384</td>\n",
       "      <td>0</td>\n",
       "    </tr>\n",
       "  </tbody>\n",
       "</table>\n",
       "</div>"
      ],
      "text/plain": [
       "                   R20-0026#illumina  R20-0026#nanopore  R20-0127#illumina  \\\n",
       "R20-0026#illumina                  0                 79              84774   \n",
       "R20-0026#nanopore                 79                  0              84751   \n",
       "R20-0127#illumina              84774              84751                  0   \n",
       "R20-0127#nanopore              84544              84489                385   \n",
       "R20-0148#illumina              84775              84752                 11   \n",
       "R20-0148#nanopore              84545              84490                396   \n",
       "R20-0150#illumina              84774              84751                 18   \n",
       "R20-0150#nanopore              84544              84489                400   \n",
       "\n",
       "                   R20-0127#nanopore  R20-0148#illumina  R20-0148#nanopore  \\\n",
       "R20-0026#illumina              84544              84775              84545   \n",
       "R20-0026#nanopore              84489              84752              84490   \n",
       "R20-0127#illumina                385                 11                396   \n",
       "R20-0127#nanopore                  0                396                 11   \n",
       "R20-0148#illumina                396                  0                385   \n",
       "R20-0148#nanopore                 11                385                  0   \n",
       "R20-0150#illumina                400                 19                401   \n",
       "R20-0150#nanopore                 16                401                 17   \n",
       "\n",
       "                   R20-0150#illumina  R20-0150#nanopore  \n",
       "R20-0026#illumina              84774              84544  \n",
       "R20-0026#nanopore              84751              84489  \n",
       "R20-0127#illumina                 18                400  \n",
       "R20-0127#nanopore                400                 16  \n",
       "R20-0148#illumina                 19                401  \n",
       "R20-0148#nanopore                401                 17  \n",
       "R20-0150#illumina                  0                384  \n",
       "R20-0150#nanopore                384                  0  "
      ]
     },
     "execution_count": 58,
     "metadata": {},
     "output_type": "execute_result"
    }
   ],
   "source": [
    "df.index = list(map(lambda x: prog.search(x).group(0), df.index))\n",
    "df.columns = list(map(lambda x: prog.search(x).group(0), df.columns))\n",
    "df"
   ]
  },
  {
   "cell_type": "code",
   "execution_count": null,
   "id": "cd39208d",
   "metadata": {},
   "outputs": [],
   "source": []
  },
  {
   "cell_type": "code",
   "execution_count": 26,
   "id": "1054b924",
   "metadata": {},
   "outputs": [],
   "source": [
    "from tree import Dendrogram"
   ]
  },
  {
   "cell_type": "code",
   "execution_count": 67,
   "id": "dd261e48",
   "metadata": {},
   "outputs": [],
   "source": [
    "dendrogram = Dendrogram(df)\n",
    "dendrogram(show_node_info=True, xlim=500)"
   ]
  },
  {
   "cell_type": "code",
   "execution_count": 68,
   "id": "874686fc",
   "metadata": {},
   "outputs": [
    {
     "data": {
      "image/png": "[encoded data removed]",
      "text/plain": [
       "<Figure size 720x172.8 with 1 Axes>"
      ]
     },
     "execution_count": 68,
     "metadata": {},
     "output_type": "execute_result"
    }
   ],
   "source": [
    "dendrogram.show_figure"
   ]
  },
  {
   "cell_type": "code",
   "execution_count": 69,
   "id": "007e509d",
   "metadata": {},
   "outputs": [],
   "source": [
    "dendrogram.savefig('/media/NGS/Data_Analysis/20201221_hybrid_and_denovo/Raw/Mintype/partial_tree.pdf')"
   ]
  },
  {
   "cell_type": "code",
   "execution_count": null,
   "id": "3bb6d145",
   "metadata": {},
   "outputs": [],
   "source": []
  }
 ],
 "metadata": {
  "kernelspec": {
   "display_name": "Python 3",
   "language": "python",
   "name": "python3"
  },
  "language_info": {
   "codemirror_mode": {
    "name": "ipython",
    "version": 3
   },
   "file_extension": ".py",
   "mimetype": "text/x-python",
   "name": "python",
   "nbconvert_exporter": "python",
   "pygments_lexer": "ipython3",
   "version": "3.6.12"
  }
 },
 "nbformat": 4,
 "nbformat_minor": 5
}
