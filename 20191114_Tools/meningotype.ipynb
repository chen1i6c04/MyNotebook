{
 "cells": [
  {
   "cell_type": "code",
   "execution_count": 14,
   "metadata": {},
   "outputs": [],
   "source": [
    "import os\n",
    "from io import BytesIO\n",
    "from pathlib import Path\n",
    "from multiprocessing import Pool\n",
    "\n",
    "import pandas as pd"
   ]
  },
  {
   "cell_type": "code",
   "execution_count": 2,
   "metadata": {},
   "outputs": [],
   "source": [
    "import sys\n",
    "sys.path.append('../src')\n",
    "from utils import run_cmd"
   ]
  },
  {
   "cell_type": "code",
   "execution_count": 4,
   "metadata": {},
   "outputs": [],
   "source": [
    "def fn(filepath, outfile):\n",
    "    cmd = f\"conda run -n meningotype meningotype --finetype --porB --bast {filepath}\"\n",
    "    p = run_cmd(cmd)\n",
    "    df = pd.read_csv(BytesIO(p.stdout), sep='\\t')\n",
    "    df.to_csv(outfile, sep='\\t', index=False)"
   ]
  },
  {
   "cell_type": "code",
   "execution_count": 5,
   "metadata": {},
   "outputs": [],
   "source": [
    "fn('/media/NGS/Sequence/Neisseria_meningitidis/Filter/GCA_000009105.1.fna',\n",
    "   '/media/NGS/Sequence/Neisseria_meningitidis/meningotype/GCA_000009105.1.txt')"
   ]
  },
  {
   "cell_type": "code",
   "execution_count": null,
   "metadata": {},
   "outputs": [],
   "source": []
  },
  {
   "cell_type": "code",
   "execution_count": 38,
   "metadata": {},
   "outputs": [],
   "source": [
    "dirpath = Path('/media/NGS/Sequence/Neisseria_meningitidis/Filter')\n",
    "outpath = Path('/media/NGS/Sequence/Neisseria_meningitidis/meningotype')"
   ]
  },
  {
   "cell_type": "code",
   "execution_count": 39,
   "metadata": {},
   "outputs": [],
   "source": [
    "with Pool(32) as p:\n",
    "    try:\n",
    "        for filepath in dirpath.iterdir():\n",
    "            outfile = outpath/(filepath.stem + '.txt')\n",
    "            p.apply_async(fn, (filepath, outfile))\n",
    "        p.close()\n",
    "        p.join()\n",
    "    except KeyboardInterrupt:\n",
    "        p.terminate()"
   ]
  },
  {
   "cell_type": "code",
   "execution_count": null,
   "metadata": {},
   "outputs": [],
   "source": []
  },
  {
   "cell_type": "code",
   "execution_count": 48,
   "metadata": {},
   "outputs": [],
   "source": [
    "dirpath = Path('/media/NGS/SRA_1/NCBI_Neisseria_meningitidis_SRA/meningotype')"
   ]
  },
  {
   "cell_type": "code",
   "execution_count": 49,
   "metadata": {},
   "outputs": [],
   "source": [
    "df = pd.concat(pd.read_csv(filepath, sep='\\t') for filepath in dirpath.iterdir())\n",
    "df.index = df['SAMPLE_ID'].apply(lambda x: Path(x).stem)\n",
    "df = df.drop(['SAMPLE_ID', 'MLST'], axis=1)\n",
    "df = df[df['SEROGROUP'] != 'ERROR: Check file exists and is in FASTA nucleotide format.']"
   ]
  },
  {
   "cell_type": "code",
   "execution_count": 50,
   "metadata": {},
   "outputs": [],
   "source": [
    "df.to_csv('/media/NGS/SRA_1/NCBI_Neisseria_meningitidis_SRA/meningotype.tsv', sep='\\t')"
   ]
  },
  {
   "cell_type": "code",
   "execution_count": null,
   "metadata": {},
   "outputs": [],
   "source": []
  }
 ],
 "metadata": {
  "kernelspec": {
   "display_name": "Python 3",
   "language": "python",
   "name": "python3"
  },
  "language_info": {
   "codemirror_mode": {
    "name": "ipython",
    "version": 3
   },
   "file_extension": ".py",
   "mimetype": "text/x-python",
   "name": "python",
   "nbconvert_exporter": "python",
   "pygments_lexer": "ipython3",
   "version": "3.6.12"
  }
 },
 "nbformat": 4,
 "nbformat_minor": 4
}
