{
 "cells": [
  {
   "cell_type": "code",
   "execution_count": 1,
   "metadata": {},
   "outputs": [],
   "source": [
    "import os\n",
    "from pathlib import Path\n",
    "from collections import defaultdict\n",
    "from concurrent.futures import ProcessPoolExecutor\n",
    "\n",
    "import pandas as pd\n",
    "from Bio.Application import AbstractCommandline, _Option, _Switch"
   ]
  },
  {
   "cell_type": "code",
   "execution_count": 2,
   "metadata": {},
   "outputs": [],
   "source": [
    "class SeqSeroCommandline(AbstractCommandline):\n",
    "    def __init__(self, cmd, **kwargs):\n",
    "        self.parameters = [\n",
    "            _Option(\n",
    "                ['-i', 'i'], '', equate=False), \n",
    "            _Option(\n",
    "                ['-d', 'd'], '', equate=False),\n",
    "            _Option(\n",
    "                ['-t', 't'], '', equate=False),\n",
    "            _Option(\n",
    "                ['-p', 'p'], '', equate=False),\n",
    "            _Option(\n",
    "                ['-m', 'm'],\n",
    "                \"which workflow to apply, 'a'(raw reads allele \\\n",
    "                micro-assembly), 'k'(raw reads and genome assembly k-mer),\\\n",
    "                default=a\", equate=False),\n",
    "        ]\n",
    "        AbstractCommandline.__init__(self, cmd, **kwargs)"
   ]
  },
  {
   "cell_type": "code",
   "execution_count": 3,
   "metadata": {},
   "outputs": [],
   "source": [
    "def fn(**kwargs):\n",
    "    cline = SeqSeroCommandline(cmd='/home/chen1i6c04/Tools/SeqSero2-1.1.1/bin/SeqSero2_package.py', **kwargs)\n",
    "    cline()"
   ]
  },
  {
   "cell_type": "code",
   "execution_count": 4,
   "metadata": {},
   "outputs": [],
   "source": [
    "dirpath = Path(\"/media/NGS/SRA_1/NCBI_Salmonella_enterica_serovar_Goldcoast_SRA/Contigs\")\n",
    "outpath = Path(\"/media/NGS/SRA_1/NCBI_Salmonella_enterica_serovar_Goldcoast_SRA/SeqSero\")\n",
    "\n",
    "pairwise = defaultdict(list)\n",
    "\n",
    "for i in dirpath.iterdir():\n",
    "    prefix = i.stem\n",
    "    pairwise[prefix].append(i.as_posix())"
   ]
  },
  {
   "cell_type": "code",
   "execution_count": 6,
   "metadata": {},
   "outputs": [],
   "source": [
    "with ProcessPoolExecutor(24) as executor:\n",
    "    for prefix, seqfiles in pairwise.items():\n",
    "        outdir = outpath/prefix\n",
    "        os.makedirs(outdir, exist_ok=True)\n",
    "        executor.submit(fn, i=' '.join(seqfiles), d=outdir, p=8, t=4, m='k')"
   ]
  },
  {
   "cell_type": "code",
   "execution_count": 7,
   "metadata": {},
   "outputs": [],
   "source": [
    "dirPath = Path('/media/NGS/SRA_1/NCBI_Salmonella_enterica_serovar_Goldcoast_SRA/SeqSero')"
   ]
  },
  {
   "cell_type": "code",
   "execution_count": 8,
   "metadata": {},
   "outputs": [],
   "source": [
    "usecols = ['Sample name', 'Predicted antigenic profile', 'Predicted serotype']"
   ]
  },
  {
   "cell_type": "code",
   "execution_count": 9,
   "metadata": {},
   "outputs": [],
   "source": [
    "pfs = []\n",
    "for i in dirPath.iterdir():\n",
    "    pf = pd.read_csv(i/\"SeqSero_result.tsv\", sep='\\t', usecols=usecols)\n",
    "    pfs.append(pf)"
   ]
  },
  {
   "cell_type": "code",
   "execution_count": 10,
   "metadata": {},
   "outputs": [],
   "source": [
    "profile = pd.concat(pfs)"
   ]
  },
  {
   "cell_type": "code",
   "execution_count": 11,
   "metadata": {},
   "outputs": [],
   "source": [
    "profile['Sample name'] = [Path(i).stem for i in profile['Sample name']]"
   ]
  },
  {
   "cell_type": "code",
   "execution_count": 12,
   "metadata": {},
   "outputs": [],
   "source": [
    "profile.to_csv('/media/NGS/SRA_1/NCBI_Salmonella_enterica_serovar_Goldcoast_SRA/SeqSero.csv', index=False)"
   ]
  },
  {
   "cell_type": "code",
   "execution_count": null,
   "metadata": {},
   "outputs": [],
   "source": []
  }
 ],
 "metadata": {
  "kernelspec": {
   "display_name": "Python 3",
   "language": "python",
   "name": "python3"
  },
  "language_info": {
   "codemirror_mode": {
    "name": "ipython",
    "version": 3
   },
   "file_extension": ".py",
   "mimetype": "text/x-python",
   "name": "python",
   "nbconvert_exporter": "python",
   "pygments_lexer": "ipython3",
   "version": "3.6.11"
  }
 },
 "nbformat": 4,
 "nbformat_minor": 4
}
