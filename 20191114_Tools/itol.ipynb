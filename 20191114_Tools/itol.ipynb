{
 "cells": [
  {
   "cell_type": "code",
   "execution_count": 2,
   "id": "c2355d7b-4444-418f-98d3-d37fb0c48fab",
   "metadata": {},
   "outputs": [],
   "source": [
    "from pathlib import Path\n",
    "import pandas as pd"
   ]
  },
  {
   "cell_type": "code",
   "execution_count": 3,
   "id": "1878b3a1-5c5f-4589-89b0-1526745da4ab",
   "metadata": {},
   "outputs": [],
   "source": [
    "dirpath = Path('/media/Central_Lab_Storage/bo-han/Database/Burkholderia_cenocepacia/Dereplication')\n",
    "accs = set(i.stem for i in dirpath.iterdir())"
   ]
  },
  {
   "cell_type": "code",
   "execution_count": 22,
   "id": "6d2c86f6-152e-4745-86f3-c1ca696c4310",
   "metadata": {},
   "outputs": [],
   "source": [
    "files = (\n",
    "    '/media/Central_Lab_Storage/NcbiASM/Burkholderia_cenocepacia/MLST.tsv',\n",
    "    '/media/Central_Lab_Storage/NcbiSRA/NCBI_Burkholderia_cenocepacia_SRA/MLST.tsv',\n",
    ")\n",
    "\n",
    "df = pd.concat((pd.read_csv(file, sep='\\t') for file in files))"
   ]
  },
  {
   "cell_type": "code",
   "execution_count": 25,
   "id": "dcd8e02f-d8ba-4f0e-a613-d9903de5d812",
   "metadata": {},
   "outputs": [],
   "source": [
    "df = df[df['Key'].isin(accs)]"
   ]
  },
  {
   "cell_type": "code",
   "execution_count": 42,
   "id": "448760c4-847d-4f05-b0d4-28073536aff2",
   "metadata": {},
   "outputs": [],
   "source": [
    "dataset_text_template = df[['Key', 'clonal_complex']].rename(columns={'Key': 'tree_node', 'clonal_complex': 'label'})"
   ]
  },
  {
   "cell_type": "code",
   "execution_count": 43,
   "id": "f34c2772-b97a-4e3e-8a1c-f677c89e2f74",
   "metadata": {},
   "outputs": [],
   "source": [
    "dataset_text_template.loc[:, 'position'] = -1\n",
    "dataset_text_template.loc[:, 'color'] = '#000000'\n",
    "dataset_text_template.loc[:, 'style'] = 'normal'\n",
    "dataset_text_template.loc[:, 'size_factor'] = 1\n",
    "dataset_text_template.loc[:, 'rotation'] = 0"
   ]
  },
  {
   "cell_type": "code",
   "execution_count": 44,
   "id": "ea126dc8-cba2-414d-a157-407d366013c4",
   "metadata": {},
   "outputs": [],
   "source": [
    "dataset_text_template.to_csv('/home/chen1i6c04/dataset_text_template.txt', index=False, sep='\\t')"
   ]
  },
  {
   "cell_type": "code",
   "execution_count": null,
   "id": "bceebf57-1a4d-4083-8eb8-acd34f239163",
   "metadata": {},
   "outputs": [],
   "source": []
  }
 ],
 "metadata": {
  "kernelspec": {
   "display_name": "Python 3",
   "language": "python",
   "name": "python3"
  },
  "language_info": {
   "codemirror_mode": {
    "name": "ipython",
    "version": 3
   },
   "file_extension": ".py",
   "mimetype": "text/x-python",
   "name": "python",
   "nbconvert_exporter": "python",
   "pygments_lexer": "ipython3",
   "version": "3.6.13"
  }
 },
 "nbformat": 4,
 "nbformat_minor": 5
}
