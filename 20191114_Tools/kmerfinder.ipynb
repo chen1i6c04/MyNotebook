{
 "cells": [
  {
   "cell_type": "code",
   "execution_count": 13,
   "metadata": {},
   "outputs": [],
   "source": [
    "import os\n",
    "from pathlib import Path\n",
    "from collections import defaultdict\n",
    "from concurrent.futures import ProcessPoolExecutor\n",
    "import pandas as pd\n",
    "from Bio.Application import AbstractCommandline, _Option, _Switch"
   ]
  },
  {
   "cell_type": "code",
   "execution_count": 14,
   "metadata": {},
   "outputs": [],
   "source": [
    "class KmerFinderCommandline(AbstractCommandline):\n",
    "    def __init__(self, cmd='kmerfinder.py', **kwargs):\n",
    "        self.parameters = [\n",
    "            _Option(['-i', 'infile'], '', equate=False, is_required=True),\n",
    "            _Option(['-o', 'outdir'], '', equate=False),\n",
    "            _Option(['-db', 'database'], '', equate=False),\n",
    "            _Option(['-tax', 'taxonomy_file'], '', equate=False),\n",
    "            _Option(['-kp', 'kma_path'], '', equate=False),\n",
    "            _Switch(['-x', 'extented_output'], ''),\n",
    "            _Switch(['-q', 'quiet'], '')\n",
    "        ]\n",
    "        AbstractCommandline.__init__(self, cmd, **kwargs)"
   ]
  },
  {
   "cell_type": "code",
   "execution_count": 15,
   "metadata": {},
   "outputs": [],
   "source": [
    "database = '/dev/shm/bacteria/bacteria.ATG'\n",
    "taxonomy_file = '/dev/shm/bacteria/bacteria.tax'"
   ]
  },
  {
   "cell_type": "code",
   "execution_count": 16,
   "metadata": {},
   "outputs": [],
   "source": [
    "def fn(infile, outdir, database, taxonomy_file, kma_path='/usr/bin/'):\n",
    "    os.makedirs(outdir, exist_ok=True)\n",
    "    cline = KmerFinderCommandline('/media/NGS/Data_Analysis/CGE/kmerfinder/kmerfinder.py', infile=infile, outdir=outdir, database=database, taxonomy_file=taxonomy_file, \n",
    "                                  extented_output=True)\n",
    "    cline()"
   ]
  },
  {
   "cell_type": "code",
   "execution_count": 86,
   "metadata": {},
   "outputs": [],
   "source": [
    "fn('/media/NGS/Data_Analysis/20200214_Incomplete_Neisseria_genomes/Contigs/GCA_000818515.1.fa',\n",
    "   '/media/NGS/Data_Analysis/20200214_Incomplete_Neisseria_genomes/Kmerfinder/GCA_000818515.1', database, taxonomy_file)"
   ]
  },
  {
   "cell_type": "code",
   "execution_count": 17,
   "metadata": {},
   "outputs": [],
   "source": [
    "dirpath = Path('/media/NGS/MiSeqAnalysis/Listeria_monocytogenes/Contigs')\n",
    "outpath = Path('/media/NGS/MiSeqAnalysis/Listeria_monocytogenes/Kmerfinder')"
   ]
  },
  {
   "cell_type": "code",
   "execution_count": 18,
   "metadata": {},
   "outputs": [],
   "source": [
    "pairwise = defaultdict(list)\n",
    "for i in dirpath.iterdir():\n",
    "    prefix = i.stem.split('_')[0]\n",
    "    pairwise[prefix].append(i.as_posix())"
   ]
  },
  {
   "cell_type": "code",
   "execution_count": 20,
   "metadata": {},
   "outputs": [],
   "source": [
    "for i, j in pairwise.items():\n",
    "    if len(j) != 1:\n",
    "        print(i)"
   ]
  },
  {
   "cell_type": "code",
   "execution_count": 21,
   "metadata": {},
   "outputs": [],
   "source": [
    "with ProcessPoolExecutor(12) as executor:\n",
    "    for prefix, seqfiles in pairwise.items():\n",
    "        outdir = outpath/prefix\n",
    "        executor.submit(fn, ' '.join(seqfiles), outdir, database, taxonomy_file, '/usr/bin/')"
   ]
  },
  {
   "cell_type": "code",
   "execution_count": null,
   "metadata": {},
   "outputs": [],
   "source": []
  },
  {
   "cell_type": "code",
   "execution_count": null,
   "metadata": {},
   "outputs": [],
   "source": []
  },
  {
   "cell_type": "code",
   "execution_count": 22,
   "metadata": {},
   "outputs": [],
   "source": [
    "def kmerfinder_summary(infile):\n",
    "    profile = pd.read_csv(infile, sep='\\t')\n",
    "    query = profile.groupby('Species')['Query_Coverage'].sum().to_dict()\n",
    "    template = profile.groupby('Species')['Template_Coverage'].max().to_dict()\n",
    "    query = dict(sorted(query.items(), key=lambda x: x[1], reverse=True))\n",
    "    qcov_tcov = {species: f'{query[species]:.2f}% / {template[species]:.2f}%' for species in query}\n",
    "    return {idx: f'{item[0]} | {item[1]}' for idx, item in enumerate(qcov_tcov.items(), 1)}"
   ]
  },
  {
   "cell_type": "code",
   "execution_count": null,
   "metadata": {},
   "outputs": [],
   "source": [
    "dirpath = Path('/media/NAS/MiSeqOutput/181112_M04855_0032_000000000-C5YTF/Analysis')\n",
    "abundance = {subpath.name: kmerfinder_summary(subpath/'kmerfinder.txt') for subpath in dirpath.iterdir()}\n",
    "\n",
    "df = pd.DataFrame(abundance).T\n",
    "df = df.sort_index()"
   ]
  },
  {
   "cell_type": "code",
   "execution_count": 50,
   "metadata": {},
   "outputs": [],
   "source": [
    "df.to_csv('/media/NAS/MiSeqOutput/181112_M04855_0032_000000000-C5YTF/KmerFinder.tsv', sep='\\t', header=False)"
   ]
  },
  {
   "cell_type": "code",
   "execution_count": null,
   "metadata": {},
   "outputs": [],
   "source": []
  },
  {
   "cell_type": "code",
   "execution_count": 23,
   "metadata": {},
   "outputs": [],
   "source": [
    "dirpath = Path('/media/NGS/MiSeqAnalysis/Listeria_monocytogenes/Kmerfinder')"
   ]
  },
  {
   "cell_type": "code",
   "execution_count": 24,
   "metadata": {},
   "outputs": [],
   "source": [
    "abundance = dict()\n",
    "for subpath in dirpath.iterdir():\n",
    "    target = subpath/'results.txt'\n",
    "    abundance[subpath.name] = kmerfinder_summary(target)\n",
    "df = pd.DataFrame(abundance).T\n",
    "df = df.sort_index()"
   ]
  },
  {
   "cell_type": "code",
   "execution_count": 25,
   "metadata": {},
   "outputs": [],
   "source": [
    "df.to_csv('/media/NGS/MiSeqAnalysis/Listeria_monocytogenes/Kmerfinder.tsv', sep='\\t', header=False)"
   ]
  },
  {
   "cell_type": "code",
   "execution_count": null,
   "metadata": {},
   "outputs": [],
   "source": []
  },
  {
   "cell_type": "code",
   "execution_count": null,
   "metadata": {},
   "outputs": [],
   "source": []
  }
 ],
 "metadata": {
  "kernelspec": {
   "display_name": "Python 3",
   "language": "python",
   "name": "python3"
  },
  "language_info": {
   "codemirror_mode": {
    "name": "ipython",
    "version": 3
   },
   "file_extension": ".py",
   "mimetype": "text/x-python",
   "name": "python",
   "nbconvert_exporter": "python",
   "pygments_lexer": "ipython3",
   "version": "3.6.12"
  }
 },
 "nbformat": 4,
 "nbformat_minor": 4
}
