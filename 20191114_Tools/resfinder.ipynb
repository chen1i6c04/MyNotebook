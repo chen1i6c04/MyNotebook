{
 "cells": [
  {
   "cell_type": "code",
   "execution_count": 1,
   "metadata": {},
   "outputs": [],
   "source": [
    "import os\n",
    "import sys\n",
    "import shutil\n",
    "from pathlib import Path\n",
    "from multiprocessing import Pool\n",
    "from tempfile import TemporaryDirectory\n",
    "import pandas as pd\n",
    "\n",
    "sys.path.append('../src')\n",
    "\n",
    "from run import run_resfinder\n",
    "from utils import run_cmd"
   ]
  },
  {
   "cell_type": "code",
   "execution_count": 12,
   "metadata": {},
   "outputs": [],
   "source": [
    "db_res = '/media/GenomicResearch/Tools/CGE/resfinder_db'\n",
    "db_point = '/media/GenomicResearch/Tools/CGE/pointfinder_db'\n",
    "species = 'enterococcus_faecium'"
   ]
  },
  {
   "cell_type": "code",
   "execution_count": 13,
   "metadata": {},
   "outputs": [],
   "source": [
    "point = True\n",
    "acquired = True\n",
    "\n",
    "run_resfinder(\n",
    "    '/media/Central_Lab_Storage/MinION/mNGS/20220216_ICU31_34_strain/denovo/barcode74/contigs.fasta',\n",
    "    '/media/Central_Lab_Storage/MinION/mNGS/20220216_ICU31_34_strain/resfinder/barcode74',\n",
    "    db_res, db_point, species=species, point=point, acquired=acquired, min_cov=0.6, threshold=0.9)"
   ]
  },
  {
   "cell_type": "code",
   "execution_count": null,
   "metadata": {},
   "outputs": [],
   "source": [
    "dirpath = Path('/media/GenomicResearch/Issue/20210909_estimate_nanopore_depth/amplification/20211028_R18-1656H/denovo')\n",
    "outpath = Path('/media/GenomicResearch/Issue/20210909_estimate_nanopore_depth/amplification/20211028_R18-1656H/resfinder')"
   ]
  },
  {
   "cell_type": "code",
   "execution_count": null,
   "metadata": {},
   "outputs": [],
   "source": [
    "with Pool(64) as p:\n",
    "    try:\n",
    "        for i in dirpath.iterdir():\n",
    "            infile = i/'contigs.fasta'\n",
    "            outdir = outpath/i.name\n",
    "            p.apply_async(\n",
    "                run_resfinder,\n",
    "                args=(infile, outdir, db_res, db_point),\n",
    "                kwds={'species': species, 'acquired': True, 'point': True, 'min_cov': 0.6, 'threshold': 0.9},\n",
    "            )\n",
    "        p.close()\n",
    "        p.join()\n",
    "    except KeyboardInterrupt:\n",
    "        p.terminate()"
   ]
  },
  {
   "cell_type": "code",
   "execution_count": null,
   "metadata": {},
   "outputs": [],
   "source": []
  },
  {
   "cell_type": "code",
   "execution_count": null,
   "metadata": {},
   "outputs": [],
   "source": [
    "def removal_overlap(records):\n",
    "    results = []\n",
    "    for _, group in records.groupby('Position in contig'):\n",
    "        uniques = []\n",
    "        for _, row in group.iterrows():\n",
    "            if uniques:\n",
    "                overlaps = set()\n",
    "                for unique in uniques:\n",
    "                    overlaps.add(len(set(range(row['qstart'], row['qend'])) & set(range(unique['qstart'], unique['qend']))))\n",
    "                if max(overlaps) == 0:\n",
    "                    uniques.append(row)\n",
    "            else:\n",
    "                uniques.append(row)\n",
    "        results += uniques\n",
    "    return pd.DataFrame(results)"
   ]
  },
  {
   "cell_type": "code",
   "execution_count": null,
   "metadata": {},
   "outputs": [],
   "source": [
    "db_res = '/media/GenomicResearch/Tools/CGE/resfinder_db'\n",
    "phenotypes = pd.read_csv(os.path.join(db_res, 'phenotypes.txt'), sep='\\t', usecols=['Gene_accession no.', 'Phenotype'])\n",
    "phenotypes['Gene_accession no.'] = phenotypes['Gene_accession no.'].str.split(\"_\", 1).str[0]\n",
    "\n",
    "phenotypes = phenotypes.drop_duplicates('Gene_accession no.')\n",
    "phenotypes = dict(zip(phenotypes['Gene_accession no.'], phenotypes['Phenotype']))"
   ]
  },
  {
   "cell_type": "code",
   "execution_count": null,
   "metadata": {},
   "outputs": [],
   "source": []
  },
  {
   "cell_type": "code",
   "execution_count": null,
   "metadata": {},
   "outputs": [],
   "source": [
    "dirpath = Path('/media/Central_Lab_Storage/MinION/mNGS/20211028_ICU001/resfinder/barcode27')"
   ]
  },
  {
   "cell_type": "code",
   "execution_count": null,
   "metadata": {},
   "outputs": [],
   "source": [
    "df = pd.read_csv(dirpath/'ResFinder_results_tab.txt', sep='\\t')\n",
    "\n",
    "df['qstart'], df['qend'] = df['Position in contig'].str.split('\\.\\.').str\n",
    "df['qstart'], df['qend'] = df['qstart'].astype(int), df['qend'].astype(int)\n",
    "\n",
    "genes = removal_overlap(df)['Resistance gene'].to_list()"
   ]
  },
  {
   "cell_type": "code",
   "execution_count": null,
   "metadata": {},
   "outputs": [],
   "source": [
    "df = pd.read_csv(dirpath/'PointFinder_results.txt', sep='\\t')\n",
    "df['Resistance'] = df['Resistance'].str.capitalize()"
   ]
  },
  {
   "cell_type": "code",
   "execution_count": null,
   "metadata": {},
   "outputs": [],
   "source": [
    "phenotype_map = {**{gene: phenotypes.get(gene) for gene in genes}, **dict(zip(df['Mutation'], df['Resistance']))}"
   ]
  },
  {
   "cell_type": "code",
   "execution_count": null,
   "metadata": {},
   "outputs": [],
   "source": [
    "phenotype_map"
   ]
  },
  {
   "cell_type": "code",
   "execution_count": null,
   "metadata": {},
   "outputs": [],
   "source": []
  },
  {
   "cell_type": "code",
   "execution_count": null,
   "metadata": {},
   "outputs": [],
   "source": []
  },
  {
   "cell_type": "code",
   "execution_count": null,
   "metadata": {},
   "outputs": [],
   "source": [
    "import re\n",
    "from io import StringIO\n",
    "from collections import defaultdict\n",
    "import pandas as pd"
   ]
  },
  {
   "cell_type": "code",
   "execution_count": null,
   "metadata": {},
   "outputs": [],
   "source": [
    "def point_summary(file):\n",
    "    df = pd.read_csv(file, sep='\\t', usecols=['Mutation'])\n",
    "    summary = defaultdict(list)\n",
    "    for mutation in df['Mutation']:\n",
    "        gene_name, position = re.search('^(.*) \\w.(.*$)', mutation).groups()\n",
    "        summary[gene_name].append(position)\n",
    "    return {gene_name: ', '.join(position) for gene_name, position in summary.items()}"
   ]
  },
  {
   "cell_type": "code",
   "execution_count": null,
   "metadata": {},
   "outputs": [],
   "source": [
    "dirpath = Path('/media/NAS/Central_Lab_Storage/MinION/mNGS/20210901/time_filt/resfinder')\n",
    "\n",
    "summaries = dict()\n",
    "for i in dirpath.iterdir():\n",
    "    target = i/'PointFinder_results.txt'\n",
    "    summaries[i.name] = point_summary(target)"
   ]
  },
  {
   "cell_type": "code",
   "execution_count": null,
   "metadata": {},
   "outputs": [],
   "source": [
    "df = pd.DataFrame(summaries).T.sort_index()\n",
    "df.index.name = 'Key'\n",
    "df.head()"
   ]
  },
  {
   "cell_type": "code",
   "execution_count": null,
   "metadata": {},
   "outputs": [],
   "source": [
    "df.to_csv('/media/NAS/Central_Lab_Storage/MinION/mNGS/20210901/time_filt/PointFinder.txt', sep='\\t')"
   ]
  },
  {
   "cell_type": "code",
   "execution_count": null,
   "metadata": {},
   "outputs": [],
   "source": []
  },
  {
   "cell_type": "code",
   "execution_count": null,
   "metadata": {},
   "outputs": [],
   "source": [
    "def split_by_database(file):\n",
    "    with open(file) as f:\n",
    "        database_name = ''\n",
    "        data = []\n",
    "        for line in f:\n",
    "            line = line.strip()\n",
    "            if not line:\n",
    "                yield (database_name, '\\n'.join(data))\n",
    "                database_name = ''\n",
    "                data = []\n",
    "            elif not database_name:\n",
    "                database_name = line\n",
    "            else:\n",
    "                data.append(line)\n",
    "\n",
    "def resistance_summary(file):\n",
    "    summary = pd.DataFrame()\n",
    "    for database_name, result in split_by_database(file):\n",
    "        if result != 'No hit found':\n",
    "            df = pd.read_csv(StringIO(result), sep='\\t')\n",
    "            df['Database'] = database_name\n",
    "            summary = pd.concat([summary, df])\n",
    "    try:\n",
    "        return summary.drop_duplicates('Resistance gene').groupby('Database')['Resistance gene'].apply(lambda x: x.sort_values().str.cat(sep=', '))\n",
    "    except KeyError:\n",
    "        return"
   ]
  },
  {
   "cell_type": "code",
   "execution_count": null,
   "metadata": {},
   "outputs": [],
   "source": [
    "dirpath = Path('/media/NAS/Central_Lab_Storage/MinION/mNGS/20210901/time_filt/resfinder')\n",
    "\n",
    "summaries = dict()\n",
    "for i in dirpath.iterdir():\n",
    "    summaries[i.name] = resistance_summary(i/'ResFinder_results_table.txt')\n",
    "df = pd.DataFrame(summaries).T.sort_index()\n",
    "df.index.name = 'Key'\n",
    "df.head()"
   ]
  },
  {
   "cell_type": "code",
   "execution_count": null,
   "metadata": {},
   "outputs": [],
   "source": [
    "df.to_csv('/media/NAS/Central_Lab_Storage/MinION/mNGS/20210901/time_filt/ResFinder.txt', sep='\\t')"
   ]
  },
  {
   "cell_type": "code",
   "execution_count": null,
   "metadata": {},
   "outputs": [],
   "source": []
  },
  {
   "cell_type": "code",
   "execution_count": null,
   "metadata": {},
   "outputs": [],
   "source": [
    "resistance_summary('/media/NAS/Central_Lab_Storage/MinION/mNGS/20210901/resfinder/barcode18/ResFinder_results_table.txt')"
   ]
  },
  {
   "cell_type": "code",
   "execution_count": null,
   "metadata": {},
   "outputs": [],
   "source": []
  },
  {
   "cell_type": "code",
   "execution_count": null,
   "metadata": {},
   "outputs": [],
   "source": []
  },
  {
   "cell_type": "code",
   "execution_count": null,
   "metadata": {},
   "outputs": [],
   "source": [
    "def point_summary(file):\n",
    "    df = pd.read_csv(file, sep='\\t', usecols=['Mutation'])\n",
    "    return {' '.join(re.search('^(.*) \\w.(.*$)', mutation).groups()): 1 for mutation in df['Mutation']}"
   ]
  },
  {
   "cell_type": "code",
   "execution_count": null,
   "metadata": {},
   "outputs": [],
   "source": [
    "dirpath = Path('/media/NAS/Central_Lab_Storage/MiSeq/Shigella/Analysis')\n",
    "\n",
    "summaries = dict()\n",
    "for i in dirpath.iterdir():\n",
    "    target = i/'resfinder'/'PointFinder_results.txt'\n",
    "    summaries[i.name] = point_summary(target)"
   ]
  },
  {
   "cell_type": "code",
   "execution_count": null,
   "metadata": {},
   "outputs": [],
   "source": [
    "df = pd.DataFrame(summaries).T.sort_index(axis=1).sort_index(axis=0)\n",
    "df.index.name = 'Key'\n",
    "df.head()"
   ]
  },
  {
   "cell_type": "code",
   "execution_count": null,
   "metadata": {},
   "outputs": [],
   "source": [
    "df.to_csv('/media/NAS/Central_Lab_Storage/MiSeq/Shigella/point_mutation.txt', sep='\\t')"
   ]
  },
  {
   "cell_type": "code",
   "execution_count": null,
   "metadata": {},
   "outputs": [],
   "source": []
  },
  {
   "cell_type": "code",
   "execution_count": null,
   "metadata": {},
   "outputs": [],
   "source": []
  },
  {
   "cell_type": "code",
   "execution_count": null,
   "metadata": {},
   "outputs": [],
   "source": []
  },
  {
   "cell_type": "code",
   "execution_count": null,
   "metadata": {},
   "outputs": [],
   "source": [
    "file = '/media/NAS/Central_Lab_Storage/MinION/mNGS/20210802_clBC_Test66/resfinder/barcode13/ResFinder_results_table.txt'"
   ]
  },
  {
   "cell_type": "code",
   "execution_count": null,
   "metadata": {},
   "outputs": [],
   "source": [
    "def fn(file):\n",
    "    with open(file) as f:\n",
    "        database_name = ''\n",
    "        data = []\n",
    "        for line in f:\n",
    "            line = line.strip()\n",
    "            if not line:\n",
    "                yield (database_name, '\\n'.join(data))\n",
    "                database_name = ''\n",
    "                data = []\n",
    "            elif not database_name:\n",
    "                database_name = line\n",
    "            else:\n",
    "                data.append(line)"
   ]
  },
  {
   "cell_type": "code",
   "execution_count": null,
   "metadata": {},
   "outputs": [],
   "source": [
    "summary = pd.DataFrame()\n",
    "for db_name, result in fn(file):\n",
    "    if result != 'No hit found':\n",
    "        df = pd.read_csv(StringIO(result), sep='\\t')\n",
    "        df['Database'] = db_name\n",
    "        summary = pd.concat([summary, df])"
   ]
  },
  {
   "cell_type": "code",
   "execution_count": null,
   "metadata": {},
   "outputs": [],
   "source": [
    "summary.drop_duplicates('Resistance gene').groupby('Database')['Resistance gene'].apply(lambda x: x.str.cat(sep=', '))"
   ]
  },
  {
   "cell_type": "code",
   "execution_count": null,
   "metadata": {},
   "outputs": [],
   "source": [
    "db_name"
   ]
  },
  {
   "cell_type": "code",
   "execution_count": null,
   "metadata": {},
   "outputs": [],
   "source": []
  }
 ],
 "metadata": {
  "kernelspec": {
   "display_name": "Python 3",
   "language": "python",
   "name": "python3"
  },
  "language_info": {
   "codemirror_mode": {
    "name": "ipython",
    "version": 3
   },
   "file_extension": ".py",
   "mimetype": "text/x-python",
   "name": "python",
   "nbconvert_exporter": "python",
   "pygments_lexer": "ipython3",
   "version": "3.6.13"
  }
 },
 "nbformat": 4,
 "nbformat_minor": 4
}
