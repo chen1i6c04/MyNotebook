{
 "cells": [
  {
   "cell_type": "code",
   "execution_count": 1,
   "id": "d95f8cc3-3eed-4908-a2e6-f08f586f02f2",
   "metadata": {},
   "outputs": [],
   "source": [
    "import subprocess\n",
    "from pathlib import Path\n",
    "from multiprocessing import Pool"
   ]
  },
  {
   "cell_type": "code",
   "execution_count": 2,
   "id": "a6f23061-771e-48fb-9afd-6641670c651c",
   "metadata": {},
   "outputs": [],
   "source": [
    "def ecoli_typing(filename, outdir):\n",
    "    cmd = ['conda', 'run', '-n', 'ectyper', 'ectyper', '-i', filename, '-o', outdir, '--verify']\n",
    "    subprocess.run(cmd, stdout=subprocess.DEVNULL)"
   ]
  },
  {
   "cell_type": "code",
   "execution_count": 3,
   "id": "f061f665-6d04-4ddd-bd2c-462c15d56183",
   "metadata": {},
   "outputs": [],
   "source": [
    "dirpath = Path('/media/GenomicResearch/MiSeq/Shigella/Contigs')\n",
    "outpath = Path('/media/GenomicResearch/MiSeq/Shigella/ECTyper')\n",
    "\n",
    "with Pool(64) as p:\n",
    "    for filename in dirpath.iterdir():\n",
    "        outdir = outpath/filename.stem\n",
    "        p.apply_async(ecoli_typing, (filename, outdir))\n",
    "    p.close()\n",
    "    p.join()"
   ]
  },
  {
   "cell_type": "code",
   "execution_count": null,
   "id": "bc80d63c-df7e-4bea-82c7-6a5e8d22c15b",
   "metadata": {},
   "outputs": [],
   "source": []
  },
  {
   "cell_type": "code",
   "execution_count": 4,
   "id": "fbf6e61e-5ac1-4c86-929d-1072bc38b852",
   "metadata": {},
   "outputs": [],
   "source": [
    "import pandas as pd"
   ]
  },
  {
   "cell_type": "code",
   "execution_count": 6,
   "id": "3844f3e8-28f6-48f8-b848-4228f6559565",
   "metadata": {},
   "outputs": [],
   "source": [
    "dirpath = Path('/media/GenomicResearch/MiSeq/Shigella/ECTyper')\n",
    "\n",
    "all_profiles = []\n",
    "for i in dirpath.iterdir():\n",
    "    profile = pd.read_csv(i/'output.tsv', sep='\\t')\n",
    "    all_profiles.append(profile)"
   ]
  },
  {
   "cell_type": "code",
   "execution_count": 8,
   "id": "2af2226e-2002-40c3-8877-1357832505a3",
   "metadata": {},
   "outputs": [],
   "source": [
    "df = pd.concat(all_profiles)"
   ]
  },
  {
   "cell_type": "code",
   "execution_count": 10,
   "id": "fec9c6d6-931d-4f8c-af0e-140a35d4ee64",
   "metadata": {},
   "outputs": [],
   "source": [
    "df.to_csv('/media/GenomicResearch/MiSeq/Shigella/ECTyper.tsv', sep='\\t', index=False)"
   ]
  },
  {
   "cell_type": "code",
   "execution_count": null,
   "id": "d1ef1c7e-ca3f-4db7-aef4-4905b7c3e052",
   "metadata": {},
   "outputs": [],
   "source": []
  }
 ],
 "metadata": {
  "kernelspec": {
   "display_name": "Python 3",
   "language": "python",
   "name": "python3"
  },
  "language_info": {
   "codemirror_mode": {
    "name": "ipython",
    "version": 3
   },
   "file_extension": ".py",
   "mimetype": "text/x-python",
   "name": "python",
   "nbconvert_exporter": "python",
   "pygments_lexer": "ipython3",
   "version": "3.6.13"
  }
 },
 "nbformat": 4,
 "nbformat_minor": 5
}
