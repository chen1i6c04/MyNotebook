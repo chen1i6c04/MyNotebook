{
 "cells": [
  {
   "cell_type": "code",
   "execution_count": 1,
   "id": "fc59a66a",
   "metadata": {},
   "outputs": [],
   "source": [
    "import os\n",
    "import shutil\n",
    "from uuid import uuid4\n",
    "from pathlib import Path\n",
    "from tempfile import TemporaryDirectory\n",
    "from concurrent.futures import ProcessPoolExecutor\n",
    "import pandas as pd"
   ]
  },
  {
   "cell_type": "code",
   "execution_count": 2,
   "id": "3a7a40b3",
   "metadata": {},
   "outputs": [],
   "source": [
    "import sys\n",
    "sys.path.append('../src')\n",
    "from utils import run_cmd\n",
    "from run import run_resfinder"
   ]
  },
  {
   "cell_type": "code",
   "execution_count": 3,
   "id": "f5a87767-e6a0-49de-aa3d-e26b5994f166",
   "metadata": {},
   "outputs": [],
   "source": [
    "resfinder_db = Path('/media/GenomicResearch/Tools/CGE/resfinder_db')\n",
    "# pointfinder_db = Path('/media/GenomicResearch/Tools/CGE/pointfinder_db/')"
   ]
  },
  {
   "cell_type": "code",
   "execution_count": 4,
   "id": "b465daee-c810-42a4-bb3d-22760b2ee9bc",
   "metadata": {},
   "outputs": [],
   "source": [
    "def fn(input_fasta, output_file, res_db):\n",
    "    uid = str(uuid4())[:8]\n",
    "    with TemporaryDirectory() as tempdir:\n",
    "        database = os.path.join(tempdir, 'ResFinderDB.fa')\n",
    "        gamma_output = os.path.join(tempdir, uid)\n",
    "        run_cmd(f\"cat {res_db/'*.fsa'} | seqkit rmdup -so {database}\")\n",
    "        run_cmd(f\"conda run -n GAMMA GAMMA.py {input_fasta} {database} {gamma_output}\")\n",
    "        gamma_result = pd.read_csv(gamma_output + '.gamma', sep='\\t')\n",
    "    phenotypes = pd.read_csv(resfinder_db/'phenotypes.txt', sep='\\t', usecols=range(3))\n",
    "    gamma_result = gamma_result.merge(phenotypes, left_on='Gene', right_on='Gene_accession no.').drop(\n",
    "        ['Gene_accession no.', 'Match_Type', 'Description', 'Codon_Changes', 'BP_Changes', 'Transversions'], axis=1)\n",
    "    gamma_result['Gene'] = gamma_result['Gene'].str.split('_', 1).str[0]\n",
    "    gamma_result['Codon_Percent'] = (gamma_result['Codon_Percent']*100).round(2)\n",
    "    gamma_result['BP_Percent'] = (gamma_result['BP_Percent']*100).round(2)\n",
    "    gamma_result['Percent_Length'] = (gamma_result['Percent_Length']*100).round(2)\n",
    "    gamma_result.to_csv(output_file, sep='\\t', index=False)"
   ]
  },
  {
   "cell_type": "code",
   "execution_count": 10,
   "id": "5104bf36-46b5-4779-97b2-1cf04d928c73",
   "metadata": {},
   "outputs": [],
   "source": [
    "input_fasta = '/media/GenomicResearch/MiSeq/Salmonella_enterica/Contigs/R21.0754.fa'\n",
    "output_file = '/media/GenomicResearch/MiSeq/Salmonella_enterica/Analysis/R21.0754/gamma_resfinder_results.txt'"
   ]
  },
  {
   "cell_type": "code",
   "execution_count": 11,
   "id": "4c29995c-2c66-40ea-a19e-89908ec48c7b",
   "metadata": {},
   "outputs": [],
   "source": [
    "fn(input_fasta, output_file, resfinder_db)"
   ]
  },
  {
   "cell_type": "code",
   "execution_count": 5,
   "id": "4542cec3-3b96-432b-812a-810577d6d7cd",
   "metadata": {},
   "outputs": [],
   "source": [
    "dirpath = Path('/media/Central_Lab_Storage/MinION/mNGS/20220216_ICU31_34_strain/denovo')\n",
    "outpath = Path('/media/Central_Lab_Storage/MinION/mNGS/20220216_ICU31_34_strain/gamma')\n",
    "\n",
    "for input_dir in dirpath.iterdir():\n",
    "    input_fasta = input_dir/'contigs.fasta'\n",
    "    output_file = outpath/(input_dir.name + '_ResFinder_results.txt')\n",
    "    fn(input_fasta, output_file, resfinder_db)"
   ]
  },
  {
   "cell_type": "code",
   "execution_count": 8,
   "id": "9ccaf29f-d852-4045-b603-84a4a6860000",
   "metadata": {},
   "outputs": [
    {
     "data": {
      "text/plain": [
       "231.0291458"
      ]
     },
     "execution_count": 8,
     "metadata": {},
     "output_type": "execute_result"
    }
   ],
   "source": []
  },
  {
   "cell_type": "code",
   "execution_count": null,
   "id": "d5f2f8ce-7c2b-40ff-af96-65911c4ba7c9",
   "metadata": {},
   "outputs": [],
   "source": []
  }
 ],
 "metadata": {
  "kernelspec": {
   "display_name": "Python 3",
   "language": "python",
   "name": "python3"
  },
  "language_info": {
   "codemirror_mode": {
    "name": "ipython",
    "version": 3
   },
   "file_extension": ".py",
   "mimetype": "text/x-python",
   "name": "python",
   "nbconvert_exporter": "python",
   "pygments_lexer": "ipython3",
   "version": "3.6.13"
  }
 },
 "nbformat": 4,
 "nbformat_minor": 5
}
