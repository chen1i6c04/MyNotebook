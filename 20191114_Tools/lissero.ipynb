{
 "cells": [
  {
   "cell_type": "code",
   "execution_count": 1,
   "metadata": {},
   "outputs": [],
   "source": [
    "import sys\n",
    "from io import BytesIO\n",
    "from pathlib import Path\n",
    "from multiprocessing import Pool\n",
    "import pandas as pd"
   ]
  },
  {
   "cell_type": "code",
   "execution_count": 2,
   "metadata": {},
   "outputs": [],
   "source": [
    "sys.path.append('../src')\n",
    "from utils import run_cmd"
   ]
  },
  {
   "cell_type": "code",
   "execution_count": 3,
   "metadata": {},
   "outputs": [],
   "source": [
    "dirpath = Path('/media/NGS/SRA_1/NCBI_Listeria_monocytogenes_SRA/Filter')\n",
    "outpath = Path('/media/NGS/SRA_1/NCBI_Listeria_monocytogenes_SRA/LisSero')"
   ]
  },
  {
   "cell_type": "code",
   "execution_count": 4,
   "metadata": {},
   "outputs": [],
   "source": [
    "cmds = []\n",
    "for i in dirpath.iterdir():\n",
    "    outfile = outpath/(i.stem + '.txt')\n",
    "    cmd = f\"conda run -n lissero lissero {i} > {outfile}\"\n",
    "    cmds.append(cmd)"
   ]
  },
  {
   "cell_type": "code",
   "execution_count": 7,
   "metadata": {},
   "outputs": [],
   "source": [
    "with Pool(64) as p:\n",
    "    try:\n",
    "        p.map(run_cmd, cmds)\n",
    "        p.close()\n",
    "        p.join()\n",
    "    except KeyboardInterrupt:\n",
    "        p.terminate()"
   ]
  },
  {
   "cell_type": "code",
   "execution_count": null,
   "metadata": {},
   "outputs": [],
   "source": []
  },
  {
   "cell_type": "code",
   "execution_count": 9,
   "metadata": {},
   "outputs": [],
   "source": [
    "dirpath = Path('/media/NGS/SRA_1/NCBI_Listeria_monocytogenes_SRA/LisSero')"
   ]
  },
  {
   "cell_type": "code",
   "execution_count": 34,
   "metadata": {},
   "outputs": [],
   "source": [
    "data = []\n",
    "for file in dirpath.iterdir():\n",
    "    with open(file) as handle:\n",
    "        next(handle)\n",
    "        value = next(handle).strip().split('\\t')\n",
    "        data.append(value)"
   ]
  },
  {
   "cell_type": "code",
   "execution_count": 37,
   "metadata": {},
   "outputs": [],
   "source": [
    "df = pd.DataFrame(data, columns=['ID', 'SEROTYPE', 'PRS', 'LMO0737', 'LMO1118', 'ORF2110', 'ORF2819', 'COMMENT'])"
   ]
  },
  {
   "cell_type": "code",
   "execution_count": 41,
   "metadata": {},
   "outputs": [],
   "source": [
    "df['ID'] = df['ID'].apply(lambda x: Path(x).stem)"
   ]
  },
  {
   "cell_type": "code",
   "execution_count": 43,
   "metadata": {},
   "outputs": [],
   "source": [
    "df.to_csv('/media/NGS/SRA_1/NCBI_Listeria_monocytogenes_SRA/LisSero.txt', sep='\\t', index=False)"
   ]
  },
  {
   "cell_type": "code",
   "execution_count": null,
   "metadata": {},
   "outputs": [],
   "source": []
  }
 ],
 "metadata": {
  "kernelspec": {
   "display_name": "Python 3",
   "language": "python",
   "name": "python3"
  },
  "language_info": {
   "codemirror_mode": {
    "name": "ipython",
    "version": 3
   },
   "file_extension": ".py",
   "mimetype": "text/x-python",
   "name": "python",
   "nbconvert_exporter": "python",
   "pygments_lexer": "ipython3",
   "version": "3.6.12"
  }
 },
 "nbformat": 4,
 "nbformat_minor": 4
}
