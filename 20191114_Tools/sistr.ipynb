{
 "cells": [
  {
   "cell_type": "code",
   "execution_count": 1,
   "metadata": {},
   "outputs": [],
   "source": [
    "import sys\n",
    "from pathlib import Path\n",
    "from multiprocessing import Pool\n",
    "import pandas as pd\n",
    "\n",
    "sys.path.append('../src')\n",
    "from utils import run_cmd\n",
    "from parse import parse_sistr_result"
   ]
  },
  {
   "cell_type": "code",
   "execution_count": 2,
   "metadata": {},
   "outputs": [],
   "source": [
    "def run_sistr(filepath, sample_name, output, threads=1):\n",
    "    run_cmd(f'conda run -n sistr sistr -i {filepath} {sample_name} -f json -o {output} -T /dev/shm -t {threads}')"
   ]
  },
  {
   "cell_type": "code",
   "execution_count": 3,
   "metadata": {},
   "outputs": [],
   "source": [
    "with open('/media/Central_Lab_Storage/NcbiASM/Salmonella_enterica/selected.txt') as f:\n",
    "    accs = set(f.read().splitlines())"
   ]
  },
  {
   "cell_type": "code",
   "execution_count": 4,
   "metadata": {},
   "outputs": [],
   "source": [
    "dirpath = Path('/media/Central_Lab_Storage/NcbiASM/Salmonella_enterica/Contigs')\n",
    "outpath = Path('/media/Central_Lab_Storage/NcbiASM/Salmonella_enterica/SISTR')"
   ]
  },
  {
   "cell_type": "code",
   "execution_count": 5,
   "metadata": {},
   "outputs": [],
   "source": [
    "with Pool(72) as p:\n",
    "    try:\n",
    "        for i in dirpath.iterdir():\n",
    "            if i.stem in accs:\n",
    "                output = outpath/i.stem\n",
    "                p.apply_async(run_sistr, (i, i.stem, output))\n",
    "        p.close()\n",
    "        p.join()\n",
    "    except KeyboardInterrupt:\n",
    "        p.terminate()"
   ]
  },
  {
   "cell_type": "code",
   "execution_count": null,
   "metadata": {},
   "outputs": [],
   "source": []
  },
  {
   "cell_type": "code",
   "execution_count": 6,
   "metadata": {},
   "outputs": [],
   "source": [
    "dirpath = Path('/media/Central_Lab_Storage/NcbiASM/Salmonella_enterica/SISTR')\n",
    "summaries = {i.stem: parse_sistr_result(i) for i in dirpath.iterdir()}"
   ]
  },
  {
   "cell_type": "code",
   "execution_count": 8,
   "metadata": {},
   "outputs": [
    {
     "data": {
      "text/html": [
       "<div>\n",
       "<style scoped>\n",
       "    .dataframe tbody tr th:only-of-type {\n",
       "        vertical-align: middle;\n",
       "    }\n",
       "\n",
       "    .dataframe tbody tr th {\n",
       "        vertical-align: top;\n",
       "    }\n",
       "\n",
       "    .dataframe thead th {\n",
       "        text-align: right;\n",
       "    }\n",
       "</style>\n",
       "<table border=\"1\" class=\"dataframe\">\n",
       "  <thead>\n",
       "    <tr style=\"text-align: right;\">\n",
       "      <th></th>\n",
       "      <th>subspecies</th>\n",
       "      <th>serotype</th>\n",
       "      <th>serogroup</th>\n",
       "    </tr>\n",
       "    <tr>\n",
       "      <th>Key</th>\n",
       "      <th></th>\n",
       "      <th></th>\n",
       "      <th></th>\n",
       "    </tr>\n",
       "  </thead>\n",
       "  <tbody>\n",
       "    <tr>\n",
       "      <th>GCA_000006945.2</th>\n",
       "      <td>enterica</td>\n",
       "      <td>Typhimurium</td>\n",
       "      <td>B</td>\n",
       "    </tr>\n",
       "    <tr>\n",
       "      <th>GCA_000007545.1</th>\n",
       "      <td>enterica</td>\n",
       "      <td>Typhi</td>\n",
       "      <td>D1</td>\n",
       "    </tr>\n",
       "    <tr>\n",
       "      <th>GCA_000008105.1</th>\n",
       "      <td>enterica</td>\n",
       "      <td>Choleraesuis</td>\n",
       "      <td>C1</td>\n",
       "    </tr>\n",
       "    <tr>\n",
       "      <th>GCA_000009505.1</th>\n",
       "      <td>enterica</td>\n",
       "      <td>Enteritidis</td>\n",
       "      <td>D1</td>\n",
       "    </tr>\n",
       "    <tr>\n",
       "      <th>GCA_000009525.1</th>\n",
       "      <td>enterica</td>\n",
       "      <td>Gallinarum</td>\n",
       "      <td>D1</td>\n",
       "    </tr>\n",
       "  </tbody>\n",
       "</table>\n",
       "</div>"
      ],
      "text/plain": [
       "                subspecies      serotype serogroup\n",
       "Key                                               \n",
       "GCA_000006945.2   enterica   Typhimurium         B\n",
       "GCA_000007545.1   enterica         Typhi        D1\n",
       "GCA_000008105.1   enterica  Choleraesuis        C1\n",
       "GCA_000009505.1   enterica   Enteritidis        D1\n",
       "GCA_000009525.1   enterica    Gallinarum        D1"
      ]
     },
     "execution_count": 8,
     "metadata": {},
     "output_type": "execute_result"
    }
   ],
   "source": [
    "df = pd.DataFrame(summaries).T\n",
    "df = df.sort_index()\n",
    "df.index.name = 'Key'\n",
    "df.head()"
   ]
  },
  {
   "cell_type": "code",
   "execution_count": 9,
   "metadata": {},
   "outputs": [],
   "source": [
    "df.to_csv('/media/Central_Lab_Storage/NcbiASM/Salmonella_enterica/SISTR.tsv', sep='\\t')"
   ]
  },
  {
   "cell_type": "code",
   "execution_count": null,
   "metadata": {},
   "outputs": [],
   "source": []
  },
  {
   "cell_type": "code",
   "execution_count": null,
   "metadata": {},
   "outputs": [],
   "source": []
  }
 ],
 "metadata": {
  "kernelspec": {
   "display_name": "Python 3",
   "language": "python",
   "name": "python3"
  },
  "language_info": {
   "codemirror_mode": {
    "name": "ipython",
    "version": 3
   },
   "file_extension": ".py",
   "mimetype": "text/x-python",
   "name": "python",
   "nbconvert_exporter": "python",
   "pygments_lexer": "ipython3",
   "version": "3.6.13"
  }
 },
 "nbformat": 4,
 "nbformat_minor": 4
}
