{
 "cells": [
  {
   "cell_type": "code",
   "execution_count": 17,
   "id": "da0e6bd4-021a-4449-b0b6-a8defc55fb86",
   "metadata": {},
   "outputs": [],
   "source": [
    "import subprocess\n",
    "from concurrent.futures import ProcessPoolExecutor\n",
    "\n",
    "import numpy as np"
   ]
  },
  {
   "cell_type": "code",
   "execution_count": 2,
   "id": "9def7e76-f5cb-40bc-bfc6-f289e2876d5e",
   "metadata": {},
   "outputs": [],
   "source": [
    "def assembly_accuracy(reference, assembly, output):\n",
    "    program = '/media/GenomicResearch/Tools/assembly_accuracy/fastmer.py'\n",
    "    command = [program, '--reference', reference, '--assembly', assembly, '--min-mapping-quality', '10']\n",
    "    with open(output, 'wb') as f:\n",
    "        subprocess.run(\n",
    "            command,\n",
    "            stdout=f\n",
    "        )"
   ]
  },
  {
   "cell_type": "code",
   "execution_count": 21,
   "id": "0dc4072a-2ecc-409f-a51d-57adc2b395ed",
   "metadata": {},
   "outputs": [],
   "source": [
    "def quality_score(reference, query):\n",
    "    p = subprocess.Popen(['minimap2', '-c', reference, query], stdout=subprocess.PIPE)\n",
    "    output = subprocess.check_output(\n",
    "        ['perl', '-ane', 'if(/tp:A:P/&&/NM:i:(\\d+)/){$n+=$1;$m+=$1 while/(\\d+)M/g;$g+=$1,++$o while/(\\d+)[ID]/g}END{print(($n-$g+$o)/($m+$o),\"\\n\")}'],\n",
    "        stdin=p.stdout\n",
    "    )\n",
    "    return -10 * np.log10(float(output.decode()))"
   ]
  },
  {
   "cell_type": "code",
   "execution_count": null,
   "id": "57b54ad3-9bb7-4fab-a601-53e862c33c82",
   "metadata": {},
   "outputs": [],
   "source": []
  },
  {
   "cell_type": "code",
   "execution_count": 3,
   "id": "a03bd6a8-61ad-4a56-88b3-4ea5e770d71b",
   "metadata": {},
   "outputs": [],
   "source": [
    "from pathlib import Path"
   ]
  },
  {
   "cell_type": "code",
   "execution_count": 48,
   "id": "43ab6d07-559c-4e6f-813f-8f3c893378b7",
   "metadata": {},
   "outputs": [],
   "source": [
    "dirpath = Path('/media/GenomicResearch/Issue/20210909_estimate_nanopore_depth/wgs-2/20211209_Lis_barcode10_R20-0148/denovo')\n",
    "outpath = Path('/media/GenomicResearch/Issue/20210909_estimate_nanopore_depth/wgs-2/20211209_Lis_barcode10_R20-0148/assembly_accuracy/')"
   ]
  },
  {
   "cell_type": "code",
   "execution_count": 49,
   "id": "24ee8a91-447e-4beb-8891-fc39965ecdf7",
   "metadata": {},
   "outputs": [],
   "source": [
    "with ProcessPoolExecutor(64) as executor:\n",
    "    for i in dirpath.iterdir():\n",
    "        reference = '/media/GenomicResearch/Issue/20210909_estimate_nanopore_depth/wgs-2/20211209_Lis_barcode10_R20-0148/reference.fa'\n",
    "        output = outpath/(i.name + '.txt')\n",
    "        executor.submit(assembly_accuracy, reference, i/'contigs.fasta', output)"
   ]
  },
  {
   "cell_type": "code",
   "execution_count": null,
   "id": "3560ccd6-cf62-41e8-8164-be908f61a84a",
   "metadata": {},
   "outputs": [],
   "source": []
  },
  {
   "cell_type": "code",
   "execution_count": 51,
   "id": "aca1d9e2-a012-4e8d-b361-d17437e98a7c",
   "metadata": {},
   "outputs": [],
   "source": [
    "dirpath_1 = Path('/media/GenomicResearch/Issue/20220215_modification_paper_data/ONT_WGS/Contigs')\n",
    "dirpath_2 = Path('/media/GenomicResearch/Issue/20220215_modification_paper_data/RefSeqs/Contigs')\n",
    "outpath = Path('/media/GenomicResearch/Issue/20220215_modification_paper_data/ONT_WGS/Assembly_accuracy')"
   ]
  },
  {
   "cell_type": "code",
   "execution_count": 52,
   "id": "8b6229ea-1699-4f4e-92df-6680f03776b9",
   "metadata": {},
   "outputs": [],
   "source": [
    "for query in dirpath_1.iterdir():\n",
    "    reference = dirpath_2/query.name\n",
    "    output = outpath/(query.stem + '.txt')\n",
    "    assembly_accuracy(reference, query, output)"
   ]
  },
  {
   "cell_type": "code",
   "execution_count": null,
   "id": "26d212ac-6862-429b-8d68-2766e05bc0f7",
   "metadata": {},
   "outputs": [],
   "source": []
  }
 ],
 "metadata": {
  "kernelspec": {
   "display_name": "Python 3",
   "language": "python",
   "name": "python3"
  },
  "language_info": {
   "codemirror_mode": {
    "name": "ipython",
    "version": 3
   },
   "file_extension": ".py",
   "mimetype": "text/x-python",
   "name": "python",
   "nbconvert_exporter": "python",
   "pygments_lexer": "ipython3",
   "version": "3.6.13"
  }
 },
 "nbformat": 4,
 "nbformat_minor": 5
}
