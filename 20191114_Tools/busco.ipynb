{
 "cells": [
  {
   "cell_type": "code",
   "execution_count": 1,
   "metadata": {},
   "outputs": [],
   "source": [
    "import re\n",
    "import os\n",
    "import sys\n",
    "import shutil\n",
    "from pathlib import Path\n",
    "from tempfile import TemporaryDirectory\n",
    "from multiprocessing import Pool\n",
    "\n",
    "import pandas as pd"
   ]
  },
  {
   "cell_type": "code",
   "execution_count": 2,
   "metadata": {},
   "outputs": [],
   "source": [
    "sys.path.append('../src')\n",
    "from utils import run_cmd"
   ]
  },
  {
   "cell_type": "markdown",
   "metadata": {},
   "source": [
    "genus          |database\n",
    "---------------|-------\n",
    "unkonw         |bacteria_odb10\n",
    "Shigella       |enterobacterales_odb10\n",
    "Neisseria      |neisseriales_odb10\n",
    "Listeria       |bacillales_odb10\n",
    "Salmonella     |enterobacterales_odb10\n",
    "Mycobacterium  |corynebacteriales_odb10\n",
    "Campylobacter  |campylobacterales_odb10\n",
    "Vibrio         |vibrionales_odb10\n",
    "Acinetobacter  |pseudomonadales_odb10\n",
    "Pseudomonas    |pseudomonadales_odb10"
   ]
  },
  {
   "cell_type": "markdown",
   "metadata": {},
   "source": [
    "## Sequence from NCBI Assembly Database"
   ]
  },
  {
   "cell_type": "code",
   "execution_count": 7,
   "metadata": {},
   "outputs": [],
   "source": [
    "def run_busco(infile, outfile, lineage, db_path, threads=1):\n",
    "    with TemporaryDirectory(dir='/tmp') as tmpdir:\n",
    "        cmd = f'conda run -n busco busco -i {infile} -c {threads} -o busco --out_path {tmpdir} -l {lineage} -m geno --offline --download_path {db_path}'\n",
    "        run_cmd(cmd)\n",
    "        busco_summary = os.path.join(tmpdir, 'busco', f'short_summary.specific.{lineage}.busco.txt')\n",
    "        shutil.copyfile(busco_summary, outfile)"
   ]
  },
  {
   "cell_type": "code",
   "execution_count": null,
   "metadata": {},
   "outputs": [],
   "source": [
    "dirpath = Path('/media/Central_Lab_Storage/NcbiSRA/NCBI_Neisseria_meningitidis_SRA/Contigs')\n",
    "outpath = Path('/media/Central_Lab_Storage/NcbiSRA/NCBI_Neisseria_meningitidis_SRA/Busco')\n",
    "database_path = '/media/GenomicResearch/Tools/busco_downloads'\n",
    "lineage = 'lactobacillales_odb10'"
   ]
  },
  {
   "cell_type": "code",
   "execution_count": 8,
   "metadata": {},
   "outputs": [],
   "source": [
    "with Pool(72) as p:\n",
    "    try:\n",
    "        for filepath in dirpath.iterdir():\n",
    "            outfile = outpath/f\"short_summary.specific.{lineage}.{filepath.stem}.txt\"\n",
    "            if outfile.exists() is False:\n",
    "                p.apply_async(run_busco, (filepath, outfile, lineage, database_path))\n",
    "        p.close()\n",
    "        p.join()\n",
    "    except KeyboardInterrupt:\n",
    "        p.terminate()"
   ]
  },
  {
   "cell_type": "code",
   "execution_count": 7,
   "metadata": {},
   "outputs": [],
   "source": [
    "run_busco(filepath, filepath.stem, outpath, database_path, 8)"
   ]
  },
  {
   "cell_type": "markdown",
   "metadata": {},
   "source": [
    "## Sequence from NCBI SRA Database"
   ]
  },
  {
   "cell_type": "code",
   "execution_count": 3,
   "metadata": {},
   "outputs": [],
   "source": [
    "def run_busco(seqfile, sample_name, outdir, db_path, threads=1):\n",
    "    with TemporaryDirectory(dir='/tmp') as tmpdir:\n",
    "        cmd = f'conda run -n busco busco -i {seqfile} -c {threads} -o {sample_name} --out_path {tmpdir} --auto-lineage-prok -m geno --offline --download_path {db_path}'\n",
    "        run_cmd(cmd)\n",
    "        for summary_file in Path(tmpdir, sample_name).glob(f'short_summary.specific.*.{sample_name}.txt'):\n",
    "            shutil.copy(summary_file, outdir)"
   ]
  },
  {
   "cell_type": "code",
   "execution_count": 4,
   "metadata": {},
   "outputs": [],
   "source": [
    "dirpath = Path('/media/Central_Lab_Storage/NcbiSRA/NCBI_Kp_SRA/Contigs')\n",
    "outpath = Path('/media/Central_Lab_Storage/NcbiSRA/NCBI_Kp_SRA/Busco')\n",
    "database_path = '/media/GenomicResearch/Tools/busco_downloads'"
   ]
  },
  {
   "cell_type": "code",
   "execution_count": 7,
   "metadata": {},
   "outputs": [],
   "source": [
    "ani = pd.read_csv('/media/Central_Lab_Storage/NcbiSRA/NCBI_Kp_SRA/ANI.tsv', sep='\\t', header=None)\n",
    "accs = set(ani[ani[2]>=95][0])"
   ]
  },
  {
   "cell_type": "code",
   "execution_count": 9,
   "metadata": {},
   "outputs": [],
   "source": [
    "with Pool(88) as p:\n",
    "    try:\n",
    "        for filepath in dirpath.iterdir():\n",
    "            if filepath.stem in accs:\n",
    "                p.apply_async(run_busco, (filepath, filepath.stem, outpath, database_path, 1))\n",
    "        p.close()\n",
    "        p.join()\n",
    "    except KeyboardInterrupt:\n",
    "        p.terminate()"
   ]
  },
  {
   "cell_type": "code",
   "execution_count": null,
   "metadata": {},
   "outputs": [],
   "source": []
  },
  {
   "cell_type": "code",
   "execution_count": 10,
   "metadata": {},
   "outputs": [],
   "source": [
    "def busco_summary(file):\n",
    "    prog = re.compile('C:([0-9]+.[0-9])%\\[S:([0-9]+.[0-9])%,D:([0-9]+.[0-9])%\\],F:([0-9]+.[0-9])%,M:([0-9]+.[0-9])%')\n",
    "    with open(file) as handle:\n",
    "        for line in handle.readlines():\n",
    "            match = prog.search(line)\n",
    "            if match:\n",
    "                return match.groups()"
   ]
  },
  {
   "cell_type": "code",
   "execution_count": 11,
   "metadata": {},
   "outputs": [],
   "source": [
    "dirpath = Path('/media/Central_Lab_Storage/NcbiSRA/NCBI_Kp_SRA/Busco')"
   ]
  },
  {
   "cell_type": "code",
   "execution_count": 12,
   "metadata": {},
   "outputs": [],
   "source": [
    "data = []\n",
    "for i in dirpath.iterdir():\n",
    "    lineage, sample_name = i.stem.split('.', 3)[-2:]\n",
    "    complete, single, duplicated, fragmented, missing = busco_summary(i)\n",
    "    data.append((sample_name, lineage, complete, single, duplicated, fragmented, missing))"
   ]
  },
  {
   "cell_type": "code",
   "execution_count": 13,
   "metadata": {},
   "outputs": [
    {
     "data": {
      "text/html": [
       "<div>\n",
       "<style scoped>\n",
       "    .dataframe tbody tr th:only-of-type {\n",
       "        vertical-align: middle;\n",
       "    }\n",
       "\n",
       "    .dataframe tbody tr th {\n",
       "        vertical-align: top;\n",
       "    }\n",
       "\n",
       "    .dataframe thead th {\n",
       "        text-align: right;\n",
       "    }\n",
       "</style>\n",
       "<table border=\"1\" class=\"dataframe\">\n",
       "  <thead>\n",
       "    <tr style=\"text-align: right;\">\n",
       "      <th></th>\n",
       "      <th>Key</th>\n",
       "      <th>lineage</th>\n",
       "      <th>complete</th>\n",
       "      <th>single</th>\n",
       "      <th>duplicated</th>\n",
       "      <th>fragmented</th>\n",
       "      <th>missing</th>\n",
       "    </tr>\n",
       "  </thead>\n",
       "  <tbody>\n",
       "    <tr>\n",
       "      <th>0</th>\n",
       "      <td>ERR1852957</td>\n",
       "      <td>enterobacterales_odb10</td>\n",
       "      <td>98.7</td>\n",
       "      <td>98.2</td>\n",
       "      <td>0.5</td>\n",
       "      <td>0.2</td>\n",
       "      <td>1.1</td>\n",
       "    </tr>\n",
       "    <tr>\n",
       "      <th>1</th>\n",
       "      <td>SRR6892745</td>\n",
       "      <td>enterobacterales_odb10</td>\n",
       "      <td>94.7</td>\n",
       "      <td>94.5</td>\n",
       "      <td>0.2</td>\n",
       "      <td>2.5</td>\n",
       "      <td>2.8</td>\n",
       "    </tr>\n",
       "    <tr>\n",
       "      <th>2</th>\n",
       "      <td>ERR1640653</td>\n",
       "      <td>enterobacterales_odb10</td>\n",
       "      <td>98.7</td>\n",
       "      <td>98.2</td>\n",
       "      <td>0.5</td>\n",
       "      <td>0.2</td>\n",
       "      <td>1.1</td>\n",
       "    </tr>\n",
       "    <tr>\n",
       "      <th>3</th>\n",
       "      <td>ERR1289820</td>\n",
       "      <td>enterobacterales_odb10</td>\n",
       "      <td>98.6</td>\n",
       "      <td>97.7</td>\n",
       "      <td>0.9</td>\n",
       "      <td>0.2</td>\n",
       "      <td>1.2</td>\n",
       "    </tr>\n",
       "    <tr>\n",
       "      <th>4</th>\n",
       "      <td>SRR5385935</td>\n",
       "      <td>enterobacterales_odb10</td>\n",
       "      <td>98.5</td>\n",
       "      <td>98.0</td>\n",
       "      <td>0.5</td>\n",
       "      <td>0.2</td>\n",
       "      <td>1.3</td>\n",
       "    </tr>\n",
       "    <tr>\n",
       "      <th>5</th>\n",
       "      <td>ERR1217299</td>\n",
       "      <td>enterobacterales_odb10</td>\n",
       "      <td>98.9</td>\n",
       "      <td>98.4</td>\n",
       "      <td>0.5</td>\n",
       "      <td>0.2</td>\n",
       "      <td>0.9</td>\n",
       "    </tr>\n",
       "    <tr>\n",
       "      <th>6</th>\n",
       "      <td>SRR6958726</td>\n",
       "      <td>enterobacterales_odb10</td>\n",
       "      <td>98.7</td>\n",
       "      <td>98.2</td>\n",
       "      <td>0.5</td>\n",
       "      <td>0.2</td>\n",
       "      <td>1.1</td>\n",
       "    </tr>\n",
       "    <tr>\n",
       "      <th>7</th>\n",
       "      <td>SRR5886490</td>\n",
       "      <td>enterobacterales_odb10</td>\n",
       "      <td>98.7</td>\n",
       "      <td>98.2</td>\n",
       "      <td>0.5</td>\n",
       "      <td>0.2</td>\n",
       "      <td>1.1</td>\n",
       "    </tr>\n",
       "    <tr>\n",
       "      <th>8</th>\n",
       "      <td>SRR5386082</td>\n",
       "      <td>enterobacterales_odb10</td>\n",
       "      <td>98.7</td>\n",
       "      <td>98.0</td>\n",
       "      <td>0.7</td>\n",
       "      <td>0.2</td>\n",
       "      <td>1.1</td>\n",
       "    </tr>\n",
       "    <tr>\n",
       "      <th>9</th>\n",
       "      <td>ERR1218735</td>\n",
       "      <td>enterobacterales_odb10</td>\n",
       "      <td>98.7</td>\n",
       "      <td>98.2</td>\n",
       "      <td>0.5</td>\n",
       "      <td>0.2</td>\n",
       "      <td>1.1</td>\n",
       "    </tr>\n",
       "    <tr>\n",
       "      <th>10</th>\n",
       "      <td>ERR2693432</td>\n",
       "      <td>enterobacterales_odb10</td>\n",
       "      <td>98.9</td>\n",
       "      <td>98.4</td>\n",
       "      <td>0.5</td>\n",
       "      <td>0.2</td>\n",
       "      <td>0.9</td>\n",
       "    </tr>\n",
       "    <tr>\n",
       "      <th>11</th>\n",
       "      <td>SRR3996260</td>\n",
       "      <td>enterobacterales_odb10</td>\n",
       "      <td>98.9</td>\n",
       "      <td>98.4</td>\n",
       "      <td>0.5</td>\n",
       "      <td>0.2</td>\n",
       "      <td>0.9</td>\n",
       "    </tr>\n",
       "    <tr>\n",
       "      <th>12</th>\n",
       "      <td>SRR5467429</td>\n",
       "      <td>enterobacterales_odb10</td>\n",
       "      <td>98.7</td>\n",
       "      <td>98.2</td>\n",
       "      <td>0.5</td>\n",
       "      <td>0.2</td>\n",
       "      <td>1.1</td>\n",
       "    </tr>\n",
       "    <tr>\n",
       "      <th>13</th>\n",
       "      <td>SRR5386675</td>\n",
       "      <td>enterobacterales_odb10</td>\n",
       "      <td>98.7</td>\n",
       "      <td>98.2</td>\n",
       "      <td>0.5</td>\n",
       "      <td>0.2</td>\n",
       "      <td>1.1</td>\n",
       "    </tr>\n",
       "    <tr>\n",
       "      <th>14</th>\n",
       "      <td>SRR2135085</td>\n",
       "      <td>enterobacterales_odb10</td>\n",
       "      <td>98.7</td>\n",
       "      <td>98.2</td>\n",
       "      <td>0.5</td>\n",
       "      <td>0.2</td>\n",
       "      <td>1.1</td>\n",
       "    </tr>\n",
       "  </tbody>\n",
       "</table>\n",
       "</div>"
      ],
      "text/plain": [
       "           Key                 lineage complete single duplicated fragmented  \\\n",
       "0   ERR1852957  enterobacterales_odb10     98.7   98.2        0.5        0.2   \n",
       "1   SRR6892745  enterobacterales_odb10     94.7   94.5        0.2        2.5   \n",
       "2   ERR1640653  enterobacterales_odb10     98.7   98.2        0.5        0.2   \n",
       "3   ERR1289820  enterobacterales_odb10     98.6   97.7        0.9        0.2   \n",
       "4   SRR5385935  enterobacterales_odb10     98.5   98.0        0.5        0.2   \n",
       "5   ERR1217299  enterobacterales_odb10     98.9   98.4        0.5        0.2   \n",
       "6   SRR6958726  enterobacterales_odb10     98.7   98.2        0.5        0.2   \n",
       "7   SRR5886490  enterobacterales_odb10     98.7   98.2        0.5        0.2   \n",
       "8   SRR5386082  enterobacterales_odb10     98.7   98.0        0.7        0.2   \n",
       "9   ERR1218735  enterobacterales_odb10     98.7   98.2        0.5        0.2   \n",
       "10  ERR2693432  enterobacterales_odb10     98.9   98.4        0.5        0.2   \n",
       "11  SRR3996260  enterobacterales_odb10     98.9   98.4        0.5        0.2   \n",
       "12  SRR5467429  enterobacterales_odb10     98.7   98.2        0.5        0.2   \n",
       "13  SRR5386675  enterobacterales_odb10     98.7   98.2        0.5        0.2   \n",
       "14  SRR2135085  enterobacterales_odb10     98.7   98.2        0.5        0.2   \n",
       "\n",
       "   missing  \n",
       "0      1.1  \n",
       "1      2.8  \n",
       "2      1.1  \n",
       "3      1.2  \n",
       "4      1.3  \n",
       "5      0.9  \n",
       "6      1.1  \n",
       "7      1.1  \n",
       "8      1.1  \n",
       "9      1.1  \n",
       "10     0.9  \n",
       "11     0.9  \n",
       "12     1.1  \n",
       "13     1.1  \n",
       "14     1.1  "
      ]
     },
     "execution_count": 13,
     "metadata": {},
     "output_type": "execute_result"
    }
   ],
   "source": [
    "df = pd.DataFrame(data, columns=['Key', 'lineage', 'complete', 'single', 'duplicated', 'fragmented', 'missing'])\n",
    "df.head(15)"
   ]
  },
  {
   "cell_type": "code",
   "execution_count": 25,
   "metadata": {},
   "outputs": [],
   "source": [
    "df.to_csv('/media/Central_Lab_Storage/NcbiSRA/NCBI_Neisseria_meningitidis_SRA/Busco.tsv', sep='\\t', index=False)"
   ]
  },
  {
   "cell_type": "code",
   "execution_count": null,
   "metadata": {},
   "outputs": [],
   "source": []
  },
  {
   "cell_type": "code",
   "execution_count": null,
   "metadata": {},
   "outputs": [],
   "source": []
  }
 ],
 "metadata": {
  "kernelspec": {
   "display_name": "Python 3",
   "language": "python",
   "name": "python3"
  },
  "language_info": {
   "codemirror_mode": {
    "name": "ipython",
    "version": 3
   },
   "file_extension": ".py",
   "mimetype": "text/x-python",
   "name": "python",
   "nbconvert_exporter": "python",
   "pygments_lexer": "ipython3",
   "version": "3.6.13"
  }
 },
 "nbformat": 4,
 "nbformat_minor": 4
}
