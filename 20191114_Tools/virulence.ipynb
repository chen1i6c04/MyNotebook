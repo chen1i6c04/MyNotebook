{
 "cells": [
  {
   "cell_type": "code",
   "execution_count": 1,
   "metadata": {},
   "outputs": [],
   "source": [
    "import os\n",
    "from pathlib import Path\n",
    "from multiprocessing import Pool\n",
    "from tempfile import TemporaryDirectory"
   ]
  },
  {
   "cell_type": "code",
   "execution_count": 2,
   "metadata": {},
   "outputs": [],
   "source": [
    "import sys\n",
    "sys.path.append('../src')\n",
    "from application import VirulencefinderCommandline"
   ]
  },
  {
   "cell_type": "code",
   "execution_count": 3,
   "metadata": {},
   "outputs": [],
   "source": [
    "def run_virulencefinder(infile, outdir, db_path, database):\n",
    "    os.makedirs(outdir, exist_ok=True)\n",
    "    with TemporaryDirectory(dir='/tmp/') as tempdir:\n",
    "        cline = VirulencefinderCommandline('/media/GenomicResearch/Tools/CGE/virulencefinder/virulencefinder.py',\n",
    "            infile=infile, outdir=outdir, db_path=db_path, database=database, tmp=tempdir, extented_output=True, mincov=0.6, threshold=0.9 \n",
    "        )\n",
    "        cline()"
   ]
  },
  {
   "cell_type": "markdown",
   "metadata": {},
   "source": [
    "db_prefix|name|description\n",
    "---------|----|-------------\n",
    "virulence_ecoli|Escherichia coli|Virulence genes for Escherichia coli\n",
    "virulence_ent|Enterococcus|Virulence genes for Enterococcus\n",
    "listeria|Listeria|Virulence genes for Listeria\n",
    "s.aureus_exoenzyme|S. aureus|Exoenzyme genes for S. aureus   \n",
    "s.aureus_hostimm|S. aureus|Hostimm genes for S. aureus\n",
    "s.aureus_toxin|S. aureus|Toxin genes for S. aureus\n",
    "stx|Escherichia coli|Shiga-toxin genes"
   ]
  },
  {
   "cell_type": "code",
   "execution_count": 7,
   "metadata": {},
   "outputs": [],
   "source": [
    "dirpath = Path('/media/GenomicResearch/MiSeq/Listeria_monocytogenes/Contigs')\n",
    "outpath = Path('/media/GenomicResearch/MiSeq/Listeria_monocytogenes/Analysis')\n",
    "db_path = '/media/GenomicResearch/Tools/CGE/virulencefinder_db'\n",
    "database = 'listeria'"
   ]
  },
  {
   "cell_type": "code",
   "execution_count": 11,
   "metadata": {},
   "outputs": [],
   "source": [
    "run_virulencefinder(\n",
    "    '/media/GenomicResearch/MiSeq/Listeria_monocytogenes/Contigs/R21.1268.fa',\n",
    "    '/media/GenomicResearch/MiSeq/Listeria_monocytogenes/Analysis/R21.1268/virulencefinder/', db_path, database)"
   ]
  },
  {
   "cell_type": "code",
   "execution_count": 10,
   "metadata": {},
   "outputs": [],
   "source": [
    "with Pool(32) as p:\n",
    "    try:\n",
    "        for i in dirpath.iterdir():\n",
    "            outdir = outpath/i.stem/'virulencefinder'\n",
    "            p.apply_async(run_virulencefinder, args=(i, outdir, db_path, database))\n",
    "        p.close()\n",
    "        p.join()\n",
    "    except KeyboardInterrupt:\n",
    "        p.terminate()"
   ]
  },
  {
   "cell_type": "code",
   "execution_count": null,
   "metadata": {},
   "outputs": [],
   "source": []
  },
  {
   "cell_type": "code",
   "execution_count": null,
   "metadata": {},
   "outputs": [],
   "source": [
    "import pandas as pd"
   ]
  },
  {
   "cell_type": "code",
   "execution_count": null,
   "metadata": {},
   "outputs": [],
   "source": [
    "def virulence_summary(filepath):\n",
    "    df = pd.read_csv(filepath, sep='\\t')\n",
    "    df['Coverage'] = [int(qlen)/int(slen)*100 for qlen, slen in df['Query / Template length'].str.split(' / ')]\n",
    "    \n",
    "    summary = set()\n",
    "    for contig, group in df.groupby('Contig'):\n",
    "        group = group.sort_values(['Identity', 'Coverage'], ascending=[False, False])\n",
    "        i, c = group.iloc[0]['Identity'], group.iloc[0]['Coverage']\n",
    "        group = group[(group['Identity']==i)&(group['Coverage']==c)]\n",
    "        summary.update(group[\"Virulence factor\"])\n",
    "    return summary"
   ]
  },
  {
   "cell_type": "code",
   "execution_count": null,
   "metadata": {},
   "outputs": [],
   "source": [
    "dirpath = Path('/media/NGS/Data_Analysis/20210401/virulencefinder')\n",
    "summaries = dict()\n",
    "for fp in dirpath.iterdir():\n",
    "    filepath = fp/'results_tab.tsv'\n",
    "    summary = virulence_summary(filepath)\n",
    "    summaries[fp.name] = ', '.join(sorted(summary))"
   ]
  },
  {
   "cell_type": "code",
   "execution_count": null,
   "metadata": {},
   "outputs": [],
   "source": [
    "s = pd.Series(summaries)\n",
    "s.name = 'virulence gene'\n",
    "s.index.name = 'Key'"
   ]
  },
  {
   "cell_type": "code",
   "execution_count": null,
   "metadata": {},
   "outputs": [],
   "source": [
    "s.to_csv('/media/NGS/Data_Analysis/20210401/virulencefinder.tsv', sep='\\t')"
   ]
  },
  {
   "cell_type": "code",
   "execution_count": null,
   "metadata": {},
   "outputs": [],
   "source": []
  },
  {
   "cell_type": "code",
   "execution_count": null,
   "metadata": {},
   "outputs": [],
   "source": [
    "df = pd.read_csv('/media/NGS/Data_Analysis/20210401/virulencefinder.tsv', sep='\\t')"
   ]
  },
  {
   "cell_type": "code",
   "execution_count": null,
   "metadata": {},
   "outputs": [],
   "source": [
    "split_data = [(', '.join(i[:15]), ', '.join(i[15:])) for i in df['virulence gene'].str.split(', ')]"
   ]
  },
  {
   "cell_type": "code",
   "execution_count": null,
   "metadata": {},
   "outputs": [],
   "source": [
    "df['virulence gene 1'] = list(map(lambda x: x[0], split_data))\n",
    "df['virulence gene 2'] = list(map(lambda x: x[1], split_data))"
   ]
  },
  {
   "cell_type": "code",
   "execution_count": null,
   "metadata": {},
   "outputs": [],
   "source": [
    "df.to_csv('/media/NGS/Data_Analysis/20210401/virulencefinder.tsv', sep='\\t', index=False)"
   ]
  },
  {
   "cell_type": "code",
   "execution_count": null,
   "metadata": {},
   "outputs": [],
   "source": []
  }
 ],
 "metadata": {
  "kernelspec": {
   "display_name": "Python 3",
   "language": "python",
   "name": "python3"
  },
  "language_info": {
   "codemirror_mode": {
    "name": "ipython",
    "version": 3
   },
   "file_extension": ".py",
   "mimetype": "text/x-python",
   "name": "python",
   "nbconvert_exporter": "python",
   "pygments_lexer": "ipython3",
   "version": "3.6.13"
  }
 },
 "nbformat": 4,
 "nbformat_minor": 4
}
