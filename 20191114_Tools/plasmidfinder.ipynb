{
 "cells": [
  {
   "cell_type": "code",
   "execution_count": 1,
   "metadata": {},
   "outputs": [],
   "source": [
    "import os\n",
    "import sys\n",
    "import glob\n",
    "import shutil\n",
    "from pathlib import Path\n",
    "from tempfile import TemporaryDirectory\n",
    "from concurrent.futures import ProcessPoolExecutor\n",
    "from multiprocessing import Pool\n",
    "import pandas as pd"
   ]
  },
  {
   "cell_type": "code",
   "execution_count": 2,
   "metadata": {},
   "outputs": [],
   "source": [
    "sys.path.append('../src')"
   ]
  },
  {
   "cell_type": "code",
   "execution_count": 3,
   "metadata": {},
   "outputs": [],
   "source": [
    "from run import run_plasmidfinder"
   ]
  },
  {
   "cell_type": "code",
   "execution_count": 6,
   "metadata": {},
   "outputs": [],
   "source": [
    "database = '/media/GenomicResearch/Tools/CGE/plasmidfinder_db'"
   ]
  },
  {
   "cell_type": "code",
   "execution_count": null,
   "metadata": {},
   "outputs": [],
   "source": []
  },
  {
   "cell_type": "code",
   "execution_count": 12,
   "metadata": {},
   "outputs": [],
   "source": [
    "dirpath = Path(\"/media/NAS/Central_Lab_Storage/MiSeq/Salmonella_enterica/Contigs\")\n",
    "outpath = Path(\"/media/NAS/Central_Lab_Storage/MiSeq/Salmonella_enterica/Analysis\")"
   ]
  },
  {
   "cell_type": "code",
   "execution_count": 19,
   "metadata": {},
   "outputs": [],
   "source": [
    "with Pool(24) as p:\n",
    "    try:\n",
    "        for filepath in dirpath.iterdir():\n",
    "            outdir = outpath/filepath.stem/'plasmidfinder'\n",
    "            if outdir.exists() is False:\n",
    "                p.apply_async(run_plasmidfinder, (filepath, outdir, database))\n",
    "        p.close()\n",
    "        p.join()\n",
    "    except:\n",
    "        p.terminate()"
   ]
  },
  {
   "cell_type": "code",
   "execution_count": 24,
   "metadata": {},
   "outputs": [],
   "source": [
    "def plasmidfinder_summary(filepath):\n",
    "    df = pd.read_csv(filepath, sep='\\t')\n",
    "    return df['Plasmid'].sort_values().str.cat(sep=', ')"
   ]
  },
  {
   "cell_type": "code",
   "execution_count": 20,
   "metadata": {},
   "outputs": [],
   "source": [
    "dirpath = Path('/media/NAS/Central_Lab_Storage/MiSeq/Salmonella_enterica/Analysis')"
   ]
  },
  {
   "cell_type": "code",
   "execution_count": 25,
   "metadata": {},
   "outputs": [],
   "source": [
    "summaries = dict()\n",
    "for i in dirpath.iterdir():\n",
    "    filepath = i/'plasmidfinder'/'results_tab.tsv'\n",
    "    summary = plasmidfinder_summary(filepath)\n",
    "    summaries[i.name] = summary"
   ]
  },
  {
   "cell_type": "code",
   "execution_count": 29,
   "metadata": {},
   "outputs": [],
   "source": [
    "s = pd.Series(summaries)\n",
    "s.name = 'plasmid_type'\n",
    "s.index.name = 'Key'"
   ]
  },
  {
   "cell_type": "code",
   "execution_count": 32,
   "metadata": {},
   "outputs": [],
   "source": [
    "s.to_csv('/media/NAS/Central_Lab_Storage/MiSeq/Salmonella_enterica/plasmidfiner.tsv', sep='\\t')"
   ]
  },
  {
   "cell_type": "code",
   "execution_count": null,
   "metadata": {},
   "outputs": [],
   "source": []
  },
  {
   "cell_type": "code",
   "execution_count": 7,
   "metadata": {},
   "outputs": [],
   "source": [
    "run_plasmidfinder('/media/Central_Lab_Storage/MinION/mNGS/20211214_ICU11-15/denovo/barcode01+02+03/contigs.fasta',\n",
    "                  '/media/Central_Lab_Storage/MinION/mNGS/20211214_ICU11-15/plasmidfinder/barcode01+02+03', database)"
   ]
  },
  {
   "cell_type": "code",
   "execution_count": null,
   "metadata": {},
   "outputs": [],
   "source": []
  }
 ],
 "metadata": {
  "kernelspec": {
   "display_name": "Python 3",
   "language": "python",
   "name": "python3"
  },
  "language_info": {
   "codemirror_mode": {
    "name": "ipython",
    "version": 3
   },
   "file_extension": ".py",
   "mimetype": "text/x-python",
   "name": "python",
   "nbconvert_exporter": "python",
   "pygments_lexer": "ipython3",
   "version": "3.6.13"
  }
 },
 "nbformat": 4,
 "nbformat_minor": 4
}
