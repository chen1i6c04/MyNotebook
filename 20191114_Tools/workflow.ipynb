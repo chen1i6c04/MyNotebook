{
 "cells": [
  {
   "cell_type": "code",
   "execution_count": 55,
   "metadata": {},
   "outputs": [],
   "source": [
    "import os\n",
    "import sys\n",
    "import json\n",
    "import shutil\n",
    "from pathlib import Path\n",
    "from collections import defaultdict\n",
    "from tempfile import TemporaryDirectory\n",
    "from concurrent.futures import ProcessPoolExecutor\n",
    "\n",
    "import pandas as pd\n",
    "\n",
    "sys.path.append('../src')\n",
    "from command import run_cmd"
   ]
  },
  {
   "cell_type": "code",
   "execution_count": 2,
   "metadata": {},
   "outputs": [],
   "source": [
    "def run_amrfinder(infile, outfile, database, threads=2):\n",
    "    tmp = TemporaryDirectory(dir='/tmp')\n",
    "    tmp_dir = tmp.name\n",
    "    tmp_file = os.path.join(tmp_dir, 'locus.faa')\n",
    "    run_cmd(f'prodigal -i {infile} -a {tmp_file}')\n",
    "    run_cmd(f'amrfinder -p {tmp_file} -o {outfile} -d {database} --threads {threads}')\n",
    "    \n",
    "def run_mlst(infile, outdir, database, species):\n",
    "    os.makedirs(outdir, exist_ok=True)\n",
    "    tmp = TemporaryDirectory(dir='/tmp')\n",
    "    tmp_dir = tmp.name\n",
    "    run_cmd(f'mlst.py -i {infile} -o {outdir} -p {database} -s {species} -t {tmp_dir} -x')\n",
    "    \n",
    "def run_plasmidfinder(infile, outdir, database):\n",
    "    os.makedirs(outdir, exist_ok=True)\n",
    "    tmp = TemporaryDirectory(dir='/tmp')\n",
    "    tmp_dir = tmp.name\n",
    "    run_cmd(f'plasmidfinder.py -i {infile} -o {outdir} -p {database} -tmp {tmp_dir} -x')\n",
    "    \n",
    "def run_pointfinder(infile, outdir, database, species):\n",
    "    os.makedirs(outdir, exist_ok=True)\n",
    "    run_cmd(f'pointfinder.py -i {infile} -o {outdir} -p {database} -s {species} -m blastn -m_p /usr/bin/blastn')\n",
    "    shutil.rmtree(os.path.join(outdir, 'tmp'))"
   ]
  },
  {
   "cell_type": "code",
   "execution_count": 6,
   "metadata": {},
   "outputs": [],
   "source": [
    "AMRFINDER_DB = '/home/chen1i6c04/Tools/amr/database/latest'\n",
    "MLST_DB = '/media/NGS/Data_Analysis/CGE/mlst_db'\n",
    "PLASMIDFINDER_DB = '/media/NGS/Data_Analysis/CGE/plasmidfinder_db/'\n",
    "POINTFINDER_DB = '/media/NGS/Data_Analysis/CGE/pointfinder_db/'\n",
    "\n",
    "\n",
    "def check_mlst_species(species):\n",
    "    config = pd.read_csv(os.path.join(MLST_DB, 'config'), sep='\\t', header=3)\n",
    "    if species not in set(config['# species_db']):\n",
    "        raise\n",
    "        \n",
    "def check_pointfinder_organism(organism):\n",
    "    config = pd.read_csv(os.path.join(POINTFINDER_DB, 'config'), sep='\\t', header=3)\n",
    "    if organism not in set(config['#db_prefix']):\n",
    "        raise\n",
    "\n",
    "def fn(infile, outdir, mlst_species=None, pointfinder_organism=None):\n",
    "    os.makedirs(outdir)\n",
    "    if mlst_species:\n",
    "        check_mlst_species(mlst_species)\n",
    "        run_mlst(infile, os.path.join(outdir, 'mlst'), MLST_DB, mlst_species)\n",
    "    if pointfinder_organism:\n",
    "        check_pointfinder_organism(pointfinder_organism)\n",
    "        run_pointfinder(infile, os.path.join(outdir, 'pointfinder'), POINTFINDER_DB, pointfinder_organism)\n",
    "    run_amrfinder(infile=infile, outfile=os.path.join(outdir, 'amrfinder.txt'), database=AMRFINDER_DB)\n",
    "    run_plasmidfinder(infile, os.path.join(outdir, 'plasmidfinder'), PLASMIDFINDER_DB)     "
   ]
  },
  {
   "cell_type": "code",
   "execution_count": 7,
   "metadata": {},
   "outputs": [],
   "source": [
    "dirpath = Path('/media/NGS/Data_Analysis/20191128_CDC_MiSeq/Campylobacter/Contigs')\n",
    "outpath = Path('/media/NGS/Data_Analysis/20191128_CDC_MiSeq/Campylobacter/Analyze')\n",
    "\n",
    "with ProcessPoolExecutor(32) as executor:\n",
    "    for i in dirpath.iterdir():\n",
    "        executor.submit(fn, i, outpath/i.stem, 'campylobacter', 'campylobacter')"
   ]
  },
  {
   "cell_type": "code",
   "execution_count": null,
   "metadata": {},
   "outputs": [],
   "source": []
  },
  {
   "cell_type": "code",
   "execution_count": 8,
   "metadata": {},
   "outputs": [],
   "source": [
    "def amr_profile_summary(source):\n",
    "    pf = pd.read_csv(source, sep='\\t')\n",
    "    pf = pf.drop_duplicates('Gene symbol')\n",
    "    pf = pf[pf['Element type'] == 'AMR']\n",
    "    summary = pf.groupby('Class')['Gene symbol'].apply(', '.join)\n",
    "    return summary"
   ]
  },
  {
   "cell_type": "code",
   "execution_count": 16,
   "metadata": {},
   "outputs": [],
   "source": [
    "summaries = []\n",
    "for i in outpath.iterdir():\n",
    "    summary = amr_profile_summary(i/'amrfinder.txt')\n",
    "    summary.name = i.name\n",
    "    summaries.append(summary)\n",
    "summaries = pd.concat(summaries, axis=1).T\n",
    "summaries.columns = summaries.columns.str.title()\n",
    "summaries.index.name = 'Key'"
   ]
  },
  {
   "cell_type": "code",
   "execution_count": 17,
   "metadata": {},
   "outputs": [],
   "source": [
    "summaries.to_csv('/media/NGS/Data_Analysis/20191128_CDC_MiSeq/Campylobacter/AMR.csv')"
   ]
  },
  {
   "cell_type": "code",
   "execution_count": null,
   "metadata": {},
   "outputs": [],
   "source": []
  },
  {
   "cell_type": "code",
   "execution_count": 18,
   "metadata": {},
   "outputs": [],
   "source": [
    "def MlstParser(source):\n",
    "    with open(source) as f:\n",
    "        data = json.load(f)\n",
    "    result = data['mlst']['results']\n",
    "    summary = dict()\n",
    "    summary['ST'] = result['sequence_type']\n",
    "    for locus_id, info in result['allele_profile'].items():\n",
    "        summary[locus_id] = info['allele']\n",
    "    return summary"
   ]
  },
  {
   "cell_type": "code",
   "execution_count": 21,
   "metadata": {},
   "outputs": [],
   "source": [
    "summaries = dict()\n",
    "for i in outpath.iterdir():\n",
    "    summary = MlstParser(i/'mlst'/'data.json')\n",
    "    summaries[i.name] = summary\n",
    "df = pd.DataFrame(summaries).T\n",
    "df.index.name = 'Key'"
   ]
  },
  {
   "cell_type": "code",
   "execution_count": 23,
   "metadata": {},
   "outputs": [],
   "source": [
    "df.to_csv('/media/NGS/Data_Analysis/20191128_CDC_MiSeq/Campylobacter/MLST.csv')"
   ]
  },
  {
   "cell_type": "code",
   "execution_count": null,
   "metadata": {},
   "outputs": [],
   "source": []
  },
  {
   "cell_type": "code",
   "execution_count": 32,
   "metadata": {},
   "outputs": [],
   "source": [
    "summaries = dict()\n",
    "for i in outpath.iterdir():\n",
    "    result = pd.read_csv(i/'plasmidfinder'/'results_tab.tsv', sep='\\t')\n",
    "    result = result.drop_duplicates('Plasmid')\n",
    "    summaries[i.name] = ', '.join(result['Plasmid'])\n",
    "s = pd.Series(summaries, name='Plasmid')\n",
    "s.index.name = 'Key'"
   ]
  },
  {
   "cell_type": "code",
   "execution_count": 33,
   "metadata": {},
   "outputs": [],
   "source": [
    "s.to_csv('/media/NGS/Data_Analysis/20191128_CDC_MiSeq/Campylobacter/Plasmid.csv')"
   ]
  },
  {
   "cell_type": "code",
   "execution_count": null,
   "metadata": {},
   "outputs": [],
   "source": []
  },
  {
   "cell_type": "code",
   "execution_count": 78,
   "metadata": {},
   "outputs": [],
   "source": [
    "summaries = dict()\n",
    "for i in outpath.iterdir():\n",
    "    summary = defaultdict(list)\n",
    "    for j in (i/'pointfinder').glob('*.tsv'):\n",
    "        pf = pd.read_csv(j, sep='\\t')\n",
    "        for gene, position in pf['Mutation'].str.split(' '):\n",
    "            summary[gene].append(position)\n",
    "    summary = {k: ', '.join(v) for k, v in summary.items()}\n",
    "    summaries[i.name] = summary\n",
    "\n",
    "summaries = pd.DataFrame(summaries).T\n",
    "summaries.index.name = 'Key'"
   ]
  },
  {
   "cell_type": "code",
   "execution_count": 79,
   "metadata": {},
   "outputs": [],
   "source": [
    "summaries.to_csv('/media/NGS/Data_Analysis/20191128_CDC_MiSeq/Campylobacter/Point-mutations.csv')"
   ]
  },
  {
   "cell_type": "code",
   "execution_count": null,
   "metadata": {},
   "outputs": [],
   "source": []
  }
 ],
 "metadata": {
  "kernelspec": {
   "display_name": "Python 3",
   "language": "python",
   "name": "python3"
  },
  "language_info": {
   "codemirror_mode": {
    "name": "ipython",
    "version": 3
   },
   "file_extension": ".py",
   "mimetype": "text/x-python",
   "name": "python",
   "nbconvert_exporter": "python",
   "pygments_lexer": "ipython3",
   "version": "3.6.10"
  }
 },
 "nbformat": 4,
 "nbformat_minor": 4
}
