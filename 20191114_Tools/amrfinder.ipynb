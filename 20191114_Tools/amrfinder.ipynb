{
 "cells": [
  {
   "cell_type": "code",
   "execution_count": 1,
   "metadata": {},
   "outputs": [],
   "source": [
    "import os\n",
    "from pathlib import Path\n",
    "from tempfile import TemporaryDirectory\n",
    "from multiprocessing import Pool\n",
    "import pandas as pd"
   ]
  },
  {
   "cell_type": "code",
   "execution_count": 2,
   "metadata": {},
   "outputs": [],
   "source": [
    "import sys\n",
    "sys.path.append('../src')\n",
    "from run import run_amrfinder\n",
    "from parse import parse_amrfinder_result"
   ]
  },
  {
   "cell_type": "code",
   "execution_count": 6,
   "metadata": {},
   "outputs": [],
   "source": [
    "run_amrfinder(\n",
    "    '/media/GenomicResearch/MiSeq/Neisseria_meningitidis/Contigs/R18.2594.fa',\n",
    "    '/home/chen1i6c04/test.txt',\n",
    "    '/media/GenomicResearch/Tools/amrfinder_database/latest',\n",
    "    **{'threads': 16, 'organism': 'Neisseria'}\n",
    ")"
   ]
  },
  {
   "cell_type": "code",
   "execution_count": null,
   "metadata": {},
   "outputs": [],
   "source": [
    "with open('/media/Central_Lab_Storage/NcbiASM/Burkholderia_cepacia/selected.txt') as f:\n",
    "    accs = set(f.read().splitlines())"
   ]
  },
  {
   "cell_type": "code",
   "execution_count": 3,
   "metadata": {},
   "outputs": [],
   "source": [
    "dirpath = Path('/media/GenomicResearch/Issue/20211223_plasmid_HI2/contigs')\n",
    "outpath = Path('/media/GenomicResearch/Issue/20211223_plasmid_HI2/amrfinder')\n",
    "database = '/media/GenomicResearch/Tools/amrfinder_database/latest'\n",
    "# organism = 'Neisseria'"
   ]
  },
  {
   "cell_type": "code",
   "execution_count": 4,
   "metadata": {},
   "outputs": [],
   "source": [
    "with Pool(16) as p:\n",
    "    try:\n",
    "        for i in dirpath.iterdir():\n",
    "            outfile = outpath/(i.stem + '.txt')\n",
    "            p.apply_async(\n",
    "                run_amrfinder,\n",
    "                args=(i, outfile, database),\n",
    "                kwds={'threads': 4}\n",
    "            )\n",
    "#             infile = i\n",
    "#             outfile = outpath/i.stem/('amrfinder.txt')\n",
    "#             p.apply_async(\n",
    "#                 run_amrfinder,\n",
    "#                 args=(infile, outfile, database),\n",
    "#                 kwds={'organism': organism, 'threads': 8}\n",
    "#             )\n",
    "        p.close()\n",
    "        p.join()\n",
    "    except KeyboardInterrupt:\n",
    "        p.terminate()"
   ]
  },
  {
   "cell_type": "code",
   "execution_count": null,
   "metadata": {},
   "outputs": [],
   "source": []
  },
  {
   "cell_type": "code",
   "execution_count": 6,
   "metadata": {},
   "outputs": [],
   "source": [
    "dirpath = Path('/media/GenomicResearch/Issue/20211223_plasmid_HI2/amrfinder')\n",
    "\n",
    "summaries = dict()\n",
    "for result_file in dirpath.iterdir():\n",
    "    summaries[result_file.stem] = ', '.join(sorted(set(record['gene_symbol'] for record in parse_amrfinder_result(result_file))))"
   ]
  },
  {
   "cell_type": "code",
   "execution_count": 27,
   "metadata": {},
   "outputs": [],
   "source": [
    "s = pd.Series(summaries, name='AMR').sort_index()"
   ]
  },
  {
   "cell_type": "code",
   "execution_count": 28,
   "metadata": {},
   "outputs": [],
   "source": [
    "s.index.name = 'sample_name'"
   ]
  },
  {
   "cell_type": "code",
   "execution_count": 29,
   "metadata": {},
   "outputs": [
    {
     "data": {
      "text/plain": [
       "sample_name\n",
       "5A-sal-05_300k    aac(3)-IId, aadA22, aph(3')-Ia, aph(6)-Id, arr...\n",
       "5A-sal-07_294k    aac(3)-IId, aadA22, aph(3')-Ia, aph(6)-Id, arr...\n",
       "AP023191.1        aac(3)-IId, aadA22, aph(3')-Ia, aph(6)-Id, arr...\n",
       "AP023198.1        aac(3)-IId, aadA22, aph(3')-Ia, aph(6)-Id, arr...\n",
       "CP033347.2        aac(3)-IId, aadA22, aph(3')-Ia, aph(6)-Id, arr...\n",
       "CP034785.1            aph(3')-Ia, blaTEM-135, floR, mcr-1.1, tet(M)\n",
       "CP037959.1        aac(3)-IId, aadA22, aph(3')-Ia, aph(6)-Id, arr...\n",
       "CP039170.1        aac(3)-IId, aadA22, aph(3')-Ia, aph(6)-Id, arr...\n",
       "CP039861.1        aac(3)-IId, aadA22, aph(3')-Ia, arr-2, dfrA14,...\n",
       "CP048776.1        aac(3)-IId, aadA22, aph(3')-Ia, aph(6)-Id, arr...\n",
       "CP063719.1        aac(3)-IId, aadA22, aph(3')-Ia, arr-2, blaCTX-...\n",
       "CP068042.1        aac(3)-IId, aadA22, aph(3')-Ia, arr-2, blaCTX-...\n",
       "CP072803.1        aadA8, aph(3')-Ia, aph(6)-Id, arr-2, dfrA14, f...\n",
       "CP080122.1        aadA22, aph(3')-Ia, aph(6)-Id, arr-2, dfrA14, ...\n",
       "LC511658.1        aac(3)-IId, aadA22, aph(3')-Ia, aph(6)-Id, arr...\n",
       "Name: AMR, dtype: object"
      ]
     },
     "execution_count": 29,
     "metadata": {},
     "output_type": "execute_result"
    }
   ],
   "source": [
    "s"
   ]
  },
  {
   "cell_type": "code",
   "execution_count": 30,
   "metadata": {},
   "outputs": [],
   "source": [
    "s.to_csv('/media/GenomicResearch/Issue/20211223_plasmid_HI2/amrfinder_results.tsv', sep='\\t')"
   ]
  },
  {
   "cell_type": "code",
   "execution_count": null,
   "metadata": {},
   "outputs": [],
   "source": []
  }
 ],
 "metadata": {
  "kernelspec": {
   "display_name": "Python 3",
   "language": "python",
   "name": "python3"
  },
  "language_info": {
   "codemirror_mode": {
    "name": "ipython",
    "version": 3
   },
   "file_extension": ".py",
   "mimetype": "text/x-python",
   "name": "python",
   "nbconvert_exporter": "python",
   "pygments_lexer": "ipython3",
   "version": "3.6.13"
  }
 },
 "nbformat": 4,
 "nbformat_minor": 4
}
