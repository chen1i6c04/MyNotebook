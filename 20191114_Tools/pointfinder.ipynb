{
 "cells": [
  {
   "cell_type": "code",
   "execution_count": 1,
   "metadata": {},
   "outputs": [],
   "source": [
    "import os\n",
    "import shutil\n",
    "from pathlib import Path\n",
    "from collections import defaultdict\n",
    "from concurrent.futures import ProcessPoolExecutor\n",
    "\n",
    "import pandas as pd\n",
    "from Bio.Application import AbstractCommandline, _Option, _Switch"
   ]
  },
  {
   "cell_type": "code",
   "execution_count": 2,
   "metadata": {},
   "outputs": [],
   "source": [
    "class PointfinderCommandline(AbstractCommandline):\n",
    "    def __init__(self, cmd='pointfinder.py', **kwargs):\n",
    "        self.parameters = [\n",
    "            _Option(['-i', 'infile'], '', equate=False, is_required=True),\n",
    "            _Option(['-o', 'outdir'], '', equate=False, is_required=True),\n",
    "            _Option(['-p', 'database'], '', equate=False, is_required=True),\n",
    "            _Option(['-s', 'species'], '', equate=False, is_required=True),\n",
    "            _Option(['-t', 'threshold'], '', equate=False),\n",
    "            _Option(['-l', 'min_cov'], '', equate=False),\n",
    "            _Option(['-m', 'method'], '', equate=False),\n",
    "            _Option(['-m_p', 'method_path'], '', equate=False),\n",
    "            _Switch(['-n', 'no_Ns'], ''),\n",
    "            _Switch(['-u', 'unknown_mut'], ''),\n",
    "            _Switch(['-r', 'stop_codons'], ''),\n",
    "        ]\n",
    "        AbstractCommandline.__init__(self, cmd, **kwargs)"
   ]
  },
  {
   "cell_type": "code",
   "execution_count": 3,
   "metadata": {},
   "outputs": [],
   "source": [
    "def run_pointfinder(src, outdir, database, species, threshold=0.8, unknown_mut=False):\n",
    "    os.makedirs(outdir, exist_ok=True)\n",
    "    dst = os.path.join(outdir, 'contigs.fa')\n",
    "    os.symlink(src, dst)\n",
    "    cline = PointfinderCommandline(infile=dst, outdir=outdir, database=database, species=species,\n",
    "                                   method='blastn', method_path='/usr/bin/blastn', unknown_mut=unknown_mut)\n",
    "    cline()\n",
    "    os.remove(dst)\n",
    "    shutil.rmtree(os.path.join(outdir, 'tmp'))"
   ]
  },
  {
   "cell_type": "code",
   "execution_count": 4,
   "metadata": {},
   "outputs": [],
   "source": [
    "dirpath = Path('/media/NGS/Data_Analysis/20210401_NHRI_Ecoli/Contigs')\n",
    "outpath = Path('/media/NGS/Data_Analysis/20210401_NHRI_Ecoli/Analysis')\n",
    "database='/media/NGS/Data_Analysis/CGE/pointfinder_db/'\n",
    "species='escherichia_coli'"
   ]
  },
  {
   "cell_type": "code",
   "execution_count": 5,
   "metadata": {},
   "outputs": [],
   "source": [
    "with ProcessPoolExecutor(64) as executor:\n",
    "    for filepath in dirpath.iterdir():\n",
    "        outdir = outpath/filepath.stem/'pointfinder'\n",
    "        executor.submit(run_pointfinder, filepath, outdir, database, species, threshold=0.6, unknown_mut=False)"
   ]
  },
  {
   "cell_type": "code",
   "execution_count": null,
   "metadata": {},
   "outputs": [],
   "source": [
    "dirpath = Path('/media/NAS/Synology_222/3_個人儲存區/陳柏翰/佑文資料/Pointfinder')"
   ]
  },
  {
   "cell_type": "code",
   "execution_count": null,
   "metadata": {},
   "outputs": [],
   "source": [
    "summaries = dict()\n",
    "for subpath in dirpath.iterdir():\n",
    "    filepath = subpath/'PointFinder_results.txt'\n",
    "    df = pd.read_csv(filepath, sep='\\t')\n",
    "    summary = defaultdict(list)\n",
    "    for gene_name, position in df['Mutation'].str.split(' ', 1):\n",
    "        summary[gene_name].append(position)\n",
    "    summary = {i: ', '.join(j) for i, j in summary.items()}\n",
    "    summaries[filepath.parent.name] = summary"
   ]
  },
  {
   "cell_type": "code",
   "execution_count": null,
   "metadata": {},
   "outputs": [],
   "source": [
    "summaries = pd.DataFrame(summaries).T\n",
    "summaries.index.name = 'ID'\n",
    "summaries = summaries.sort_index()"
   ]
  },
  {
   "cell_type": "code",
   "execution_count": null,
   "metadata": {},
   "outputs": [],
   "source": [
    "summaries.to_csv('/media/NAS/Synology_222/3_個人儲存區/陳柏翰/佑文資料/Pointfinder.tsv', sep='\\t')"
   ]
  },
  {
   "cell_type": "code",
   "execution_count": null,
   "metadata": {},
   "outputs": [],
   "source": []
  },
  {
   "cell_type": "code",
   "execution_count": null,
   "metadata": {},
   "outputs": [],
   "source": [
    "import re"
   ]
  },
  {
   "cell_type": "code",
   "execution_count": null,
   "metadata": {},
   "outputs": [],
   "source": [
    "gene_name = 'gyrA'\n",
    "position = '86'"
   ]
  },
  {
   "cell_type": "code",
   "execution_count": null,
   "metadata": {},
   "outputs": [],
   "source": [
    "def specific_mutation(pointfinder_output, gene_name, position):\n",
    "    df = pd.read_csv(pointfinder_output, sep='\\t')\n",
    "    df = df[df['Mutation'].str.startswith(gene_name)]\n",
    "    position_match = df['Mutation'].agg(lambda x :re.findall('[0-9]+', x)[-1]) == position\n",
    "#     change_match = df['Nucleotide change'].agg(lambda x :tuple(re.findall('[A-Z]', x))) == change\n",
    "    if position_match.any():\n",
    "        return df[position_match]"
   ]
  },
  {
   "cell_type": "code",
   "execution_count": null,
   "metadata": {},
   "outputs": [],
   "source": [
    "dirpath = Path('/media/NGS/MiSeqAnalysis/Campylobacter_coli/pointfinder_all')\n",
    "\n",
    "results = []\n",
    "for fp in dirpath.iterdir():\n",
    "    pointfinder_output = fp/'contigs_blastn_results.tsv'\n",
    "    result = specific_mutation(pointfinder_output, gene_name, position)\n",
    "    if result is not None:\n",
    "        result.index = [fp.name]\n",
    "        results.append(result)"
   ]
  },
  {
   "cell_type": "code",
   "execution_count": null,
   "metadata": {},
   "outputs": [],
   "source": [
    "pd.concat(results)"
   ]
  },
  {
   "cell_type": "code",
   "execution_count": null,
   "metadata": {},
   "outputs": [],
   "source": []
  },
  {
   "cell_type": "code",
   "execution_count": null,
   "metadata": {},
   "outputs": [],
   "source": []
  }
 ],
 "metadata": {
  "kernelspec": {
   "display_name": "Python 3",
   "language": "python",
   "name": "python3"
  },
  "language_info": {
   "codemirror_mode": {
    "name": "ipython",
    "version": 3
   },
   "file_extension": ".py",
   "mimetype": "text/x-python",
   "name": "python",
   "nbconvert_exporter": "python",
   "pygments_lexer": "ipython3",
   "version": "3.6.12"
  }
 },
 "nbformat": 4,
 "nbformat_minor": 4
}
