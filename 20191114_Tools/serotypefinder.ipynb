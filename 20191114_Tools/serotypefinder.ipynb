{
 "cells": [
  {
   "cell_type": "code",
   "execution_count": 1,
   "metadata": {},
   "outputs": [],
   "source": [
    "import os\n",
    "import sys\n",
    "import json\n",
    "import subprocess\n",
    "from pathlib import Path\n",
    "from tempfile import TemporaryDirectory\n",
    "from concurrent.futures import ProcessPoolExecutor\n",
    "import pandas as pd"
   ]
  },
  {
   "cell_type": "code",
   "execution_count": 2,
   "metadata": {},
   "outputs": [],
   "source": [
    "sys.path.append('../src')"
   ]
  },
  {
   "cell_type": "code",
   "execution_count": 3,
   "metadata": {},
   "outputs": [],
   "source": [
    "from application import SerotypefinderCommandline"
   ]
  },
  {
   "cell_type": "code",
   "execution_count": 4,
   "metadata": {},
   "outputs": [],
   "source": [
    "def run_serotypefinder(infile, outdir, db_path):\n",
    "    os.makedirs(outdir, exist_ok=True)\n",
    "    with TemporaryDirectory(dir='/tmp/') as tmpdir:\n",
    "        cline = SerotypefinderCommandline(\n",
    "            infile=infile, outdir=outdir, db_path=db_path, tmp=tmpdir, extented_output=True\n",
    "        )\n",
    "        cline()"
   ]
  },
  {
   "cell_type": "code",
   "execution_count": 3,
   "metadata": {},
   "outputs": [],
   "source": [
    "dirpath = Path('/media/NGS/Data_Analysis/20210401/Contigs')\n",
    "outpath = Path('/media/NGS/Data_Analysis/20210401/serotypefinder')\n",
    "database = '/media/NGS/Data_Analysis/CGE/serotypefinder_db'"
   ]
  },
  {
   "cell_type": "code",
   "execution_count": 4,
   "metadata": {},
   "outputs": [],
   "source": [
    "with ProcessPoolExecutor(48) as executor:\n",
    "    for filepath in dirpath.iterdir():\n",
    "        outdir = outpath/filepath.stem\n",
    "        executor.submit(run, filepath, outdir, database)"
   ]
  },
  {
   "cell_type": "code",
   "execution_count": null,
   "metadata": {},
   "outputs": [],
   "source": []
  },
  {
   "cell_type": "code",
   "execution_count": 24,
   "metadata": {},
   "outputs": [
    {
     "data": {
      "text/html": [
       "<div>\n",
       "<style scoped>\n",
       "    .dataframe tbody tr th:only-of-type {\n",
       "        vertical-align: middle;\n",
       "    }\n",
       "\n",
       "    .dataframe tbody tr th {\n",
       "        vertical-align: top;\n",
       "    }\n",
       "\n",
       "    .dataframe thead th {\n",
       "        text-align: right;\n",
       "    }\n",
       "</style>\n",
       "<table border=\"1\" class=\"dataframe\">\n",
       "  <thead>\n",
       "    <tr style=\"text-align: right;\">\n",
       "      <th></th>\n",
       "      <th>Database</th>\n",
       "      <th>Gene</th>\n",
       "      <th>Serotype</th>\n",
       "      <th>Identity</th>\n",
       "      <th>Template / HSP length</th>\n",
       "      <th>Contig</th>\n",
       "      <th>Position in contig</th>\n",
       "      <th>Accession number</th>\n",
       "    </tr>\n",
       "  </thead>\n",
       "  <tbody>\n",
       "    <tr>\n",
       "      <th>0</th>\n",
       "      <td>H_type</td>\n",
       "      <td>fliC</td>\n",
       "      <td>H7</td>\n",
       "      <td>100.00</td>\n",
       "      <td>1758 / 1758</td>\n",
       "      <td>NODE_3_length_518691_cov_14.001030_pilon</td>\n",
       "      <td>152753..154510</td>\n",
       "      <td>AF228492</td>\n",
       "    </tr>\n",
       "    <tr>\n",
       "      <th>1</th>\n",
       "      <td>O_type</td>\n",
       "      <td>wzy</td>\n",
       "      <td>O18</td>\n",
       "      <td>99.92</td>\n",
       "      <td>1191 / 1191</td>\n",
       "      <td>NODE_18_length_104213_cov_14.989634_pilon</td>\n",
       "      <td>57788..58978</td>\n",
       "      <td>GU299793</td>\n",
       "    </tr>\n",
       "  </tbody>\n",
       "</table>\n",
       "</div>"
      ],
      "text/plain": [
       "  Database  Gene Serotype  Identity Template / HSP length  \\\n",
       "0   H_type  fliC       H7    100.00           1758 / 1758   \n",
       "1   O_type   wzy      O18     99.92           1191 / 1191   \n",
       "\n",
       "                                      Contig Position in contig  \\\n",
       "0   NODE_3_length_518691_cov_14.001030_pilon     152753..154510   \n",
       "1  NODE_18_length_104213_cov_14.989634_pilon       57788..58978   \n",
       "\n",
       "  Accession number  \n",
       "0         AF228492  \n",
       "1         GU299793  "
      ]
     },
     "execution_count": 24,
     "metadata": {},
     "output_type": "execute_result"
    }
   ],
   "source": [
    "df = pd.read_csv('/media/NGS/Data_Analysis/20210401_NHRI_Ecoli/Analysis/eco-037/serotypefinder/results_tab.tsv', sep='\\t')\n",
    "df = df.sort_values('Identity', ascending=False).drop_duplicates('Database')\n",
    "df"
   ]
  },
  {
   "cell_type": "code",
   "execution_count": 19,
   "metadata": {},
   "outputs": [],
   "source": [
    "def serotrype_summary(filepath):\n",
    "    df = pd.read_csv(filepath, sep='\\t')\n",
    "    df = df.drop_duplicates('Serotype')\n",
    "    s = df.groupby('Database')['Serotype'].agg(lambda s: s.str.cat(sep='/').split('/'))\n",
    "    summary = s.apply(lambda x: ' or '.join(sorted(set(x)))).to_dict()\n",
    "    return summary"
   ]
  },
  {
   "cell_type": "code",
   "execution_count": 20,
   "metadata": {},
   "outputs": [
    {
     "data": {
      "text/plain": [
       "{'H_type': 'H14', 'O_type': 'O129 or O13 or O135'}"
      ]
     },
     "execution_count": 20,
     "metadata": {},
     "output_type": "execute_result"
    }
   ],
   "source": [
    "serotrype_summary('/media/NGS/MiSeqAnalysis/Shigella/Analysis/R20.0084/serotypefinder/results_tab.tsv')"
   ]
  },
  {
   "cell_type": "code",
   "execution_count": 55,
   "metadata": {},
   "outputs": [],
   "source": [
    "dirpath = Path('/media/NGS/Data_Analysis/20210401/serotypefinder')"
   ]
  },
  {
   "cell_type": "code",
   "execution_count": 56,
   "metadata": {},
   "outputs": [],
   "source": [
    "summaries = dict()\n",
    "for fp in dirpath.iterdir():\n",
    "    filepath = fp/'results_tab.tsv'\n",
    "    summary = serotrype_summary(filepath)\n",
    "    summaries[fp.name] = summary"
   ]
  },
  {
   "cell_type": "code",
   "execution_count": 57,
   "metadata": {},
   "outputs": [],
   "source": [
    "summaries = pd.DataFrame(summaries).T"
   ]
  },
  {
   "cell_type": "code",
   "execution_count": 58,
   "metadata": {},
   "outputs": [
    {
     "data": {
      "text/html": [
       "<div>\n",
       "<style scoped>\n",
       "    .dataframe tbody tr th:only-of-type {\n",
       "        vertical-align: middle;\n",
       "    }\n",
       "\n",
       "    .dataframe tbody tr th {\n",
       "        vertical-align: top;\n",
       "    }\n",
       "\n",
       "    .dataframe thead th {\n",
       "        text-align: right;\n",
       "    }\n",
       "</style>\n",
       "<table border=\"1\" class=\"dataframe\">\n",
       "  <thead>\n",
       "    <tr style=\"text-align: right;\">\n",
       "      <th></th>\n",
       "      <th>H_type</th>\n",
       "      <th>O_type</th>\n",
       "    </tr>\n",
       "  </thead>\n",
       "  <tbody>\n",
       "    <tr>\n",
       "      <th>eco-053</th>\n",
       "      <td>H5</td>\n",
       "      <td>O75</td>\n",
       "    </tr>\n",
       "    <tr>\n",
       "      <th>eco-081</th>\n",
       "      <td>H4</td>\n",
       "      <td>O25</td>\n",
       "    </tr>\n",
       "    <tr>\n",
       "      <th>eco-123</th>\n",
       "      <td>H4</td>\n",
       "      <td>O38</td>\n",
       "    </tr>\n",
       "    <tr>\n",
       "      <th>eco-073</th>\n",
       "      <td>H5</td>\n",
       "      <td>O170</td>\n",
       "    </tr>\n",
       "    <tr>\n",
       "      <th>eco-069</th>\n",
       "      <td>H7</td>\n",
       "      <td>O174</td>\n",
       "    </tr>\n",
       "    <tr>\n",
       "      <th>...</th>\n",
       "      <td>...</td>\n",
       "      <td>...</td>\n",
       "    </tr>\n",
       "    <tr>\n",
       "      <th>eco-131</th>\n",
       "      <td>H7</td>\n",
       "      <td>O83</td>\n",
       "    </tr>\n",
       "    <tr>\n",
       "      <th>eco-105</th>\n",
       "      <td>H4</td>\n",
       "      <td>O129 or O13 or O135</td>\n",
       "    </tr>\n",
       "    <tr>\n",
       "      <th>eco-025</th>\n",
       "      <td>H31</td>\n",
       "      <td>O6</td>\n",
       "    </tr>\n",
       "    <tr>\n",
       "      <th>eco-016</th>\n",
       "      <td>H6</td>\n",
       "      <td>NaN</td>\n",
       "    </tr>\n",
       "    <tr>\n",
       "      <th>eco-033</th>\n",
       "      <td>H7</td>\n",
       "      <td>O1</td>\n",
       "    </tr>\n",
       "  </tbody>\n",
       "</table>\n",
       "<p>80 rows × 2 columns</p>\n",
       "</div>"
      ],
      "text/plain": [
       "        H_type               O_type\n",
       "eco-053     H5                  O75\n",
       "eco-081     H4                  O25\n",
       "eco-123     H4                  O38\n",
       "eco-073     H5                 O170\n",
       "eco-069     H7                 O174\n",
       "...        ...                  ...\n",
       "eco-131     H7                  O83\n",
       "eco-105     H4  O129 or O13 or O135\n",
       "eco-025    H31                   O6\n",
       "eco-016     H6                  NaN\n",
       "eco-033     H7                   O1\n",
       "\n",
       "[80 rows x 2 columns]"
      ]
     },
     "execution_count": 58,
     "metadata": {},
     "output_type": "execute_result"
    }
   ],
   "source": [
    "summaries"
   ]
  },
  {
   "cell_type": "code",
   "execution_count": 61,
   "metadata": {},
   "outputs": [],
   "source": [
    "summaries.index.name = 'ID'\n",
    "summaries = summaries.sort_index()"
   ]
  },
  {
   "cell_type": "code",
   "execution_count": 62,
   "metadata": {},
   "outputs": [],
   "source": [
    "summaries.to_csv('/media/NGS/Data_Analysis/20210401/serotypefinder.tsv', sep='\\t')"
   ]
  },
  {
   "cell_type": "code",
   "execution_count": null,
   "metadata": {},
   "outputs": [],
   "source": []
  },
  {
   "cell_type": "code",
   "execution_count": null,
   "metadata": {},
   "outputs": [],
   "source": []
  }
 ],
 "metadata": {
  "kernelspec": {
   "display_name": "Python 3",
   "language": "python",
   "name": "python3"
  },
  "language_info": {
   "codemirror_mode": {
    "name": "ipython",
    "version": 3
   },
   "file_extension": ".py",
   "mimetype": "text/x-python",
   "name": "python",
   "nbconvert_exporter": "python",
   "pygments_lexer": "ipython3",
   "version": "3.6.12"
  }
 },
 "nbformat": 4,
 "nbformat_minor": 4
}
