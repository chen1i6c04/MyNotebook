{
 "cells": [
  {
   "cell_type": "code",
   "execution_count": 1,
   "metadata": {},
   "outputs": [],
   "source": [
    "import os\n",
    "import shutil\n",
    "from pathlib import Path\n",
    "from tempfile import NamedTemporaryFile\n",
    "from concurrent.futures import ProcessPoolExecutor\n",
    "\n",
    "import pandas as pd"
   ]
  },
  {
   "cell_type": "code",
   "execution_count": 2,
   "metadata": {},
   "outputs": [],
   "source": [
    "import sys\n",
    "sys.path.append('../src')"
   ]
  },
  {
   "cell_type": "code",
   "execution_count": 3,
   "metadata": {},
   "outputs": [],
   "source": [
    "from application import FastANICommandline"
   ]
  },
  {
   "cell_type": "code",
   "execution_count": 4,
   "metadata": {},
   "outputs": [],
   "source": [
    "def ani_identify(query, output, refpath):\n",
    "    refs = []\n",
    "    for ref in refpath.glob('*.fa'):\n",
    "        refs.append(ref.as_posix())\n",
    "    with NamedTemporaryFile('w+t') as tempfile:\n",
    "        tempfile.write('\\n'.join(refs))\n",
    "        tempfile.seek(0)\n",
    "        cline = FastANICommandline('fastANI', rl=tempfile.name, q=query, output=output)\n",
    "        cline()"
   ]
  },
  {
   "cell_type": "code",
   "execution_count": 5,
   "metadata": {},
   "outputs": [],
   "source": [
    "dirpath = Path('/media/Central_Lab_Storage/NcbiSRA/NCBI_Kp_SRA/Contigs')\n",
    "outpath = Path('/media/Central_Lab_Storage/NcbiSRA/NCBI_Kp_SRA/ANI')\n",
    "refpath = Path('/media/Central_Lab_Storage/NcbiASM/Klebsiella_pneumoniae/RefSeq')"
   ]
  },
  {
   "cell_type": "code",
   "execution_count": 13,
   "metadata": {},
   "outputs": [],
   "source": [
    "ani_identify('/media/Central_Lab_Storage/NcbiASM/Enterococcus_faecalis/Contigs/GCA_000415185.1.fa',\n",
    "             '/home/chen1i6c04/GCA_000415185.1.txt',\n",
    "             refpath)"
   ]
  },
  {
   "cell_type": "code",
   "execution_count": 6,
   "metadata": {},
   "outputs": [],
   "source": [
    "with ProcessPoolExecutor(32) as executor:\n",
    "    for i in dirpath.iterdir():\n",
    "        outfile = outpath/(i.stem + '.txt')\n",
    "        executor.submit(ani_identify, i, outfile, refpath)"
   ]
  },
  {
   "cell_type": "code",
   "execution_count": null,
   "metadata": {},
   "outputs": [],
   "source": []
  },
  {
   "cell_type": "code",
   "execution_count": 4,
   "metadata": {},
   "outputs": [],
   "source": [
    "dirpath = Path('/media/Central_Lab_Storage/NcbiSRA/NCBI_Kp_SRA/ANI')\n",
    "outfile = dirpath.as_posix() + '.tsv'"
   ]
  },
  {
   "cell_type": "code",
   "execution_count": 17,
   "metadata": {},
   "outputs": [],
   "source": [
    "ani_results = []\n",
    "for i in dirpath.iterdir():\n",
    "    try:\n",
    "        with open(i) as handle:\n",
    "            header = next(handle).strip().split()\n",
    "            ani_results.append(header)\n",
    "    except StopIteration:\n",
    "        os.remove(i)"
   ]
  },
  {
   "cell_type": "code",
   "execution_count": 18,
   "metadata": {},
   "outputs": [],
   "source": [
    "df = pd.DataFrame(ani_results)\n",
    "\n",
    "df[0] = df[0].apply(lambda x: Path(x).stem)\n",
    "df[1] = df[1].apply(lambda x: Path(x).stem)\n",
    "for column in (2, 3, 4):\n",
    "    df[column] = df[column].astype(float)\n",
    "\n",
    "df.to_csv(outfile, sep='\\t', index=False, header=False)"
   ]
  },
  {
   "cell_type": "code",
   "execution_count": null,
   "metadata": {},
   "outputs": [],
   "source": []
  },
  {
   "cell_type": "code",
   "execution_count": 36,
   "metadata": {},
   "outputs": [],
   "source": [
    "def pairwise_compare(in_dir, output, threads=1):\n",
    "    querys = []\n",
    "    for x in Path(in_dir).iterdir():\n",
    "        if x.suffix in {'.fa', '.fna', '.fasta'}:\n",
    "            querys.append(x.as_posix())\n",
    "    with NamedTemporaryFile('w+t') as tempfile:\n",
    "        tempfile.write('\\n'.join(querys))\n",
    "        tempfile.seek(0)\n",
    "        cline = FastANICommandline('fastANI', rl=tempfile.name, ql=tempfile.name, output=output, threads=threads)\n",
    "        cline()"
   ]
  },
  {
   "cell_type": "code",
   "execution_count": 37,
   "metadata": {},
   "outputs": [],
   "source": [
    "pairwise_compare('/media/Central_Lab_Storage/NcbiASM/Burkholderia_cenocepacia/RefSeq', '/home/chen1i6c04/ani.txt', 64)"
   ]
  },
  {
   "cell_type": "code",
   "execution_count": 38,
   "metadata": {},
   "outputs": [],
   "source": [
    "df = pd.read_csv('/home/chen1i6c04/ani.txt', sep='\\t', header=None, usecols=range(3))\n",
    "\n",
    "df[0] = df[0].apply(lambda x: x.rsplit('/')[-1].replace('.fa', ''))\n",
    "df[1] = df[1].apply(lambda x: x.rsplit('/')[-1].replace('.fa', ''))\n",
    "\n",
    "df = df[df[0]!=df[1]]"
   ]
  },
  {
   "cell_type": "code",
   "execution_count": 41,
   "metadata": {},
   "outputs": [
    {
     "data": {
      "text/html": [
       "<div>\n",
       "<style scoped>\n",
       "    .dataframe tbody tr th:only-of-type {\n",
       "        vertical-align: middle;\n",
       "    }\n",
       "\n",
       "    .dataframe tbody tr th {\n",
       "        vertical-align: top;\n",
       "    }\n",
       "\n",
       "    .dataframe thead th {\n",
       "        text-align: right;\n",
       "    }\n",
       "</style>\n",
       "<table border=\"1\" class=\"dataframe\">\n",
       "  <thead>\n",
       "    <tr style=\"text-align: right;\">\n",
       "      <th></th>\n",
       "      <th>0</th>\n",
       "      <th>1</th>\n",
       "      <th>2</th>\n",
       "    </tr>\n",
       "  </thead>\n",
       "  <tbody>\n",
       "    <tr>\n",
       "      <th>1</th>\n",
       "      <td>GCF_000009485.1</td>\n",
       "      <td>GCF_000236215.2</td>\n",
       "      <td>99.0586</td>\n",
       "    </tr>\n",
       "    <tr>\n",
       "      <th>2</th>\n",
       "      <td>GCF_000009485.1</td>\n",
       "      <td>GCF_001718895.1</td>\n",
       "      <td>98.9900</td>\n",
       "    </tr>\n",
       "    <tr>\n",
       "      <th>3</th>\n",
       "      <td>GCF_000009485.1</td>\n",
       "      <td>GCF_001606115.1</td>\n",
       "      <td>98.9415</td>\n",
       "    </tr>\n",
       "    <tr>\n",
       "      <th>4</th>\n",
       "      <td>GCF_000009485.1</td>\n",
       "      <td>GCF_001606135.1</td>\n",
       "      <td>98.8612</td>\n",
       "    </tr>\n",
       "    <tr>\n",
       "      <th>5</th>\n",
       "      <td>GCF_000009485.1</td>\n",
       "      <td>GCF_018223805.1</td>\n",
       "      <td>98.8514</td>\n",
       "    </tr>\n",
       "    <tr>\n",
       "      <th>...</th>\n",
       "      <td>...</td>\n",
       "      <td>...</td>\n",
       "      <td>...</td>\n",
       "    </tr>\n",
       "    <tr>\n",
       "      <th>76</th>\n",
       "      <td>GCF_018228625.1</td>\n",
       "      <td>GCF_000236215.2</td>\n",
       "      <td>99.0169</td>\n",
       "    </tr>\n",
       "    <tr>\n",
       "      <th>77</th>\n",
       "      <td>GCF_018228625.1</td>\n",
       "      <td>GCF_001606135.1</td>\n",
       "      <td>98.9934</td>\n",
       "    </tr>\n",
       "    <tr>\n",
       "      <th>78</th>\n",
       "      <td>GCF_018228625.1</td>\n",
       "      <td>GCF_001999885.1</td>\n",
       "      <td>98.9755</td>\n",
       "    </tr>\n",
       "    <tr>\n",
       "      <th>79</th>\n",
       "      <td>GCF_018228625.1</td>\n",
       "      <td>GCF_001484665.1</td>\n",
       "      <td>98.9693</td>\n",
       "    </tr>\n",
       "    <tr>\n",
       "      <th>80</th>\n",
       "      <td>GCF_018228625.1</td>\n",
       "      <td>GCF_000009485.1</td>\n",
       "      <td>98.6885</td>\n",
       "    </tr>\n",
       "  </tbody>\n",
       "</table>\n",
       "<p>72 rows × 3 columns</p>\n",
       "</div>"
      ],
      "text/plain": [
       "                  0                1        2\n",
       "1   GCF_000009485.1  GCF_000236215.2  99.0586\n",
       "2   GCF_000009485.1  GCF_001718895.1  98.9900\n",
       "3   GCF_000009485.1  GCF_001606115.1  98.9415\n",
       "4   GCF_000009485.1  GCF_001606135.1  98.8612\n",
       "5   GCF_000009485.1  GCF_018223805.1  98.8514\n",
       "..              ...              ...      ...\n",
       "76  GCF_018228625.1  GCF_000236215.2  99.0169\n",
       "77  GCF_018228625.1  GCF_001606135.1  98.9934\n",
       "78  GCF_018228625.1  GCF_001999885.1  98.9755\n",
       "79  GCF_018228625.1  GCF_001484665.1  98.9693\n",
       "80  GCF_018228625.1  GCF_000009485.1  98.6885\n",
       "\n",
       "[72 rows x 3 columns]"
      ]
     },
     "execution_count": 41,
     "metadata": {},
     "output_type": "execute_result"
    }
   ],
   "source": [
    "df"
   ]
  },
  {
   "cell_type": "code",
   "execution_count": null,
   "metadata": {},
   "outputs": [],
   "source": []
  },
  {
   "cell_type": "code",
   "execution_count": null,
   "metadata": {},
   "outputs": [],
   "source": [
    "import re"
   ]
  },
  {
   "cell_type": "code",
   "execution_count": null,
   "metadata": {},
   "outputs": [],
   "source": [
    "def extract_subsp(pattern):\n",
    "    result = re.search('subsp. ([a-z]+)', pattern)\n",
    "    if result:\n",
    "        return result.groups()[0]"
   ]
  },
  {
   "cell_type": "code",
   "execution_count": null,
   "metadata": {},
   "outputs": [],
   "source": [
    "refseq_info = pd.read_csv('/media/Central_Lab_Storage/NcbiASM/assembly_summary.txt', sep='\\t', usecols=['# assembly_accession', 'organism_name'], header=1)\n",
    "refseq_info = refseq_info[refseq_info['# assembly_accession'].isin(set(df[0]))]\n",
    "refseq_info['subspecies'] = refseq_info['organism_name'].apply(lambda x: extract_subsp(x))"
   ]
  },
  {
   "cell_type": "code",
   "execution_count": null,
   "metadata": {},
   "outputs": [],
   "source": [
    "enterica_accs = set(refseq_info[refseq_info['subspecies']=='enterica']['# assembly_accession'])"
   ]
  },
  {
   "cell_type": "code",
   "execution_count": null,
   "metadata": {},
   "outputs": [],
   "source": [
    "df[(df[0].isin(enterica_accs))&(df[1].isin(enterica_accs))].sort_values(2)"
   ]
  },
  {
   "cell_type": "code",
   "execution_count": null,
   "metadata": {},
   "outputs": [],
   "source": []
  }
 ],
 "metadata": {
  "kernelspec": {
   "display_name": "Python 3",
   "language": "python",
   "name": "python3"
  },
  "language_info": {
   "codemirror_mode": {
    "name": "ipython",
    "version": 3
   },
   "file_extension": ".py",
   "mimetype": "text/x-python",
   "name": "python",
   "nbconvert_exporter": "python",
   "pygments_lexer": "ipython3",
   "version": "3.6.13"
  }
 },
 "nbformat": 4,
 "nbformat_minor": 4
}
