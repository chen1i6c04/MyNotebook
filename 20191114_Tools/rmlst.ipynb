{
 "cells": [
  {
   "cell_type": "code",
   "execution_count": 1,
   "id": "ed7a18db-8d09-442b-a985-8ab55131adef",
   "metadata": {},
   "outputs": [],
   "source": [
    "import sys\n",
    "import json\n",
    "from pathlib import Path\n",
    "from concurrent.futures import ThreadPoolExecutor\n",
    "import pandas as pd"
   ]
  },
  {
   "cell_type": "code",
   "execution_count": 2,
   "id": "4931e083-eeac-4c80-8aed-e856e931d7e1",
   "metadata": {},
   "outputs": [],
   "source": [
    "sys.path.append('../src')\n",
    "from application import ribosomal_mlst"
   ]
  },
  {
   "cell_type": "code",
   "execution_count": 4,
   "id": "d70d77cf-2ff0-49a2-bef5-36c65b776902",
   "metadata": {},
   "outputs": [],
   "source": [
    "dirpath = Path('/media/MiSeqOutput/211209_M04855_0091_000000000-K3JG5/Assembly')\n",
    "outpath = Path('/media/MiSeqOutput/211209_M04855_0091_000000000-K3JG5/rMLST/')\n",
    "outpath.mkdir(exist_ok=True)"
   ]
  },
  {
   "cell_type": "code",
   "execution_count": 5,
   "id": "3be535ab-5e49-4464-917b-f0ff1123d6b9",
   "metadata": {},
   "outputs": [],
   "source": [
    "with ThreadPoolExecutor(4) as executor:\n",
    "    for i in dirpath.iterdir():\n",
    "        outfile = outpath/(i.stem + '.json')\n",
    "        if outfile.exists() is False:\n",
    "            executor.submit(ribosomal_mlst, i, outfile)"
   ]
  },
  {
   "cell_type": "code",
   "execution_count": 32,
   "id": "16746ef9-6a44-4a85-aa4b-9662e35159cb",
   "metadata": {},
   "outputs": [],
   "source": [
    "ribosomal_mlst('/media/Central_Lab_Storage/NcbiASM/Burkholderia_cenocepacia/Contigs/GCA_000019505.1.fa',\n",
    "               '/home/chen1i6c04/GCA_000019505.1.json')"
   ]
  },
  {
   "cell_type": "code",
   "execution_count": null,
   "id": "22188949-d147-497a-9070-dfb85a6a8be8",
   "metadata": {},
   "outputs": [],
   "source": []
  },
  {
   "cell_type": "code",
   "execution_count": 6,
   "id": "bb77b31b-8a37-4af0-a8d0-d9350a602e0a",
   "metadata": {},
   "outputs": [],
   "source": [
    "with open('/media/MiSeqOutput/211209_M04855_0091_000000000-K3JG5/rMLST/R21-2458.json') as f:\n",
    "    data = json.load(f)"
   ]
  },
  {
   "cell_type": "code",
   "execution_count": 20,
   "id": "332e5620-c5c3-4dc0-807d-ac292fcc766e",
   "metadata": {},
   "outputs": [],
   "source": [
    "dirpath = Path('/media/MiSeqOutput/211209_M04855_0091_000000000-K3JG5/rMLST')\n",
    "\n",
    "summary = dict()\n",
    "for filename in dirpath.iterdir():\n",
    "    with open(filename) as f:\n",
    "        data = json.load(f)\n",
    "    summary[filename.stem] = [f\"{i['taxon']:<30}: {i['support']}\" for i in data]"
   ]
  },
  {
   "cell_type": "code",
   "execution_count": 22,
   "id": "02eb7e49-8d58-4a5c-ab59-9a49b11ffe11",
   "metadata": {},
   "outputs": [],
   "source": [
    "df = pd.DataFrame(summary).T"
   ]
  },
  {
   "cell_type": "code",
   "execution_count": 23,
   "id": "0d6e661c-65c8-494b-86b9-86d3b5145582",
   "metadata": {},
   "outputs": [],
   "source": [
    "df.to_csv('/media/MiSeqOutput/211209_M04855_0091_000000000-K3JG5/rMLST.tsv', sep='\\t', header=False)"
   ]
  },
  {
   "cell_type": "code",
   "execution_count": null,
   "id": "890d4983-ed50-4e0f-9429-005497354cae",
   "metadata": {},
   "outputs": [],
   "source": []
  }
 ],
 "metadata": {
  "kernelspec": {
   "display_name": "Python 3",
   "language": "python",
   "name": "python3"
  },
  "language_info": {
   "codemirror_mode": {
    "name": "ipython",
    "version": 3
   },
   "file_extension": ".py",
   "mimetype": "text/x-python",
   "name": "python",
   "nbconvert_exporter": "python",
   "pygments_lexer": "ipython3",
   "version": "3.6.13"
  }
 },
 "nbformat": 4,
 "nbformat_minor": 5
}
