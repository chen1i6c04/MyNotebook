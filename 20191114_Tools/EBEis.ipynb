{
 "cells": [
  {
   "cell_type": "code",
   "execution_count": 1,
   "id": "98a7f277",
   "metadata": {},
   "outputs": [],
   "source": [
    "import json\n",
    "from pathlib import Path\n",
    "from multiprocessing import Pool\n",
    "\n",
    "import pandas as pd"
   ]
  },
  {
   "cell_type": "code",
   "execution_count": 2,
   "id": "ecd3736f",
   "metadata": {},
   "outputs": [],
   "source": [
    "import sys\n",
    "sys.path.append('../src')\n",
    "\n",
    "from utils import run_cmd"
   ]
  },
  {
   "cell_type": "code",
   "execution_count": 3,
   "id": "fca0d871",
   "metadata": {},
   "outputs": [],
   "source": [
    "def run_ebeis(infile, outfile, prefix):\n",
    "    program = \"/home/chen1i6c04/Tools/EToKi/EToKi.py\"\n",
    "    run_cmd(f\"{program} EBEis -q {infile} -p {prefix} > {outfile}\")"
   ]
  },
  {
   "cell_type": "code",
   "execution_count": null,
   "id": "7eef581f",
   "metadata": {},
   "outputs": [],
   "source": []
  },
  {
   "cell_type": "code",
   "execution_count": 5,
   "id": "86933071",
   "metadata": {},
   "outputs": [],
   "source": [
    "dirpath = Path('/media/NGS/Data_Analysis/20210401_NHRI_Ecoli/Contigs')\n",
    "outpath = Path('/media/NGS/Data_Analysis/20210401_NHRI_Ecoli/Analysis')"
   ]
  },
  {
   "cell_type": "code",
   "execution_count": 6,
   "id": "403cb4e9",
   "metadata": {},
   "outputs": [],
   "source": [
    "program = \"/home/chen1i6c04/Tools/EToKi/EToKi.py\"\n",
    "cmds = []\n",
    "for filepath in dirpath.iterdir():\n",
    "    outfile = outpath/filepath.stem/('EBEis.json')\n",
    "    cmd = f\"{program} EBEis -q {filepath} -p {filepath.stem} > {outfile}\"\n",
    "    cmds.append(cmd)"
   ]
  },
  {
   "cell_type": "code",
   "execution_count": 8,
   "id": "a1ece396",
   "metadata": {},
   "outputs": [],
   "source": [
    "with Pool(64) as p:\n",
    "    p.map(run_cmd, cmds)\n",
    "    p.close()\n",
    "    p.join()"
   ]
  },
  {
   "cell_type": "code",
   "execution_count": null,
   "id": "64be7de4",
   "metadata": {},
   "outputs": [],
   "source": []
  },
  {
   "cell_type": "code",
   "execution_count": 6,
   "id": "f87dec13",
   "metadata": {},
   "outputs": [],
   "source": [
    "def parse_ebeis_output(filepath):\n",
    "    with open(filepath) as handle:\n",
    "        data = json.loads(handle.read())\n",
    "    return data"
   ]
  },
  {
   "cell_type": "code",
   "execution_count": 7,
   "id": "b2555009",
   "metadata": {},
   "outputs": [],
   "source": [
    "dirpath = Path('/media/NGS/Data_Analysis/20210401/EBEis')"
   ]
  },
  {
   "cell_type": "code",
   "execution_count": 8,
   "id": "11dc470e",
   "metadata": {},
   "outputs": [],
   "source": [
    "data = [parse_ebeis_output(filepath) for filepath in dirpath.iterdir()]\n",
    "\n",
    "df = pd.DataFrame(data)\n",
    "df = df.drop('query', axis=1)\n",
    "df = df.set_index('prefix')"
   ]
  },
  {
   "cell_type": "code",
   "execution_count": 9,
   "id": "28e0dda5",
   "metadata": {},
   "outputs": [],
   "source": [
    "df.to_csv('/media/NGS/Data_Analysis/20210401/EBEis.tsv', sep='\\t')"
   ]
  },
  {
   "cell_type": "code",
   "execution_count": null,
   "id": "6a2a7c07",
   "metadata": {},
   "outputs": [],
   "source": []
  }
 ],
 "metadata": {
  "kernelspec": {
   "display_name": "Python 3",
   "language": "python",
   "name": "python3"
  },
  "language_info": {
   "codemirror_mode": {
    "name": "ipython",
    "version": 3
   },
   "file_extension": ".py",
   "mimetype": "text/x-python",
   "name": "python",
   "nbconvert_exporter": "python",
   "pygments_lexer": "ipython3",
   "version": "3.6.13"
  }
 },
 "nbformat": 4,
 "nbformat_minor": 5
}
