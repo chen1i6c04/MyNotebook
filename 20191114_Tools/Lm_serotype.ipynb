{
 "cells": [
  {
   "cell_type": "code",
   "execution_count": 1,
   "metadata": {},
   "outputs": [],
   "source": [
    "import os\n",
    "import subprocess\n",
    "from pathlib import Path\n",
    "from io import BytesIO\n",
    "from concurrent.futures import ProcessPoolExecutor, as_completed\n",
    "\n",
    "import pandas as pd"
   ]
  },
  {
   "cell_type": "code",
   "execution_count": 2,
   "metadata": {},
   "outputs": [],
   "source": [
    "def predict_serotype(fasta, db='/home/chen1i6c04/Tools/LisSero/db'):\n",
    "    cmd = f\"lissero -s {db} {fasta}\"\n",
    "    child_process = subprocess.Popen(cmd, stdout=subprocess.PIPE, stderr=subprocess.PIPE, shell=True)\n",
    "    stdout, stderr = child_process.communicate()\n",
    "    return stdout"
   ]
  },
  {
   "cell_type": "code",
   "execution_count": 3,
   "metadata": {},
   "outputs": [],
   "source": [
    "dirpath = '/media/NGS/SRA_1/NCBI_Listeria_monocytogenes_SRA/Contigs'\n",
    "dirPath = Path(dirpath)"
   ]
  },
  {
   "cell_type": "code",
   "execution_count": 4,
   "metadata": {},
   "outputs": [],
   "source": [
    "results = list(ProcessPoolExecutor(48).map(predict_serotype, dirPath.iterdir(), chunksize=8))"
   ]
  },
  {
   "cell_type": "code",
   "execution_count": 9,
   "metadata": {},
   "outputs": [],
   "source": [
    "dfs = []\n",
    "for result in results:\n",
    "    try:\n",
    "        df = pd.read_csv(BytesIO(result), sep='\\t')\n",
    "        dfs.append(df)\n",
    "    except:\n",
    "        pass"
   ]
  },
  {
   "cell_type": "code",
   "execution_count": 12,
   "metadata": {},
   "outputs": [],
   "source": [
    "serotype = pd.concat(dfs, ignore_index=True)"
   ]
  },
  {
   "cell_type": "code",
   "execution_count": 13,
   "metadata": {},
   "outputs": [],
   "source": [
    "serotype.to_csv('/media/NGS/SRA_1/NCBI_Listeria_monocytogenes_SRA/serotype.csv', index=False)"
   ]
  },
  {
   "cell_type": "code",
   "execution_count": null,
   "metadata": {},
   "outputs": [],
   "source": [
    "result = predict_serotype('/media/NGS/Data_Analysis/20191128_CDC_MiSeq/Listeria_monocytogenes/Export/*', db='/home/chen1i6c04/Tools/LisSero/db')"
   ]
  },
  {
   "cell_type": "code",
   "execution_count": null,
   "metadata": {},
   "outputs": [],
   "source": [
    "df = pd.read_csv(BytesIO(result), sep='\\t')"
   ]
  },
  {
   "cell_type": "code",
   "execution_count": null,
   "metadata": {},
   "outputs": [],
   "source": [
    "df['ID'] = [os.path.splitext(os.path.basename(i))[0] for i in df['ID']]"
   ]
  },
  {
   "cell_type": "code",
   "execution_count": null,
   "metadata": {},
   "outputs": [],
   "source": [
    "df.to_csv('/media/NGS/Data_Analysis/20191128_CDC_MiSeq/Listeria_monocytogenes/Serotype.csv', index=False)"
   ]
  },
  {
   "cell_type": "code",
   "execution_count": null,
   "metadata": {},
   "outputs": [],
   "source": []
  }
 ],
 "metadata": {
  "kernelspec": {
   "display_name": "Python 3",
   "language": "python",
   "name": "python3"
  },
  "language_info": {
   "codemirror_mode": {
    "name": "ipython",
    "version": 3
   },
   "file_extension": ".py",
   "mimetype": "text/x-python",
   "name": "python",
   "nbconvert_exporter": "python",
   "pygments_lexer": "ipython3",
   "version": "3.8.2"
  }
 },
 "nbformat": 4,
 "nbformat_minor": 4
}
