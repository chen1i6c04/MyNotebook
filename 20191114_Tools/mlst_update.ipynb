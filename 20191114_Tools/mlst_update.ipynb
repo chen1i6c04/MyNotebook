{
 "cells": [
  {
   "cell_type": "code",
   "execution_count": 1,
   "metadata": {},
   "outputs": [],
   "source": [
    "import os\n",
    "import xml.etree.cElementTree as ET\n",
    "from pathlib import Path\n",
    "from concurrent.futures import ThreadPoolExecutor\n",
    "\n",
    "import requests"
   ]
  },
  {
   "cell_type": "code",
   "execution_count": 4,
   "metadata": {},
   "outputs": [],
   "source": [
    "def download_data(url):\n",
    "    r = requests.get(url)\n",
    "    if r.status_code != requests.codes.ok:\n",
    "        r.raise_for_status()\n",
    "    return r.text\n",
    "\n",
    "def find_species_element(species, root):\n",
    "    for element in root.findall('species'):\n",
    "        if element.text.strip() == species:\n",
    "            return element\n",
    "\n",
    "def update_scheme(scheme, outdir, xml_element):\n",
    "    with open(outdir/(scheme + '.fsa'), 'w') as f:\n",
    "        for url_element in xml_element.findall('*//locus/url'):\n",
    "            data = download_data(url_element.text)\n",
    "            f.write(data)\n",
    "    with open(outdir/(scheme + '.tsv'), 'w') as f:\n",
    "        url = xml_element.find('*//profiles/url').text\n",
    "        data = download_data(url)\n",
    "        f.write(data)"
   ]
  },
  {
   "cell_type": "code",
   "execution_count": 5,
   "metadata": {},
   "outputs": [],
   "source": [
    "xml = '/media/GenomicResearch/Tools/CGE/dbases.xml'\n",
    "tree = ET.parse(xml)\n",
    "root = tree.getroot()"
   ]
  },
  {
   "cell_type": "code",
   "execution_count": 6,
   "metadata": {},
   "outputs": [],
   "source": [
    "config = '/media/GenomicResearch/Tools/CGE/mlst_db/config'\n",
    "\n",
    "with open(config) as f:\n",
    "    mlst_db_config = [line.strip().split('\\t')[:2] for line in f if line.startswith('#') is False]"
   ]
  },
  {
   "cell_type": "code",
   "execution_count": 8,
   "metadata": {},
   "outputs": [],
   "source": [
    "outpath = Path('/media/GenomicResearch/Tools/CGE/mlst_db')\n",
    "\n",
    "with ThreadPoolExecutor(16) as executor:\n",
    "    for scheme, species in mlst_db_config:\n",
    "        outdir = outpath/scheme\n",
    "        speceis_element = find_species_element(species, root)\n",
    "        executor.submit(update_scheme, scheme, outdir, speceis_element)"
   ]
  },
  {
   "cell_type": "code",
   "execution_count": null,
   "metadata": {},
   "outputs": [],
   "source": []
  }
 ],
 "metadata": {
  "kernelspec": {
   "display_name": "Python 3",
   "language": "python",
   "name": "python3"
  },
  "language_info": {
   "codemirror_mode": {
    "name": "ipython",
    "version": 3
   },
   "file_extension": ".py",
   "mimetype": "text/x-python",
   "name": "python",
   "nbconvert_exporter": "python",
   "pygments_lexer": "ipython3",
   "version": "3.6.13"
  }
 },
 "nbformat": 4,
 "nbformat_minor": 4
}
