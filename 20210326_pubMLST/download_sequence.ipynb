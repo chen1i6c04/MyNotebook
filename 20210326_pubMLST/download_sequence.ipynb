{
 "cells": [
  {
   "cell_type": "code",
   "execution_count": 1,
   "metadata": {},
   "outputs": [],
   "source": [
    "import os\n",
    "import shutil\n",
    "from pathlib import Path\n",
    "from concurrent.futures import ThreadPoolExecutor\n",
    "import requests\n",
    "import pandas as pd"
   ]
  },
  {
   "cell_type": "code",
   "execution_count": 2,
   "metadata": {},
   "outputs": [],
   "source": [
    "def generate_url(isolate_id, database):\n",
    "    url = f'http://rest.pubmlst.org/db/pubmlst_{database}_isolates/isolates/{isolate_id}/contigs_fasta'\n",
    "    return url\n",
    "\n",
    "def download_contigs(url, outfile):\n",
    "    r = requests.get(url, params={'header': 'original_designation'})\n",
    "    if r.status_code is 200:\n",
    "        with open(outfile, 'w') as handle:\n",
    "            handle.write(r.text)"
   ]
  },
  {
   "cell_type": "code",
   "execution_count": null,
   "metadata": {},
   "outputs": [],
   "source": []
  },
  {
   "cell_type": "code",
   "execution_count": 3,
   "metadata": {},
   "outputs": [],
   "source": [
    "filepath = '/media/NGS/SRA_2/pubMLST_Neisseria/BIGSdb_179004_1119847573_26598.xlsx'\n",
    "isolate_info = pd.read_excel(filepath, dtype=object)"
   ]
  },
  {
   "cell_type": "code",
   "execution_count": 10,
   "metadata": {},
   "outputs": [
    {
     "data": {
      "text/plain": [
       "(25862, 63)"
      ]
     },
     "execution_count": 10,
     "metadata": {},
     "output_type": "execute_result"
    }
   ],
   "source": [
    "isolate_info = isolate_info.dropna(axis=1, how='all')\n",
    "isolate_info = isolate_info[isolate_info['species'] == 'Neisseria meningitidis']\n",
    "# isolate_info = isolate_info[isolate_info['clonal_complex (MLST)'] == 'ST-32 complex']\n",
    "isolate_info.shape"
   ]
  },
  {
   "cell_type": "code",
   "execution_count": 11,
   "metadata": {},
   "outputs": [],
   "source": [
    "dirpath = Path('/media/NGS/SRA_2/pubMLST_Neisseria/Contigs')\n",
    "downloaded_ids = {int(filepath.stem) for filepath in dirpath.iterdir()}"
   ]
  },
  {
   "cell_type": "code",
   "execution_count": 12,
   "metadata": {},
   "outputs": [],
   "source": [
    "ids = set(isolate_info['id']) - downloaded_ids"
   ]
  },
  {
   "cell_type": "code",
   "execution_count": 13,
   "metadata": {},
   "outputs": [
    {
     "data": {
      "text/plain": [
       "21944"
      ]
     },
     "execution_count": 13,
     "metadata": {},
     "output_type": "execute_result"
    }
   ],
   "source": [
    "len(ids)"
   ]
  },
  {
   "cell_type": "code",
   "execution_count": 14,
   "metadata": {},
   "outputs": [],
   "source": [
    "database = 'neisseria'\n",
    "outpath = Path('/media/NGS/SRA_2/pubMLST_Neisseria/Contigs')"
   ]
  },
  {
   "cell_type": "code",
   "execution_count": 15,
   "metadata": {},
   "outputs": [],
   "source": [
    "with ThreadPoolExecutor(4) as executor:\n",
    "    for _id in ids:\n",
    "        url = generate_url(_id, database)\n",
    "        outfile = outpath/f\"{_id}.fas\"\n",
    "        executor.submit(download_contigs, url, outfile)"
   ]
  },
  {
   "cell_type": "code",
   "execution_count": null,
   "metadata": {},
   "outputs": [],
   "source": []
  },
  {
   "cell_type": "code",
   "execution_count": null,
   "metadata": {},
   "outputs": [],
   "source": []
  }
 ],
 "metadata": {
  "kernelspec": {
   "display_name": "Python 3",
   "language": "python",
   "name": "python3"
  },
  "language_info": {
   "codemirror_mode": {
    "name": "ipython",
    "version": 3
   },
   "file_extension": ".py",
   "mimetype": "text/x-python",
   "name": "python",
   "nbconvert_exporter": "python",
   "pygments_lexer": "ipython3",
   "version": "3.6.12"
  }
 },
 "nbformat": 4,
 "nbformat_minor": 4
}
