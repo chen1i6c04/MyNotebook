{
 "cells": [
  {
   "cell_type": "code",
   "execution_count": 10,
   "id": "ae171deb",
   "metadata": {},
   "outputs": [],
   "source": [
    "import json\n",
    "import requests\n",
    "import base64\n",
    "import pandas as pd\n",
    "\n",
    "\n",
    "def fun(upload_file):\n",
    "    uri = 'http://rest.pubmlst.org/db/pubmlst_rmlst_seqdef_kiosk/schemes/1/sequence'\n",
    "    with open(upload_file, 'r') as x: \n",
    "        fasta = x.read()\n",
    "    payload = '{\"base64\":true,\"details\":true,\"sequence\":\"' + base64.b64encode(fasta.encode()).decode() + '\"}'\n",
    "    response = requests.post(uri, data=payload)\n",
    "    if response.status_code == requests.codes.ok:\n",
    "        data = response.json()\n",
    "        try:\n",
    "            return data\n",
    "        except KeyError:\n",
    "            pass"
   ]
  },
  {
   "cell_type": "code",
   "execution_count": 2,
   "id": "ff8cdeba",
   "metadata": {},
   "outputs": [],
   "source": [
    "from pathlib import Path\n",
    "from concurrent.futures import ThreadPoolExecutor, as_completed"
   ]
  },
  {
   "cell_type": "code",
   "execution_count": 11,
   "id": "cdd7ae3f",
   "metadata": {},
   "outputs": [],
   "source": [
    "dirpath = Path('/media/NGS/MiSeqAnalysis/Campylobacter/Contigs')\n",
    "outpath = Path('/media/NGS/MiSeqAnalysis/Campylobacter/rMLST')\n",
    "\n",
    "with ThreadPoolExecutor(4) as executor:\n",
    "    for i in dirpath.iterdir():\n",
    "        output = outpath/(i.stem + '.tsv')\n",
    "        executor.submit(fun, i, output)"
   ]
  },
  {
   "cell_type": "code",
   "execution_count": null,
   "id": "24902594",
   "metadata": {},
   "outputs": [],
   "source": []
  },
  {
   "cell_type": "code",
   "execution_count": 3,
   "id": "75cede7b",
   "metadata": {},
   "outputs": [],
   "source": [
    "result = fun('/media/NGS/MiSeqAnalysis/Campylobacter/Contigs/R16.2321.fa')"
   ]
  },
  {
   "cell_type": "code",
   "execution_count": 5,
   "id": "6874739c",
   "metadata": {},
   "outputs": [],
   "source": [
    "upload_file = '/media/NGS/MiSeqAnalysis/Campylobacter/Contigs/R16.2321.fa'\n",
    "uri = 'http://rest.pubmlst.org/db/pubmlst_rmlst_seqdef_kiosk/schemes/1/sequence'\n",
    "with open(upload_file, 'r') as x: \n",
    "    fasta = x.read()\n",
    "payload = '{\"base64\":true,\"details\":true,\"sequence\":\"' + base64.b64encode(fasta.encode()).decode() + '\"}'\n",
    "response = requests.post(uri, data=payload)"
   ]
  },
  {
   "cell_type": "code",
   "execution_count": 17,
   "id": "200fe55c",
   "metadata": {},
   "outputs": [],
   "source": [
    "with open('/home/chen1i6c04/test.json', 'w') as f:\n",
    "    json.dump(response.json()['taxon_prediction'], f)"
   ]
  },
  {
   "cell_type": "code",
   "execution_count": null,
   "id": "51846e7d",
   "metadata": {},
   "outputs": [],
   "source": []
  }
 ],
 "metadata": {
  "kernelspec": {
   "display_name": "Python 3",
   "language": "python",
   "name": "python3"
  },
  "language_info": {
   "codemirror_mode": {
    "name": "ipython",
    "version": 3
   },
   "file_extension": ".py",
   "mimetype": "text/x-python",
   "name": "python",
   "nbconvert_exporter": "python",
   "pygments_lexer": "ipython3",
   "version": "3.6.12"
  }
 },
 "nbformat": 4,
 "nbformat_minor": 5
}
