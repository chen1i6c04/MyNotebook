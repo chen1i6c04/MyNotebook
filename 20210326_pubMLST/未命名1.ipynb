{
 "cells": [
  {
   "cell_type": "code",
   "execution_count": 1,
   "id": "eligible-surface",
   "metadata": {},
   "outputs": [],
   "source": [
    "from pathlib import Path\n",
    "import pandas as pd"
   ]
  },
  {
   "cell_type": "code",
   "execution_count": 17,
   "id": "resistant-building",
   "metadata": {},
   "outputs": [],
   "source": [
    "clonal_complex = 'ST-32 complex'"
   ]
  },
  {
   "cell_type": "code",
   "execution_count": 18,
   "id": "thorough-agency",
   "metadata": {},
   "outputs": [],
   "source": [
    "filepath = '/media/NGS/SRA_2/pubMLST_Neisseria/BIGSdb_179004_1119847573_26598.xlsx'\n",
    "pubmlst_isolate_info = pd.read_excel(filepath, dtype=object, usecols=['id', 'country', 'year', 'clonal_complex (MLST)'])"
   ]
  },
  {
   "cell_type": "code",
   "execution_count": 19,
   "id": "egyptian-joshua",
   "metadata": {},
   "outputs": [
    {
     "data": {
      "text/plain": [
       "(1381, 3)"
      ]
     },
     "execution_count": 19,
     "metadata": {},
     "output_type": "execute_result"
    }
   ],
   "source": [
    "specific_cc_isolate_info = pubmlst_isolate_info[pubmlst_isolate_info['clonal_complex (MLST)'] == clonal_complex]\n",
    "specific_cc_isolate_info = specific_cc_isolate_info[['id', 'country', 'year']]\n",
    "specific_cc_isolate_info['id'] = specific_cc_isolate_info['id'].astype(str)\n",
    "specific_cc_isolate_info.shape"
   ]
  },
  {
   "cell_type": "code",
   "execution_count": 20,
   "id": "vocational-worry",
   "metadata": {},
   "outputs": [],
   "source": [
    "specific_cc_isolate_ids = set(specific_cc_isolate_info['id'])"
   ]
  },
  {
   "cell_type": "code",
   "execution_count": 21,
   "id": "excellent-prospect",
   "metadata": {},
   "outputs": [
    {
     "data": {
      "text/plain": [
       "(1241, 1381)"
      ]
     },
     "execution_count": 21,
     "metadata": {},
     "output_type": "execute_result"
    }
   ],
   "source": [
    "dirpath = Path('/media/NGS/SRA_2/pubMLST_Neisseria/Profile')\n",
    "generator = (pd.read_csv(filepath, sep='\\t', index_col=0, header=0, names=[filepath.stem]) for\n",
    "             filepath in dirpath.iterdir() if filepath.stem in specific_cc_isolate_ids)\n",
    "pubmlst_profile = pd.concat(generator, axis=1)\n",
    "pubmlst_profile.shape"
   ]
  },
  {
   "cell_type": "code",
   "execution_count": 22,
   "id": "hispanic-kennedy",
   "metadata": {},
   "outputs": [],
   "source": [
    "filepath = \"/media/NGS/MiSeqAnalysis/Neisseria_meningitidis/MLST.tsv\"\n",
    "mlst = pd.read_csv(filepath, sep='\\t', index_col=0, usecols=['Key', 'clonal_complex'])\n",
    "ids = set(mlst[mlst['clonal_complex'] == clonal_complex].index)"
   ]
  },
  {
   "cell_type": "code",
   "execution_count": 23,
   "id": "iraqi-portfolio",
   "metadata": {},
   "outputs": [
    {
     "data": {
      "text/plain": [
       "(1241, 32)"
      ]
     },
     "execution_count": 23,
     "metadata": {},
     "output_type": "execute_result"
    }
   ],
   "source": [
    "dirpath = Path('/media/NGS/MiSeqAnalysis/Neisseria_meningitidis/Profile')\n",
    "generator = (pd.read_csv(filepath, sep='\\t', index_col=0, header=0, names=[filepath.stem]) for\n",
    "             filepath in dirpath.iterdir() if filepath.stem in ids)\n",
    "profile = pd.concat(generator, axis=1)\n",
    "profile.shape"
   ]
  },
  {
   "cell_type": "code",
   "execution_count": 24,
   "id": "narrative-harbor",
   "metadata": {},
   "outputs": [
    {
     "data": {
      "text/plain": [
       "(1241, 1413)"
      ]
     },
     "execution_count": 24,
     "metadata": {},
     "output_type": "execute_result"
    }
   ],
   "source": [
    "total_profile = pd.concat([pubmlst_profile, profile], axis=1)\n",
    "total_profile.shape"
   ]
  },
  {
   "cell_type": "code",
   "execution_count": 10,
   "id": "interested-cambodia",
   "metadata": {},
   "outputs": [],
   "source": [
    "import sys\n",
    "sys.path.append('../src')\n",
    "\n",
    "from tree import PairwiseDistanceMatrix, Dendrogram, clustering"
   ]
  },
  {
   "cell_type": "code",
   "execution_count": 25,
   "id": "difficult-breast",
   "metadata": {},
   "outputs": [],
   "source": [
    "# pdist = PairwiseDistanceMatrix(total_profile.filter(clusters[109], axis=1))\n",
    "pdist = PairwiseDistanceMatrix(total_profile)"
   ]
  },
  {
   "cell_type": "code",
   "execution_count": 26,
   "id": "driven-center",
   "metadata": {},
   "outputs": [],
   "source": [
    "distmatrix = pdist()"
   ]
  },
  {
   "cell_type": "code",
   "execution_count": 27,
   "id": "diagnostic-television",
   "metadata": {},
   "outputs": [],
   "source": [
    "dendrogram = Dendrogram(distmatrix)"
   ]
  },
  {
   "cell_type": "code",
   "execution_count": 28,
   "id": "hungry-architect",
   "metadata": {},
   "outputs": [],
   "source": [
    "dendrogram(labels_color={label: 'red' for label in profile.columns}, show_node_info=True, xlim=100)"
   ]
  },
  {
   "cell_type": "code",
   "execution_count": 29,
   "id": "common-morning",
   "metadata": {},
   "outputs": [],
   "source": [
    "_metadata = specific_cc_isolate_info.set_index('id').reindex(dendrogram.labels[::-1]).fillna('')\n",
    "\n",
    "table = dendrogram.figure.ax.table(\n",
    "    cellLoc='left', colLoc='left',\n",
    "    cellText=_metadata.values,\n",
    "    colLabels=_metadata.columns,\n",
    "    bbox=[1.2, 0, .3, 1+1/len(dendrogram.labels)]\n",
    ")\n",
    "\n",
    "for key, cell in table._cells.items():\n",
    "    cell.set_linewidth(0)\n",
    "    cell.PAD = 0\n",
    "\n",
    "table.auto_set_font_size(False)\n",
    "table.set_fontsize(12)\n",
    "table.auto_set_column_width(range(len(_metadata.columns)))"
   ]
  },
  {
   "cell_type": "code",
   "execution_count": 30,
   "id": "headed-panama",
   "metadata": {},
   "outputs": [],
   "source": [
    "dendrogram.savefig('/media/NGS/Data_Analysis/20210326_pubMLST/Neisseria_meningitidis_ST32_complex.pdf')"
   ]
  },
  {
   "cell_type": "code",
   "execution_count": null,
   "id": "deluxe-monte",
   "metadata": {},
   "outputs": [],
   "source": []
  }
 ],
 "metadata": {
  "kernelspec": {
   "display_name": "Python 3",
   "language": "python",
   "name": "python3"
  },
  "language_info": {
   "codemirror_mode": {
    "name": "ipython",
    "version": 3
   },
   "file_extension": ".py",
   "mimetype": "text/x-python",
   "name": "python",
   "nbconvert_exporter": "python",
   "pygments_lexer": "ipython3",
   "version": "3.6.12"
  }
 },
 "nbformat": 4,
 "nbformat_minor": 5
}
