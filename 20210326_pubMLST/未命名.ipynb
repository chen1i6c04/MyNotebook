{
 "cells": [
  {
   "cell_type": "code",
   "execution_count": 1,
   "metadata": {},
   "outputs": [],
   "source": [
    "from pathlib import Path\n",
    "import pandas as pd"
   ]
  },
  {
   "cell_type": "code",
   "execution_count": 2,
   "metadata": {},
   "outputs": [],
   "source": [
    "filepath = '/media/NGS/SRA_2/pubMLST_Neisseria/BIGSdb_179004_1119847573_26598.xlsx'\n",
    "pubmlst_isolate_info = pd.read_excel(filepath)"
   ]
  },
  {
   "cell_type": "code",
   "execution_count": 38,
   "metadata": {},
   "outputs": [
    {
     "data": {
      "text/plain": [
       "2215"
      ]
     },
     "execution_count": 38,
     "metadata": {},
     "output_type": "execute_result"
    }
   ],
   "source": [
    "specific_cc_isolate_ids = set(pubmlst_isolate_info[pubmlst_isolate_info['clonal_complex (MLST)'] == 'ST-23 complex']['id'])\n",
    "len(specific_cc_isolate_ids)"
   ]
  },
  {
   "cell_type": "code",
   "execution_count": 39,
   "metadata": {},
   "outputs": [
    {
     "data": {
      "text/plain": [
       "(1241, 2215)"
      ]
     },
     "execution_count": 39,
     "metadata": {},
     "output_type": "execute_result"
    }
   ],
   "source": [
    "dirpath = Path('/media/NGS/SRA_2/pubMLST_Neisseria/Profile')\n",
    "generator = (pd.read_csv(filepath, sep='\\t', index_col=0, header=0, names=[filepath.stem]) for\n",
    "             filepath in dirpath.iterdir() if int(filepath.stem) in specific_cc_isolate_ids)\n",
    "pubmlst_profile = pd.concat(generator, axis=1)\n",
    "pubmlst_profile.shape"
   ]
  },
  {
   "cell_type": "code",
   "execution_count": 29,
   "metadata": {},
   "outputs": [],
   "source": [
    "filepath = \"/media/NGS/MiSeqAnalysis/Neisseria_meningitidis/MLST.tsv\"\n",
    "mlst = pd.read_csv(filepath, sep='\\t', index_col=0, usecols=['Key', 'clonal_complex'])"
   ]
  },
  {
   "cell_type": "code",
   "execution_count": 40,
   "metadata": {},
   "outputs": [],
   "source": [
    "ids = set(mlst[mlst['clonal_complex'] == 'ST-23 complex'].index)"
   ]
  },
  {
   "cell_type": "code",
   "execution_count": 41,
   "metadata": {},
   "outputs": [
    {
     "data": {
      "text/plain": [
       "(1239, 12)"
      ]
     },
     "execution_count": 41,
     "metadata": {},
     "output_type": "execute_result"
    }
   ],
   "source": [
    "dirpath = Path('/media/NGS/MiSeqAnalysis/Neisseria_meningitidis/Profile')\n",
    "generator = (pd.read_csv(filepath, sep='\\t', index_col=0, header=0, names=[filepath.stem]) for\n",
    "             filepath in dirpath.iterdir() if filepath.stem in ids)\n",
    "profile = pd.concat(generator, axis=1)\n",
    "profile.shape"
   ]
  },
  {
   "cell_type": "code",
   "execution_count": 42,
   "metadata": {},
   "outputs": [
    {
     "data": {
      "text/plain": [
       "(1241, 2227)"
      ]
     },
     "execution_count": 42,
     "metadata": {},
     "output_type": "execute_result"
    }
   ],
   "source": [
    "total_profile = pd.concat([pubmlst_profile, profile], axis=1)\n",
    "total_profile.shape"
   ]
  },
  {
   "cell_type": "code",
   "execution_count": null,
   "metadata": {},
   "outputs": [],
   "source": []
  },
  {
   "cell_type": "code",
   "execution_count": 10,
   "metadata": {},
   "outputs": [],
   "source": [
    "import sys\n",
    "sys.path.append('../src')\n",
    "\n",
    "from tree import PairwiseDistanceMatrix, Dendrogram"
   ]
  },
  {
   "cell_type": "code",
   "execution_count": 43,
   "metadata": {},
   "outputs": [],
   "source": [
    "pdist = PairwiseDistanceMatrix(total_profile)"
   ]
  },
  {
   "cell_type": "code",
   "execution_count": 44,
   "metadata": {},
   "outputs": [],
   "source": [
    "distmatrix = pdist()"
   ]
  },
  {
   "cell_type": "code",
   "execution_count": 45,
   "metadata": {},
   "outputs": [],
   "source": [
    "dendrogram = Dendrogram(distmatrix)"
   ]
  },
  {
   "cell_type": "code",
   "execution_count": 46,
   "metadata": {},
   "outputs": [],
   "source": [
    "dendrogram(labels_color={label: 'red' for label in profile.columns}, show_node_info=True)"
   ]
  },
  {
   "cell_type": "code",
   "execution_count": 47,
   "metadata": {},
   "outputs": [],
   "source": [
    "dendrogram.savefig('/media/NGS/Data_Analysis/20210326_pubMLST/compare_with_Neisseria_ST23_complex_strain.pdf')"
   ]
  },
  {
   "cell_type": "code",
   "execution_count": null,
   "metadata": {},
   "outputs": [],
   "source": []
  },
  {
   "cell_type": "code",
   "execution_count": null,
   "metadata": {},
   "outputs": [],
   "source": []
  }
 ],
 "metadata": {
  "kernelspec": {
   "display_name": "Python 3",
   "language": "python",
   "name": "python3"
  },
  "language_info": {
   "codemirror_mode": {
    "name": "ipython",
    "version": 3
   },
   "file_extension": ".py",
   "mimetype": "text/x-python",
   "name": "python",
   "nbconvert_exporter": "python",
   "pygments_lexer": "ipython3",
   "version": "3.6.12"
  }
 },
 "nbformat": 4,
 "nbformat_minor": 4
}
