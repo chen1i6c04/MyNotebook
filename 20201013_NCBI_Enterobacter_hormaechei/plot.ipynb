{
 "cells": [
  {
   "cell_type": "code",
   "execution_count": 1,
   "metadata": {},
   "outputs": [],
   "source": [
    "from itertools import chain\n",
    "from pathlib import Path\n",
    "import pandas as pd"
   ]
  },
  {
   "cell_type": "code",
   "execution_count": 2,
   "metadata": {},
   "outputs": [],
   "source": [
    "filepaths = (\n",
    "    '/media/NAS/Synology_222/2_Research/03_cgMLST/Enterobacter_hormaechei/Enterobacter_hormaechei_SampleInfo.csv',\n",
    "    '/media/NGS/Data_Analysis/20201026_Enterobacter_cloacae_complex/SampleInfo.csv',\n",
    ")"
   ]
  },
  {
   "cell_type": "code",
   "execution_count": null,
   "metadata": {},
   "outputs": [],
   "source": []
  },
  {
   "cell_type": "code",
   "execution_count": 3,
   "metadata": {},
   "outputs": [],
   "source": [
    "sample_info = pd.concat([pd.read_csv(filepath, dtype=object) for filepath in filepaths])"
   ]
  },
  {
   "cell_type": "code",
   "execution_count": 4,
   "metadata": {},
   "outputs": [],
   "source": [
    "sample_info = sample_info[['Source', 'BioSample', 'ST', 'Year', 'Country', 'ResistanceGene', 'Inc type']]"
   ]
  },
  {
   "cell_type": "code",
   "execution_count": 13,
   "metadata": {},
   "outputs": [],
   "source": [
    "sample_info.to_csv('Enterobacter_hormaechei_SampleInfo.csv', index=False)"
   ]
  },
  {
   "cell_type": "code",
   "execution_count": null,
   "metadata": {},
   "outputs": [],
   "source": []
  },
  {
   "cell_type": "code",
   "execution_count": 5,
   "metadata": {},
   "outputs": [],
   "source": [
    "dirpaths = (\n",
    "    '/media/NGS/SRA_1/NCBI_Enterobacter_hormaechei_SRA/Profiles',\n",
    "    '/media/NGS/Sequence/Enterobacter_hormaechei/Profiles',\n",
    "    '/media/NGS/Data_Analysis/20201026_Enterobacter_cloacae_complex/Profiles',\n",
    ")\n",
    "\n",
    "dirpaths = (Path(dirpath) for dirpath in dirpaths)\n",
    "filepaths = list(chain.from_iterable(dirpath.iterdir() for dirpath in dirpaths))\n",
    "profiles = pd.concat([pd.read_csv(filepath, sep='\\t', index_col=0) for filepath in filepaths], axis=1)"
   ]
  },
  {
   "cell_type": "code",
   "execution_count": null,
   "metadata": {},
   "outputs": [],
   "source": []
  },
  {
   "cell_type": "code",
   "execution_count": 6,
   "metadata": {},
   "outputs": [],
   "source": [
    "import sys\n",
    "sys.path.append('../src')\n",
    "\n",
    "from tree import Dendrogram, calculate_distance"
   ]
  },
  {
   "cell_type": "code",
   "execution_count": 7,
   "metadata": {},
   "outputs": [],
   "source": [
    "pdist = calculate_distance(profiles)"
   ]
  },
  {
   "cell_type": "code",
   "execution_count": 8,
   "metadata": {},
   "outputs": [],
   "source": [
    "dendrogram = Dendrogram(pdist)\n",
    "dendrogram.cluster(no_labels=True)\n",
    "\n",
    "metadata = sample_info.set_index('Source').reindex(dendrogram.labels[::-1]).fillna('').reset_index()\n",
    "\n",
    "table = dendrogram.plot.ax.table(\n",
    "    cellLoc='left', colLoc='left',\n",
    "    cellText=metadata.values,\n",
    "    colLabels=metadata.columns,\n",
    "    bbox=[1.05, 0, 5, 1+1/len(dendrogram.labels)]\n",
    ")\n",
    "\n",
    "table.auto_set_font_size(False)\n",
    "table.set_fontsize(12)\n",
    "\n",
    "for key, cell in table._cells.items():\n",
    "    cell.set_linewidth(0)\n",
    "    cell.PAD = 0\n",
    "    \n",
    "\n",
    "table.auto_set_column_width(range(len(metadata.columns)))"
   ]
  },
  {
   "cell_type": "code",
   "execution_count": 9,
   "metadata": {},
   "outputs": [],
   "source": [
    "labels = {'TUECL19004', 'TUECL19002', 'TUECL19005', 'TUECL19003', 'TUECL19001'}"
   ]
  },
  {
   "cell_type": "code",
   "execution_count": 10,
   "metadata": {},
   "outputs": [],
   "source": [
    "for key, cell in table._cells.items():\n",
    "    text = cell.get_text()\n",
    "    if text.get_text() in labels:\n",
    "        text.set_color('red')"
   ]
  },
  {
   "cell_type": "code",
   "execution_count": 11,
   "metadata": {},
   "outputs": [],
   "source": [
    "dendrogram.savefig('dendrogram.svg')"
   ]
  },
  {
   "cell_type": "code",
   "execution_count": null,
   "metadata": {},
   "outputs": [],
   "source": []
  }
 ],
 "metadata": {
  "kernelspec": {
   "display_name": "Python 3",
   "language": "python",
   "name": "python3"
  },
  "language_info": {
   "codemirror_mode": {
    "name": "ipython",
    "version": 3
   },
   "file_extension": ".py",
   "mimetype": "text/x-python",
   "name": "python",
   "nbconvert_exporter": "python",
   "pygments_lexer": "ipython3",
   "version": "3.6.12"
  }
 },
 "nbformat": 4,
 "nbformat_minor": 4
}
