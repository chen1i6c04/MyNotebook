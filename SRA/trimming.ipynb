{
 "cells": [
  {
   "cell_type": "code",
   "execution_count": 2,
   "metadata": {},
   "outputs": [],
   "source": [
    "import os\n",
    "from pathlib import Path\n",
    "from collections import defaultdict\n",
    "from multiprocessing import Pool\n",
    "\n",
    "import sys\n",
    "sys.path.append('../src')\n",
    "from command import run_cmd"
   ]
  },
  {
   "cell_type": "code",
   "execution_count": 7,
   "metadata": {},
   "outputs": [],
   "source": [
    "ADAPTERS = '/home/chen1i6c04/Tools/shovill/db/trimmomatic.fa'\n",
    "MIN_BQ = 3\n",
    "TRIM_OPT = f\"ILLUMINACLIP:{ADAPTERS}:2:30:10 CROP:300 HEADCROP:8 LEADING:{MIN_BQ} TRAILING:{MIN_BQ} SLIDINGWINDOW:4:20 MINLEN:36 TOPHRED33\"\n",
    "\n",
    "\n",
    "def trimming(forward_reads, reverse_reads, outdir, threads, prefix='trim'):\n",
    "    forward_paired = os.path.join(outdir, f'{prefix}_R1.fq')\n",
    "    reverse_paired = os.path.join(outdir, f'{prefix}_R2.fq')\n",
    "    cmd = f\"trimmomatic PE -threads {threads} {forward_reads} {reverse_reads} {forward_paired} /dev/null\" \\\n",
    "          f\" {reverse_paired} /dev/null {TRIM_OPT}\"\n",
    "    run_cmd(cmd)"
   ]
  },
  {
   "cell_type": "code",
   "execution_count": 8,
   "metadata": {},
   "outputs": [],
   "source": [
    "trimming(\n",
    "    '/media/NGS/MiSeqAnalysis/201030_M04855_0061_000000000-JCBFN/Data/Intensities/BaseCalls/R17-5974-TC2_S64_L001_R1_001.fastq.gz',\n",
    "    '/media/NGS/MiSeqAnalysis/201030_M04855_0061_000000000-JCBFN/Data/Intensities/BaseCalls/R17-5974-TC2_S64_L001_R2_001.fastq.gz',\n",
    "    '/home/chen1i6c04/test/3', 8)"
   ]
  },
  {
   "cell_type": "code",
   "execution_count": 4,
   "metadata": {},
   "outputs": [],
   "source": [
    "dirpath = Path('/media/NGS/Data_Analysis/Aedes_aegypti_WGS/20200915/sub_reads')\n",
    "outpath = Path('/media/NGS/Data_Analysis/Aedes_aegypti_WGS/20200915/trim_reads')"
   ]
  },
  {
   "cell_type": "code",
   "execution_count": 5,
   "metadata": {},
   "outputs": [],
   "source": [
    "pairwise = defaultdict(list)\n",
    "\n",
    "for i in dirpath.iterdir():\n",
    "    prefix = i.stem.split('_', 1)[0]\n",
    "    pairwise[prefix].append(i.as_posix())"
   ]
  },
  {
   "cell_type": "code",
   "execution_count": 6,
   "metadata": {},
   "outputs": [
    {
     "data": {
      "text/plain": [
       "defaultdict(list,\n",
       "            {'G6': ['/media/NGS/Data_Analysis/Aedes_aegypti_WGS/20200915/sub_reads/G6_R2.fq.gz',\n",
       "              '/media/NGS/Data_Analysis/Aedes_aegypti_WGS/20200915/sub_reads/G6_R1.fq.gz'],\n",
       "             'G3': ['/media/NGS/Data_Analysis/Aedes_aegypti_WGS/20200915/sub_reads/G3_R1.fq.gz',\n",
       "              '/media/NGS/Data_Analysis/Aedes_aegypti_WGS/20200915/sub_reads/G3_R2.fq.gz'],\n",
       "             'G0': ['/media/NGS/Data_Analysis/Aedes_aegypti_WGS/20200915/sub_reads/G0_R1.fq.gz',\n",
       "              '/media/NGS/Data_Analysis/Aedes_aegypti_WGS/20200915/sub_reads/G0_R2.fq.gz']})"
      ]
     },
     "execution_count": 6,
     "metadata": {},
     "output_type": "execute_result"
    }
   ],
   "source": [
    "pairwise"
   ]
  },
  {
   "cell_type": "code",
   "execution_count": 7,
   "metadata": {},
   "outputs": [],
   "source": [
    "for prefix, seqfiles in pairwise.items():\n",
    "    trimming(seqfiles[0], seqfiles[1], outpath, 8, prefix+'-trim')"
   ]
  },
  {
   "cell_type": "code",
   "execution_count": 19,
   "metadata": {},
   "outputs": [],
   "source": [
    "if __name__=='__main__':\n",
    "    p = Pool(8)\n",
    "    try:\n",
    "        for prefix, seqfiles in pairwise.items():\n",
    "            p.apply_async(trimming, args=(seqfiles[0], seqfiles[1], outpath, 8, prefix))\n",
    "#             p.apply_async(single_trimming, args=(seqfiles[0], outpath, 8, prefix))\n",
    "        p.close()\n",
    "        p.join()\n",
    "    except:\n",
    "        p.terminate()"
   ]
  },
  {
   "cell_type": "code",
   "execution_count": null,
   "metadata": {},
   "outputs": [],
   "source": []
  }
 ],
 "metadata": {
  "kernelspec": {
   "display_name": "Python 3",
   "language": "python",
   "name": "python3"
  },
  "language_info": {
   "codemirror_mode": {
    "name": "ipython",
    "version": 3
   },
   "file_extension": ".py",
   "mimetype": "text/x-python",
   "name": "python",
   "nbconvert_exporter": "python",
   "pygments_lexer": "ipython3",
   "version": "3.6.11"
  }
 },
 "nbformat": 4,
 "nbformat_minor": 4
}
