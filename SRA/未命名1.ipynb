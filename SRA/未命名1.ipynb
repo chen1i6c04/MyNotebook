{
 "cells": [
  {
   "cell_type": "code",
   "execution_count": 1,
   "id": "f59c2c03-a19b-4fd6-9afb-60afb4eb60d7",
   "metadata": {},
   "outputs": [],
   "source": [
    "import subprocess\n",
    "from pathlib import Path\n",
    "from multiprocessing import Pool"
   ]
  },
  {
   "cell_type": "code",
   "execution_count": 26,
   "id": "ffd4fa88-53ae-47de-adef-0a7bacb823e8",
   "metadata": {},
   "outputs": [],
   "source": [
    "import pandas as pd"
   ]
  },
  {
   "cell_type": "code",
   "execution_count": 2,
   "id": "924b0345-ea76-45e8-8b3b-92f3862048b1",
   "metadata": {},
   "outputs": [],
   "source": [
    "def run_mash(query, reference, output):\n",
    "    with open(output, 'w') as handle:\n",
    "        subprocess.run(['mash', 'dist', reference, query], stdout=handle)"
   ]
  },
  {
   "cell_type": "code",
   "execution_count": 94,
   "id": "cfdebe8c-1c6f-4671-922a-ec93a3f109b2",
   "metadata": {},
   "outputs": [],
   "source": [
    "dirpath = Path('/media/Central_Lab_Storage/NcbiSRA/NCBI_Salmonella_enterica_Albany_SRA/Contigs')\n",
    "outpath = Path('/media/Central_Lab_Storage/NcbiSRA/NCBI_Salmonella_enterica_Albany_SRA/Mash')\n",
    "mash_sketch = '/media/Central_Lab_Storage/NcbiASM/Salmonella_enterica/RefSeq.msh'"
   ]
  },
  {
   "cell_type": "code",
   "execution_count": 95,
   "id": "f3a2a822-89a9-4859-8fff-abde4007205d",
   "metadata": {},
   "outputs": [],
   "source": [
    "with Pool(32) as p:\n",
    "    try:\n",
    "        for query in dirpath.iterdir():\n",
    "            output = outpath/(query.stem + '.txt')\n",
    "            p.apply_async(run_mash, (query, mash_sketch, output))\n",
    "        p.close()\n",
    "        p.join()\n",
    "    except KeyboardInterrupt:\n",
    "        p.terminate()"
   ]
  },
  {
   "cell_type": "code",
   "execution_count": null,
   "id": "274e4468-a9a9-4cd4-aa48-23b96d9bc8dc",
   "metadata": {},
   "outputs": [],
   "source": []
  },
  {
   "cell_type": "code",
   "execution_count": 96,
   "id": "520a5b27-d9ca-4b1c-9119-e2471a44ff94",
   "metadata": {},
   "outputs": [],
   "source": [
    "dirpath = Path('/media/Central_Lab_Storage/NcbiSRA/NCBI_Salmonella_enterica_Albany_SRA/Mash')\n",
    "\n",
    "data = []\n",
    "for i in dirpath.iterdir():\n",
    "    if i.stat().st_size is 0:\n",
    "        continue\n",
    "    with open(i) as f:\n",
    "        min_mash_dist = min(float(line.split()[2]) for line in f)\n",
    "    data.append((i.stem, min_mash_dist))"
   ]
  },
  {
   "cell_type": "code",
   "execution_count": 97,
   "id": "b87e3492-ee6a-45e6-aa28-597fbc314e15",
   "metadata": {},
   "outputs": [],
   "source": [
    "df = pd.DataFrame(data, columns=['query', 'mash_dist'])"
   ]
  },
  {
   "cell_type": "code",
   "execution_count": 104,
   "id": "6e638a79-b73a-4291-93c7-d596a335759b",
   "metadata": {},
   "outputs": [
    {
     "data": {
      "text/html": [
       "<div>\n",
       "<style scoped>\n",
       "    .dataframe tbody tr th:only-of-type {\n",
       "        vertical-align: middle;\n",
       "    }\n",
       "\n",
       "    .dataframe tbody tr th {\n",
       "        vertical-align: top;\n",
       "    }\n",
       "\n",
       "    .dataframe thead th {\n",
       "        text-align: right;\n",
       "    }\n",
       "</style>\n",
       "<table border=\"1\" class=\"dataframe\">\n",
       "  <thead>\n",
       "    <tr style=\"text-align: right;\">\n",
       "      <th></th>\n",
       "      <th>query</th>\n",
       "      <th>mash_dist</th>\n",
       "    </tr>\n",
       "  </thead>\n",
       "  <tbody>\n",
       "    <tr>\n",
       "      <th>18</th>\n",
       "      <td>SRR7187128</td>\n",
       "      <td>0.012025</td>\n",
       "    </tr>\n",
       "    <tr>\n",
       "      <th>37</th>\n",
       "      <td>SRR7533272</td>\n",
       "      <td>0.011428</td>\n",
       "    </tr>\n",
       "    <tr>\n",
       "      <th>41</th>\n",
       "      <td>SRR7828394</td>\n",
       "      <td>0.010810</td>\n",
       "    </tr>\n",
       "    <tr>\n",
       "      <th>154</th>\n",
       "      <td>SRR1958365</td>\n",
       "      <td>0.011446</td>\n",
       "    </tr>\n",
       "    <tr>\n",
       "      <th>203</th>\n",
       "      <td>SRR3120729</td>\n",
       "      <td>0.018325</td>\n",
       "    </tr>\n",
       "  </tbody>\n",
       "</table>\n",
       "</div>"
      ],
      "text/plain": [
       "          query  mash_dist\n",
       "18   SRR7187128   0.012025\n",
       "37   SRR7533272   0.011428\n",
       "41   SRR7828394   0.010810\n",
       "154  SRR1958365   0.011446\n",
       "203  SRR3120729   0.018325"
      ]
     },
     "execution_count": 104,
     "metadata": {},
     "output_type": "execute_result"
    }
   ],
   "source": [
    "df[df['mash_dist']>0.01]"
   ]
  },
  {
   "cell_type": "code",
   "execution_count": 88,
   "id": "f18803d0-a7c6-470d-8c71-91e611163bed",
   "metadata": {},
   "outputs": [],
   "source": [
    "df.to_csv('/media/Central_Lab_Storage/NcbiSRA/NCBI_Neisseria_meningitidis_SRA/Mash.txt', sep='\\t', index=False)"
   ]
  },
  {
   "cell_type": "code",
   "execution_count": null,
   "id": "db7e2360-81c9-49cb-a370-625ff82625f6",
   "metadata": {},
   "outputs": [],
   "source": []
  },
  {
   "cell_type": "code",
   "execution_count": 105,
   "id": "62bacc12-9541-4c0c-9d8b-7ed9233825fd",
   "metadata": {},
   "outputs": [],
   "source": [
    "mash_sketch = '/media/Central_Lab_Storage/NcbiASM/Salmonella_enterica/RefSeq.msh'"
   ]
  },
  {
   "cell_type": "code",
   "execution_count": 106,
   "id": "8ba37223-37a8-4608-b1a1-d060fbba7c3f",
   "metadata": {},
   "outputs": [],
   "source": [
    "output = subprocess.check_output(['mash', 'dist', '-p', '32', mash_sketch, mash_sketch])"
   ]
  },
  {
   "cell_type": "code",
   "execution_count": 112,
   "id": "a4228772-9f04-4363-91d5-37590795412a",
   "metadata": {},
   "outputs": [],
   "source": [
    "df = pd.DataFrame([line.split() for line in output.decode().splitlines()], columns=['query', 'reference', 'mash-dist', 'p-value', 'matching-hashes'])"
   ]
  },
  {
   "cell_type": "code",
   "execution_count": 115,
   "id": "d4f8f716-dbae-4622-9c1f-ccb543a9e7c3",
   "metadata": {},
   "outputs": [],
   "source": [
    "df = df[df['query']!=df['reference']]"
   ]
  },
  {
   "cell_type": "code",
   "execution_count": 119,
   "id": "683d2a1c-ffa7-49a5-8a8d-40f0ac42eb5e",
   "metadata": {},
   "outputs": [
    {
     "name": "stderr",
     "output_type": "stream",
     "text": [
      "/home/chen1i6c04/miniconda3/envs/notebook/lib/python3.6/site-packages/ipykernel_launcher.py:1: SettingWithCopyWarning: \n",
      "A value is trying to be set on a copy of a slice from a DataFrame.\n",
      "Try using .loc[row_indexer,col_indexer] = value instead\n",
      "\n",
      "See the caveats in the documentation: https://pandas.pydata.org/pandas-docs/stable/user_guide/indexing.html#returning-a-view-versus-a-copy\n",
      "  \"\"\"Entry point for launching an IPython kernel.\n"
     ]
    }
   ],
   "source": [
    "df['mash-dist'] = df['mash-dist'].astype(float)"
   ]
  },
  {
   "cell_type": "code",
   "execution_count": 126,
   "id": "4417f791-d3f8-413c-a5fd-b2615ebf05b1",
   "metadata": {},
   "outputs": [
    {
     "data": {
      "text/plain": [
       "query\n",
       "/media/Central_Lab_Storage/NcbiASM/Salmonella_enterica/RefSeq/GCF_000018625.1.fa    0.005421\n",
       "/media/Central_Lab_Storage/NcbiASM/Salmonella_enterica/RefSeq/GCF_000018705.1.fa    0.008216\n",
       "/media/Central_Lab_Storage/NcbiASM/Salmonella_enterica/RefSeq/GCF_000020705.1.fa    0.006430\n",
       "/media/Central_Lab_Storage/NcbiASM/Salmonella_enterica/RefSeq/GCF_000240905.2.fa    0.009190\n",
       "/media/Central_Lab_Storage/NcbiASM/Salmonella_enterica/RefSeq/GCF_000430125.1.fa    0.012672\n",
       "Name: mash-dist, dtype: float64"
      ]
     },
     "execution_count": 126,
     "metadata": {},
     "output_type": "execute_result"
    }
   ],
   "source": [
    "df.groupby('query')['mash-dist'].min().head()"
   ]
  },
  {
   "cell_type": "code",
   "execution_count": null,
   "id": "069e9630-f796-41a0-ae90-6ea0444356bf",
   "metadata": {},
   "outputs": [],
   "source": []
  }
 ],
 "metadata": {
  "kernelspec": {
   "display_name": "Python 3",
   "language": "python",
   "name": "python3"
  },
  "language_info": {
   "codemirror_mode": {
    "name": "ipython",
    "version": 3
   },
   "file_extension": ".py",
   "mimetype": "text/x-python",
   "name": "python",
   "nbconvert_exporter": "python",
   "pygments_lexer": "ipython3",
   "version": "3.6.13"
  }
 },
 "nbformat": 4,
 "nbformat_minor": 5
}
