{
 "cells": [
  {
   "cell_type": "code",
   "execution_count": 1,
   "metadata": {},
   "outputs": [],
   "source": [
    "import os\n",
    "import re\n",
    "import sys\n",
    "import subprocess\n",
    "import xml.etree.cElementTree as ET\n",
    "from pathlib import Path\n",
    "from concurrent.futures import ThreadPoolExecutor\n",
    "\n",
    "import pandas as pd\n",
    "import seaborn as sns\n",
    "import matplotlib.pyplot as plt"
   ]
  },
  {
   "cell_type": "code",
   "execution_count": 2,
   "metadata": {},
   "outputs": [],
   "source": [
    "def fetch_statistics_data(accession, timeout=20):\n",
    "    cmd = ['sra-stat', '-xse', '2', accession]\n",
    "    try:\n",
    "        p = subprocess.run(\n",
    "            cmd,\n",
    "            stdout=subprocess.PIPE,\n",
    "            stderr=subprocess.PIPE,\n",
    "            timeout=timeout,\n",
    "        )\n",
    "        return p.stdout\n",
    "    except subprocess.TimeoutExpired:\n",
    "        raise subprocess.TimeoutExpired(f\"Command {cmd} execute timed out\")\n",
    "\n",
    "def check_file_header(filepath):\n",
    "    with open(filepath, 'rb') as f:\n",
    "        header = f.read(8).decode()\n",
    "        return header == 'NCBI.sra'\n",
    "\n",
    "def check_accession_format(accession):\n",
    "    return True if re.fullmatch('[DES]RR[0-9]+$', accession) else False"
   ]
  },
  {
   "cell_type": "code",
   "execution_count": 3,
   "metadata": {},
   "outputs": [],
   "source": [
    "class SequenceReadArchive:\n",
    "    def __init__(self, accession):\n",
    "        if (os.access(accession, os.F_OK) and check_file_header(accession)) or check_accession_format(accession):\n",
    "            self._statistics_data = fetch_statistics_data(accession)\n",
    "            self._xml_tree = ET.fromstring(self._statistics_data)\n",
    "            \n",
    "    def base_count(self, qscore=0):\n",
    "        count = 0\n",
    "        for qual in self._xml_tree.findall('*/Quality'):\n",
    "            if int(qual.attrib['value']) >= qscore:\n",
    "                count += int(qual.attrib['count'])\n",
    "        return count\n",
    "        \n",
    "    @property\n",
    "    def layout(self):\n",
    "        return self._xml_tree.find('Statistics').attrib['nreads']\n",
    "    \n",
    "    @property\n",
    "    def length(self):\n",
    "        return tuple(map(lambda x: int(x.attrib['average']), self._xml_tree.findall('*//Read')))"
   ]
  },
  {
   "cell_type": "code",
   "execution_count": 4,
   "metadata": {},
   "outputs": [],
   "source": [
    "sra = SequenceReadArchive('ERR019408')"
   ]
  },
  {
   "cell_type": "code",
   "execution_count": 8,
   "metadata": {},
   "outputs": [
    {
     "data": {
      "text/plain": [
       "0.2574499990336461"
      ]
     },
     "execution_count": 8,
     "metadata": {},
     "output_type": "execute_result"
    }
   ],
   "source": [
    "sra.base_count(30)/sra.base_count()"
   ]
  },
  {
   "cell_type": "code",
   "execution_count": 3,
   "metadata": {},
   "outputs": [],
   "source": [
    "df = pd.read_csv('/media/GenomicResearch/Issue/NCBI/Run_Info/Salmonella_enterica_SraRunInfo.csv', parse_dates=['ReleaseDate', 'LoadDate'], low_memory=False)\n",
    "\n",
    "df = df[df['download_path'].notna()]\n",
    "\n",
    "df['ReleaseDate'] = pd.to_datetime(df['ReleaseDate'].dt.date)\n",
    "\n",
    "df['ReleaseYear'] = df['ReleaseDate'].dt.year"
   ]
  },
  {
   "cell_type": "code",
   "execution_count": 12,
   "metadata": {},
   "outputs": [
    {
     "data": {
      "text/plain": [
       "2.148725"
      ]
     },
     "execution_count": 12,
     "metadata": {},
     "output_type": "execute_result"
    }
   ],
   "source": [
    "df.shape[0]*5/1000000"
   ]
  },
  {
   "cell_type": "code",
   "execution_count": 3,
   "metadata": {},
   "outputs": [],
   "source": [
    "df = df[df['ReleaseYear']!=2022]"
   ]
  },
  {
   "cell_type": "code",
   "execution_count": 4,
   "metadata": {},
   "outputs": [
    {
     "data": {
      "text/plain": [
       "<AxesSubplot:>"
      ]
     },
     "execution_count": 4,
     "metadata": {},
     "output_type": "execute_result"
    },
    {
     "data": {
      "image/png": "[encoded data removed]",
      "text/plain": [
       "<Figure size 432x288 with 1 Axes>"
      ]
     },
     "metadata": {
      "needs_background": "light"
     },
     "output_type": "display_data"
    }
   ],
   "source": [
    "df['ReleaseYear'].value_counts().sort_index().plot.bar()"
   ]
  },
  {
   "cell_type": "code",
   "execution_count": null,
   "metadata": {},
   "outputs": [],
   "source": [
    "df['ReleaseYear'] = df['ReleaseDate'].dt.year\n",
    "# df = df[df['ReleaseYear']>2010]\n",
    "df = df[df['download_path'].notna()]"
   ]
  },
  {
   "cell_type": "code",
   "execution_count": null,
   "metadata": {},
   "outputs": [],
   "source": [
    "df['ReleaseYear'].value_counts()"
   ]
  },
  {
   "cell_type": "code",
   "execution_count": null,
   "metadata": {},
   "outputs": [],
   "source": [
    "subsamples = pd.concat(group.sample(100) for year, group in df.groupby('ReleaseYear'))"
   ]
  },
  {
   "cell_type": "code",
   "execution_count": null,
   "metadata": {},
   "outputs": [],
   "source": [
    "def fn(run_acc):\n",
    "    try:\n",
    "        sra = SequenceReadArchive(run_acc)\n",
    "        return 'Pass' if sra.count(30)/sra.total_bases*100 >= 80 and sra.layout == '2' else 'Fail'\n",
    "    except Exception:\n",
    "        return 'Fail'\n",
    "\n",
    "with ThreadPoolExecutor(64) as executor:\n",
    "    results = []\n",
    "    for run_acc, date in zip(subsamples['Run'], subsamples['ReleaseDate']):\n",
    "        future = executor.submit(fn, run_acc)\n",
    "        results.append((run_acc, date, future))"
   ]
  },
  {
   "cell_type": "code",
   "execution_count": null,
   "metadata": {},
   "outputs": [],
   "source": [
    "quality_check = [(run_acc, date, future.result()) for run_acc, date, future in results]"
   ]
  },
  {
   "cell_type": "code",
   "execution_count": null,
   "metadata": {},
   "outputs": [],
   "source": [
    "df2 = pd.DataFrame(quality_check, columns=['RunAccession', 'ReleaseDate', 'QualityFilter'])\n",
    "df2"
   ]
  },
  {
   "cell_type": "code",
   "execution_count": null,
   "metadata": {},
   "outputs": [],
   "source": [
    "df2['ReleaseYear'] = df2['ReleaseDate'].dt.year"
   ]
  },
  {
   "cell_type": "code",
   "execution_count": null,
   "metadata": {},
   "outputs": [],
   "source": [
    "df3 = df2.groupby('ReleaseYear')['QualityFilter'].value_counts(normalize=True).mul(100).astype(int)\n",
    "df3.name = 'Ratio'\n",
    "df3 = df3.reset_index()"
   ]
  },
  {
   "cell_type": "code",
   "execution_count": null,
   "metadata": {},
   "outputs": [],
   "source": [
    "with plt.style.context('ggplot'):\n",
    "    fig, ax = plt.subplots(figsize=(5, 3), dpi=150)\n",
    "    g = sns.barplot(x='ReleaseYear', y='Ratio', hue='QualityFilter', data=df3, ax=ax)\n",
    "    g.set_xticklabels(g.get_xmajorticklabels(), rotation=45)\n",
    "    g.legend(bbox_to_anchor=(1.05, .7), loc=2, title='QualityFilter')\n",
    "    g.set_ylim(-5, 105)"
   ]
  },
  {
   "cell_type": "code",
   "execution_count": null,
   "metadata": {},
   "outputs": [],
   "source": [
    "fig.savefig('/media/Access/3_個人儲存區/陳柏翰/NCBI_SRA_Quality_Filter.png', dpi=300, facecolor='w', bbox_inches='tight')"
   ]
  },
  {
   "cell_type": "code",
   "execution_count": null,
   "metadata": {},
   "outputs": [],
   "source": []
  },
  {
   "cell_type": "code",
   "execution_count": null,
   "metadata": {},
   "outputs": [],
   "source": []
  }
 ],
 "metadata": {
  "kernelspec": {
   "display_name": "Python 3",
   "language": "python",
   "name": "python3"
  },
  "language_info": {
   "codemirror_mode": {
    "name": "ipython",
    "version": 3
   },
   "file_extension": ".py",
   "mimetype": "text/x-python",
   "name": "python",
   "nbconvert_exporter": "python",
   "pygments_lexer": "ipython3",
   "version": "3.6.13"
  }
 },
 "nbformat": 4,
 "nbformat_minor": 4
}
