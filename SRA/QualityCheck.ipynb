{
 "cells": [
  {
   "cell_type": "code",
   "execution_count": 11,
   "id": "21fe499c-de8e-4427-acac-d2296e768b27",
   "metadata": {},
   "outputs": [],
   "source": [
    "import shutil\n",
    "from pathlib import Path\n",
    "from xml.etree import cElementTree as ET\n",
    "import pandas as pd"
   ]
  },
  {
   "cell_type": "code",
   "execution_count": 2,
   "id": "976b4b1f-3b38-4a75-8a3a-03e735cdd17b",
   "metadata": {},
   "outputs": [],
   "source": [
    "class XmlParser:\n",
    "    def __init__(self, xml_file):\n",
    "        self._xml_tree = ET.parse(xml_file)\n",
    "        \n",
    "    def base_count(self, qscore=0):\n",
    "        count = 0\n",
    "        for qual in self._xml_tree.findall('*/Quality'):\n",
    "            if int(qual.attrib['value']) >= qscore:\n",
    "                count += int(qual.attrib['count'])\n",
    "        return count\n",
    "    \n",
    "    @property\n",
    "    def layout(self):\n",
    "        return self._xml_tree.find('Statistics').attrib['nreads']\n",
    "    \n",
    "    @property\n",
    "    def length(self):\n",
    "        return tuple(map(lambda x: int(x.attrib['average']), self._xml_tree.findall('*//Read')))"
   ]
  },
  {
   "cell_type": "code",
   "execution_count": 16,
   "id": "764bf70f-60c0-4e4a-9171-085f4324d80c",
   "metadata": {},
   "outputs": [],
   "source": [
    "dirpath = Path('/home/chen1i6c04/year2/xml')\n",
    "\n",
    "data = []\n",
    "for xml in dirpath.iterdir():\n",
    "    parser = XmlParser(xml)\n",
    "    data.append((xml.stem, parser.layout, parser.base_count(30)/parser.base_count()*100))"
   ]
  },
  {
   "cell_type": "code",
   "execution_count": 38,
   "id": "8ab074d0-5a6d-4afd-abc5-f9f087b880b3",
   "metadata": {},
   "outputs": [],
   "source": [
    "df = pd.DataFrame(data, columns=['Run', 'Layout', 'Q30%'])"
   ]
  },
  {
   "cell_type": "code",
   "execution_count": 43,
   "id": "72a32c4d-2b73-4bfc-8f5e-1179c8abcfab",
   "metadata": {},
   "outputs": [],
   "source": [
    "df['Q30%'] = df['Q30%'].round(2)"
   ]
  },
  {
   "cell_type": "code",
   "execution_count": 39,
   "id": "3f393d9b-6a81-48e4-9cb2-f2a23f7a64b6",
   "metadata": {},
   "outputs": [],
   "source": [
    "df['FilterPass'] = (df['Q30%']>=80)&(df['Layout']=='2')"
   ]
  },
  {
   "cell_type": "code",
   "execution_count": 44,
   "id": "55f06ca3-56a8-49d0-86d3-07e1842af7d6",
   "metadata": {},
   "outputs": [],
   "source": [
    "df.to_csv('/home/chen1i6c04/year2/QC.tsv', sep='\\t', index=False)"
   ]
  },
  {
   "cell_type": "code",
   "execution_count": 46,
   "id": "4fc5b04d-2b87-4db0-8c27-11088aeb74a3",
   "metadata": {},
   "outputs": [
    {
     "data": {
      "text/plain": [
       "(362308, 4)"
      ]
     },
     "execution_count": 46,
     "metadata": {},
     "output_type": "execute_result"
    }
   ],
   "source": [
    "df.shape"
   ]
  },
  {
   "cell_type": "code",
   "execution_count": 50,
   "id": "b801c372-96c5-4292-b141-9c38d85233e8",
   "metadata": {},
   "outputs": [
    {
     "data": {
      "text/plain": [
       "(37472, 4)"
      ]
     },
     "execution_count": 50,
     "metadata": {},
     "output_type": "execute_result"
    }
   ],
   "source": [
    "df[df['FilterPass']!=True].shape"
   ]
  },
  {
   "cell_type": "code",
   "execution_count": 51,
   "id": "ea81257c-edef-4a2a-b73d-e0f8622f0e9b",
   "metadata": {},
   "outputs": [
    {
     "data": {
      "text/plain": [
       "(324836, 4)"
      ]
     },
     "execution_count": 51,
     "metadata": {},
     "output_type": "execute_result"
    }
   ],
   "source": [
    "df[df['FilterPass']==True].shape"
   ]
  },
  {
   "cell_type": "code",
   "execution_count": null,
   "id": "12909cd7-0654-452f-9f97-275ab89e17a9",
   "metadata": {},
   "outputs": [],
   "source": []
  }
 ],
 "metadata": {
  "kernelspec": {
   "display_name": "Python 3",
   "language": "python",
   "name": "python3"
  },
  "language_info": {
   "codemirror_mode": {
    "name": "ipython",
    "version": 3
   },
   "file_extension": ".py",
   "mimetype": "text/x-python",
   "name": "python",
   "nbconvert_exporter": "python",
   "pygments_lexer": "ipython3",
   "version": "3.6.13"
  }
 },
 "nbformat": 4,
 "nbformat_minor": 5
}
