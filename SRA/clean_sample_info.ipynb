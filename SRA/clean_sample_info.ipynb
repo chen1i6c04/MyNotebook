{
 "cells": [
  {
   "cell_type": "code",
   "execution_count": 1,
   "metadata": {},
   "outputs": [],
   "source": [
    "from pathlib import Path\n",
    "import pandas as pd"
   ]
  },
  {
   "cell_type": "code",
   "execution_count": 2,
   "metadata": {},
   "outputs": [],
   "source": [
    "useless_data = ['Missing', 'missing', 'Not available', 'not determined', 'not collected',\n",
    "               'unknown', 'Not Applicable', 'not applicable', 'not known', 'not provided',\n",
    "               'Not applicable', 'Not Collected']"
   ]
  },
  {
   "cell_type": "code",
   "execution_count": 3,
   "metadata": {},
   "outputs": [],
   "source": [
    "run_info = pd.read_csv('/media/NGS/Data_Analysis/NCBI/Run_Info/Salmonella_enterica_Run_info.csv',\n",
    "                       usecols=['Run', 'BioSample'])"
   ]
  },
  {
   "cell_type": "code",
   "execution_count": 5,
   "metadata": {},
   "outputs": [],
   "source": [
    "sample_info = pd.read_csv('/media/NGS/Data_Analysis/NCBI/Sample_Info/Salmonella_enterica_Enteritidis_SampleInfo.csv',\n",
    "                          low_memory=False)"
   ]
  },
  {
   "cell_type": "code",
   "execution_count": 6,
   "metadata": {},
   "outputs": [],
   "source": [
    "sample_info = sample_info.merge(run_info)"
   ]
  },
  {
   "cell_type": "code",
   "execution_count": 7,
   "metadata": {},
   "outputs": [],
   "source": [
    "sample_info = sample_info.replace(useless_data, pd.NA).dropna(how='all', axis=1)"
   ]
  },
  {
   "cell_type": "code",
   "execution_count": 8,
   "metadata": {},
   "outputs": [],
   "source": [
    "db_mapping = {'SRR': 'NCBI', 'ERR': 'ENA', 'DRR': 'DDBJ'}"
   ]
  },
  {
   "cell_type": "code",
   "execution_count": 9,
   "metadata": {},
   "outputs": [],
   "source": [
    "sample_info['Database'] = sample_info['Run'].str[:3].map(db_mapping)"
   ]
  },
  {
   "cell_type": "code",
   "execution_count": 10,
   "metadata": {},
   "outputs": [],
   "source": [
    "sheet_pages = {}\n",
    "for db, group in sample_info.groupby('Database'):\n",
    "    group = group.dropna(axis=1, how='all').drop_duplicates('BioSample').drop(['Database', 'Run'], axis=1)\n",
    "    sheet_pages[db] = group"
   ]
  },
  {
   "cell_type": "code",
   "execution_count": 11,
   "metadata": {},
   "outputs": [],
   "source": [
    "with pd.ExcelWriter('/media/NGS/Data_Analysis/NCBI/Sample_Info/Salmonella_enterica_Enteritidis_SampleInfo.xlsx') as writer:\n",
    "    for sheet_name, table in sheet_pages.items():\n",
    "        table.to_excel(writer, sheet_name=sheet_name, index=False)"
   ]
  },
  {
   "cell_type": "code",
   "execution_count": null,
   "metadata": {},
   "outputs": [],
   "source": []
  }
 ],
 "metadata": {
  "kernelspec": {
   "display_name": "Python 3",
   "language": "python",
   "name": "python3"
  },
  "language_info": {
   "codemirror_mode": {
    "name": "ipython",
    "version": 3
   },
   "file_extension": ".py",
   "mimetype": "text/x-python",
   "name": "python",
   "nbconvert_exporter": "python",
   "pygments_lexer": "ipython3",
   "version": "3.6.10"
  }
 },
 "nbformat": 4,
 "nbformat_minor": 4
}
