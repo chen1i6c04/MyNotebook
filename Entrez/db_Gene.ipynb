{
 "cells": [
  {
   "cell_type": "code",
   "execution_count": 28,
   "metadata": {},
   "outputs": [],
   "source": [
    "from pprint import pprint\n",
    "from io import StringIO\n",
    "import xml.etree.ElementTree as ET\n",
    "\n",
    "import pandas as pd\n",
    "from Bio import Entrez"
   ]
  },
  {
   "cell_type": "code",
   "execution_count": 2,
   "metadata": {},
   "outputs": [],
   "source": [
    "Entrez.email = 'chen1i6c04@gmail.com'\n",
    "\n",
    "def einfo(db):\n",
    "    with Entrez.einfo(db=db) as handle:\n",
    "        record = Entrez.read(handle)\n",
    "    for fileld in record['DbInfo']['FieldList']:\n",
    "        print(fileld['Name'], fileld['Description'])\n",
    "\n",
    "def egquery(term, db='sra'):\n",
    "    with Entrez.egquery(term=term) as handle:\n",
    "        record = Entrez.read(handle)\n",
    "    for row in record[\"eGQueryResult\"]:\n",
    "        if row[\"DbName\"]==db:\n",
    "            count = int(row[\"Count\"])\n",
    "            return count\n",
    "\n",
    "def esearch(term, db=\"sra\", retmax=10000):\n",
    "    with Entrez.esearch(db=db, term=term, retmax=retmax) as handle:\n",
    "        record = Entrez.read(handle)\n",
    "        return record['IdList']\n",
    "\n",
    "def efetch(uid, db, rettype='xml', retmode=\"xml\"):\n",
    "    with Entrez.efetch(db=db, id=uid, rettype=rettype, retmode=retmode) as handle:\n",
    "        record = handle.read()\n",
    "    return record"
   ]
  },
  {
   "cell_type": "code",
   "execution_count": 46,
   "metadata": {},
   "outputs": [],
   "source": [
    "db = 'gene'"
   ]
  },
  {
   "cell_type": "code",
   "execution_count": 47,
   "metadata": {},
   "outputs": [
    {
     "name": "stdout",
     "output_type": "stream",
     "text": [
      "ALL All terms from all searchable fields\n",
      "UID Unique number assigned to a gene record\n",
      "FILT Limits the records\n",
      "TITL gene or protein name\n",
      "WORD Free text associated with record\n",
      "ORGN scientific and common names of organism\n",
      "MDAT The last date on which the record was updated\n",
      "CHR Chromosome number or numbers; also 'mitochondrial', 'unknown' properties\n",
      "MV Chromosomal map location as displayed in MapViewer\n",
      "GENE Symbol or symbols of the gene\n",
      "ECNO EC number for enzyme or CAS registry number\n",
      "MIM MIM number from OMIM\n",
      "DIS Name(s) of diseases associated with this gene. When available, OMIM name will be used\n",
      "ACCN Nucleotide or protein accession(s) associated with this gene\n",
      "UGEN UniGene cluster number for this gene\n",
      "PROP Properties of Gene record\n",
      "CDAT The date on which this record first appeared\n",
      "NCAC nucleotide accessions of sequences\n",
      "NUID nucleotide uids of sequences\n",
      "PACC protein accessions\n",
      "PUID protein uids\n",
      "PMID PubMed ids of accessions linked to the record\n",
      "TID taxonomy id\n",
      "GO Gene Ontology\n",
      "DOM Domain Name\n",
      "DDAT The date on which the record was discontinued\n",
      "CPOS Chromosome base position\n",
      "GFN Gene full name\n",
      "PFN Protein full name\n",
      "GL Gene length\n",
      "XC Exon count\n",
      "GRP Relationships for this gene\n",
      "PREF Preferred symbol of the gene\n",
      "AACC Assembly accession\n",
      "ASM Assembly name\n",
      "EXPR Gene expression\n"
     ]
    }
   ],
   "source": [
    "einfo(db)"
   ]
  },
  {
   "cell_type": "code",
   "execution_count": 59,
   "metadata": {},
   "outputs": [],
   "source": [
    "pattem = '61281572[UID]'"
   ]
  },
  {
   "cell_type": "code",
   "execution_count": 49,
   "metadata": {},
   "outputs": [
    {
     "data": {
      "text/plain": [
       "34"
      ]
     },
     "execution_count": 49,
     "metadata": {},
     "output_type": "execute_result"
    }
   ],
   "source": [
    "count = egquery(pattem, db)\n",
    "count"
   ]
  },
  {
   "cell_type": "code",
   "execution_count": 60,
   "metadata": {},
   "outputs": [
    {
     "data": {
      "text/plain": [
       "1"
      ]
     },
     "execution_count": 60,
     "metadata": {},
     "output_type": "execute_result"
    }
   ],
   "source": [
    "idlist = esearch(pattem, db)\n",
    "len(idlist)"
   ]
  },
  {
   "cell_type": "code",
   "execution_count": 61,
   "metadata": {},
   "outputs": [],
   "source": [
    "fetch_results = efetch(idlist, db, rettype='gene_table', retmode='text')"
   ]
  },
  {
   "cell_type": "code",
   "execution_count": 62,
   "metadata": {},
   "outputs": [
    {
     "name": "stdout",
     "output_type": "stream",
     "text": [
      "gyrA DNA gyrase subunit A[Neisseria meningitidis]\n",
      "Gene ID: 61281572, created on 25-Dec-2020\n",
      "\n",
      "\n",
      "There is no table for this gene because it has no annotated transcribed products.\n",
      "\n"
     ]
    }
   ],
   "source": [
    "print(fetch_results)"
   ]
  },
  {
   "cell_type": "code",
   "execution_count": null,
   "metadata": {},
   "outputs": [],
   "source": []
  }
 ],
 "metadata": {
  "kernelspec": {
   "display_name": "Python 3",
   "language": "python",
   "name": "python3"
  },
  "language_info": {
   "codemirror_mode": {
    "name": "ipython",
    "version": 3
   },
   "file_extension": ".py",
   "mimetype": "text/x-python",
   "name": "python",
   "nbconvert_exporter": "python",
   "pygments_lexer": "ipython3",
   "version": "3.6.12"
  }
 },
 "nbformat": 4,
 "nbformat_minor": 4
}
