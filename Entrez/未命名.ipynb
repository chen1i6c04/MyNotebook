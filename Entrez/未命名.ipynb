{
 "cells": [
  {
   "cell_type": "code",
   "execution_count": 1,
   "id": "5f9f5bdf",
   "metadata": {},
   "outputs": [],
   "source": [
    "from Bio import Entrez"
   ]
  },
  {
   "cell_type": "code",
   "execution_count": 2,
   "id": "f665e927",
   "metadata": {},
   "outputs": [],
   "source": [
    "Entrez.email = 'chen1i6c04@gmail.com'"
   ]
  },
  {
   "cell_type": "code",
   "execution_count": 12,
   "id": "fbc4204a",
   "metadata": {},
   "outputs": [],
   "source": [
    "with Entrez.einfo(db='') as handle:\n",
    "    record = Entrez.read(handle)"
   ]
  },
  {
   "cell_type": "code",
   "execution_count": 38,
   "id": "508bb588",
   "metadata": {},
   "outputs": [],
   "source": [
    "db_list = [f\"{db_name:18}\" for db_name in record['DbList']]"
   ]
  },
  {
   "cell_type": "code",
   "execution_count": 39,
   "id": "a132eb10",
   "metadata": {},
   "outputs": [
    {
     "name": "stdout",
     "output_type": "stream",
     "text": [
      "pubmed            \tprotein           \tnuccore           \tipg               \tnucleotide        \n",
      "structure         \tgenome            \tannotinfo         \tassembly          \tbioproject        \n",
      "biosample         \tblastdbinfo       \tbooks             \tcdd               \tclinvar           \n",
      "gap               \tgapplus           \tgrasp             \tdbvar             \tgene              \n",
      "gds               \tgeoprofiles       \thomologene        \tmedgen            \tmesh              \n",
      "ncbisearch        \tnlmcatalog        \tomim              \torgtrack          \tpmc               \n",
      "popset            \tproteinclusters   \tpcassay           \tprotfam           \tbiosystems        \n",
      "pccompound        \tpcsubstance       \tseqannot          \tsnp               \tsra               \n",
      "taxonomy          \tbiocollections    \tgtr               \n"
     ]
    }
   ],
   "source": [
    "for i in range(0, len(db_list), 5):\n",
    "    print('\\t'.join(db_list[i: i+5]))"
   ]
  },
  {
   "cell_type": "code",
   "execution_count": 44,
   "id": "17b2e5ae",
   "metadata": {},
   "outputs": [],
   "source": [
    "def einfo(db=None):\n",
    "    with Entrez.einfo(db=db) as handle:\n",
    "        record = Entrez.read(handle)\n",
    "    if db:\n",
    "        for fileld in record['DbInfo']['FieldList']:\n",
    "            print(fileld['Name'], fileld['Description'], sep='\\t')\n",
    "    else:\n",
    "        db_list = [f\"{db_name:18}\" for db_name in record['DbList']]\n",
    "        for i in range(0, len(db_list), 5):\n",
    "            print('\\t'.join(db_list[i: i+5]))"
   ]
  },
  {
   "cell_type": "code",
   "execution_count": 45,
   "id": "e7fb7562",
   "metadata": {},
   "outputs": [
    {
     "name": "stdout",
     "output_type": "stream",
     "text": [
      "ALL\tAll terms from all searchable fields\n",
      "UID\tUnique number assigned to each sequence\n",
      "FILT\tLimits the records\n",
      "WORD\tFree text associated with record\n",
      "TITL\tWords in definition line\n",
      "KYWD\tNonstandardized terms provided by submitter\n",
      "AUTH\tAuthor(s) of publication\n",
      "JOUR\tJournal abbreviation of publication\n",
      "VOL\tVolume number of publication\n",
      "ISS\tIssue number of publication\n",
      "PAGE\tPage number(s) of publication\n",
      "ORGN\tScientific and common names of organism, and all higher levels of taxonomy\n",
      "ACCN\tAccession number of sequence\n",
      "PACC\tDoes not include retired secondary accessions\n",
      "GENE\tName of gene associated with sequence\n",
      "PROT\tName of protein associated with sequence\n",
      "ECNO\tEC number for enzyme or CAS registry number\n",
      "PDAT\tDate sequence added to GenBank\n",
      "MDAT\tDate of last update\n",
      "SUBS\tCAS chemical name or MEDLINE Substance Name\n",
      "PROP\tClassification by source qualifiers and molecule type\n",
      "SQID\tString identifier for sequence\n",
      "GPRJ\tBioProject\n",
      "SLEN\tLength of sequence\n",
      "MLWT\tMolecular Weight\n",
      "FKEY\tFeature annotated on sequence\n",
      "PORG\tScientific and common names of primary organism, and all higher levels of taxonomy\n",
      "ASSM\tAssembly\n",
      "DIV\tDivision\n",
      "STRN\tStrain\n",
      "ISOL\tIsolate\n",
      "CULT\tCultivar\n",
      "BRD\tBreed\n"
     ]
    }
   ],
   "source": [
    "einfo('protein')"
   ]
  },
  {
   "cell_type": "code",
   "execution_count": null,
   "id": "f938ae72",
   "metadata": {},
   "outputs": [],
   "source": []
  }
 ],
 "metadata": {
  "kernelspec": {
   "display_name": "Python 3",
   "language": "python",
   "name": "python3"
  },
  "language_info": {
   "codemirror_mode": {
    "name": "ipython",
    "version": 3
   },
   "file_extension": ".py",
   "mimetype": "text/x-python",
   "name": "python",
   "nbconvert_exporter": "python",
   "pygments_lexer": "ipython3",
   "version": "3.6.12"
  }
 },
 "nbformat": 4,
 "nbformat_minor": 5
}
