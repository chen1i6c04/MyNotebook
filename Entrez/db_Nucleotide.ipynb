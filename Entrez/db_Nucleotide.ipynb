{
 "cells": [
  {
   "cell_type": "code",
   "execution_count": 1,
   "metadata": {},
   "outputs": [],
   "source": [
    "import xml.etree.cElementTree as ET\n",
    "import pandas as pd\n",
    "from Bio import Entrez"
   ]
  },
  {
   "cell_type": "code",
   "execution_count": 2,
   "metadata": {},
   "outputs": [],
   "source": [
    "Entrez.email = 'chen1i6c04@gmail.com'\n",
    "\n",
    "def einfo(db):\n",
    "    with Entrez.einfo(db=db) as handle:\n",
    "        record = Entrez.read(handle)\n",
    "    for fileld in record['DbInfo']['FieldList']:\n",
    "        print(fileld['Name'], fileld['Description'])\n",
    "\n",
    "def egquery(term, db):\n",
    "    with Entrez.egquery(term=term) as handle:\n",
    "        record = Entrez.read(handle)\n",
    "    for row in record[\"eGQueryResult\"]:\n",
    "        if row[\"DbName\"]==db:\n",
    "            count = int(row[\"Count\"])\n",
    "            return count\n",
    "\n",
    "def esearch(term, db, retmax=10000):\n",
    "    with Entrez.esearch(db=db, term=term, retmax=retmax) as handle:\n",
    "        record = Entrez.read(handle)\n",
    "        return record['IdList']\n",
    "\n",
    "def efetch(uid, db, rettype='xml', retmode=\"xml\"):\n",
    "    with Entrez.efetch(db=db, id=uid, rettype=rettype, retmode=retmode) as handle:\n",
    "        record = handle.read()\n",
    "    return record"
   ]
  },
  {
   "cell_type": "code",
   "execution_count": 3,
   "metadata": {},
   "outputs": [],
   "source": [
    "db = 'nuccore'"
   ]
  },
  {
   "cell_type": "code",
   "execution_count": 4,
   "metadata": {},
   "outputs": [
    {
     "name": "stdout",
     "output_type": "stream",
     "text": [
      "ALL All terms from all searchable fields\n",
      "UID Unique number assigned to each sequence\n",
      "FILT Limits the records\n",
      "WORD Free text associated with record\n",
      "TITL Words in definition line\n",
      "KYWD Nonstandardized terms provided by submitter\n",
      "AUTH Author(s) of publication\n",
      "JOUR Journal abbreviation of publication\n",
      "VOL Volume number of publication\n",
      "ISS Issue number of publication\n",
      "PAGE Page number(s) of publication\n",
      "ORGN Scientific and common names of organism, and all higher levels of taxonomy\n",
      "ACCN Accession number of sequence\n",
      "PACC Does not include retired secondary accessions\n",
      "GENE Name of gene associated with sequence\n",
      "PROT Name of protein associated with sequence\n",
      "ECNO EC number for enzyme or CAS registry number\n",
      "PDAT Date sequence added to GenBank\n",
      "MDAT Date of last update\n",
      "SUBS CAS chemical name or MEDLINE Substance Name\n",
      "PROP Classification by source qualifiers and molecule type\n",
      "SQID String identifier for sequence\n",
      "GPRJ BioProject\n",
      "SLEN Length of sequence\n",
      "FKEY Feature annotated on sequence\n",
      "PORG Scientific and common names of primary organism, and all higher levels of taxonomy\n",
      "COMP Component accessions for an assembly\n",
      "ASSM Assembly\n",
      "DIV Division\n",
      "STRN Strain\n",
      "ISOL Isolate\n",
      "CULT Cultivar\n",
      "BRD Breed\n",
      "BIOS BioSample\n"
     ]
    }
   ],
   "source": [
    "einfo(db)"
   ]
  },
  {
   "cell_type": "code",
   "execution_count": 6,
   "metadata": {},
   "outputs": [],
   "source": [
    "df = pd.read_excel('/media/Access/3_個人儲存區/陳柏翰/plasmid_HI2.xlsx', engine='openpyxl')"
   ]
  },
  {
   "cell_type": "code",
   "execution_count": 13,
   "metadata": {},
   "outputs": [],
   "source": [
    "patterm = ' OR '.join(df['Accession'] + '[ACCN]')"
   ]
  },
  {
   "cell_type": "code",
   "execution_count": 14,
   "metadata": {},
   "outputs": [
    {
     "data": {
      "text/plain": [
       "13"
      ]
     },
     "execution_count": 14,
     "metadata": {},
     "output_type": "execute_result"
    }
   ],
   "source": [
    "egquery(patterm, db)"
   ]
  },
  {
   "cell_type": "code",
   "execution_count": 17,
   "metadata": {},
   "outputs": [],
   "source": [
    "uids = esearch(patterm, db)"
   ]
  },
  {
   "cell_type": "code",
   "execution_count": 18,
   "metadata": {},
   "outputs": [],
   "source": [
    "fetch_results = efetch(uids, db, rettype='fasta', retmode='text')"
   ]
  },
  {
   "cell_type": "code",
   "execution_count": null,
   "metadata": {},
   "outputs": [],
   "source": [
    "fetch_results"
   ]
  },
  {
   "cell_type": "code",
   "execution_count": 22,
   "metadata": {},
   "outputs": [],
   "source": [
    "with open('/home/chen1i6c04/plasmid_HI2.fa', 'w') as f:\n",
    "    f.write(fetch_results)"
   ]
  },
  {
   "cell_type": "code",
   "execution_count": null,
   "metadata": {},
   "outputs": [],
   "source": []
  }
 ],
 "metadata": {
  "kernelspec": {
   "display_name": "Python 3",
   "language": "python",
   "name": "python3"
  },
  "language_info": {
   "codemirror_mode": {
    "name": "ipython",
    "version": 3
   },
   "file_extension": ".py",
   "mimetype": "text/x-python",
   "name": "python",
   "nbconvert_exporter": "python",
   "pygments_lexer": "ipython3",
   "version": "3.6.13"
  }
 },
 "nbformat": 4,
 "nbformat_minor": 4
}
