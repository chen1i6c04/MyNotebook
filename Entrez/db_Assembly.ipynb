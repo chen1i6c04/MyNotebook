{
 "cells": [
  {
   "cell_type": "code",
   "execution_count": 1,
   "metadata": {},
   "outputs": [],
   "source": [
    "from Bio import Entrez\n",
    "import pandas as pd\n",
    "import xml.etree.cElementTree as ET\n",
    "import os\n",
    "from collections import Counter as count\n",
    "from io import StringIO\n",
    "import subprocess\n",
    "from concurrent.futures import ThreadPoolExecutor"
   ]
  },
  {
   "cell_type": "code",
   "execution_count": null,
   "metadata": {},
   "outputs": [],
   "source": []
  },
  {
   "cell_type": "code",
   "execution_count": 2,
   "metadata": {},
   "outputs": [],
   "source": [
    "Entrez.email = 'chen1i6c04@gmail.com'"
   ]
  },
  {
   "cell_type": "code",
   "execution_count": 3,
   "metadata": {},
   "outputs": [],
   "source": [
    "handle = Entrez.einfo(db='assembly')\n",
    "record = Entrez.read(handle)"
   ]
  },
  {
   "cell_type": "code",
   "execution_count": 4,
   "metadata": {},
   "outputs": [
    {
     "name": "stdout",
     "output_type": "stream",
     "text": [
      "ALL All Fields All terms from all searchable fields\n",
      "UID UID Unique number assigned to publication\n",
      "FILT Filter Limits the records\n",
      "ACCN Accession Chromosome accessions\n",
      "ASAC Assembly Accession Space delimited assembly accessions w/ & w/o versions\n",
      "ASLV Assembly Level How assembled is this assembly. 'Contig' to 'Chromosome'\n",
      "TXID Taxonomy ID Taxonomy ID\n",
      "ORGN Organism Exploded organism names\n",
      "RUID RefSeq ID Id of RefSeq Assembly.\n",
      "GUID GenBank ID Id of GenBank synonym of this Assembly.\n",
      "UIDS All Uids Pair-id, GB-id, and RS-id of this Assembly.\n",
      "PROJ BioProject IDs and Accessions Uid and accessions of this assembly's projects\n",
      "SAMP BioSample BioSample Accession and Id\n",
      "NAME Assembly Name Assembly name\n",
      "ALLN All Names All names, space separated\n",
      "DESC Description Assembly description\n",
      "COV Coverage Sequencing coverage\n",
      "TYPE Assembly Type Type of the assembly\n",
      "SRDT Date - Sequences Release Date the most recent sequence went live in ID\n",
      "UPDT Date - Assembly Update Date the assembly was last updated\n",
      "LEN Total Sequence Length in Mbp Total length of chromosome/genome including bases and gaps divided by 1,000,000.\n",
      "REPL Chromosome Count Number of chromosomes in assembly\n",
      "PLAC Placed Scaffolds Count Number of placed scaffolds\n",
      "UNLO Unlocalized Scaffolds Count Number of unordered(unlocalized) scaffolds belonging to chromosomes\n",
      "UNPL Unplaced Scaffolds Count Number of unplaced scaffolds which do not belong to any chromosome, ie ChrUn\n",
      "CN50 Contig N50 Contig length at which 50% of total bases in assembly are in contigs of that length or greater\n",
      "SN50 Scaffold N50 Scaffold length at which 50% of total bases in assembly are in contigs of that length or greater\n",
      "CL50 Contig L50 Number of contigs that are greater than or equal to the N50 length.\n",
      "SL50 Scaffold L50 Number of scaffolds that are greater than or equal to the N50 length.\n",
      "CNTG Contig Count Number of contigs\n",
      "UNGL Ungapped Length in Mbp Total length excluding gaps in chromosome/genome divided by 1,000,000\n",
      "PROP Properties Properties\n",
      "SUBO Submitter Organization Organization that submitted this assembly\n",
      "INFR Infraspecific Name Infraspecific Name: breed, cultivar, strain, ecotype\n",
      "ISOL Isolate Isolate name\n",
      "SEX Sex Sex\n",
      "ASMM Assembly Method Assembly Method\n",
      "GCOV Genome Coverage Genome Coverage\n",
      "TECH Sequencing Technology Sequencing Technology\n",
      "EXFV Expected Final Version Expected Final Version\n",
      "RGAS Reference Guided Assembly Reference Guided Assembly\n",
      "SCAM Single Cell Amplification Single Cell Amplification\n",
      "RCAT RefSeq Category RefSeq Category\n",
      "FTYP From Type Material From Type Material\n",
      "NFRS Excluded from RefSeq Reasons assembly was excluded from RefSeq\n",
      "GRLS Date - GenBank Assembly Release Date the GenBankassembly was first released\n",
      "RRLS Date - RefSeq Assembly Release Date the RefSeq assembly was first released\n",
      "RTYP Release Type Release Type\n",
      "RLEN Total Sequence Length Total length of chromosome/genome including bases and gaps\n",
      "LINK Linked Assembly Linked Assembly accession\n"
     ]
    }
   ],
   "source": [
    "for field in record['DbInfo']['FieldList']:\n",
    "    print(field['Name'], field['FullName'], field['Description'])"
   ]
  },
  {
   "cell_type": "code",
   "execution_count": 42,
   "metadata": {},
   "outputs": [],
   "source": [
    "term = ' OR '.join(accession)\n",
    "handle = Entrez.esearch(db=\"assembly\", term=term, usehistory=\"y\")\n",
    "record = Entrez.read(handle)\n",
    "handle.close()\n",
    "\n",
    "webenv = record[\"WebEnv\"]\n",
    "query_key = record[\"QueryKey\"]\n",
    "\n",
    "fetch_handle = Entrez.efetch(db=\"assembly\", retmode=\"xml\", rettype=\"docsum\", webenv=webenv, query_key=query_key)\n",
    "result = fetch_handle.read()\n",
    "fetch_handle.close()"
   ]
  },
  {
   "cell_type": "code",
   "execution_count": 45,
   "metadata": {},
   "outputs": [],
   "source": [
    "tree = ET.fromstring(result)"
   ]
  },
  {
   "cell_type": "code",
   "execution_count": 47,
   "metadata": {},
   "outputs": [
    {
     "data": {
      "text/plain": [
       "[<Element 'DocumentSummarySet' at 0x7f0c71e60138>]"
      ]
     },
     "execution_count": 47,
     "metadata": {},
     "output_type": "execute_result"
    }
   ],
   "source": [
    "tree.getchildren()"
   ]
  },
  {
   "cell_type": "code",
   "execution_count": 56,
   "metadata": {},
   "outputs": [],
   "source": [
    "label = tree.find('DocumentSummarySet')"
   ]
  },
  {
   "cell_type": "code",
   "execution_count": 63,
   "metadata": {},
   "outputs": [
    {
     "name": "stdout",
     "output_type": "stream",
     "text": [
      "GCA_002020035.1 Uppsala University\n",
      "GCA_002020015.1 Uppsala University\n",
      "GCA_002019955.1 Uppsala University\n",
      "GCA_001499375.1 INSTITUTE OF FOOD RESEARCH\n",
      "GCA_001499315.1 INSTITUTE OF FOOD RESEARCH\n",
      "GCA_001499255.1 INSTITUTE OF FOOD RESEARCH\n",
      "GCA_001499115.1 INSTITUTE OF FOOD RESEARCH\n",
      "GCA_001498995.1 INSTITUTE OF FOOD RESEARCH\n",
      "GCA_001498675.1 INSTITUTE OF FOOD RESEARCH\n",
      "GCA_001498655.1 INSTITUTE OF FOOD RESEARCH\n",
      "GCA_001498595.1 INSTITUTE OF FOOD RESEARCH\n",
      "GCA_001498475.1 INSTITUTE OF FOOD RESEARCH\n",
      "GCA_001497935.1 INSTITUTE OF FOOD RESEARCH\n",
      "GCA_001497195.1 INSTITUTE OF FOOD RESEARCH\n",
      "GCA_001497155.1 INSTITUTE OF FOOD RESEARCH\n",
      "GCA_001497095.1 INSTITUTE OF FOOD RESEARCH\n",
      "GCA_001496435.1 INSTITUTE OF FOOD RESEARCH\n",
      "GCA_001496095.1 INSTITUTE OF FOOD RESEARCH\n",
      "GCA_001495955.1 INSTITUTE OF FOOD RESEARCH\n",
      "GCA_001495535.1 INSTITUTE OF FOOD RESEARCH\n",
      "GCA_001495275.1 INSTITUTE OF FOOD RESEARCH\n",
      "GCA_001495115.1 INSTITUTE OF FOOD RESEARCH\n",
      "GCA_001494895.1 INSTITUTE OF FOOD RESEARCH\n",
      "GCA_001494855.1 INSTITUTE OF FOOD RESEARCH\n",
      "GCA_001494755.1 INSTITUTE OF FOOD RESEARCH\n",
      "GCA_001494695.1 INSTITUTE OF FOOD RESEARCH\n",
      "GCA_001493855.1 INSTITUTE OF FOOD RESEARCH\n",
      "GCA_001493475.1 INSTITUTE OF FOOD RESEARCH\n",
      "GCA_001493275.1 INSTITUTE OF FOOD RESEARCH\n",
      "GCA_001492295.1 INSTITUTE OF FOOD RESEARCH\n",
      "GCA_001492135.1 INSTITUTE OF FOOD RESEARCH\n",
      "GCA_001491515.1 INSTITUTE OF FOOD RESEARCH\n",
      "GCA_001491275.1 INSTITUTE OF FOOD RESEARCH\n",
      "GCA_001491235.1 INSTITUTE OF FOOD RESEARCH\n",
      "GCA_001491035.1 INSTITUTE OF FOOD RESEARCH\n",
      "GCA_001489995.1 INSTITUTE OF FOOD RESEARCH\n",
      "GCA_001489835.1 INSTITUTE OF FOOD RESEARCH\n",
      "GCA_001489575.1 INSTITUTE OF FOOD RESEARCH\n",
      "GCA_001489555.1 INSTITUTE OF FOOD RESEARCH\n",
      "GCA_001489015.1 INSTITUTE OF FOOD RESEARCH\n",
      "GCA_001488895.1 INSTITUTE OF FOOD RESEARCH\n",
      "GCA_001488715.1 INSTITUTE OF FOOD RESEARCH\n",
      "GCA_001488695.1 INSTITUTE OF FOOD RESEARCH\n",
      "GCA_001488495.1 INSTITUTE OF FOOD RESEARCH\n",
      "GCA_001488335.1 INSTITUTE OF FOOD RESEARCH\n",
      "GCA_001488295.1 INSTITUTE OF FOOD RESEARCH\n",
      "GCA_001487595.1 INSTITUTE OF FOOD RESEARCH\n",
      "GCA_000470055.1 UH\n"
     ]
    }
   ],
   "source": [
    "for i, j in zip(label.findall('DocumentSummary/SubmitterOrganization'), label.findall('DocumentSummary/Synonym/Genbank')):\n",
    "    print(j.text, i.text)"
   ]
  },
  {
   "cell_type": "code",
   "execution_count": 67,
   "metadata": {},
   "outputs": [
    {
     "data": {
      "text/plain": [
       "' <Stats> <Stat category=\"alt_loci_count\" sequence_tag=\"all\">0</Stat> <Stat category=\"chromosome_count\" sequence_tag=\"all\">0</Stat> <Stat category=\"contig_count\" sequence_tag=\"all\">33</Stat> <Stat category=\"contig_l50\" sequence_tag=\"all\">3</Stat> <Stat category=\"contig_n50\" sequence_tag=\"all\">213856</Stat> <Stat category=\"non_chromosome_replicon_count\" sequence_tag=\"all\">0</Stat> <Stat category=\"replicon_count\" sequence_tag=\"all\">0</Stat> <Stat category=\"scaffold_count\" sequence_tag=\"all\">33</Stat> <Stat category=\"scaffold_count\" sequence_tag=\"placed\">0</Stat> <Stat category=\"scaffold_count\" sequence_tag=\"unlocalized\">0</Stat> <Stat category=\"scaffold_count\" sequence_tag=\"unplaced\">33</Stat> <Stat category=\"scaffold_l50\" sequence_tag=\"all\">3</Stat> <Stat category=\"scaffold_n50\" sequence_tag=\"all\">213856</Stat> <Stat category=\"total_length\" sequence_tag=\"all\">1826444</Stat> <Stat category=\"ungapped_length\" sequence_tag=\"all\">1826444</Stat> </Stats> <FtpSites>   <FtpPath type=\"Assembly_rpt\">ftp://ftp.ncbi.nlm.nih.gov/genomes/all/GCF/002/020/035/GCF_002020035.1_ASM202003v1/GCF_002020035.1_ASM202003v1_assembly_report.txt</FtpPath>   <FtpPath type=\"GenBank\">ftp://ftp.ncbi.nlm.nih.gov/genomes/all/GCA/002/020/035/GCA_002020035.1_ASM202003v1</FtpPath>   <FtpPath type=\"RefSeq\">ftp://ftp.ncbi.nlm.nih.gov/genomes/all/GCF/002/020/035/GCF_002020035.1_ASM202003v1</FtpPath>   <FtpPath type=\"Stats_rpt\">ftp://ftp.ncbi.nlm.nih.gov/genomes/all/GCF/002/020/035/GCF_002020035.1_ASM202003v1/GCF_002020035.1_ASM202003v1_assembly_stats.txt</FtpPath> </FtpSites> <assembly-level>1</assembly-level> <assembly-status>Contig</assembly-status> <representative-status>na</representative-status> <submitter-organization>Uppsala University</submitter-organization>    '"
      ]
     },
     "execution_count": 67,
     "metadata": {},
     "output_type": "execute_result"
    }
   ],
   "source": [
    "label.find('DocumentSummary/Meta').text"
   ]
  },
  {
   "cell_type": "code",
   "execution_count": null,
   "metadata": {},
   "outputs": [],
   "source": []
  }
 ],
 "metadata": {
  "kernelspec": {
   "display_name": "Python 3",
   "language": "python",
   "name": "python3"
  },
  "language_info": {
   "codemirror_mode": {
    "name": "ipython",
    "version": 3
   },
   "file_extension": ".py",
   "mimetype": "text/x-python",
   "name": "python",
   "nbconvert_exporter": "python",
   "pygments_lexer": "ipython3",
   "version": "3.6.12"
  }
 },
 "nbformat": 4,
 "nbformat_minor": 4
}
