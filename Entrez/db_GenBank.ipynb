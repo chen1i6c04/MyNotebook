{
 "cells": [
  {
   "cell_type": "code",
   "execution_count": 1,
   "metadata": {},
   "outputs": [],
   "source": [
    "import os\n",
    "import pandas as pd\n",
    "from Bio import Entrez"
   ]
  },
  {
   "cell_type": "code",
   "execution_count": 2,
   "metadata": {},
   "outputs": [],
   "source": [
    "Entrez.email = 'chen1i6c04@gmail.com'\n",
    "\n",
    "def einfo(db=None):\n",
    "    if db:\n",
    "        with Entrez.einfo(db=db) as handle:\n",
    "            record = Entrez.read(handle)\n",
    "        for fileld in record['DbInfo']['FieldList']:\n",
    "            print(fileld['Name'], fileld['Description'])\n",
    "    else:\n",
    "        with Entrez.einfo() as handle:\n",
    "            record = Entrez.read(handle)\n",
    "        return record['DbList']\n",
    "\n",
    "def egquery(term, db='sra'):\n",
    "    with Entrez.egquery(term=term) as handle:\n",
    "        record = Entrez.read(handle)\n",
    "    for row in record[\"eGQueryResult\"]:\n",
    "        if row[\"DbName\"]==db:\n",
    "            count = int(row[\"Count\"])\n",
    "            return count\n",
    "\n",
    "def esearch(term, db=\"sra\", retmax=10000):\n",
    "    with Entrez.esearch(db=db, term=term, retmax=retmax) as handle:\n",
    "        record = Entrez.read(handle)\n",
    "        return record['IdList']\n",
    "\n",
    "def efetch(uid, db, rettype='xml', retmode=\"xml\"):\n",
    "    with Entrez.efetch(db=db, id=uid, rettype=rettype, retmode=retmode) as handle:\n",
    "        record = handle.read()\n",
    "    return record"
   ]
  },
  {
   "cell_type": "code",
   "execution_count": 3,
   "metadata": {},
   "outputs": [],
   "source": [
    "db = 'nuccore'"
   ]
  },
  {
   "cell_type": "code",
   "execution_count": 4,
   "metadata": {},
   "outputs": [
    {
     "name": "stdout",
     "output_type": "stream",
     "text": [
      "ALL All terms from all searchable fields\n",
      "UID Unique number assigned to each sequence\n",
      "FILT Limits the records\n",
      "WORD Free text associated with record\n",
      "TITL Words in definition line\n",
      "KYWD Nonstandardized terms provided by submitter\n",
      "AUTH Author(s) of publication\n",
      "JOUR Journal abbreviation of publication\n",
      "VOL Volume number of publication\n",
      "ISS Issue number of publication\n",
      "PAGE Page number(s) of publication\n",
      "ORGN Scientific and common names of organism, and all higher levels of taxonomy\n",
      "ACCN Accession number of sequence\n",
      "PACC Does not include retired secondary accessions\n",
      "GENE Name of gene associated with sequence\n",
      "PROT Name of protein associated with sequence\n",
      "ECNO EC number for enzyme or CAS registry number\n",
      "PDAT Date sequence added to GenBank\n",
      "MDAT Date of last update\n",
      "SUBS CAS chemical name or MEDLINE Substance Name\n",
      "PROP Classification by source qualifiers and molecule type\n",
      "SQID String identifier for sequence\n",
      "GPRJ BioProject\n",
      "SLEN Length of sequence\n",
      "FKEY Feature annotated on sequence\n",
      "PORG Scientific and common names of primary organism, and all higher levels of taxonomy\n",
      "COMP Component accessions for an assembly\n",
      "ASSM Assembly\n",
      "DIV Division\n",
      "STRN Strain\n",
      "ISOL Isolate\n",
      "CULT Cultivar\n",
      "BRD Breed\n",
      "BIOS BioSample\n"
     ]
    }
   ],
   "source": [
    "einfo(db)"
   ]
  },
  {
   "cell_type": "code",
   "execution_count": null,
   "metadata": {},
   "outputs": [],
   "source": []
  },
  {
   "cell_type": "code",
   "execution_count": 9,
   "metadata": {},
   "outputs": [],
   "source": [
    "handle = Entrez.efetch(db, id='MT663352.1', rettype='fasta', retmode='text', seq_start=2889, seq_stop=4262, strand=2)"
   ]
  },
  {
   "cell_type": "code",
   "execution_count": 10,
   "metadata": {},
   "outputs": [],
   "source": [
    "with open('/media/NGS/Data_Analysis/20210220_Campylobacter_resistance/tet(L)_varine.fasta', 'w') as f:\n",
    "    f.write(handle.read())"
   ]
  },
  {
   "cell_type": "code",
   "execution_count": 5,
   "metadata": {},
   "outputs": [],
   "source": [
    "from collections import defaultdict\n",
    "from xml.etree import cElementTree as ET"
   ]
  },
  {
   "cell_type": "code",
   "execution_count": 6,
   "metadata": {},
   "outputs": [],
   "source": [
    "filepath = \"/home/chen1i6c04/下載/gene_result.xml\"\n",
    "\n",
    "tree = ET.parse(filepath)\n",
    "root = tree.getroot()"
   ]
  },
  {
   "cell_type": "code",
   "execution_count": 7,
   "metadata": {},
   "outputs": [],
   "source": [
    "summary = defaultdict(dict)\n",
    "for entrezgene in root:\n",
    "    geneid = entrezgene.find('*//Gene-track_geneid').text\n",
    "    summary[geneid]['accession'] = entrezgene.find('*//Gene-commentary_accession').text + '.' + entrezgene.find('*//Gene-commentary_version').text\n",
    "#     summary[geneid]['product'] = entrezgene.find('*//Prot-ref_desc').text\n",
    "    summary[geneid]['species'] = entrezgene.find('*//Org-ref_taxname').text\n",
    "    summary[geneid]['from'] = entrezgene.find('*//Seq-interval_from').text\n",
    "    summary[geneid]['to'] = entrezgene.find('*//Seq-interval_to').text\n",
    "    summary[geneid]['strand'] = entrezgene.find('*//Na-strand').attrib['value']"
   ]
  },
  {
   "cell_type": "code",
   "execution_count": 8,
   "metadata": {},
   "outputs": [
    {
     "data": {
      "text/html": [
       "<div>\n",
       "<style scoped>\n",
       "    .dataframe tbody tr th:only-of-type {\n",
       "        vertical-align: middle;\n",
       "    }\n",
       "\n",
       "    .dataframe tbody tr th {\n",
       "        vertical-align: top;\n",
       "    }\n",
       "\n",
       "    .dataframe thead th {\n",
       "        text-align: right;\n",
       "    }\n",
       "</style>\n",
       "<table border=\"1\" class=\"dataframe\">\n",
       "  <thead>\n",
       "    <tr style=\"text-align: right;\">\n",
       "      <th></th>\n",
       "      <th>accession</th>\n",
       "      <th>species</th>\n",
       "      <th>from</th>\n",
       "      <th>to</th>\n",
       "      <th>strand</th>\n",
       "    </tr>\n",
       "  </thead>\n",
       "  <tbody>\n",
       "    <tr>\n",
       "      <th>904688</th>\n",
       "      <td>NC_002163.1</td>\n",
       "      <td>Campylobacter jejuni subsp. jejuni NCTC 11168 ...</td>\n",
       "      <td>331124</td>\n",
       "      <td>332602</td>\n",
       "      <td>minus</td>\n",
       "    </tr>\n",
       "    <tr>\n",
       "      <th>56644357</th>\n",
       "      <td>NZ_VOPG01000001.1</td>\n",
       "      <td>Campylobacter coli</td>\n",
       "      <td>1441295</td>\n",
       "      <td>1442773</td>\n",
       "      <td>plus</td>\n",
       "    </tr>\n",
       "  </tbody>\n",
       "</table>\n",
       "</div>"
      ],
      "text/plain": [
       "                  accession  \\\n",
       "904688          NC_002163.1   \n",
       "56644357  NZ_VOPG01000001.1   \n",
       "\n",
       "                                                    species     from       to  \\\n",
       "904688    Campylobacter jejuni subsp. jejuni NCTC 11168 ...   331124   332602   \n",
       "56644357                                 Campylobacter coli  1441295  1442773   \n",
       "\n",
       "         strand  \n",
       "904688    minus  \n",
       "56644357   plus  "
      ]
     },
     "execution_count": 8,
     "metadata": {},
     "output_type": "execute_result"
    }
   ],
   "source": [
    "df = pd.DataFrame(summary).T\n",
    "df"
   ]
  },
  {
   "cell_type": "code",
   "execution_count": 9,
   "metadata": {},
   "outputs": [],
   "source": [
    "for col in ('from', 'to'):\n",
    "    df[col] = df[col].astype(int) +1"
   ]
  },
  {
   "cell_type": "code",
   "execution_count": 10,
   "metadata": {},
   "outputs": [],
   "source": [
    "df = df.drop_duplicates('accession')"
   ]
  },
  {
   "cell_type": "code",
   "execution_count": 11,
   "metadata": {},
   "outputs": [
    {
     "data": {
      "text/html": [
       "<div>\n",
       "<style scoped>\n",
       "    .dataframe tbody tr th:only-of-type {\n",
       "        vertical-align: middle;\n",
       "    }\n",
       "\n",
       "    .dataframe tbody tr th {\n",
       "        vertical-align: top;\n",
       "    }\n",
       "\n",
       "    .dataframe thead th {\n",
       "        text-align: right;\n",
       "    }\n",
       "</style>\n",
       "<table border=\"1\" class=\"dataframe\">\n",
       "  <thead>\n",
       "    <tr style=\"text-align: right;\">\n",
       "      <th></th>\n",
       "      <th>accession</th>\n",
       "      <th>species</th>\n",
       "      <th>from</th>\n",
       "      <th>to</th>\n",
       "      <th>strand</th>\n",
       "    </tr>\n",
       "  </thead>\n",
       "  <tbody>\n",
       "    <tr>\n",
       "      <th>904688</th>\n",
       "      <td>NC_002163.1</td>\n",
       "      <td>Campylobacter jejuni subsp. jejuni NCTC 11168 ...</td>\n",
       "      <td>331125</td>\n",
       "      <td>332603</td>\n",
       "      <td>minus</td>\n",
       "    </tr>\n",
       "    <tr>\n",
       "      <th>56644357</th>\n",
       "      <td>NZ_VOPG01000001.1</td>\n",
       "      <td>Campylobacter coli</td>\n",
       "      <td>1441296</td>\n",
       "      <td>1442774</td>\n",
       "      <td>plus</td>\n",
       "    </tr>\n",
       "  </tbody>\n",
       "</table>\n",
       "</div>"
      ],
      "text/plain": [
       "                  accession  \\\n",
       "904688          NC_002163.1   \n",
       "56644357  NZ_VOPG01000001.1   \n",
       "\n",
       "                                                    species     from       to  \\\n",
       "904688    Campylobacter jejuni subsp. jejuni NCTC 11168 ...   331125   332603   \n",
       "56644357                                 Campylobacter coli  1441296  1442774   \n",
       "\n",
       "         strand  \n",
       "904688    minus  \n",
       "56644357   plus  "
      ]
     },
     "execution_count": 11,
     "metadata": {},
     "output_type": "execute_result"
    }
   ],
   "source": [
    "df"
   ]
  },
  {
   "cell_type": "code",
   "execution_count": 12,
   "metadata": {},
   "outputs": [],
   "source": [
    "fetch_results = \"\"\n",
    "for _, row in df.iterrows():\n",
    "    strand = 1\n",
    "    if row['strand'] != 'plus':\n",
    "        strand = 2\n",
    "    with Entrez.efetch(db, id=row['accession'], rettype='fasta', retmode='text',\n",
    "                       seq_start=row['from'], seq_stop=row['to'], strand=strand) as handle:\n",
    "        fetch_result = handle.read()\n",
    "        fetch_results += fetch_result"
   ]
  },
  {
   "cell_type": "code",
   "execution_count": 13,
   "metadata": {},
   "outputs": [],
   "source": [
    "with open(\"/media/NGS/Data_Analysis/20210220_Campylobacter_resistance/cmeC/campylobacter_cmeC.fna\", 'w') as f:\n",
    "    f.write(fetch_results)"
   ]
  },
  {
   "cell_type": "code",
   "execution_count": null,
   "metadata": {},
   "outputs": [],
   "source": []
  }
 ],
 "metadata": {
  "kernelspec": {
   "display_name": "Python 3",
   "language": "python",
   "name": "python3"
  },
  "language_info": {
   "codemirror_mode": {
    "name": "ipython",
    "version": 3
   },
   "file_extension": ".py",
   "mimetype": "text/x-python",
   "name": "python",
   "nbconvert_exporter": "python",
   "pygments_lexer": "ipython3",
   "version": "3.6.12"
  }
 },
 "nbformat": 4,
 "nbformat_minor": 4
}
