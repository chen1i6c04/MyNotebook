{
 "cells": [
  {
   "cell_type": "code",
   "execution_count": 4,
   "id": "e8b4e454",
   "metadata": {},
   "outputs": [],
   "source": [
    "import pandas as pd\n",
    "from Bio import Entrez, SeqIO"
   ]
  },
  {
   "cell_type": "code",
   "execution_count": 2,
   "id": "e67ffd2f",
   "metadata": {},
   "outputs": [],
   "source": [
    "Entrez.email = 'chen1i6c04@gmail.com'\n",
    "\n",
    "def einfo(db=''):\n",
    "    with Entrez.einfo(db=db) as handle:\n",
    "        record = Entrez.read(handle)\n",
    "    if db:\n",
    "        for fileld in record['DbInfo']['FieldList']:\n",
    "            print(fileld['Name'], fileld['Description'], sep='\\t')\n",
    "    else:\n",
    "        return record['DbList']\n",
    "\n",
    "def egquery(term, db):\n",
    "    with Entrez.egquery(term=term) as handle:\n",
    "        record = Entrez.read(handle)\n",
    "    for row in record[\"eGQueryResult\"]:\n",
    "        if row[\"DbName\"]==db:\n",
    "            count = int(row[\"Count\"])\n",
    "            return count\n",
    "\n",
    "def esearch(term, db, retmax=10000):\n",
    "    with Entrez.esearch(db=db, term=term, retmax=retmax) as handle:\n",
    "        record = Entrez.read(handle)\n",
    "        return record['IdList']\n",
    "\n",
    "def efetch(uid, db, rettype='xml', retmode=\"xml\"):\n",
    "    with Entrez.efetch(db=db, id=uid, rettype=rettype, retmode=retmode) as handle:\n",
    "        record = handle.read()\n",
    "    return record"
   ]
  },
  {
   "cell_type": "code",
   "execution_count": 3,
   "id": "de5ab96b",
   "metadata": {},
   "outputs": [
    {
     "name": "stdout",
     "output_type": "stream",
     "text": [
      "ALL\tAll terms from all searchable fields\n",
      "UID\tUnique number assigned to each sequence\n",
      "FILT\tLimits the records\n",
      "WORD\tFree text associated with record\n",
      "TITL\tWords in definition line\n",
      "KYWD\tNonstandardized terms provided by submitter\n",
      "AUTH\tAuthor(s) of publication\n",
      "JOUR\tJournal abbreviation of publication\n",
      "VOL\tVolume number of publication\n",
      "ISS\tIssue number of publication\n",
      "PAGE\tPage number(s) of publication\n",
      "ORGN\tScientific and common names of organism, and all higher levels of taxonomy\n",
      "ACCN\tAccession number of sequence\n",
      "PACC\tDoes not include retired secondary accessions\n",
      "GENE\tName of gene associated with sequence\n",
      "PROT\tName of protein associated with sequence\n",
      "ECNO\tEC number for enzyme or CAS registry number\n",
      "PDAT\tDate sequence added to GenBank\n",
      "MDAT\tDate of last update\n",
      "SUBS\tCAS chemical name or MEDLINE Substance Name\n",
      "PROP\tClassification by source qualifiers and molecule type\n",
      "SQID\tString identifier for sequence\n",
      "GPRJ\tBioProject\n",
      "SLEN\tLength of sequence\n",
      "MLWT\tMolecular Weight\n",
      "FKEY\tFeature annotated on sequence\n",
      "PORG\tScientific and common names of primary organism, and all higher levels of taxonomy\n",
      "ASSM\tAssembly\n",
      "DIV\tDivision\n",
      "STRN\tStrain\n",
      "ISOL\tIsolate\n",
      "CULT\tCultivar\n",
      "BRD\tBreed\n"
     ]
    }
   ],
   "source": [
    "einfo('protein')"
   ]
  },
  {
   "cell_type": "code",
   "execution_count": 6,
   "id": "40ce9bef",
   "metadata": {},
   "outputs": [],
   "source": [
    "file = '/media/GenomicResearch/Issue/20220110_CPfVfsDetected/Exotoxin.faa'"
   ]
  },
  {
   "cell_type": "code",
   "execution_count": 10,
   "id": "e28313d0",
   "metadata": {},
   "outputs": [],
   "source": [
    "term = ' OR '.join([record.id + '[ACCN]' for record in SeqIO.parse(file, 'fasta')])"
   ]
  },
  {
   "cell_type": "code",
   "execution_count": 11,
   "id": "94d72133-83cf-487d-95e0-164a81f664d7",
   "metadata": {},
   "outputs": [
    {
     "data": {
      "text/plain": [
       "['490591301', '489563104', '499270857', '499319092', '489565498', '489554297', '224980825', '929032', '414655']"
      ]
     },
     "execution_count": 11,
     "metadata": {},
     "output_type": "execute_result"
    }
   ],
   "source": [
    "uids = esearch(term, 'protein')\n",
    "uids"
   ]
  },
  {
   "cell_type": "code",
   "execution_count": 13,
   "id": "4e69bc7e-a3bb-4aaf-8e77-1b0c38ff40e7",
   "metadata": {},
   "outputs": [],
   "source": [
    "fetch_results = efetch(uids, 'protein', 'fasta_cds_na', 'text')"
   ]
  },
  {
   "cell_type": "code",
   "execution_count": 14,
   "id": "40682595-8d7e-45e0-91ba-7b227e4a498c",
   "metadata": {},
   "outputs": [
    {
     "data": {
      "text/plain": [
       "'\\n\\n\\n\\n\\n\\n>lcl|FJ189503.1_cds_ACN73257.1_1 [protein=NetB] [protein_id=ACN73257.1] [location=255..1223] [gbkey=CDS]\\nTTGAAAAGATTAAAAATTATTTCAATTACACTAGTTCTTACAAGTGTAATTAGTACAAGCCTTTTTTCAA\\nCTCAAACTCAAGTTTTTGCAAGTGAATTAAATGACATAAACAAAATTGAGTTGAAAAATCTAAGTGGAGA\\nAATAATAAAAGAAAATGGAAAGGAAGCTATTAAATATACTTCTAGTGATACCGCTTCACATAAAGGTTGG\\nAAGGCAACTTTAAGTGGAACATTTATTGAAGATCCTCATTCTGATAAGAAAACTGCTTTATTAAATTTAG\\nAAGGATTTATACCTTCTGATAAACAGATTTTTGGTTCTAAATATTACGGAAAAATGAAATGGCCTGAAAC\\nTTATAGAATTAATGTAAAAAGTGCTGATGTAAATAATAATATAAAAATAGCAAATTCTATTCCTAAAAAT\\nACTATAGATAAAAAAGATGTATCTAATTCAATTGGTTATTCTATAGGCGGTAATATATCTGTTGAAGGAA\\nAAACTGCTGGTGCTGGAATAAATGCTTCATATAATGTCCAAAATACTATAAGCTATGAACAACCTGATTT\\nTAGAACAATTCAAAGAAAAGATGATGCAAATTTAGCATCATGGGATATAAAATTTGTTGAGACTAAGGAC\\nGGTTATAATATAGATTCTTATCATGCTATTTATGGAAATCAATTATTCATGAAATCAAGATTGTATAATA\\nATGGTGATAAAAATTTCACAGATGATAGAGATTTATCAACATTAATTTCTGGTGGATTTTCACCCAATAT\\nGGCTTTAGCATTAACAGCACCTAAAAATGCTAAAGAATCTGTAATAATAGTTGAATATCAAAGATTTGAT\\nAATGACTATATTTTAAATTGGGAAACTACTCAATGGCGAGGAACAAACAAACTTTCGTCAACAAGTGAAT\\nATAACGAATTTATGTTTAAAATAAATTGGCAAGATCATAAAATAGAATATTATCTGTAA\\n\\n>lcl|X73562.1_cds_CAA51959.1_1 [db_xref=GOA:Q46220,InterPro:IPR003540,InterPro:IPR008893,InterPro:IPR016013,PDB:1GIQ,PDB:1GIR,PDB:3BUZ,UniProtKB/TrEMBL:Q46220] [protein=iota toxin component Ia] [protein_id=CAA51959.1] [location=1465..2829] [gbkey=CDS]\\nATGAAAAAAGTTAATAAATCTATATCTGTATTTCTAATATTATATTTAATTTTAACTAGTTCATTTCCTA\\nGTTATACTTATGCACAAGATTTACAAATAGCAAGCAATTATATTACAGATAGAGCTTTTATTGAAAGACC\\nAGAAGATTTTCTTAAAGATAAAGAAAATGCTATTCAATGGGAAAAAAAGGAGGCTGAAAGAGTAGAAAAA\\nAACCTTGATACACTTGAAAAAGAAGCATTAGAATTATATAAAAAAGATTCTGAACAAATAAGTAACTACT\\nCTCAGACAAGACAGTATTTTTACGACTATCAAATAGAATCAAATCCTAGAGAAAAAGAATACAAAAATCT\\nTAGAAATGCCATATCAAAAAATAAGATAGATAAACCTATAAATGTTTATTATTTTGAGTCTCCAGAGAAA\\nTTTGCGTTTAATAAAGAAATAAGAACAGAAAATCAAAATGAAATTTCTTTAGAGAAATTTAATGAGTTGA\\nAAGAAACTATTCAAGATAAATTGTTTAAACAAGATGGATTTAAGGATGTTTCTTTATATGAACCAGGTAA\\nTGGCGATGAAAAGCCTACACCACTACTTATACATTTGAAATTACCAAAAAATACTGGTATGTTACCATAT\\nATAAATTCTAATGATGTAAAAACATTAATAGAACAAGACTATAGCATAAAGATAGACAAAATTGTTCGTA\\nTAGTAATAGAAGGAAAGCAATATATAAAAGCTGAAGCTTCTATTGTAAACAGTCTTGATTTTAAAGATGA\\nTGTAAGTAAAGGTGATTTATGGGGAAAAGAAAATTATAGTGATTGGAGTAATAAATTAACTCCTAATGAA\\nCTTGCTGATGTAAATGACTATATGCGTGGAGGATATACCGCAATTAATAACTATTTAATATCAAATGGTC\\nCTTTAAATAATCCTAATCCAGAACTAGACTCTAAAGTAAATAACATTGAAAACGCATTAAAGCTCACACC\\nTATTCCATCTAACTTAATTGTATATAGAAGGTCTGGTCCACAAGAATTTGGATTAACTCTCACATCTCCT\\nGAATATGATTTTAATAAAATAGAAAATATAGATGCTTTTAAAGAAAAATGGGAAGGAAAAGTAATAACAT\\nACCCAAACTTTATTAGTACTAGTATTGGAAGTGTAAATATGAGTGCATTTGCTAAAAGAAAAATAATACT\\nACGTATAAACATACCAAAAGATTCTCCAGGAGCTTATTTATCAGCCATTCCAGGTTATGCAGGAGAATAT\\nGAAGTACTTTTAAATCATGGAAGTAAATTTAAAATCAATAAAGTTGATTCTTATAAAGATGGAACTGTAA\\nCAAAACTAATTTTGGATGCAACATTGATAAATTAA\\n\\n>lcl|X73562.1_cds_CAA51960.1_1 [db_xref=GOA:Q46221,HSSP:1ACC,InterPro:IPR003896,InterPro:IPR011658,InterPro:IPR023125,UniProtKB/TrEMBL:Q46221] [protein=iota toxin component Ib] [protein_id=CAA51960.1] [location=2870..5497] [gbkey=CDS]\\nATGAATATACAAATTAAAAATGTATTTAGTTTTTTAACACTTACAGCTATGATAAGTCAAACGTTATCAT\\nATAATGTATATGCACAAACTACTACACAAAATGATACCAATCAGAAAGAAGAAATAACAAATGAAAATAC\\nACTATCAAGTAACGGATTAATGGGATATTATTTTGCAGATGAACATTTTAAGGATTTAGAATTAATGGCG\\nCCAATCAAAAATGGTGATTTGAAATTTGAAGAAAAGAAAGTAGACAAGCTTTTAACTGAAGATAATTCAA\\nGTATAAAATCTATCCGATGGACAGGAAGGATAATTCCTTCTGAAGATGGTGAATATATATTGTCAACTGA\\nTAGAAATGATGTATTAATGCAAATAAATGCTAAAGGGGATATTGCAAAAACACTTAAGGTTAATATGAAA\\nAAAGGTCAGGCATACAATATTAGAATAGAAATACAAGACAAAAATTTAGGTTCAATTGATAATTTATCTG\\nTTCCTAAACTTTATTGGGAATTAAATGGAAATAAAACAGTAATACCTGAAGAAAACTTATTTTTCCGAGA\\nTTACTCTAAAATAGATGAAAATGATCCGTTTATACCTAATAATAATTTTTTTGATGTAAGATTTTTTAGC\\nGCAGCCTGGGAAGATGAAGATTTAGATACTGATAATGATAATATTCCAGATGCTTATGAAAAAAATGGCT\\nATACTATCAAAGATTCAATTGCAGTAAAATGGAATGATAGTTTTGCAGAACAAGGATATAAAAAATATGT\\nATCAAGTTATTTAGAATCAAATACCGCTGGTGACCCATATACAGATTATCAAAAAGCTTCAGGTTCTATT\\nGATAAAGCTATAAAATTAGAAGCAAGAGATCCTTTAGTTGCAGCATATCCAGTTGTTGGAGTAGGTATGG\\nAAAATTTAATTATATCTACTAATGAACATGCTTCAAGTGATCAAGGAAAAACAGTTTCTAGGGCTACTAC\\nAAATAGTAAAACTGATGCAAATACAGTTGGAGTATCTATTAGTGCTGGATATCAAAATGGATTTACTGGT\\nAATATAACTACAAGCTATTCTCACACAACAGATAATTCAACTGCTGTGCAAGATAGTAATGGAGAATCAT\\nGGAATACTGGATTAAGTATAAATAAAGGAGAATCAGCATATATAAATGCCAATGTAAGATATTATAATAC\\nTGGTACTGCACCTATGTACAAAGTAACTCCAACAACCAATTTAGTATTAGATGGAGAGACATTAGCAACT\\nATTAAAGCACAGGATAATCAAATTGGTAATAACTTATCTCCAAATGAAACATATCCTAAAAAAGGACTTT\\nCTCCTTTAGCTCTTAACACAATGGATCAATTTAATGCTAGGTTAATTCCAATAAATTACGATCAACTTAA\\nAAAATTAGATTCTGGAAAACAAATTAAATTAGAAACAACACAAGTAAGTGGAAATTATGGAACTAAAAAT\\nAGTCAAGGACAAATAATTACAGAAGGAAATAGTTGGTCTAACTATATAAGTCAAATTGATAGCGTTTCTG\\nCATCTATTATACTGGATACAGGAAGTCAAACATTTGAAAGGCGTGTGGCTGCTAAAGAGCAAGGAAATCC\\nAGAAGATAAAACTCCTGAGATTACAATTGGAGAAGCAATTAAAAAAGCTTTTAGTGCTACTAAAAATGGT\\nGAATTATTATATTTTAATGGAATTCCAATTGATGAGAGCTGTGTTGAACTTATATTTGATGATAATACAT\\nCTGAAATAATTAAAGAACAATTAAAATATTTAGATGATAAAAAGATATATAATGTTAAACTTGAAAGAGG\\nAATGAATATACTTATAAAGGTGCCTTCATATTTTACTAATTTTGATGAATATAATAATTTTCCTGCTTCA\\nTGGAGTAATATTGATACTAAAAACCAAGATGGTTTACAAAGTGTAGCAAATAAGTTAAGCGGAGAGACAA\\nAGATTATAATACCTATGTCTAAATTAAAACCCTATAAACGCTATGTTTTTAGTGGATATTCAAAGGATCC\\nTTCAACTTCTAATTCAATAACAGTAAATATAAAATCAAAAGAACAGAAAACAGATTATTTAGTACCAGAG\\nAAAGATTATACAAAATTTAGTTATGAATTTGAAACAACCGGAAAAGATTCTTCTGATATAGAAATAACAT\\nTAACAAGTAGTGGTGTAATATTTTTAGATAATTTATCTATTACAGAATTAAATAGTACTCCTGAAATATT\\nAAAAGAACCAGAAATTAAAGTTCCAAGTGACCAAGAAATACTAGATGCACATAACAAATATTATGCAGAT\\nATAAAGCTTGACACAAATACAGGAAACACTTATATAGATGGTATATATTTTGAACCAACTCAAACTAATA\\nAAGAAGCTCTTGATTATATTCAAAAATATAGAGTTGAAGCAACTTTGCAATATTCAGGATTTAAAGATAT\\nTGGAACTAAGGATAAAGAAATACGTAATTATTTAGGAGATCAAAACCAACCTAAAACTAATTATATTAAT\\nTTTAGAAGTTATTTTACTAGTGGAGAAAATGTTATGACATATAAAAAATTAAGAATATATGCAGTTACAC\\nCTGATAATAGAGAGTTATTAGTGCTTAGTGTTAATTAA\\n\\n'"
      ]
     },
     "execution_count": 14,
     "metadata": {},
     "output_type": "execute_result"
    }
   ],
   "source": [
    "fetch_results"
   ]
  },
  {
   "cell_type": "code",
   "execution_count": 25,
   "id": "2745064c",
   "metadata": {},
   "outputs": [],
   "source": [
    "fetch_result = \"\"\n",
    "\n",
    "batch = 100\n",
    "for start in range(0, len(accession_list), batch):\n",
    "    end = start + batch\n",
    "    accessions = accession_list[start:end]\n",
    "    term = ' OR '.join(accessions)\n",
    "    uids = esearch(term, 'protein')\n",
    "    fetch_result += efetch(uids, 'protein', 'fasta_cds_na', 'text')"
   ]
  },
  {
   "cell_type": "code",
   "execution_count": 26,
   "id": "4f8518cf",
   "metadata": {},
   "outputs": [],
   "source": [
    "with open('/media/NGS/Data_Analysis/20210220_Campylobacter_resistance/cmeB/campylobacter_cmeB.fna', 'w') as f:\n",
    "    f.write(fetch_result)"
   ]
  },
  {
   "cell_type": "code",
   "execution_count": null,
   "id": "ed950941",
   "metadata": {},
   "outputs": [],
   "source": []
  }
 ],
 "metadata": {
  "kernelspec": {
   "display_name": "Python 3",
   "language": "python",
   "name": "python3"
  },
  "language_info": {
   "codemirror_mode": {
    "name": "ipython",
    "version": 3
   },
   "file_extension": ".py",
   "mimetype": "text/x-python",
   "name": "python",
   "nbconvert_exporter": "python",
   "pygments_lexer": "ipython3",
   "version": "3.6.13"
  }
 },
 "nbformat": 4,
 "nbformat_minor": 5
}
