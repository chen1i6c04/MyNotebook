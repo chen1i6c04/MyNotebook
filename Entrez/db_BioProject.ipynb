{
 "cells": [
  {
   "cell_type": "code",
   "execution_count": 12,
   "metadata": {},
   "outputs": [],
   "source": [
    "from Bio import Entrez"
   ]
  },
  {
   "cell_type": "code",
   "execution_count": 13,
   "metadata": {},
   "outputs": [],
   "source": [
    "Entrez.email = 'chen1i6c04@gmail.com'\n",
    "\n",
    "def einfo(db):\n",
    "    with Entrez.einfo(db=db) as handle:\n",
    "        record = Entrez.read(handle)\n",
    "    for fileld in record['DbInfo']['FieldList']:\n",
    "        print(fileld['Name'], fileld['Description'])\n",
    "\n",
    "def egquery(term, db='sra'):\n",
    "    with Entrez.egquery(term=term) as handle:\n",
    "        record = Entrez.read(handle)\n",
    "    for row in record[\"eGQueryResult\"]:\n",
    "        if row[\"DbName\"]==db:\n",
    "            count = int(row[\"Count\"])\n",
    "            return count\n",
    "\n",
    "def esearch(term, db=\"sra\", retmax=10000):\n",
    "    with Entrez.esearch(db=db, term=term, retmax=retmax) as handle:\n",
    "        record = Entrez.read(handle)\n",
    "        return record['IdList']\n",
    "\n",
    "def efetch(uid, db, rettype='xml', retmode=\"xml\"):\n",
    "    with Entrez.efetch(db=db, id=uid, rettype=rettype, retmode=retmode) as handle:\n",
    "        record = handle.read()\n",
    "    return record"
   ]
  },
  {
   "cell_type": "code",
   "execution_count": 20,
   "metadata": {},
   "outputs": [],
   "source": [
    "db = \"bioproject\""
   ]
  },
  {
   "cell_type": "code",
   "execution_count": 21,
   "metadata": {},
   "outputs": [
    {
     "name": "stdout",
     "output_type": "stream",
     "text": [
      "ALL All terms from all searchable fields\n",
      "UID Unique number assigned to publication\n",
      "FILT Limits the records\n",
      "ORGN Organism\n",
      "PRJA Project Accession\n",
      "TYPE Project Type\n",
      "STPE Project Subtype\n",
      "DATE Registration Date\n",
      "TITL Title\n",
      "CEN Submitter Organization(s)\n",
      "ACCN Space delimited GenBank or RefSeq Replicon Accessions\n",
      "RTYP Replicon Type\n",
      "RNME Replicon Name\n",
      "LTP Locus Tag Prefix\n",
      "WORD Organism/Project Description\n",
      "KWRD Keyword\n",
      "PROP Project/Organism Properties\n",
      "DTPE Project Data Type\n",
      "GRNT Grant ID\n",
      "FUND Funding Agency\n",
      "PMID Pubmed ID\n",
      "DOID DOI ID\n",
      "PID Project ID\n",
      "RELV Relevance\n",
      "ANME Assembly Name\n",
      "BPRJ BioProject ID or accession\n",
      "TPRJ Top Bioproject ID\n",
      "WGSA WGS Accessions\n",
      "AACC Assembly Accession\n",
      "ATNM Attribute Name\n",
      "ATTR Attribute\n"
     ]
    }
   ],
   "source": [
    "einfo(db=db)"
   ]
  },
  {
   "cell_type": "code",
   "execution_count": 49,
   "metadata": {},
   "outputs": [],
   "source": [
    "import os\n",
    "import pandas as pd"
   ]
  },
  {
   "cell_type": "code",
   "execution_count": 46,
   "metadata": {},
   "outputs": [],
   "source": [
    "outbreak_info = pd.read_csv('/home/chen1i6c04/notebook/20200529_cgMLST_type/pasteur_outbreak.csv', index_col=0)"
   ]
  },
  {
   "cell_type": "code",
   "execution_count": 50,
   "metadata": {},
   "outputs": [],
   "source": [
    "for bioproject_accession in outbreak_info['BioProject'].dropna().unique():\n",
    "    term = f\"{bioproject_accession}[PRJA]\"\n",
    "    idlist = esearch(term, db=db)\n",
    "    fetch_result = efetch(idlist, db, 'xml', 'xml')\n",
    "    export_file = os.path.join('/media/NGS/Data_Analysis/20200529_cgMLST_type', bioproject_accession + '.xml')\n",
    "    with open(export_file, 'w') as f:\n",
    "        f.write(fetch_result)"
   ]
  }
 ],
 "metadata": {
  "kernelspec": {
   "display_name": "Python 3",
   "language": "python",
   "name": "python3"
  },
  "language_info": {
   "codemirror_mode": {
    "name": "ipython",
    "version": 3
   },
   "file_extension": ".py",
   "mimetype": "text/x-python",
   "name": "python",
   "nbconvert_exporter": "python",
   "pygments_lexer": "ipython3",
   "version": "3.8.2"
  }
 },
 "nbformat": 4,
 "nbformat_minor": 4
}
