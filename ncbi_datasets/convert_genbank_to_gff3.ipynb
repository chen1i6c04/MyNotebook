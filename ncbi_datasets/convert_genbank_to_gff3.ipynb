{
 "cells": [
  {
   "cell_type": "code",
   "execution_count": 1,
   "id": "e1de317d-73b9-4e88-9180-2024ef4e58f7",
   "metadata": {},
   "outputs": [],
   "source": [
    "from Bio import SeqIO"
   ]
  },
  {
   "cell_type": "code",
   "execution_count": 32,
   "id": "fbd7a910-8054-4022-901d-0161acb6d6ad",
   "metadata": {},
   "outputs": [],
   "source": [
    "strand_char = {1: '+', -1: '-'}\n",
    "\n",
    "class GffRecord:\n",
    "    def __init__(self, seqname, source, feature, start, end, score, strand, frame, attribute=\"\"):\n",
    "        self.seqname = seqname\n",
    "        self.source = source\n",
    "        self.feature = feature\n",
    "        self.start = start\n",
    "        self.end = end\n",
    "        self.score = score\n",
    "        self.strand = strand\n",
    "        self.frame = frame\n",
    "        self.attribute = attribute\n",
    "        \n",
    "    def __str__(self):\n",
    "        return \"\\t\".join([\n",
    "            self.seqname, self.source, self.feature, str(self.start), str(self.end), str(self.score), self.strand, str(self.frame), self.attribute,\n",
    "        ])"
   ]
  },
  {
   "cell_type": "code",
   "execution_count": 38,
   "id": "c3843c4c-bf88-430d-b4bc-1dae7642d6b0",
   "metadata": {},
   "outputs": [],
   "source": [
    "genbank_file = '/media/Central_Lab_Storage/bo-han/Database/Escherichia_and_Shigella/Annotated/GCA_000194175.2/prokka.gbk'"
   ]
  },
  {
   "cell_type": "code",
   "execution_count": 42,
   "id": "7ddf2c05-efa9-443a-be02-f3ee3461eb7f",
   "metadata": {},
   "outputs": [],
   "source": [
    "gff_records = []\n",
    "for record in SeqIO.parse(genbank_file, 'gb'):\n",
    "    for f in record.features:\n",
    "        if f.type == 'CDS':\n",
    "            gff_record = GffRecord(\n",
    "                seqname=record.id,\n",
    "                source='GenBank',\n",
    "                feature=f.type,\n",
    "                start=f.location.start.numerator,\n",
    "                end=f.location.end, score=0,\n",
    "                strand=strand_char.get(f.location.strand),\n",
    "                frame=int(f.qualifiers['codon_start'][0]),\n",
    "            )\n",
    "            gff_records.append(gff_record)"
   ]
  },
  {
   "cell_type": "code",
   "execution_count": 47,
   "id": "0e645a57-e6cc-48b2-8f17-daa0f2a9dece",
   "metadata": {},
   "outputs": [
    {
     "name": "stdout",
     "output_type": "stream",
     "text": [
      "AEZI02000028.1\tGenBank\tCDS\t1362\t1737\t0\t-\t1\t\n"
     ]
    }
   ],
   "source": [
    "print(str(gff_records[3]))"
   ]
  },
  {
   "cell_type": "code",
   "execution_count": 28,
   "id": "0d59cb8e-27e9-462d-8903-9b9739744a0d",
   "metadata": {},
   "outputs": [],
   "source": [
    "strand_char = {1: '+', -1: '-'}"
   ]
  },
  {
   "cell_type": "code",
   "execution_count": 38,
   "id": "6ebff39b-9670-4352-8a7c-fe28fe0d8d1d",
   "metadata": {},
   "outputs": [],
   "source": [
    "gff_record = GffRecord(\n",
    "    seqname=record.id,\n",
    "    source='GenBank',\n",
    "    feature=f.type,\n",
    "    start=f.location.start.numerator,\n",
    "    end=f.location.end, score=0,\n",
    "    strand=strand_char.get(f.location.strand),\n",
    "    frame=int(f.qualifiers['codon_start'][0]) -1)"
   ]
  },
  {
   "cell_type": "code",
   "execution_count": 39,
   "id": "19194647-555c-4a49-9caa-07c453a44352",
   "metadata": {},
   "outputs": [
    {
     "data": {
      "text/plain": [
       "'GG774555.1 GenBank CDS 0 324 0 + 0 '"
      ]
     },
     "execution_count": 39,
     "metadata": {},
     "output_type": "execute_result"
    }
   ],
   "source": [
    "str(gff_record)"
   ]
  },
  {
   "cell_type": "code",
   "execution_count": 28,
   "id": "feede80e-0b65-4a9a-be55-598d8da1cd18",
   "metadata": {},
   "outputs": [
    {
     "data": {
      "text/plain": [
       "'1'"
      ]
     },
     "execution_count": 28,
     "metadata": {},
     "output_type": "execute_result"
    }
   ],
   "source": [
    "f.qualifiers['codon_start'][0]"
   ]
  },
  {
   "cell_type": "code",
   "execution_count": null,
   "id": "a9243586-52b5-4b85-8f38-22e35cc86a27",
   "metadata": {},
   "outputs": [],
   "source": []
  }
 ],
 "metadata": {
  "kernelspec": {
   "display_name": "Python 3",
   "language": "python",
   "name": "python3"
  },
  "language_info": {
   "codemirror_mode": {
    "name": "ipython",
    "version": 3
   },
   "file_extension": ".py",
   "mimetype": "text/x-python",
   "name": "python",
   "nbconvert_exporter": "python",
   "pygments_lexer": "ipython3",
   "version": "3.6.13"
  }
 },
 "nbformat": 4,
 "nbformat_minor": 5
}
