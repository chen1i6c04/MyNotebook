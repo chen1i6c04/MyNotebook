{
 "cells": [
  {
   "cell_type": "code",
   "execution_count": 1,
   "metadata": {},
   "outputs": [],
   "source": [
    "import os\n",
    "import hashlib\n",
    "from pathlib import Path\n",
    "from concurrent.futures import ThreadPoolExecutor\n",
    "from zipfile import ZipFile\n",
    "\n",
    "import pandas as pd\n",
    "from ncbi import datasets"
   ]
  },
  {
   "cell_type": "code",
   "execution_count": 2,
   "metadata": {},
   "outputs": [],
   "source": [
    "def download_assembly_package(assembly_accessions, zipfile):\n",
    "    dl_instance = datasets.DownloadApi(datasets.ApiClient())\n",
    "    assembly_accessions = [assembly_accessions]\n",
    "    include_sequence = True\n",
    "    try:\n",
    "        api_response = dl_instance.download_assembly_package(\n",
    "            assembly_accessions,\n",
    "            include_sequence=include_sequence,\n",
    "            _preload_content=False,\n",
    "        )\n",
    "        with open(zipfile, 'wb') as f:\n",
    "            f.write(api_response.data)\n",
    "    except datasets.ApiException as e:\n",
    "        pass\n",
    "\n",
    "def uncompress(zipfile, outfile):\n",
    "    archive = ZipFile(zipfile)\n",
    "    sequence_files = [filename for filename in archive.namelist() if filename.endswith('fna')]\n",
    "    with open(outfile, 'wb') as f:\n",
    "        for sequence_file in sequence_files:\n",
    "            d = archive.read(sequence_file)\n",
    "            f.write(d)\n",
    "    archive.close()\n",
    "\n",
    "def fn(assembly_accessions, zipfile, seqfile):\n",
    "    download_assembly_package(assembly_accessions=assembly_accessions, zipfile=zipfile)\n",
    "    if os.path.exists(zipfile):\n",
    "        try:\n",
    "            uncompress(zipfile=zipfile, outfile=seqfile)\n",
    "        except:\n",
    "            os.remove(zipfile)\n",
    "        os.remove(zipfile)"
   ]
  },
  {
   "cell_type": "code",
   "execution_count": 3,
   "metadata": {},
   "outputs": [
    {
     "data": {
      "text/plain": [
       "64"
      ]
     },
     "execution_count": 3,
     "metadata": {},
     "output_type": "execute_result"
    }
   ],
   "source": [
    "organism = 'Enterococcus faecalis'\n",
    "level = {'Chromosome': 2, 'Complete Genome': 1, 'Contig': 4, 'Scaffold': 3}\n",
    "\n",
    "df = pd.read_csv('/media/Central_Lab_Storage/NcbiASM/assembly_summary.txt', sep='\\t', header=1, usecols=range(12), error_bad_lines=False, low_memory=False)\n",
    "\n",
    "df = df[df['organism_name'].notna()]\n",
    "df = df[df['organism_name'].str.startswith(organism)]\n",
    "df['assembly_level'] = df['assembly_level'].map(level)\n",
    "df = df[df['assembly_level']==1]\n",
    "\n",
    "asm_accs = set(df['# assembly_accession'])\n",
    "len(asm_accs)"
   ]
  },
  {
   "cell_type": "code",
   "execution_count": null,
   "metadata": {},
   "outputs": [],
   "source": []
  },
  {
   "cell_type": "code",
   "execution_count": 3,
   "metadata": {},
   "outputs": [
    {
     "data": {
      "text/plain": [
       "66"
      ]
     },
     "execution_count": 3,
     "metadata": {},
     "output_type": "execute_result"
    }
   ],
   "source": [
    "asm_info = pd.read_csv('/media/Central_Lab_Storage/NcbiASM/Shigella_dysenteriae/prokaryotes.csv')\n",
    "asm_info = asm_info[asm_info['RefSeq FTP'].notna()]\n",
    "\n",
    "asm_accs = set(asm_info['Assembly'])\n",
    "len(asm_accs)"
   ]
  },
  {
   "cell_type": "code",
   "execution_count": 4,
   "metadata": {},
   "outputs": [],
   "source": [
    "dirpath = Path('/media/Central_Lab_Storage/NcbiASM/Enterococcus_faecalis/RefSeq')"
   ]
  },
  {
   "cell_type": "code",
   "execution_count": 5,
   "metadata": {},
   "outputs": [],
   "source": [
    "with ThreadPoolExecutor(8) as executor:\n",
    "    for acc in asm_accs:\n",
    "        zipfile = dirpath/(acc + '.zip')\n",
    "        seqfile = dirpath/(acc + '.fa')\n",
    "        if not seqfile.exists():\n",
    "            executor.submit(fn, acc, zipfile, seqfile)"
   ]
  },
  {
   "cell_type": "code",
   "execution_count": null,
   "metadata": {},
   "outputs": [],
   "source": [
    "ftp://ftp.ncbi.nlm.nih.gov/genomes/refseq/bacteria/assembly_summary.txt"
   ]
  },
  {
   "cell_type": "code",
   "execution_count": null,
   "metadata": {},
   "outputs": [],
   "source": []
  },
  {
   "cell_type": "code",
   "execution_count": null,
   "metadata": {},
   "outputs": [],
   "source": []
  }
 ],
 "metadata": {
  "kernelspec": {
   "display_name": "Python 3",
   "language": "python",
   "name": "python3"
  },
  "language_info": {
   "codemirror_mode": {
    "name": "ipython",
    "version": 3
   },
   "file_extension": ".py",
   "mimetype": "text/x-python",
   "name": "python",
   "nbconvert_exporter": "python",
   "pygments_lexer": "ipython3",
   "version": "3.6.13"
  }
 },
 "nbformat": 4,
 "nbformat_minor": 4
}
