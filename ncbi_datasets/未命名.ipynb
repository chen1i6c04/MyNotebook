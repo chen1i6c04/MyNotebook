{
 "cells": [
  {
   "cell_type": "code",
   "execution_count": 1,
   "id": "502f36b8-f950-46d9-8705-e00c0aeb2b8e",
   "metadata": {},
   "outputs": [],
   "source": [
    "import pandas as pd"
   ]
  },
  {
   "cell_type": "code",
   "execution_count": 2,
   "id": "51b75c31-7a60-4395-a25e-91de718dfdac",
   "metadata": {},
   "outputs": [],
   "source": [
    "ani_report_uri = 'https://ftp.ncbi.nlm.nih.gov/genomes/ASSEMBLY_REPORTS/ANI_report_prokaryotes.txt'\n",
    "ani_report = pd.read_csv(ani_report_uri, sep='\\t', low_memory=False)"
   ]
  },
  {
   "cell_type": "code",
   "execution_count": 3,
   "id": "bb7e1e4c-581b-4743-90ab-87bf5999844a",
   "metadata": {},
   "outputs": [],
   "source": [
    "assembly_summary_uri ='https://ftp.ncbi.nlm.nih.gov/genomes/refseq/assembly_summary_refseq.txt'\n",
    "assembly_summary = pd.read_csv(assembly_summary_uri, sep='\\t', header=1, low_memory=False)"
   ]
  },
  {
   "cell_type": "code",
   "execution_count": null,
   "id": "5d4cfe75-438b-4620-946f-ec0286589881",
   "metadata": {},
   "outputs": [],
   "source": []
  },
  {
   "cell_type": "code",
   "execution_count": 45,
   "id": "26bc5855-4d94-44b7-8b6a-36c9455dfceb",
   "metadata": {},
   "outputs": [],
   "source": [
    "species_name = 'Shigella boydii'\n",
    "assembly_level = [\n",
    "    'Complete Genome',\n",
    "#     'Chromosome',\n",
    "#     'Scaffold',\n",
    "#     'Contig'\n",
    "]"
   ]
  },
  {
   "cell_type": "code",
   "execution_count": 46,
   "id": "39c0c338-9373-4592-9d75-4848543bb3a6",
   "metadata": {},
   "outputs": [],
   "source": [
    "taxonomy_check_ok = ani_report[\n",
    "    (ani_report['taxonomy-check-status']=='OK')&\n",
    "    (ani_report['species-name']==species_name)\n",
    "]"
   ]
  },
  {
   "cell_type": "code",
   "execution_count": 47,
   "id": "cc82dd7e-2430-4101-aa1b-09b499165641",
   "metadata": {},
   "outputs": [],
   "source": [
    "specific_species_assembly = assembly_summary[\n",
    "    (assembly_summary.organism_name.str.startswith(species_name))&\n",
    "    (assembly_summary.assembly_level.isin(assembly_level))&\n",
    "    (assembly_summary.excluded_from_refseq.isna())\n",
    "]"
   ]
  },
  {
   "cell_type": "code",
   "execution_count": 48,
   "id": "59da2252-e8b2-40b6-8f5d-d25a41ec082a",
   "metadata": {},
   "outputs": [],
   "source": [
    "reference_assemblies = specific_species_assembly[specific_species_assembly['gbrs_paired_asm'].isin(taxonomy_check_ok['# genbank-accession'])]"
   ]
  },
  {
   "cell_type": "code",
   "execution_count": 49,
   "id": "ba675e30-12f2-4bc6-a922-0a1b28bc6148",
   "metadata": {},
   "outputs": [],
   "source": [
    "assembly_accessions = reference_assemblies.gbrs_paired_asm.to_list()"
   ]
  },
  {
   "cell_type": "code",
   "execution_count": 50,
   "id": "0ee620ee-9171-4536-a13b-a9c3f5b52a5a",
   "metadata": {},
   "outputs": [
    {
     "data": {
      "text/plain": [
       "11"
      ]
     },
     "execution_count": 50,
     "metadata": {},
     "output_type": "execute_result"
    }
   ],
   "source": [
    "len(assembly_accessions)"
   ]
  },
  {
   "cell_type": "code",
   "execution_count": null,
   "id": "59d2e8b5-4d55-449c-9b5d-e984bd46750b",
   "metadata": {},
   "outputs": [],
   "source": []
  },
  {
   "cell_type": "code",
   "execution_count": 51,
   "id": "877f2455-78ab-4d26-8eaa-3879631dedac",
   "metadata": {},
   "outputs": [],
   "source": [
    "import subprocess\n",
    "from concurrent.futures import ThreadPoolExecutor"
   ]
  },
  {
   "cell_type": "code",
   "execution_count": 52,
   "id": "cfcdc306-8b1a-42ca-ae66-d86edff39e16",
   "metadata": {},
   "outputs": [],
   "source": [
    "outdir = \"/media/Central_Lab_Storage/NcbiASM/Shigella_boydii/RefSeq\"\n",
    "\n",
    "def fn(accession):\n",
    "    cmd = ['conda', 'run', '-n', 'notebook3.8', 'python', '/home/chen1i6c04/download_ncbi_assembly.py', '-o', outdir]\n",
    "    cmd.append(accession)\n",
    "    subprocess.run(cmd)"
   ]
  },
  {
   "cell_type": "code",
   "execution_count": 53,
   "id": "5470f51a-7809-4f90-867c-685fab2b79cc",
   "metadata": {},
   "outputs": [],
   "source": [
    "with ThreadPoolExecutor(16) as executor:\n",
    "    executor.map(fn, assembly_accessions, chunksize=50)"
   ]
  },
  {
   "cell_type": "code",
   "execution_count": null,
   "id": "9b5500d0-0a94-4f90-8453-b40555425f59",
   "metadata": {},
   "outputs": [],
   "source": []
  },
  {
   "cell_type": "code",
   "execution_count": null,
   "id": "f38b65a6-cf8d-4fc0-b16e-b505f53e53cc",
   "metadata": {},
   "outputs": [],
   "source": []
  }
 ],
 "metadata": {
  "kernelspec": {
   "display_name": "Python 3",
   "language": "python",
   "name": "python3"
  },
  "language_info": {
   "codemirror_mode": {
    "name": "ipython",
    "version": 3
   },
   "file_extension": ".py",
   "mimetype": "text/x-python",
   "name": "python",
   "nbconvert_exporter": "python",
   "pygments_lexer": "ipython3",
   "version": "3.6.13"
  }
 },
 "nbformat": 4,
 "nbformat_minor": 5
}
