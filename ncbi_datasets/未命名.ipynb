{
 "cells": [
  {
   "cell_type": "code",
   "execution_count": 1,
   "id": "59998d6b-eac8-47fb-872c-d864d72a33f3",
   "metadata": {},
   "outputs": [],
   "source": [
    "import json\n",
    "import pandas as pd"
   ]
  },
  {
   "cell_type": "code",
   "execution_count": 2,
   "id": "aa1405df-6a77-487f-812c-c75c428f38c5",
   "metadata": {},
   "outputs": [],
   "source": [
    "with open('/home/chen1i6c04/Lm_asm_summary.json') as f:\n",
    "    data = json.load(f)"
   ]
  },
  {
   "cell_type": "code",
   "execution_count": 10,
   "id": "14e7ea71-6cfa-4f11-bdb9-c4ea245c213d",
   "metadata": {},
   "outputs": [],
   "source": [
    "summaries = []\n",
    "for assembly in data['assemblies']:\n",
    "    assembly_info = assembly['assembly']\n",
    "    summary = dict()\n",
    "    summary['submission_date'] = assembly_info['submission_date']\n",
    "    summary['sci_name'] = assembly_info['org']['sci_name']\n",
    "    summary['bioproject_accession'] = assembly_info['bioproject_lineages'][0]['bioprojects'][0]['accession']\n",
    "    summary['biosample_accession'] = assembly_info['biosample_accession']\n",
    "    summary['assembly_accession'] = assembly_info['assembly_accession']\n",
    "    summary['strain'] = assembly_info['org'].get('strain')\n",
    "    summary['isolate'] = assembly_info['org'].get('isolate')\n",
    "    summaries.append(summary)"
   ]
  },
  {
   "cell_type": "code",
   "execution_count": 19,
   "id": "0c7123bc-7841-4022-a346-7894a6b6dbe5",
   "metadata": {},
   "outputs": [],
   "source": [
    "df = pd.DataFrame(summaries)"
   ]
  },
  {
   "cell_type": "code",
   "execution_count": 20,
   "id": "a1b01d43-171d-46b5-903f-801e71d6a3e9",
   "metadata": {},
   "outputs": [],
   "source": [
    "df['submission_date'] = pd.to_datetime(df['submission_date'])"
   ]
  },
  {
   "cell_type": "code",
   "execution_count": 21,
   "id": "3abd6ab6-3310-417f-b11a-73743f81cad6",
   "metadata": {},
   "outputs": [],
   "source": [
    "df = df.sort_values('submission_date')"
   ]
  },
  {
   "cell_type": "code",
   "execution_count": 30,
   "id": "32e16453-4b23-4e17-a5b1-c24ffe45e754",
   "metadata": {},
   "outputs": [
    {
     "data": {
      "text/html": [
       "<div>\n",
       "<style scoped>\n",
       "    .dataframe tbody tr th:only-of-type {\n",
       "        vertical-align: middle;\n",
       "    }\n",
       "\n",
       "    .dataframe tbody tr th {\n",
       "        vertical-align: top;\n",
       "    }\n",
       "\n",
       "    .dataframe thead th {\n",
       "        text-align: right;\n",
       "    }\n",
       "</style>\n",
       "<table border=\"1\" class=\"dataframe\">\n",
       "  <thead>\n",
       "    <tr style=\"text-align: right;\">\n",
       "      <th></th>\n",
       "      <th>submission_date</th>\n",
       "      <th>sci_name</th>\n",
       "      <th>bioproject_accession</th>\n",
       "      <th>biosample_accession</th>\n",
       "      <th>assembly_accession</th>\n",
       "      <th>strain</th>\n",
       "      <th>isolate</th>\n",
       "    </tr>\n",
       "  </thead>\n",
       "  <tbody>\n",
       "    <tr>\n",
       "      <th>49681</th>\n",
       "      <td>2003-05-06</td>\n",
       "      <td>Listeria monocytogenes EGD-e</td>\n",
       "      <td>PRJNA276</td>\n",
       "      <td>SAMEA3138329</td>\n",
       "      <td>GCA_000196035.1</td>\n",
       "      <td>EGD-e</td>\n",
       "      <td>None</td>\n",
       "    </tr>\n",
       "    <tr>\n",
       "      <th>49972</th>\n",
       "      <td>2004-05-04</td>\n",
       "      <td>Listeria monocytogenes serotype 1/2a str. F6854</td>\n",
       "      <td>PRJNA10753</td>\n",
       "      <td>SAMN02415268</td>\n",
       "      <td>GCA_000167135.1</td>\n",
       "      <td>1/2a F6854</td>\n",
       "      <td>None</td>\n",
       "    </tr>\n",
       "    <tr>\n",
       "      <th>50138</th>\n",
       "      <td>2004-05-04</td>\n",
       "      <td>Listeria monocytogenes serotype 4b str. H7858</td>\n",
       "      <td>PRJNA10752</td>\n",
       "      <td>SAMN02415269</td>\n",
       "      <td>GCA_000167155.1</td>\n",
       "      <td>4b H7858</td>\n",
       "      <td>None</td>\n",
       "    </tr>\n",
       "    <tr>\n",
       "      <th>50136</th>\n",
       "      <td>2005-12-07</td>\n",
       "      <td>Listeria monocytogenes serotype 4b str. F2365</td>\n",
       "      <td>PRJNA85</td>\n",
       "      <td>SAMN02603980</td>\n",
       "      <td>GCA_000008285.1</td>\n",
       "      <td>4b F2365</td>\n",
       "      <td>None</td>\n",
       "    </tr>\n",
       "    <tr>\n",
       "      <th>49702</th>\n",
       "      <td>2008-08-28</td>\n",
       "      <td>Listeria monocytogenes FSL R2-503</td>\n",
       "      <td>PRJNA17315</td>\n",
       "      <td>SAMN00761062</td>\n",
       "      <td>GCA_000168555.1</td>\n",
       "      <td>FSL R2-503</td>\n",
       "      <td>None</td>\n",
       "    </tr>\n",
       "    <tr>\n",
       "      <th>...</th>\n",
       "      <td>...</td>\n",
       "      <td>...</td>\n",
       "      <td>...</td>\n",
       "      <td>...</td>\n",
       "      <td>...</td>\n",
       "      <td>...</td>\n",
       "      <td>...</td>\n",
       "    </tr>\n",
       "    <tr>\n",
       "      <th>49164</th>\n",
       "      <td>2022-01-10</td>\n",
       "      <td>Listeria monocytogenes</td>\n",
       "      <td>PRJNA689486</td>\n",
       "      <td>SAMN17211765</td>\n",
       "      <td>GCA_021407105.1</td>\n",
       "      <td>MF7805</td>\n",
       "      <td>None</td>\n",
       "    </tr>\n",
       "    <tr>\n",
       "      <th>49165</th>\n",
       "      <td>2022-01-10</td>\n",
       "      <td>Listeria monocytogenes</td>\n",
       "      <td>PRJNA689486</td>\n",
       "      <td>SAMN17211760</td>\n",
       "      <td>GCA_021407125.1</td>\n",
       "      <td>MF7800</td>\n",
       "      <td>None</td>\n",
       "    </tr>\n",
       "    <tr>\n",
       "      <th>49149</th>\n",
       "      <td>2022-01-10</td>\n",
       "      <td>Listeria monocytogenes</td>\n",
       "      <td>PRJNA212117</td>\n",
       "      <td>SAMN24722427</td>\n",
       "      <td>GCA_021402805.1</td>\n",
       "      <td>PNUSAL012741</td>\n",
       "      <td>None</td>\n",
       "    </tr>\n",
       "    <tr>\n",
       "      <th>49273</th>\n",
       "      <td>2022-01-11</td>\n",
       "      <td>Listeria monocytogenes</td>\n",
       "      <td>PRJNA212117</td>\n",
       "      <td>SAMN24812711</td>\n",
       "      <td>GCA_021432785.1</td>\n",
       "      <td>PNUSAL012768</td>\n",
       "      <td>None</td>\n",
       "    </tr>\n",
       "    <tr>\n",
       "      <th>49272</th>\n",
       "      <td>2022-01-11</td>\n",
       "      <td>Listeria monocytogenes</td>\n",
       "      <td>PRJNA212117</td>\n",
       "      <td>SAMN24809511</td>\n",
       "      <td>GCA_021424305.1</td>\n",
       "      <td>PNUSAL005032</td>\n",
       "      <td>None</td>\n",
       "    </tr>\n",
       "  </tbody>\n",
       "</table>\n",
       "<p>45325 rows × 7 columns</p>\n",
       "</div>"
      ],
      "text/plain": [
       "      submission_date                                         sci_name  \\\n",
       "49681      2003-05-06                     Listeria monocytogenes EGD-e   \n",
       "49972      2004-05-04  Listeria monocytogenes serotype 1/2a str. F6854   \n",
       "50138      2004-05-04    Listeria monocytogenes serotype 4b str. H7858   \n",
       "50136      2005-12-07    Listeria monocytogenes serotype 4b str. F2365   \n",
       "49702      2008-08-28                Listeria monocytogenes FSL R2-503   \n",
       "...               ...                                              ...   \n",
       "49164      2022-01-10                           Listeria monocytogenes   \n",
       "49165      2022-01-10                           Listeria monocytogenes   \n",
       "49149      2022-01-10                           Listeria monocytogenes   \n",
       "49273      2022-01-11                           Listeria monocytogenes   \n",
       "49272      2022-01-11                           Listeria monocytogenes   \n",
       "\n",
       "      bioproject_accession biosample_accession assembly_accession  \\\n",
       "49681             PRJNA276        SAMEA3138329    GCA_000196035.1   \n",
       "49972           PRJNA10753        SAMN02415268    GCA_000167135.1   \n",
       "50138           PRJNA10752        SAMN02415269    GCA_000167155.1   \n",
       "50136              PRJNA85        SAMN02603980    GCA_000008285.1   \n",
       "49702           PRJNA17315        SAMN00761062    GCA_000168555.1   \n",
       "...                    ...                 ...                ...   \n",
       "49164          PRJNA689486        SAMN17211765    GCA_021407105.1   \n",
       "49165          PRJNA689486        SAMN17211760    GCA_021407125.1   \n",
       "49149          PRJNA212117        SAMN24722427    GCA_021402805.1   \n",
       "49273          PRJNA212117        SAMN24812711    GCA_021432785.1   \n",
       "49272          PRJNA212117        SAMN24809511    GCA_021424305.1   \n",
       "\n",
       "             strain isolate  \n",
       "49681         EGD-e    None  \n",
       "49972    1/2a F6854    None  \n",
       "50138      4b H7858    None  \n",
       "50136      4b F2365    None  \n",
       "49702    FSL R2-503    None  \n",
       "...             ...     ...  \n",
       "49164        MF7805    None  \n",
       "49165        MF7800    None  \n",
       "49149  PNUSAL012741    None  \n",
       "49273  PNUSAL012768    None  \n",
       "49272  PNUSAL005032    None  \n",
       "\n",
       "[45325 rows x 7 columns]"
      ]
     },
     "execution_count": 30,
     "metadata": {},
     "output_type": "execute_result"
    }
   ],
   "source": [
    "df[df['assembly_accession'].str.startswith('GCA')]"
   ]
  },
  {
   "cell_type": "code",
   "execution_count": null,
   "id": "0d1a0a14-90f7-4f8c-a067-33714d21cbb5",
   "metadata": {},
   "outputs": [],
   "source": []
  },
  {
   "cell_type": "code",
   "execution_count": 31,
   "id": "73acee06-23c4-40b2-adfd-0daea9ad13e4",
   "metadata": {},
   "outputs": [],
   "source": [
    "with open('/media/GenomicResearch/MiSeq/Listeria_monocytogenes/Analysis/R21.2516/mlst/data.json') as f:\n",
    "    data = json.load(f)"
   ]
  },
  {
   "cell_type": "code",
   "execution_count": 37,
   "id": "bd29e67d-5975-46e0-9652-20c4c6191c0e",
   "metadata": {},
   "outputs": [
    {
     "data": {
      "text/plain": [
       "'177'"
      ]
     },
     "execution_count": 37,
     "metadata": {},
     "output_type": "execute_result"
    }
   ],
   "source": [
    "data['mlst']['results']['sequence_type'].replace('!', '')"
   ]
  },
  {
   "cell_type": "code",
   "execution_count": null,
   "id": "ea2f778a-e54f-48ff-aebc-0d4d11d7870c",
   "metadata": {},
   "outputs": [],
   "source": []
  }
 ],
 "metadata": {
  "kernelspec": {
   "display_name": "Python 3",
   "language": "python",
   "name": "python3"
  },
  "language_info": {
   "codemirror_mode": {
    "name": "ipython",
    "version": 3
   },
   "file_extension": ".py",
   "mimetype": "text/x-python",
   "name": "python",
   "nbconvert_exporter": "python",
   "pygments_lexer": "ipython3",
   "version": "3.6.13"
  }
 },
 "nbformat": 4,
 "nbformat_minor": 5
}
