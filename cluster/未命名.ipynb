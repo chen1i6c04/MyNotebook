{
 "cells": [
  {
   "cell_type": "code",
   "execution_count": 40,
   "id": "5c7e7b18-37f4-4484-90cd-e2dd0a85771d",
   "metadata": {},
   "outputs": [],
   "source": [
    "from pathlib import Path\n",
    "import numpy as np\n",
    "import pandas as pd\n",
    "import matplotlib.pyplot as plt\n",
    "from matplotlib import font_manager\n",
    "from PIL import ImageFont"
   ]
  },
  {
   "cell_type": "code",
   "execution_count": 2,
   "id": "f8414bd0",
   "metadata": {},
   "outputs": [],
   "source": [
    "import sys\n",
    "sys.path.append('../src')\n",
    "from tree import PairwiseDistanceMatrix, Dendrogram"
   ]
  },
  {
   "cell_type": "code",
   "execution_count": 4,
   "id": "c134ab0c-6e2e-47ad-8a60-1cada36d223d",
   "metadata": {},
   "outputs": [],
   "source": [
    "def find_all_profile(dirpath):\n",
    "    return [x for x in Path(dirpath).glob('*.tsv')]"
   ]
  },
  {
   "cell_type": "code",
   "execution_count": 47,
   "id": "2fcfa7a4-b551-48cb-aaf3-748c48783cfa",
   "metadata": {},
   "outputs": [],
   "source": [
    "def plt_get_text_width_pixel(text, fontsize=None):\n",
    "    if fontsize is None:\n",
    "        fontsize = plt.rcParams['font.size']\n",
    "    fontname = plt.rcParams['font.sans-serif'][0]\n",
    "    fontfile = font_manager.findfont(font_manager.FontProperties(fontname))\n",
    "    font = ImageFont.truetype(fontfile, size=int(fontsize))\n",
    "    w, _ = font.getsize(str(text))\n",
    "    return w"
   ]
  },
  {
   "cell_type": "code",
   "execution_count": 48,
   "id": "d48cfc1f-e1c8-40be-a821-5486eb9da128",
   "metadata": {},
   "outputs": [],
   "source": [
    "def get_data_columns_max_width(data, fontsize):\n",
    "    \"\"\"\n",
    "    get columns max width\n",
    "    \"\"\"\n",
    "    if type(data) is not np.ndarray:\n",
    "        data = np.array(data)\n",
    "    a = []\n",
    "    for cols in data.T:\n",
    "        m = max([plt_get_text_width_pixel(x, fontsize) for x in cols])\n",
    "        a.append(8 + m + 8)\n",
    "    return a"
   ]
  },
  {
   "cell_type": "code",
   "execution_count": 49,
   "id": "b00ed8e4-87af-4d24-89c7-78d99c52d8b0",
   "metadata": {},
   "outputs": [],
   "source": [
    "df = pd.read_csv('/media/GenomicResearch/MiSeq/Salmonella_enterica/summaries.txt', sep='\\t')"
   ]
  },
  {
   "cell_type": "code",
   "execution_count": 50,
   "id": "a09f7fee-711a-47e0-b964-41fce9826aec",
   "metadata": {},
   "outputs": [],
   "source": [
    "df = df.fillna('')"
   ]
  },
  {
   "cell_type": "code",
   "execution_count": 51,
   "id": "6c4c5094-bb00-42e9-bd05-5def0c14806e",
   "metadata": {},
   "outputs": [
    {
     "data": {
      "text/plain": [
       "[112, 1227, 304, 60, 40, 40, 40, 52, 52, 40, 52, 77, 119, 52, 579]"
      ]
     },
     "execution_count": 51,
     "metadata": {},
     "output_type": "execute_result"
    }
   ],
   "source": [
    "get_data_columns_max_width(df, 12)"
   ]
  },
  {
   "cell_type": "code",
   "execution_count": null,
   "id": "cfa96be8-01ec-40f7-a47a-a183446d2f31",
   "metadata": {},
   "outputs": [],
   "source": []
  }
 ],
 "metadata": {
  "kernelspec": {
   "display_name": "Python 3",
   "language": "python",
   "name": "python3"
  },
  "language_info": {
   "codemirror_mode": {
    "name": "ipython",
    "version": 3
   },
   "file_extension": ".py",
   "mimetype": "text/x-python",
   "name": "python",
   "nbconvert_exporter": "python",
   "pygments_lexer": "ipython3",
   "version": "3.6.13"
  }
 },
 "nbformat": 4,
 "nbformat_minor": 5
}
