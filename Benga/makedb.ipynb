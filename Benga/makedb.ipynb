{
 "cells": [
  {
   "cell_type": "code",
   "execution_count": 12,
   "metadata": {},
   "outputs": [],
   "source": [
    "from pathlib import Path\n",
    "import pandas as pd"
   ]
  },
  {
   "cell_type": "code",
   "execution_count": 7,
   "metadata": {},
   "outputs": [],
   "source": [
    "asm_info = pd.read_csv('/media/Central_Lab_Storage/NcbiASM/Clostridium_perfringens/prokaryotes.csv', usecols=['Assembly', 'BioSample'])\n",
    "asm_info = asm_info.rename(columns={'Assembly': 'SourceSeq'})"
   ]
  },
  {
   "cell_type": "code",
   "execution_count": 10,
   "metadata": {},
   "outputs": [],
   "source": [
    "run_info = pd.read_csv('/media/Central_Lab_Storage/NcbiSRA/NCBI_Clostridium_perfringens_SRA/SraRunInfo.csv', usecols=['Run', 'BioSample'])\n",
    "run_info = run_info.rename(columns={'Run': 'SourceSeq'})"
   ]
  },
  {
   "cell_type": "code",
   "execution_count": 14,
   "metadata": {},
   "outputs": [],
   "source": [
    "p = Path('/media/Central_Lab_Storage/bo-han/Database/Clostridium_perfringens/Dereplication')\n",
    "accs = set(i.stem for i in p.iterdir())"
   ]
  },
  {
   "cell_type": "code",
   "execution_count": 16,
   "metadata": {},
   "outputs": [],
   "source": [
    "df = pd.concat([asm_info, run_info])"
   ]
  },
  {
   "cell_type": "code",
   "execution_count": 20,
   "metadata": {},
   "outputs": [],
   "source": [
    "df = df[df['SourceSeq'].isin(accs)]"
   ]
  },
  {
   "cell_type": "code",
   "execution_count": 27,
   "metadata": {},
   "outputs": [],
   "source": [
    "with pd.ExcelWriter('/media/Access/3_個人儲存區/陳柏翰/Clostridium_perfringensGenomesFor_cgMLSTScheme_file2.xlsx') as writer:\n",
    "    df.to_excel(writer, index=False)"
   ]
  },
  {
   "cell_type": "code",
   "execution_count": null,
   "metadata": {},
   "outputs": [],
   "source": []
  }
 ],
 "metadata": {
  "kernelspec": {
   "display_name": "Python 3",
   "language": "python",
   "name": "python3"
  },
  "language_info": {
   "codemirror_mode": {
    "name": "ipython",
    "version": 3
   },
   "file_extension": ".py",
   "mimetype": "text/x-python",
   "name": "python",
   "nbconvert_exporter": "python",
   "pygments_lexer": "ipython3",
   "version": "3.6.13"
  }
 },
 "nbformat": 4,
 "nbformat_minor": 4
}
