{
 "cells": [
  {
   "cell_type": "code",
   "execution_count": 1,
   "metadata": {},
   "outputs": [],
   "source": [
    "from pathlib import Path"
   ]
  },
  {
   "cell_type": "code",
   "execution_count": 2,
   "metadata": {},
   "outputs": [],
   "source": [
    "def remove_non_cds_feature(in_gff, out_gff):\n",
    "    with open(in_gff) as in_f, open(out_gff, 'w') as out_f:\n",
    "        for line in in_f:\n",
    "            if line != '##FASTA\\n':\n",
    "                if line.startswith('##'):\n",
    "                    out_f.write(line)\n",
    "                else:\n",
    "                    if line.split()[2] == 'CDS':\n",
    "                        out_f.write(line)\n",
    "            else:\n",
    "                out_f.write(line)\n",
    "                out_f.write(in_f.read())"
   ]
  },
  {
   "cell_type": "code",
   "execution_count": 4,
   "metadata": {},
   "outputs": [],
   "source": [
    "remove_non_cds_feature(\n",
    "    '/media/Central_Lab_Storage/bo-han/Database/TEST/Annotated/GCA_002105635.1/GCA_002105635.1.gff3',\n",
    "    '/media/Central_Lab_Storage/bo-han/Database/TEST/GFF/GCA_002105635.1.gff')"
   ]
  },
  {
   "cell_type": "code",
   "execution_count": null,
   "metadata": {},
   "outputs": [],
   "source": []
  }
 ],
 "metadata": {
  "kernelspec": {
   "display_name": "Python 3",
   "language": "python",
   "name": "python3"
  },
  "language_info": {
   "codemirror_mode": {
    "name": "ipython",
    "version": 3
   },
   "file_extension": ".py",
   "mimetype": "text/x-python",
   "name": "python",
   "nbconvert_exporter": "python",
   "pygments_lexer": "ipython3",
   "version": "3.6.13"
  }
 },
 "nbformat": 4,
 "nbformat_minor": 4
}
