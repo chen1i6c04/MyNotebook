{
 "cells": [
  {
   "cell_type": "code",
   "execution_count": 10,
   "metadata": {},
   "outputs": [],
   "source": [
    "import sys\n",
    "from pathlib import Path\n",
    "from multiprocessing import Pool\n",
    "\n",
    "sys.path.append('../src')\n",
    "\n",
    "from utils import run_cmd"
   ]
  },
  {
   "cell_type": "code",
   "execution_count": 11,
   "metadata": {},
   "outputs": [],
   "source": [
    "prog = '/media/Central_Lab_Storage/bo-han/Projects/Benga-2/profiling.py'\n",
    "# scheme = \"/media/GenomicResearch/Issue/Benga/Listeria_monocytogenes.faa\"\n",
    "database = \"/media/GenomicResearch/Issue/Benga/Klebsiella_pneumoniae.db\"\n",
    "prodigaltf = \"/media/Central_Lab_Storage/bo-han/Projects/Benga/models/Klebsiella_pneumoniae.trn\""
   ]
  },
  {
   "cell_type": "code",
   "execution_count": 19,
   "metadata": {},
   "outputs": [],
   "source": [
    "dirpath = Path('/media/Central_Lab_Storage/NcbiSRA/NCBI_Kp_SRA/Contigs')\n",
    "outpath = Path('/media/Central_Lab_Storage/NcbiSRA/NCBI_Kp_SRA/Analysis')"
   ]
  },
  {
   "cell_type": "code",
   "execution_count": 20,
   "metadata": {},
   "outputs": [
    {
     "data": {
      "text/plain": [
       "11326"
      ]
     },
     "execution_count": 20,
     "metadata": {},
     "output_type": "execute_result"
    }
   ],
   "source": [
    "cmds = []\n",
    "for i in dirpath.iterdir():\n",
    "    if (outpath/i.stem).exists():\n",
    "        outfile = outpath/i.stem/'profile.tsv'\n",
    "        cmd = f\"python {prog} -i {i} -o {outfile} -d {database} --prodigaltf {prodigaltf} -t 2\"\n",
    "        cmds.append(cmd)\n",
    "len(cmds)"
   ]
  },
  {
   "cell_type": "code",
   "execution_count": null,
   "metadata": {},
   "outputs": [],
   "source": [
    "%%time\n",
    "with Pool(24) as p:\n",
    "    try:\n",
    "        p.map(run_cmd, cmds)\n",
    "        p.close()\n",
    "        p.join()\n",
    "    except KeyboardInterrupt:\n",
    "        p.terminate()"
   ]
  },
  {
   "cell_type": "code",
   "execution_count": 18,
   "metadata": {},
   "outputs": [
    {
     "name": "stdout",
     "output_type": "stream",
     "text": [
      "CPU times: user 327 ms, sys: 56.9 ms, total: 384 ms\n",
      "Wall time: 19 s\n"
     ]
    }
   ],
   "source": [
    "%%time\n",
    "asm = '/media/Central_Lab_Storage/NcbiSRA/NCBI_Kp_SRA/Contigs/SRR1197688.fa'\n",
    "out = '/home/chen1i6c04/SRR1197688.tsv'\n",
    "!conda run -n Benga python {prog} -i {asm} -o {out} -d {database}  --prodigaltf {prodigaltf} -t 16"
   ]
  },
  {
   "cell_type": "code",
   "execution_count": null,
   "metadata": {},
   "outputs": [],
   "source": []
  },
  {
   "cell_type": "code",
   "execution_count": 9,
   "metadata": {},
   "outputs": [],
   "source": [
    "import os\n",
    "import sqlite3\n",
    "from sqlalchemy import create_engine\n",
    "import subprocess\n",
    "import hashlib\n",
    "from tempfile import TemporaryDirectory\n",
    "import pandas as pd\n",
    "from Bio import SeqIO\n",
    "from Bio.Seq import Seq\n",
    "from Bio.SeqRecord import SeqRecord"
   ]
  },
  {
   "cell_type": "code",
   "execution_count": null,
   "metadata": {},
   "outputs": [],
   "source": [
    "def find_genes(input_fasta, training_file):\n",
    "    records = []\n",
    "    with TemporaryDirectory() as tmpdir:\n",
    "        prodigal_output = os.path.join(tmpdir, 'genes.fna')\n",
    "        subprocess.run(f\"prodigal -i {input_fasta} -d {prodigal_output} -c -m -q -t {training_file}\", shell=True)\n",
    "        for record in SeqIO.parse(prodigal_output, 'fasta'):\n",
    "            record.id = sequence_encoder(str(record.seq))\n",
    "            record.seq = record.seq.translate(table=11)\n",
    "            records.append(record)\n",
    "    return records\n",
    "\n",
    "def sequence_encoder(sequence):\n",
    "    return hashlib.sha256(sequence.encode(\"ascii\")).hexdigest()\n",
    "\n",
    "def sequence_alignment(query_records, subject_records, threads):\n",
    "    with TemporaryDirectory() as tmpdir:\n",
    "        query, subject = os.path.join(tmpdir, 'query.faa'), os.path.join(tmpdir, 'subject.faa')\n",
    "        SeqIO.write(query_records, query, 'fasta')\n",
    "        SeqIO.write(subject_records, subject, 'fasta')\n",
    "        subprocess.run(f\"makeblastdb -in {subject} -dbtype prot\", shell=True)\n",
    "        child_process = subprocess.run(\n",
    "            f\"blastp -query {query} -db {subject} -evalue 1e-6 -outfmt '6 qseqid sseqid pident length qlen slen' -num_threads {threads}\",\n",
    "            stdout=subprocess.PIPE,\n",
    "            shell=True\n",
    "        )\n",
    "    return child_process.stdout.decode().splitlines()"
   ]
  },
  {
   "cell_type": "code",
   "execution_count": null,
   "metadata": {},
   "outputs": [],
   "source": [
    "def match_filter(lines):\n",
    "    result = []\n",
    "    for line in lines:\n",
    "        qseqid, sseqid, pident, length, qlen, slen = line.strip().split()\n",
    "        pident, length, qlen, slen = float(pident), float(length), float(qlen), float(slen)\n",
    "        if qseqid != sseqid and pident >= 95 and .75 <= qlen/slen < 1.25 and .75 <= qlen/length < 1.25:\n",
    "            result.append((qseqid, sseqid))\n",
    "    return result"
   ]
  },
  {
   "cell_type": "code",
   "execution_count": null,
   "metadata": {},
   "outputs": [],
   "source": [
    "class SQLiteDatabase:\n",
    "    def __init__(self, database):\n",
    "        self._database_path = database\n",
    "        self._connection = sqlite3.connect(database)\n",
    "    \n",
    "    def fetch_core_genome(self):\n",
    "        return self._connection.execute(\"select * from scheme\").fetchall()\n",
    "        \n",
    "    def search(self, query):\n",
    "        sql = f\"select * from alleles where allele_id in ({','.join('?'*len(query))})\"\n",
    "        return self._connection.execute(sql, query).fetchall()\n",
    "    \n",
    "    def update(self, query):\n",
    "        sql = 'insert or replace into alleles values (?, ?)'\n",
    "        self._connection.executemany(sql, query)\n",
    "    \n",
    "    def close(self):\n",
    "        if self._connection.in_transaction:\n",
    "            self._connection.commit()\n",
    "        self._connection.close()"
   ]
  },
  {
   "cell_type": "code",
   "execution_count": null,
   "metadata": {},
   "outputs": [],
   "source": [
    "def profiling(genome, database, training_file, outfile, threads=2):\n",
    "    sqlite_db = SQLiteDatabase(database)\n",
    "    \n",
    "    gene_records = find_genes(genome, training_file)\n",
    "    search_result = sqlite_db.search([gene.id for gene in gene_records])\n",
    "    know_allele_ids = set(map(lambda x: x[0], search_result))\n",
    "    unknow_gene_records = [record for record in gene_records if record.id not in know_allele_ids]\n",
    "    core_genome_records = [SeqRecord(Seq(dna_seq).translate(table=11), id=locus_tag)\n",
    "                           for locus_tag, dna_seq in sqlite_db.fetch_core_genome()]\n",
    "    match_result = match_filter(\n",
    "        sequence_alignment(unknow_gene_records, core_genome_records, threads)\n",
    "    )\n",
    "\n",
    "    if match_result:\n",
    "        sqlite_db.update(match_result)\n",
    "    sqlite_db.close()\n",
    "    df = pd.DataFrame(search_result + match_result, columns=['allele_id', 'locus_id'])\n",
    "    df = df.sort_values('allele_id', kind='mergesort').drop_duplicates('locus_id')\n",
    "    df = df.set_index('locus_id').reindex((x.id for x in core_genome_records)).sort_index()\n",
    "    df.to_csv(outfile, sep='\\t')"
   ]
  },
  {
   "cell_type": "code",
   "execution_count": null,
   "metadata": {},
   "outputs": [],
   "source": [
    "dirpath = Path('/media/GenomicResearch/MiSeq/Listeria_monocytogenes/Analysis')\n",
    "outpath = Path('/media/GenomicResearch/MiSeq/Listeria_monocytogenes/Profile_with_AlleleDB/')"
   ]
  },
  {
   "cell_type": "code",
   "execution_count": null,
   "metadata": {},
   "outputs": [],
   "source": [
    "sqlite_db = '/media/GenomicResearch/Issue/Benga/Listeria_monocytogenes.db'\n",
    "training_file = '/media/Central_Lab_Storage/bo-han/Projects/Benga/models/Listeria_monocytogenes.trn'"
   ]
  },
  {
   "cell_type": "code",
   "execution_count": null,
   "metadata": {},
   "outputs": [],
   "source": [
    "%%time\n",
    "with Pool(64) as p:\n",
    "    try:\n",
    "        for i in dirpath.iterdir():\n",
    "            outfile = outpath/(i.name + '.tsv')\n",
    "            if outfile.exists() is False:\n",
    "                p.apply_async(profiling, (i/'contigs.fasta', sqlite_db, training_file, outfile, 1))\n",
    "        p.close()\n",
    "        p.join()\n",
    "    except KeyboardInterrupt:\n",
    "        p.terminate()"
   ]
  },
  {
   "cell_type": "code",
   "execution_count": null,
   "metadata": {},
   "outputs": [],
   "source": []
  },
  {
   "cell_type": "code",
   "execution_count": null,
   "metadata": {},
   "outputs": [],
   "source": [
    "%%time\n",
    "profiling(\n",
    "    '/media/GenomicResearch/MiSeq/Listeria_monocytogenes/Analysis/R20.0002/contigs.fasta',\n",
    "    sqlite_db, training_file, '/home/chen1i6c04/test.tsv', 1)"
   ]
  },
  {
   "cell_type": "code",
   "execution_count": null,
   "metadata": {},
   "outputs": [],
   "source": [
    "dirpath_1 = Path('/media/GenomicResearch/MiSeq/Listeria_monocytogenes/Profile_with_AlleleDB')\n",
    "dirpath_2 = Path('/media/GenomicResearch/MiSeq/Listeria_monocytogenes/Analysis/')"
   ]
  },
  {
   "cell_type": "code",
   "execution_count": null,
   "metadata": {},
   "outputs": [],
   "source": [
    "for i in dirpath_1.iterdir():\n",
    "    q = pd.read_csv(i, sep='\\t')\n",
    "    s = pd.read_csv(dirpath_2/i.stem/'profile.tsv', sep='\\t')\n",
    "    if (q.allele_id.fillna('')==s.allele_id.fillna('')).all() is False:\n",
    "        print(i.stem)"
   ]
  },
  {
   "cell_type": "code",
   "execution_count": null,
   "metadata": {},
   "outputs": [],
   "source": [
    "con = sqlite3.connect(\":memory:\")"
   ]
  },
  {
   "cell_type": "code",
   "execution_count": null,
   "metadata": {},
   "outputs": [],
   "source": [
    "con.close()"
   ]
  },
  {
   "cell_type": "code",
   "execution_count": null,
   "metadata": {},
   "outputs": [],
   "source": []
  },
  {
   "cell_type": "code",
   "execution_count": 10,
   "metadata": {},
   "outputs": [],
   "source": [
    "con = sqlite3.connect(database)"
   ]
  },
  {
   "cell_type": "code",
   "execution_count": 11,
   "metadata": {},
   "outputs": [],
   "source": [
    "cur = con.cursor()"
   ]
  },
  {
   "cell_type": "code",
   "execution_count": 12,
   "metadata": {},
   "outputs": [],
   "source": []
  },
  {
   "cell_type": "code",
   "execution_count": null,
   "metadata": {},
   "outputs": [],
   "source": []
  }
 ],
 "metadata": {
  "kernelspec": {
   "display_name": "Python 3",
   "language": "python",
   "name": "python3"
  },
  "language_info": {
   "codemirror_mode": {
    "name": "ipython",
    "version": 3
   },
   "file_extension": ".py",
   "mimetype": "text/x-python",
   "name": "python",
   "nbconvert_exporter": "python",
   "pygments_lexer": "ipython3",
   "version": "3.6.13"
  }
 },
 "nbformat": 4,
 "nbformat_minor": 4
}
