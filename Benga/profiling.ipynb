{
 "cells": [
  {
   "cell_type": "code",
   "execution_count": 1,
   "metadata": {},
   "outputs": [],
   "source": [
    "import sys\n",
    "from pathlib import Path\n",
    "from multiprocessing import Pool\n",
    "\n",
    "sys.path.append('../src')\n",
    "\n",
    "from utils import run_cmd"
   ]
  },
  {
   "cell_type": "code",
   "execution_count": 2,
   "metadata": {},
   "outputs": [],
   "source": [
    "prog = '/media/Central_Lab_Storage/bo-han/Projects/Benga-2/profiling.py'\n",
    "scheme = \"/media/GenomicResearch/Issue/Benga/Listeria_monocytogenes.faa\"\n",
    "prodigaltf = \"/media/Central_Lab_Storage/bo-han/Projects/Benga/models/Listeria_monocytogenes.trn\""
   ]
  },
  {
   "cell_type": "code",
   "execution_count": 56,
   "metadata": {},
   "outputs": [],
   "source": [
    "dirpath = Path('/media/GenomicResearch/Issue/20220215_modification_paper_data/ONT_WGS/Contigs')\n",
    "outpath = Path('/media/GenomicResearch/Issue/20220215_modification_paper_data/ONT_WGS/Profile')"
   ]
  },
  {
   "cell_type": "code",
   "execution_count": null,
   "metadata": {},
   "outputs": [],
   "source": [
    "with open('/media/Central_Lab_Storage/NcbiSRA/NCBI_Clostridium_perfringens_SRA/selected.txt') as f:\n",
    "    accs = set(f.read().split())"
   ]
  },
  {
   "cell_type": "code",
   "execution_count": 57,
   "metadata": {},
   "outputs": [
    {
     "data": {
      "text/plain": [
       "12"
      ]
     },
     "execution_count": 57,
     "metadata": {},
     "output_type": "execute_result"
    }
   ],
   "source": [
    "cmds = []\n",
    "for i in dirpath.iterdir():\n",
    "    outfile = outpath/(i.name + '.tsv')\n",
    "#     if outfile.exists() is False:\n",
    "    cmd = f\"conda run -n Benga python {prog} -i {i} -o {outfile} --scheme {scheme} --prodigaltf {prodigaltf} -t 4\"\n",
    "    cmds.append(cmd)\n",
    "len(cmds)"
   ]
  },
  {
   "cell_type": "code",
   "execution_count": 58,
   "metadata": {},
   "outputs": [],
   "source": [
    "with Pool(40) as p:\n",
    "    try:\n",
    "        p.map(run_cmd, cmds)\n",
    "        p.close()\n",
    "        p.join()\n",
    "    except KeyboardInterrupt:\n",
    "        p.terminate()"
   ]
  },
  {
   "cell_type": "code",
   "execution_count": null,
   "metadata": {},
   "outputs": [],
   "source": [
    "%%time\n",
    "asm = '/media/GenomicResearch/Issue/20210909_estimate_nanopore_depth/sim/LT2/reference.fa'\n",
    "out = '/media/GenomicResearch/Issue/20210909_estimate_nanopore_depth/sim/LT2/reference.tsv'\n",
    "!conda run -n Benga python {prog} -i {asm} -o {out} --scheme {scheme}  --prodigaltf {prodigaltf} -t 8"
   ]
  },
  {
   "cell_type": "code",
   "execution_count": null,
   "metadata": {},
   "outputs": [],
   "source": []
  }
 ],
 "metadata": {
  "kernelspec": {
   "display_name": "Python 3",
   "language": "python",
   "name": "python3"
  },
  "language_info": {
   "codemirror_mode": {
    "name": "ipython",
    "version": 3
   },
   "file_extension": ".py",
   "mimetype": "text/x-python",
   "name": "python",
   "nbconvert_exporter": "python",
   "pygments_lexer": "ipython3",
   "version": "3.6.13"
  }
 },
 "nbformat": 4,
 "nbformat_minor": 4
}
