{
 "cells": [
  {
   "cell_type": "code",
   "execution_count": 1,
   "id": "eafc59b5",
   "metadata": {},
   "outputs": [],
   "source": [
    "import sys\n",
    "from pathlib import Path\n",
    "from itertools import combinations\n",
    "from collections import Counter\n",
    "import pandas as pd\n",
    "import numpy as np\n",
    "\n",
    "sys.path.append('../src')\n",
    "from tree import PairwiseDistanceMatrix, Dendrogram"
   ]
  },
  {
   "cell_type": "code",
   "execution_count": 2,
   "id": "5ca809ef-bb81-4ca0-bc55-f5f08a484730",
   "metadata": {},
   "outputs": [],
   "source": [
    "import matplotlib.pyplot as plt\n",
    "from matplotlib.ticker import MaxNLocator\n",
    "import seaborn as sns\n",
    "from scipy.spatial.distance import squareform\n",
    "from scipy.cluster.hierarchy import linkage, fcluster\n",
    "from scipy.stats import gaussian_kde\n",
    "from sklearn.metrics import confusion_matrix, precision_recall_fscore_support"
   ]
  },
  {
   "cell_type": "code",
   "execution_count": null,
   "id": "4de4eb2c-ee28-44b1-bfa1-7d2c4b22705f",
   "metadata": {},
   "outputs": [],
   "source": []
  },
  {
   "cell_type": "code",
   "execution_count": 3,
   "id": "e8880248-719f-4ceb-848c-1d541e8c9965",
   "metadata": {},
   "outputs": [],
   "source": [
    "def find_all_profiles(dirpath):\n",
    "    return (i for i in dirpath.iterdir())\n",
    "\n",
    "def concat_profiles(all_profiles):\n",
    "    return pd.concat((pd.read_csv(profile, sep='\\t', header=0, index_col=0, names=[profile.stem]) for profile in all_profiles), axis=1)"
   ]
  },
  {
   "cell_type": "code",
   "execution_count": 4,
   "id": "77729441-ceed-4fab-8441-bab8d6c27f78",
   "metadata": {},
   "outputs": [
    {
     "data": {
      "text/plain": [
       "(1081185, 2)"
      ]
     },
     "execution_count": 4,
     "metadata": {},
     "output_type": "execute_result"
    }
   ],
   "source": [
    "with open('/media/Central_Lab_Storage/NcbiASM/Vibrio_cholerae/selected.txt') as f:\n",
    "    accs = f.read().split()\n",
    "df = pd.DataFrame(combinations(accs, 2), columns=['query', 'subject'])\n",
    "df.shape"
   ]
  },
  {
   "cell_type": "code",
   "execution_count": 6,
   "id": "9f3afe39-6d57-47f6-b469-aae0418e2f94",
   "metadata": {},
   "outputs": [],
   "source": [
    "threshold = 5"
   ]
  },
  {
   "cell_type": "code",
   "execution_count": 7,
   "id": "7535bd44-074b-484b-af0a-c7b373673fc6",
   "metadata": {},
   "outputs": [],
   "source": [
    "dirpath = Path('/media/Central_Lab_Storage/NcbiASM/Vibrio_cholerae/Profile')\n",
    "profile = concat_profiles(find_all_profiles(dirpath))\n",
    "\n",
    "distmatrix = PairwiseDistanceMatrix(profile)()\n",
    "labels = fcluster(linkage(squareform(distmatrix)), t=threshold + 1 , criterion='distance')\n",
    "cluster_map = dict(zip(distmatrix.columns, labels))\n",
    "\n",
    "df['relation_true'] = ['intra' if cluster_map[i]==cluster_map[j] else 'inter' for i, j in zip(df['query'], df['subject'])]\n",
    "df['distance_true'] = [distmatrix.at[i, j] for i, j in zip(df['query'], df['subject'])]"
   ]
  },
  {
   "cell_type": "code",
   "execution_count": 8,
   "id": "31ea3d5e-ede1-4789-a867-3d9136e810ec",
   "metadata": {},
   "outputs": [],
   "source": [
    "dirpath = Path('/media/Central_Lab_Storage/NcbiASM/Vibrio_cholerae/Profile_with_Diamond')\n",
    "profile = concat_profiles(find_all_profiles(dirpath))\n",
    "\n",
    "distmatrix = PairwiseDistanceMatrix(profile)()\n",
    "labels = fcluster(linkage(squareform(distmatrix)), t=threshold + 1, criterion='distance')\n",
    "cluster_map = dict(zip(distmatrix.columns, labels))\n",
    "\n",
    "df['relation_pred'] = ['intra' if cluster_map[i]==cluster_map[j] else 'inter' for i, j in zip(df['query'], df['subject'])]\n",
    "df['distance_pred'] = [distmatrix.at[i, j] for i, j in zip(df['query'], df['subject'])]"
   ]
  },
  {
   "cell_type": "code",
   "execution_count": 47,
   "id": "b372ae99-138d-49b3-a060-7d3c5b31465b",
   "metadata": {},
   "outputs": [],
   "source": [
    "y_true = df['relation_true']\n",
    "y_pred = df['relation_pred']\n",
    "\n",
    "cm = confusion_matrix(y_true, y_pred, labels=['intra', 'inter'])"
   ]
  },
  {
   "cell_type": "code",
   "execution_count": 51,
   "id": "827820df-836b-4393-b29a-684cc384bef7",
   "metadata": {},
   "outputs": [
    {
     "data": {
      "text/plain": [
       "(array([0.99844294, 0.99999914]),\n",
       " array([0.9978032 , 0.99999939]),\n",
       " array([0.99812297, 0.99999927]),\n",
       " array([   21850, 55888175]))"
      ]
     },
     "execution_count": 51,
     "metadata": {},
     "output_type": "execute_result"
    }
   ],
   "source": [
    "precision, recall, fbeta_score, support = precision_recall_fscore_support(y_true, y_pred, labels=['intra', 'inter'])\n",
    "precision, recall, fbeta_score, support"
   ]
  },
  {
   "cell_type": "code",
   "execution_count": 49,
   "id": "1a1e974f-b55e-46a4-b734-158f0f860744",
   "metadata": {},
   "outputs": [
    {
     "data": {
      "text/plain": [
       "[Text(0, 0.5, 'intra'), Text(0, 1.5, 'inter')]"
      ]
     },
     "execution_count": 49,
     "metadata": {},
     "output_type": "execute_result"
    },
    {
     "data": {
      "image/png": "[encoded data removed]",
      "text/plain": [
       "<Figure size 435x435 with 1 Axes>"
      ]
     },
     "metadata": {
      "needs_background": "light"
     },
     "output_type": "display_data"
    }
   ],
   "source": [
    "fig, ax = plt.subplots(figsize=(5, 5), dpi=87)\n",
    "g = sns.heatmap(\n",
    "    cm,\n",
    "    cmap='Blues',\n",
    "    ax=ax,\n",
    "    annot=True,\n",
    "    fmt='', \n",
    "    annot_kws={'fontsize':16},\n",
    "    linewidths=.8,\n",
    "    xticklabels=['intra', 'inter'],\n",
    "    yticklabels=['intra', 'inter'],\n",
    "    cbar=False\n",
    ")\n",
    "# ax.set_title('Salmonella enterica', fontsize=20)\n",
    "ax.set_xlabel('Diamond', fontsize=16)\n",
    "ax.set_ylabel('Blastp', fontsize=16)\n",
    "ax.set_xticklabels(ax.get_xmajorticklabels(), fontdict={'size': 14})\n",
    "ax.set_yticklabels(ax.get_ymajorticklabels(), fontdict={'size': 14})\n",
    "# ax.text(1.05, 0.5, f\"precision: {precision: .3f}\", transform=ax.transAxes, fontsize=16)"
   ]
  },
  {
   "cell_type": "code",
   "execution_count": 50,
   "id": "92c9ef15-0627-450a-913e-16497cc4aa9c",
   "metadata": {},
   "outputs": [],
   "source": [
    "fig.savefig('/media/GenomicResearch/Issue/blastp_vs_diamond/Sal.png', facecolor='w', dpi=300, bbox_inches='tight')"
   ]
  },
  {
   "cell_type": "code",
   "execution_count": null,
   "id": "8da92e94-dcc1-4ca6-8e05-86067165b548",
   "metadata": {},
   "outputs": [],
   "source": []
  },
  {
   "cell_type": "code",
   "execution_count": null,
   "id": "ae3f98a3-7601-499f-ae99-a5a675706000",
   "metadata": {},
   "outputs": [],
   "source": []
  },
  {
   "cell_type": "code",
   "execution_count": 12,
   "id": "c760725c-fd22-4102-9b63-8b6ee80746b0",
   "metadata": {},
   "outputs": [],
   "source": [
    "df['distance_changes'] = df['distance_pred'] - df['distance_true']"
   ]
  },
  {
   "cell_type": "code",
   "execution_count": 18,
   "id": "204aec4a-7a54-4882-b0d5-da223126f2cb",
   "metadata": {},
   "outputs": [],
   "source": [
    "df_2 = df.groupby(['distance_true', 'distance_changes']).size().reset_index().rename(columns={0: 'size'})"
   ]
  },
  {
   "cell_type": "code",
   "execution_count": 57,
   "id": "044822ff-40f0-43de-86a5-4970d6c131f0",
   "metadata": {},
   "outputs": [
    {
     "data": {
      "text/plain": [
       "<AxesSubplot:xlabel='distance_true', ylabel='distance_changes'>"
      ]
     },
     "execution_count": 57,
     "metadata": {},
     "output_type": "execute_result"
    },
    {
     "data": {
      "image/png": "[encoded data removed]",
      "text/plain": [
       "<Figure size 1152x432 with 1 Axes>"
      ]
     },
     "metadata": {
      "needs_background": "light"
     },
     "output_type": "display_data"
    }
   ],
   "source": [
    "fig, ax = plt.subplots(figsize=(16, 6))\n",
    "sns.scatterplot(\n",
    "    x='distance_true',\n",
    "    y='distance_changes',\n",
    "    size='size',\n",
    "    data=df_2[df_2['distance_true']<=100],\n",
    "    ax=ax,\n",
    "    edgecolor=None\n",
    ")"
   ]
  },
  {
   "cell_type": "code",
   "execution_count": 49,
   "id": "5d747c05-de05-4e3f-82da-d478befe8ed6",
   "metadata": {},
   "outputs": [
    {
     "data": {
      "text/html": [
       "<div>\n",
       "<style scoped>\n",
       "    .dataframe tbody tr th:only-of-type {\n",
       "        vertical-align: middle;\n",
       "    }\n",
       "\n",
       "    .dataframe tbody tr th {\n",
       "        vertical-align: top;\n",
       "    }\n",
       "\n",
       "    .dataframe thead th {\n",
       "        text-align: right;\n",
       "    }\n",
       "</style>\n",
       "<table border=\"1\" class=\"dataframe\">\n",
       "  <thead>\n",
       "    <tr style=\"text-align: right;\">\n",
       "      <th></th>\n",
       "      <th>query</th>\n",
       "      <th>subject</th>\n",
       "      <th>relation_true</th>\n",
       "      <th>distance_true</th>\n",
       "      <th>relation_pred</th>\n",
       "      <th>distance_pred</th>\n",
       "      <th>distance_changes</th>\n",
       "    </tr>\n",
       "  </thead>\n",
       "  <tbody>\n",
       "    <tr>\n",
       "      <th>13661</th>\n",
       "      <td>GCA_002098355.1</td>\n",
       "      <td>GCA_002097765.1</td>\n",
       "      <td>intra</td>\n",
       "      <td>0.0</td>\n",
       "      <td>intra</td>\n",
       "      <td>0.0</td>\n",
       "      <td>0.0</td>\n",
       "    </tr>\n",
       "    <tr>\n",
       "      <th>36796</th>\n",
       "      <td>GCA_002078795.1</td>\n",
       "      <td>GCA_002078815.1</td>\n",
       "      <td>intra</td>\n",
       "      <td>0.0</td>\n",
       "      <td>intra</td>\n",
       "      <td>0.0</td>\n",
       "      <td>0.0</td>\n",
       "    </tr>\n",
       "    <tr>\n",
       "      <th>37538</th>\n",
       "      <td>GCA_002078795.1</td>\n",
       "      <td>GCA_002078825.1</td>\n",
       "      <td>intra</td>\n",
       "      <td>0.0</td>\n",
       "      <td>intra</td>\n",
       "      <td>0.0</td>\n",
       "      <td>0.0</td>\n",
       "    </tr>\n",
       "    <tr>\n",
       "      <th>37881</th>\n",
       "      <td>GCA_002078795.1</td>\n",
       "      <td>GCA_002078715.1</td>\n",
       "      <td>intra</td>\n",
       "      <td>0.0</td>\n",
       "      <td>intra</td>\n",
       "      <td>0.0</td>\n",
       "      <td>0.0</td>\n",
       "    </tr>\n",
       "    <tr>\n",
       "      <th>53486</th>\n",
       "      <td>GCA_900604905.1</td>\n",
       "      <td>GCA_008087125.1</td>\n",
       "      <td>intra</td>\n",
       "      <td>0.0</td>\n",
       "      <td>intra</td>\n",
       "      <td>0.0</td>\n",
       "      <td>0.0</td>\n",
       "    </tr>\n",
       "    <tr>\n",
       "      <th>...</th>\n",
       "      <td>...</td>\n",
       "      <td>...</td>\n",
       "      <td>...</td>\n",
       "      <td>...</td>\n",
       "      <td>...</td>\n",
       "      <td>...</td>\n",
       "      <td>...</td>\n",
       "    </tr>\n",
       "    <tr>\n",
       "      <th>1024873</th>\n",
       "      <td>GCA_002098295.1</td>\n",
       "      <td>GCA_002098965.1</td>\n",
       "      <td>intra</td>\n",
       "      <td>0.0</td>\n",
       "      <td>intra</td>\n",
       "      <td>0.0</td>\n",
       "      <td>0.0</td>\n",
       "    </tr>\n",
       "    <tr>\n",
       "      <th>1041377</th>\n",
       "      <td>GCA_015686715.1</td>\n",
       "      <td>GCA_015686745.1</td>\n",
       "      <td>intra</td>\n",
       "      <td>0.0</td>\n",
       "      <td>intra</td>\n",
       "      <td>0.0</td>\n",
       "      <td>0.0</td>\n",
       "    </tr>\n",
       "    <tr>\n",
       "      <th>1043211</th>\n",
       "      <td>GCA_000275645.1</td>\n",
       "      <td>GCA_902385755.1</td>\n",
       "      <td>intra</td>\n",
       "      <td>0.0</td>\n",
       "      <td>intra</td>\n",
       "      <td>0.0</td>\n",
       "      <td>0.0</td>\n",
       "    </tr>\n",
       "    <tr>\n",
       "      <th>1053892</th>\n",
       "      <td>GCA_002099115.1</td>\n",
       "      <td>GCA_002098965.1</td>\n",
       "      <td>intra</td>\n",
       "      <td>0.0</td>\n",
       "      <td>intra</td>\n",
       "      <td>0.0</td>\n",
       "      <td>0.0</td>\n",
       "    </tr>\n",
       "    <tr>\n",
       "      <th>1055257</th>\n",
       "      <td>GCA_001402445.1</td>\n",
       "      <td>GCA_001402265.1</td>\n",
       "      <td>intra</td>\n",
       "      <td>0.0</td>\n",
       "      <td>intra</td>\n",
       "      <td>0.0</td>\n",
       "      <td>0.0</td>\n",
       "    </tr>\n",
       "  </tbody>\n",
       "</table>\n",
       "<p>71 rows × 7 columns</p>\n",
       "</div>"
      ],
      "text/plain": [
       "                   query          subject relation_true  distance_true  \\\n",
       "13661    GCA_002098355.1  GCA_002097765.1         intra            0.0   \n",
       "36796    GCA_002078795.1  GCA_002078815.1         intra            0.0   \n",
       "37538    GCA_002078795.1  GCA_002078825.1         intra            0.0   \n",
       "37881    GCA_002078795.1  GCA_002078715.1         intra            0.0   \n",
       "53486    GCA_900604905.1  GCA_008087125.1         intra            0.0   \n",
       "...                  ...              ...           ...            ...   \n",
       "1024873  GCA_002098295.1  GCA_002098965.1         intra            0.0   \n",
       "1041377  GCA_015686715.1  GCA_015686745.1         intra            0.0   \n",
       "1043211  GCA_000275645.1  GCA_902385755.1         intra            0.0   \n",
       "1053892  GCA_002099115.1  GCA_002098965.1         intra            0.0   \n",
       "1055257  GCA_001402445.1  GCA_001402265.1         intra            0.0   \n",
       "\n",
       "        relation_pred  distance_pred  distance_changes  \n",
       "13661           intra            0.0               0.0  \n",
       "36796           intra            0.0               0.0  \n",
       "37538           intra            0.0               0.0  \n",
       "37881           intra            0.0               0.0  \n",
       "53486           intra            0.0               0.0  \n",
       "...               ...            ...               ...  \n",
       "1024873         intra            0.0               0.0  \n",
       "1041377         intra            0.0               0.0  \n",
       "1043211         intra            0.0               0.0  \n",
       "1053892         intra            0.0               0.0  \n",
       "1055257         intra            0.0               0.0  \n",
       "\n",
       "[71 rows x 7 columns]"
      ]
     },
     "execution_count": 49,
     "metadata": {},
     "output_type": "execute_result"
    }
   ],
   "source": [
    "df[(df['distance_true']==0)&(df['distance_changes']==0)]"
   ]
  },
  {
   "cell_type": "code",
   "execution_count": null,
   "id": "4d89c9db-4e47-4d0b-9510-9d8fdfffb869",
   "metadata": {},
   "outputs": [],
   "source": []
  }
 ],
 "metadata": {
  "kernelspec": {
   "display_name": "Python 3",
   "language": "python",
   "name": "python3"
  },
  "language_info": {
   "codemirror_mode": {
    "name": "ipython",
    "version": 3
   },
   "file_extension": ".py",
   "mimetype": "text/x-python",
   "name": "python",
   "nbconvert_exporter": "python",
   "pygments_lexer": "ipython3",
   "version": "3.6.13"
  }
 },
 "nbformat": 4,
 "nbformat_minor": 5
}
