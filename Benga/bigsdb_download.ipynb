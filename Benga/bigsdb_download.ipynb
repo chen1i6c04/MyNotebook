{
 "cells": [
  {
   "cell_type": "code",
   "execution_count": 17,
   "metadata": {},
   "outputs": [],
   "source": [
    "import os\n",
    "import requests\n",
    "import pandas as pd\n",
    "from Bio import SeqIO"
   ]
  },
  {
   "cell_type": "code",
   "execution_count": 6,
   "metadata": {},
   "outputs": [],
   "source": [
    "cgmlst_scheme = pd.read_csv('/home/chen1i6c04/下載/BIGSdb_033373_1594090048_25429.txt', sep='\\t')"
   ]
  },
  {
   "cell_type": "code",
   "execution_count": 10,
   "metadata": {},
   "outputs": [],
   "source": [
    "URL = 'https://bigsdb.pasteur.fr/cgi-bin/bigsdb/bigsdb.pl'\n",
    "PARAMS = {'db': 'pubmlst_listeria_seqdef', 'page': 'downloadAlleles', 'locus': 'lmo0012'}"
   ]
  },
  {
   "cell_type": "code",
   "execution_count": 18,
   "metadata": {},
   "outputs": [],
   "source": [
    "for i in cgmlst_scheme['locus']:\n",
    "    params = PARAMS.copy()\n",
    "    params['locus'] = i\n",
    "    r = requests.get(URL, params=params)\n",
    "    with open(os.path.join('/media/NGS/Data_Analysis/BIGSdb', i+'.fa'), 'w') as f:\n",
    "        f.write(r.text)"
   ]
  },
  {
   "cell_type": "code",
   "execution_count": 21,
   "metadata": {},
   "outputs": [],
   "source": [
    "i = 'lmo2683'\n",
    "params = PARAMS.copy()\n",
    "params['locus'] = i\n",
    "r = requests.get(URL, params=params)\n",
    "with open(os.path.join('/media/NGS/Data_Analysis/BIGSdb', i+'.fa'), 'w') as f:\n",
    "    f.write(r.text)"
   ]
  },
  {
   "cell_type": "code",
   "execution_count": null,
   "metadata": {},
   "outputs": [],
   "source": []
  }
 ],
 "metadata": {
  "kernelspec": {
   "display_name": "Python 3",
   "language": "python",
   "name": "python3"
  },
  "language_info": {
   "codemirror_mode": {
    "name": "ipython",
    "version": 3
   },
   "file_extension": ".py",
   "mimetype": "text/x-python",
   "name": "python",
   "nbconvert_exporter": "python",
   "pygments_lexer": "ipython3",
   "version": "3.8.2"
  }
 },
 "nbformat": 4,
 "nbformat_minor": 4
}
