{
 "cells": [
  {
   "cell_type": "markdown",
   "metadata": {},
   "source": [
    "## workflow\n",
    "1. reads assembly with `flye`.\n",
    "2. reads polish with `racon`.\n",
    "3. reads polish with `medaka`.\n",
    "4. contigs polish with `homopolish`."
   ]
  },
  {
   "cell_type": "code",
   "execution_count": 1,
   "metadata": {},
   "outputs": [],
   "source": [
    "import os\n",
    "import shutil\n",
    "import string\n",
    "import random\n",
    "import subprocess\n",
    "from io import BytesIO\n",
    "from pathlib import Path\n",
    "from multiprocessing import Pool\n",
    "from tempfile import TemporaryDirectory\n",
    "\n",
    "import docker"
   ]
  },
  {
   "cell_type": "code",
   "execution_count": 2,
   "metadata": {},
   "outputs": [],
   "source": [
    "import sys\n",
    "sys.path.append('../src')\n",
    "\n",
    "from utils import run_cmd"
   ]
  },
  {
   "cell_type": "code",
   "execution_count": 3,
   "metadata": {},
   "outputs": [],
   "source": [
    "def filter_read(infile, outfile, reference):\n",
    "    run_cmd(f\"nanoq -q 7 -l 50 -f {infile} | NanoLyse -r {reference} > {outfile}\", False, False)\n",
    "\n",
    "def flye_assembly(infile, outdir, threads, is_meta=False):\n",
    "    cmd = ['flye', '--nano-raw', infile, '-o', outdir, '-t', threads, '--plasmids']\n",
    "    if is_meta:\n",
    "        cmd.append('--meta')\n",
    "    cmd = ' '.join(str(term) for term in cmd)      \n",
    "    run_cmd(cmd)\n",
    "\n",
    "def racon_polish(fastq, fasta, outfile, threads):\n",
    "    prefix = ''.join(random.sample(string.digits + string.ascii_letters, 20))\n",
    "    paf_file = os.path.join('/tmp/', prefix + '_minimap2.paf')\n",
    "    run_cmd(f'minimap2 -x map-ont -t {threads} {fasta} {fastq} > {paf_file}')\n",
    "    run_cmd(f'racon -m 8 -x -6 -g -8 -t {threads} {fastq} {paf_file} {fasta} > {outfile}')\n",
    "    os.remove(paf_file)\n",
    "\n",
    "def homopolish_polish(infile, outdir, model, mash_sketch, threads, meta=''):\n",
    "    os.makedirs(outdir, exist_ok=True)\n",
    "    prog = '/home/chen1i6c04/Tools/homopolish/homopolish.py'\n",
    "    log_file = os.path.join(outdir, 'homopolish.log')\n",
    "    if meta:\n",
    "        cmd = f'conda run -n homopolish python {prog} polish '\\\n",
    "              f'-a {infile} -m {model} -s {mash_sketch} -o {outdir} -t {threads} --meta > {log_file} 2>&1'\n",
    "    else:\n",
    "        cmd = f'conda run -n homopolish python {prog} polish '\\\n",
    "              f'-a {infile} -m {model} -s {mash_sketch} -o {outdir} -t {threads} > {log_file} 2>&1'\n",
    "    run_cmd(cmd)\n",
    "\n",
    "def docker_execute(image, volumes, command):\n",
    "    client = docker.from_env()\n",
    "    client.containers.run(\n",
    "        image=image,\n",
    "        command=command,\n",
    "        remove=True,\n",
    "        stderr=True,\n",
    "        tty=True,\n",
    "        volumes=volumes,\n",
    "        user=os.getuid(),\n",
    "    )\n",
    "    client.close()\n",
    "\n",
    "def medaka_polish(basecalls, assembly, outdir, model='r941_min_high_g360', threads=8):\n",
    "    basecalls_dir, basecalls_filename = os.path.split(basecalls)\n",
    "    assembly_dir, assembly_filename = os.path.split(assembly)\n",
    "    volumes = {\n",
    "        basecalls_dir: {'bind': '/basecalls_dir', 'mode': 'rw'},\n",
    "        assembly_dir: {'bind': '/assembly_dir', 'mode': 'rw'},\n",
    "        outdir: {'bind': '/data', 'mode': 'rw'}}\n",
    "    docker_command = f\"medaka_consensus -i /basecalls_dir/{basecalls_filename} -d /assembly_dir/{assembly_filename} -o medaka -t {threads} -m {model}\"\n",
    "    docker_execute('medaka:v1.2.3', volumes, docker_command)"
   ]
  },
  {
   "cell_type": "code",
   "execution_count": 4,
   "metadata": {},
   "outputs": [],
   "source": [
    "def workflow(basecalls, outdir, medaka_model='r941_min_high_g360', threads=8, is_meta=False, host_genome=\"\"):\n",
    "    os.makedirs(outdir, exist_ok=True)\n",
    "    filtered_basecalls = os.path.join(outdir, 'filtefed_reads.fastq')\n",
    "    \n",
    "    # filtering sequences quality and length\n",
    "    filter_read(basecalls, filtered_basecalls, host_genome)\n",
    "    \n",
    "    # denovo assembly\n",
    "    flye_dir = os.path.join(outdir, 'flye')\n",
    "    flye_output = os.path.join(flye_dir, 'assembly.fasta')\n",
    "    flye_assembly(filtered_basecalls, flye_dir, threads, is_meta=is_meta)\n",
    "    if os.path.exists(flye_output) is False:\n",
    "        os.remove(filtered_basecalls)\n",
    "        raise\n",
    "    \n",
    "    # first polish with racon\n",
    "    racon_output = os.path.join(outdir, 'racon.fasta')\n",
    "    racon_polish(filtered_basecalls, flye_output, racon_output, threads)\n",
    "    \n",
    "    \n",
    "    # run medaka with docker container\n",
    "    medaka_dir = os.path.join(outdir, 'medaka')\n",
    "    medaka_polish(filtered_basecalls, racon_output, outdir)\n",
    "    \n",
    "    medaka_output = os.path.join(medaka_dir, 'consensus.fasta')\n",
    "    homopolish_input = os.path.join(outdir, 'medaka.fasta')\n",
    "    shutil.copyfile(medaka_output, homopolish_input)\n",
    "    shutil.rmtree(medaka_dir)\n",
    "    os.remove(racon_output + '.fai')\n",
    "    os.remove(racon_output + '.mmi')\n",
    "    os.remove(sub_basecalls)\n",
    "    \n",
    "    # correcte system error of nanopore with homopolish\n",
    "    homopolish_dir = os.path.join(outdir, 'homopolish')\n",
    "    homopolish_polish(\n",
    "        homopolish_input,\n",
    "        homopolish_dir,\n",
    "        '/home/chen1i6c04/Tools/homopolish/R9.4.pkl',\n",
    "        '/home/chen1i6c04/Tools/homopolish/bacteria.msh',\n",
    "        threads\n",
    "    )\n",
    "    \n",
    "    homopolish_output = os.path.join(homopolish_dir, 'medaka_homopolished.fasta')\n",
    "    result_output = os.path.join(outdir, 'assembly.fasta')\n",
    "    shutil.copyfile(homopolish_output, result_output)\n",
    "    shutil.rmtree(homopolish_dir)"
   ]
  },
  {
   "cell_type": "code",
   "execution_count": 5,
   "metadata": {},
   "outputs": [
    {
     "ename": "ContainerError",
     "evalue": "Command 'medaka_consensus -i /basecalls_dir/filtefed_reads.fastq -d /assembly_dir/racon.fasta -o medaka -t 8 -m r941_min_high_g360' in image 'medaka:v1.2.3' returned non-zero exit status 1: b''",
     "output_type": "error",
     "traceback": [
      "\u001b[0;31m---------------------------------------------------------------------------\u001b[0m",
      "\u001b[0;31mContainerError\u001b[0m                            Traceback (most recent call last)",
      "\u001b[0;32m<ipython-input-5-1fdf0d363420>\u001b[0m in \u001b[0;36m<module>\u001b[0;34m\u001b[0m\n\u001b[1;32m      2\u001b[0m     \u001b[0;34m'/media/NGS/Nanopore_1/mNGS/20210507_clBC/time_filt/fastq/barcode06_2h.fastq'\u001b[0m\u001b[0;34m,\u001b[0m\u001b[0;34m\u001b[0m\u001b[0;34m\u001b[0m\u001b[0m\n\u001b[1;32m      3\u001b[0m     \u001b[0;34m'/media/NGS/Nanopore_1/mNGS/20210507_clBC/time_filt/denovo'\u001b[0m\u001b[0;34m,\u001b[0m \u001b[0mis_meta\u001b[0m\u001b[0;34m=\u001b[0m\u001b[0;32mTrue\u001b[0m\u001b[0;34m,\u001b[0m\u001b[0;34m\u001b[0m\u001b[0;34m\u001b[0m\u001b[0m\n\u001b[0;32m----> 4\u001b[0;31m     \u001b[0mthreads\u001b[0m\u001b[0;34m=\u001b[0m\u001b[0;36m48\u001b[0m\u001b[0;34m,\u001b[0m \u001b[0mhost_genome\u001b[0m\u001b[0;34m=\u001b[0m\u001b[0;34m\"/media/NGS/Sequence/GRCh38_genomic\"\u001b[0m\u001b[0;34m\u001b[0m\u001b[0;34m\u001b[0m\u001b[0m\n\u001b[0m\u001b[1;32m      5\u001b[0m )\n",
      "\u001b[0;32m<ipython-input-4-c822558a0cc3>\u001b[0m in \u001b[0;36mworkflow\u001b[0;34m(basecalls, outdir, medaka_model, threads, is_meta, host_genome)\u001b[0m\n\u001b[1;32m     21\u001b[0m     \u001b[0;31m# run medaka with docker container\u001b[0m\u001b[0;34m\u001b[0m\u001b[0;34m\u001b[0m\u001b[0;34m\u001b[0m\u001b[0m\n\u001b[1;32m     22\u001b[0m     \u001b[0mmedaka_dir\u001b[0m \u001b[0;34m=\u001b[0m \u001b[0mos\u001b[0m\u001b[0;34m.\u001b[0m\u001b[0mpath\u001b[0m\u001b[0;34m.\u001b[0m\u001b[0mjoin\u001b[0m\u001b[0;34m(\u001b[0m\u001b[0moutdir\u001b[0m\u001b[0;34m,\u001b[0m \u001b[0;34m'medaka'\u001b[0m\u001b[0;34m)\u001b[0m\u001b[0;34m\u001b[0m\u001b[0;34m\u001b[0m\u001b[0m\n\u001b[0;32m---> 23\u001b[0;31m     \u001b[0mmedaka_polish\u001b[0m\u001b[0;34m(\u001b[0m\u001b[0mfiltered_basecalls\u001b[0m\u001b[0;34m,\u001b[0m \u001b[0mracon_output\u001b[0m\u001b[0;34m,\u001b[0m \u001b[0moutdir\u001b[0m\u001b[0;34m)\u001b[0m\u001b[0;34m\u001b[0m\u001b[0;34m\u001b[0m\u001b[0m\n\u001b[0m\u001b[1;32m     24\u001b[0m \u001b[0;34m\u001b[0m\u001b[0m\n\u001b[1;32m     25\u001b[0m     \u001b[0mmedaka_output\u001b[0m \u001b[0;34m=\u001b[0m \u001b[0mos\u001b[0m\u001b[0;34m.\u001b[0m\u001b[0mpath\u001b[0m\u001b[0;34m.\u001b[0m\u001b[0mjoin\u001b[0m\u001b[0;34m(\u001b[0m\u001b[0mmedaka_dir\u001b[0m\u001b[0;34m,\u001b[0m \u001b[0;34m'consensus.fasta'\u001b[0m\u001b[0;34m)\u001b[0m\u001b[0;34m\u001b[0m\u001b[0;34m\u001b[0m\u001b[0m\n",
      "\u001b[0;32m<ipython-input-3-9ed917140adf>\u001b[0m in \u001b[0;36mmedaka_polish\u001b[0;34m(basecalls, assembly, outdir, model, threads)\u001b[0m\n\u001b[1;32m     49\u001b[0m         outdir: {'bind': '/data', 'mode': 'rw'}}\n\u001b[1;32m     50\u001b[0m     \u001b[0mdocker_command\u001b[0m \u001b[0;34m=\u001b[0m \u001b[0;34mf\"medaka_consensus -i /basecalls_dir/{basecalls_filename} -d /assembly_dir/{assembly_filename} -o medaka -t {threads} -m {model}\"\u001b[0m\u001b[0;34m\u001b[0m\u001b[0;34m\u001b[0m\u001b[0m\n\u001b[0;32m---> 51\u001b[0;31m     \u001b[0mdocker_execute\u001b[0m\u001b[0;34m(\u001b[0m\u001b[0;34m'medaka:v1.2.3'\u001b[0m\u001b[0;34m,\u001b[0m \u001b[0mvolumes\u001b[0m\u001b[0;34m,\u001b[0m \u001b[0mdocker_command\u001b[0m\u001b[0;34m)\u001b[0m\u001b[0;34m\u001b[0m\u001b[0;34m\u001b[0m\u001b[0m\n\u001b[0m",
      "\u001b[0;32m<ipython-input-3-9ed917140adf>\u001b[0m in \u001b[0;36mdocker_execute\u001b[0;34m(image, volumes, command)\u001b[0m\n\u001b[1;32m     37\u001b[0m         \u001b[0mtty\u001b[0m\u001b[0;34m=\u001b[0m\u001b[0;32mTrue\u001b[0m\u001b[0;34m,\u001b[0m\u001b[0;34m\u001b[0m\u001b[0;34m\u001b[0m\u001b[0m\n\u001b[1;32m     38\u001b[0m         \u001b[0mvolumes\u001b[0m\u001b[0;34m=\u001b[0m\u001b[0mvolumes\u001b[0m\u001b[0;34m,\u001b[0m\u001b[0;34m\u001b[0m\u001b[0;34m\u001b[0m\u001b[0m\n\u001b[0;32m---> 39\u001b[0;31m         \u001b[0muser\u001b[0m\u001b[0;34m=\u001b[0m\u001b[0mos\u001b[0m\u001b[0;34m.\u001b[0m\u001b[0mgetuid\u001b[0m\u001b[0;34m(\u001b[0m\u001b[0;34m)\u001b[0m\u001b[0;34m,\u001b[0m\u001b[0;34m\u001b[0m\u001b[0;34m\u001b[0m\u001b[0m\n\u001b[0m\u001b[1;32m     40\u001b[0m     )\n\u001b[1;32m     41\u001b[0m     \u001b[0mclient\u001b[0m\u001b[0;34m.\u001b[0m\u001b[0mclose\u001b[0m\u001b[0;34m(\u001b[0m\u001b[0;34m)\u001b[0m\u001b[0;34m\u001b[0m\u001b[0;34m\u001b[0m\u001b[0m\n",
      "\u001b[0;32m~/miniconda3/envs/py36/lib/python3.6/site-packages/docker/models/containers.py\u001b[0m in \u001b[0;36mrun\u001b[0;34m(self, image, command, stdout, stderr, remove, **kwargs)\u001b[0m\n\u001b[1;32m    839\u001b[0m         \u001b[0;32mif\u001b[0m \u001b[0mexit_status\u001b[0m \u001b[0;34m!=\u001b[0m \u001b[0;36m0\u001b[0m\u001b[0;34m:\u001b[0m\u001b[0;34m\u001b[0m\u001b[0;34m\u001b[0m\u001b[0m\n\u001b[1;32m    840\u001b[0m             raise ContainerError(\n\u001b[0;32m--> 841\u001b[0;31m                 \u001b[0mcontainer\u001b[0m\u001b[0;34m,\u001b[0m \u001b[0mexit_status\u001b[0m\u001b[0;34m,\u001b[0m \u001b[0mcommand\u001b[0m\u001b[0;34m,\u001b[0m \u001b[0mimage\u001b[0m\u001b[0;34m,\u001b[0m \u001b[0mout\u001b[0m\u001b[0;34m\u001b[0m\u001b[0;34m\u001b[0m\u001b[0m\n\u001b[0m\u001b[1;32m    842\u001b[0m             )\n\u001b[1;32m    843\u001b[0m \u001b[0;34m\u001b[0m\u001b[0m\n",
      "\u001b[0;31mContainerError\u001b[0m: Command 'medaka_consensus -i /basecalls_dir/filtefed_reads.fastq -d /assembly_dir/racon.fasta -o medaka -t 8 -m r941_min_high_g360' in image 'medaka:v1.2.3' returned non-zero exit status 1: b''"
     ]
    }
   ],
   "source": [
    "workflow(\n",
    "    '/media/NGS/Nanopore_1/mNGS/20210507_clBC/time_filt/fastq/barcode06_2h.fastq',\n",
    "    '/media/NGS/Nanopore_1/mNGS/20210507_clBC/time_filt/denovo', is_meta=True,\n",
    "    threads=48, host_genome=\"/media/NGS/Sequence/GRCh38_genomic\"\n",
    ")"
   ]
  },
  {
   "cell_type": "code",
   "execution_count": null,
   "metadata": {},
   "outputs": [],
   "source": [
    "dirpath = Path('/media/NGS/Nanopore_1/mNGS/20210507_clBC/QC')\n",
    "outpath = Path('/media/NGS/Nanopore_1/mNGS/20210507_clBC/denovo')"
   ]
  },
  {
   "cell_type": "code",
   "execution_count": null,
   "metadata": {},
   "outputs": [],
   "source": [
    "with Pool(4) as p:\n",
    "    try:\n",
    "        for filepath in dirpath.iterdir():\n",
    "            outdir = outpath/filepath.stem\n",
    "            if not outdir.exists():\n",
    "                p.apply_async(workflow, args=(filepath, outdir), kwds={'threads': 8, 'is_meta': True})\n",
    "        p.close()\n",
    "        p.join()\n",
    "    except:\n",
    "        p.terminate()"
   ]
  },
  {
   "cell_type": "code",
   "execution_count": null,
   "metadata": {},
   "outputs": [],
   "source": [
    "dirpath = Path('/media/NGS/Nanopore_1/mNGS/20210507_clBC/denovo')\n",
    "outpath = Path('/media/NGS/Nanopore_1/mNGS/20210507_clBC/contigs')"
   ]
  },
  {
   "cell_type": "code",
   "execution_count": null,
   "metadata": {},
   "outputs": [],
   "source": [
    "for i in dirpath.iterdir():\n",
    "    src_file = i/'assembly.fasta'\n",
    "    dst_file = outpath/(i.name + '.fasta')\n",
    "    if src_file.exists():\n",
    "        shutil.copyfile(src_file, dst_file)"
   ]
  },
  {
   "cell_type": "code",
   "execution_count": null,
   "metadata": {},
   "outputs": [],
   "source": []
  },
  {
   "cell_type": "code",
   "execution_count": null,
   "metadata": {},
   "outputs": [],
   "source": []
  }
 ],
 "metadata": {
  "kernelspec": {
   "display_name": "Python 3",
   "language": "python",
   "name": "python3"
  },
  "language_info": {
   "codemirror_mode": {
    "name": "ipython",
    "version": 3
   },
   "file_extension": ".py",
   "mimetype": "text/x-python",
   "name": "python",
   "nbconvert_exporter": "python",
   "pygments_lexer": "ipython3",
   "version": "3.6.12"
  }
 },
 "nbformat": 4,
 "nbformat_minor": 4
}
