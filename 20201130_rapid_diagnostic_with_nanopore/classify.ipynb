{
 "cells": [
  {
   "cell_type": "code",
   "execution_count": 1,
   "id": "1b4dc596",
   "metadata": {},
   "outputs": [],
   "source": [
    "import os\n",
    "import sys\n",
    "from pathlib import Path\n",
    "from multiprocessing import Pool\n",
    "from concurrent.futures import ProcessPoolExecutor\n",
    "import pandas as pd"
   ]
  },
  {
   "cell_type": "markdown",
   "id": "8c4dc438-f1c8-4376-8232-05ec4332b502",
   "metadata": {},
   "source": [
    "# in difference datasize"
   ]
  },
  {
   "cell_type": "code",
   "execution_count": 2,
   "id": "a056d3c7-85af-4ca4-823e-da0f712d338f",
   "metadata": {},
   "outputs": [],
   "source": [
    "dirpath = Path('/media/Central_Lab_Storage/MinION/mNGS/20211006_CMUH/DataSizeFilt/centrifuge')"
   ]
  },
  {
   "cell_type": "code",
   "execution_count": 55,
   "id": "00b9291b-d3ad-489e-9b12-fe17b2f3cc64",
   "metadata": {},
   "outputs": [],
   "source": [
    "target = 'Staphylococcus epidermidis'"
   ]
  },
  {
   "cell_type": "code",
   "execution_count": 56,
   "id": "eb977603-baa0-475f-b48d-dc7e8c12cf4a",
   "metadata": {},
   "outputs": [],
   "source": [
    "percentage = []\n",
    "for i in dirpath.glob('barcode10*kreport.txt'):\n",
    "    df = pd.read_csv(i, sep='\\t', header=None)\n",
    "    df[5] = df[5].str.strip()\n",
    "    for idx, row in df.iterrows():\n",
    "        if row[5] == target:\n",
    "            percentage.append((i.stem.split('_')[0], row[0]))"
   ]
  },
  {
   "cell_type": "code",
   "execution_count": 57,
   "id": "7569dbfe-6e2e-4ddc-a353-df849f7d6ffb",
   "metadata": {},
   "outputs": [
    {
     "data": {
      "text/html": [
       "<div>\n",
       "<style scoped>\n",
       "    .dataframe tbody tr th:only-of-type {\n",
       "        vertical-align: middle;\n",
       "    }\n",
       "\n",
       "    .dataframe tbody tr th {\n",
       "        vertical-align: top;\n",
       "    }\n",
       "\n",
       "    .dataframe thead th {\n",
       "        text-align: right;\n",
       "    }\n",
       "</style>\n",
       "<table border=\"1\" class=\"dataframe\">\n",
       "  <thead>\n",
       "    <tr style=\"text-align: right;\">\n",
       "      <th></th>\n",
       "      <th>Size(MB)</th>\n",
       "      <th>Percentage</th>\n",
       "    </tr>\n",
       "  </thead>\n",
       "  <tbody>\n",
       "    <tr>\n",
       "      <th>0</th>\n",
       "      <td>1</td>\n",
       "      <td>75.54</td>\n",
       "    </tr>\n",
       "    <tr>\n",
       "      <th>1</th>\n",
       "      <td>4</td>\n",
       "      <td>79.38</td>\n",
       "    </tr>\n",
       "    <tr>\n",
       "      <th>2</th>\n",
       "      <td>9</td>\n",
       "      <td>82.10</td>\n",
       "    </tr>\n",
       "    <tr>\n",
       "      <th>3</th>\n",
       "      <td>16</td>\n",
       "      <td>82.11</td>\n",
       "    </tr>\n",
       "    <tr>\n",
       "      <th>4</th>\n",
       "      <td>25</td>\n",
       "      <td>81.28</td>\n",
       "    </tr>\n",
       "    <tr>\n",
       "      <th>5</th>\n",
       "      <td>36</td>\n",
       "      <td>80.97</td>\n",
       "    </tr>\n",
       "  </tbody>\n",
       "</table>\n",
       "</div>"
      ],
      "text/plain": [
       "   Size(MB)  Percentage\n",
       "0         1       75.54\n",
       "1         4       79.38\n",
       "2         9       82.10\n",
       "3        16       82.11\n",
       "4        25       81.28\n",
       "5        36       80.97"
      ]
     },
     "execution_count": 57,
     "metadata": {},
     "output_type": "execute_result"
    }
   ],
   "source": [
    "df = pd.DataFrame(percentage, columns=['Size(MB)', 'Percentage'])\n",
    "df['Size(MB)'] = df['Size(MB)'].str.extract('(\\d+)MB').astype(int)\n",
    "df = df.sort_values('Size(MB)')\n",
    "df"
   ]
  },
  {
   "cell_type": "code",
   "execution_count": 58,
   "id": "ff5b718b-1e2c-407a-b130-a8782505ee86",
   "metadata": {},
   "outputs": [],
   "source": [
    "df.to_csv('/media/Central_Lab_Storage/MinION/mNGS/20211006_CMUH/DataSizeFilt/barcode10_classify.txt', sep='\\t', index=False)"
   ]
  },
  {
   "cell_type": "code",
   "execution_count": null,
   "id": "0cd1435c-0a10-4b88-b4d9-08104dae267b",
   "metadata": {},
   "outputs": [],
   "source": []
  }
 ],
 "metadata": {
  "kernelspec": {
   "display_name": "Python 3",
   "language": "python",
   "name": "python3"
  },
  "language_info": {
   "codemirror_mode": {
    "name": "ipython",
    "version": 3
   },
   "file_extension": ".py",
   "mimetype": "text/x-python",
   "name": "python",
   "nbconvert_exporter": "python",
   "pygments_lexer": "ipython3",
   "version": "3.6.13"
  }
 },
 "nbformat": 4,
 "nbformat_minor": 5
}
