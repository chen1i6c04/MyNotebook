{
 "cells": [
  {
   "cell_type": "code",
   "execution_count": 1,
   "id": "13b7d27c",
   "metadata": {},
   "outputs": [],
   "source": [
    "from Bio import SeqIO"
   ]
  },
  {
   "cell_type": "code",
   "execution_count": 2,
   "id": "440a88df",
   "metadata": {},
   "outputs": [],
   "source": [
    "traget_bases_number = 100000000"
   ]
  },
  {
   "cell_type": "code",
   "execution_count": 38,
   "id": "ec88d672",
   "metadata": {},
   "outputs": [],
   "source": [
    "host_bases_percentage = 0 # variable\n",
    "traget_bases_percentage = 100 - host_bases_percentage"
   ]
  },
  {
   "cell_type": "code",
   "execution_count": 39,
   "id": "1520dac5",
   "metadata": {},
   "outputs": [
    {
     "data": {
      "text/plain": [
       "100000000.0"
      ]
     },
     "execution_count": 39,
     "metadata": {},
     "output_type": "execute_result"
    }
   ],
   "source": [
    "final_bases_number = traget_bases_number/(traget_bases_percentage/100)\n",
    "final_bases_number"
   ]
  },
  {
   "cell_type": "code",
   "execution_count": 40,
   "id": "6ab51e83",
   "metadata": {},
   "outputs": [
    {
     "data": {
      "text/plain": [
       "0.0"
      ]
     },
     "execution_count": 40,
     "metadata": {},
     "output_type": "execute_result"
    }
   ],
   "source": [
    "host_bases_number = final_bases_number - traget_bases_number\n",
    "host_bases_number"
   ]
  },
  {
   "cell_type": "code",
   "execution_count": 41,
   "id": "9b296a66",
   "metadata": {},
   "outputs": [],
   "source": [
    "target_sequences_file = '/media/NGS/Data_Analysis/20201130_rapid_diagnostic_with_nanopore/host_contamination_samples/experiment-2/Enterococcus_hormaechei.fastq'\n",
    "host_sequences_file = '/media/NGS/Data_Analysis/20201130_rapid_diagnostic_with_nanopore/host_contamination_samples/Homo_sapiens_simulation.fastq'"
   ]
  },
  {
   "cell_type": "code",
   "execution_count": 42,
   "id": "7db6a6f1",
   "metadata": {},
   "outputs": [
    {
     "data": {
      "text/plain": [
       "'/media/NGS/Data_Analysis/20201130_rapid_diagnostic_with_nanopore/host_contamination_samples/experiment-2/fastq/host_0.fastq'"
      ]
     },
     "execution_count": 42,
     "metadata": {},
     "output_type": "execute_result"
    }
   ],
   "source": [
    "outfile = f'/media/NGS/Data_Analysis/20201130_rapid_diagnostic_with_nanopore/host_contamination_samples/experiment-2/fastq/host_{host_bases_percentage}.fastq'\n",
    "outfile"
   ]
  },
  {
   "cell_type": "code",
   "execution_count": 43,
   "id": "e874bb00",
   "metadata": {},
   "outputs": [],
   "source": [
    "!cat {target_sequences_file} >> {outfile}"
   ]
  },
  {
   "cell_type": "code",
   "execution_count": 44,
   "id": "4c6342e9",
   "metadata": {},
   "outputs": [],
   "source": [
    "count = 0\n",
    "f = open(outfile, 'a')\n",
    "for record in SeqIO.parse(host_sequences_file, 'fastq'):\n",
    "    if count < host_bases_number:\n",
    "        f.write(record.format('fastq'))\n",
    "        count += len(record.seq)\n",
    "    else:\n",
    "        break\n",
    "f.close()"
   ]
  },
  {
   "cell_type": "code",
   "execution_count": null,
   "id": "b6d714a0",
   "metadata": {},
   "outputs": [],
   "source": []
  },
  {
   "cell_type": "code",
   "execution_count": null,
   "id": "bf5c8f10",
   "metadata": {},
   "outputs": [],
   "source": []
  }
 ],
 "metadata": {
  "kernelspec": {
   "display_name": "Python 3",
   "language": "python",
   "name": "python3"
  },
  "language_info": {
   "codemirror_mode": {
    "name": "ipython",
    "version": 3
   },
   "file_extension": ".py",
   "mimetype": "text/x-python",
   "name": "python",
   "nbconvert_exporter": "python",
   "pygments_lexer": "ipython3",
   "version": "3.6.12"
  }
 },
 "nbformat": 4,
 "nbformat_minor": 5
}
