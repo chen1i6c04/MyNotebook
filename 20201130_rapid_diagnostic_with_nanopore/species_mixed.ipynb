{
 "cells": [
  {
   "cell_type": "code",
   "execution_count": 1,
   "id": "0bd77fa4",
   "metadata": {},
   "outputs": [],
   "source": [
    "from io import BytesIO\n",
    "from pathlib import Path\n",
    "from itertools import chain\n",
    "\n",
    "import pandas as pd\n",
    "from Bio import SeqIO"
   ]
  },
  {
   "cell_type": "code",
   "execution_count": 2,
   "id": "97f11294",
   "metadata": {},
   "outputs": [],
   "source": [
    "import sys\n",
    "sys.path.append('../src')\n",
    "from utils import run_cmd"
   ]
  },
  {
   "cell_type": "code",
   "execution_count": 3,
   "id": "2c174428",
   "metadata": {},
   "outputs": [],
   "source": [
    "def extract_sequence_by_id(input_path, id_list, output_file, seq_id_prefix=''):\n",
    "    id_list = set(id_list)\n",
    "    input_path = Path(input_path)\n",
    "    if input_path.is_file():\n",
    "        records = SeqIO.parse(input_path, 'fastq')\n",
    "    else:\n",
    "        records = chain.from_iterable(SeqIO.parse(filepath, 'fastq') for filepath in input_path.glob('*.fastq'))\n",
    "    with open(output_file, 'a') as f:\n",
    "        for record in records:\n",
    "            if record.id in id_list:\n",
    "                record.id = seq_id_prefix + record.id\n",
    "                f.write(record.format('fastq'))\n",
    "\n",
    "def fx2tab(input_path):\n",
    "    \"\"\"\n",
    "    convert FASTQ to tabular format\n",
    "    \"\"\"\n",
    "    input_path = Path(input_path)\n",
    "    if input_path.is_file():\n",
    "        child_process = run_cmd(f\"seqkit fx2tab -inl -j 8 {input_path}\") # only ID and length\n",
    "    else:\n",
    "        child_process = run_cmd(f\"seqkit fx2tab -inl -j 8 {input_path/'*.fastq'}\")\n",
    "    df = pd.read_csv(BytesIO(child_process.stdout), sep='\\t', names=['id', 'length'])\n",
    "    return df\n",
    "\n",
    "def keep_sequence_by_bases_number(input_path, numbases):\n",
    "    table = fx2tab(input_path)\n",
    "    table = table.sample(frac=1) # random shuffle\n",
    "    keep_reads_id = []\n",
    "    count = 0\n",
    "    for read_id, read_length in zip(table['id'], table['length']):\n",
    "        if count < numbases:\n",
    "            keep_reads_id.append(read_id)\n",
    "            count += read_length\n",
    "        else:\n",
    "            break\n",
    "    return set(keep_reads_id)"
   ]
  },
  {
   "cell_type": "code",
   "execution_count": 4,
   "id": "30b4ab08",
   "metadata": {},
   "outputs": [],
   "source": [
    "final_bases_number = 100000000"
   ]
  },
  {
   "cell_type": "code",
   "execution_count": 5,
   "id": "0e33274c",
   "metadata": {},
   "outputs": [],
   "source": [
    "genome_1_input = Path('/media/NAS/NanoporeOutput/20210414_Bacteria/Barcode/barcode01')\n",
    "genome_2_input = Path('/media/NAS/NanoporeOutput/20210414_Bacteria/Barcode/barcode02')"
   ]
  },
  {
   "cell_type": "code",
   "execution_count": 6,
   "id": "9dfd3fa8",
   "metadata": {},
   "outputs": [],
   "source": [
    "genome_1_bases_percentage = 0\n",
    "genome_2_bases_percentage = 100"
   ]
  },
  {
   "cell_type": "code",
   "execution_count": 7,
   "id": "0e01c1f7",
   "metadata": {},
   "outputs": [
    {
     "data": {
      "text/plain": [
       "'/media/NGS/Data_Analysis/20201130_rapid_diagnostic_with_nanopore/host_contamination_samples/experiment-2/Enterococcus_hormaechei.fastq'"
      ]
     },
     "execution_count": 7,
     "metadata": {},
     "output_type": "execute_result"
    }
   ],
   "source": [
    "output_file = f'/media/NGS/Data_Analysis/20201130_rapid_diagnostic_with_nanopore/host_contamination_samples/experiment-2/Enterococcus_hormaechei.fastq'\n",
    "output_file"
   ]
  },
  {
   "cell_type": "code",
   "execution_count": 8,
   "id": "386ef4d4",
   "metadata": {},
   "outputs": [],
   "source": [
    "numbases = genome_1_bases_percentage/100 * final_bases_number\n",
    "genome_1_keep_read_ids = keep_sequence_by_bases_number(genome_1_input, numbases)\n",
    "\n",
    "extract_sequence_by_id(genome_1_input, genome_1_keep_read_ids, output_file, 'THU25713455-')\n",
    "\n",
    "numbases = genome_2_bases_percentage/100 * final_bases_number\n",
    "genome_2_keep_read_ids = keep_sequence_by_bases_number(genome_2_input, numbases)\n",
    "\n",
    "extract_sequence_by_id(genome_2_input, genome_2_keep_read_ids, output_file, 'TUECL19004-')"
   ]
  },
  {
   "cell_type": "code",
   "execution_count": null,
   "id": "df5aa169",
   "metadata": {},
   "outputs": [],
   "source": [
    "\n",
    "\n",
    "\n",
    "\n"
   ]
  },
  {
   "cell_type": "code",
   "execution_count": null,
   "id": "2f101f63",
   "metadata": {},
   "outputs": [],
   "source": [
    "genome_1_seqfile = \"/media/NGS/Nanopore_1/20190917_R19_2839/2_unicycler/assembly.fasta\"\n",
    "genome_1_gsize = sum(len(record.seq) for record in SeqIO.parse(genome_1_seqfile, 'fasta'))"
   ]
  },
  {
   "cell_type": "code",
   "execution_count": null,
   "id": "38f10a4c",
   "metadata": {},
   "outputs": [],
   "source": [
    "genome_2_seqfile = \"/media/NGS/Nanopore_1/20200923/contigs/AMR200035.fa\"\n",
    "genome_2_gsize = sum(len(record.seq) for record in SeqIO.parse(genome_2_seqfile, 'fasta'))"
   ]
  },
  {
   "cell_type": "code",
   "execution_count": null,
   "id": "9959b3c4",
   "metadata": {},
   "outputs": [],
   "source": [
    "dirpath = Path('/media/NGS/Data_Analysis/20201130_rapid_diagnostic_with_nanopore/mixed_samples/experiment-1/fastq')"
   ]
  },
  {
   "cell_type": "code",
   "execution_count": null,
   "id": "e5cf0b06",
   "metadata": {},
   "outputs": [],
   "source": [
    "genome_1_prefix = 'R19-2839'\n",
    "genome_2_prefix = 'AMR200035'"
   ]
  },
  {
   "cell_type": "code",
   "execution_count": null,
   "id": "87c67588",
   "metadata": {},
   "outputs": [],
   "source": [
    "data =dict()\n",
    "for filepath in dirpath.iterdir():\n",
    "    df = fx2tab(filepath)\n",
    "    data[filepath.stem] = {genome_1_prefix: df[df['id'].str.startswith(genome_1_prefix)]['length'].sum()/genome_1_gsize,\n",
    "                           genome_2_prefix: df[df['id'].str.startswith(genome_2_prefix)]['length'].sum()/genome_2_gsize}"
   ]
  },
  {
   "cell_type": "code",
   "execution_count": null,
   "id": "feaf5e53",
   "metadata": {},
   "outputs": [],
   "source": [
    "df = pd.DataFrame(data).T.sort_index().apply(round, axis=1)"
   ]
  },
  {
   "cell_type": "code",
   "execution_count": null,
   "id": "4e80d945",
   "metadata": {},
   "outputs": [],
   "source": [
    "df"
   ]
  },
  {
   "cell_type": "code",
   "execution_count": null,
   "id": "b0c5e292",
   "metadata": {},
   "outputs": [],
   "source": [
    "df.to_csv('/media/NGS/Data_Analysis/20201130_rapid_diagnostic_with_nanopore/mixed_samples/experiment-1/depth.txt', sep='\\t')"
   ]
  },
  {
   "cell_type": "code",
   "execution_count": null,
   "id": "2e99cd06",
   "metadata": {},
   "outputs": [],
   "source": []
  }
 ],
 "metadata": {
  "kernelspec": {
   "display_name": "Python 3",
   "language": "python",
   "name": "python3"
  },
  "language_info": {
   "codemirror_mode": {
    "name": "ipython",
    "version": 3
   },
   "file_extension": ".py",
   "mimetype": "text/x-python",
   "name": "python",
   "nbconvert_exporter": "python",
   "pygments_lexer": "ipython3",
   "version": "3.6.12"
  }
 },
 "nbformat": 4,
 "nbformat_minor": 5
}
