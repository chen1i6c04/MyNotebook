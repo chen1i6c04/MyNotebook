{
 "cells": [
  {
   "cell_type": "code",
   "execution_count": 1,
   "metadata": {},
   "outputs": [],
   "source": [
    "import re\n",
    "from collections import Counter\n",
    "import pandas as pd\n",
    "from Bio import SeqIO\n",
    "import seaborn as sns"
   ]
  },
  {
   "cell_type": "code",
   "execution_count": 2,
   "metadata": {},
   "outputs": [],
   "source": [
    "taxonomy_map = dict()\n",
    "with open('taxonomy.txt') as handle:\n",
    "    for line in handle:\n",
    "        accession, organism = line.strip().split('\\t')\n",
    "        taxonomy_map[accession] = organism"
   ]
  },
  {
   "cell_type": "code",
   "execution_count": 29,
   "metadata": {},
   "outputs": [],
   "source": [
    "blast_outfile = '/media/NGS/Nanopore_1/mNGS/20210121_spike/untrim/Blast/barcode11_ref-prok.txt'\n",
    "seqfile = '/media/NGS/Nanopore_1/mNGS/20210121_spike/untrim/Blast/barcode11.fa'"
   ]
  },
  {
   "cell_type": "code",
   "execution_count": 30,
   "metadata": {},
   "outputs": [],
   "source": [
    "seqids = set(record.id for record in SeqIO.parse(seqfile, 'fasta') if len(record.seq) >= 300)"
   ]
  },
  {
   "cell_type": "code",
   "execution_count": 31,
   "metadata": {},
   "outputs": [],
   "source": [
    "names = ['qseqid', 'sseqid', 'pident', \"length\", \"mismatch\", \"gapopen\", \"qstart\", \"qend\",\n",
    "         \"sstart\", \"send\", \"evalue\", \"bitscore\", 'qlen', 'slen']\n",
    "\n",
    "df = pd.read_csv(blast_outfile, sep='\\t', names=names)"
   ]
  },
  {
   "cell_type": "code",
   "execution_count": 32,
   "metadata": {},
   "outputs": [],
   "source": [
    "df = df[df['qseqid'].isin(seqids)]"
   ]
  },
  {
   "cell_type": "code",
   "execution_count": 33,
   "metadata": {},
   "outputs": [],
   "source": [
    "df = df.sort_values('bitscore', ascending=False).drop_duplicates('qseqid')"
   ]
  },
  {
   "cell_type": "code",
   "execution_count": 34,
   "metadata": {},
   "outputs": [],
   "source": [
    "df = df[(df['pident']>=85)&(df['evalue']<=1e-6)&(df['length']/df['qlen']>=0.8)]"
   ]
  },
  {
   "cell_type": "code",
   "execution_count": 35,
   "metadata": {},
   "outputs": [],
   "source": [
    "prog = re.compile('[A-Z]+_\\w+.\\w')\n",
    "df['sseqid'] = [prog.search(i).group() for i in df['sseqid']]\n",
    "df['organism'] = df['sseqid'].map(taxonomy_map)\n",
    "df['organism'] = df['organism'].str.replace('[', '').str.replace(']', '')\n",
    "\n",
    "prog = re.compile('[A-Z][a-z]+ [a-z]+')\n",
    "df['organism'] = [prog.search(i).group() for i in df['organism']]"
   ]
  },
  {
   "cell_type": "code",
   "execution_count": 36,
   "metadata": {},
   "outputs": [],
   "source": [
    "num_reads = len(seqids)\n",
    "num_classified_reads = df.shape[0]\n",
    "num_unclassified_reads = num_reads - num_classified_reads"
   ]
  },
  {
   "cell_type": "code",
   "execution_count": 37,
   "metadata": {},
   "outputs": [],
   "source": [
    "count = Counter(df['organism'])"
   ]
  },
  {
   "cell_type": "code",
   "execution_count": 38,
   "metadata": {},
   "outputs": [
    {
     "name": "stdout",
     "output_type": "stream",
     "text": [
      "total reads\t95980\n",
      "unclassified reads\t36184\n",
      "Klebsiella pneumoniae\t53402\n",
      "other\t6394\n"
     ]
    }
   ],
   "source": [
    "print('total reads', num_reads, sep='\\t')\n",
    "print('unclassified reads', num_unclassified_reads, sep='\\t')\n",
    "print('Klebsiella pneumoniae', count['Klebsiella pneumoniae'], sep='\\t')\n",
    "print('other', num_classified_reads-count['Klebsiella pneumoniae'], sep='\\t')"
   ]
  },
  {
   "cell_type": "code",
   "execution_count": 39,
   "metadata": {},
   "outputs": [],
   "source": [
    "s = pd.Series(count)"
   ]
  },
  {
   "cell_type": "code",
   "execution_count": 40,
   "metadata": {},
   "outputs": [],
   "source": [
    "s = s.sort_values(ascending=False)"
   ]
  },
  {
   "cell_type": "code",
   "execution_count": 41,
   "metadata": {},
   "outputs": [],
   "source": [
    "s.to_csv('/media/NGS/Nanopore_1/mNGS/20210121_spike/untrim/Blast/barcode11_match_organism.txt', sep='\\t', header=False)"
   ]
  },
  {
   "cell_type": "code",
   "execution_count": null,
   "metadata": {},
   "outputs": [],
   "source": []
  }
 ],
 "metadata": {
  "kernelspec": {
   "display_name": "Python 3",
   "language": "python",
   "name": "python3"
  },
  "language_info": {
   "codemirror_mode": {
    "name": "ipython",
    "version": 3
   },
   "file_extension": ".py",
   "mimetype": "text/x-python",
   "name": "python",
   "nbconvert_exporter": "python",
   "pygments_lexer": "ipython3",
   "version": "3.6.12"
  }
 },
 "nbformat": 4,
 "nbformat_minor": 4
}
