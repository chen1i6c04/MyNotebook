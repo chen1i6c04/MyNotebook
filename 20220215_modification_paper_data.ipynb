{
 "cells": [
  {
   "cell_type": "code",
   "execution_count": null,
   "id": "c82151fb-7da7-4507-b55c-9f158a38c636",
   "metadata": {},
   "outputs": [],
   "source": [
    "import subprocess\n",
    "from pathlib import Path\n",
    "import pandas as pd\n",
    "import numpy as np"
   ]
  },
  {
   "cell_type": "code",
   "execution_count": null,
   "id": "4288517a-7a80-4df1-bc07-2b9f1de604fd",
   "metadata": {},
   "outputs": [],
   "source": [
    "def seq_stats(seqfile):\n",
    "    output = subprocess.check_output(f'seqkit stats -abT {seqfile} | tail -n 1', shell=True)\n",
    "    output = output.decode().split()\n",
    "    num_seqs, sum_len, n50 = output[3], output[4], output[12]\n",
    "    return num_seqs, sum_len, n50"
   ]
  },
  {
   "cell_type": "code",
   "execution_count": null,
   "id": "f56f4750-e328-4c3a-a68b-8fb2d5d8441c",
   "metadata": {},
   "outputs": [],
   "source": [
    "dirpath = Path('/media/GenomicResearch/Issue/20220215_modification_paper_data')\n",
    "labels = ['ILLUMINA_WGS', 'ONT_WGS', 'ONT_WGA']\n",
    "\n",
    "refpath = dirpath/'RefSeqs'"
   ]
  },
  {
   "cell_type": "code",
   "execution_count": null,
   "id": "d09a8b12-c785-4f13-bbb3-5a504680e8fd",
   "metadata": {},
   "outputs": [],
   "source": [
    "def calculate_distance(reference, query):\n",
    "    reference = pd.read_csv(reference, sep='\\t', index_col=0)\n",
    "    query = pd.read_csv(query, sep='\\t', index_col=0)\n",
    "    return (query['allele_id'].fillna(0) != reference['allele_id'].fillna(0)).sum()"
   ]
  },
  {
   "cell_type": "code",
   "execution_count": null,
   "id": "a972a269-e932-451e-a472-f0fd80e8a407",
   "metadata": {},
   "outputs": [],
   "source": [
    "data = []\n",
    "for label in labels:\n",
    "    for query in (dirpath/label/'Profile').iterdir():\n",
    "        isolate = query.stem\n",
    "        reference = refpath/'Profile'/(isolate + '.tsv')\n",
    "        distance = calculate_distance(reference, query)\n",
    "        data.append((isolate, label, distance))\n",
    "\n",
    "distance_df = pd.DataFrame(data, columns=['Isolate', 'Method', 'cgMLST_distance'])"
   ]
  },
  {
   "cell_type": "code",
   "execution_count": null,
   "id": "1c5633ab-6d5d-438d-b5d8-43b6dc387500",
   "metadata": {},
   "outputs": [],
   "source": [
    "data = []\n",
    "for label in labels:\n",
    "    for query in (dirpath/label/'Depth').iterdir():\n",
    "        isolate = query.stem\n",
    "        with open(query) as handle:\n",
    "            all_position_depth = (line.split()[-1] for line in handle)\n",
    "            mean_depth = np.mean(list(map(lambda x: int(x), all_position_depth)))\n",
    "        data.append((isolate, label, mean_depth))\n",
    "\n",
    "depth_df = pd.DataFrame(data, columns=['Isolate', 'Method', 'Depth'])\n",
    "\n",
    "depth_df['Depth'] = depth_df['Depth'].round(2)"
   ]
  },
  {
   "cell_type": "code",
   "execution_count": null,
   "id": "5c37b864-2ab2-4574-83af-1c5213aa6ea7",
   "metadata": {},
   "outputs": [],
   "source": [
    "accuracy_df = pd.DataFrame()\n",
    "for label in labels:\n",
    "    for query in (dirpath/label/'Assembly_accuracy').iterdir():\n",
    "        isolate = query.stem\n",
    "        df = pd.read_csv(query, sep='\\t', usecols=['qscore', 'segment_median_qscore', 'num_mismatches', 'num_insertions', 'num_deletions'])\n",
    "        df.index = [isolate]\n",
    "        df['Method'] = label\n",
    "        accuracy_df = pd.concat([accuracy_df, df])\n",
    "accuracy_df.index.name = 'Isolate'\n",
    "accuracy_df = accuracy_df.reset_index()"
   ]
  },
  {
   "cell_type": "code",
   "execution_count": null,
   "id": "51e7cc6f-de64-4561-a6d4-2b27f244934c",
   "metadata": {},
   "outputs": [],
   "source": [
    "sequence_df = pd.DataFrame()\n",
    "for label in labels:\n",
    "    df = pd.DataFrame({query.stem: seq_stats(query) for query in (dirpath/label/'Contigs').iterdir()}, index=['contig_num', 'genome_size', 'N50']).T\n",
    "    df['Method'] = label\n",
    "    df.index.name = 'Isolate'\n",
    "    df = df.reset_index()\n",
    "    sequence_df = pd.concat([sequence_df, df])\n",
    "\n",
    "sequence_df['N50'] = sequence_df['N50'].astype(int)\n",
    "sequence_df['contig_num'] = sequence_df['contig_num'].astype(int)"
   ]
  },
  {
   "cell_type": "code",
   "execution_count": null,
   "id": "9bf4388d-4388-4a51-91c2-cbd989847518",
   "metadata": {},
   "outputs": [],
   "source": [
    "results = distance_df.merge(accuracy_df).merge(depth_df).merge(sequence_df)\n",
    "results.head()"
   ]
  },
  {
   "cell_type": "code",
   "execution_count": null,
   "id": "8d15151d-1161-466f-a55d-ea6d999cfa0e",
   "metadata": {},
   "outputs": [],
   "source": [
    "pivot_table = pd.pivot_table(results, ['cgMLST_distance', 'Depth', 'qscore', 'segment_median_qscore', 'num_mismatches', 'num_insertions', 'num_deletions', 'N50', 'contig_num'], index=['Isolate'], columns=['Method'],)"
   ]
  },
  {
   "cell_type": "code",
   "execution_count": null,
   "id": "7770e931-b184-452f-bd38-79fb5ee31ef9",
   "metadata": {},
   "outputs": [],
   "source": [
    "pivot_table.columns = pivot_table.columns.swaplevel(0, 1)\n",
    "pivot_table = pivot_table.sort_index(axis=1)\n",
    "pivot_table"
   ]
  },
  {
   "cell_type": "code",
   "execution_count": null,
   "id": "4a28ee41-c8c2-4ec4-b15a-3de47dfbc19e",
   "metadata": {},
   "outputs": [],
   "source": [
    "sequence_type = pd.read_csv('/media/GenomicResearch/Issue/20201221_hybrid_and_denovo/Unicycler/MLST.tsv', sep='\\t', usecols=['Key', 'ST'], index_col=0)\n",
    "sequence_type = sequence_type['ST'].to_dict()\n",
    "\n",
    "pivot_table.insert(0, 'MLST' ,pivot_table.index.map(sequence_type))"
   ]
  },
  {
   "cell_type": "code",
   "execution_count": null,
   "id": "86dac50f-09a5-40b2-ab8d-00ea12df360f",
   "metadata": {},
   "outputs": [],
   "source": [
    "with pd.ExcelWriter('/media/GenomicResearch/Issue/20220215_modification_paper_data/report.xlsx') as writer:\n",
    "    pivot_table.to_excel(writer)"
   ]
  },
  {
   "cell_type": "code",
   "execution_count": null,
   "id": "b6e4564f-790c-437b-a64b-e25740e05c3c",
   "metadata": {},
   "outputs": [],
   "source": [
    "%%time\n",
    "with open('/media/GenomicResearch/Issue/20220215_modification_paper_data/ONT_WGS/Depth/R20-0140.txt') as handle:\n",
    "    all_position_depth = (line.split()[-1] for line in handle)\n",
    "    mean_depth = np.mean(list(map(lambda x: int(x), all_position_depth)))"
   ]
  },
  {
   "cell_type": "code",
   "execution_count": null,
   "id": "133e4baa-d21d-4f36-9eab-b1ae5a50bed7",
   "metadata": {},
   "outputs": [],
   "source": [
    "mean_depth"
   ]
  },
  {
   "cell_type": "code",
   "execution_count": null,
   "id": "2fed6147-7ee4-4239-9e6a-0975ad96e817",
   "metadata": {},
   "outputs": [],
   "source": []
  }
 ],
 "metadata": {
  "kernelspec": {
   "display_name": "Python 3",
   "language": "python",
   "name": "python3"
  },
  "language_info": {
   "codemirror_mode": {
    "name": "ipython",
    "version": 3
   },
   "file_extension": ".py",
   "mimetype": "text/x-python",
   "name": "python",
   "nbconvert_exporter": "python",
   "pygments_lexer": "ipython3",
   "version": "3.6.13"
  }
 },
 "nbformat": 4,
 "nbformat_minor": 5
}
