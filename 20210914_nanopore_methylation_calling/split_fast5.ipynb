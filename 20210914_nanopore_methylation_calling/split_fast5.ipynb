{
 "cells": [
  {
   "cell_type": "markdown",
   "metadata": {},
   "source": [
    "### Extract specified signal from fast5"
   ]
  },
  {
   "cell_type": "code",
   "execution_count": 5,
   "metadata": {},
   "outputs": [],
   "source": [
    "import os\n",
    "import subprocess\n",
    "from tempfile import TemporaryDirectory\n",
    "from pathlib import Path\n",
    "import pandas as pd"
   ]
  },
  {
   "cell_type": "code",
   "execution_count": 2,
   "metadata": {},
   "outputs": [],
   "source": [
    "barcoding_summary_filepath = '/media/ONT/20211209_Lis/guppy_hac/sequencing_summary.txt'\n",
    "\n",
    "barcoding_summary = pd.read_csv(barcoding_summary_filepath, sep='\\t', usecols=['read_id', 'barcode_arrangement'])\n",
    "barcoding_summary = barcoding_summary[barcoding_summary['barcode_arrangement']!='unclassified']"
   ]
  },
  {
   "cell_type": "code",
   "execution_count": 3,
   "metadata": {},
   "outputs": [],
   "source": [
    "target_barcodes = ['barcode07', 'barcode08', 'barcode09', 'barcode10']"
   ]
  },
  {
   "cell_type": "code",
   "execution_count": 10,
   "metadata": {},
   "outputs": [],
   "source": [
    "s = barcoding_summary[barcoding_summary['barcode_arrangement']=='barcode09']['read_id']"
   ]
  },
  {
   "cell_type": "code",
   "execution_count": 11,
   "metadata": {},
   "outputs": [],
   "source": [
    "fast5_dir = '/media/ONT/20211209_Lis/20211209_Lis/20211209_0642_MN28886_FAR41229_54ea180d'\n",
    "outdir = '/media/GenomicResearch/Issue/20210914_nanopore_methylation_calling/fast5_2/barcode09'\n",
    "\n",
    "with TemporaryDirectory() as tempdir:\n",
    "    list_file = os.path.join(tempdir, 'idList.txt')\n",
    "    s.to_csv(list_file, sep='\\t', index=False)\n",
    "    subprocess.run(['fast5_subset', '-i', fast5_dir, '-s', outdir, '-l', list_file, '-r', '-t' '16', '-n', '10000'])"
   ]
  },
  {
   "cell_type": "code",
   "execution_count": null,
   "metadata": {},
   "outputs": [],
   "source": []
  }
 ],
 "metadata": {
  "kernelspec": {
   "display_name": "Python 3",
   "language": "python",
   "name": "python3"
  },
  "language_info": {
   "codemirror_mode": {
    "name": "ipython",
    "version": 3
   },
   "file_extension": ".py",
   "mimetype": "text/x-python",
   "name": "python",
   "nbconvert_exporter": "python",
   "pygments_lexer": "ipython3",
   "version": "3.6.13"
  }
 },
 "nbformat": 4,
 "nbformat_minor": 4
}
