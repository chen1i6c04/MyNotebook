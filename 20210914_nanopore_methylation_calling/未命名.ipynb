{
 "cells": [
  {
   "cell_type": "code",
   "execution_count": 1,
   "id": "32f29d5f-eef9-492d-b812-9a8ce02046f4",
   "metadata": {},
   "outputs": [],
   "source": [
    "from pathlib import Path\n",
    "import pandas as pd\n",
    "\n",
    "import seaborn as sns\n",
    "import matplotlib.pyplot as plt"
   ]
  },
  {
   "cell_type": "code",
   "execution_count": 24,
   "id": "4c44ecc1-0e85-4140-85ef-bea794f2e631",
   "metadata": {},
   "outputs": [],
   "source": [
    "file = '/media/GenomicResearch/Issue/20210914_nanopore_methylation_calling/megalodon/barcode06/modified_bases.5mC.bed'\n",
    "with open(file) as handle:\n",
    "    methylation_positions = [line.split() for line in handle if line.split()[-1] != '0.0']"
   ]
  },
  {
   "cell_type": "code",
   "execution_count": 25,
   "id": "23e5fbcc-d7d6-4c30-9829-775fe9e2a096",
   "metadata": {},
   "outputs": [],
   "source": [
    "df = pd.DataFrame(methylation_positions)"
   ]
  },
  {
   "cell_type": "code",
   "execution_count": 26,
   "id": "bc2e4199-1b4a-4eb1-9068-0429c6a5ffc1",
   "metadata": {},
   "outputs": [
    {
     "name": "stderr",
     "output_type": "stream",
     "text": [
      "/home/chen1i6c04/miniconda3/envs/notebook/lib/python3.6/site-packages/seaborn/_decorators.py:43: FutureWarning: Pass the following variable as a keyword arg: x. From version 0.12, the only valid positional argument will be `data`, and passing other arguments without an explicit keyword will result in an error or misinterpretation.\n",
      "  FutureWarning\n"
     ]
    },
    {
     "data": {
      "text/plain": [
       "<AxesSubplot:xlabel='10'>"
      ]
     },
     "execution_count": 26,
     "metadata": {},
     "output_type": "execute_result"
    },
    {
     "data": {
      "image/png": "[encoded data removed]",
      "text/plain": [
       "<Figure size 432x288 with 1 Axes>"
      ]
     },
     "metadata": {
      "needs_background": "light"
     },
     "output_type": "display_data"
    }
   ],
   "source": [
    "sns.violinplot(df[10].astype(float), )"
   ]
  },
  {
   "cell_type": "code",
   "execution_count": null,
   "id": "e419ea67-9a64-4cd3-9c79-e15437133ff3",
   "metadata": {},
   "outputs": [],
   "source": []
  }
 ],
 "metadata": {
  "kernelspec": {
   "display_name": "Python 3",
   "language": "python",
   "name": "python3"
  },
  "language_info": {
   "codemirror_mode": {
    "name": "ipython",
    "version": 3
   },
   "file_extension": ".py",
   "mimetype": "text/x-python",
   "name": "python",
   "nbconvert_exporter": "python",
   "pygments_lexer": "ipython3",
   "version": "3.6.13"
  }
 },
 "nbformat": 4,
 "nbformat_minor": 5
}
