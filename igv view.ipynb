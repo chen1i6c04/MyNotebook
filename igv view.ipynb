{
 "cells": [
  {
   "cell_type": "code",
   "execution_count": 12,
   "id": "0af8e267-682c-48f0-bf7d-9e6b6d13240c",
   "metadata": {},
   "outputs": [],
   "source": [
    "reference = '/media/Central_Lab_Storage/MinION/20200925/contigs/unicycler/R20-0026.fa'\n",
    "query = '/media/Central_Lab_Storage/MinION/20200925/denovo/barcode02/contigs.fasta'\n",
    "output = '/media/Central_Lab_Storage/MinION/20200925/alignments/R20-0026_ASM.bam'\n",
    "# preset = 'map-ont'\n",
    "# preset = 'sr'\n",
    "preset = 'asm5'\n",
    "threads = 64"
   ]
  },
  {
   "cell_type": "code",
   "execution_count": 13,
   "id": "996a1657-6fbf-4fa7-bce7-3379d2a7cfeb",
   "metadata": {},
   "outputs": [
    {
     "name": "stdout",
     "output_type": "stream",
     "text": [
      "[M::mm_idx_gen::0.122*1.03] collected minimizers\n",
      "[M::mm_idx_gen::0.169*4.56] sorted minimizers\n",
      "[M::main::0.169*4.56] loaded/built the index for 1 target sequence(s)\n",
      "[M::mm_mapopt_update::0.181*4.32] mid_occ = 50\n",
      "[M::mm_idx_stat] kmer size: 19; skip: 19; is_hpc: 0; #seq: 1\n",
      "[M::mm_idx_stat::0.187*4.21] distinct minimizers: 290909 (99.57% are singletons); average occurrences: 1.012; average spacing: 9.996; total length: 2941412\n",
      "[M::worker_pipeline::1.319*1.48] mapped 2 sequences\n",
      "[M::main] Version: 2.23-r1111\n",
      "[M::main] CMD: minimap2 -t 64 -K 8G -ax asm5 /media/Central_Lab_Storage/MinION/20200925/contigs/unicycler/R20-0026.fa /media/Central_Lab_Storage/MinION/20200925/denovo/barcode02/contigs.fasta\n",
      "[M::main] Real time: 1.343 sec; CPU: 1.972 sec; Peak RSS: 0.059 GB\n"
     ]
    }
   ],
   "source": [
    "!minimap2 -t {threads} -K 8G -ax {preset} {reference} {query} | \\\n",
    "samtools sort -@ {threads} --reference {reference} -O BAM | \\\n",
    "samtools view -b -@ {threads} --reference {reference} > {output}"
   ]
  },
  {
   "cell_type": "code",
   "execution_count": 14,
   "id": "9d51de4a-c8ea-4378-bfbc-a7214d0e4aab",
   "metadata": {},
   "outputs": [],
   "source": [
    "!samtools index -@ 64 /media/Central_Lab_Storage/MinION/20200925/alignments/R20-0026_ASM.bam"
   ]
  },
  {
   "cell_type": "code",
   "execution_count": null,
   "id": "64174371-aeea-4023-a3d8-016ff85be23b",
   "metadata": {},
   "outputs": [],
   "source": []
  }
 ],
 "metadata": {
  "kernelspec": {
   "display_name": "Python 3",
   "language": "python",
   "name": "python3"
  },
  "language_info": {
   "codemirror_mode": {
    "name": "ipython",
    "version": 3
   },
   "file_extension": ".py",
   "mimetype": "text/x-python",
   "name": "python",
   "nbconvert_exporter": "python",
   "pygments_lexer": "ipython3",
   "version": "3.6.13"
  }
 },
 "nbformat": 4,
 "nbformat_minor": 5
}
