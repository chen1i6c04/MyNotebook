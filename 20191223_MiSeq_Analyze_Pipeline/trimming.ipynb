{
 "cells": [
  {
   "cell_type": "code",
   "execution_count": 26,
   "id": "49d1eeb6-af4f-4aed-bba4-9ddc289abe6d",
   "metadata": {},
   "outputs": [],
   "source": [
    "import os\n",
    "import sys\n",
    "from pathlib import Path\n",
    "from collections import defaultdict\n",
    "from concurrent.futures import ProcessPoolExecutor\n",
    "\n",
    "sys.path.append('../src')\n",
    "from utils import run_cmd"
   ]
  },
  {
   "cell_type": "code",
   "execution_count": 27,
   "id": "b4d79d8b",
   "metadata": {},
   "outputs": [],
   "source": [
    "def fn(raw_1, raw_2, outdir, output='', threads=16):\n",
    "    paired_1 = os.path.join(outdir, output + '_R1.fastq.gz')\n",
    "    paired_2 = os.path.join(outdir, output + '_R2.fastq.gz')\n",
    "    unpaired = os.path.join(outdir, output + '_unpaired.fastq.gz')\n",
    "    cmd = f\"fastp -i {raw_1} -I {raw_2} -o {paired_1} -O {paired_2} --unpaired1 {unpaired} --unpaired2 {unpaired} \"\\\n",
    "          f\"--length_required 36 --cut_front 3 --cut_tail 3 --thread {threads} --detect_adapter_for_pe -j {json_report} -h {html_report} -t 1\"\n",
    "    run_cmd(cmd)\n",
    "    return paired_1, paired_2, unpaired"
   ]
  },
  {
   "cell_type": "code",
   "execution_count": 28,
   "id": "33689231-2a09-4423-b84f-b4107d5cf2b2",
   "metadata": {},
   "outputs": [],
   "source": [
    "raw_files = \"\"\"/media/BioNumerics/NGS_Salmonella/R18.0246_S44_L001_R1_001.fastq.gz\n",
    "/media/BioNumerics/NGS_Salmonella/R18.0246_S44_L001_R2_001.fastq.gz\n",
    "/media/BioNumerics/NGS_Salmonella/R19.0144_S17_L001_R1_001.fastq.gz\n",
    "/media/BioNumerics/NGS_Salmonella/R19.0144_S17_L001_R2_001.fastq.gz\n",
    "/media/BioNumerics/NGS_Salmonella/R21.1368_S45_L001_R1_001.fastq.gz\n",
    "/media/BioNumerics/NGS_Salmonella/R21.1368_S45_L001_R2_001.fastq.gz\n",
    "/media/BioNumerics/NGS_Salmonella/R21.1436_S46_L001_R1_001.fastq.gz\n",
    "/media/BioNumerics/NGS_Salmonella/R21.1436_S46_L001_R2_001.fastq.gz\n",
    "\"\"\""
   ]
  },
  {
   "cell_type": "code",
   "execution_count": 29,
   "id": "fb6bc5c9-de5f-4e8b-bab0-a4de1fe4cbeb",
   "metadata": {},
   "outputs": [],
   "source": [
    "raw_files = raw_files.split()"
   ]
  },
  {
   "cell_type": "code",
   "execution_count": 30,
   "id": "7c51ea9e-ed38-46bb-b602-f06d3a3071b9",
   "metadata": {},
   "outputs": [
    {
     "data": {
      "text/plain": [
       "defaultdict(list,\n",
       "            {'R18.0246': ['/media/BioNumerics/NGS_Salmonella/R18.0246_S44_L001_R1_001.fastq.gz',\n",
       "              '/media/BioNumerics/NGS_Salmonella/R18.0246_S44_L001_R2_001.fastq.gz'],\n",
       "             'R19.0144': ['/media/BioNumerics/NGS_Salmonella/R19.0144_S17_L001_R1_001.fastq.gz',\n",
       "              '/media/BioNumerics/NGS_Salmonella/R19.0144_S17_L001_R2_001.fastq.gz'],\n",
       "             'R21.1368': ['/media/BioNumerics/NGS_Salmonella/R21.1368_S45_L001_R1_001.fastq.gz',\n",
       "              '/media/BioNumerics/NGS_Salmonella/R21.1368_S45_L001_R2_001.fastq.gz'],\n",
       "             'R21.1436': ['/media/BioNumerics/NGS_Salmonella/R21.1436_S46_L001_R1_001.fastq.gz',\n",
       "              '/media/BioNumerics/NGS_Salmonella/R21.1436_S46_L001_R2_001.fastq.gz']})"
      ]
     },
     "execution_count": 30,
     "metadata": {},
     "output_type": "execute_result"
    }
   ],
   "source": [
    "pairwise = defaultdict(list)\n",
    "for raw in raw_files:\n",
    "    pairwise[Path(raw).stem.split('_')[0]].append(raw)\n",
    "pairwise"
   ]
  },
  {
   "cell_type": "code",
   "execution_count": 31,
   "id": "bbb2c5ef-8e9d-439d-b42a-fba6fd4cbbfa",
   "metadata": {},
   "outputs": [],
   "source": [
    "outpath = Path('/media/Central_Lab_Storage/MinION_2022/20220106_Sal/fastq')\n",
    "with ProcessPoolExecutor(8) as executor:\n",
    "    for prefix, (sr_1, sr_2) in pairwise.items():\n",
    "        executor.submit(fn, sr_1, sr_2, outpath, prefix ,8)"
   ]
  },
  {
   "cell_type": "code",
   "execution_count": null,
   "id": "0e440f6c-5243-4977-8388-61b48b3eb2fa",
   "metadata": {},
   "outputs": [],
   "source": []
  },
  {
   "cell_type": "code",
   "execution_count": 10,
   "id": "ef84daaf-080e-4363-b16f-643c9d56e770",
   "metadata": {},
   "outputs": [],
   "source": [
    "import json"
   ]
  },
  {
   "cell_type": "code",
   "execution_count": 11,
   "id": "9f52c1fa-5581-4795-817b-1231603defa9",
   "metadata": {},
   "outputs": [],
   "source": [
    "with open('/home/chen1i6c04/fastp.json') as f:\n",
    "    data = json.load(f)"
   ]
  },
  {
   "cell_type": "code",
   "execution_count": 13,
   "id": "f764adfd-7a15-47cd-9bc1-ba1d77f8c400",
   "metadata": {},
   "outputs": [
    {
     "data": {
      "text/plain": [
       "dict_keys(['summary', 'filtering_result', 'duplication', 'insert_size', 'adapter_cutting', 'read1_before_filtering', 'read2_before_filtering', 'read1_after_filtering', 'read2_after_filtering', 'command'])"
      ]
     },
     "execution_count": 13,
     "metadata": {},
     "output_type": "execute_result"
    }
   ],
   "source": [
    "data.keys()"
   ]
  },
  {
   "cell_type": "code",
   "execution_count": 25,
   "id": "883908f0-c26d-4512-b38e-200dbdd5f3a9",
   "metadata": {},
   "outputs": [
    {
     "data": {
      "text/plain": [
       "{'fastp_version': '0.22.0',\n",
       " 'sequencing': 'paired end (301 cycles + 301 cycles)',\n",
       " 'before_filtering': {'total_reads': 646222,\n",
       "  'total_bases': 188780197,\n",
       "  'q20_bases': 156062188,\n",
       "  'q30_bases': 131278537,\n",
       "  'q20_rate': 0.826687,\n",
       "  'q30_rate': 0.695404,\n",
       "  'read1_mean_length': 291,\n",
       "  'read2_mean_length': 293,\n",
       "  'gc_content': 0.523031},\n",
       " 'after_filtering': {'total_reads': 614714,\n",
       "  'total_bases': 167212821,\n",
       "  'q20_bases': 148398255,\n",
       "  'q30_bases': 127114460,\n",
       "  'q20_rate': 0.887481,\n",
       "  'q30_rate': 0.760196,\n",
       "  'read1_mean_length': 282,\n",
       "  'read2_mean_length': 261,\n",
       "  'gc_content': 0.517632}}"
      ]
     },
     "execution_count": 25,
     "metadata": {},
     "output_type": "execute_result"
    }
   ],
   "source": [
    "data['summary']"
   ]
  },
  {
   "cell_type": "code",
   "execution_count": 24,
   "id": "f6261a25-24d4-467f-9c1b-6f8fb8d9dec3",
   "metadata": {},
   "outputs": [
    {
     "data": {
      "text/plain": [
       "66.60281937888784"
      ]
     },
     "execution_count": 24,
     "metadata": {},
     "output_type": "execute_result"
    }
   ],
   "source": [
    "data['read2_after_filtering']['q30_bases']/data['read2_after_filtering']['total_bases']*100"
   ]
  },
  {
   "cell_type": "code",
   "execution_count": null,
   "id": "0ae27a1f-a2fa-4e64-8628-907450cd6e34",
   "metadata": {},
   "outputs": [],
   "source": []
  }
 ],
 "metadata": {
  "kernelspec": {
   "display_name": "Python 3",
   "language": "python",
   "name": "python3"
  },
  "language_info": {
   "codemirror_mode": {
    "name": "ipython",
    "version": 3
   },
   "file_extension": ".py",
   "mimetype": "text/x-python",
   "name": "python",
   "nbconvert_exporter": "python",
   "pygments_lexer": "ipython3",
   "version": "3.6.13"
  }
 },
 "nbformat": 4,
 "nbformat_minor": 5
}
