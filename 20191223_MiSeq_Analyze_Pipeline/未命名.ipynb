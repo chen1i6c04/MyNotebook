{
 "cells": [
  {
   "cell_type": "code",
   "execution_count": 1,
   "metadata": {},
   "outputs": [],
   "source": [
    "import os\n",
    "import shutil\n",
    "import datetime\n",
    "import subprocess\n",
    "from pathlib import Path\n",
    "from collections import defaultdict\n",
    "from multiprocessing import Pool\n",
    "\n",
    "import sys\n",
    "sys.path.append('../src')\n",
    "from utils import run_cmd"
   ]
  },
  {
   "cell_type": "code",
   "execution_count": 2,
   "metadata": {},
   "outputs": [],
   "source": [
    "basepath = Path('/media/MiSeqOutput/220121_M04855_0094_000000000-K424V')\n",
    "dirpath = Path('/media/MiSeqOutput/220121_M04855_0094_000000000-K424V/Alignment_1/20220123_211538/Fastq')\n",
    "outpath = basepath/'Analysis'"
   ]
  },
  {
   "cell_type": "code",
   "execution_count": 3,
   "metadata": {},
   "outputs": [],
   "source": [
    "pairwise = defaultdict(list)\n",
    "\n",
    "for filepath in dirpath.iterdir():\n",
    "    prefix = filepath.stem.split('_')[0]\n",
    "    pairwise[prefix].append(filepath.as_posix())\n",
    "\n",
    "pairwise = {i: sorted(j) for i, j in pairwise.items() if len(j) == 2}"
   ]
  },
  {
   "cell_type": "code",
   "execution_count": 4,
   "metadata": {},
   "outputs": [
    {
     "data": {
      "text/plain": [
       "64"
      ]
     },
     "execution_count": 4,
     "metadata": {},
     "output_type": "execute_result"
    }
   ],
   "source": [
    "program = '/media/Central_Lab_Storage/bo-han/Projects/MiAW/miaw.py'\n",
    "kmerfinder_db = '/media/GenomicResearch/Tools/CGE/kmerfinder_db/bacteria/bacteria'\n",
    "\n",
    "cmds = []\n",
    "for prefix, (reads_1, reads_2) in pairwise.items():\n",
    "    outdir = outpath/prefix\n",
    "    if outdir.exists() is False:\n",
    "        cmd = f'conda run -n miaw python {program} -1 {reads_1} -2 {reads_2} -o {outdir} -t 8 --qc --tax_db {kmerfinder_db}'\n",
    "        cmds.append(cmd)\n",
    "len(cmds)"
   ]
  },
  {
   "cell_type": "code",
   "execution_count": 5,
   "metadata": {},
   "outputs": [],
   "source": [
    "with Pool(10) as p:\n",
    "    try:\n",
    "        p.map(run_cmd, cmds)\n",
    "        p.close()\n",
    "        p.join()\n",
    "    except KeyboardInterrupt:\n",
    "        p.terminate()"
   ]
  },
  {
   "cell_type": "markdown",
   "metadata": {},
   "source": [
    "# Collect data"
   ]
  },
  {
   "cell_type": "code",
   "execution_count": 6,
   "metadata": {},
   "outputs": [],
   "source": [
    "import glob\n",
    "import shutil\n",
    "from io import StringIO, BytesIO\n",
    "from zipfile import ZipFile\n",
    "import pandas as pd"
   ]
  },
  {
   "cell_type": "code",
   "execution_count": 7,
   "metadata": {},
   "outputs": [],
   "source": [
    "def basic_info(source):\n",
    "    archive = ZipFile(source)\n",
    "    for filename in archive.namelist():\n",
    "        if os.path.basename(filename) == 'fastqc_data.txt':\n",
    "            handle = archive.read(filename)\n",
    "    archive.close()\n",
    "    handle = handle.decode('utf8').splitlines()\n",
    "    handle = (line for line in handle)\n",
    "    for line in handle:\n",
    "        if line.startswith('>>'):\n",
    "            column = next(handle).split('\\t')\n",
    "            break\n",
    "\n",
    "    data = []\n",
    "    for line in handle:\n",
    "        if line.startswith('>>'):\n",
    "            break\n",
    "        else:\n",
    "            data.append(line.split('\\t'))\n",
    "    stats = pd.DataFrame(data, columns=column)\n",
    "    stats = stats.set_index('#Measure')\n",
    "    return stats"
   ]
  },
  {
   "cell_type": "code",
   "execution_count": null,
   "metadata": {},
   "outputs": [],
   "source": []
  },
  {
   "cell_type": "code",
   "execution_count": 8,
   "metadata": {},
   "outputs": [],
   "source": [
    "contigs_dir = basepath/'Assembly'\n",
    "contigs_dir.mkdir(exist_ok=True)\n",
    "for i in outpath.iterdir():\n",
    "    try:\n",
    "        seqfile = i/'assembly.fasta'\n",
    "        shutil.copy(seqfile, contigs_dir/(i.name + '.fa'))\n",
    "    except FileNotFoundError:\n",
    "        print(i.name)"
   ]
  },
  {
   "cell_type": "code",
   "execution_count": 9,
   "metadata": {},
   "outputs": [],
   "source": [
    "outfile = basepath/'contigs-stats.tsv'\n",
    "\n",
    "stdout, stderr = run_cmd(f'seqkit stats -a -T {contigs_dir/\"*\"}')\n",
    "df = pd.read_csv(StringIO(stdout), sep='\\t')\n",
    "df['file'] = df['file'].apply(lambda x: Path(x).stem)\n",
    "df.to_csv(outfile, sep='\\t', index=False)"
   ]
  },
  {
   "cell_type": "code",
   "execution_count": 10,
   "metadata": {},
   "outputs": [],
   "source": [
    "summarys = [basic_info(zipfile) for zipfile in outpath.glob(\"**/*.zip\")]\n",
    "summarys = pd.concat(summarys, axis=1).T.reset_index(drop=True)\n",
    "summarys.index.name = 'Key'\n",
    "summarys.to_csv(basepath/\"FastQC.tsv\", index=False, sep='\\t')"
   ]
  },
  {
   "cell_type": "code",
   "execution_count": null,
   "metadata": {},
   "outputs": [],
   "source": []
  },
  {
   "cell_type": "code",
   "execution_count": 11,
   "metadata": {},
   "outputs": [],
   "source": [
    "def kmerfinder_summary(infile):\n",
    "    profile = pd.read_csv(infile, sep='\\t')\n",
    "    query = profile.groupby('Species')['Query_Coverage'].sum().to_dict()\n",
    "    template = profile.groupby('Species')['Template_Coverage'].max().to_dict()\n",
    "    query = dict(sorted(query.items(), key=lambda x: x[1], reverse=True))\n",
    "    qcov_tcov = {species: f'{query[species]:.2f}% / {template[species]:.2f}%' for species in query}\n",
    "    return {idx: f'{item[0]} | {item[1]}' for idx, item in enumerate(qcov_tcov.items(), 1)}\n",
    "\n",
    "summaries = dict()\n",
    "for i in outpath.iterdir():\n",
    "    result = i/'kmerfinder.txt'\n",
    "    summary = kmerfinder_summary(result)\n",
    "    summaries[i.name] = summary\n",
    "summaries = pd.DataFrame(summaries).T\n",
    "summaries.to_csv(basepath/'KmerFinder.tsv', sep='\\t', header=False)"
   ]
  },
  {
   "cell_type": "code",
   "execution_count": 12,
   "metadata": {},
   "outputs": [
    {
     "data": {
      "text/plain": [
       "('|         searching | ━━━━━━━━━━━━━━━━━━━━━━━━━━━━━━━━━━━━━━━━ 100% 704/704  ',\n",
       " \"\\n  /// MultiQC 🔍 | v1.11\\n\\n|           multiqc | Search path : /media/MiSeqOutput/220121_M04855_0094_000000000-K424V/Analysis\\n|             fastp | Found 64 reports\\n|            fastqc | Found 128 reports\\n|           multiqc | Compressing plot data\\n|           multiqc | Report      : ../../../../media/MiSeqOutput/220121_M04855_0094_000000000-K424V/multiqc_report.html\\n|           multiqc | Data        : ../../../../media/MiSeqOutput/220121_M04855_0094_000000000-K424V/multiqc_data\\n|           multiqc | MultiQC complete\\n|           multiqc | 7 flat-image plots used in the report due to large sample numbers\\n|           multiqc | To force interactive plots, use the '--interactive' flag. \\nSee the documentation.\\n\")"
      ]
     },
     "execution_count": 12,
     "metadata": {},
     "output_type": "execute_result"
    }
   ],
   "source": [
    "run_cmd(f\"multiqc -o {basepath} {outpath}\")"
   ]
  },
  {
   "cell_type": "code",
   "execution_count": null,
   "metadata": {},
   "outputs": [],
   "source": []
  },
  {
   "cell_type": "code",
   "execution_count": 13,
   "metadata": {},
   "outputs": [],
   "source": [
    "import re\n",
    "from tempfile import TemporaryDirectory\n",
    "\n",
    "def busco_summary(file):\n",
    "    prog = re.compile('C:([0-9]+.[0-9])%\\[S:([0-9]+.[0-9])%,D:([0-9]+.[0-9])%\\],F:([0-9]+.[0-9])%,M:([0-9]+.[0-9])%')\n",
    "    with open(file) as handle:\n",
    "        for line in handle.readlines():\n",
    "            match = prog.search(line)\n",
    "            if match:\n",
    "                return match.groups()\n",
    "\n",
    "            \n",
    "def run_busco(seqfile, sample_name, outdir, db_path, threads=1):\n",
    "    with TemporaryDirectory(dir='/tmp') as tmpdir:\n",
    "        cmd = f'conda run -n busco busco -i {seqfile} -c {threads} -o {sample_name} --out_path {tmpdir} --auto-lineage-prok -m geno --offline --download_path {db_path}'\n",
    "        run_cmd(cmd)\n",
    "        for summary_file in Path(tmpdir, sample_name).glob(f'short_summary.specific.*.{sample_name}.txt'):\n",
    "            shutil.copy(summary_file, outdir)"
   ]
  },
  {
   "cell_type": "code",
   "execution_count": 14,
   "metadata": {},
   "outputs": [],
   "source": [
    "database_path = '/media/GenomicResearch/Tools/busco_downloads'"
   ]
  },
  {
   "cell_type": "code",
   "execution_count": 15,
   "metadata": {},
   "outputs": [],
   "source": [
    "busco_dir = basepath/'busco'\n",
    "busco_dir.mkdir(exist_ok=True)"
   ]
  },
  {
   "cell_type": "code",
   "execution_count": 16,
   "metadata": {},
   "outputs": [],
   "source": [
    "with Pool(20) as p:\n",
    "    try:\n",
    "        for filepath in contigs_dir.iterdir():\n",
    "            p.apply_async(run_busco, (filepath, filepath.stem, busco_dir, database_path, 4))\n",
    "        p.close()\n",
    "        p.join()\n",
    "    except KeyboardInterrupt:\n",
    "        p.terminate()"
   ]
  },
  {
   "cell_type": "code",
   "execution_count": 17,
   "metadata": {},
   "outputs": [],
   "source": [
    "data = []\n",
    "for summary_file in busco_dir.iterdir():\n",
    "    lineage, sample_name = summary_file.stem.rsplit('.', 2)[1:]\n",
    "    complete, single, duplicated, fragmented, missing = busco_summary(summary_file)\n",
    "    data.append((sample_name, lineage, complete, single, duplicated, fragmented, missing))\n",
    "busco_results = pd.DataFrame(data, columns=['sample_name', 'lineage', 'complete', 'single', 'duplicated', 'fragmented', 'missing'])"
   ]
  },
  {
   "cell_type": "code",
   "execution_count": 18,
   "metadata": {},
   "outputs": [],
   "source": [
    "busco_results = busco_results.sort_values('sample_name')"
   ]
  },
  {
   "cell_type": "code",
   "execution_count": 19,
   "metadata": {},
   "outputs": [],
   "source": [
    "busco_results.to_csv(basepath/'busco.tsv', sep='\\t', index=False)"
   ]
  },
  {
   "cell_type": "code",
   "execution_count": null,
   "metadata": {},
   "outputs": [],
   "source": []
  }
 ],
 "metadata": {
  "kernelspec": {
   "display_name": "Python 3",
   "language": "python",
   "name": "python3"
  },
  "language_info": {
   "codemirror_mode": {
    "name": "ipython",
    "version": 3
   },
   "file_extension": ".py",
   "mimetype": "text/x-python",
   "name": "python",
   "nbconvert_exporter": "python",
   "pygments_lexer": "ipython3",
   "version": "3.6.13"
  }
 },
 "nbformat": 4,
 "nbformat_minor": 4
}
