{
 "cells": [
  {
   "cell_type": "code",
   "execution_count": 1,
   "id": "a9bba892-e81d-47e7-beef-589fa5e1f8ac",
   "metadata": {},
   "outputs": [],
   "source": [
    "import sys\n",
    "from pathlib import Path\n",
    "from collections import defaultdict\n",
    "from concurrent.futures import ProcessPoolExecutor\n",
    "\n",
    "sys.path.append('../src')\n",
    "from utils import count_fastq_bases"
   ]
  },
  {
   "cell_type": "code",
   "execution_count": 6,
   "id": "a97a3541-e645-433f-847b-f2a05fb491d4",
   "metadata": {},
   "outputs": [],
   "source": [
    "raw_files = \"\"\"/media/BioNumerics/NGS_Salmonella/EB13.001_Rawreads_1.fastq.gz\n",
    "/media/BioNumerics/NGS_Salmonella/EB13.001_Rawreads_2.fastq.gz\n",
    "/media/BioNumerics/NGS_Salmonella/R17.4270_Rawreads_1.fastq.gz\n",
    "/media/BioNumerics/NGS_Salmonella/R17.4270_Rawreads_2.fastq.gz\n",
    "\"\"\""
   ]
  },
  {
   "cell_type": "code",
   "execution_count": 7,
   "id": "c6f514c5-31bf-4f01-a4b1-31140db03573",
   "metadata": {},
   "outputs": [
    {
     "data": {
      "text/plain": [
       "defaultdict(list,\n",
       "            {'EB13.001': ['/media/BioNumerics/NGS_Salmonella/EB13.001_Rawreads_1.fastq.gz',\n",
       "              '/media/BioNumerics/NGS_Salmonella/EB13.001_Rawreads_2.fastq.gz'],\n",
       "             'R17.4270': ['/media/BioNumerics/NGS_Salmonella/R17.4270_Rawreads_1.fastq.gz',\n",
       "              '/media/BioNumerics/NGS_Salmonella/R17.4270_Rawreads_2.fastq.gz']})"
      ]
     },
     "execution_count": 7,
     "metadata": {},
     "output_type": "execute_result"
    }
   ],
   "source": [
    "raw_files = raw_files.split()\n",
    "pairwise = defaultdict(list)\n",
    "for raw in raw_files:\n",
    "    pairwise[Path(raw).stem.split('_')[0]].append(raw)\n",
    "pairwise"
   ]
  },
  {
   "cell_type": "code",
   "execution_count": 8,
   "id": "e4822eaf-fec6-4c7d-a7e3-5eec3f54c6e0",
   "metadata": {},
   "outputs": [],
   "source": [
    "depths = dict()\n",
    "for sample_name, raws in pairwise.items():\n",
    "    depths[sample_name] = sum(count_fastq_bases(raw) for raw in raws)/5000000"
   ]
  },
  {
   "cell_type": "code",
   "execution_count": 9,
   "id": "cb8a78a0-a632-4160-8e9d-368c23c8c8d4",
   "metadata": {},
   "outputs": [
    {
     "data": {
      "text/plain": [
       "{'EB13.001': 120.6070268, 'R17.4270': 58.8958736}"
      ]
     },
     "execution_count": 9,
     "metadata": {},
     "output_type": "execute_result"
    }
   ],
   "source": [
    "depths"
   ]
  },
  {
   "cell_type": "code",
   "execution_count": null,
   "id": "531d3917-8c76-4be5-be25-2004e4b08185",
   "metadata": {},
   "outputs": [],
   "source": []
  }
 ],
 "metadata": {
  "kernelspec": {
   "display_name": "Python 3",
   "language": "python",
   "name": "python3"
  },
  "language_info": {
   "codemirror_mode": {
    "name": "ipython",
    "version": 3
   },
   "file_extension": ".py",
   "mimetype": "text/x-python",
   "name": "python",
   "nbconvert_exporter": "python",
   "pygments_lexer": "ipython3",
   "version": "3.6.13"
  }
 },
 "nbformat": 4,
 "nbformat_minor": 5
}
