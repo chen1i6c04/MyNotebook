{
 "cells": [
  {
   "cell_type": "code",
   "execution_count": 1,
   "id": "statistical-contribution",
   "metadata": {},
   "outputs": [],
   "source": [
    "from pathlib import Path"
   ]
  },
  {
   "cell_type": "code",
   "execution_count": 7,
   "id": "worst-release",
   "metadata": {},
   "outputs": [],
   "source": [
    "dirpath = Path('/media/NGS/MiSeqAnalysis/Campylobacter/Contigs')\n",
    "outpath = Path('/media/NGS/MiSeqAnalysis/Campylobacter/Annotation')\n",
    "prodigaltf = '/home/chen1i6c04/Projects/Benga/models/Campylobacter_with_training.trn'"
   ]
  },
  {
   "cell_type": "code",
   "execution_count": 8,
   "id": "revolutionary-element",
   "metadata": {},
   "outputs": [],
   "source": [
    "with open('prokka_commands.txt', 'w') as handle:\n",
    "    for filepath in dirpath.iterdir():\n",
    "        prefix = filepath.stem\n",
    "        outdir = outpath/prefix\n",
    "        cmd = f\"prokka --outdir {outdir} --prefix {prefix} --prodigaltf {prodigaltf} {filepath}\"\n",
    "        handle.write(cmd + '\\n')"
   ]
  },
  {
   "cell_type": "code",
   "execution_count": 9,
   "id": "beneficial-raleigh",
   "metadata": {},
   "outputs": [],
   "source": [
    "!parallel -j 4 < prokka_commands.txt &> /dev/null"
   ]
  },
  {
   "cell_type": "code",
   "execution_count": null,
   "id": "italian-silver",
   "metadata": {},
   "outputs": [],
   "source": []
  }
 ],
 "metadata": {
  "kernelspec": {
   "display_name": "Python 3",
   "language": "python",
   "name": "python3"
  },
  "language_info": {
   "codemirror_mode": {
    "name": "ipython",
    "version": 3
   },
   "file_extension": ".py",
   "mimetype": "text/x-python",
   "name": "python",
   "nbconvert_exporter": "python",
   "pygments_lexer": "ipython3",
   "version": "3.6.12"
  }
 },
 "nbformat": 4,
 "nbformat_minor": 5
}
