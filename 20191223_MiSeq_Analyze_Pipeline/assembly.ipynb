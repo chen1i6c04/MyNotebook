{
 "cells": [
  {
   "cell_type": "code",
   "execution_count": 1,
   "metadata": {},
   "outputs": [],
   "source": [
    "import os\n",
    "import sys\n",
    "import shutil\n",
    "from pathlib import Path\n",
    "from collections import defaultdict\n",
    "from multiprocessing import Pool"
   ]
  },
  {
   "cell_type": "code",
   "execution_count": 2,
   "metadata": {},
   "outputs": [],
   "source": [
    "sys.path.append('../src')\n",
    "from utils import run_cmd"
   ]
  },
  {
   "cell_type": "code",
   "execution_count": null,
   "metadata": {},
   "outputs": [],
   "source": []
  },
  {
   "cell_type": "code",
   "execution_count": 3,
   "metadata": {},
   "outputs": [],
   "source": [
    "raw_files = \"\"\"/media/MiSeqOutput/180312_M04855_0023_000000000-BM7VH/Data/Intensities/BaseCalls/R17-5595_S16_L001_R1_001.fastq.gz\n",
    "/media/MiSeqOutput/180312_M04855_0023_000000000-BM7VH/Data/Intensities/BaseCalls/R17-5595_S16_L001_R2_001.fastq.gz\n",
    "/media/MiSeqOutput/180312_M04855_0023_000000000-BM7VH/Data/Intensities/BaseCalls/R17-5655_S17_L001_R1_001.fastq.gz\n",
    "/media/MiSeqOutput/180312_M04855_0023_000000000-BM7VH/Data/Intensities/BaseCalls/R17-5655_S17_L001_R2_001.fastq.gz\n",
    "/media/MiSeqOutput/180312_M04855_0023_000000000-BM7VH/Data/Intensities/BaseCalls/R17-5802_S18_L001_R1_001.fastq.gz\n",
    "/media/MiSeqOutput/180312_M04855_0023_000000000-BM7VH/Data/Intensities/BaseCalls/R17-5802_S18_L001_R2_001.fastq.gz\n",
    "/media/MiSeqOutput/180312_M04855_0023_000000000-BM7VH/Data/Intensities/BaseCalls/R17-6098_S19_L001_R1_001.fastq.gz\n",
    "/media/MiSeqOutput/180312_M04855_0023_000000000-BM7VH/Data/Intensities/BaseCalls/R17-6098_S19_L001_R2_001.fastq.gz\n",
    "/media/MiSeqOutput/180312_M04855_0023_000000000-BM7VH/Data/Intensities/BaseCalls/R17-6160_S20_L001_R1_001.fastq.gz\n",
    "/media/MiSeqOutput/180312_M04855_0023_000000000-BM7VH/Data/Intensities/BaseCalls/R17-6160_S20_L001_R2_001.fastq.gz\n",
    "/media/MiSeqOutput/180312_M04855_0023_000000000-BM7VH/Data/Intensities/BaseCalls/R17-6166_S21_L001_R1_001.fastq.gz\n",
    "/media/MiSeqOutput/180312_M04855_0023_000000000-BM7VH/Data/Intensities/BaseCalls/R17-6166_S21_L001_R2_001.fastq.gz\n",
    "\"\"\""
   ]
  },
  {
   "cell_type": "code",
   "execution_count": 4,
   "metadata": {},
   "outputs": [
    {
     "data": {
      "text/plain": [
       "defaultdict(list,\n",
       "            {'R17-5595': ['/media/MiSeqOutput/180312_M04855_0023_000000000-BM7VH/Data/Intensities/BaseCalls/R17-5595_S16_L001_R1_001.fastq.gz',\n",
       "              '/media/MiSeqOutput/180312_M04855_0023_000000000-BM7VH/Data/Intensities/BaseCalls/R17-5595_S16_L001_R2_001.fastq.gz'],\n",
       "             'R17-5655': ['/media/MiSeqOutput/180312_M04855_0023_000000000-BM7VH/Data/Intensities/BaseCalls/R17-5655_S17_L001_R1_001.fastq.gz',\n",
       "              '/media/MiSeqOutput/180312_M04855_0023_000000000-BM7VH/Data/Intensities/BaseCalls/R17-5655_S17_L001_R2_001.fastq.gz'],\n",
       "             'R17-5802': ['/media/MiSeqOutput/180312_M04855_0023_000000000-BM7VH/Data/Intensities/BaseCalls/R17-5802_S18_L001_R1_001.fastq.gz',\n",
       "              '/media/MiSeqOutput/180312_M04855_0023_000000000-BM7VH/Data/Intensities/BaseCalls/R17-5802_S18_L001_R2_001.fastq.gz'],\n",
       "             'R17-6098': ['/media/MiSeqOutput/180312_M04855_0023_000000000-BM7VH/Data/Intensities/BaseCalls/R17-6098_S19_L001_R1_001.fastq.gz',\n",
       "              '/media/MiSeqOutput/180312_M04855_0023_000000000-BM7VH/Data/Intensities/BaseCalls/R17-6098_S19_L001_R2_001.fastq.gz'],\n",
       "             'R17-6160': ['/media/MiSeqOutput/180312_M04855_0023_000000000-BM7VH/Data/Intensities/BaseCalls/R17-6160_S20_L001_R1_001.fastq.gz',\n",
       "              '/media/MiSeqOutput/180312_M04855_0023_000000000-BM7VH/Data/Intensities/BaseCalls/R17-6160_S20_L001_R2_001.fastq.gz'],\n",
       "             'R17-6166': ['/media/MiSeqOutput/180312_M04855_0023_000000000-BM7VH/Data/Intensities/BaseCalls/R17-6166_S21_L001_R1_001.fastq.gz',\n",
       "              '/media/MiSeqOutput/180312_M04855_0023_000000000-BM7VH/Data/Intensities/BaseCalls/R17-6166_S21_L001_R2_001.fastq.gz']})"
      ]
     },
     "execution_count": 4,
     "metadata": {},
     "output_type": "execute_result"
    }
   ],
   "source": [
    "raw_files = raw_files.split()\n",
    "pairwise = defaultdict(list)\n",
    "for raw in raw_files:\n",
    "    pairwise[Path(raw).stem.split('_')[0]].append(raw)\n",
    "pairwise"
   ]
  },
  {
   "cell_type": "code",
   "execution_count": 5,
   "metadata": {},
   "outputs": [],
   "source": [
    "outpath = Path('/media/MiSeqOutput/180312_M04855_0023_000000000-BM7VH')\n",
    "program = '/media/Central_Lab_Storage/bo-han/Projects/MiAW/miaw.py'\n",
    "\n",
    "cmds = []\n",
    "for sample_name, (sr_1, sr_2) in pairwise.items():\n",
    "    cmd = f\"conda run -n miaw python {program} -1 {sr_1} -2 {sr_2} -o {outpath/sample_name} -t 8\"\n",
    "    cmds.append(cmd)"
   ]
  },
  {
   "cell_type": "code",
   "execution_count": 9,
   "metadata": {},
   "outputs": [],
   "source": [
    "with Pool(8) as p:\n",
    "    try:\n",
    "        p.map(run_cmd, cmds)\n",
    "        p.close()\n",
    "        p.join()\n",
    "    except KeyboardInterrupt:\n",
    "        p.terminate()"
   ]
  },
  {
   "cell_type": "code",
   "execution_count": null,
   "metadata": {},
   "outputs": [],
   "source": []
  },
  {
   "cell_type": "code",
   "execution_count": 11,
   "metadata": {},
   "outputs": [],
   "source": [
    "dirpath = Path('/media/MiSeqOutput/180312_M04855_0023_000000000-BM7VH')\n",
    "outpath = Path('/media/GenomicResearch/MiSeq/Listeria_monocytogenes/New')\n",
    "\n",
    "for i in dirpath.iterdir():\n",
    "    src = i/'assembly.fasta'\n",
    "    dst = outpath/(i.name + '.fa')\n",
    "    if src.exists():\n",
    "        shutil.copyfile(src, dst)"
   ]
  },
  {
   "cell_type": "code",
   "execution_count": null,
   "metadata": {},
   "outputs": [],
   "source": []
  }
 ],
 "metadata": {
  "kernelspec": {
   "display_name": "Python 3",
   "language": "python",
   "name": "python3"
  },
  "language_info": {
   "codemirror_mode": {
    "name": "ipython",
    "version": 3
   },
   "file_extension": ".py",
   "mimetype": "text/x-python",
   "name": "python",
   "nbconvert_exporter": "python",
   "pygments_lexer": "ipython3",
   "version": "3.6.13"
  }
 },
 "nbformat": 4,
 "nbformat_minor": 4
}
