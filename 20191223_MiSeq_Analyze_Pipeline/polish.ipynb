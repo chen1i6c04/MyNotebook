{
 "cells": [
  {
   "cell_type": "code",
   "execution_count": 3,
   "metadata": {},
   "outputs": [],
   "source": [
    "import os\n",
    "import sys\n",
    "import shutil\n",
    "from pathlib import Path\n",
    "\n",
    "sys.path.append('../src')\n",
    "\n",
    "from utils import run_cmd"
   ]
  },
  {
   "cell_type": "code",
   "execution_count": 1,
   "metadata": {},
   "outputs": [
    {
     "name": "stdout",
     "output_type": "stream",
     "text": [
      "Looking to launch executable \"/usr/local/bin/bwa-mem2.avx2\", simd = .avx2\n",
      "Launching executable \"/usr/local/bin/bwa-mem2.avx2\"\n",
      "[bwa_index] Pack FASTA... 1.04 sec\n",
      "* Entering FMI_search\n",
      "init ticks = 9168732749\n",
      "ref seq len = 231674928\n",
      "binary seq ticks = 4972071087\n",
      "build suffix-array ticks = 195436162237\n",
      "ref_seq_len = 231674928\n",
      "count = 0, 66338276, 115837464, 165336652, 231674928\n",
      "BWT[53189217] = 4\n",
      "CP_SHIFT = 6, CP_MASK = 63\n",
      "sizeof CP_OCC = 64\n",
      "pos: 28959367, ref_seq_len__: 28959366\n",
      "max_occ_ind = 3619920\n",
      "build fm-index ticks = 29098128317\n",
      "Total time taken: 120.9092\n",
      "Looking to launch executable \"/usr/local/bin/bwa-mem2.avx2\", simd = .avx2\n",
      "Launching executable \"/usr/local/bin/bwa-mem2.avx2\"\n",
      "-----------------------------\n",
      "Executing in AVX2 mode!!\n",
      "-----------------------------\n",
      "* SA compression enabled with xfactor: 8\n",
      "WARNING: bwa-mem2 doesn't work well with long reads or contigs; please use minimap2 instead.\n",
      "* Ref file: /media/GenomicResearch/Issue/UNSGM/denovo/Sample05/contigs.fasta\n",
      "* Entering FMI_search\n",
      "* Index file found. Loading index from /media/GenomicResearch/Issue/UNSGM/denovo/Sample05/contigs.fasta.bwt.2bit.64\n",
      "* Reference seq len for bi-index = 231674929\n",
      "* sentinel-index: 53189217\n",
      "* Count:\n",
      "0,\t1\n",
      "1,\t66338277\n",
      "2,\t115837465\n",
      "3,\t165336653\n",
      "4,\t231674929\n",
      "\n",
      "* Reading other elements of the index from files /media/GenomicResearch/Issue/UNSGM/denovo/Sample05/contigs.fasta\n",
      "* Index prefix: /media/GenomicResearch/Issue/UNSGM/denovo/Sample05/contigs.fasta\n",
      "* Read 0 ALT contigs\n",
      "* Done reading Index!!\n",
      "* Reading reference genome..\n",
      "* Binary seq file = /media/GenomicResearch/Issue/UNSGM/denovo/Sample05/contigs.fasta.0123\n",
      "* Reference genome size: 231674928 bp\n",
      "* Done reading reference genome !!\n",
      "\n",
      "------------------------------------------\n",
      "1. Memory pre-allocation for Chaining: 2229.4236 MB\n",
      "2. Memory pre-allocation for BSW: 3833.8724 MB\n",
      "3. Memory pre-allocation for BWT: 1237.0268 MB\n",
      "------------------------------------------\n",
      "* Threads used (compute): 16\n",
      "* No. of pipeline threads: 2\n",
      "\n",
      "[0000] read_chunk: 160000000, work_chunk_size: 160000053, nseq: 1389472\n",
      "\t[0000][ M::kt_pipeline] read 1389472 sequences (160000053 bp)...\n",
      "[0000] Reallocating initial memory allocations!!\n",
      "[0000] Calling mem_process_seqs.., task: 0\n",
      "[0000] 1. Calling kt_for - worker_bwt\n",
      "[0000] read_chunk: 160000000, work_chunk_size: 160000191, nseq: 1389804\n",
      "\t[0000][ M::kt_pipeline] read 1389804 sequences (160000191 bp)...\n",
      "[0000] 2. Calling kt_for - worker_aln\n",
      "[0000] Inferring insert size distribution of PE reads from data, l_pac: 115837464, n: 1389472\n",
      "[0000][PE] # candidate unique pairs for (FF, FR, RF, RR): (3, 219, 3, 2)\n",
      "[0000][PE] skip orientation FF as there are not enough pairs\n",
      "[0000][PE] analyzing insert size distribution for orientation FR...\n",
      "[0000][PE] (25, 50, 75) percentile: (99, 208, 236)\n",
      "[0000][PE] low and high boundaries for computing mean and std.dev: (1, 510)\n",
      "[0000][PE] mean and std.dev: (173.06, 87.20)\n",
      "[0000][PE] low and high boundaries for proper pairs: (1, 647)\n",
      "[0000][PE] skip orientation RF as there are not enough pairs\n",
      "[0000][PE] skip orientation RR as there are not enough pairs\n",
      "[0000] 3. Calling kt_for - worker_sam\n",
      "[mem_sam_pe] [mem_sam_pe] [mem_sam_pe] paired reads have different names: \"Sample05:1541\", \"Sample05:1545\"\n",
      "paired reads have different names: \"Sample05:1004\", \"Sample05:1006\"\n",
      "\n",
      "[mem_sam_pe] paired reads have different names: \"Sample05:1272\", \"Sample05:1275\"\n",
      "\n",
      "\n",
      "samtools sort: truncated file. Aborting\n",
      "[E::hts_open_format] Failed to open file \"/media/GenomicResearch/Issue/UNSGM/denovo/Sample05/aln.sort.bam\" : No such file or directory\n",
      "samtools index: failed to open \"/media/GenomicResearch/Issue/UNSGM/denovo/Sample05/aln.sort.bam\": No such file or directory\n",
      "ERROR conda.cli.main_run:execute(33): Subprocess for 'conda run ['pilon', '--genome', '{asm}', '--frags', '{bam}', '--minmq', '60', '--minqual', '3', '--fix', 'bases', '--output', 'pilon', '--outdir', '{outdir}', '--threads', '{threads}', '--changes', '--mindepth', '0.25']' command failed.  (See above for error)\n",
      "Pilon version 1.24 Thu Jan 28 13:00:45 2021 -0500\n",
      "\n",
      "Exception in thread \"main\" htsjdk.samtools.util.RuntimeIOException: java.io.FileNotFoundException: {bam} (沒有此一檔案或目錄)\n",
      "\tat htsjdk.samtools.FileInputResource$1.get(SamInputResource.java:256)\n",
      "\tat htsjdk.samtools.FileInputResource$1.get(SamInputResource.java:250)\n",
      "\tat htsjdk.samtools.util.Lazy.get(Lazy.java:25)\n",
      "\tat htsjdk.samtools.FileInputResource.asUnbufferedSeekableStream(SamInputResource.java:291)\n",
      "\tat htsjdk.samtools.FileInputResource.asUnbufferedInputStream(SamInputResource.java:299)\n",
      "\tat htsjdk.samtools.SamReaderFactory$SamReaderFactoryImpl.open(SamReaderFactory.java:367)\n",
      "\tat htsjdk.samtools.SamReaderFactory$SamReaderFactoryImpl.open(SamReaderFactory.java:208)\n",
      "\tat org.broadinstitute.pilon.BamFile.reader(BamFile.scala:51)\n",
      "\tat org.broadinstitute.pilon.BamFile.<init>(BamFile.scala:57)\n",
      "\tat org.broadinstitute.pilon.Pilon$.optionParse(Pilon.scala:165)\n",
      "\tat org.broadinstitute.pilon.Pilon$.optionParse(Pilon.scala:172)\n",
      "\tat org.broadinstitute.pilon.Pilon$.main(Pilon.scala:84)\n",
      "\tat org.broadinstitute.pilon.Pilon.main(Pilon.scala)\n",
      "Caused by: java.io.FileNotFoundException: {bam} (沒有此一檔案或目錄)\n",
      "\tat java.base/java.io.RandomAccessFile.open0(Native Method)\n",
      "\tat java.base/java.io.RandomAccessFile.open(RandomAccessFile.java:345)\n",
      "\tat java.base/java.io.RandomAccessFile.<init>(RandomAccessFile.java:259)\n",
      "\tat java.base/java.io.RandomAccessFile.<init>(RandomAccessFile.java:214)\n",
      "\tat htsjdk.samtools.seekablestream.SeekableFileStream.<init>(SeekableFileStream.java:47)\n",
      "\tat htsjdk.samtools.FileInputResource$1.get(SamInputResource.java:254)\n",
      "\t... 12 more\n",
      "\n"
     ]
    }
   ],
   "source": [
    "asm = '/media/GenomicResearch/Issue/UNSGM/denovo/Sample05/contigs.fasta'\n",
    "raws = [\n",
    "    '/media/GenomicResearch/Issue/UNSGM/raw_trim/Sample05_R1.fastq.gz',\n",
    "    '/media/GenomicResearch/Issue/UNSGM/raw_trim/Sample05_R2.fastq.gz',\n",
    "]\n",
    "bam = '/media/GenomicResearch/Issue/UNSGM/denovo/Sample05/aln.sort.bam'\n",
    "outdir = '/media/GenomicResearch/Issue/UNSGM/denovo/Sample05/pilon'\n",
    "\n",
    "!bwa-mem2 index {asm}\n",
    "!samtools faidx {asm}\n",
    "!bwa-mem2 mem -v 3 -x intractg -t 16 {asm} {' '.join(raws)} | samtools sort --threads 16 -m 500m --reference {asm} -T /tmp/ -o {bam}\n",
    "!samtools index {bam}\n",
    "!conda run -n miaw pilon --genome {asm} --frags {bam} --minmq 60 --minqual 3 --fix bases --output pilon --outdir {outdir} --threads {threads} --changes --mindepth 0.25"
   ]
  },
  {
   "cell_type": "code",
   "execution_count": 4,
   "metadata": {},
   "outputs": [],
   "source": [
    "def pilon_polish(fq_1, fq_2, reference, outdir, output='pilon', threads=4):\n",
    "    bam = os.path.join(outdir, 'alignments.sort.bam')\n",
    "    run_cmd(f\"bwa index {reference}\")\n",
    "    run_cmd(f\"samtools faidx  {reference}\")\n",
    "    \n",
    "    cmd = f\"bwa mem -v 3 -x intractg -t {threads} {reference} {fq_1} {fq_2} | \"\\\n",
    "          f\"samclip --ref {reference}.fai | \"\\\n",
    "          f\"samtools sort --threads {threads} -m 500m --reference {reference} -T /tmp/ -o {bam}\"\n",
    "    run_cmd(cmd)\n",
    "    run_cmd(f\"samtools index  {bam}\")\n",
    "    cmd = f\"pilon --genome {reference} --frags {bam} --minmq 60 --minqual 3 --fix bases --output {output} \"\\\n",
    "          f\"--outdir {outdir} --threads {threads} --changes --mindepth 0.25\"\n",
    "    run_cmd(cmd)"
   ]
  },
  {
   "cell_type": "code",
   "execution_count": null,
   "metadata": {},
   "outputs": [],
   "source": []
  },
  {
   "cell_type": "code",
   "execution_count": 6,
   "metadata": {},
   "outputs": [],
   "source": [
    "fq_1 = '/media/NAS/MiSeqOutput/210305_M04855_0068_000000000-JDTYJ/Data/Intensities/BaseCalls/R14-0180-RifR_S42_L001_R1_001.fastq.gz'\n",
    "fq_2 = '/media/NAS/MiSeqOutput/210305_M04855_0068_000000000-JDTYJ/Data/Intensities/BaseCalls/R14-0180-RifR_S42_L001_R2_001.fastq.gz'\n",
    "reference = '/home/chen1i6c04/test/R14-0180-RifR.fa'"
   ]
  },
  {
   "cell_type": "code",
   "execution_count": 8,
   "metadata": {},
   "outputs": [],
   "source": [
    "pilon_polish(fq_1, fq_2, reference, outdir='/home/chen1i6c04/test', threads=32)"
   ]
  },
  {
   "cell_type": "code",
   "execution_count": 9,
   "metadata": {},
   "outputs": [],
   "source": [
    "p = run_cmd(f\"wc -l /home/chen1i6c04/test/pilon.changes | awk '{{print $1}}'\")"
   ]
  },
  {
   "cell_type": "code",
   "execution_count": 26,
   "metadata": {},
   "outputs": [],
   "source": [
    "n = 0.4853185354"
   ]
  },
  {
   "cell_type": "code",
   "execution_count": 29,
   "metadata": {},
   "outputs": [
    {
     "data": {
      "text/plain": [
       "'0.48532'"
      ]
     },
     "execution_count": 29,
     "metadata": {},
     "output_type": "execute_result"
    }
   ],
   "source": [
    "f'{n:.5f}'"
   ]
  },
  {
   "cell_type": "code",
   "execution_count": null,
   "metadata": {},
   "outputs": [],
   "source": []
  }
 ],
 "metadata": {
  "kernelspec": {
   "display_name": "Python 3",
   "language": "python",
   "name": "python3"
  },
  "language_info": {
   "codemirror_mode": {
    "name": "ipython",
    "version": 3
   },
   "file_extension": ".py",
   "mimetype": "text/x-python",
   "name": "python",
   "nbconvert_exporter": "python",
   "pygments_lexer": "ipython3",
   "version": "3.6.13"
  }
 },
 "nbformat": 4,
 "nbformat_minor": 4
}
