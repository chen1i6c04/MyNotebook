{
 "cells": [
  {
   "cell_type": "code",
   "execution_count": 1,
   "id": "8cf1423f",
   "metadata": {},
   "outputs": [],
   "source": [
    "from pathlib import Path\n",
    "from collections import defaultdict"
   ]
  },
  {
   "cell_type": "code",
   "execution_count": 2,
   "id": "4bd78873",
   "metadata": {},
   "outputs": [],
   "source": [
    "dirpath = Path('/media/NGS/Data_Analysis/20210803_wgSNP_in_nanopore/WGS/Nanopore')\n",
    "sample_names = [i.stem.replace('.fastq', '') for i in dirpath.iterdir()]"
   ]
  },
  {
   "cell_type": "code",
   "execution_count": 9,
   "id": "6482c5d4",
   "metadata": {},
   "outputs": [],
   "source": [
    "dirpath = Path('/media/NAS/BioNumerics/NGS_Salmonella')\n",
    "illumina_wgs_file = []\n",
    "for i in dirpath.iterdir():\n",
    "    prefix = i.stem.split('_')[0]\n",
    "    if prefix in sample_names:\n",
    "        illumina_wgs_file.append(i)"
   ]
  },
  {
   "cell_type": "code",
   "execution_count": 11,
   "id": "29673f00",
   "metadata": {},
   "outputs": [],
   "source": [
    "outpath = Path('/media/NGS/Data_Analysis/20210803_wgSNP_in_nanopore/WGS/Illumina')\n",
    "for file in illumina_wgs_file:\n",
    "    outfile = outpath/file.name\n",
    "    outfile.symlink_to(file)"
   ]
  },
  {
   "cell_type": "code",
   "execution_count": null,
   "id": "a48a821f",
   "metadata": {},
   "outputs": [],
   "source": []
  },
  {
   "cell_type": "code",
   "execution_count": 13,
   "id": "3cc3e01d",
   "metadata": {},
   "outputs": [],
   "source": [
    "import re"
   ]
  },
  {
   "cell_type": "code",
   "execution_count": 27,
   "id": "fba282ec",
   "metadata": {},
   "outputs": [],
   "source": [
    "dirpath = Path('/media/NGS/Data_Analysis/20210803_wgSNP_in_nanopore/MinType/Nanopore/DataFiles')\n",
    "outpath = Path('/media/NGS/Data_Analysis/20210803_wgSNP_in_nanopore/MinType/Nanopore_vs_Illumina/DataFiles')"
   ]
  },
  {
   "cell_type": "code",
   "execution_count": 28,
   "id": "2f58d8b5",
   "metadata": {},
   "outputs": [],
   "source": [
    "for i in dirpath.glob('*.fsa'):\n",
    "    new_filename = outpath/i.name.replace('.fastq.gz_mapping_results', '-nanopore')\n",
    "    new_filename.symlink_to(i)"
   ]
  },
  {
   "cell_type": "code",
   "execution_count": 29,
   "id": "535f832c",
   "metadata": {},
   "outputs": [],
   "source": [
    "dirpath = Path('/media/NGS/Data_Analysis/20210803_wgSNP_in_nanopore/MinType/Illumina/DataFiles')\n",
    "outpath = Path('/media/NGS/Data_Analysis/20210803_wgSNP_in_nanopore/MinType/Nanopore_vs_Illumina/DataFiles')"
   ]
  },
  {
   "cell_type": "code",
   "execution_count": 30,
   "id": "0bfc2b70",
   "metadata": {},
   "outputs": [],
   "source": [
    "for i in dirpath.glob('*.fsa'):\n",
    "    sample_name = re.search('\\w+.[0-9]+', i.stem).group()\n",
    "    new_filename = outpath/(sample_name + '-illumina.fsa')\n",
    "    new_filename.symlink_to(i)"
   ]
  },
  {
   "cell_type": "code",
   "execution_count": null,
   "id": "2a38d3ac",
   "metadata": {},
   "outputs": [],
   "source": []
  }
 ],
 "metadata": {
  "kernelspec": {
   "display_name": "Python 3",
   "language": "python",
   "name": "python3"
  },
  "language_info": {
   "codemirror_mode": {
    "name": "ipython",
    "version": 3
   },
   "file_extension": ".py",
   "mimetype": "text/x-python",
   "name": "python",
   "nbconvert_exporter": "python",
   "pygments_lexer": "ipython3",
   "version": "3.6.13"
  }
 },
 "nbformat": 4,
 "nbformat_minor": 5
}
