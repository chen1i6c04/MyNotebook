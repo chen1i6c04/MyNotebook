{
 "cells": [
  {
   "cell_type": "code",
   "execution_count": 1,
   "id": "44e5ffa5",
   "metadata": {},
   "outputs": [],
   "source": [
    "from pathlib import Path"
   ]
  },
  {
   "cell_type": "code",
   "execution_count": 2,
   "id": "b193fd14",
   "metadata": {},
   "outputs": [],
   "source": [
    "basepath = Path('/media/NAS/Central_Lab_Storage/bo-han/Data_Analysis/20201221_hybrid_and_denovo')\n",
    "outpath = basepath/'QUAST'\n",
    "reference_dirname = basepath/'Unicycler'/'Contigs'\n",
    "dirnames = ['Illumina', 'Denovo', 'Denovo_Fix-1', 'Denovo_Fix-2', 'Denovo_Fix-3', 'PCR', 'PCR-2']\n",
    "\n",
    "sample_names = [\n",
    "    'R19-2905',\n",
    "    'R20-0026',\n",
    "    'R20-0030',\n",
    "    'R20-0088',\n",
    "    'R20-0127',\n",
    "    'R20-0131',\n",
    "    'R20-0140',\n",
    "    'R20-0145',\n",
    "    'R20-0148',\n",
    "    'R20-0150',\n",
    "    'R20-0158',\n",
    "    'R20-0160',\n",
    "]"
   ]
  },
  {
   "cell_type": "code",
   "execution_count": 3,
   "id": "c6030684",
   "metadata": {},
   "outputs": [],
   "source": [
    "cmds = []\n",
    "for sample_name in sample_names:\n",
    "    contigs, labels = [], []\n",
    "    for dirname in dirnames:\n",
    "        contig = basepath/dirname/'Contigs'/(sample_name + '.fa')\n",
    "        if contig.exists():\n",
    "            contigs.append(str(contig))\n",
    "            labels.append(dirname)\n",
    "    reference = reference_dirname/(sample_name + '.fa')\n",
    "    outdir = outpath/sample_name\n",
    "    labels = ','.join(labels)\n",
    "    contigs = ' '.join(contigs)\n",
    "    cmd = f\"conda run -n quast quast.py -o {outdir} -t 8 -l {labels} -r {reference} {contigs}\"\n",
    "    cmds.append(cmd)"
   ]
  },
  {
   "cell_type": "code",
   "execution_count": 4,
   "id": "c9b4cdcd",
   "metadata": {},
   "outputs": [],
   "source": [
    "import sys\n",
    "from concurrent.futures import ProcessPoolExecutor\n",
    "\n",
    "sys.path.append('../src')\n",
    "from utils import run_cmd"
   ]
  },
  {
   "cell_type": "code",
   "execution_count": null,
   "id": "aa0ea5b3",
   "metadata": {},
   "outputs": [],
   "source": [
    "with ProcessPoolExecutor(8) as executor:\n",
    "    executor.map(run_cmd, cmds)"
   ]
  },
  {
   "cell_type": "code",
   "execution_count": null,
   "id": "39701c35",
   "metadata": {},
   "outputs": [],
   "source": []
  },
  {
   "cell_type": "code",
   "execution_count": null,
   "id": "5601530b",
   "metadata": {},
   "outputs": [],
   "source": []
  }
 ],
 "metadata": {
  "kernelspec": {
   "display_name": "Python 3",
   "language": "python",
   "name": "python3"
  },
  "language_info": {
   "codemirror_mode": {
    "name": "ipython",
    "version": 3
   },
   "file_extension": ".py",
   "mimetype": "text/x-python",
   "name": "python",
   "nbconvert_exporter": "python",
   "pygments_lexer": "ipython3",
   "version": "3.6.12"
  }
 },
 "nbformat": 4,
 "nbformat_minor": 5
}
