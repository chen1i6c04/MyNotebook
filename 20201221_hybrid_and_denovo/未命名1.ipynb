{
 "cells": [
  {
   "cell_type": "code",
   "execution_count": 1,
   "id": "e90bbc45-6a9a-4ba4-8ede-7a099ba1eecf",
   "metadata": {},
   "outputs": [],
   "source": [
    "import subprocess\n",
    "from pathlib import Path\n",
    "from concurrent.futures import ProcessPoolExecutor"
   ]
  },
  {
   "cell_type": "code",
   "execution_count": 2,
   "id": "b2e29806-5191-4301-a2d8-29b7ac018911",
   "metadata": {},
   "outputs": [],
   "source": [
    "def assembly_accuracy(reference, assembly, output):\n",
    "    program = '/media/GenomicResearch/Tools/assembly_accuracy/fastmer.py'\n",
    "    with open(output, 'wb') as f:\n",
    "        subprocess.run(\n",
    "            [program, '--reference', reference, '--assembly', assembly, '--min-mapping-quality', '10'],\n",
    "            stdout=f\n",
    "        )"
   ]
  },
  {
   "cell_type": "code",
   "execution_count": 3,
   "id": "f98760e6-cead-49fb-9f0a-70caa3e367b3",
   "metadata": {},
   "outputs": [],
   "source": [
    "basepath = Path('/media/GenomicResearch/Issue/20201221_hybrid_and_denovo')"
   ]
  },
  {
   "cell_type": "code",
   "execution_count": 4,
   "id": "3f2f190c-b1a6-48ce-bc94-45e5b7b2d5b0",
   "metadata": {},
   "outputs": [],
   "source": [
    "refpath = basepath/'Unicycler'/'Contigs'"
   ]
  },
  {
   "cell_type": "code",
   "execution_count": 5,
   "id": "50cb2df6-b1ce-466e-9d05-c7f8c9a6d59c",
   "metadata": {},
   "outputs": [],
   "source": [
    "labels = [\n",
    "    'IlluminaWGS',\n",
    "    'NanoporeWGS-Old', 'NanoporeWGS', 'NanoporeWGSFix1', 'NanoporeWGSFix2', 'NanoporeWGSFix3', 'NanoporeWGSFix4',\n",
    "    'NanoporeWGS2',\n",
    "    'NanoporeWGA', 'NanoporeWGA2', 'NanoporeWGA3', 'NanoporeWGA4', 'NanoporeWGA5',\n",
    "]"
   ]
  },
  {
   "cell_type": "code",
   "execution_count": 6,
   "id": "7be7a3aa-fab0-405a-b762-8e5921bb83d4",
   "metadata": {},
   "outputs": [],
   "source": [
    "with ProcessPoolExecutor(64) as executor:\n",
    "    for label in labels:\n",
    "        dirpath = basepath/label/'Contigs'\n",
    "        outpath = basepath/label/'assembly_accuracy'\n",
    "        outpath.mkdir(exist_ok=True)\n",
    "        for asm in dirpath.iterdir():\n",
    "            sample_name = asm.stem\n",
    "            refseq = refpath/(sample_name + '.fa')\n",
    "            output = outpath/(sample_name + '.txt')\n",
    "            executor.submit(assembly_accuracy, refseq, asm, output)"
   ]
  },
  {
   "cell_type": "code",
   "execution_count": null,
   "id": "7845f092-4c36-4c22-85d7-34dea2ee2c13",
   "metadata": {},
   "outputs": [],
   "source": []
  },
  {
   "cell_type": "code",
   "execution_count": null,
   "id": "553464e4-d1c4-4f16-8e91-62c5721da0a8",
   "metadata": {},
   "outputs": [],
   "source": []
  }
 ],
 "metadata": {
  "kernelspec": {
   "display_name": "Python 3",
   "language": "python",
   "name": "python3"
  },
  "language_info": {
   "codemirror_mode": {
    "name": "ipython",
    "version": 3
   },
   "file_extension": ".py",
   "mimetype": "text/x-python",
   "name": "python",
   "nbconvert_exporter": "python",
   "pygments_lexer": "ipython3",
   "version": "3.6.13"
  }
 },
 "nbformat": 4,
 "nbformat_minor": 5
}
