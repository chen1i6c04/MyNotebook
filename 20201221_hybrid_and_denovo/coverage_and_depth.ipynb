{
 "cells": [
  {
   "cell_type": "markdown",
   "metadata": {},
   "source": [
    "## import sys\n",
    "from uuid import uuid4\n",
    "from pathlib import Path\n",
    "from tempfile import TemporaryFile\n",
    "from concurrent.futures import ProcessPoolExecutor\n",
    "import pandas as pd\n",
    "import numpy as np\n",
    "from Bio import SeqIO\n",
    "from Bio.Seq import Seq\n",
    "from Bio.SeqRecord import SeqRecord"
   ]
  },
  {
   "cell_type": "code",
   "execution_count": 2,
   "metadata": {},
   "outputs": [],
   "source": [
    "sys.path.append('../src')\n",
    "\n",
    "from utils import run_cmd"
   ]
  },
  {
   "cell_type": "code",
   "execution_count": null,
   "metadata": {},
   "outputs": [],
   "source": [
    "def calculate_each_position_depth(asm, raw, out, preset='map-ont', threads=8):\n",
    "    if preset not in {'map-ont', 'ava-ont', 'asm5', 'sr'}:\n",
    "        raise ValueError(f\"Variable {preset} not support.\")\n",
    "    run_cmd(f\"zcat -f {raw} | \"\\\n",
    "            f\"minimap2 -t {threads} -K 8G -ax {preset} {asm} - | \"\\\n",
    "            f\"samtools sort -@ {threads} --reference {asm} -O BAM - | \"\\\n",
    "            f\"samtools depth -a -@ {threads} - -o {out}\")"
   ]
  },
  {
   "cell_type": "code",
   "execution_count": null,
   "metadata": {},
   "outputs": [],
   "source": []
  },
  {
   "cell_type": "markdown",
   "metadata": {},
   "source": [
    "# Illumina WGS"
   ]
  },
  {
   "cell_type": "code",
   "execution_count": 18,
   "metadata": {},
   "outputs": [],
   "source": [
    "asm_dir = Path('/media/GenomicResearch/Issue/20201221_hybrid_and_denovo/Unicycler/Contigs')\n",
    "raw_dir = Path('/media/Central_Lab_Storage/MinION/20200925/fastq/illumina')\n",
    "out_dir = Path('/media/GenomicResearch/Issue/20201221_hybrid_and_denovo/Illumina/Depth')"
   ]
  },
  {
   "cell_type": "code",
   "execution_count": 19,
   "metadata": {},
   "outputs": [],
   "source": [
    "sample_names = [\n",
    "    'R19-2905',\n",
    "    'R20-0026',\n",
    "    'R20-0030',\n",
    "    'R20-0088',\n",
    "    'R20-0127',\n",
    "    'R20-0131',\n",
    "    'R20-0140',\n",
    "    'R20-0145',\n",
    "    'R20-0148',\n",
    "    'R20-0150',\n",
    "    'R20-0158',\n",
    "    'R20-0160',\n",
    "]"
   ]
  },
  {
   "cell_type": "code",
   "execution_count": 20,
   "metadata": {},
   "outputs": [],
   "source": [
    "with ProcessPoolExecutor(6) as executor:\n",
    "    for sample_name in sample_names:\n",
    "        asm = asm_dir/(sample_name + '.fa')\n",
    "        raw = raw_dir/(sample_name + '*')\n",
    "        out = out_dir/(sample_name + '.txt')\n",
    "        executor.submit(calculate_each_position_depth, asm, raw, out, 'sr')"
   ]
  },
  {
   "cell_type": "markdown",
   "metadata": {},
   "source": [
    "# Nanopore WGS"
   ]
  },
  {
   "cell_type": "code",
   "execution_count": 21,
   "metadata": {},
   "outputs": [],
   "source": [
    "asm_dir = Path('/media/GenomicResearch/Issue/20201221_hybrid_and_denovo/Unicycler/Contigs')\n",
    "raw_dir = Path('/media/ONT/20200925/Barcode')\n",
    "out_dir = Path('/media/GenomicResearch/Issue/20201221_hybrid_and_denovo/Denovo/Depth')"
   ]
  },
  {
   "cell_type": "code",
   "execution_count": 22,
   "metadata": {},
   "outputs": [],
   "source": [
    "dir_map = {\n",
    "    'R19-2905': 'barcode01',\n",
    "    'R20-0026': 'barcode02',\n",
    "    'R20-0030': 'barcode03',\n",
    "    'R20-0088': 'barcode04',\n",
    "    'R20-0127': 'barcode05',\n",
    "    'R20-0131': 'barcode06',\n",
    "    'R20-0140': 'barcode07',\n",
    "    'R20-0145': 'barcode08',\n",
    "    'R20-0148': 'barcode09',\n",
    "    'R20-0150': 'barcode10',\n",
    "    'R20-0158': 'barcode11',\n",
    "    'R20-0160': 'barcode12',\n",
    "}"
   ]
  },
  {
   "cell_type": "code",
   "execution_count": 23,
   "metadata": {},
   "outputs": [],
   "source": [
    "with ProcessPoolExecutor(8) as executor:\n",
    "    for sample_name, dirname in dir_map.items():\n",
    "        asm = asm_dir/(sample_name + '.fa')\n",
    "        raw = raw_dir/dirname/'*.fastq'\n",
    "        out = out_dir/(sample_name + '.txt')\n",
    "        executor.submit(calculate_each_position_depth, asm, raw, out)"
   ]
  },
  {
   "cell_type": "markdown",
   "metadata": {},
   "source": [
    "# Nanopore WGS"
   ]
  },
  {
   "cell_type": "code",
   "execution_count": 4,
   "metadata": {},
   "outputs": [],
   "source": [
    "asm_dir = Path('/media/GenomicResearch/Issue/20201221_hybrid_and_denovo/Unicycler/Contigs')\n",
    "raw_dir = Path('/media/ONT/20211209_Lis/guppy_hac')\n",
    "out_dir = Path('/media/GenomicResearch/Issue/20201221_hybrid_and_denovo/NanoporeWGS2/Depth')"
   ]
  },
  {
   "cell_type": "code",
   "execution_count": 5,
   "metadata": {},
   "outputs": [],
   "source": [
    "dir_map = {\n",
    "    'R20-0030': 'barcode07',\n",
    "    'R20-0140': 'barcode08',\n",
    "    'R20-0145': 'barcode09',\n",
    "    'R20-0148': 'barcode10',\n",
    "}"
   ]
  },
  {
   "cell_type": "code",
   "execution_count": 6,
   "metadata": {},
   "outputs": [],
   "source": [
    "with ProcessPoolExecutor(8) as executor:\n",
    "    for sample_name, dirname in dir_map.items():\n",
    "        asm = asm_dir/(sample_name + '.fa')\n",
    "        raw = raw_dir/dirname/'*.fastq'\n",
    "        out = out_dir/(sample_name + '.txt')\n",
    "        executor.submit(calculate_each_position_depth, asm, raw, out)"
   ]
  },
  {
   "cell_type": "markdown",
   "metadata": {},
   "source": [
    "# Nanopore WGA"
   ]
  },
  {
   "cell_type": "code",
   "execution_count": 24,
   "metadata": {},
   "outputs": [],
   "source": [
    "asm_dir = Path('/media/GenomicResearch/Issue/20201221_hybrid_and_denovo/Unicycler/Contigs')\n",
    "out_dir = Path('/media/GenomicResearch/Issue/20201221_hybrid_and_denovo/Amplification/Depth')"
   ]
  },
  {
   "cell_type": "code",
   "execution_count": 25,
   "metadata": {},
   "outputs": [],
   "source": [
    "dir_map = {\n",
    "    'R19-2905': '/media/ONT/20210902_Lis/guppy/barcode01',\n",
    "    'R20-0026': '/media/ONT/20210818_Lis/guppy/barcode01',\n",
    "    'R20-0030': '/media/ONT/20210902_Lis/guppy/barcode02',\n",
    "    'R20-0088': '/media/ONT/20210902_Lis/guppy/barcode03',\n",
    "    'R20-0127': '/media/ONT/20210818_Lis/guppy/barcode02',\n",
    "    'R20-0131': '/media/ONT/20210902_Lis/guppy/barcode04',\n",
    "    'R20-0140': '/media/ONT/20210902_Lis/guppy/barcode05',\n",
    "    'R20-0145': '/media/ONT/20210902_Lis/guppy/barcode06',\n",
    "    'R20-0148': '/media/ONT/20210818_Lis/guppy/barcode03',\n",
    "    'R20-0150': '/media/ONT/20210818_Lis/guppy/barcode04',\n",
    "    'R20-0158': '/media/ONT/20210902_Lis/guppy/barcode07',\n",
    "    'R20-0160': '/media/ONT/20210902_Lis/guppy/barcode08',\n",
    "}"
   ]
  },
  {
   "cell_type": "code",
   "execution_count": 26,
   "metadata": {},
   "outputs": [],
   "source": [
    "with ProcessPoolExecutor(6) as executor:\n",
    "    for sample_name, dirname in dir_map.items():\n",
    "        asm = asm_dir/(sample_name + '.fa')\n",
    "        raw = Path(dirname, '*.fastq')\n",
    "        out = out_dir/(sample_name + '.txt')\n",
    "        executor.submit(calculate_each_position_depth, asm, raw, out)"
   ]
  },
  {
   "cell_type": "markdown",
   "metadata": {},
   "source": [
    "# Nanopore WGA 2"
   ]
  },
  {
   "cell_type": "code",
   "execution_count": 27,
   "metadata": {},
   "outputs": [],
   "source": [
    "asm_dir = Path('/media/GenomicResearch/Issue/20201221_hybrid_and_denovo/Unicycler/Contigs')\n",
    "out_dir = Path('/media/GenomicResearch/Issue/20201221_hybrid_and_denovo/Amplification-2/Depth')"
   ]
  },
  {
   "cell_type": "code",
   "execution_count": 28,
   "metadata": {},
   "outputs": [],
   "source": [
    "dir_map = {\n",
    "    'R19-2905': '/media/ONT/20210909_Lis/Guppy/barcode09',\n",
    "    'R20-0030': '/media/ONT/20210909_Lis/Guppy/barcode10',\n",
    "    'R20-0088': '/media/ONT/20210909_Lis/Guppy/barcode11',\n",
    "    'R20-0131': '/media/ONT/20210909_Lis/Guppy/barcode12',\n",
    "}"
   ]
  },
  {
   "cell_type": "code",
   "execution_count": 29,
   "metadata": {},
   "outputs": [],
   "source": [
    "with ProcessPoolExecutor(8) as executor:\n",
    "    for sample_name, dirname in dir_map.items():\n",
    "        asm = asm_dir/(sample_name + '.fa')\n",
    "        raw = Path(dirname, '*.fastq')\n",
    "        out = out_dir/(sample_name + '.txt')\n",
    "        executor.submit(calculate_each_position_depth, asm, raw, out)"
   ]
  },
  {
   "cell_type": "markdown",
   "metadata": {},
   "source": [
    "# Nanopore WGA 3"
   ]
  },
  {
   "cell_type": "code",
   "execution_count": 30,
   "metadata": {},
   "outputs": [],
   "source": [
    "asm_dir = Path('/media/GenomicResearch/Issue/20201221_hybrid_and_denovo/Unicycler/Contigs')\n",
    "out_dir = Path('/media/GenomicResearch/Issue/20201221_hybrid_and_denovo/Amplification-3/Depth')"
   ]
  },
  {
   "cell_type": "code",
   "execution_count": 31,
   "metadata": {},
   "outputs": [],
   "source": [
    "dir_map = {\n",
    "    'R20-0088': '/media/ONT/20210916_Lis/Guppy/barcode09',\n",
    "    'R20-0131': '/media/ONT/20210916_Lis/Guppy/barcode10',\n",
    "}"
   ]
  },
  {
   "cell_type": "code",
   "execution_count": 32,
   "metadata": {},
   "outputs": [],
   "source": [
    "with ProcessPoolExecutor(8) as executor:\n",
    "    for sample_name, dirname in dir_map.items():\n",
    "        asm = asm_dir/(sample_name + '.fa')\n",
    "        raw = Path(dirname, '*.fastq')\n",
    "        out = out_dir/(sample_name + '.txt')\n",
    "        executor.submit(calculate_each_position_depth, asm, raw, out)"
   ]
  },
  {
   "cell_type": "code",
   "execution_count": null,
   "metadata": {},
   "outputs": [],
   "source": []
  },
  {
   "cell_type": "markdown",
   "metadata": {
    "tags": []
   },
   "source": [
    "# Nanopore WGA 5"
   ]
  },
  {
   "cell_type": "code",
   "execution_count": 24,
   "metadata": {},
   "outputs": [],
   "source": [
    "calculate_each_position_depth(\n",
    "    '/media/GenomicResearch/Issue/20201221_hybrid_and_denovo/Unicycler/Contigs/R20-0088.fa',\n",
    "    '/media/ONT/20211028_WGA/guppy_hac/barcode06/*',\n",
    "    '/media/GenomicResearch/Issue/20201221_hybrid_and_denovo/Amplification-5/Depth/R20-0088.txt',\n",
    "    threads=32,\n",
    ")"
   ]
  },
  {
   "cell_type": "markdown",
   "metadata": {},
   "source": [
    "# Nanopore WGA 4"
   ]
  },
  {
   "cell_type": "code",
   "execution_count": 23,
   "metadata": {},
   "outputs": [],
   "source": [
    "# calculate_each_position_depth(\n",
    "#     '/media/GenomicResearch/Issue/20201221_hybrid_and_denovo/Unicycler/Contigs/R20-0088.fa',\n",
    "#     '/media/ONT/20211007_WGA/guppy_hac/barcode12/*',\n",
    "#     '/media/GenomicResearch/Issue/20201221_hybrid_and_denovo/Amplification-4/Depth/R20-0088.txt',\n",
    "#     threads=24,\n",
    "# )"
   ]
  },
  {
   "cell_type": "markdown",
   "metadata": {},
   "source": [
    "# Nanopore WGA 6"
   ]
  },
  {
   "cell_type": "code",
   "execution_count": 14,
   "metadata": {},
   "outputs": [],
   "source": [
    "asm_dir = Path('/media/GenomicResearch/Issue/20201221_hybrid_and_denovo/Unicycler/Contigs')\n",
    "out_dir = Path('/media/GenomicResearch/Issue/20201221_hybrid_and_denovo/NanoporeWGA6/Depth')"
   ]
  },
  {
   "cell_type": "code",
   "execution_count": 20,
   "metadata": {},
   "outputs": [],
   "source": [
    "dir_map = {\n",
    "    'R19-2905': '/media/ONT/20211223_Lis_WGA/guppy_hac/barcode09',\n",
    "    'R20-0026': '/media/ONT/20211223_Lis_WGA/guppy_hac/barcode10',\n",
    "    'R20-0030': '/media/GenomicResearch/Issue/20210909_estimate_nanopore_depth/wga/20211220_Lis_WGA_barcode05_R20-0030/reads.fastq.gz',\n",
    "    'R20-0088': '/media/ONT/20211228_Lis_WGA/guppy_hac/barcode01',\n",
    "    'R20-0127': '/media/ONT/20211228_Lis_WGA/guppy_hac/barcode02',\n",
    "    'R20-0131': '/media/ONT/20211227_Lis_WGA/guppy_hac/barcode11',\n",
    "    'R20-0140': '/media/ONT/20211220_Lis_WGA_2/guppy_hac/barcode06',\n",
    "    'R20-0145': '/media/GenomicResearch/Issue/20210909_estimate_nanopore_depth/wga/20211220_Lis_WGA_barcode07_R20-0145/reads.fastq.gz',\n",
    "    'R20-0148': '/media/ONT/20211220_Lis_WGA_2/guppy_hac/barcode08',\n",
    "    'R20-0150': '/media/ONT/20211227_Lis_WGA/guppy_hac/barcode12',\n",
    "    'R20-0158': '/media/ONT/20211229_Lis_WGA/guppy_hac/barcode03',\n",
    "    'R20-0160': '/media/ONT/20211229_Lis_WGA/guppy_hac/barcode04',\n",
    "}"
   ]
  },
  {
   "cell_type": "code",
   "execution_count": 21,
   "metadata": {},
   "outputs": [],
   "source": [
    "with ProcessPoolExecutor(8) as executor:\n",
    "    for sample_name, dirname in dir_map.items():\n",
    "        dirname = Path(dirname)\n",
    "        asm = asm_dir/(sample_name + '.fa')\n",
    "        if dirname.is_dir():\n",
    "            raw = dirname/'*.fastq'\n",
    "        else:\n",
    "            raw = dirname\n",
    "        out = out_dir/(sample_name + '.txt')\n",
    "        executor.submit(calculate_each_position_depth, asm, raw, out)"
   ]
  },
  {
   "cell_type": "code",
   "execution_count": null,
   "metadata": {},
   "outputs": [],
   "source": []
  },
  {
   "cell_type": "code",
   "execution_count": null,
   "metadata": {},
   "outputs": [],
   "source": []
  }
 ],
 "metadata": {
  "kernelspec": {
   "display_name": "Python 3",
   "language": "python",
   "name": "python3"
  },
  "language_info": {
   "codemirror_mode": {
    "name": "ipython",
    "version": 3
   },
   "file_extension": ".py",
   "mimetype": "text/x-python",
   "name": "python",
   "nbconvert_exporter": "python",
   "pygments_lexer": "ipython3",
   "version": "3.6.13"
  }
 },
 "nbformat": 4,
 "nbformat_minor": 4
}
