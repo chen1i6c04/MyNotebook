{
 "cells": [
  {
   "cell_type": "code",
   "execution_count": 23,
   "metadata": {},
   "outputs": [],
   "source": [
    "import subprocess\n",
    "from pathlib import Path\n",
    "from collections import defaultdict\n",
    "from multiprocessing import Pool"
   ]
  },
  {
   "cell_type": "code",
   "execution_count": 5,
   "metadata": {},
   "outputs": [],
   "source": [
    "sample_names = ['R20-0148', 'R20-0127', 'R20-0131', 'R20-0026', 'R20-0158', 'R19-2905',\n",
    "                'R20-0145', 'R20-0140', 'R20-0160', 'R20-0088', 'R20-0030', 'R20-0150']"
   ]
  },
  {
   "cell_type": "code",
   "execution_count": 8,
   "metadata": {},
   "outputs": [],
   "source": [
    "long_reads_path = Path('/media/NGS/Nanopore_1/20200925/fastq/nanopore')\n",
    "contigs_path = Path('/media/NGS/Data_Analysis/20201221_hybrid_and_denovo/hybrid_sequences_mapping/genomes')\n",
    "outpath = Path('/media/NGS/Data_Analysis/20201221_hybrid_and_denovo/hybrid_sequences_mapping/lr/')"
   ]
  },
  {
   "cell_type": "code",
   "execution_count": 9,
   "metadata": {},
   "outputs": [],
   "source": [
    "for sample_name in sample_names:\n",
    "    query = long_reads_path/(sample_name + '.fastq')\n",
    "    reference = contigs_path/(sample_name + '.fa')\n",
    "    outfile = outpath/(sample_name + '.sort.bam')\n",
    "    cmd = f\" minimap2 -ax map-ont {reference} {query} -t 32 | samtools view -bS -@ 32 | samtools sort -@ 32 -o {outfile}\"\n",
    "    subprocess.run(cmd, shell=True, check=True)"
   ]
  },
  {
   "cell_type": "code",
   "execution_count": null,
   "metadata": {},
   "outputs": [],
   "source": []
  },
  {
   "cell_type": "code",
   "execution_count": 17,
   "metadata": {},
   "outputs": [],
   "source": [
    "dirpath = Path('/media/NGS/Nanopore_1/20200925/fastq/illumina')\n",
    "outpath = Path('/media/NGS/Data_Analysis/20201221_hybrid_and_denovo/hybrid_sequences_mapping/sr')\n",
    "\n",
    "pairwise = defaultdict(list)\n",
    "for filepath in dirpath.iterdir():\n",
    "    prefix = filepath.stem.split('_')[0]\n",
    "    pairwise[prefix].append(filepath.as_posix())"
   ]
  },
  {
   "cell_type": "code",
   "execution_count": 19,
   "metadata": {},
   "outputs": [],
   "source": [
    "for sample_name in sample_names:\n",
    "    query = ' '.join(pairwise[sample_name])\n",
    "    reference = contigs_path/(sample_name + '.fa')\n",
    "    outfile = outpath/(sample_name + '.sort.bam')\n",
    "    cmd = f\"minimap2 -ax sr {reference} {query} -t 32 | samtools view -bS -@ 32 | samtools sort -@ 32 -o {outfile}\"\n",
    "    subprocess.run(cmd, shell=True, check=True)"
   ]
  },
  {
   "cell_type": "code",
   "execution_count": 25,
   "metadata": {},
   "outputs": [],
   "source": [
    "dirpath = Path('/media/NGS/Data_Analysis/20201221_hybrid_and_denovo/hybrid_sequences_mapping/genomes')\n",
    "\n",
    "with Pool(12) as p:\n",
    "    try:\n",
    "        for filepath in dirpath.iterdir():\n",
    "            cmd = f\"samtools faidx {filepath}\"\n",
    "            p.apply_async(subprocess.run, (cmd,), {'shell': True, 'check': True})\n",
    "        p.close()\n",
    "        p.join()\n",
    "    except:\n",
    "        p.terminate()"
   ]
  },
  {
   "cell_type": "code",
   "execution_count": null,
   "metadata": {},
   "outputs": [],
   "source": []
  }
 ],
 "metadata": {
  "kernelspec": {
   "display_name": "Python 3",
   "language": "python",
   "name": "python3"
  },
  "language_info": {
   "codemirror_mode": {
    "name": "ipython",
    "version": 3
   },
   "file_extension": ".py",
   "mimetype": "text/x-python",
   "name": "python",
   "nbconvert_exporter": "python",
   "pygments_lexer": "ipython3",
   "version": "3.6.13"
  }
 },
 "nbformat": 4,
 "nbformat_minor": 4
}
