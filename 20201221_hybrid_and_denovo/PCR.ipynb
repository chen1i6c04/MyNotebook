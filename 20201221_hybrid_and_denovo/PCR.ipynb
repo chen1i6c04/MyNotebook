{
 "cells": [
  {
   "cell_type": "code",
   "execution_count": 1,
   "id": "1a562efb",
   "metadata": {},
   "outputs": [],
   "source": [
    "import subprocess\n",
    "from pathlib import Path\n",
    "import numpy as np\n",
    "import pandas as pd\n",
    "from matplotlib import pyplot as plt\n",
    "from matplotlib import ticker"
   ]
  },
  {
   "cell_type": "code",
   "execution_count": 3,
   "id": "f5ef4072-25ce-4d90-86ad-ba5b09103df7",
   "metadata": {},
   "outputs": [],
   "source": [
    "def read_depth_result(file):\n",
    "    df = pd.read_csv(file, sep='\\t', header=None, names=['depth'], usecols=[2])\n",
    "    return df\n",
    "\n",
    "def plot_each_position_depth(X, y, title, ax):\n",
    "    mean = np.mean(y)\n",
    "    std = np.std(y)\n",
    "    low_cov = np.sum(y<5)\n",
    "    ax.plot(X, y, label=f'mean depth :{mean:.2f}\\n' + r'$\\sigma$ :%.2f'%std + f'\\ndepth < 5 :{low_cov}')\n",
    "    ax.legend(frameon=True, shadow=True, fontsize=16, loc='upper left')\n",
    "    ax.axhline(mean, color='r', ls='--', lw=2)\n",
    "    ax.set_title(title, fontsize=18)"
   ]
  },
  {
   "cell_type": "code",
   "execution_count": 4,
   "id": "53da3404",
   "metadata": {},
   "outputs": [],
   "source": [
    "basepath = Path('/media/GenomicResearch/Issue/20201221_hybrid_and_denovo')\n",
    "dirnames = {\n",
    "    'Illumina': 'Illumina',\n",
    "    'Denovo': 'Nanopore normal',\n",
    "    'PCR': 'Nanopore PCR',\n",
    "    'PCR-2': 'Nanopore PCR-2',\n",
    "    'PCR-3': 'Nanopore PCR-3',\n",
    "    'PCR-4': 'Nanopore PCR-4',\n",
    "}\n",
    "sample_names = [\n",
    "    'R19-2905',\n",
    "    'R20-0026',\n",
    "    'R20-0030',\n",
    "    'R20-0088',\n",
    "    'R20-0127',\n",
    "    'R20-0131',\n",
    "    'R20-0140',\n",
    "    'R20-0145',\n",
    "    'R20-0148',\n",
    "    'R20-0150',\n",
    "    'R20-0158',\n",
    "    'R20-0160',\n",
    "]"
   ]
  },
  {
   "cell_type": "code",
   "execution_count": 5,
   "id": "28fd98aa-1f4a-45e2-8816-84aa374bd361",
   "metadata": {},
   "outputs": [],
   "source": [
    "for sample_name in sample_names:\n",
    "    files = {}\n",
    "    for dirname, title in dirnames.items():\n",
    "        file = basepath/dirname/'Depth'/(sample_name + '.txt')\n",
    "        if file.exists():\n",
    "            files[title] = file\n",
    "    num = len(files)\n",
    "    fig, axes = plt.subplots(num, 1, figsize=(24, 5*num))\n",
    "    for idx, (title, file) in enumerate(files.items()):\n",
    "        data = read_depth_result(file)\n",
    "        ax = axes[idx]\n",
    "        plot_each_position_depth(data.index, data['depth'], title, ax)\n",
    "        legend = ax.legend(loc='upper left', fontsize=14, handlelength=0, handletextpad=0, fancybox=True, frameon=True, framealpha=1)\n",
    "        for item in legend.legendHandles:\n",
    "            item.set_visible(False)\n",
    "    plt.close()\n",
    "    fig.savefig(basepath/'PCR_Stats'/'Coverage'/(sample_name + '.png'), bbox_inches='tight', facecolor='w')"
   ]
  },
  {
   "cell_type": "code",
   "execution_count": null,
   "id": "8739a796-4b3b-4473-b32c-b60c8351b744",
   "metadata": {},
   "outputs": [],
   "source": []
  },
  {
   "cell_type": "code",
   "execution_count": null,
   "id": "10e03d1c-1944-4576-bf52-2da69ef46153",
   "metadata": {},
   "outputs": [],
   "source": []
  },
  {
   "cell_type": "code",
   "execution_count": null,
   "id": "4cdfb6a6-d2ab-4e55-9495-ba5940198d18",
   "metadata": {},
   "outputs": [],
   "source": [
    "import seaborn as sns"
   ]
  },
  {
   "cell_type": "code",
   "execution_count": null,
   "id": "70841751",
   "metadata": {},
   "outputs": [],
   "source": [
    "df = pd.read_csv('/media/GenomicResearch/Issue/20201221_hybrid_and_denovo/PCR_Stats.csv')\n",
    "df"
   ]
  },
  {
   "cell_type": "code",
   "execution_count": null,
   "id": "e9996753-d331-4c40-8ff7-bc9055af4224",
   "metadata": {},
   "outputs": [],
   "source": [
    "df = df.drop(['date', 'sample', 'barcode_number'], axis=1)"
   ]
  },
  {
   "cell_type": "code",
   "execution_count": null,
   "id": "fff6e98d-3ee9-430b-948d-4a68e960c9bc",
   "metadata": {},
   "outputs": [],
   "source": [
    "corr = df.corr()"
   ]
  },
  {
   "cell_type": "code",
   "execution_count": null,
   "id": "a050bfd3-9afd-4bc1-a505-97779ca3dda9",
   "metadata": {},
   "outputs": [],
   "source": [
    "fig, ax = plt.subplots(figsize=(8, 6))\n",
    "sns.heatmap(corr, fmt='.2f', annot=True, cmap='coolwarm', vmin=-1, ax=ax)"
   ]
  },
  {
   "cell_type": "code",
   "execution_count": null,
   "id": "6af7aea8-97d5-4f8f-a72c-b31084f88710",
   "metadata": {},
   "outputs": [],
   "source": [
    "fig.savefig('/media/GenomicResearch/Issue/20201221_hybrid_and_denovo/PCR_Stats/correlation.png',\n",
    "            bbox_inches='tight', facecolor='w', dpi=150)"
   ]
  },
  {
   "cell_type": "code",
   "execution_count": null,
   "id": "8c2dfb0f-20a6-4081-a11a-39e3f87c8509",
   "metadata": {},
   "outputs": [],
   "source": []
  }
 ],
 "metadata": {
  "kernelspec": {
   "display_name": "Python 3",
   "language": "python",
   "name": "python3"
  },
  "language_info": {
   "codemirror_mode": {
    "name": "ipython",
    "version": 3
   },
   "file_extension": ".py",
   "mimetype": "text/x-python",
   "name": "python",
   "nbconvert_exporter": "python",
   "pygments_lexer": "ipython3",
   "version": "3.6.13"
  }
 },
 "nbformat": 4,
 "nbformat_minor": 5
}
