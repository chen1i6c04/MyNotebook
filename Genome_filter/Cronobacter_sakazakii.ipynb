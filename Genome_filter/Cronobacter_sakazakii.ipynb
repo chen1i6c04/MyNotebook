{
 "cells": [
  {
   "cell_type": "code",
   "execution_count": 1,
   "metadata": {},
   "outputs": [],
   "source": [
    "%matplotlib inline\n",
    "from sklearn import linear_model\n",
    "import scipy.stats\n",
    "import os\n",
    "import shutil\n",
    "import re\n",
    "import numpy as np\n",
    "import pandas as pd\n",
    "import seaborn as sns\n",
    "from concurrent.futures import ProcessPoolExecutor\n",
    "import matplotlib.pyplot as plt\n",
    "from Bio import SeqIO\n",
    "from src import contig_stats\n",
    "sns.set_style(\"whitegrid\")"
   ]
  },
  {
   "cell_type": "code",
   "execution_count": 2,
   "metadata": {},
   "outputs": [],
   "source": [
    "path = \"/media/NGS/Sequence/Cronobacter_sakazakii/NCBI\""
   ]
  },
  {
   "cell_type": "code",
   "execution_count": 3,
   "metadata": {},
   "outputs": [],
   "source": [
    "def run(args):\n",
    "    fasta, file = args\n",
    "    id = re.sub(r\".fna$\", \"\", file)\n",
    "    n25, n50, n75, m, c = contig_stats.stats(list(SeqIO.parse(fasta, \"fasta\")))\n",
    "    return id, n25, n50, n75, m, c"
   ]
  },
  {
   "cell_type": "code",
   "execution_count": 4,
   "metadata": {},
   "outputs": [],
   "source": [
    "args = ((os.path.join(path, file), file) for file in os.listdir(path))\n",
    "data = list(ProcessPoolExecutor(25).map(run, args))"
   ]
  },
  {
   "cell_type": "code",
   "execution_count": 5,
   "metadata": {},
   "outputs": [
    {
     "data": {
      "text/html": [
       "<div>\n",
       "<style scoped>\n",
       "    .dataframe tbody tr th:only-of-type {\n",
       "        vertical-align: middle;\n",
       "    }\n",
       "\n",
       "    .dataframe tbody tr th {\n",
       "        vertical-align: top;\n",
       "    }\n",
       "\n",
       "    .dataframe thead th {\n",
       "        text-align: right;\n",
       "    }\n",
       "</style>\n",
       "<table border=\"1\" class=\"dataframe\">\n",
       "  <thead>\n",
       "    <tr style=\"text-align: right;\">\n",
       "      <th></th>\n",
       "      <th>id</th>\n",
       "      <th>N25</th>\n",
       "      <th>N50</th>\n",
       "      <th>N75</th>\n",
       "      <th>total_length</th>\n",
       "      <th>counts</th>\n",
       "    </tr>\n",
       "  </thead>\n",
       "  <tbody>\n",
       "    <tr>\n",
       "      <th>0</th>\n",
       "      <td>GCA_002993165.1</td>\n",
       "      <td>604849</td>\n",
       "      <td>282260</td>\n",
       "      <td>193815</td>\n",
       "      <td>4408432</td>\n",
       "      <td>42</td>\n",
       "    </tr>\n",
       "    <tr>\n",
       "      <th>1</th>\n",
       "      <td>GCA_002977245.1</td>\n",
       "      <td>1742689</td>\n",
       "      <td>327137</td>\n",
       "      <td>170157</td>\n",
       "      <td>4345241</td>\n",
       "      <td>49</td>\n",
       "    </tr>\n",
       "    <tr>\n",
       "      <th>2</th>\n",
       "      <td>GCA_002974935.1</td>\n",
       "      <td>453013</td>\n",
       "      <td>191592</td>\n",
       "      <td>116645</td>\n",
       "      <td>4577351</td>\n",
       "      <td>48</td>\n",
       "    </tr>\n",
       "    <tr>\n",
       "      <th>3</th>\n",
       "      <td>GCA_002075775.1</td>\n",
       "      <td>487104</td>\n",
       "      <td>378588</td>\n",
       "      <td>235285</td>\n",
       "      <td>4690622</td>\n",
       "      <td>45</td>\n",
       "    </tr>\n",
       "    <tr>\n",
       "      <th>4</th>\n",
       "      <td>GCA_002094595.1</td>\n",
       "      <td>20294</td>\n",
       "      <td>12004</td>\n",
       "      <td>6885</td>\n",
       "      <td>4164128</td>\n",
       "      <td>617</td>\n",
       "    </tr>\n",
       "  </tbody>\n",
       "</table>\n",
       "</div>"
      ],
      "text/plain": [
       "                id      N25     N50     N75  total_length  counts\n",
       "0  GCA_002993165.1   604849  282260  193815       4408432      42\n",
       "1  GCA_002977245.1  1742689  327137  170157       4345241      49\n",
       "2  GCA_002974935.1   453013  191592  116645       4577351      48\n",
       "3  GCA_002075775.1   487104  378588  235285       4690622      45\n",
       "4  GCA_002094595.1    20294   12004    6885       4164128     617"
      ]
     },
     "execution_count": 5,
     "metadata": {},
     "output_type": "execute_result"
    }
   ],
   "source": [
    "table = pd.DataFrame(data, columns=[\"id\", \"N25\", \"N50\", \"N75\", \"total_length\", \"counts\"])\n",
    "table.head()"
   ]
  },
  {
   "cell_type": "code",
   "execution_count": 6,
   "metadata": {},
   "outputs": [
    {
     "data": {
      "text/html": [
       "<div>\n",
       "<style scoped>\n",
       "    .dataframe tbody tr th:only-of-type {\n",
       "        vertical-align: middle;\n",
       "    }\n",
       "\n",
       "    .dataframe tbody tr th {\n",
       "        vertical-align: top;\n",
       "    }\n",
       "\n",
       "    .dataframe thead th {\n",
       "        text-align: right;\n",
       "    }\n",
       "</style>\n",
       "<table border=\"1\" class=\"dataframe\">\n",
       "  <thead>\n",
       "    <tr style=\"text-align: right;\">\n",
       "      <th></th>\n",
       "      <th>id</th>\n",
       "      <th>N25</th>\n",
       "      <th>N50</th>\n",
       "      <th>N75</th>\n",
       "      <th>total_length</th>\n",
       "      <th>counts</th>\n",
       "      <th>Query_Coverage</th>\n",
       "      <th>Template_Coverage</th>\n",
       "      <th>Species</th>\n",
       "    </tr>\n",
       "  </thead>\n",
       "  <tbody>\n",
       "    <tr>\n",
       "      <th>0</th>\n",
       "      <td>GCA_002993165.1</td>\n",
       "      <td>604849</td>\n",
       "      <td>282260</td>\n",
       "      <td>193815</td>\n",
       "      <td>4408432</td>\n",
       "      <td>42</td>\n",
       "      <td>69.37</td>\n",
       "      <td>72.31</td>\n",
       "      <td>Cronobacter sakazakii</td>\n",
       "    </tr>\n",
       "    <tr>\n",
       "      <th>1</th>\n",
       "      <td>GCA_002977245.1</td>\n",
       "      <td>1742689</td>\n",
       "      <td>327137</td>\n",
       "      <td>170157</td>\n",
       "      <td>4345241</td>\n",
       "      <td>49</td>\n",
       "      <td>69.89</td>\n",
       "      <td>71.83</td>\n",
       "      <td>Cronobacter sakazakii</td>\n",
       "    </tr>\n",
       "    <tr>\n",
       "      <th>2</th>\n",
       "      <td>GCA_002974935.1</td>\n",
       "      <td>453013</td>\n",
       "      <td>191592</td>\n",
       "      <td>116645</td>\n",
       "      <td>4577351</td>\n",
       "      <td>48</td>\n",
       "      <td>65.10</td>\n",
       "      <td>70.47</td>\n",
       "      <td>Cronobacter sakazakii</td>\n",
       "    </tr>\n",
       "    <tr>\n",
       "      <th>3</th>\n",
       "      <td>GCA_002075775.1</td>\n",
       "      <td>487104</td>\n",
       "      <td>378588</td>\n",
       "      <td>235285</td>\n",
       "      <td>4690622</td>\n",
       "      <td>45</td>\n",
       "      <td>85.73</td>\n",
       "      <td>94.11</td>\n",
       "      <td>Cronobacter sakazakii</td>\n",
       "    </tr>\n",
       "    <tr>\n",
       "      <th>4</th>\n",
       "      <td>GCA_002094595.1</td>\n",
       "      <td>20294</td>\n",
       "      <td>12004</td>\n",
       "      <td>6885</td>\n",
       "      <td>4164128</td>\n",
       "      <td>617</td>\n",
       "      <td>71.65</td>\n",
       "      <td>68.64</td>\n",
       "      <td>Cronobacter sakazakii</td>\n",
       "    </tr>\n",
       "  </tbody>\n",
       "</table>\n",
       "</div>"
      ],
      "text/plain": [
       "                id      N25     N50     N75  total_length  counts  \\\n",
       "0  GCA_002993165.1   604849  282260  193815       4408432      42   \n",
       "1  GCA_002977245.1  1742689  327137  170157       4345241      49   \n",
       "2  GCA_002974935.1   453013  191592  116645       4577351      48   \n",
       "3  GCA_002075775.1   487104  378588  235285       4690622      45   \n",
       "4  GCA_002094595.1    20294   12004    6885       4164128     617   \n",
       "\n",
       "   Query_Coverage  Template_Coverage                Species  \n",
       "0           69.37              72.31  Cronobacter sakazakii  \n",
       "1           69.89              71.83  Cronobacter sakazakii  \n",
       "2           65.10              70.47  Cronobacter sakazakii  \n",
       "3           85.73              94.11  Cronobacter sakazakii  \n",
       "4           71.65              68.64  Cronobacter sakazakii  "
      ]
     },
     "execution_count": 6,
     "metadata": {},
     "output_type": "execute_result"
    }
   ],
   "source": [
    "identify = pd.read_csv('/media/NGS/Sequence/Cronobacter_sakazakii/Identify.csv', index_col=0)\n",
    "identify = identify[(identify['Species'] == 'Cronobacter sakazakii')]\n",
    "table = pd.merge(table, identify, left_on='id', right_index=True)\n",
    "table.head()"
   ]
  },
  {
   "cell_type": "markdown",
   "metadata": {},
   "source": [
    "# Combine metadata selection"
   ]
  },
  {
   "cell_type": "code",
   "execution_count": 7,
   "metadata": {},
   "outputs": [
    {
     "name": "stderr",
     "output_type": "stream",
     "text": [
      "/home/chen1i6c04/.conda/envs/Notebook/lib/python3.6/site-packages/pandas/core/ops.py:1649: FutureWarning: elementwise comparison failed; returning scalar instead, but in the future will perform elementwise comparison\n",
      "  result = method(y)\n"
     ]
    }
   ],
   "source": [
    "metafile = \"/media/NGS/Sequence/Cronobacter_sakazakii/METADATA.csv\"\n",
    "meta = pd.read_csv(metafile)\n",
    "meta = meta[meta[\"GC%\"] != \"-\"]\n",
    "meta[\"GC%\"] = meta['GC%'].astype(float)"
   ]
  },
  {
   "cell_type": "code",
   "execution_count": 8,
   "metadata": {},
   "outputs": [],
   "source": [
    "curated = pd.merge(table, meta, left_index=True, left_on='id', right_on=\"Assembly\")"
   ]
  },
  {
   "cell_type": "code",
   "execution_count": 9,
   "metadata": {},
   "outputs": [],
   "source": [
    "def fence(df, subset):\n",
    "    std = curated[subset].std()\n",
    "    mean = curated[subset].mean()\n",
    "    return (curated[subset]>(mean - 2*std))&(curated[subset]<(mean + 2*std))"
   ]
  },
  {
   "cell_type": "code",
   "execution_count": 10,
   "metadata": {},
   "outputs": [],
   "source": [
    "curated['outlier'] = ~(fence(curated ,'GC%')&fence(curated, 'Size (Mb)'))"
   ]
  },
  {
   "cell_type": "code",
   "execution_count": 11,
   "metadata": {},
   "outputs": [
    {
     "data": {
      "text/plain": [
       "<seaborn.axisgrid.FacetGrid at 0x7f75cf08aa90>"
      ]
     },
     "execution_count": 11,
     "metadata": {},
     "output_type": "execute_result"
    },
    {
     "data": {
      "image/png": "[encoded data removed]",
      "text/plain": [
       "<Figure size 782.125x720 with 1 Axes>"
      ]
     },
     "metadata": {
      "needs_background": "light"
     },
     "output_type": "display_data"
    }
   ],
   "source": [
    "sns.lmplot(data=curated, x=\"Size (Mb)\", y=\"GC%\", fit_reg=False, height=10, hue='outlier')"
   ]
  },
  {
   "cell_type": "code",
   "execution_count": 12,
   "metadata": {},
   "outputs": [
    {
     "data": {
      "text/plain": [
       "(358, 30)"
      ]
     },
     "execution_count": 12,
     "metadata": {},
     "output_type": "execute_result"
    }
   ],
   "source": [
    "curated = curated[~curated['outlier']]\n",
    "curated.shape"
   ]
  },
  {
   "cell_type": "markdown",
   "metadata": {},
   "source": [
    "# N25, N50, N75"
   ]
  },
  {
   "cell_type": "code",
   "execution_count": 13,
   "metadata": {},
   "outputs": [
    {
     "data": {
      "text/plain": [
       "Text(0, 0.5, 'number')"
      ]
     },
     "execution_count": 13,
     "metadata": {},
     "output_type": "execute_result"
    },
    {
     "data": {
      "image/png": "[encoded data removed]",
      "text/plain": [
       "<Figure size 1152x864 with 1 Axes>"
      ]
     },
     "metadata": {
      "needs_background": "light"
     },
     "output_type": "display_data"
    }
   ],
   "source": [
    "fig, ax = plt.subplots(1, 1, figsize=(16, 12))\n",
    "ax.hist(curated[\"N25\"], bins=50, histtype=\"step\", cumulative=True, lw=2.5, label=\"N25\")\n",
    "ax.hist(curated[\"N50\"], bins=50, histtype=\"step\", cumulative=True, lw=2.5, label=\"N50\")\n",
    "ax.hist(curated[\"N75\"], bins=50, histtype=\"step\", cumulative=True, lw=2.5, label=\"N75\")\n",
    "ax.legend(loc='lower center', shadow=True, fontsize='x-large')\n",
    "plt.xlabel(\"length (bp)\", fontsize=20)\n",
    "plt.ylabel(\"number\", fontsize=20)"
   ]
  },
  {
   "cell_type": "code",
   "execution_count": 14,
   "metadata": {},
   "outputs": [
    {
     "data": {
      "text/plain": [
       "Text(0, 0.5, 'number')"
      ]
     },
     "execution_count": 14,
     "metadata": {},
     "output_type": "execute_result"
    },
    {
     "data": {
      "image/png": "[encoded data removed]",
      "text/plain": [
       "<Figure size 1152x864 with 1 Axes>"
      ]
     },
     "metadata": {
      "needs_background": "light"
     },
     "output_type": "display_data"
    }
   ],
   "source": [
    "fig, ax = plt.subplots(1, 1, figsize=(16, 12))\n",
    "ax.hist(np.log10(curated[\"N25\"]), bins=50, histtype=\"step\", cumulative=True, lw=2.5, label=\"N25\")\n",
    "ax.hist(np.log10(curated[\"N50\"]), bins=50, histtype=\"step\", cumulative=True, lw=2.5, label=\"N50\")\n",
    "ax.hist(np.log10(curated[\"N75\"]), bins=50, histtype=\"step\", cumulative=True, lw=2.5, label=\"N75\")\n",
    "ax.legend(loc='upper left', shadow=True, fontsize='x-large')\n",
    "plt.xlabel(\"length ($log_{10}$ bp)\", fontsize=20)\n",
    "plt.ylabel(\"number\", fontsize=20)"
   ]
  },
  {
   "cell_type": "markdown",
   "metadata": {},
   "source": [
    "# comparison with serotypes"
   ]
  },
  {
   "cell_type": "code",
   "execution_count": 16,
   "metadata": {},
   "outputs": [
    {
     "data": {
      "text/plain": [
       "(214, 30)"
      ]
     },
     "execution_count": 16,
     "metadata": {},
     "output_type": "execute_result"
    }
   ],
   "source": [
    "curated = curated[curated['N50'] >= 10 ** 5.3]\n",
    "curated.shape"
   ]
  },
  {
   "cell_type": "code",
   "execution_count": 17,
   "metadata": {},
   "outputs": [
    {
     "data": {
      "text/plain": [
       "Text(0.5, 1.0, 'Genome contig number distribution')"
      ]
     },
     "execution_count": 17,
     "metadata": {},
     "output_type": "execute_result"
    },
    {
     "data": {
      "image/png": "[encoded data removed]",
      "text/plain": [
       "<Figure size 1152x864 with 1 Axes>"
      ]
     },
     "metadata": {
      "needs_background": "light"
     },
     "output_type": "display_data"
    }
   ],
   "source": [
    "fig, ax = plt.subplots(1, 1, figsize=(16, 12))\n",
    "ax.hist(curated[\"counts\"], bins=50)\n",
    "plt.xlabel(\"number of contigs\", fontsize=20)\n",
    "plt.ylabel(\"number\", fontsize=20)\n",
    "plt.title(\"Genome contig number distribution\", fontsize=28)"
   ]
  },
  {
   "cell_type": "code",
   "execution_count": 20,
   "metadata": {},
   "outputs": [],
   "source": [
    "for i in curated['id']:\n",
    "    shutil.copy(os.path.join(path, i + '.fna'), '/media/NGS/Sequence/Campylobacter_jejuni/NCBI_clean')"
   ]
  },
  {
   "cell_type": "code",
   "execution_count": null,
   "metadata": {},
   "outputs": [],
   "source": []
  }
 ],
 "metadata": {
  "kernelspec": {
   "display_name": "Python 3",
   "language": "python",
   "name": "python3"
  },
  "language_info": {
   "codemirror_mode": {
    "name": "ipython",
    "version": 3
   },
   "file_extension": ".py",
   "mimetype": "text/x-python",
   "name": "python",
   "nbconvert_exporter": "python",
   "pygments_lexer": "ipython3",
   "version": "3.6.8"
  }
 },
 "nbformat": 4,
 "nbformat_minor": 2
}
